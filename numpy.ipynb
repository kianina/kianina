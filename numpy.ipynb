{
 "cells": [
  {
   "attachments": {},
   "cell_type": "markdown",
   "id": "67351514",
   "metadata": {},
   "source": [
    "# ndarray多维数组"
   ]
  },
  {
   "attachments": {},
   "cell_type": "markdown",
   "id": "3ac63ac8",
   "metadata": {},
   "source": [
    "## ndarrays的创建"
   ]
  },
  {
   "cell_type": "code",
   "execution_count": 1,
   "id": "767ce72b",
   "metadata": {},
   "outputs": [],
   "source": [
    "import numpy as np"
   ]
  },
  {
   "cell_type": "code",
   "execution_count": 2,
   "id": "0ef5e483",
   "metadata": {},
   "outputs": [
    {
     "data": {
      "text/plain": [
       "array([[0.99972352, 0.77051851, 0.19479581, 0.52539055],\n",
       "       [0.53097509, 0.07203948, 0.3069445 , 0.17776225],\n",
       "       [0.67524158, 0.96501427, 0.90398988, 0.70919207]])"
      ]
     },
     "execution_count": 2,
     "metadata": {},
     "output_type": "execute_result"
    }
   ],
   "source": [
    "#rand固定区间0.0 - 1.0\n",
    "arr = np.random.rand(3, 4)\n",
    "arr"
   ]
  },
  {
   "cell_type": "code",
   "execution_count": 3,
   "id": "f18a2449",
   "metadata": {},
   "outputs": [
    {
     "data": {
      "text/plain": [
       "array([[4, 4, 3, 4],\n",
       "       [3, 3, 3, 4],\n",
       "       [4, 3, 3, 4]])"
      ]
     },
     "execution_count": 3,
     "metadata": {},
     "output_type": "execute_result"
    }
   ],
   "source": [
    "#randint()可以指定区间\n",
    "arr=np.random.randint(3,5,size=(3,4))\n",
    "arr"
   ]
  },
  {
   "cell_type": "code",
   "execution_count": 4,
   "id": "5585833e",
   "metadata": {},
   "outputs": [
    {
     "data": {
      "text/plain": [
       "array([[ 4.1693945 , 11.19839915, 18.81550458,  9.4976463 ],\n",
       "       [15.06694577, 17.66473942, 10.95073443, 15.57893048],\n",
       "       [11.49221494, 15.822632  ,  9.35088755,  5.97604177]])"
      ]
     },
     "execution_count": 4,
     "metadata": {},
     "output_type": "execute_result"
    }
   ],
   "source": [
    "#uniform()可以指定区间\n",
    "arr = np.random.uniform(4, 19, size=(3, 4))\n",
    "arr"
   ]
  },
  {
   "attachments": {},
   "cell_type": "markdown",
   "id": "0b680eda",
   "metadata": {},
   "source": [
    "## ndarray的序列创建"
   ]
  },
  {
   "attachments": {},
   "cell_type": "markdown",
   "id": "0827d778",
   "metadata": {},
   "source": [
    "1. np.array(collection)"
   ]
  },
  {
   "cell_type": "code",
   "execution_count": 5,
   "id": "6d809cf1",
   "metadata": {},
   "outputs": [
    {
     "data": {
      "text/plain": [
       "array([0, 1, 2, 3, 4, 5, 6, 7, 8, 9])"
      ]
     },
     "execution_count": 5,
     "metadata": {},
     "output_type": "execute_result"
    }
   ],
   "source": [
    "#collection 为 序列型对象(list)、嵌套序列对象(list of list)。\n",
    "list = range(10)\n",
    "arr = np.array(list)\n",
    "arr"
   ]
  },
  {
   "cell_type": "code",
   "execution_count": 6,
   "id": "d12c9610",
   "metadata": {},
   "outputs": [
    {
     "data": {
      "text/plain": [
       "array([[0, 1, 2, 3, 4, 5, 6, 7, 8, 9],\n",
       "       [0, 1, 2, 3, 4, 5, 6, 7, 8, 9]])"
      ]
     },
     "execution_count": 6,
     "metadata": {},
     "output_type": "execute_result"
    }
   ],
   "source": [
    "list_li = [range(10), range(10)]\n",
    "arr = np.array(list_li)\n",
    "arr"
   ]
  },
  {
   "attachments": {},
   "cell_type": "markdown",
   "id": "aab3e9d1",
   "metadata": {},
   "source": [
    "2. np.zeros()"
   ]
  },
  {
   "cell_type": "code",
   "execution_count": 11,
   "id": "2c3ea344",
   "metadata": {},
   "outputs": [
    {
     "name": "stdout",
     "output_type": "stream",
     "text": [
      "[[0. 0. 0. 0.]\n",
      " [0. 0. 0. 0.]\n",
      " [0. 0. 0. 0.]]\n"
     ]
    }
   ],
   "source": [
    "zeros_arr=np.zeros((3,4))\n",
    "print(zeros_arr)"
   ]
  },
  {
   "attachments": {},
   "cell_type": "markdown",
   "id": "263b0c34",
   "metadata": {},
   "source": [
    "3. np.ones()"
   ]
  },
  {
   "cell_type": "code",
   "execution_count": 13,
   "id": "a45fa60b",
   "metadata": {},
   "outputs": [
    {
     "name": "stdout",
     "output_type": "stream",
     "text": [
      "[[1. 1. 1. 1.]\n",
      " [1. 1. 1. 1.]\n",
      " [1. 1. 1. 1.]]\n"
     ]
    }
   ],
   "source": [
    "ones_arr=np.ones((3,4))\n",
    "print(ones_arr)"
   ]
  },
  {
   "attachments": {},
   "cell_type": "markdown",
   "id": "deab4985",
   "metadata": {},
   "source": [
    "4. np.empty()"
   ]
  },
  {
   "cell_type": "code",
   "execution_count": 14,
   "id": "13ec8f62",
   "metadata": {},
   "outputs": [
    {
     "name": "stdout",
     "output_type": "stream",
     "text": [
      "[[1. 1. 1. 1.]\n",
      " [1. 1. 1. 1.]\n",
      " [1. 1. 1. 1.]]\n"
     ]
    }
   ],
   "source": [
    "empty_arr=np.empty((3,4))\n",
    "print(empty_arr)"
   ]
  },
  {
   "attachments": {},
   "cell_type": "markdown",
   "id": "f20f56aa",
   "metadata": {},
   "source": [
    "5. np.arange()和reshape()"
   ]
  },
  {
   "cell_type": "code",
   "execution_count": 18,
   "id": "47a3c945",
   "metadata": {},
   "outputs": [
    {
     "name": "stdout",
     "output_type": "stream",
     "text": [
      "[0 1 2 3 4 5 6 7 8 9]\n",
      "[[0 1 2 3 4]\n",
      " [5 6 7 8 9]]\n"
     ]
    }
   ],
   "source": [
    "arr=np.arange(10)\n",
    "print(arr)\n",
    "print(arr.reshape(2,5))"
   ]
  },
  {
   "attachments": {},
   "cell_type": "markdown",
   "id": "477d734e",
   "metadata": {},
   "source": [
    "6. np.arange() 和 random.shuffle()"
   ]
  },
  {
   "cell_type": "code",
   "execution_count": 23,
   "id": "d152d651",
   "metadata": {},
   "outputs": [
    {
     "name": "stdout",
     "output_type": "stream",
     "text": [
      "[ 0  1  2  3  4  5  6  7  8  9 10 11 12 13 14]\n",
      "[ 1  2 12  5  9  7  4 10 14  3  6 11  0 13  8]\n"
     ]
    }
   ],
   "source": [
    "arr=np.arange(15)\n",
    "print(arr)\n",
    "np.random.shuffle(arr)\n",
    "print(arr)"
   ]
  },
  {
   "attachments": {},
   "cell_type": "markdown",
   "id": "dcfae52f",
   "metadata": {},
   "source": [
    "# ndarray的数据类型"
   ]
  },
  {
   "attachments": {},
   "cell_type": "markdown",
   "id": "6409a275",
   "metadata": {},
   "source": [
    "1. dtype参数"
   ]
  },
  {
   "cell_type": "code",
   "execution_count": null,
   "id": "ea399118",
   "metadata": {},
   "outputs": [],
   "source": [
    "# 指定数组的数据类型，类型名+位数，如float64, int32"
   ]
  },
  {
   "attachments": {},
   "cell_type": "markdown",
   "id": "1f0a5611",
   "metadata": {},
   "source": [
    "2. astype方法"
   ]
  },
  {
   "cell_type": "code",
   "execution_count": 7,
   "id": "dc1f6da9",
   "metadata": {},
   "outputs": [
    {
     "name": "stdout",
     "output_type": "stream",
     "text": [
      "[[0. 0. 0. 0.]\n",
      " [0. 0. 0. 0.]\n",
      " [0. 0. 0. 0.]]\n",
      "float64\n",
      "[[0 0 0 0]\n",
      " [0 0 0 0]\n",
      " [0 0 0 0]]\n",
      "int32\n"
     ]
    }
   ],
   "source": [
    "# 初始化3行4列数组，数据类型为float64\n",
    "float_arr=np.zeros((3,4),dtype=np.float64)\n",
    "print(float_arr)\n",
    "print(float_arr.dtype)\n",
    "# astype转换数据类型，将已有的数组的数据类型转换为int32\n",
    "int_arr=float_arr.astype(np.int32)\n",
    "print(int_arr)\n",
    "print(int_arr.dtype)"
   ]
  },
  {
   "attachments": {},
   "cell_type": "markdown",
   "id": "0d9e40f3",
   "metadata": {},
   "source": [
    "# ndarray的矩阵运算"
   ]
  },
  {
   "attachments": {},
   "cell_type": "markdown",
   "id": "da25aa30",
   "metadata": {},
   "source": [
    "1. 矢量运算：相同大小的数组间运算应用在元素上"
   ]
  },
  {
   "cell_type": "code",
   "execution_count": 8,
   "id": "9b2b5c6a",
   "metadata": {},
   "outputs": [
    {
     "name": "stdout",
     "output_type": "stream",
     "text": [
      "[[0 1 2]\n",
      " [3 4 5]]\n",
      "[[ 0  2  4]\n",
      " [ 6  8 10]]\n",
      "[[ 0  1  4]\n",
      " [ 9 16 25]]\n"
     ]
    }
   ],
   "source": [
    "arr=np.arange(6).reshape(2,3)\n",
    "print(arr)\n",
    "#矩阵相加\n",
    "print(arr+arr)\n",
    "#矩阵相乘\n",
    "print(arr*arr)"
   ]
  },
  {
   "attachments": {},
   "cell_type": "markdown",
   "id": "aa950712",
   "metadata": {},
   "source": [
    "2. 矢量和标量运算：\"广播\" - 将标量\"广播\"到各个元素"
   ]
  },
  {
   "cell_type": "code",
   "execution_count": 9,
   "id": "c66706dc",
   "metadata": {},
   "outputs": [
    {
     "name": "stdout",
     "output_type": "stream",
     "text": [
      "[[0.         0.33333333 0.66666667]\n",
      " [1.         1.33333333 1.66666667]]\n",
      "[[12 13 14]\n",
      " [15 16 17]]\n"
     ]
    }
   ],
   "source": [
    "arr=np.arange(6).reshape(2,3)\n",
    "print(arr/3.)\n",
    "print(arr+12)"
   ]
  },
  {
   "attachments": {},
   "cell_type": "markdown",
   "id": "6b3dd810",
   "metadata": {},
   "source": [
    "# ndarray的索引与切片"
   ]
  },
  {
   "cell_type": "code",
   "execution_count": 10,
   "id": "e44c3adc",
   "metadata": {},
   "outputs": [
    {
     "name": "stdout",
     "output_type": "stream",
     "text": [
      "[3 4 5]\n"
     ]
    }
   ],
   "source": [
    "#一维数组\n",
    "arr=np.arange(19)\n",
    "print(arr[3:6])"
   ]
  },
  {
   "attachments": {},
   "cell_type": "markdown",
   "id": "aca223c5",
   "metadata": {},
   "source": [
    "\n",
    "arr[r1:r2, c1:c2]\n",
    "\n",
    "arr[1,1] 等价 arr[1][1]\n",
    "\n",
    "[:] 代表某个维度的数据"
   ]
  },
  {
   "cell_type": "code",
   "execution_count": 11,
   "id": "6e3799cc",
   "metadata": {},
   "outputs": [
    {
     "name": "stdout",
     "output_type": "stream",
     "text": [
      "[[ 0  1  2  3]\n",
      " [ 4  5  6  7]\n",
      " [ 8  9 10 11]]\n",
      "[[5]]\n"
     ]
    }
   ],
   "source": [
    "#多维数组\n",
    "arr=np.arange(12).reshape(3,4)\n",
    "print(arr)\n",
    "print(arr[1:2,1:2])\n"
   ]
  },
  {
   "attachments": {},
   "cell_type": "markdown",
   "id": "a72cebc0",
   "metadata": {},
   "source": [
    "3. 条件索引"
   ]
  },
  {
   "cell_type": "code",
   "execution_count": 12,
   "id": "394b7c31",
   "metadata": {},
   "outputs": [
    {
     "name": "stdout",
     "output_type": "stream",
     "text": [
      "[[0.243472   0.66340088 0.24234669]\n",
      " [0.76050578 0.33869252 0.50999035]\n",
      " [0.93916429 0.884982   0.19279273]]\n",
      "[[False False False]\n",
      " [False False  True]\n",
      " [ True  True  True]] bool\n",
      "[0.243472   0.24234669 0.33869252 0.50999035 0.93916429 0.884982\n",
      " 0.19279273]\n"
     ]
    }
   ],
   "source": [
    "data_arr=np.random.rand(3,3)\n",
    "print(data_arr)\n",
    "year_arr=np.array([[2000,2001,2002],\n",
    "                [2003,2004,20005],\n",
    "                [2006,2007,2008]])\n",
    "year_2005=year_arr>=2005\n",
    "print(year_2005,year_2005.dtype)\n",
    "\n",
    "fitt_arr=data_arr[(year_arr<=2005)&(year_arr)%2==0]\n",
    "print(fitt_arr)"
   ]
  },
  {
   "attachments": {},
   "cell_type": "markdown",
   "id": "305c04dc",
   "metadata": {},
   "source": [
    "# ndarray的维数转换"
   ]
  },
  {
   "cell_type": "code",
   "execution_count": null,
   "id": "396c5564",
   "metadata": {},
   "outputs": [],
   "source": [
    "# 二维数组直接使用转换函数：transpose()\n",
    "\n",
    "# 高维数组转换要指定维度编号参数 (0, 1, 2, …)，注意参数是元组"
   ]
  },
  {
   "cell_type": "code",
   "execution_count": 13,
   "id": "add0648d",
   "metadata": {},
   "outputs": [
    {
     "name": "stdout",
     "output_type": "stream",
     "text": [
      "[[10 10 11 10]\n",
      " [ 4  2  8  7]\n",
      " [ 6  6 12  6]]\n",
      "[[10  4  6]\n",
      " [10  2  6]\n",
      " [11  8 12]\n",
      " [10  7  6]]\n"
     ]
    }
   ],
   "source": [
    "arr = np.random.randint(2,13,size=(3,4))    # 2x3 数组\n",
    "print(arr)    \n",
    "print(arr.transpose()) # 转换为 3x2 数组"
   ]
  },
  {
   "cell_type": "code",
   "execution_count": 14,
   "id": "e87c6204",
   "metadata": {},
   "outputs": [
    {
     "name": "stdout",
     "output_type": "stream",
     "text": [
      "[[[ 4 15 33 19]\n",
      "  [22  3 33 18]\n",
      "  [12 20 31 23]]\n",
      "\n",
      " [[ 6 24 23 30]\n",
      "  [21 30  8 24]\n",
      "  [11  8  3 33]]]\n",
      "[[[ 4  6]\n",
      "  [15 24]\n",
      "  [33 23]\n",
      "  [19 30]]\n",
      "\n",
      " [[22 21]\n",
      "  [ 3 30]\n",
      "  [33  8]\n",
      "  [18 24]]\n",
      "\n",
      " [[12 11]\n",
      "  [20  8]\n",
      "  [31  3]\n",
      "  [23 33]]]\n"
     ]
    }
   ],
   "source": [
    "# 2x3x4 数组，2对应0，3对应1，4对应2\n",
    "arr=np.random.randint(2,34,size=(2,3,4))\n",
    "print(arr)\n",
    "print(arr.transpose(1,2,0))"
   ]
  },
  {
   "attachments": {},
   "cell_type": "markdown",
   "id": "14251f11",
   "metadata": {},
   "source": [
    "# 元素计算函数"
   ]
  },
  {
   "cell_type": "code",
   "execution_count": null,
   "id": "779ae091",
   "metadata": {},
   "outputs": [],
   "source": [
    "# 1. ceil(): 向上最接近的整数，参数是 number 或 array\n",
    "\n",
    "# 2. floor(): 向下最接近的整数，参数是 number 或 array\n",
    "\n",
    "# 3. rint(): 四舍五入，参数是 number 或 array\n",
    "\n",
    "# 4. isnan(): 判断元素是否为 NaN(Not a Number)，参数是 number 或 array\n",
    "\n",
    "# 5. multiply(): 元素相乘，参数是 number 或 array\n",
    "\n",
    "# 6. divide(): 元素相除，参数是 number 或 array\n",
    "\n",
    "# 7. abs()：元素的绝对值，参数是 number 或 array\n",
    "\n",
    "# 8. where(condition, x, y): 三元运算符，x if condition else y"
   ]
  },
  {
   "cell_type": "code",
   "execution_count": 57,
   "id": "67498f64",
   "metadata": {},
   "outputs": [
    {
     "name": "stdout",
     "output_type": "stream",
     "text": [
      "[[-1.93265313  1.75440552  0.02380325  1.1845227 ]\n",
      " [-0.37298304 -1.04514333  0.77486848  1.45904998]]\n",
      "[[-1.  2.  1.  2.]\n",
      " [-0. -1.  1.  2.]]\n",
      "[[-2.  1.  0.  1.]\n",
      " [-1. -2.  0.  1.]]\n",
      "[[-2.  2.  0.  1.]\n",
      " [-0. -1.  1.  1.]]\n",
      "[[False False False False]\n",
      " [False False False False]]\n",
      "[[3.73514811e+00 3.07793872e+00 5.66594595e-04 1.40309402e+00]\n",
      " [1.39116348e-01 1.09232458e+00 6.00421155e-01 2.12882684e+00]]\n",
      "[[1. 1. 1. 1.]\n",
      " [1. 1. 1. 1.]]\n",
      "[[1.93265313 1.75440552 0.02380325 1.1845227 ]\n",
      " [0.37298304 1.04514333 0.77486848 1.45904998]]\n",
      "[[2 1 1 1]\n",
      " [2 2 1 1]]\n"
     ]
    }
   ],
   "source": [
    "arr=np.random.randn(2,4)\n",
    "print(arr)\n",
    "print(np.ceil(arr))\n",
    "print(np.floor(arr))\n",
    "print(np.rint(arr))\n",
    "print(np.isnan(arr))\n",
    "print(np.multiply(arr,arr))\n",
    "print(np.divide(arr,arr))\n",
    "print(np.abs(arr))\n",
    "print(np.where(arr>0,1,2))"
   ]
  },
  {
   "attachments": {},
   "cell_type": "markdown",
   "id": "c8cf78ec",
   "metadata": {},
   "source": [
    "# 元素统计函数"
   ]
  },
  {
   "cell_type": "code",
   "execution_count": null,
   "id": "7c7c5d73",
   "metadata": {},
   "outputs": [],
   "source": [
    "# 1. np.mean(), np.sum()：所有元素的平均值，所有元素的和，参数是 number 或 array\n",
    "\n",
    "# 2. np.max(), np.min()：所有元素的最大值，所有元素的最小值，参数是 number 或 array\n",
    "\n",
    "# 3. np.std(), np.var()：所有元素的标准差，所有元素的方差，参数是 number 或 array\n",
    "\n",
    "# 4. np.argmax(), np.argmin()：最大值的下标索引值，最小值的下标索引值，参数是 number 或 array\n",
    "\n",
    "# 5. np.cumsum(), np.cumprod()：返回一个一维数组，每个元素都是之前所有元素的 累加和 和 累乘积，参数是 number 或 array\n",
    "\n",
    "# 6. 多维数组默认统计全部维度，axis参数可以按指定轴心统计，值为0则按列统计，值为1则按行统计。"
   ]
  },
  {
   "cell_type": "code",
   "execution_count": 15,
   "id": "7cd5629c",
   "metadata": {},
   "outputs": [
    {
     "name": "stdout",
     "output_type": "stream",
     "text": [
      "[[ 4  5  6  7]\n",
      " [ 8  9 10 11]\n",
      " [ 0  1  2  3]]\n",
      "[5.5 9.5 1.5]\n",
      "66\n",
      "11\n",
      "0\n",
      "3.452052529534663\n",
      "11.916666666666666\n",
      "7\n",
      "8\n",
      "[ 4  9 15 22 30 39 49 60 60 61 63 66]\n",
      "[      4      20     120     840    6720   60480  604800 6652800       0\n",
      "       0       0       0]\n"
     ]
    }
   ],
   "source": [
    "arr=np.arange(12).reshape(3,4)\n",
    "np.random.shuffle(arr)\n",
    "print(arr)\n",
    "print(np.mean(arr,axis=1))\n",
    "print(np.sum(arr))\n",
    "print(np.max(arr))\n",
    "print(np.min(arr))\n",
    "print(np.std(arr))\n",
    "print(np.var(arr))\n",
    "print(np.argmax(arr))\n",
    "print(np.argmin(arr))\n",
    "print(np.cumsum(arr))\n",
    "print(np.cumprod(arr))"
   ]
  },
  {
   "attachments": {},
   "cell_type": "markdown",
   "id": "dba499e1",
   "metadata": {},
   "source": [
    "# 元素判断函数"
   ]
  },
  {
   "cell_type": "code",
   "execution_count": null,
   "id": "7ec7c776",
   "metadata": {},
   "outputs": [],
   "source": [
    "# 1. np.any(): 至少有一个元素满足指定条件，返回True\n",
    "# 2. np.all(): 所有的元素满足指定条件，返回True"
   ]
  },
  {
   "cell_type": "code",
   "execution_count": 63,
   "id": "8ec87b94",
   "metadata": {},
   "outputs": [
    {
     "name": "stdout",
     "output_type": "stream",
     "text": [
      "[[ 0.61449432  2.15252619 -1.40056063]\n",
      " [-0.86659354  0.21893125  1.57005309]]\n",
      "True\n",
      "False\n"
     ]
    }
   ],
   "source": [
    "arr=np.random.randn(2,3)\n",
    "print(arr)\n",
    "print(np.any(arr>0))\n",
    "print(np.all(arr>0))"
   ]
  },
  {
   "attachments": {},
   "cell_type": "markdown",
   "id": "ab2da645",
   "metadata": {},
   "source": [
    "# 元素去重排序函数"
   ]
  },
  {
   "cell_type": "code",
   "execution_count": null,
   "id": "a567d77c",
   "metadata": {},
   "outputs": [],
   "source": [
    "# np.unique():找到唯一值并返回排序结果，类似于Python的set集合"
   ]
  },
  {
   "cell_type": "code",
   "execution_count": 65,
   "id": "ef473ee8",
   "metadata": {},
   "outputs": [
    {
     "name": "stdout",
     "output_type": "stream",
     "text": [
      "[[2 3]\n",
      " [8 9]\n",
      " [6 7]\n",
      " [4 5]\n",
      " [0 1]]\n",
      "[0 1 2 3 4 5 6 7 8 9]\n"
     ]
    }
   ],
   "source": [
    "arr=np.arange(10).reshape(5,2)\n",
    "np.random.shuffle(arr)\n",
    "print(arr)\n",
    "print(np.unique(arr))"
   ]
  },
  {
   "attachments": {},
   "cell_type": "markdown",
   "id": "9468584e",
   "metadata": {},
   "source": [
    "# 求两个数组中元素相等的个数"
   ]
  },
  {
   "cell_type": "code",
   "execution_count": 2,
   "id": "f16c80e9",
   "metadata": {},
   "outputs": [],
   "source": [
    "import numpy as np"
   ]
  },
  {
   "cell_type": "code",
   "execution_count": 14,
   "id": "8b052f8e",
   "metadata": {},
   "outputs": [
    {
     "data": {
      "text/plain": [
       "(array([0, 1, 0, 1, 1, 0, 1, 0, 1, 1, 0, 0, 0, 0, 1, 1, 0, 0, 1, 0]),\n",
       " array([1, 1, 0, 1, 0, 1, 1, 0, 1, 0, 0, 1, 1, 0, 0, 1, 1, 1, 1, 1]))"
      ]
     },
     "execution_count": 14,
     "metadata": {},
     "output_type": "execute_result"
    }
   ],
   "source": [
    "a=np.random.randint(0,2,20)\n",
    "b=np.random.randint(0,2,20)\n",
    "a,b"
   ]
  },
  {
   "cell_type": "code",
   "execution_count": 15,
   "id": "6ec42f40",
   "metadata": {},
   "outputs": [
    {
     "name": "stdout",
     "output_type": "stream",
     "text": [
      "[False  True  True  True False False  True  True  True False  True False\n",
      " False  True False  True False False  True False]\n"
     ]
    }
   ],
   "source": [
    "print(a == b)"
   ]
  },
  {
   "cell_type": "code",
   "execution_count": 17,
   "id": "036d684b",
   "metadata": {},
   "outputs": [
    {
     "name": "stdout",
     "output_type": "stream",
     "text": [
      "0.5\n",
      "10\n"
     ]
    }
   ],
   "source": [
    "print(np.sum(a == b)/len(a))\n",
    "print(np.sum(a == b))"
   ]
  }
 ],
 "metadata": {
  "kernelspec": {
   "display_name": "Python 3 (ipykernel)",
   "language": "python",
   "name": "python3"
  },
  "language_info": {
   "codemirror_mode": {
    "name": "ipython",
    "version": 3
   },
   "file_extension": ".py",
   "mimetype": "text/x-python",
   "name": "python",
   "nbconvert_exporter": "python",
   "pygments_lexer": "ipython3",
   "version": "3.9.13"
  },
  "toc": {
   "base_numbering": 1,
   "nav_menu": {},
   "number_sections": true,
   "sideBar": true,
   "skip_h1_title": false,
   "title_cell": "Table of Contents",
   "title_sidebar": "Contents",
   "toc_cell": false,
   "toc_position": {
    "height": "calc(100% - 180px)",
    "left": "10px",
    "top": "150px",
    "width": "204.52px"
   },
   "toc_section_display": true,
   "toc_window_display": true
  },
  "varInspector": {
   "cols": {
    "lenName": 16,
    "lenType": 16,
    "lenVar": 40
   },
   "kernels_config": {
    "python": {
     "delete_cmd_postfix": "",
     "delete_cmd_prefix": "del ",
     "library": "var_list.py",
     "varRefreshCmd": "print(var_dic_list())"
    },
    "r": {
     "delete_cmd_postfix": ") ",
     "delete_cmd_prefix": "rm(",
     "library": "var_list.r",
     "varRefreshCmd": "cat(var_dic_list()) "
    }
   },
   "types_to_exclude": [
    "module",
    "function",
    "builtin_function_or_method",
    "instance",
    "_Feature"
   ],
   "window_display": false
  }
 },
 "nbformat": 4,
 "nbformat_minor": 5
}
