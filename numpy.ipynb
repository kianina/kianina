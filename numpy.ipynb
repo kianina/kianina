{
 "cells": [
  {
   "cell_type": "code",
   "execution_count": 1,
   "id": "06c85f44",
   "metadata": {},
   "outputs": [],
   "source": [
    "import numpy as np"
   ]
  },
  {
   "attachments": {},
   "cell_type": "markdown",
   "id": "67351514",
   "metadata": {},
   "source": [
    "# ndarray数组创建"
   ]
  },
  {
   "attachments": {},
   "cell_type": "markdown",
   "id": "3ac63ac8",
   "metadata": {},
   "source": [
    "## ndarrays的创建"
   ]
  },
  {
   "cell_type": "code",
   "execution_count": 2,
   "id": "767ce72b",
   "metadata": {},
   "outputs": [],
   "source": [
    "import numpy as np"
   ]
  },
  {
   "cell_type": "code",
   "execution_count": 2,
   "id": "0ef5e483",
   "metadata": {},
   "outputs": [
    {
     "data": {
      "text/plain": [
       "array([[0.99972352, 0.77051851, 0.19479581, 0.52539055],\n",
       "       [0.53097509, 0.07203948, 0.3069445 , 0.17776225],\n",
       "       [0.67524158, 0.96501427, 0.90398988, 0.70919207]])"
      ]
     },
     "execution_count": 2,
     "metadata": {},
     "output_type": "execute_result"
    }
   ],
   "source": [
    "# rand固定区间0.0 - 1.0\n",
    "arr = np.random.rand(3, 4)\n",
    "arr"
   ]
  },
  {
   "cell_type": "code",
   "execution_count": 3,
   "id": "f18a2449",
   "metadata": {},
   "outputs": [
    {
     "data": {
      "text/plain": [
       "array([[4, 4, 3, 4],\n",
       "       [3, 3, 3, 4],\n",
       "       [4, 3, 3, 4]])"
      ]
     },
     "execution_count": 3,
     "metadata": {},
     "output_type": "execute_result"
    }
   ],
   "source": [
    "# randint()可以指定区间\n",
    "arr=np.random.randint(3,5,size=(3,4))\n",
    "arr"
   ]
  },
  {
   "cell_type": "code",
   "execution_count": 4,
   "id": "5585833e",
   "metadata": {},
   "outputs": [
    {
     "data": {
      "text/plain": [
       "array([[ 4.1693945 , 11.19839915, 18.81550458,  9.4976463 ],\n",
       "       [15.06694577, 17.66473942, 10.95073443, 15.57893048],\n",
       "       [11.49221494, 15.822632  ,  9.35088755,  5.97604177]])"
      ]
     },
     "execution_count": 4,
     "metadata": {},
     "output_type": "execute_result"
    }
   ],
   "source": [
    "# uniform()可以指定区间\n",
    "arr = np.random.uniform(4, 19, size=(3, 4))\n",
    "arr"
   ]
  },
  {
   "attachments": {},
   "cell_type": "markdown",
   "id": "0b680eda",
   "metadata": {},
   "source": [
    "## ndarray的序列创建"
   ]
  },
  {
   "attachments": {},
   "cell_type": "markdown",
   "id": "0827d778",
   "metadata": {},
   "source": [
    "1. np.array(collection)"
   ]
  },
  {
   "cell_type": "code",
   "execution_count": 5,
   "id": "6d809cf1",
   "metadata": {},
   "outputs": [
    {
     "data": {
      "text/plain": [
       "array([0, 1, 2, 3, 4, 5, 6, 7, 8, 9])"
      ]
     },
     "execution_count": 5,
     "metadata": {},
     "output_type": "execute_result"
    }
   ],
   "source": [
    "# collection 为 序列型对象(list)、嵌套序列对象(list of list)。\n",
    "list = range(10)\n",
    "arr = np.array(list)\n",
    "arr"
   ]
  },
  {
   "cell_type": "code",
   "execution_count": 6,
   "id": "d12c9610",
   "metadata": {},
   "outputs": [
    {
     "data": {
      "text/plain": [
       "array([[0, 1, 2, 3, 4, 5, 6, 7, 8, 9],\n",
       "       [0, 1, 2, 3, 4, 5, 6, 7, 8, 9]])"
      ]
     },
     "execution_count": 6,
     "metadata": {},
     "output_type": "execute_result"
    }
   ],
   "source": [
    "list_li = [range(10), range(10)]\n",
    "arr = np.array(list_li)\n",
    "arr"
   ]
  },
  {
   "attachments": {},
   "cell_type": "markdown",
   "id": "aab3e9d1",
   "metadata": {},
   "source": [
    "2. np.zeros()"
   ]
  },
  {
   "cell_type": "code",
   "execution_count": 11,
   "id": "2c3ea344",
   "metadata": {},
   "outputs": [
    {
     "name": "stdout",
     "output_type": "stream",
     "text": [
      "[[0. 0. 0. 0.]\n",
      " [0. 0. 0. 0.]\n",
      " [0. 0. 0. 0.]]\n"
     ]
    }
   ],
   "source": [
    "zeros_arr=np.zeros((3,4))\n",
    "print(zeros_arr)"
   ]
  },
  {
   "attachments": {},
   "cell_type": "markdown",
   "id": "263b0c34",
   "metadata": {},
   "source": [
    "3. np.ones()"
   ]
  },
  {
   "cell_type": "code",
   "execution_count": 13,
   "id": "a45fa60b",
   "metadata": {},
   "outputs": [
    {
     "name": "stdout",
     "output_type": "stream",
     "text": [
      "[[1. 1. 1. 1.]\n",
      " [1. 1. 1. 1.]\n",
      " [1. 1. 1. 1.]]\n"
     ]
    }
   ],
   "source": [
    "ones_arr=np.ones((3,4))\n",
    "print(ones_arr)"
   ]
  },
  {
   "attachments": {},
   "cell_type": "markdown",
   "id": "deab4985",
   "metadata": {},
   "source": [
    "4. np.empty()"
   ]
  },
  {
   "cell_type": "code",
   "execution_count": 14,
   "id": "13ec8f62",
   "metadata": {},
   "outputs": [
    {
     "name": "stdout",
     "output_type": "stream",
     "text": [
      "[[1. 1. 1. 1.]\n",
      " [1. 1. 1. 1.]\n",
      " [1. 1. 1. 1.]]\n"
     ]
    }
   ],
   "source": [
    "empty_arr=np.empty((3,4))\n",
    "print(empty_arr)"
   ]
  },
  {
   "attachments": {},
   "cell_type": "markdown",
   "id": "f20f56aa",
   "metadata": {},
   "source": [
    "5. np.arange()和reshape()"
   ]
  },
  {
   "cell_type": "code",
   "execution_count": 18,
   "id": "47a3c945",
   "metadata": {},
   "outputs": [
    {
     "name": "stdout",
     "output_type": "stream",
     "text": [
      "[0 1 2 3 4 5 6 7 8 9]\n",
      "[[0 1 2 3 4]\n",
      " [5 6 7 8 9]]\n"
     ]
    }
   ],
   "source": [
    "arr=np.arange(10)\n",
    "print(arr)\n",
    "print(arr.reshape(2,5))"
   ]
  },
  {
   "attachments": {},
   "cell_type": "markdown",
   "id": "477d734e",
   "metadata": {},
   "source": [
    "6. np.arange() 和 random.shuffle()"
   ]
  },
  {
   "cell_type": "code",
   "execution_count": 23,
   "id": "d152d651",
   "metadata": {},
   "outputs": [
    {
     "name": "stdout",
     "output_type": "stream",
     "text": [
      "[ 0  1  2  3  4  5  6  7  8  9 10 11 12 13 14]\n",
      "[ 1  2 12  5  9  7  4 10 14  3  6 11  0 13  8]\n"
     ]
    }
   ],
   "source": [
    "arr=np.arange(15)\n",
    "print(arr)\n",
    "np.random.shuffle(arr)\n",
    "print(arr)"
   ]
  },
  {
   "cell_type": "markdown",
   "id": "703abf90",
   "metadata": {},
   "source": [
    "7.linspace"
   ]
  },
  {
   "cell_type": "code",
   "execution_count": 33,
   "id": "c1270195",
   "metadata": {},
   "outputs": [
    {
     "data": {
      "text/plain": [
       "array([0.  , 0.25, 0.5 , 0.75, 1.  ])"
      ]
     },
     "execution_count": 33,
     "metadata": {},
     "output_type": "execute_result"
    }
   ],
   "source": [
    "# 产生 `N` 个等距分布在 `[start, stop]`间的元素组成的数组，包括 `start, stop`\n",
    "np.linspace(0, 1, 5)"
   ]
  },
  {
   "cell_type": "markdown",
   "id": "c86f6985",
   "metadata": {},
   "source": [
    "8.logspace"
   ]
  },
  {
   "cell_type": "code",
   "execution_count": 34,
   "id": "0c0302eb",
   "metadata": {},
   "outputs": [
    {
     "data": {
      "text/plain": [
       "array([ 1.   ,  1.778,  3.162,  5.623, 10.   ])"
      ]
     },
     "execution_count": 34,
     "metadata": {},
     "output_type": "execute_result"
    }
   ],
   "source": [
    "# 产生 N 个对数等距分布的数组，默认以10为底：\n",
    "np.logspace(0, 1, 5)"
   ]
  },
  {
   "cell_type": "markdown",
   "id": "e40f2c34",
   "metadata": {},
   "source": [
    "9.meshgrid"
   ]
  },
  {
   "cell_type": "code",
   "execution_count": 35,
   "id": "9e15057b",
   "metadata": {},
   "outputs": [
    {
     "data": {
      "text/plain": [
       "array([[-1. , -0.5,  0. ,  0.5,  1. ],\n",
       "       [-1. , -0.5,  0. ,  0.5,  1. ],\n",
       "       [-1. , -0.5,  0. ,  0.5,  1. ],\n",
       "       [-1. , -0.5,  0. ,  0.5,  1. ],\n",
       "       [-1. , -0.5,  0. ,  0.5,  1. ]])"
      ]
     },
     "metadata": {},
     "output_type": "display_data"
    },
    {
     "data": {
      "text/plain": [
       "array([[-1. , -1. , -1. , -1. , -1. ],\n",
       "       [-0.5, -0.5, -0.5, -0.5, -0.5],\n",
       "       [ 0. ,  0. ,  0. ,  0. ,  0. ],\n",
       "       [ 0.5,  0.5,  0.5,  0.5,  0.5],\n",
       "       [ 1. ,  1. ,  1. ,  1. ,  1. ]])"
      ]
     },
     "metadata": {},
     "output_type": "display_data"
    }
   ],
   "source": [
    "# 在二维平面中生成一个网格，这时候可以使用 `meshgrid`\n",
    "x_ticks = np.linspace(-1, 1, 5)\n",
    "y_ticks = np.linspace(-1, 1, 5)\n",
    "x, y = np.meshgrid(x_ticks, y_ticks)\n",
    "display(x, y)"
   ]
  },
  {
   "cell_type": "markdown",
   "id": "2be00b61",
   "metadata": {},
   "source": [
    "## 矩阵创建"
   ]
  },
  {
   "cell_type": "code",
   "execution_count": 37,
   "id": "cc94e936",
   "metadata": {},
   "outputs": [
    {
     "data": {
      "text/plain": [
       "matrix([[1, 2, 4],\n",
       "        [2, 5, 3],\n",
       "        [7, 8, 9]])"
      ]
     },
     "metadata": {},
     "output_type": "display_data"
    }
   ],
   "source": [
    "# 1.使用 `mat` 方法将 `2` 维数组转化为矩阵：\n",
    "a = np.array([[1,2,4],\n",
    "              [2,5,3], \n",
    "              [7,8,9]])\n",
    "A = np.mat(a)\n",
    "display(A)"
   ]
  },
  {
   "cell_type": "code",
   "execution_count": 38,
   "id": "9f5d7632",
   "metadata": {},
   "outputs": [
    {
     "data": {
      "text/plain": [
       "matrix([[ 1,  2, 10, 20],\n",
       "        [ 3,  4, 30, 40],\n",
       "        [10, 20,  1,  2],\n",
       "        [30, 40,  3,  4]])"
      ]
     },
     "execution_count": 38,
     "metadata": {},
     "output_type": "execute_result"
    }
   ],
   "source": [
    "# 2.利用分块创造新的矩阵\n",
    "a = np.array([[ 1, 2],\n",
    "              [ 3, 4]])\n",
    "b = np.array([[10,20], \n",
    "              [30,40]])\n",
    "\n",
    "np.bmat('a,b;b,a')"
   ]
  },
  {
   "cell_type": "code",
   "execution_count": 39,
   "id": "b8424162",
   "metadata": {},
   "outputs": [
    {
     "data": {
      "text/plain": [
       "matrix([[17],\n",
       "        [21],\n",
       "        [50]])"
      ]
     },
     "metadata": {},
     "output_type": "display_data"
    }
   ],
   "source": [
    "# 3.矩阵与向量的乘法：\n",
    "x = np.array([[1], [2], [3]])\n",
    "display(A * x)"
   ]
  },
  {
   "cell_type": "code",
   "execution_count": 40,
   "id": "f46cb4a1",
   "metadata": {},
   "outputs": [
    {
     "data": {
      "text/plain": [
       "matrix([[1.000e+00, 0.000e+00, 1.388e-17],\n",
       "        [0.000e+00, 1.000e+00, 6.939e-17],\n",
       "        [0.000e+00, 0.000e+00, 1.000e+00]])"
      ]
     },
     "metadata": {},
     "output_type": "display_data"
    }
   ],
   "source": [
    "# 4.`A.I` 表示 `A` 矩阵的逆矩阵：\n",
    "display(A * A.I)"
   ]
  },
  {
   "attachments": {},
   "cell_type": "markdown",
   "id": "dcfae52f",
   "metadata": {},
   "source": [
    "# ndarray的数据类型"
   ]
  },
  {
   "cell_type": "markdown",
   "id": "92e17367",
   "metadata": {},
   "source": [
    "\n",
    "|基本类型|可用的**Numpy**类型|备注\n",
    "|--|--|--\n",
    "|布尔型|`bool`|占1个字节\n",
    "|整型|`int8, int16, int32, int64, int128, int`| `int` 跟**C**语言中的 `long` 一样大\n",
    "|无符号整型|`uint8, uint16, uint32, uint64, uint128, uint`| `uint` 跟**C**语言中的 `unsigned long` 一样大\n",
    "|浮点数| `float16, float32, float64, float, longfloat`|默认为双精度 `float64` ，`longfloat` 精度大小与系统有关\n",
    "|复数| `complex64, complex128, complex, longcomplex`| 默认为 `complex128` ，即实部虚部都为双精度\n",
    "|字符串| `string, unicode` | 可以使用 `dtype=S4` 表示一个4字节字符串的数组\n",
    "|对象| `object` |数组中可以使用任意值|\n",
    "|Records| `void` ||\n",
    "|时间| `datetime64, timedelta64` ||"
   ]
  },
  {
   "attachments": {},
   "cell_type": "markdown",
   "id": "6409a275",
   "metadata": {},
   "source": [
    "1. dtype参数"
   ]
  },
  {
   "cell_type": "code",
   "execution_count": null,
   "id": "ea399118",
   "metadata": {},
   "outputs": [],
   "source": [
    "# 指定数组的数据类型，类型名+位数，如float64, int32"
   ]
  },
  {
   "attachments": {},
   "cell_type": "markdown",
   "id": "1f0a5611",
   "metadata": {},
   "source": [
    "2. astype方法"
   ]
  },
  {
   "cell_type": "code",
   "execution_count": 3,
   "id": "dc1f6da9",
   "metadata": {},
   "outputs": [
    {
     "name": "stdout",
     "output_type": "stream",
     "text": [
      "[[0. 0. 0. 0.]\n",
      " [0. 0. 0. 0.]\n",
      " [0. 0. 0. 0.]]\n",
      "float64\n",
      "[[0 0 0 0]\n",
      " [0 0 0 0]\n",
      " [0 0 0 0]]\n",
      "int32\n"
     ]
    }
   ],
   "source": [
    "# 1.初始化3行4列数组，数据类型为float64\n",
    "float_arr = np.zeros((3,4),dtype=np.float64)\n",
    "print(float_arr)\n",
    "print(float_arr.dtype)\n",
    "# astype转换数据类型，将已有的数组的数据类型转换为int32\n",
    "int_arr = float_arr.astype(np.int32)\n",
    "print(int_arr)\n",
    "print(int_arr.dtype)"
   ]
  },
  {
   "cell_type": "code",
   "execution_count": 4,
   "id": "2e2267a6",
   "metadata": {},
   "outputs": [
    {
     "data": {
      "text/plain": [
       "2"
      ]
     },
     "execution_count": 4,
     "metadata": {},
     "output_type": "execute_result"
    }
   ],
   "source": [
    "# 2.查看维数\n",
    "float_arr.ndim"
   ]
  },
  {
   "cell_type": "markdown",
   "id": "1778b2f2",
   "metadata": {},
   "source": [
    "3.复数类型"
   ]
  },
  {
   "cell_type": "code",
   "execution_count": 4,
   "id": "3db38c5d",
   "metadata": {},
   "outputs": [
    {
     "data": {
      "text/plain": [
       "dtype('complex128')"
      ]
     },
     "metadata": {},
     "output_type": "display_data"
    }
   ],
   "source": [
    "# 1.创建\n",
    "a = np.array([1 + 1j, 2, 3, 4])\n",
    "display(a.dtype)"
   ]
  },
  {
   "cell_type": "code",
   "execution_count": 5,
   "id": "49c37d8a",
   "metadata": {},
   "outputs": [
    {
     "data": {
      "text/plain": [
       "array([1., 2., 3., 4.])"
      ]
     },
     "metadata": {},
     "output_type": "display_data"
    },
    {
     "data": {
      "text/plain": [
       "array([1., 0., 0., 0.])"
      ]
     },
     "metadata": {},
     "output_type": "display_data"
    }
   ],
   "source": [
    "# 2.实部和虚部\n",
    "display(a.real, a.imag)"
   ]
  },
  {
   "cell_type": "code",
   "execution_count": 6,
   "id": "cc2e8120",
   "metadata": {},
   "outputs": [
    {
     "data": {
      "text/plain": [
       "array([1.+1.j, 2.+2.j, 3.+3.j, 4.+4.j])"
      ]
     },
     "metadata": {},
     "output_type": "display_data"
    }
   ],
   "source": [
    "# 3.设置值\n",
    "a.imag = [1,2,3,4]\n",
    "display(a)"
   ]
  },
  {
   "cell_type": "code",
   "execution_count": 7,
   "id": "528d5bdf",
   "metadata": {},
   "outputs": [
    {
     "data": {
      "text/plain": [
       "array([1.-1.j, 2.-2.j, 3.-3.j, 4.-4.j])"
      ]
     },
     "metadata": {},
     "output_type": "display_data"
    }
   ],
   "source": [
    "# 4.复共轭\n",
    "display(a.conj())"
   ]
  },
  {
   "cell_type": "markdown",
   "id": "e4833a17",
   "metadata": {},
   "source": [
    "4.view方法"
   ]
  },
  {
   "cell_type": "code",
   "execution_count": 9,
   "id": "29c53773",
   "metadata": {},
   "outputs": [
    {
     "data": {
      "text/plain": [
       "array([1, 2, 3, 4])"
      ]
     },
     "metadata": {},
     "output_type": "display_data"
    },
    {
     "data": {
      "text/plain": [
       "array([1, 0, 0, 0, 2, 0, 0, 0, 3, 0, 0, 0, 4, 0, 0, 0], dtype=uint8)"
      ]
     },
     "metadata": {},
     "output_type": "display_data"
    }
   ],
   "source": [
    "# view方法共用一块内存\n",
    "a = np.array((1,2,3,4), dtype=np.int32)\n",
    "b = a.view(np.uint8)\n",
    "display(a, b)"
   ]
  },
  {
   "attachments": {},
   "cell_type": "markdown",
   "id": "0d9e40f3",
   "metadata": {},
   "source": [
    "# ndarray的张量运算"
   ]
  },
  {
   "attachments": {},
   "cell_type": "markdown",
   "id": "da25aa30",
   "metadata": {},
   "source": [
    "1. 矢量运算"
   ]
  },
  {
   "cell_type": "code",
   "execution_count": 8,
   "id": "9b2b5c6a",
   "metadata": {},
   "outputs": [
    {
     "name": "stdout",
     "output_type": "stream",
     "text": [
      "[[0 1 2]\n",
      " [3 4 5]]\n",
      "[[ 0  2  4]\n",
      " [ 6  8 10]]\n",
      "[[ 0  1  4]\n",
      " [ 9 16 25]]\n"
     ]
    }
   ],
   "source": [
    "arr = np.arange(6).reshape(2,3)\n",
    "print(arr)\n",
    "# 矩阵相加\n",
    "print(arr+arr)\n",
    "# 矩阵相乘\n",
    "print(arr*arr)"
   ]
  },
  {
   "attachments": {},
   "cell_type": "markdown",
   "id": "aa950712",
   "metadata": {},
   "source": [
    "2. 矢量和标量运算"
   ]
  },
  {
   "cell_type": "code",
   "execution_count": 9,
   "id": "c66706dc",
   "metadata": {},
   "outputs": [
    {
     "name": "stdout",
     "output_type": "stream",
     "text": [
      "[[0.         0.33333333 0.66666667]\n",
      " [1.         1.33333333 1.66666667]]\n",
      "[[12 13 14]\n",
      " [15 16 17]]\n"
     ]
    }
   ],
   "source": [
    "arr = np.arange(6).reshape(2,3)\n",
    "print(arr/3.)\n",
    "print(arr+12)"
   ]
  },
  {
   "cell_type": "markdown",
   "id": "b00bbd20",
   "metadata": {},
   "source": [
    "3.求和"
   ]
  },
  {
   "cell_type": "code",
   "execution_count": 12,
   "id": "98bae298",
   "metadata": {},
   "outputs": [
    {
     "data": {
      "text/plain": [
       "array([[1, 2, 3],\n",
       "       [4, 5, 6]])"
      ]
     },
     "metadata": {},
     "output_type": "display_data"
    }
   ],
   "source": [
    "a = np.array([[1,2,3], [4,5,6]])\n",
    "display(a)"
   ]
  },
  {
   "cell_type": "code",
   "execution_count": 16,
   "id": "bf475b60",
   "metadata": {},
   "outputs": [
    {
     "data": {
      "text/plain": [
       "21"
      ]
     },
     "metadata": {},
     "output_type": "display_data"
    },
    {
     "data": {
      "text/plain": [
       "21"
      ]
     },
     "metadata": {},
     "output_type": "display_data"
    }
   ],
   "source": [
    "# 1.求所有元素和\n",
    "display(np.sum(a), a.sum())"
   ]
  },
  {
   "cell_type": "code",
   "execution_count": 17,
   "id": "0cc02de6",
   "metadata": {},
   "outputs": [
    {
     "data": {
      "text/plain": [
       "array([5, 7, 9])"
      ]
     },
     "metadata": {},
     "output_type": "display_data"
    },
    {
     "data": {
      "text/plain": [
       "array([5, 7, 9])"
      ]
     },
     "metadata": {},
     "output_type": "display_data"
    }
   ],
   "source": [
    "# 2.按维度求和\n",
    "display(np.sum(a, axis=0), a.sum(axis = 0))"
   ]
  },
  {
   "cell_type": "markdown",
   "id": "ac20da31",
   "metadata": {},
   "source": [
    "3.求积"
   ]
  },
  {
   "cell_type": "code",
   "execution_count": 2,
   "id": "901ad93f",
   "metadata": {},
   "outputs": [
    {
     "data": {
      "text/plain": [
       "array([[1, 2, 3],\n",
       "       [4, 5, 6]])"
      ]
     },
     "metadata": {},
     "output_type": "display_data"
    }
   ],
   "source": [
    "a = np.array([[1,2,3], [4,5,6]])\n",
    "display(a)"
   ]
  },
  {
   "cell_type": "code",
   "execution_count": 3,
   "id": "cfee364e",
   "metadata": {},
   "outputs": [
    {
     "data": {
      "text/plain": [
       "720"
      ]
     },
     "metadata": {},
     "output_type": "display_data"
    },
    {
     "data": {
      "text/plain": [
       "array([ 4, 10, 18])"
      ]
     },
     "metadata": {},
     "output_type": "display_data"
    }
   ],
   "source": [
    "# 1.所有元素\n",
    "display(a.prod(), np.prod(a, axis=0))"
   ]
  },
  {
   "cell_type": "markdown",
   "id": "061db9ba",
   "metadata": {},
   "source": [
    "4.最大最小值"
   ]
  },
  {
   "cell_type": "code",
   "execution_count": 4,
   "id": "95088765",
   "metadata": {},
   "outputs": [
    {
     "data": {
      "text/plain": [
       "array([[0.685, 0.779, 0.99 , 0.932],\n",
       "       [0.43 , 0.902, 0.605, 0.557],\n",
       "       [0.429, 0.5  , 0.971, 0.097]])"
      ]
     },
     "metadata": {},
     "output_type": "display_data"
    }
   ],
   "source": [
    "a = np.random.rand(3, 4)\n",
    "%precision 3\n",
    "display(a)"
   ]
  },
  {
   "cell_type": "code",
   "execution_count": 5,
   "id": "ed35570d",
   "metadata": {},
   "outputs": [
    {
     "data": {
      "text/plain": [
       "0.09743819566246292"
      ]
     },
     "metadata": {},
     "output_type": "display_data"
    },
    {
     "data": {
      "text/plain": [
       "array([0.685, 0.43 , 0.097])"
      ]
     },
     "metadata": {},
     "output_type": "display_data"
    },
    {
     "data": {
      "text/plain": [
       "0.9903485703973168"
      ]
     },
     "metadata": {},
     "output_type": "display_data"
    },
    {
     "data": {
      "text/plain": [
       "array([0.99 , 0.902, 0.971])"
      ]
     },
     "metadata": {},
     "output_type": "display_data"
    }
   ],
   "source": [
    "# 1.最大最小值\n",
    "display(a.min(), a.min(axis=1))\n",
    "display(a.max(), a.max(axis=1))"
   ]
  },
  {
   "cell_type": "code",
   "execution_count": 6,
   "id": "5556cbe8",
   "metadata": {},
   "outputs": [
    {
     "data": {
      "text/plain": [
       "11"
      ]
     },
     "metadata": {},
     "output_type": "display_data"
    },
    {
     "data": {
      "text/plain": [
       "array([2, 2, 1, 2], dtype=int64)"
      ]
     },
     "metadata": {},
     "output_type": "display_data"
    }
   ],
   "source": [
    "# 2.最大最小值位置\n",
    "display(a.argmin(), a.argmin(axis=0))"
   ]
  },
  {
   "cell_type": "markdown",
   "id": "47aafdaf",
   "metadata": {},
   "source": [
    "## 张量四则运算"
   ]
  },
  {
   "cell_type": "markdown",
   "id": "34c390b2",
   "metadata": {},
   "source": [
    "运算|函数\n",
    "--- | --- \n",
    "`a + b` | `add(a,b)`\n",
    "`a - b` | `subtract(a,b)`\n",
    "`a * b` | `multiply(a,b)`\n",
    "`a / b` | `divide(a,b)`\n",
    "`a ** b` | `power(a,b)`\n",
    "`a % b` | `remainder(a,b)`"
   ]
  },
  {
   "cell_type": "code",
   "execution_count": 41,
   "id": "94fe438a",
   "metadata": {},
   "outputs": [
    {
     "data": {
      "text/plain": [
       "array([3, 8])"
      ]
     },
     "metadata": {},
     "output_type": "display_data"
    }
   ],
   "source": [
    "# 1.乘法\n",
    "a = np.array([1,2])\n",
    "b = np.array([3,4])\n",
    "display(np.multiply(a, b))"
   ]
  },
  {
   "cell_type": "markdown",
   "id": "622e5b65",
   "metadata": {},
   "source": [
    "## 张量比较运算"
   ]
  },
  {
   "cell_type": "markdown",
   "id": "f6520564",
   "metadata": {},
   "source": [
    "运算|函数<\n",
    "--- | --- \n",
    "`==` | `equal`\n",
    "`!=` | `not_equal`\n",
    "`>` | `greater`\n",
    "`>=` | `greater_equal`\n",
    "`<` | `less`\n",
    "`<=` | `less_equal`\n",
    "| `logical_and`\n",
    "| `logical_or`\n",
    "| `logical_xor`\n",
    "| `logical_not`\n",
    "`&` | `bitwise_and`\n",
    " | `bitwise_or`\n",
    "`^` | `bitwise_xor`\n",
    "`~` | `invert`\n",
    "`>>` | `right_shift`\n",
    "`<<` | `left_shift`"
   ]
  },
  {
   "attachments": {},
   "cell_type": "markdown",
   "id": "6b3dd810",
   "metadata": {},
   "source": [
    "# ndarray的索引与切片"
   ]
  },
  {
   "cell_type": "code",
   "execution_count": 10,
   "id": "e44c3adc",
   "metadata": {},
   "outputs": [
    {
     "name": "stdout",
     "output_type": "stream",
     "text": [
      "[3 4 5]\n"
     ]
    }
   ],
   "source": [
    "# 一维数组\n",
    "arr = np.arange(19)\n",
    "print(arr[3:6])"
   ]
  },
  {
   "attachments": {},
   "cell_type": "markdown",
   "id": "aca223c5",
   "metadata": {},
   "source": [
    "\n",
    "arr[r1:r2, c1:c2]\n",
    "\n",
    "arr[1,1] 等价 arr[1][1]\n",
    "\n",
    "[:] 代表某个维度的数据"
   ]
  },
  {
   "cell_type": "code",
   "execution_count": 11,
   "id": "6e3799cc",
   "metadata": {},
   "outputs": [
    {
     "name": "stdout",
     "output_type": "stream",
     "text": [
      "[[ 0  1  2  3]\n",
      " [ 4  5  6  7]\n",
      " [ 8  9 10 11]]\n",
      "[[5]]\n"
     ]
    }
   ],
   "source": [
    "# 多维数组\n",
    "arr = np.arange(12).reshape(3,4)\n",
    "print(arr)\n",
    "print(arr[1:2,1:2])"
   ]
  },
  {
   "attachments": {},
   "cell_type": "markdown",
   "id": "a72cebc0",
   "metadata": {},
   "source": [
    "3. 条件索引"
   ]
  },
  {
   "cell_type": "code",
   "execution_count": 12,
   "id": "394b7c31",
   "metadata": {},
   "outputs": [
    {
     "name": "stdout",
     "output_type": "stream",
     "text": [
      "[[0.243472   0.66340088 0.24234669]\n",
      " [0.76050578 0.33869252 0.50999035]\n",
      " [0.93916429 0.884982   0.19279273]]\n",
      "[[False False False]\n",
      " [False False  True]\n",
      " [ True  True  True]] bool\n",
      "[0.243472   0.24234669 0.33869252 0.50999035 0.93916429 0.884982\n",
      " 0.19279273]\n"
     ]
    }
   ],
   "source": [
    "data_arr = np.random.rand(3,3)\n",
    "print(data_arr)\n",
    "year_arr = np.array([[2000,2001,2002],\n",
    "                [2003,2004,20005],\n",
    "                [2006,2007,2008]])\n",
    "year_2005 = year_arr>=2005\n",
    "print(year_2005,year_2005.dtype)\n",
    "\n",
    "fitt_arr=data_arr[(year_arr<=2005)&(year_arr)%2==0]\n",
    "print(fitt_arr)"
   ]
  },
  {
   "cell_type": "markdown",
   "id": "8f592595",
   "metadata": {},
   "source": [
    "# 数组形状"
   ]
  },
  {
   "cell_type": "code",
   "execution_count": 18,
   "id": "501902e7",
   "metadata": {},
   "outputs": [
    {
     "data": {
      "text/plain": [
       "array([[0, 1],\n",
       "       [2, 3],\n",
       "       [4, 5]])"
      ]
     },
     "metadata": {},
     "output_type": "display_data"
    }
   ],
   "source": [
    "# 1.修改数组形状\n",
    "a = np.arange(6)\n",
    "display(a.reshape(3,2))"
   ]
  },
  {
   "cell_type": "code",
   "execution_count": 20,
   "id": "5527c62f",
   "metadata": {},
   "outputs": [
    {
     "data": {
      "text/plain": [
       "(1, 3)"
      ]
     },
     "metadata": {},
     "output_type": "display_data"
    },
    {
     "data": {
      "text/plain": [
       "(1, 1, 3)"
      ]
     },
     "metadata": {},
     "output_type": "display_data"
    }
   ],
   "source": [
    "# 2.使用 newaxis 增加数组维数\n",
    "a = np.arange(3)\n",
    "y = a[np.newaxis, :]\n",
    "display(y.shape)\n",
    "\n",
    "y = a[np.newaxis, np.newaxis, :]\n",
    "display(np.shape(y))"
   ]
  },
  {
   "cell_type": "code",
   "execution_count": 21,
   "id": "b2423526",
   "metadata": {},
   "outputs": [
    {
     "data": {
      "text/plain": [
       "(2, 3)"
      ]
     },
     "metadata": {},
     "output_type": "display_data"
    }
   ],
   "source": [
    "# 3.squeeze 方法去除多余的轴\n",
    "a =np.arange(6)\n",
    "a.shape = (2,1,3)\n",
    "b = a.squeeze()\n",
    "display(b.shape)"
   ]
  },
  {
   "attachments": {},
   "cell_type": "markdown",
   "id": "305c04dc",
   "metadata": {},
   "source": [
    "## ndarray的维数转换"
   ]
  },
  {
   "cell_type": "code",
   "execution_count": null,
   "id": "396c5564",
   "metadata": {},
   "outputs": [],
   "source": [
    "# 二维数组直接使用转换函数：transpose()\n",
    "\n",
    "# 高维数组转换要指定维度编号参数 (0, 1, 2, …)，注意参数是元组"
   ]
  },
  {
   "cell_type": "code",
   "execution_count": 13,
   "id": "add0648d",
   "metadata": {},
   "outputs": [
    {
     "name": "stdout",
     "output_type": "stream",
     "text": [
      "[[10 10 11 10]\n",
      " [ 4  2  8  7]\n",
      " [ 6  6 12  6]]\n",
      "[[10  4  6]\n",
      " [10  2  6]\n",
      " [11  8 12]\n",
      " [10  7  6]]\n"
     ]
    }
   ],
   "source": [
    "arr = np.random.randint(2,13,size=(3,4))    # 2x3 数组\n",
    "print(arr)    \n",
    "print(arr.transpose()) # 转换为 3x2 数组"
   ]
  },
  {
   "cell_type": "code",
   "execution_count": 14,
   "id": "e87c6204",
   "metadata": {},
   "outputs": [
    {
     "name": "stdout",
     "output_type": "stream",
     "text": [
      "[[[ 4 15 33 19]\n",
      "  [22  3 33 18]\n",
      "  [12 20 31 23]]\n",
      "\n",
      " [[ 6 24 23 30]\n",
      "  [21 30  8 24]\n",
      "  [11  8  3 33]]]\n",
      "[[[ 4  6]\n",
      "  [15 24]\n",
      "  [33 23]\n",
      "  [19 30]]\n",
      "\n",
      " [[22 21]\n",
      "  [ 3 30]\n",
      "  [33  8]\n",
      "  [18 24]]\n",
      "\n",
      " [[12 11]\n",
      "  [20  8]\n",
      "  [31  3]\n",
      "  [23 33]]]\n"
     ]
    }
   ],
   "source": [
    "# 2x3x4 数组，2对应0，3对应1，4对应2\n",
    "arr=np.random.randint(2,34,size=(2,3,4))\n",
    "print(arr)\n",
    "print(arr.transpose(1,2,0))"
   ]
  },
  {
   "cell_type": "markdown",
   "id": "aaf43a49",
   "metadata": {},
   "source": [
    "## 数组连接"
   ]
  },
  {
   "cell_type": "markdown",
   "id": "b104bcbf",
   "metadata": {},
   "source": [
    "1.concatenate函数"
   ]
  },
  {
   "cell_type": "code",
   "execution_count": 22,
   "id": "1caf4960",
   "metadata": {},
   "outputs": [],
   "source": [
    "x = np.array([\n",
    "        [0,1,2],\n",
    "        [10,11,12]\n",
    "    ])\n",
    "y = np.array([\n",
    "        [50,51,52],\n",
    "        [60,61,62]\n",
    "    ])"
   ]
  },
  {
   "cell_type": "code",
   "execution_count": 23,
   "id": "edda6c25",
   "metadata": {},
   "outputs": [
    {
     "data": {
      "text/plain": [
       "(4, 3)"
      ]
     },
     "metadata": {},
     "output_type": "display_data"
    }
   ],
   "source": [
    "z = np.concatenate((x,y))\n",
    "display(z.shape)"
   ]
  },
  {
   "cell_type": "markdown",
   "id": "25a4c5b6",
   "metadata": {},
   "source": [
    "## 展平数组"
   ]
  },
  {
   "cell_type": "code",
   "execution_count": 24,
   "id": "448a8078",
   "metadata": {},
   "outputs": [
    {
     "data": {
      "text/plain": [
       "array([0, 1, 2, 3])"
      ]
     },
     "execution_count": 24,
     "metadata": {},
     "output_type": "execute_result"
    }
   ],
   "source": [
    "# 1.flatten方法\n",
    "a = np.array([[0,1],\n",
    "           [2,3]])\n",
    "b = a.flatten()\n",
    "b"
   ]
  },
  {
   "cell_type": "code",
   "execution_count": 25,
   "id": "5332c9d5",
   "metadata": {},
   "outputs": [
    {
     "data": {
      "text/plain": [
       "array([0, 1, 2, 3])"
      ]
     },
     "execution_count": 25,
     "metadata": {},
     "output_type": "execute_result"
    }
   ],
   "source": [
    "# 2.ravel方法\n",
    "a = np.array([[0,1],\n",
    "           [2,3]])\n",
    "b = a.ravel()\n",
    "b"
   ]
  },
  {
   "attachments": {},
   "cell_type": "markdown",
   "id": "14251f11",
   "metadata": {},
   "source": [
    "# 元素计算函数"
   ]
  },
  {
   "cell_type": "code",
   "execution_count": null,
   "id": "779ae091",
   "metadata": {},
   "outputs": [],
   "source": [
    "# 1. ceil(): 向上最接近的整数，参数是 number 或 array\n",
    "\n",
    "# 2. floor(): 向下最接近的整数，参数是 number 或 array\n",
    "\n",
    "# 3. rint(): 四舍五入，参数是 number 或 array\n",
    "\n",
    "# 4. isnan(): 判断元素是否为 NaN(Not a Number)，参数是 number 或 array\n",
    "\n",
    "# 5. multiply(): 元素相乘，参数是 number 或 array\n",
    "\n",
    "# 6. divide(): 元素相除，参数是 number 或 array\n",
    "\n",
    "# 7. abs()：元素的绝对值，参数是 number 或 array\n",
    "\n",
    "# 8. where(condition, x, y): 三元运算符，x if condition else y"
   ]
  },
  {
   "cell_type": "code",
   "execution_count": 57,
   "id": "67498f64",
   "metadata": {},
   "outputs": [
    {
     "name": "stdout",
     "output_type": "stream",
     "text": [
      "[[-1.93265313  1.75440552  0.02380325  1.1845227 ]\n",
      " [-0.37298304 -1.04514333  0.77486848  1.45904998]]\n",
      "[[-1.  2.  1.  2.]\n",
      " [-0. -1.  1.  2.]]\n",
      "[[-2.  1.  0.  1.]\n",
      " [-1. -2.  0.  1.]]\n",
      "[[-2.  2.  0.  1.]\n",
      " [-0. -1.  1.  1.]]\n",
      "[[False False False False]\n",
      " [False False False False]]\n",
      "[[3.73514811e+00 3.07793872e+00 5.66594595e-04 1.40309402e+00]\n",
      " [1.39116348e-01 1.09232458e+00 6.00421155e-01 2.12882684e+00]]\n",
      "[[1. 1. 1. 1.]\n",
      " [1. 1. 1. 1.]]\n",
      "[[1.93265313 1.75440552 0.02380325 1.1845227 ]\n",
      " [0.37298304 1.04514333 0.77486848 1.45904998]]\n",
      "[[2 1 1 1]\n",
      " [2 2 1 1]]\n"
     ]
    }
   ],
   "source": [
    "arr=np.random.randn(2,4)\n",
    "print(arr)\n",
    "print(np.ceil(arr))\n",
    "print(np.floor(arr))\n",
    "print(np.rint(arr))\n",
    "print(np.isnan(arr))\n",
    "print(np.multiply(arr,arr))\n",
    "print(np.divide(arr,arr))\n",
    "print(np.abs(arr))\n",
    "print(np.where(arr>0,1,2))"
   ]
  },
  {
   "attachments": {},
   "cell_type": "markdown",
   "id": "c8cf78ec",
   "metadata": {},
   "source": [
    "# 元素统计函数"
   ]
  },
  {
   "cell_type": "code",
   "execution_count": null,
   "id": "7c7c5d73",
   "metadata": {},
   "outputs": [],
   "source": [
    "# 1. np.mean(), np.sum()：所有元素的平均值，所有元素的和，参数是 number 或 array\n",
    "\n",
    "# 2. np.max(), np.min()：所有元素的最大值，所有元素的最小值，参数是 number 或 array\n",
    "\n",
    "# 3. np.std(), np.var()：所有元素的标准差，所有元素的方差，参数是 number 或 array\n",
    "\n",
    "# 4. np.argmax(), np.argmin()：最大值的下标索引值，最小值的下标索引值，参数是 number 或 array\n",
    "\n",
    "# 5. np.cumsum(), np.cumprod()：返回一个一维数组，每个元素都是之前所有元素的 累加和 和 累乘积，参数是 number 或 array\n",
    "\n",
    "# 6. 多维数组默认统计全部维度，axis参数可以按指定轴心统计，值为0则按列统计，值为1则按行统计。\n",
    "\n",
    "# 7. np.var(), 计算方差\n",
    "\n",
    "# 8. np.rount(), 近似，默认到整数：a.round(decimals=1),近似到一位小数"
   ]
  },
  {
   "cell_type": "code",
   "execution_count": 15,
   "id": "7cd5629c",
   "metadata": {},
   "outputs": [
    {
     "name": "stdout",
     "output_type": "stream",
     "text": [
      "[[ 4  5  6  7]\n",
      " [ 8  9 10 11]\n",
      " [ 0  1  2  3]]\n",
      "[5.5 9.5 1.5]\n",
      "66\n",
      "11\n",
      "0\n",
      "3.452052529534663\n",
      "11.916666666666666\n",
      "7\n",
      "8\n",
      "[ 4  9 15 22 30 39 49 60 60 61 63 66]\n",
      "[      4      20     120     840    6720   60480  604800 6652800       0\n",
      "       0       0       0]\n"
     ]
    }
   ],
   "source": [
    "arr=np.arange(12).reshape(3,4)\n",
    "np.random.shuffle(arr)\n",
    "print(arr)\n",
    "print(np.mean(arr,axis=1))\n",
    "print(np.sum(arr))\n",
    "print(np.max(arr))\n",
    "print(np.min(arr))\n",
    "print(np.std(arr))\n",
    "print(np.var(arr))\n",
    "print(np.argmax(arr))\n",
    "print(np.argmin(arr))\n",
    "print(np.cumsum(arr))\n",
    "print(np.cumprod(arr))"
   ]
  },
  {
   "cell_type": "markdown",
   "id": "33fad6a9",
   "metadata": {},
   "source": [
    "## 对角线数据"
   ]
  },
  {
   "cell_type": "code",
   "execution_count": 30,
   "id": "e85c3cbf",
   "metadata": {},
   "outputs": [],
   "source": [
    "a = np.array([11,21,31,12,22,32,13,23,33])\n",
    "a.shape = 3,3"
   ]
  },
  {
   "cell_type": "code",
   "execution_count": 31,
   "id": "74353f1f",
   "metadata": {},
   "outputs": [
    {
     "data": {
      "text/plain": [
       "array([11, 22, 33])"
      ]
     },
     "execution_count": 31,
     "metadata": {},
     "output_type": "execute_result"
    }
   ],
   "source": [
    "# 1.查看\n",
    "a.diagonal()"
   ]
  },
  {
   "cell_type": "code",
   "execution_count": 32,
   "id": "ad34be7b",
   "metadata": {},
   "outputs": [
    {
     "data": {
      "text/plain": [
       "array([21, 32])"
      ]
     },
     "metadata": {},
     "output_type": "display_data"
    },
    {
     "data": {
      "text/plain": [
       "array([12, 23])"
      ]
     },
     "metadata": {},
     "output_type": "display_data"
    }
   ],
   "source": [
    "# 2.可以使用偏移来查看它的次对角线，正数表示右移，负数表示左移：\n",
    "display(a.diagonal(offset=1))\n",
    "display(a.diagonal(offset=-1))"
   ]
  },
  {
   "attachments": {},
   "cell_type": "markdown",
   "id": "dba499e1",
   "metadata": {},
   "source": [
    "# 元素判断函数"
   ]
  },
  {
   "cell_type": "code",
   "execution_count": null,
   "id": "7ec7c776",
   "metadata": {},
   "outputs": [],
   "source": [
    "# 1. np.any(): 至少有一个元素满足指定条件，返回True\n",
    "# 2. np.all(): 所有的元素满足指定条件，返回True"
   ]
  },
  {
   "cell_type": "code",
   "execution_count": 63,
   "id": "8ec87b94",
   "metadata": {},
   "outputs": [
    {
     "name": "stdout",
     "output_type": "stream",
     "text": [
      "[[ 0.61449432  2.15252619 -1.40056063]\n",
      " [-0.86659354  0.21893125  1.57005309]]\n",
      "True\n",
      "False\n"
     ]
    }
   ],
   "source": [
    "arr=np.random.randn(2,3)\n",
    "print(arr)\n",
    "print(np.any(arr>0))\n",
    "print(np.all(arr>0))"
   ]
  },
  {
   "attachments": {},
   "cell_type": "markdown",
   "id": "ab2da645",
   "metadata": {},
   "source": [
    "# 元素其他函数"
   ]
  },
  {
   "cell_type": "markdown",
   "id": "5f35b6aa",
   "metadata": {},
   "source": [
    "1.clip"
   ]
  },
  {
   "cell_type": "code",
   "execution_count": 7,
   "id": "a567d77c",
   "metadata": {},
   "outputs": [
    {
     "data": {
      "text/plain": [
       "array([[3, 3],\n",
       "       [3, 3],\n",
       "       [4, 5],\n",
       "       [5, 5],\n",
       "       [5, 5]])"
      ]
     },
     "metadata": {},
     "output_type": "display_data"
    }
   ],
   "source": [
    "# 将数值限制在某个范围：\n",
    "arr = np.arange(10).reshape(5,2)\n",
    "display(arr.clip(3,5))"
   ]
  },
  {
   "cell_type": "markdown",
   "id": "4e97f578",
   "metadata": {},
   "source": [
    "2.ptp"
   ]
  },
  {
   "cell_type": "code",
   "execution_count": 8,
   "id": "45196593",
   "metadata": {},
   "outputs": [
    {
     "data": {
      "text/plain": [
       "array([1, 1, 1, 1, 1])"
      ]
     },
     "metadata": {},
     "output_type": "display_data"
    }
   ],
   "source": [
    "# 计算最大值和最小值之差：\n",
    "display(arr.ptp(axis=1))"
   ]
  },
  {
   "cell_type": "code",
   "execution_count": 65,
   "id": "ef473ee8",
   "metadata": {},
   "outputs": [
    {
     "name": "stdout",
     "output_type": "stream",
     "text": [
      "[[2 3]\n",
      " [8 9]\n",
      " [6 7]\n",
      " [4 5]\n",
      " [0 1]]\n",
      "[0 1 2 3 4 5 6 7 8 9]\n"
     ]
    }
   ],
   "source": [
    "# np.unique():找到唯一值并返回排序结果，类似于Python的set集合\n",
    "arr = np.arange(10).reshape(5,2)\n",
    "np.random.shuffle(arr)\n",
    "print(arr)\n",
    "print(np.unique(arr))"
   ]
  },
  {
   "cell_type": "markdown",
   "id": "de8205c5",
   "metadata": {},
   "source": [
    "# numpy中的其他操作"
   ]
  },
  {
   "attachments": {},
   "cell_type": "markdown",
   "id": "9468584e",
   "metadata": {},
   "source": [
    "## 求两个数组中元素相等的个数"
   ]
  },
  {
   "cell_type": "code",
   "execution_count": 2,
   "id": "f16c80e9",
   "metadata": {},
   "outputs": [],
   "source": [
    "import numpy as np"
   ]
  },
  {
   "cell_type": "code",
   "execution_count": 14,
   "id": "8b052f8e",
   "metadata": {},
   "outputs": [
    {
     "data": {
      "text/plain": [
       "(array([0, 1, 0, 1, 1, 0, 1, 0, 1, 1, 0, 0, 0, 0, 1, 1, 0, 0, 1, 0]),\n",
       " array([1, 1, 0, 1, 0, 1, 1, 0, 1, 0, 0, 1, 1, 0, 0, 1, 1, 1, 1, 1]))"
      ]
     },
     "execution_count": 14,
     "metadata": {},
     "output_type": "execute_result"
    }
   ],
   "source": [
    "a=np.random.randint(0,2,20)\n",
    "b=np.random.randint(0,2,20)\n",
    "a,b"
   ]
  },
  {
   "cell_type": "code",
   "execution_count": 15,
   "id": "6ec42f40",
   "metadata": {},
   "outputs": [
    {
     "name": "stdout",
     "output_type": "stream",
     "text": [
      "[False  True  True  True False False  True  True  True False  True False\n",
      " False  True False  True False False  True False]\n"
     ]
    }
   ],
   "source": [
    "print(a == b)"
   ]
  },
  {
   "cell_type": "code",
   "execution_count": 17,
   "id": "036d684b",
   "metadata": {},
   "outputs": [
    {
     "name": "stdout",
     "output_type": "stream",
     "text": [
      "0.5\n",
      "10\n"
     ]
    }
   ],
   "source": [
    "print(np.sum(a == b)/len(a))\n",
    "print(np.sum(a == b))"
   ]
  },
  {
   "cell_type": "markdown",
   "id": "3ef1a860",
   "metadata": {},
   "source": [
    "# 张量操作"
   ]
  },
  {
   "cell_type": "markdown",
   "id": "3664a0f4",
   "metadata": {},
   "source": [
    "## 排序"
   ]
  },
  {
   "cell_type": "markdown",
   "id": "d0c18521",
   "metadata": {},
   "source": [
    "1.sort函数"
   ]
  },
  {
   "cell_type": "code",
   "execution_count": 10,
   "id": "f5abc555",
   "metadata": {},
   "outputs": [
    {
     "data": {
      "text/plain": [
       "array([20.8, 53.4, 61.8, 93.2])"
      ]
     },
     "execution_count": 10,
     "metadata": {},
     "output_type": "execute_result"
    }
   ],
   "source": [
    "# 返回从小到大\n",
    "names = np.array(['bob', 'sue', 'jan', 'ad'])\n",
    "weights = np.array([20.8, 93.2, 53.4, 61.8])\n",
    "\n",
    "np.sort(weights)"
   ]
  },
  {
   "cell_type": "markdown",
   "id": "b6d09b69",
   "metadata": {},
   "source": [
    "2.argsort 函数"
   ]
  },
  {
   "cell_type": "code",
   "execution_count": 11,
   "id": "99d67948",
   "metadata": {},
   "outputs": [
    {
     "data": {
      "text/plain": [
       "array([0, 2, 3, 1], dtype=int64)"
      ]
     },
     "execution_count": 11,
     "metadata": {},
     "output_type": "execute_result"
    }
   ],
   "source": [
    "# argsort返回从小到大的排列在数组中的索引位置\n",
    "ordered_indices = np.argsort(weights)\n",
    "ordered_indices"
   ]
  },
  {
   "cell_type": "code",
   "execution_count": 12,
   "id": "974dc710",
   "metadata": {},
   "outputs": [
    {
     "data": {
      "text/plain": [
       "array([20.8, 53.4, 61.8, 93.2])"
      ]
     },
     "metadata": {},
     "output_type": "display_data"
    }
   ],
   "source": [
    "# 可以用它来索引\n",
    "display(weights[ordered_indices])"
   ]
  },
  {
   "cell_type": "markdown",
   "id": "bcf28221",
   "metadata": {},
   "source": [
    "3.searchsorted 函数"
   ]
  },
  {
   "cell_type": "code",
   "execution_count": 13,
   "id": "1a834df4",
   "metadata": {},
   "outputs": [
    {
     "data": {
      "text/plain": [
       "array([1, 4, 2, 1, 2, 1], dtype=int64)"
      ]
     },
     "metadata": {},
     "output_type": "display_data"
    }
   ],
   "source": [
    "# 返回的值相当于保持第一个数组的排序性质不变，将第二个数组中的值插入第一个数组中的位置\n",
    "sorted_array = np.linspace(0,1,5)\n",
    "values = np.array([.1,.8,.3,.12,.5,.25])\n",
    "display(np.searchsorted(sorted_array, values))"
   ]
  },
  {
   "cell_type": "code",
   "execution_count": 14,
   "id": "bf57794c",
   "metadata": {},
   "outputs": [],
   "source": [
    "data = np.random.rand(100)\n",
    "data.sort()\n",
    "bounds = (.4, .6)"
   ]
  },
  {
   "cell_type": "code",
   "execution_count": 16,
   "id": "9ca4a1d5",
   "metadata": {},
   "outputs": [
    {
     "data": {
      "text/plain": [
       "array([0.417, 0.419, 0.419, 0.437, 0.469, 0.478, 0.487, 0.488, 0.489,\n",
       "       0.495, 0.51 , 0.529, 0.533, 0.537, 0.541, 0.549, 0.552, 0.557,\n",
       "       0.562, 0.563, 0.564, 0.581, 0.581, 0.582, 0.585])"
      ]
     },
     "metadata": {},
     "output_type": "display_data"
    }
   ],
   "source": [
    "# 返回这两个值对应的插入位置\n",
    "low_idx, high_idx = np.searchsorted(data, bounds)\n",
    "display(data[low_idx:high_idx])"
   ]
  },
  {
   "cell_type": "markdown",
   "id": "0ccfc5f6",
   "metadata": {},
   "source": [
    "# ufunc 对象"
   ]
  },
  {
   "cell_type": "code",
   "execution_count": 43,
   "id": "3bb23768",
   "metadata": {},
   "outputs": [
    {
     "data": {
      "text/plain": [
       "['__call__',\n",
       " '__class__',\n",
       " '__delattr__',\n",
       " '__dir__',\n",
       " '__doc__',\n",
       " '__eq__',\n",
       " '__format__',\n",
       " '__ge__',\n",
       " '__getattribute__',\n",
       " '__gt__',\n",
       " '__hash__',\n",
       " '__init__',\n",
       " '__init_subclass__',\n",
       " '__le__',\n",
       " '__lt__',\n",
       " '__name__',\n",
       " '__ne__',\n",
       " '__new__',\n",
       " '__reduce__',\n",
       " '__reduce_ex__',\n",
       " '__repr__',\n",
       " '__setattr__',\n",
       " '__sizeof__',\n",
       " '__str__',\n",
       " '__subclasshook__',\n",
       " 'accumulate',\n",
       " 'at',\n",
       " 'identity',\n",
       " 'nargs',\n",
       " 'nin',\n",
       " 'nout',\n",
       " 'ntypes',\n",
       " 'outer',\n",
       " 'reduce',\n",
       " 'reduceat',\n",
       " 'signature',\n",
       " 'types']"
      ]
     },
     "metadata": {},
     "output_type": "display_data"
    }
   ],
   "source": [
    "# `ufunc` 则是能够对数组进行处理的函数\n",
    "# 1.查看支持的方法\n",
    "a = np.array([0,1,2])\n",
    "b = np.array([2,3,4])\n",
    "display(dir(np.add))"
   ]
  },
  {
   "cell_type": "markdown",
   "id": "0ab68d5d",
   "metadata": {},
   "source": [
    "## reduce 方法"
   ]
  },
  {
   "cell_type": "code",
   "execution_count": 44,
   "id": "5261e5e2",
   "metadata": {},
   "outputs": [
    {
     "data": {
      "text/plain": [
       "10"
      ]
     },
     "execution_count": 44,
     "metadata": {},
     "output_type": "execute_result"
    }
   ],
   "source": [
    "# op.reduce(a)\n",
    "# 将`op`沿着某个轴应用，使得数组 `a` 的维数降低一维。\n",
    "a = np.array([1,2,3,4])\n",
    "np.add.reduce(a)"
   ]
  },
  {
   "cell_type": "code",
   "execution_count": 45,
   "id": "7e2d69cd",
   "metadata": {},
   "outputs": [
    {
     "data": {
      "text/plain": [
       "array([5, 7, 9])"
      ]
     },
     "execution_count": 45,
     "metadata": {},
     "output_type": "execute_result"
    }
   ],
   "source": [
    "# 1.多维\n",
    "a = np.array([[1,2,3],[4,5,6]])\n",
    "np.add.reduce(a)"
   ]
  },
  {
   "cell_type": "code",
   "execution_count": 46,
   "id": "a4e36f44",
   "metadata": {},
   "outputs": [
    {
     "data": {
      "text/plain": [
       "array([ 6, 15])"
      ]
     },
     "execution_count": 46,
     "metadata": {},
     "output_type": "execute_result"
    }
   ],
   "source": [
    "# 2.指定轴\n",
    "np.add.reduce(a, 1)"
   ]
  },
  {
   "cell_type": "code",
   "execution_count": 47,
   "id": "02362092",
   "metadata": {},
   "outputs": [
    {
     "data": {
      "text/plain": [
       "False"
      ]
     },
     "execution_count": 47,
     "metadata": {},
     "output_type": "execute_result"
    }
   ],
   "source": [
    "# 3.逻辑运算\n",
    "a = np.array([1,1,0,1])\n",
    "np.logical_and.reduce(a)"
   ]
  },
  {
   "cell_type": "markdown",
   "id": "bcac52aa",
   "metadata": {},
   "source": [
    "## accumulate "
   ]
  },
  {
   "cell_type": "code",
   "execution_count": 48,
   "id": "9d93e7d2",
   "metadata": {},
   "outputs": [
    {
     "data": {
      "text/plain": [
       "array([ 1,  3,  6, 10], dtype=int32)"
      ]
     },
     "execution_count": 48,
     "metadata": {},
     "output_type": "execute_result"
    }
   ],
   "source": [
    "# op.accumulate(a)\n",
    "# `accumulate` 可以看成保存 `reduce` 每一步的结果所形成的数组。\n",
    "a = np.array([1,2,3,4])\n",
    "np.add.accumulate(a)"
   ]
  },
  {
   "cell_type": "markdown",
   "id": "d9dc06fe",
   "metadata": {},
   "source": [
    "## reduceat "
   ]
  },
  {
   "cell_type": "code",
   "execution_count": 49,
   "id": "cf9b8bb9",
   "metadata": {},
   "outputs": [
    {
     "data": {
      "text/plain": [
       "array([60, 90], dtype=int32)"
      ]
     },
     "execution_count": 49,
     "metadata": {},
     "output_type": "execute_result"
    }
   ],
   "source": [
    "# op.reduceat(a, indices)\n",
    "# `reduceat` 方法将操作符运用到指定的下标上，返回一个与 `indices` 大小相同的数组：\n",
    "a = np.array([0, 10, 20, 30, 40, 50])\n",
    "indices = np.array([1,4])\n",
    "\n",
    "np.add.reduceat(a, indices)\n",
    "# 这里，`indices` 为 `[1, 4]`，所以 `60` 表示从下标1（包括）加到下标4（不包括）的结果，`90` 表示从下标4（包括）加到结尾的结果。"
   ]
  },
  {
   "cell_type": "markdown",
   "id": "52a984f1",
   "metadata": {},
   "source": [
    "## outer"
   ]
  },
  {
   "cell_type": "code",
   "execution_count": 51,
   "id": "cfea0f8e",
   "metadata": {},
   "outputs": [
    {
     "data": {
      "text/plain": [
       "array([[1, 2, 3],\n",
       "       [2, 3, 4]])"
      ]
     },
     "execution_count": 51,
     "metadata": {},
     "output_type": "execute_result"
    }
   ],
   "source": [
    "# op.outer(a, b)\n",
    "# 对于 `a` 中每个元素，将 `op` 运用到它和 `b` 的每一个元素上所得到的结果：\n",
    "a = np.array([0,1])\n",
    "b = np.array([1,2,3])\n",
    "\n",
    "np.add.outer(a, b)"
   ]
  },
  {
   "cell_type": "markdown",
   "id": "dfc15bc4",
   "metadata": {},
   "source": [
    "# 文件读取和写入"
   ]
  },
  {
   "cell_type": "markdown",
   "id": "c2d37ed2",
   "metadata": {},
   "source": [
    "## 读取文件"
   ]
  },
  {
   "cell_type": "code",
   "execution_count": null,
   "id": "2cb7127c",
   "metadata": {},
   "outputs": [],
   "source": [
    "# 1.读取空格分割的文本"
   ]
  },
  {
   "cell_type": "code",
   "execution_count": 53,
   "id": "8a978d5b",
   "metadata": {},
   "outputs": [
    {
     "name": "stdout",
     "output_type": "stream",
     "text": [
      "Writing myfile.txt\n"
     ]
    }
   ],
   "source": [
    "%%writefile myfile.txt\n",
    "2.1 2.3 3.2 1.3 3.1\n",
    "6.1 3.1 4.2 2.3 1.8"
   ]
  },
  {
   "cell_type": "code",
   "execution_count": 54,
   "id": "2c826f83",
   "metadata": {},
   "outputs": [
    {
     "data": {
      "text/plain": [
       "array([[2.1, 2.3, 3.2, 1.3, 3.1],\n",
       "       [6.1, 3.1, 4.2, 2.3, 1.8]])"
      ]
     },
     "execution_count": 54,
     "metadata": {},
     "output_type": "execute_result"
    }
   ],
   "source": [
    "data = np.loadtxt('myfile.txt')\n",
    "data"
   ]
  },
  {
   "cell_type": "code",
   "execution_count": 55,
   "id": "fe1c1eb3",
   "metadata": {},
   "outputs": [],
   "source": [
    "# 2.逗号分割的文本"
   ]
  },
  {
   "cell_type": "code",
   "execution_count": 56,
   "id": "328da2a0",
   "metadata": {},
   "outputs": [
    {
     "name": "stdout",
     "output_type": "stream",
     "text": [
      "Overwriting myfile.txt\n"
     ]
    }
   ],
   "source": [
    "%%writefile myfile.txt\n",
    "2.1, 2.3, 3.2, 1.3, 3.1\n",
    "6.1, 3.1, 4.2, 2.3, 1.8"
   ]
  },
  {
   "cell_type": "code",
   "execution_count": 57,
   "id": "10551c00",
   "metadata": {},
   "outputs": [
    {
     "data": {
      "text/plain": [
       "array([[2.1, 2.3, 3.2, 1.3, 3.1],\n",
       "       [6.1, 3.1, 4.2, 2.3, 1.8]])"
      ]
     },
     "execution_count": 57,
     "metadata": {},
     "output_type": "execute_result"
    }
   ],
   "source": [
    "data = np.loadtxt('myfile.txt', delimiter=',')\n",
    "data"
   ]
  },
  {
   "cell_type": "markdown",
   "id": "0b383b8a",
   "metadata": {},
   "source": [
    "## loadtxt函数"
   ]
  },
  {
   "cell_type": "code",
   "execution_count": null,
   "id": "d5f67bbc",
   "metadata": {},
   "outputs": [],
   "source": [
    "# 1.loadtxt的使用"
   ]
  },
  {
   "cell_type": "code",
   "execution_count": 58,
   "id": "142e7ce0",
   "metadata": {},
   "outputs": [
    {
     "name": "stdout",
     "output_type": "stream",
     "text": [
      "Overwriting myfile.txt\n"
     ]
    }
   ],
   "source": [
    "%%writefile myfile.txt\n",
    " -- BEGINNING OF THE FILE\n",
    "% Day, Month, Year, Skip, Power\n",
    "01, 01, 2000, x876, 13 % wow!\n",
    "% we don't want have Jan 03rd\n",
    "04, 01, 2000, xfed, 55"
   ]
  },
  {
   "cell_type": "code",
   "execution_count": 59,
   "id": "1d1e8afa",
   "metadata": {},
   "outputs": [
    {
     "name": "stderr",
     "output_type": "stream",
     "text": [
      "C:\\Users\\17677\\AppData\\Local\\Temp\\ipykernel_15284\\2657762018.py:3: DeprecationWarning: `np.int` is a deprecated alias for the builtin `int`. To silence this warning, use `int` by itself. Doing this will not modify any behavior and is safe. When replacing `np.int`, you may wish to use e.g. `np.int64` or `np.int32` to specify the precision. If you wish to review your current use, check the release note link for additional information.\n",
      "Deprecated in NumPy 1.20; for more details and guidance: https://numpy.org/devdocs/release/1.20.0-notes.html#deprecations\n",
      "  dtype=np.int,      #数组类型\n"
     ]
    },
    {
     "data": {
      "text/plain": [
       "array([[   1,    1, 2000,   13],\n",
       "       [   4,    1, 2000,   55]])"
      ]
     },
     "execution_count": 59,
     "metadata": {},
     "output_type": "execute_result"
    }
   ],
   "source": [
    "data = np.loadtxt('myfile.txt', \n",
    "                  skiprows=1,         #忽略第一行\n",
    "                  dtype=np.int,      #数组类型\n",
    "                  delimiter=',',     #逗号分割\n",
    "                  usecols=(0,1,2,4), #指定使用哪几列数据\n",
    "                  comments='%'       #百分号为注释符\n",
    "                 )\n",
    "data"
   ]
  },
  {
   "cell_type": "markdown",
   "id": "f6221246",
   "metadata": {},
   "source": [
    "## 写入文件"
   ]
  },
  {
   "cell_type": "code",
   "execution_count": 65,
   "id": "616e417a",
   "metadata": {},
   "outputs": [],
   "source": [
    "# 1.将数组写入文件\n",
    "# `savetxt` 可以将数组写入文件，默认使用科学计数法的形式保存：\n",
    "data = np.array([[1,2], \n",
    "                 [3,4]])\n",
    "np.savetxt('test100.txt', data)"
   ]
  },
  {
   "cell_type": "code",
   "execution_count": 66,
   "id": "1b6359be",
   "metadata": {},
   "outputs": [],
   "source": [
    "## 以整数保存\n",
    "data = np.array([[1,2], \n",
    "                 [3,4]])\n",
    "\n",
    "np.savetxt('out.txt', data, fmt=\"%d\") #保存为整数"
   ]
  },
  {
   "cell_type": "code",
   "execution_count": 67,
   "id": "98e51f68",
   "metadata": {},
   "outputs": [],
   "source": [
    "## 以整数保存，逗号作为分隔符\n",
    "data = np.array([[1,2], \n",
    "                 [3,4]])\n",
    "\n",
    "np.savetxt('out.txt', data, fmt=\"%.2f\", delimiter=',') #保存为2位小数的浮点数，用逗号分隔"
   ]
  },
  {
   "cell_type": "code",
   "execution_count": 68,
   "id": "a9a0363d",
   "metadata": {},
   "outputs": [],
   "source": [
    "# 2.二进制格式保存\n",
    "# 数组可以储存成二进制格式，单个的数组保存为 `.npy` 格式，多个数组保存为多个`.npy`文件组成的 `.npz` 格式，每个 `.npy` 文件包含一个数组。\n",
    "\n",
    "# 与文本格式不同，二进制格式保存了数组的 `shape, dtype` 信息，以便完全重构出保存的数组。\n",
    "\n",
    "# 保存的方法：\n",
    "\n",
    "# - `save(file, arr)` 保存单个数组，`.npy` 格式\n",
    "# - `savez(file, *args, **kwds)` 保存多个数组，无压缩的 `.npz` 格式\n",
    "# - `savez_compressed(file, *args, **kwds)` 保存多个数组，有压缩的 `.npz` 格式\n",
    "\n",
    "# 读取的方法：\n",
    "\n",
    "# - `load(file, mmap_mode=None)` 对于 `.npy`，返回保存的数组，对于 `.npz`，返回一个名称-数组对组成的字典。"
   ]
  },
  {
   "cell_type": "code",
   "execution_count": 69,
   "id": "84efc80b",
   "metadata": {},
   "outputs": [],
   "source": [
    "# 2.1.单个数组的读写\n",
    "a = np.array([[1.0,2.0], [3.0,4.0]])\n",
    "\n",
    "fname = 'afile.npy'\n",
    "np.save(fname, a)"
   ]
  },
  {
   "cell_type": "code",
   "execution_count": 70,
   "id": "a63a740e",
   "metadata": {},
   "outputs": [
    {
     "data": {
      "text/plain": [
       "array([[1., 2.],\n",
       "       [3., 4.]])"
      ]
     },
     "execution_count": 70,
     "metadata": {},
     "output_type": "execute_result"
    }
   ],
   "source": [
    "aa = np.load(fname)\n",
    "aa"
   ]
  },
  {
   "cell_type": "code",
   "execution_count": 71,
   "id": "ced2a8dc",
   "metadata": {},
   "outputs": [],
   "source": [
    "# 2.2.保存多个数组\n",
    "a = np.array([[1.0,2.0], \n",
    "              [3.0,4.0]])\n",
    "b = np.arange(1000)\n",
    "np.savez('data.npz', a=a, b=b)"
   ]
  },
  {
   "cell_type": "code",
   "execution_count": 72,
   "id": "fbf129a9",
   "metadata": {},
   "outputs": [
    {
     "name": "stderr",
     "output_type": "stream",
     "text": [
      "'unzip' �����ڲ����ⲿ���Ҳ���ǿ����еĳ���\n",
      "���������ļ���\n"
     ]
    }
   ],
   "source": [
    "# 查看里面包含的文件\n",
    "!unzip -l data.npz"
   ]
  },
  {
   "cell_type": "code",
   "execution_count": 77,
   "id": "3f09118b",
   "metadata": {},
   "outputs": [
    {
     "data": {
      "text/plain": [
       "array([[1., 2.],\n",
       "       [3., 4.]])"
      ]
     },
     "execution_count": 77,
     "metadata": {},
     "output_type": "execute_result"
    }
   ],
   "source": [
    "# 载入data\n",
    "data = np.load('data.npz')\n",
    "data['a']"
   ]
  }
 ],
 "metadata": {
  "kernelspec": {
   "display_name": "Python 3 (ipykernel)",
   "language": "python",
   "name": "python3"
  },
  "language_info": {
   "codemirror_mode": {
    "name": "ipython",
    "version": 3
   },
   "file_extension": ".py",
   "mimetype": "text/x-python",
   "name": "python",
   "nbconvert_exporter": "python",
   "pygments_lexer": "ipython3",
   "version": "3.9.13"
  },
  "toc": {
   "base_numbering": 1,
   "nav_menu": {},
   "number_sections": true,
   "sideBar": true,
   "skip_h1_title": false,
   "title_cell": "Table of Contents",
   "title_sidebar": "Contents",
   "toc_cell": false,
   "toc_position": {
    "height": "calc(100% - 180px)",
    "left": "10px",
    "top": "150px",
    "width": "204.52px"
   },
   "toc_section_display": true,
   "toc_window_display": true
  },
  "varInspector": {
   "cols": {
    "lenName": 16,
    "lenType": 16,
    "lenVar": 40
   },
   "kernels_config": {
    "python": {
     "delete_cmd_postfix": "",
     "delete_cmd_prefix": "del ",
     "library": "var_list.py",
     "varRefreshCmd": "print(var_dic_list())"
    },
    "r": {
     "delete_cmd_postfix": ") ",
     "delete_cmd_prefix": "rm(",
     "library": "var_list.r",
     "varRefreshCmd": "cat(var_dic_list()) "
    }
   },
   "types_to_exclude": [
    "module",
    "function",
    "builtin_function_or_method",
    "instance",
    "_Feature"
   ],
   "window_display": false
  }
 },
 "nbformat": 4,
 "nbformat_minor": 5
}
