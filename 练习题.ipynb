{
 "cells": [
  {
   "cell_type": "code",
   "execution_count": 1,
   "id": "89814e8e",
   "metadata": {},
   "outputs": [
    {
     "name": "stdout",
     "output_type": "stream",
     "text": [
      "{(1, 2): {(4, 5), 3}}\n"
     ]
    }
   ],
   "source": [
    "#1.\n",
    "dicts = {}\n",
    "dicts[(1, 2)] = ({3, (4, 5)})\n",
    "print(dicts)\n",
    "#字典的键必须是可哈希的"
   ]
  },
  {
   "cell_type": "code",
   "execution_count": 2,
   "id": "35694307",
   "metadata": {},
   "outputs": [
    {
     "name": "stdout",
     "output_type": "stream",
     "text": [
      "[1, 2, 3, 4, ['a', 'b', 'c'], 5]\n"
     ]
    }
   ],
   "source": [
    "import copy\n",
    "a = [1, 2, 3, 4, ['a', 'b']]\n",
    "b = a\n",
    "c = copy.copy(a)\n",
    "d = copy.deepcopy(a)\n",
    "a.append(5)\n",
    "a[4].append('c')\n",
    "print(a)"
   ]
  },
  {
   "cell_type": "code",
   "execution_count": 3,
   "id": "c33c14ad",
   "metadata": {},
   "outputs": [
    {
     "name": "stdout",
     "output_type": "stream",
     "text": [
      "***abc****\n"
     ]
    }
   ],
   "source": [
    "#2.center()返回指定宽度的字符串\n",
    "a='abc'\n",
    "print(a.center(10, '*'))"
   ]
  },
  {
   "cell_type": "code",
   "execution_count": 4,
   "id": "a4bdab41",
   "metadata": {},
   "outputs": [
    {
     "ename": "AttributeError",
     "evalue": "'list' object has no attribute 'fromkeys'",
     "output_type": "error",
     "traceback": [
      "\u001b[1;31m---------------------------------------------------------------------------\u001b[0m",
      "\u001b[1;31mAttributeError\u001b[0m                            Traceback (most recent call last)",
      "Input \u001b[1;32mIn [4]\u001b[0m, in \u001b[0;36m<cell line: 4>\u001b[1;34m()\u001b[0m\n\u001b[0;32m      2\u001b[0m c\u001b[38;5;241m=\u001b[39m[\u001b[38;5;241m1\u001b[39m,\u001b[38;5;241m1\u001b[39m,\u001b[38;5;241m5\u001b[39m,\u001b[38;5;241m5\u001b[39m]\n\u001b[0;32m      3\u001b[0m b \u001b[38;5;241m=\u001b[39m {}\n\u001b[1;32m----> 4\u001b[0m b \u001b[38;5;241m=\u001b[39m \u001b[38;5;28mlist\u001b[39m(\u001b[43mc\u001b[49m\u001b[38;5;241;43m.\u001b[39;49m\u001b[43mfromkeys\u001b[49m(a))\n",
      "\u001b[1;31mAttributeError\u001b[0m: 'list' object has no attribute 'fromkeys'"
     ]
    }
   ],
   "source": [
    "#3.字典去重\n",
    "c=[1,1,5,5]\n",
    "b = {}\n",
    "b = list(c.fromkeys(a))"
   ]
  },
  {
   "cell_type": "code",
   "execution_count": 1,
   "id": "ce437fc4",
   "metadata": {},
   "outputs": [],
   "source": [
    "import torch"
   ]
  },
  {
   "cell_type": "code",
   "execution_count": 2,
   "id": "726cd4e0",
   "metadata": {},
   "outputs": [],
   "source": [
    "X=torch.Tensor([[-1,0.,2,1],\n",
    "                 [0,3,0,-3],\n",
    "                 [0,-1,1,0],\n",
    "                 [2,4,0,2]])"
   ]
  },
  {
   "cell_type": "code",
   "execution_count": 20,
   "id": "d11c0593",
   "metadata": {},
   "outputs": [
    {
     "data": {
      "text/plain": [
       "torch.Size([4, 4])"
      ]
     },
     "execution_count": 20,
     "metadata": {},
     "output_type": "execute_result"
    }
   ],
   "source": [
    "X_res=torch.inverse(X)\n",
    "X_res.shape"
   ]
  },
  {
   "cell_type": "code",
   "execution_count": 19,
   "id": "396865cf",
   "metadata": {},
   "outputs": [
    {
     "data": {
      "text/plain": [
       "torch.Size([4, 1])"
      ]
     },
     "execution_count": 19,
     "metadata": {},
     "output_type": "execute_result"
    }
   ],
   "source": [
    "x=torch.Tensor([[2],[0],[0],[8]])\n",
    "x.shape"
   ]
  },
  {
   "cell_type": "code",
   "execution_count": 21,
   "id": "e1ca9d2f",
   "metadata": {
    "collapsed": true
   },
   "outputs": [
    {
     "ename": "RuntimeError",
     "evalue": "1D tensors expected, but got 2D and 2D tensors",
     "output_type": "error",
     "traceback": [
      "\u001b[1;31m---------------------------------------------------------------------------\u001b[0m",
      "\u001b[1;31mRuntimeError\u001b[0m                              Traceback (most recent call last)",
      "Input \u001b[1;32mIn [21]\u001b[0m, in \u001b[0;36m<cell line: 1>\u001b[1;34m()\u001b[0m\n\u001b[1;32m----> 1\u001b[0m \u001b[38;5;28mprint\u001b[39m(\u001b[43mtorch\u001b[49m\u001b[38;5;241;43m.\u001b[39;49m\u001b[43mdot\u001b[49m\u001b[43m(\u001b[49m\u001b[43mx\u001b[49m\u001b[43m,\u001b[49m\u001b[43mX_res\u001b[49m\u001b[43m)\u001b[49m)\n",
      "\u001b[1;31mRuntimeError\u001b[0m: 1D tensors expected, but got 2D and 2D tensors"
     ]
    }
   ],
   "source": [
    "print(torch.dot(x,X_res))"
   ]
  },
  {
   "cell_type": "code",
   "execution_count": 1,
   "id": "9e2bbfeb",
   "metadata": {},
   "outputs": [],
   "source": [
    "import numpy as np"
   ]
  },
  {
   "cell_type": "code",
   "execution_count": 2,
   "id": "755d49f6",
   "metadata": {},
   "outputs": [],
   "source": [
    "a=np.array([[1,1,1,1],[1,1,-1,-1],[1,-1,1,-1],[1,-1,-1,1]])"
   ]
  },
  {
   "cell_type": "code",
   "execution_count": 4,
   "id": "837032b2",
   "metadata": {},
   "outputs": [
    {
     "data": {
      "text/plain": [
       "array([[ 0.25,  0.25,  0.25,  0.25],\n",
       "       [ 0.25,  0.25, -0.25, -0.25],\n",
       "       [ 0.25, -0.25,  0.25, -0.25],\n",
       "       [ 0.25, -0.25, -0.25,  0.25]])"
      ]
     },
     "execution_count": 4,
     "metadata": {},
     "output_type": "execute_result"
    }
   ],
   "source": [
    "b=np.linalg.inv(a)\n",
    "b"
   ]
  },
  {
   "cell_type": "code",
   "execution_count": 6,
   "id": "054eb629",
   "metadata": {},
   "outputs": [
    {
     "data": {
      "text/plain": [
       "(4,)"
      ]
     },
     "execution_count": 6,
     "metadata": {},
     "output_type": "execute_result"
    }
   ],
   "source": [
    "c=np.array([1,2,1,1])\n",
    "c.shape"
   ]
  },
  {
   "cell_type": "code",
   "execution_count": 7,
   "id": "42742b11",
   "metadata": {},
   "outputs": [
    {
     "name": "stdout",
     "output_type": "stream",
     "text": [
      "[ 1.25  0.25 -0.25 -0.25]\n"
     ]
    }
   ],
   "source": [
    "print(np.dot(b,c))"
   ]
  },
  {
   "cell_type": "code",
   "execution_count": 8,
   "id": "fadd45be",
   "metadata": {},
   "outputs": [
    {
     "name": "stdout",
     "output_type": "stream",
     "text": [
      "[[ 1.00000000e+00  3.33066907e-16  2.22044605e-16  1.00000000e+00]\n",
      " [ 1.00000000e+00  1.00000000e+00  2.22044605e-16  1.00000000e+00]\n",
      " [-1.38777878e-17  1.00000000e+00  1.00000000e+00  1.00000000e+00]\n",
      " [ 0.00000000e+00  2.22044605e-16  1.00000000e+00  2.22044605e-16]]\n"
     ]
    }
   ],
   "source": [
    "a=np.array([[1,1,-1,-1],[2,-1,2,-1],[-1,1,1,0],[0,1,1,1]])\n",
    "b=np.linalg.inv(a)\n",
    "c=np.array([[2,0,-2,1],[1,1,1,3],[0,2,1,1],[1,2,2,2]])\n",
    "print(np.dot(b,c))"
   ]
  },
  {
   "cell_type": "code",
   "execution_count": 1,
   "id": "56f308bb",
   "metadata": {},
   "outputs": [],
   "source": [
    "#利用python进行LU分解\n",
    "#LU分解求Ax=b\n",
    "#过程：A=LU,LZ=b,Ux=Z\n",
    " \n",
    "import numpy as np\n",
    "import pandas as pd\n",
    "from scipy import linalg\n",
    " \n",
    "np.random.seed(2)\n",
    "def LU_decomposition(A,b):\n",
    "    n=len(A[0])\n",
    "    L = np.zeros([n,n])\n",
    "    U = np.zeros([n, n])\n",
    "    for i in range(n):\n",
    "        L[i][i]=1\n",
    "        if i==0:\n",
    "            U[0][0] = A[0][0]\n",
    "            for j in range(1,n):\n",
    "                U[0][j]=A[0][j]\n",
    "                L[j][0]=A[j][0]/U[0][0]\n",
    "        else:\n",
    "                for j in range(i, n):#U\n",
    "                    temp=0\n",
    "                    for k in range(0, i):\n",
    "                        temp = temp+L[i][k] * U[k][j]\n",
    "                    U[i][j]=A[i][j]-temp\n",
    "                for j in range(i+1, n):#L\n",
    "                    temp = 0\n",
    "                    for k in range(0, i ):\n",
    "                        temp = temp + L[j][k] * U[k][i]\n",
    "                    L[j][i] = (A[j][i] - temp)/U[i][i]\n",
    "    \n",
    "    Z=linalg.solve(L, b)\n",
    "    x=linalg.solve(U, Z)\n",
    "    \n",
    "    print(\"L=\",L)\n",
    "    print(\"U=\",U)\n",
    "    print(\"Z=\",Z)\n",
    "    print(\"Exact solution: x=\",x)\n",
    "    print(np.linalg.inv(L))\n",
    "    \n",
    "    return\n"
   ]
  },
  {
   "cell_type": "code",
   "execution_count": 15,
   "id": "045a52c8",
   "metadata": {
    "collapsed": true
   },
   "outputs": [
    {
     "name": "stdout",
     "output_type": "stream",
     "text": [
      "L= [[1.  0.  0. ]\n",
      " [0.5 1.  0. ]\n",
      " [1.  2.  1. ]]\n",
      "U= [[ 2.  -1.   3. ]\n",
      " [ 0.   2.5 -0.5]\n",
      " [ 0.   0.   1. ]]\n",
      "Z= [-3.   5.5 -1. ]\n",
      "Exact solution: x= [ 1.  2. -1.]\n",
      "[[ 1.   0.   0. ]\n",
      " [-0.5  1.   0. ]\n",
      " [-0.  -2.   1. ]]\n"
     ]
    }
   ],
   "source": [
    "a=np.array([[2,-1,3],[1,2,1],[2,4,3]])\n",
    "b=np.array([-3,4,7])\n",
    "LU_decomposition(a,b)"
   ]
  },
  {
   "cell_type": "code",
   "execution_count": 17,
   "id": "fc8dcab9",
   "metadata": {},
   "outputs": [],
   "source": [
    "#为方便示意不考虑时间空间代价\n",
    "def Cholesky_plus(matrix):\n",
    "    w = matrix.shape[0]\n",
    "    L = np.zeros((w,w))\n",
    "    for i in range(w):\n",
    "        L[i,i] = 1\n",
    "    D = np.zeros((w,w))\n",
    "    for i in range(w):\n",
    "        D[i,i] = matrix[i,i] - np.dot(np.dot(L[i,:i],D[:i,:i]),L[i,:i].T)\n",
    "        for j in range(i+1,w):\n",
    "            L[j,i] = (matrix[j,i] - np.dot(np.dot(L[j,:i],D[:i,:i]),L[i,:i].T))/D[i,i]\n",
    "    return L,D"
   ]
  },
  {
   "cell_type": "code",
   "execution_count": 18,
   "id": "f002b9ab",
   "metadata": {
    "collapsed": true
   },
   "outputs": [
    {
     "name": "stdout",
     "output_type": "stream",
     "text": [
      "[[ 1.          0.          0.          0.        ]\n",
      " [ 2.          1.          0.          0.        ]\n",
      " [ 1.         -2.          1.          0.        ]\n",
      " [-3.          1.          0.66666667  1.        ]]\n",
      "[[1. 0. 0. 0.]\n",
      " [0. 1. 0. 0.]\n",
      " [0. 0. 9. 0.]\n",
      " [0. 0. 0. 1.]]\n"
     ]
    }
   ],
   "source": [
    "a=np.array([[1,2,1,-3],[2,5,0,-5],[1,0,14,1],[-3,-5,1,15]])\n",
    "L,D=Cholesky_plus(a)\n",
    "print(L)\n",
    "print(D)"
   ]
  },
  {
   "cell_type": "code",
   "execution_count": 19,
   "id": "ded4e37b",
   "metadata": {
    "collapsed": true
   },
   "outputs": [
    {
     "name": "stdout",
     "output_type": "stream",
     "text": [
      "L= [[ 1.          0.          0.          0.        ]\n",
      " [ 2.          1.          0.          0.        ]\n",
      " [ 1.         -2.          1.          0.        ]\n",
      " [-3.          1.          0.66666667  1.        ]]\n",
      "U= [[ 1.  2.  1. -3.]\n",
      " [ 0.  1. -2.  1.]\n",
      " [ 0.  0.  9.  6.]\n",
      " [ 0.  0.  0.  1.]]\n",
      "Z= [ 1.         -1.         -2.          6.33333333]\n",
      "Exact solution: x= [ 56.88888889 -16.22222222  -4.44444444   6.33333333]\n",
      "[[ 1.         -0.         -0.         -0.        ]\n",
      " [-2.          1.         -0.         -0.        ]\n",
      " [-5.          2.          1.          0.        ]\n",
      " [ 8.33333333 -2.33333333 -0.66666667  1.        ]]\n"
     ]
    }
   ],
   "source": [
    "b=np.array([1,1,1,1])\n",
    "LU_decomposition(a,b)"
   ]
  },
  {
   "cell_type": "code",
   "execution_count": 20,
   "id": "56efda82",
   "metadata": {
    "collapsed": true
   },
   "outputs": [
    {
     "name": "stdout",
     "output_type": "stream",
     "text": [
      "[[ 1. -1.  0.  0.]\n",
      " [-1.  1.  1.  0.]\n",
      " [-1. -1. -0. -0.]\n",
      " [ 1.  1.  0.  1.]]\n"
     ]
    }
   ],
   "source": [
    "a=np.array([[1/2,0,-1/2,0],[-1/2,0,-1/2,0],[1,1,0,0],[0,0,1,1]])\n",
    "print(np.linalg.inv(a))"
   ]
  },
  {
   "cell_type": "code",
   "execution_count": 21,
   "id": "96f09185",
   "metadata": {
    "collapsed": true
   },
   "outputs": [
    {
     "name": "stdout",
     "output_type": "stream",
     "text": [
      "[[ 0.25  0.5   0.25]\n",
      " [-0.25 -0.5   0.75]\n",
      " [-0.25  0.5  -0.25]]\n"
     ]
    }
   ],
   "source": [
    "a=np.array([[1,-1,-2],[1,0,1],[1,1,0]])\n",
    "print(np.linalg.inv(a))"
   ]
  },
  {
   "cell_type": "code",
   "execution_count": 2,
   "id": "d150ed54",
   "metadata": {},
   "outputs": [],
   "source": [
    "a=np.array([[1,0,2,1],[-1,2,1,3],[1,2,5,5],[2,-2,1,-2]])"
   ]
  },
  {
   "cell_type": "code",
   "execution_count": 3,
   "id": "9455085f",
   "metadata": {},
   "outputs": [
    {
     "ename": "LinAlgError",
     "evalue": "Singular matrix",
     "output_type": "error",
     "traceback": [
      "\u001b[1;31m---------------------------------------------------------------------------\u001b[0m",
      "\u001b[1;31mLinAlgError\u001b[0m                               Traceback (most recent call last)",
      "Input \u001b[1;32mIn [3]\u001b[0m, in \u001b[0;36m<cell line: 1>\u001b[1;34m()\u001b[0m\n\u001b[1;32m----> 1\u001b[0m \u001b[38;5;28mprint\u001b[39m(\u001b[43mnp\u001b[49m\u001b[38;5;241;43m.\u001b[39;49m\u001b[43mlinalg\u001b[49m\u001b[38;5;241;43m.\u001b[39;49m\u001b[43minv\u001b[49m\u001b[43m(\u001b[49m\u001b[43ma\u001b[49m\u001b[43m)\u001b[49m)\n",
      "File \u001b[1;32m<__array_function__ internals>:5\u001b[0m, in \u001b[0;36minv\u001b[1;34m(*args, **kwargs)\u001b[0m\n",
      "File \u001b[1;32m~\\anaconda3\\lib\\site-packages\\numpy\\linalg\\linalg.py:545\u001b[0m, in \u001b[0;36minv\u001b[1;34m(a)\u001b[0m\n\u001b[0;32m    543\u001b[0m signature \u001b[38;5;241m=\u001b[39m \u001b[38;5;124m'\u001b[39m\u001b[38;5;124mD->D\u001b[39m\u001b[38;5;124m'\u001b[39m \u001b[38;5;28;01mif\u001b[39;00m isComplexType(t) \u001b[38;5;28;01melse\u001b[39;00m \u001b[38;5;124m'\u001b[39m\u001b[38;5;124md->d\u001b[39m\u001b[38;5;124m'\u001b[39m\n\u001b[0;32m    544\u001b[0m extobj \u001b[38;5;241m=\u001b[39m get_linalg_error_extobj(_raise_linalgerror_singular)\n\u001b[1;32m--> 545\u001b[0m ainv \u001b[38;5;241m=\u001b[39m \u001b[43m_umath_linalg\u001b[49m\u001b[38;5;241;43m.\u001b[39;49m\u001b[43minv\u001b[49m\u001b[43m(\u001b[49m\u001b[43ma\u001b[49m\u001b[43m,\u001b[49m\u001b[43m \u001b[49m\u001b[43msignature\u001b[49m\u001b[38;5;241;43m=\u001b[39;49m\u001b[43msignature\u001b[49m\u001b[43m,\u001b[49m\u001b[43m \u001b[49m\u001b[43mextobj\u001b[49m\u001b[38;5;241;43m=\u001b[39;49m\u001b[43mextobj\u001b[49m\u001b[43m)\u001b[49m\n\u001b[0;32m    546\u001b[0m \u001b[38;5;28;01mreturn\u001b[39;00m wrap(ainv\u001b[38;5;241m.\u001b[39mastype(result_t, copy\u001b[38;5;241m=\u001b[39m\u001b[38;5;28;01mFalse\u001b[39;00m))\n",
      "File \u001b[1;32m~\\anaconda3\\lib\\site-packages\\numpy\\linalg\\linalg.py:88\u001b[0m, in \u001b[0;36m_raise_linalgerror_singular\u001b[1;34m(err, flag)\u001b[0m\n\u001b[0;32m     87\u001b[0m \u001b[38;5;28;01mdef\u001b[39;00m \u001b[38;5;21m_raise_linalgerror_singular\u001b[39m(err, flag):\n\u001b[1;32m---> 88\u001b[0m     \u001b[38;5;28;01mraise\u001b[39;00m LinAlgError(\u001b[38;5;124m\"\u001b[39m\u001b[38;5;124mSingular matrix\u001b[39m\u001b[38;5;124m\"\u001b[39m)\n",
      "\u001b[1;31mLinAlgError\u001b[0m: Singular matrix"
     ]
    }
   ],
   "source": [
    "print(np.linalg.inv(a))"
   ]
  },
  {
   "cell_type": "code",
   "execution_count": null,
   "id": "e5bd9021",
   "metadata": {},
   "outputs": [],
   "source": []
  }
 ],
 "metadata": {
  "kernelspec": {
   "display_name": "Python 3 (ipykernel)",
   "language": "python",
   "name": "python3"
  },
  "language_info": {
   "codemirror_mode": {
    "name": "ipython",
    "version": 3
   },
   "file_extension": ".py",
   "mimetype": "text/x-python",
   "name": "python",
   "nbconvert_exporter": "python",
   "pygments_lexer": "ipython3",
   "version": "3.9.12"
  },
  "toc": {
   "base_numbering": 1,
   "nav_menu": {},
   "number_sections": true,
   "sideBar": true,
   "skip_h1_title": false,
   "title_cell": "Table of Contents",
   "title_sidebar": "Contents",
   "toc_cell": false,
   "toc_position": {},
   "toc_section_display": true,
   "toc_window_display": false
  }
 },
 "nbformat": 4,
 "nbformat_minor": 5
}
