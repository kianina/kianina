{
 "cells": [
  {
   "cell_type": "markdown",
   "metadata": {},
   "source": [
    "# python中的os模块"
   ]
  },
  {
   "cell_type": "code",
   "execution_count": null,
   "metadata": {},
   "outputs": [],
   "source": [
    "import os"
   ]
  },
  {
   "cell_type": "code",
   "execution_count": null,
   "metadata": {},
   "outputs": [
    {
     "name": "stdout",
     "output_type": "stream",
     "text": [
      "['DirEntry', 'F_OK', 'GenericAlias', 'Mapping', 'MutableMapping', 'O_APPEND', 'O_BINARY', 'O_CREAT', 'O_EXCL', 'O_NOINHERIT', 'O_RANDOM', 'O_RDONLY', 'O_RDWR', 'O_SEQUENTIAL', 'O_SHORT_LIVED', 'O_TEMPORARY', 'O_TEXT', 'O_TRUNC', 'O_WRONLY', 'P_DETACH', 'P_NOWAIT', 'P_NOWAITO', 'P_OVERLAY', 'P_WAIT', 'PathLike', 'R_OK', 'SEEK_CUR', 'SEEK_END', 'SEEK_SET', 'TMP_MAX', 'W_OK', 'X_OK', '_AddedDllDirectory', '_Environ', '__all__', '__builtins__', '__cached__', '__doc__', '__file__', '__loader__', '__name__', '__package__', '__spec__', '_check_methods', '_execvpe', '_exists', '_exit', '_fspath', '_get_exports_list', '_walk', '_wrap_close', 'abc', 'abort', 'access', 'add_dll_directory', 'altsep', 'chdir', 'chmod', 'close', 'closerange', 'cpu_count', 'curdir', 'defpath', 'device_encoding', 'devnull', 'dup', 'dup2', 'environ', 'error', 'execl', 'execle', 'execlp', 'execlpe', 'execv', 'execve', 'execvp', 'execvpe', 'extsep', 'fdopen', 'fsdecode', 'fsencode', 'fspath', 'fstat', 'fsync', 'ftruncate', 'get_exec_path', 'get_handle_inheritable', 'get_inheritable', 'get_terminal_size', 'getcwd', 'getcwdb', 'getenv', 'getlogin', 'getpid', 'getppid', 'isatty', 'kill', 'linesep', 'link', 'listdir', 'lseek', 'lstat', 'makedirs', 'mkdir', 'name', 'open', 'pardir', 'path', 'pathsep', 'pipe', 'popen', 'putenv', 'read', 'readlink', 'remove', 'removedirs', 'rename', 'renames', 'replace', 'rmdir', 'scandir', 'sep', 'set_handle_inheritable', 'set_inheritable', 'spawnl', 'spawnle', 'spawnv', 'spawnve', 'st', 'startfile', 'stat', 'stat_result', 'statvfs_result', 'strerror', 'supports_bytes_environ', 'supports_dir_fd', 'supports_effective_ids', 'supports_fd', 'supports_follow_symlinks', 'symlink', 'sys', 'system', 'terminal_size', 'times', 'times_result', 'truncate', 'umask', 'uname_result', 'unlink', 'unsetenv', 'urandom', 'utime', 'waitpid', 'waitstatus_to_exitcode', 'walk', 'write']\n",
      "['__all__', '__builtins__', '__cached__', '__doc__', '__file__', '__loader__', '__name__', '__package__', '__spec__', '_abspath_fallback', '_get_bothseps', '_getfinalpathname', '_getfinalpathname_nonstrict', '_getfullpathname', '_getvolumepathname', '_nt_readlink', '_readlink_deep', 'abspath', 'altsep', 'basename', 'commonpath', 'commonprefix', 'curdir', 'defpath', 'devnull', 'dirname', 'exists', 'expanduser', 'expandvars', 'extsep', 'genericpath', 'getatime', 'getctime', 'getmtime', 'getsize', 'isabs', 'isdir', 'isfile', 'islink', 'ismount', 'join', 'lexists', 'normcase', 'normpath', 'os', 'pardir', 'pathsep', 'realpath', 'relpath', 'samefile', 'sameopenfile', 'samestat', 'sep', 'split', 'splitdrive', 'splitext', 'stat', 'supports_unicode_filenames', 'sys']\n"
     ]
    }
   ],
   "source": [
    "#1.打印模块中的函数\n",
    "print(dir(os))\n",
    "print(dir(os.path))"
   ]
  },
  {
   "cell_type": "markdown",
   "metadata": {},
   "source": [
    "## 系统操作"
   ]
  },
  {
   "cell_type": "code",
   "execution_count": null,
   "metadata": {},
   "outputs": [
    {
     "name": "stdout",
     "output_type": "stream",
     "text": [
      "\\\n"
     ]
    }
   ],
   "source": [
    "#os.sep()：路径分隔\n",
    "print(os.sep)"
   ]
  },
  {
   "cell_type": "code",
   "execution_count": null,
   "metadata": {},
   "outputs": [
    {
     "name": "stdout",
     "output_type": "stream",
     "text": [
      "nt\n"
     ]
    }
   ],
   "source": [
    "#os.name:指示你的工作平台\n",
    "print(os.name)"
   ]
  },
  {
   "cell_type": "code",
   "execution_count": null,
   "metadata": {},
   "outputs": [
    {
     "name": "stdout",
     "output_type": "stream",
     "text": [
      "D:\\IDE_sources\\Ancona;D:\\IDE_sources\\Ancona\\Library\\mingw-w64\\bin;D:\\IDE_sources\\Ancona\\Library\\usr\\bin;D:\\IDE_sources\\Ancona\\Library\\bin;D:\\IDE_sources\\Ancona\\Scripts;D:\\big_software\\VMware\\bin\\;C:\\Windows\\system32;C:\\Windows;C:\\Windows\\System32\\Wbem;C:\\Windows\\System32\\WindowsPowerShell\\v1.0\\;C:\\Windows\\System32\\OpenSSH\\;C:\\Program Files (x86)\\NVIDIA Corporation\\PhysX\\Common;C:\\Program Files\\NVIDIA Corporation\\NVIDIA NvDLISR;C:\\Windows\\system32;C:\\Windows;C:\\Windows\\System32\\Wbem;C:\\Windows\\System32\\WindowsPowerShell\\v1.0\\;C:\\Windows\\System32\\OpenSSH\\;D:\\IDE_sources\\QT4\\Tools\\mingw730_32\\bin;D:\\IDE_sources\\python_ide\\python\\;D:\\IDE_sources\\python_ide\\Scripts\\;D:\\software\\software_a\\git\\Git\\cmd;D:\\software\\xshell\\;D:\\software\\xflt\\;D:\\IDE_sources\\node_js\\;D:\\IDE_sources\\Ancona;D:\\IDE_sources\\Ancona\\Library\\mingw-w64\\bin;D:\\IDE_sources\\Ancona\\Library\\usr\\bin;D:\\IDE_sources\\Ancona\\Library\\bin;D:\\IDE_sources\\Ancona\\Scripts;C:\\Users\\17677\\AppData\\Local\\Microsoft\\WindowsApps;C:\\Users\\17677\\AppData\\Local\\Programs\\Microsoft VS Code\\bin;C:\\Users\\17677\\AppData\\Roaming\\npm\n"
     ]
    }
   ],
   "source": [
    "#os.getenv:读取环境变量\n",
    "print(os.getenv('path'))"
   ]
  },
  {
   "cell_type": "code",
   "execution_count": null,
   "metadata": {},
   "outputs": [
    {
     "name": "stdout",
     "output_type": "stream",
     "text": [
      "D:\\code\\jupyter_code\n"
     ]
    }
   ],
   "source": [
    "#获取当前路径\n",
    "print(os.getcwd())"
   ]
  },
  {
   "cell_type": "markdown",
   "metadata": {},
   "source": [
    "## 目录和文件操作"
   ]
  },
  {
   "cell_type": "code",
   "execution_count": null,
   "metadata": {},
   "outputs": [
    {
     "data": {
      "text/plain": [
       "['.DS_Store',\n",
       " '.ipynb_checkpoints',\n",
       " 'python basic data structure.ipynb',\n",
       " 'Python Code Structure.ipynb',\n",
       " 'Python Function and Error.ipynb',\n",
       " 'Quiz Code Structure.ipynb',\n",
       " 'Quiz function,数据结构.ipynb',\n",
       " 'Solution Code Structure.ipynb',\n",
       " 'Solution function,数据结构.ipynb',\n",
       " 'Solution Unit Converter.ipynb',\n",
       " 'Solution Why Function.ipynb',\n",
       " 'solution 基本语法 及 变量.ipynb',\n",
       " 'solution 字符串.ipynb',\n",
       " 'tu.zip',\n",
       " 'Unit Converter.ipynb',\n",
       " '例子.docx']"
      ]
     },
     "metadata": {},
     "output_type": "display_data"
    }
   ],
   "source": [
    "#返回指定目录下的所有文件和目录名\n",
    "os.listdir('./code 2/')"
   ]
  },
  {
   "cell_type": "code",
   "execution_count": null,
   "metadata": {},
   "outputs": [],
   "source": [
    "#创建一个目录文件并删除这个空目录\n",
    "os.mkdir('./data1')"
   ]
  },
  {
   "cell_type": "code",
   "execution_count": null,
   "metadata": {},
   "outputs": [],
   "source": [
    "os.rmdir('./data1/')"
   ]
  },
  {
   "cell_type": "code",
   "execution_count": null,
   "metadata": {},
   "outputs": [],
   "source": [
    "#递归生成目录并删除多层空目录\n",
    "os.makedirs('./data1/data2/data3')"
   ]
  },
  {
   "cell_type": "code",
   "execution_count": null,
   "metadata": {},
   "outputs": [],
   "source": [
    "os.removedirs('./data1/data2/data3/')"
   ]
  },
  {
   "cell_type": "code",
   "execution_count": null,
   "metadata": {},
   "outputs": [
    {
     "name": "stdout",
     "output_type": "stream",
     "text": [
      "D:\\code\\jupyter_code\n",
      "D:\\code\\jupyter_code\n"
     ]
    }
   ],
   "source": [
    "#修改当前工作目录\n",
    "print(os.getcwd())\n",
    "os.chdir('D:\\code\\jupyter_code')\n",
    "print(os.getcwd())"
   ]
  },
  {
   "cell_type": "code",
   "execution_count": null,
   "metadata": {},
   "outputs": [
    {
     "ename": "FileNotFoundError",
     "evalue": "[WinError 2] 系统找不到指定的文件。: './data' -> './data1'",
     "output_type": "error",
     "traceback": [
      "\u001b[1;31m---------------------------------------------------------------------------\u001b[0m\n",
      "\u001b[1;31mFileNotFoundError\u001b[0m                         Traceback (most recent call last)\n",
      "\u001b[1;32m~\\AppData\\Local\\Temp\\ipykernel_11224\\1353464238.py\u001b[0m in \u001b[0;36m<module>\u001b[1;34m\u001b[0m\n",
      "\u001b[0;32m      1\u001b[0m \u001b[1;31m#重命名目录或文件名\u001b[0m\u001b[1;33m\u001b[0m\u001b[1;33m\u001b[0m\u001b[0m\n",
      "\u001b[1;32m----> 2\u001b[1;33m \u001b[0mos\u001b[0m\u001b[1;33m.\u001b[0m\u001b[0mrename\u001b[0m\u001b[1;33m(\u001b[0m\u001b[1;34m'./data'\u001b[0m\u001b[1;33m,\u001b[0m\u001b[1;34m'./data1'\u001b[0m\u001b[1;33m)\u001b[0m\u001b[1;33m\u001b[0m\u001b[1;33m\u001b[0m\u001b[0m\n",
      "\u001b[0m\n",
      "\u001b[1;31mFileNotFoundError\u001b[0m: [WinError 2] 系统找不到指定的文件。: './data' -> './data1'"
     ]
    }
   ],
   "source": [
    "#重命名目录或文件名\n",
    "os.rename('./data','./data1')"
   ]
  },
  {
   "cell_type": "code",
   "execution_count": null,
   "metadata": {},
   "outputs": [],
   "source": [
    "#打开文件,返回文件描述符\n",
    "f=os.open('./python练习题.ipynb',os.O_RDONLY)"
   ]
  },
  {
   "cell_type": "code",
   "execution_count": null,
   "metadata": {},
   "outputs": [
    {
     "data": {
      "text/plain": [
       "b'{\\n \"cells\"'"
      ]
     },
     "metadata": {},
     "output_type": "display_data"
    }
   ],
   "source": [
    "#读文件文件描述符和读取字符数\n",
    "os.read(f,10)"
   ]
  },
  {
   "cell_type": "code",
   "execution_count": null,
   "metadata": {},
   "outputs": [
    {
     "ename": "TypeError",
     "evalue": "a bytes-like object is required, not 'str'",
     "output_type": "error",
     "traceback": [
      "\u001b[1;31m---------------------------------------------------------------------------\u001b[0m\n",
      "\u001b[1;31mTypeError\u001b[0m                                 Traceback (most recent call last)\n",
      "\u001b[1;32m~\\AppData\\Local\\Temp\\ipykernel_11224\\154888413.py\u001b[0m in \u001b[0;36m<module>\u001b[1;34m\u001b[0m\n",
      "\u001b[0;32m      2\u001b[0m \u001b[0mf\u001b[0m\u001b[1;33m=\u001b[0m\u001b[0mos\u001b[0m\u001b[1;33m.\u001b[0m\u001b[0mopen\u001b[0m\u001b[1;33m(\u001b[0m\u001b[1;34m'./code 2/例子.docx'\u001b[0m\u001b[1;33m,\u001b[0m\u001b[0mos\u001b[0m\u001b[1;33m.\u001b[0m\u001b[0mO_WRONLY\u001b[0m\u001b[1;33m)\u001b[0m\u001b[1;33m\u001b[0m\u001b[1;33m\u001b[0m\u001b[0m\n",
      "\u001b[0;32m      3\u001b[0m \u001b[0mli\u001b[0m\u001b[1;33m=\u001b[0m\u001b[1;34m\"hello world\"\u001b[0m\u001b[1;33m\u001b[0m\u001b[1;33m\u001b[0m\u001b[0m\n",
      "\u001b[1;32m----> 4\u001b[1;33m \u001b[0mos\u001b[0m\u001b[1;33m.\u001b[0m\u001b[0mwrite\u001b[0m\u001b[1;33m(\u001b[0m\u001b[0mf\u001b[0m\u001b[1;33m,\u001b[0m\u001b[0mli\u001b[0m\u001b[1;33m)\u001b[0m\u001b[1;33m\u001b[0m\u001b[1;33m\u001b[0m\u001b[0m\n",
      "\u001b[0m\n",
      "\u001b[1;31mTypeError\u001b[0m: a bytes-like object is required, not 'str'"
     ]
    }
   ],
   "source": [
    "#写文件文件描述符和写入内容\n",
    "f=os.open('./code 2/例子.docx',os.O_WRONLY)\n",
    "li=\"hello world\"\n",
    "os.write(f,li)"
   ]
  },
  {
   "cell_type": "markdown",
   "metadata": {},
   "source": [
    "## path模块"
   ]
  },
  {
   "cell_type": "code",
   "execution_count": null,
   "metadata": {},
   "outputs": [
    {
     "data": {
      "text/plain": [
       "True"
      ]
     },
     "metadata": {},
     "output_type": "display_data"
    }
   ],
   "source": [
    "#判断文件或者目录是否存在\n",
    "os.path.exists('./data1/')"
   ]
  },
  {
   "cell_type": "code",
   "execution_count": null,
   "metadata": {},
   "outputs": [
    {
     "data": {
      "text/plain": [
       "False"
      ]
     },
     "metadata": {},
     "output_type": "display_data"
    }
   ],
   "source": [
    "#判断是否为文件\n",
    "os.path.isfile('./data1/')"
   ]
  },
  {
   "cell_type": "code",
   "execution_count": null,
   "metadata": {},
   "outputs": [
    {
     "data": {
      "text/plain": [
       "True"
      ]
     },
     "metadata": {},
     "output_type": "display_data"
    }
   ],
   "source": [
    "#判断是否是目录\n",
    "os.path.isdir('./data1/')"
   ]
  },
  {
   "cell_type": "code",
   "execution_count": null,
   "metadata": {},
   "outputs": [
    {
     "data": {
      "text/plain": [
       "'house_tiny.csv'"
      ]
     },
     "metadata": {},
     "output_type": "display_data"
    }
   ],
   "source": [
    "#返回文件名\n",
    "os.path.basename('./data1/house_tiny.csv')"
   ]
  },
  {
   "cell_type": "code",
   "execution_count": null,
   "metadata": {},
   "outputs": [
    {
     "data": {
      "text/plain": [
       "'./data1'"
      ]
     },
     "metadata": {},
     "output_type": "display_data"
    }
   ],
   "source": [
    "#返回文件路径\n",
    "os.path.dirname('./data1/house_tiny.csv')"
   ]
  },
  {
   "cell_type": "code",
   "execution_count": null,
   "metadata": {},
   "outputs": [
    {
     "data": {
      "text/plain": [
       "4096"
      ]
     },
     "metadata": {},
     "output_type": "display_data"
    }
   ],
   "source": [
    "#获得文件大小\n",
    "os.path.getsize('.ipynb_checkpoints/')"
   ]
  },
  {
   "cell_type": "code",
   "execution_count": null,
   "metadata": {},
   "outputs": [
    {
     "data": {
      "text/plain": [
       "'D:\\\\code\\\\jupyter_code\\\\data1\\\\house_tiny.csv'"
      ]
     },
     "metadata": {},
     "output_type": "display_data"
    }
   ],
   "source": [
    "#获得绝对路径\n",
    "os.path.abspath('./data1/house_tiny.csv')"
   ]
  },
  {
   "cell_type": "code",
   "execution_count": null,
   "metadata": {},
   "outputs": [],
   "source": [
    "#连接目录和文件名或目录\n",
    "os.mkdir('./python')"
   ]
  },
  {
   "cell_type": "code",
   "execution_count": null,
   "metadata": {},
   "outputs": [
    {
     "data": {
      "text/plain": [
       "'./python\\\\python练习题.ipynb'"
      ]
     },
     "metadata": {},
     "output_type": "display_data"
    }
   ],
   "source": [
    "os.path.join('./python','python练习题.ipynb')"
   ]
  },
  {
   "cell_type": "code",
   "execution_count": null,
   "metadata": {},
   "outputs": [
    {
     "data": {
      "text/plain": [
       "['.ipynb_checkpoints',\n",
       " '1_BoW_text_classification.ipynb',\n",
       " 'assignment1',\n",
       " 'code 2',\n",
       " 'code 6',\n",
       " 'd2l-zh',\n",
       " 'data1',\n",
       " 'dataset',\n",
       " 'NLP_learning',\n",
       " 'numpy.ipynb',\n",
       " 'pandas.ipynb',\n",
       " 'python',\n",
       " 'python入门.ipynb',\n",
       " 'python练习题.ipynb',\n",
       " 'pytorch.ipynb',\n",
       " 'sin_x.gif',\n",
       " 'tacotron2-japanese',\n",
       " '机器学习',\n",
       " '机器学习训练',\n",
       " '深度学习',\n",
       " '绘图.ipynb']"
      ]
     },
     "metadata": {},
     "output_type": "display_data"
    }
   ],
   "source": [
    "os.listdir('./')"
   ]
  },
  {
   "cell_type": "markdown",
   "metadata": {},
   "source": [
    "# python中的json模块"
   ]
  },
  {
   "cell_type": "code",
   "execution_count": null,
   "metadata": {},
   "outputs": [],
   "source": [
    "import json"
   ]
  },
  {
   "cell_type": "markdown",
   "metadata": {},
   "source": [
    "## 序列化操作"
   ]
  },
  {
   "cell_type": "code",
   "execution_count": null,
   "metadata": {},
   "outputs": [],
   "source": [
    "book_dict = {\n",
    "  \"store\": {\n",
    "    \"book\": [\n",
    "      { \"category\": \"reference\",\n",
    "        \"author\": \"Nigel Rees\",\n",
    "        \"title\": \"Sayings of the Century\",\n",
    "        \"price\": 8.95\n",
    "      },\n",
    "      { \"category\": \"fiction\",\n",
    "        \"author\": \"Evelyn Waugh\",\n",
    "        \"title\": \"Sword of Honour\",\n",
    "        \"price\": 12.99\n",
    "      },\n",
    "      { \"category\": \"fiction\",\n",
    "        \"author\": \"Herman Melville\",\n",
    "        \"title\": \"Moby Dick\",\n",
    "        \"isbn\": \"0-553-21311-3\",\n",
    "        \"price\": 8.99\n",
    "      },\n",
    "      { \"category\": \"fiction\",\n",
    "        \"author\": \"J. R. R. Tolkien\",\n",
    "        \"title\": \"The Lord of the Rings\",\n",
    "        \"isbn\": \"0-395-19395-8\",\n",
    "        \"price\": 22.99\n",
    "      }\n",
    "    ],\n",
    "    \"bicycle\": {\n",
    "      \"color\": \"red\",\n",
    "      \"price\": 19.95\n",
    "    }\n",
    "  }\n",
    "}"
   ]
  },
  {
   "cell_type": "code",
   "execution_count": null,
   "metadata": {},
   "outputs": [
    {
     "data": {
      "text/plain": [
       "'{\"store\": {\"book\": [{\"category\": \"reference\", \"author\": \"Nigel Rees\", \"title\": \"Sayings of the Century\", \"price\": 8.95}, {\"category\": \"fiction\", \"author\": \"Evelyn Waugh\", \"title\": \"Sword of Honour\", \"price\": 12.99}, {\"category\": \"fiction\", \"author\": \"Herman Melville\", \"title\": \"Moby Dick\", \"isbn\": \"0-553-21311-3\", \"price\": 8.99}, {\"category\": \"fiction\", \"author\": \"J. R. R. Tolkien\", \"title\": \"The Lord of the Rings\", \"isbn\": \"0-395-19395-8\", \"price\": 22.99}], \"bicycle\": {\"color\": \"red\", \"price\": 19.95}}}'"
      ]
     },
     "metadata": {},
     "output_type": "display_data"
    }
   ],
   "source": [
    "#将python中其他的数据类型（obj）转化为字符串类型\n",
    "json.dumps(book_dict)"
   ]
  },
  {
   "cell_type": "code",
   "execution_count": null,
   "metadata": {},
   "outputs": [
    {
     "name": "stdout",
     "output_type": "stream",
     "text": [
      "<class 'str'>\n"
     ]
    }
   ],
   "source": [
    "print(type(json.dumps(book_dict)))"
   ]
  },
  {
   "cell_type": "code",
   "execution_count": null,
   "metadata": {},
   "outputs": [],
   "source": [
    "#json.dump（）方法需要写入到文件中其他和json.dumps()一样\n",
    "with open('./info.txt','w') as f:\n",
    "    json.dump(book_dict,f)"
   ]
  },
  {
   "cell_type": "markdown",
   "metadata": {},
   "source": [
    "## 反序列化操作"
   ]
  },
  {
   "cell_type": "code",
   "execution_count": null,
   "metadata": {},
   "outputs": [
    {
     "data": {
      "text/plain": [
       "{'store': {'book': [{'category': 'reference',\n",
       "    'author': 'Nigel Rees',\n",
       "    'title': 'Sayings of the Century',\n",
       "    'price': 8.95},\n",
       "   {'category': 'fiction',\n",
       "    'author': 'Evelyn Waugh',\n",
       "    'title': 'Sword of Honour',\n",
       "    'price': 12.99},\n",
       "   {'category': 'fiction',\n",
       "    'author': 'Herman Melville',\n",
       "    'title': 'Moby Dick',\n",
       "    'isbn': '0-553-21311-3',\n",
       "    'price': 8.99},\n",
       "   {'category': 'fiction',\n",
       "    'author': 'J. R. R. Tolkien',\n",
       "    'title': 'The Lord of the Rings',\n",
       "    'isbn': '0-395-19395-8',\n",
       "    'price': 22.99}],\n",
       "  'bicycle': {'color': 'red', 'price': 19.95}}}"
      ]
     },
     "metadata": {},
     "output_type": "display_data"
    }
   ],
   "source": [
    "#该方法是将序列化的把字符串转换成数据类型,json.loads()\n",
    "data=json.dumps(book_dict)\n",
    "json.loads(data)"
   ]
  },
  {
   "cell_type": "code",
   "execution_count": null,
   "metadata": {},
   "outputs": [
    {
     "name": "stdout",
     "output_type": "stream",
     "text": [
      "<class 'dict'>\n",
      "store {'book': [{'category': 'reference', 'author': 'Nigel Rees', 'title': 'Sayings of the Century', 'price': 8.95}, {'category': 'fiction', 'author': 'Evelyn Waugh', 'title': 'Sword of Honour', 'price': 12.99}, {'category': 'fiction', 'author': 'Herman Melville', 'title': 'Moby Dick', 'isbn': '0-553-21311-3', 'price': 8.99}, {'category': 'fiction', 'author': 'J. R. R. Tolkien', 'title': 'The Lord of the Rings', 'isbn': '0-395-19395-8', 'price': 22.99}], 'bicycle': {'color': 'red', 'price': 19.95}}\n"
     ]
    }
   ],
   "source": [
    "with open('./info.txt','r') as f:\n",
    "    dic=json.load(f)\n",
    "    print(type(dic))\n",
    "    for v,m in dic.items():\n",
    "        print(v,m)"
   ]
  },
  {
   "cell_type": "markdown",
   "metadata": {},
   "source": [
    "# python中的jsonpath模块"
   ]
  },
  {
   "cell_type": "code",
   "execution_count": null,
   "metadata": {},
   "outputs": [],
   "source": [
    "from jsonpath import jsonpath"
   ]
  },
  {
   "cell_type": "code",
   "execution_count": null,
   "metadata": {},
   "outputs": [
    {
     "data": {
      "text/plain": [
       "['Sayings of the Century',\n",
       " 'Sword of Honour',\n",
       " 'Moby Dick',\n",
       " 'The Lord of the Rings']"
      ]
     },
     "metadata": {},
     "output_type": "display_data"
    }
   ],
   "source": [
    "#JsonPath 提供的 JSON解析功能非常强大，它提供了类似正则表达式的语法\n",
    "jsonpath(book_dict,\"$.store.book..title\")"
   ]
  },
  {
   "cell_type": "code",
   "execution_count": null,
   "metadata": {},
   "outputs": [
    {
     "data": {
      "text/plain": [
       "[{'category': 'fiction',\n",
       "  'author': 'J. R. R. Tolkien',\n",
       "  'title': 'The Lord of the Rings',\n",
       "  'isbn': '0-395-19395-8',\n",
       "  'price': 22.99}]"
      ]
     },
     "metadata": {},
     "output_type": "display_data"
    }
   ],
   "source": [
    "jsonpath(book_dict,\"$..[(@.length-1])\")"
   ]
  },
  {
   "cell_type": "code",
   "execution_count": null,
   "metadata": {},
   "outputs": [],
   "source": [
    "#案例\n",
    "import requests\n",
    "url='https://www.lagou.com/lbs/getAllCitySearchLabels.json'\n",
    "headers={\"User-Agent\" :\t\"Mozilla/5.0 (Windows NT 10.0; Win64; x64; rv:101.0) Gecko/20100101 Firefox/101.0\"}"
   ]
  },
  {
   "cell_type": "code",
   "execution_count": null,
   "metadata": {},
   "outputs": [],
   "source": [
    "response=requests.get(url,headers=headers)\n",
    "relx=response.content.decode()"
   ]
  },
  {
   "cell_type": "code",
   "execution_count": null,
   "metadata": {},
   "outputs": [
    {
     "name": "stdout",
     "output_type": "stream",
     "text": [
      "{'state': 1, 'message': 'success', 'content': {'data': {'allCitySearchLabels': {'A': [{'id': 671, 'name': '安庆', 'parentId': 541, 'code': '131800000', 'isSelected': False}, {'id': 723, 'name': '安阳', 'parentId': 545, 'code': '171500000', 'isSelected': False}, {'id': 601, 'name': '鞍山', 'parentId': 535, 'code': '081600000', 'isSelected': False}, {'id': 105795, 'name': '澳门', 'parentId': 562, 'code': '330100000', 'isSelected': False}, {'id': 825, 'name': '安顺', 'parentId': 553, 'code': '240400000', 'isSelected': False}, {'id': 598, 'name': '阿拉善盟', 'parentId': 534, 'code': '070300000', 'isSelected': False}, {'id': 819, 'name': '阿坝藏族羌族自治州', 'parentId': 552, 'code': '230700000', 'isSelected': False}], 'B': [{'id': 5, 'name': '北京', 'parentId': 1, 'code': '010100000', 'isSelected': False}, {'id': 570, 'name': '保定', 'parentId': 532, 'code': '051100000', 'isSelected': False}, {'id': 588, 'name': '包头', 'parentId': 534, 'code': '071300000', 'isSelected': False}, {'id': 666, 'name': '蚌埠', 'parentId': 541, 'code': '131300000', 'isSelected': False}, {'id': 794, 'name': '百色', 'parentId': 549, 'code': '210500000', 'isSelected': False}, {'id': 789, 'name': '北海', 'parentId': 549, 'code': '211000000', 'isSelected': False}, {'id': 856, 'name': '宝鸡', 'parentId': 556, 'code': '271000000', 'isSelected': False}, {'id': 717, 'name': '滨州', 'parentId': 544, 'code': '161400000', 'isSelected': False}, {'id': 828, 'name': '毕节', 'parentId': 553, 'code': '240700000', 'isSelected': False}, {'id': 834, 'name': '保山', 'parentId': 554, 'code': '251400000', 'isSelected': False}, {'id': 817, 'name': '巴中', 'parentId': 552, 'code': '230500000', 'isSelected': False}, {'id': 867, 'name': '白银', 'parentId': 557, 'code': '281100000', 'isSelected': False}, {'id': 678, 'name': '亳州', 'parentId': 541, 'code': '130500000', 'isSelected': False}, {'id': 603, 'name': '本溪', 'parentId': 535, 'code': '081400000', 'isSelected': False}, {'id': 597, 'name': '巴彦淖尔', 'parentId': 534, 'code': '070400000', 'isSelected': False}], 'C': [{'id': 801, 'name': '成都', 'parentId': 552, 'code': '230100000', 'isSelected': False}, {'id': 749, 'name': '长沙', 'parentId': 547, 'code': '190100000', 'isSelected': False}, {'id': 8, 'name': '重庆', 'parentId': 4, 'code': '040100000', 'isSelected': False}, {'id': 613, 'name': '长春', 'parentId': 536, 'code': '090100000', 'isSelected': False}, {'id': 638, 'name': '常州', 'parentId': 539, 'code': '112000000', 'isSelected': False}, {'id': 573, 'name': '沧州', 'parentId': 532, 'code': '050800000', 'isSelected': False}, {'id': 758, 'name': '郴州', 'parentId': 547, 'code': '190500000', 'isSelected': False}, {'id': 108405, 'name': '澄迈', 'parentId': 550, 'code': '223400000', 'isSelected': False}, {'id': 755, 'name': '常德', 'parentId': 547, 'code': '190800000', 'isSelected': False}, {'id': 572, 'name': '承德', 'parentId': 532, 'code': '050900000', 'isSelected': False}, {'id': 673, 'name': '滁州', 'parentId': 541, 'code': '131100000', 'isSelected': False}, {'id': 781, 'name': '潮州', 'parentId': 548, 'code': '200500000', 'isSelected': False}, {'id': 590, 'name': '赤峰', 'parentId': 534, 'code': '071100000', 'isSelected': False}, {'id': 679, 'name': '池州', 'parentId': 541, 'code': '130600000', 'isSelected': False}, {'id': 894, 'name': '昌吉', 'parentId': 560, 'code': '311500000', 'isSelected': False}, {'id': 905, 'name': '崇左', 'parentId': 549, 'code': '211400000', 'isSelected': False}, {'id': 848, 'name': '昌都', 'parentId': 555, 'code': '260200000', 'isSelected': False}, {'id': 836, 'name': '楚雄', 'parentId': 554, 'code': '251200000', 'isSelected': False}], 'D': [{'id': 779, 'name': '东莞', 'parentId': 548, 'code': '200300000', 'isSelected': False}, {'id': 600, 'name': '大连', 'parentId': 535, 'code': '081700000', 'isSelected': False}, {'id': 715, 'name': '德州', 'parentId': 544, 'code': '161600000', 'isSelected': False}, {'id': 805, 'name': '德阳', 'parentId': 552, 'code': '231700000', 'isSelected': False}, {'id': 841, 'name': '大理', 'parentId': 554, 'code': '250700000', 'isSelected': False}, {'id': 815, 'name': '达州', 'parentId': 552, 'code': '230300000', 'isSelected': False}, {'id': 706, 'name': '东营', 'parentId': 544, 'code': '162000000', 'isSelected': False}, {'id': 627, 'name': '大庆', 'parentId': 537, 'code': '101300000', 'isSelected': False}, {'id': 577, 'name': '大同', 'parentId': 533, 'code': '061200000', 'isSelected': False}, {'id': 604, 'name': '丹东', 'parentId': 535, 'code': '081300000', 'isSelected': False}, {'id': 842, 'name': '德宏', 'parentId': 554, 'code': '250600000', 'isSelected': False}, {'id': 634, 'name': '大兴安岭', 'parentId': 537, 'code': '100600000', 'isSelected': False}], 'E': [{'id': 592, 'name': '鄂尔多斯', 'parentId': 534, 'code': '070900000', 'isSelected': False}, {'id': 741, 'name': '鄂州', 'parentId': 546, 'code': '181600000', 'isSelected': False}], 'F': [{'id': 768, 'name': '佛山', 'parentId': 548, 'code': '202000000', 'isSelected': False}, {'id': 681, 'name': '福州', 'parentId': 542, 'code': '140100000', 'isSelected': False}, {'id': 674, 'name': '阜阳', 'parentId': 541, 'code': '131000000', 'isSelected': False}, {'id': 602, 'name': '抚顺', 'parentId': 535, 'code': '081500000', 'isSelected': False}, {'id': 607, 'name': '阜新', 'parentId': 535, 'code': '081000000', 'isSelected': False}, {'id': 700, 'name': '抚州', 'parentId': 543, 'code': '150200000', 'isSelected': False}], 'G': [{'id': 763, 'name': '广州', 'parentId': 548, 'code': '200100000', 'isSelected': False}, {'id': 822, 'name': '贵阳', 'parentId': 553, 'code': '240100000', 'isSelected': False}, {'id': 697, 'name': '赣州', 'parentId': 543, 'code': '150500000', 'isSelected': False}, {'id': 787, 'name': '桂林', 'parentId': 549, 'code': '211200000', 'isSelected': False}, {'id': 792, 'name': '贵港', 'parentId': 549, 'code': '210700000', 'isSelected': False}, {'id': 820, 'name': '甘孜藏族自治州', 'parentId': 552, 'code': '230800000', 'isSelected': False}, {'id': 814, 'name': '广安', 'parentId': 552, 'code': '230200000', 'isSelected': False}, {'id': 877, 'name': '甘南', 'parentId': 557, 'code': '281400000', 'isSelected': False}, {'id': 807, 'name': '广元', 'parentId': 552, 'code': '231900000', 'isSelected': False}], 'H': [{'id': 653, 'name': '杭州', 'parentId': 540, 'code': '120100000', 'isSelected': False}, {'id': 664, 'name': '合肥', 'parentId': 541, 'code': '130100000', 'isSelected': False}, {'id': 773, 'name': '惠州', 'parentId': 548, 'code': '202500000', 'isSelected': False}, {'id': 622, 'name': '哈尔滨', 'parentId': 537, 'code': '100100000', 'isSelected': False}, {'id': 657, 'name': '湖州', 'parentId': 540, 'code': '122200000', 'isSelected': False}, {'id': 799, 'name': '海口', 'parentId': 550, 'code': '220100000', 'isSelected': False}, {'id': 587, 'name': '呼和浩特', 'parentId': 534, 'code': '070100000', 'isSelected': False}, {'id': 568, 'name': '邯郸', 'parentId': 532, 'code': '051300000', 'isSelected': False}, {'id': 643, 'name': '淮安', 'parentId': 539, 'code': '112500000', 'isSelected': False}, {'id': 718, 'name': '菏泽', 'parentId': 544, 'code': '160200000', 'isSelected': False}, {'id': 108353, 'name': '海外', 'parentId': 108352, 'code': '350100000', 'isSelected': False}, {'id': 752, 'name': '衡阳', 'parentId': 547, 'code': '191100000', 'isSelected': False}, {'id': 737, 'name': '黄石', 'parentId': 546, 'code': '181200000', 'isSelected': False}, {'id': 669, 'name': '淮北', 'parentId': 541, 'code': '131600000', 'isSelected': False}, {'id': 575, 'name': '衡水', 'parentId': 532, 'code': '050600000', 'isSelected': False}, {'id': 776, 'name': '河源', 'parentId': 548, 'code': '201400000', 'isSelected': False}, {'id': 745, 'name': '黄冈', 'parentId': 546, 'code': '181100000', 'isSelected': False}, {'id': 667, 'name': '淮南', 'parentId': 541, 'code': '131400000', 'isSelected': False}, {'id': 860, 'name': '汉中', 'parentId': 556, 'code': '270600000', 'isSelected': False}, {'id': 724, 'name': '鹤壁', 'parentId': 545, 'code': '171600000', 'isSelected': False}, {'id': 760, 'name': '怀化', 'parentId': 547, 'code': '190300000', 'isSelected': False}, {'id': 612, 'name': '葫芦岛', 'parentId': 535, 'code': '080500000', 'isSelected': False}, {'id': 837, 'name': '红河', 'parentId': 554, 'code': '251100000', 'isSelected': False}, {'id': 796, 'name': '河池', 'parentId': 549, 'code': '210300000', 'isSelected': False}, {'id': 672, 'name': '黄山', 'parentId': 541, 'code': '131900000', 'isSelected': False}, {'id': 593, 'name': '呼伦贝尔', 'parentId': 534, 'code': '070800000', 'isSelected': False}, {'id': 893, 'name': '哈密', 'parentId': 560, 'code': '311400000', 'isSelected': False}, {'id': 795, 'name': '贺州', 'parentId': 549, 'code': '210400000', 'isSelected': False}, {'id': 632, 'name': '黑河', 'parentId': 537, 'code': '100800000', 'isSelected': False}], 'J': [{'id': 702, 'name': '济南', 'parentId': 544, 'code': '160100000', 'isSelected': False}, {'id': 656, 'name': '嘉兴', 'parentId': 540, 'code': '122100000', 'isSelected': False}, {'id': 659, 'name': '金华', 'parentId': 540, 'code': '122400000', 'isSelected': False}, {'id': 769, 'name': '江门', 'parentId': 548, 'code': '202100000', 'isSelected': False}, {'id': 694, 'name': '九江', 'parentId': 543, 'code': '150800000', 'isSelected': False}, {'id': 782, 'name': '揭阳', 'parentId': 548, 'code': '200600000', 'isSelected': False}, {'id': 582, 'name': '晋中', 'parentId': 533, 'code': '060700000', 'isSelected': False}, {'id': 709, 'name': '济宁', 'parentId': 544, 'code': '162300000', 'isSelected': False}, {'id': 726, 'name': '焦作', 'parentId': 545, 'code': '171800000', 'isSelected': False}, {'id': 614, 'name': '吉林', 'parentId': 536, 'code': '091000000', 'isSelected': False}, {'id': 692, 'name': '景德镇', 'parentId': 543, 'code': '151000000', 'isSelected': False}, {'id': 742, 'name': '荆门', 'parentId': 546, 'code': '181700000', 'isSelected': False}, {'id': 744, 'name': '荆州', 'parentId': 546, 'code': '181900000', 'isSelected': False}, {'id': 698, 'name': '吉安', 'parentId': 543, 'code': '150400000', 'isSelected': False}, {'id': 580, 'name': '晋城', 'parentId': 533, 'code': '060900000', 'isSelected': False}, {'id': 629, 'name': '佳木斯', 'parentId': 537, 'code': '101100000', 'isSelected': False}, {'id': 605, 'name': '锦州', 'parentId': 535, 'code': '081200000', 'isSelected': False}, {'id': 872, 'name': '酒泉', 'parentId': 557, 'code': '280600000', 'isSelected': False}, {'id': 865, 'name': '嘉峪关', 'parentId': 557, 'code': '281300000', 'isSelected': False}], 'K': [{'id': 831, 'name': '昆明', 'parentId': 554, 'code': '250100000', 'isSelected': False}, {'id': 720, 'name': '开封', 'parentId': 545, 'code': '171200000', 'isSelected': False}, {'id': 891, 'name': '克拉玛依', 'parentId': 560, 'code': '311200000', 'isSelected': False}], 'L': [{'id': 574, 'name': '廊坊', 'parentId': 532, 'code': '050700000', 'isSelected': False}, {'id': 714, 'name': '临沂', 'parentId': 544, 'code': '162800000', 'isSelected': False}, {'id': 721, 'name': '洛阳', 'parentId': 545, 'code': '171300000', 'isSelected': False}, {'id': 864, 'name': '兰州', 'parentId': 557, 'code': '280100000', 'isSelected': False}, {'id': 716, 'name': '聊城', 'parentId': 544, 'code': '161500000', 'isSelected': False}, {'id': 642, 'name': '连云港', 'parentId': 539, 'code': '112400000', 'isSelected': False}, {'id': 810, 'name': '乐山', 'parentId': 552, 'code': '232200000', 'isSelected': False}, {'id': 585, 'name': '临汾', 'parentId': 533, 'code': '060400000', 'isSelected': False}, {'id': 786, 'name': '柳州', 'parentId': 549, 'code': '211300000', 'isSelected': False}, {'id': 663, 'name': '丽水', 'parentId': 540, 'code': '122800000', 'isSelected': False}, {'id': 804, 'name': '泸州', 'parentId': 552, 'code': '231600000', 'isSelected': False}, {'id': 847, 'name': '拉萨', 'parentId': 555, 'code': '260100000', 'isSelected': False}, {'id': 689, 'name': '龙岩', 'parentId': 542, 'code': '140400000', 'isSelected': False}, {'id': 677, 'name': '六安', 'parentId': 541, 'code': '130400000', 'isSelected': False}, {'id': 843, 'name': '丽江', 'parentId': 554, 'code': '250500000', 'isSelected': False}, {'id': 821, 'name': '凉山彝族自治州', 'parentId': 552, 'code': '230900000', 'isSelected': False}, {'id': 586, 'name': '吕梁', 'parentId': 533, 'code': '060300000', 'isSelected': False}, {'id': 846, 'name': '临沧', 'parentId': 554, 'code': '250200000', 'isSelected': False}, {'id': 729, 'name': '漯河', 'parentId': 545, 'code': '171000000', 'isSelected': False}, {'id': 823, 'name': '六盘水', 'parentId': 553, 'code': '240200000', 'isSelected': False}, {'id': 904, 'name': '来宾', 'parentId': 549, 'code': '210200000', 'isSelected': False}, {'id': 761, 'name': '娄底', 'parentId': 547, 'code': '190200000', 'isSelected': False}, {'id': 108424, 'name': '陵水黎族自治县', 'parentId': 550, 'code': '222700000', 'isSelected': False}, {'id': 608, 'name': '辽阳', 'parentId': 535, 'code': '080900000', 'isSelected': False}], 'M': [{'id': 806, 'name': '绵阳', 'parentId': 552, 'code': '231800000', 'isSelected': False}, {'id': 771, 'name': '茂名', 'parentId': 548, 'code': '202300000', 'isSelected': False}, {'id': 774, 'name': '梅州', 'parentId': 548, 'code': '202600000', 'isSelected': False}, {'id': 812, 'name': '眉山', 'parentId': 552, 'code': '231300000', 'isSelected': False}, {'id': 668, 'name': '马鞍山', 'parentId': 541, 'code': '131500000', 'isSelected': False}, {'id': 631, 'name': '牡丹江', 'parentId': 537, 'code': '100900000', 'isSelected': False}], 'N': [{'id': 635, 'name': '南京', 'parentId': 539, 'code': '110100000', 'isSelected': False}, {'id': 654, 'name': '宁波', 'parentId': 540, 'code': '121900000', 'isSelected': False}, {'id': 691, 'name': '南昌', 'parentId': 543, 'code': '150100000', 'isSelected': False}, {'id': 785, 'name': '南宁', 'parentId': 549, 'code': '210100000', 'isSelected': False}, {'id': 641, 'name': '南通', 'parentId': 539, 'code': '112300000', 'isSelected': False}, {'id': 690, 'name': '宁德', 'parentId': 542, 'code': '140300000', 'isSelected': False}, {'id': 731, 'name': '南阳', 'parentId': 545, 'code': '170300000', 'isSelected': False}, {'id': 811, 'name': '南充', 'parentId': 552, 'code': '232300000', 'isSelected': False}, {'id': 688, 'name': '南平', 'parentId': 542, 'code': '140500000', 'isSelected': False}, {'id': 809, 'name': '内江', 'parentId': 552, 'code': '232100000', 'isSelected': False}], 'P': [{'id': 683, 'name': '莆田', 'parentId': 542, 'code': '141000000', 'isSelected': False}, {'id': 722, 'name': '平顶山', 'parentId': 545, 'code': '171400000', 'isSelected': False}, {'id': 693, 'name': '萍乡', 'parentId': 543, 'code': '150900000', 'isSelected': False}, {'id': 727, 'name': '濮阳', 'parentId': 545, 'code': '171900000', 'isSelected': False}, {'id': 609, 'name': '盘锦', 'parentId': 535, 'code': '080800000', 'isSelected': False}, {'id': 10163, 'name': '普洱', 'parentId': 554, 'code': '251700000', 'isSelected': False}, {'id': 803, 'name': '攀枝花', 'parentId': 552, 'code': '231500000', 'isSelected': False}], 'Q': [{'id': 703, 'name': '青岛', 'parentId': 544, 'code': '161700000', 'isSelected': False}, {'id': 685, 'name': '泉州', 'parentId': 542, 'code': '140800000', 'isSelected': False}, {'id': 778, 'name': '清远', 'parentId': 548, 'code': '200200000', 'isSelected': False}, {'id': 567, 'name': '秦皇岛', 'parentId': 532, 'code': '051400000', 'isSelected': False}, {'id': 832, 'name': '曲靖', 'parentId': 554, 'code': '251600000', 'isSelected': False}, {'id': 660, 'name': '衢州', 'parentId': 540, 'code': '122500000', 'isSelected': False}, {'id': 873, 'name': '庆阳', 'parentId': 557, 'code': '280500000', 'isSelected': False}, {'id': 108419, 'name': '琼海', 'parentId': 550, 'code': '222200000', 'isSelected': False}, {'id': 830, 'name': '黔南', 'parentId': 553, 'code': '240900000', 'isSelected': False}, {'id': 827, 'name': '黔西南', 'parentId': 553, 'code': '240600000', 'isSelected': False}, {'id': 108402, 'name': '潜江', 'parentId': 546, 'code': '180400000', 'isSelected': False}, {'id': 623, 'name': '齐齐哈尔', 'parentId': 537, 'code': '101700000', 'isSelected': False}, {'id': 630, 'name': '七台河', 'parentId': 537, 'code': '101000000', 'isSelected': False}], 'R': [{'id': 712, 'name': '日照', 'parentId': 544, 'code': '162600000', 'isSelected': False}], 'S': [{'id': 6, 'name': '上海', 'parentId': 2, 'code': '020100000', 'isSelected': False}, {'id': 765, 'name': '深圳', 'parentId': 548, 'code': '201700000', 'isSelected': False}, {'id': 639, 'name': '苏州', 'parentId': 539, 'code': '112100000', 'isSelected': False}, {'id': 599, 'name': '沈阳', 'parentId': 535, 'code': '080100000', 'isSelected': False}, {'id': 565, 'name': '石家庄', 'parentId': 532, 'code': '050100000', 'isSelected': False}, {'id': 658, 'name': '绍兴', 'parentId': 540, 'code': '122300000', 'isSelected': False}, {'id': 767, 'name': '汕头', 'parentId': 548, 'code': '201900000', 'isSelected': False}, {'id': 800, 'name': '三亚', 'parentId': 550, 'code': '221800000', 'isSelected': False}, {'id': 648, 'name': '宿迁', 'parentId': 539, 'code': '113000000', 'isSelected': False}, {'id': 701, 'name': '上饶', 'parentId': 543, 'code': '151100000', 'isSelected': False}, {'id': 732, 'name': '商丘', 'parentId': 545, 'code': '170400000', 'isSelected': False}, {'id': 764, 'name': '韶关', 'parentId': 548, 'code': '201600000', 'isSelected': False}, {'id': 775, 'name': '汕尾', 'parentId': 548, 'code': '201500000', 'isSelected': False}, {'id': 738, 'name': '十堰', 'parentId': 546, 'code': '181300000', 'isSelected': False}, {'id': 675, 'name': '宿州', 'parentId': 541, 'code': '130200000', 'isSelected': False}, {'id': 753, 'name': '邵阳', 'parentId': 547, 'code': '191000000', 'isSelected': False}, {'id': 747, 'name': '随州', 'parentId': 546, 'code': '180200000', 'isSelected': False}, {'id': 730, 'name': '三门峡', 'parentId': 545, 'code': '170200000', 'isSelected': False}, {'id': 808, 'name': '遂宁', 'parentId': 552, 'code': '232000000', 'isSelected': False}, {'id': 863, 'name': '商洛', 'parentId': 556, 'code': '270300000', 'isSelected': False}, {'id': 684, 'name': '三明', 'parentId': 542, 'code': '140900000', 'isSelected': False}, {'id': 633, 'name': '绥化', 'parentId': 537, 'code': '100700000', 'isSelected': False}, {'id': 581, 'name': '朔州', 'parentId': 533, 'code': '060800000', 'isSelected': False}, {'id': 849, 'name': '山南', 'parentId': 555, 'code': '260300000', 'isSelected': False}, {'id': 907, 'name': '三沙', 'parentId': 550, 'code': '220200000', 'isSelected': False}, {'id': 619, 'name': '松原', 'parentId': 536, 'code': '090500000', 'isSelected': False}, {'id': 615, 'name': '四平', 'parentId': 536, 'code': '090900000', 'isSelected': False}], 'T': [{'id': 7, 'name': '天津', 'parentId': 3, 'code': '030100000', 'isSelected': False}, {'id': 576, 'name': '太原', 'parentId': 533, 'code': '060100000', 'isSelected': False}, {'id': 662, 'name': '台州', 'parentId': 540, 'code': '122700000', 'isSelected': False}, {'id': 566, 'name': '唐山', 'parentId': 532, 'code': '051500000', 'isSelected': False}, {'id': 647, 'name': '泰州', 'parentId': 539, 'code': '112900000', 'isSelected': False}, {'id': 710, 'name': '泰安', 'parentId': 544, 'code': '162400000', 'isSelected': False}, {'id': 617, 'name': '通化', 'parentId': 536, 'code': '090700000', 'isSelected': False}, {'id': 670, 'name': '铜陵', 'parentId': 541, 'code': '131700000', 'isSelected': False}, {'id': 868, 'name': '天水', 'parentId': 557, 'code': '281000000', 'isSelected': False}, {'id': 610, 'name': '铁岭', 'parentId': 535, 'code': '080700000', 'isSelected': False}, {'id': 591, 'name': '通辽', 'parentId': 534, 'code': '071000000', 'isSelected': False}, {'id': 826, 'name': '铜仁', 'parentId': 553, 'code': '240500000', 'isSelected': False}, {'id': 108355, 'name': '台湾', 'parentId': 563, 'code': '340100000', 'isSelected': False}, {'id': 855, 'name': '铜川', 'parentId': 556, 'code': '271100000', 'isSelected': False}, {'id': 107384, 'name': '天门', 'parentId': 546, 'code': '182100000', 'isSelected': False}], 'W': [{'id': 736, 'name': '武汉', 'parentId': 546, 'code': '180100000', 'isSelected': False}, {'id': 636, 'name': '无锡', 'parentId': 539, 'code': '111800000', 'isSelected': False}, {'id': 655, 'name': '温州', 'parentId': 540, 'code': '122000000', 'isSelected': False}, {'id': 665, 'name': '芜湖', 'parentId': 541, 'code': '131200000', 'isSelected': False}, {'id': 708, 'name': '潍坊', 'parentId': 544, 'code': '162200000', 'isSelected': False}, {'id': 711, 'name': '威海', 'parentId': 544, 'code': '162500000', 'isSelected': False}, {'id': 890, 'name': '乌鲁木齐', 'parentId': 560, 'code': '310100000', 'isSelected': False}, {'id': 858, 'name': '渭南', 'parentId': 556, 'code': '270800000', 'isSelected': False}, {'id': 108425, 'name': '文昌', 'parentId': 550, 'code': '222800000', 'isSelected': False}, {'id': 788, 'name': '梧州', 'parentId': 549, 'code': '211100000', 'isSelected': False}, {'id': 838, 'name': '文山', 'parentId': 554, 'code': '251000000', 'isSelected': False}, {'id': 596, 'name': '乌兰察布', 'parentId': 534, 'code': '070500000', 'isSelected': False}], 'X': [{'id': 854, 'name': '西安', 'parentId': 556, 'code': '270100000', 'isSelected': False}, {'id': 682, 'name': '厦门', 'parentId': 542, 'code': '141100000', 'isSelected': False}, {'id': 637, 'name': '徐州', 'parentId': 539, 'code': '111900000', 'isSelected': False}, {'id': 725, 'name': '新乡', 'parentId': 545, 'code': '171700000', 'isSelected': False}, {'id': 740, 'name': '襄阳', 'parentId': 546, 'code': '181500000', 'isSelected': False}, {'id': 857, 'name': '咸阳', 'parentId': 556, 'code': '270900000', 'isSelected': False}, {'id': 569, 'name': '邢台', 'parentId': 532, 'code': '051200000', 'isSelected': False}, {'id': 743, 'name': '孝感', 'parentId': 546, 'code': '181800000', 'isSelected': False}, {'id': 105794, 'name': '香港', 'parentId': 561, 'code': '320100000', 'isSelected': False}, {'id': 878, 'name': '西宁', 'parentId': 558, 'code': '290100000', 'isSelected': False}, {'id': 728, 'name': '许昌', 'parentId': 545, 'code': '171100000', 'isSelected': False}, {'id': 733, 'name': '信阳', 'parentId': 545, 'code': '170500000', 'isSelected': False}, {'id': 108403, 'name': '仙桃', 'parentId': 546, 'code': '180500000', 'isSelected': False}, {'id': 746, 'name': '咸宁', 'parentId': 546, 'code': '181000000', 'isSelected': False}, {'id': 695, 'name': '新余', 'parentId': 543, 'code': '150700000', 'isSelected': False}, {'id': 751, 'name': '湘潭', 'parentId': 547, 'code': '191200000', 'isSelected': False}, {'id': 594, 'name': '兴安盟', 'parentId': 534, 'code': '070700000', 'isSelected': False}, {'id': 840, 'name': '西双版纳', 'parentId': 554, 'code': '250800000', 'isSelected': False}, {'id': 762, 'name': '湘西土家族苗族自治州', 'parentId': 547, 'code': '191400000', 'isSelected': False}, {'id': 680, 'name': '宣城', 'parentId': 541, 'code': '130700000', 'isSelected': False}, {'id': 595, 'name': '锡林郭勒盟', 'parentId': 534, 'code': '070600000', 'isSelected': False}], 'Y': [{'id': 707, 'name': '烟台', 'parentId': 544, 'code': '162100000', 'isSelected': False}, {'id': 645, 'name': '扬州', 'parentId': 539, 'code': '112700000', 'isSelected': False}, {'id': 886, 'name': '银川', 'parentId': 559, 'code': '300100000', 'isSelected': False}, {'id': 644, 'name': '盐城', 'parentId': 539, 'code': '112600000', 'isSelected': False}, {'id': 813, 'name': '宜宾', 'parentId': 552, 'code': '231200000', 'isSelected': False}, {'id': 739, 'name': '宜昌', 'parentId': 546, 'code': '181400000', 'isSelected': False}, {'id': 754, 'name': '岳阳', 'parentId': 547, 'code': '190900000', 'isSelected': False}, {'id': 699, 'name': '宜春', 'parentId': 543, 'code': '150300000', 'isSelected': False}, {'id': 583, 'name': '运城', 'parentId': 533, 'code': '060600000', 'isSelected': False}, {'id': 777, 'name': '阳江', 'parentId': 548, 'code': '201300000', 'isSelected': False}, {'id': 861, 'name': '榆林', 'parentId': 556, 'code': '270500000', 'isSelected': False}, {'id': 793, 'name': '玉林', 'parentId': 549, 'code': '210600000', 'isSelected': False}, {'id': 757, 'name': '益阳', 'parentId': 547, 'code': '190600000', 'isSelected': False}, {'id': 606, 'name': '营口', 'parentId': 535, 'code': '081100000', 'isSelected': False}, {'id': 833, 'name': '玉溪', 'parentId': 554, 'code': '251500000', 'isSelected': False}, {'id': 816, 'name': '雅安', 'parentId': 552, 'code': '230400000', 'isSelected': False}, {'id': 759, 'name': '永州', 'parentId': 547, 'code': '190400000', 'isSelected': False}, {'id': 621, 'name': '延边', 'parentId': 536, 'code': '090300000', 'isSelected': False}, {'id': 884, 'name': '玉树', 'parentId': 558, 'code': '290700000', 'isSelected': False}, {'id': 578, 'name': '阳泉', 'parentId': 533, 'code': '061100000', 'isSelected': False}, {'id': 859, 'name': '延安', 'parentId': 556, 'code': '270700000', 'isSelected': False}, {'id': 696, 'name': '鹰潭', 'parentId': 543, 'code': '150600000', 'isSelected': False}, {'id': 628, 'name': '伊春', 'parentId': 537, 'code': '101200000', 'isSelected': False}], 'Z': [{'id': 719, 'name': '郑州', 'parentId': 545, 'code': '170100000', 'isSelected': False}, {'id': 766, 'name': '珠海', 'parentId': 548, 'code': '201800000', 'isSelected': False}, {'id': 780, 'name': '中山', 'parentId': 548, 'code': '200400000', 'isSelected': False}, {'id': 704, 'name': '淄博', 'parentId': 544, 'code': '161800000', 'isSelected': False}, {'id': 687, 'name': '漳州', 'parentId': 542, 'code': '140600000', 'isSelected': False}, {'id': 646, 'name': '镇江', 'parentId': 539, 'code': '112800000', 'isSelected': False}, {'id': 772, 'name': '肇庆', 'parentId': 548, 'code': '202400000', 'isSelected': False}, {'id': 770, 'name': '湛江', 'parentId': 548, 'code': '202200000', 'isSelected': False}, {'id': 824, 'name': '遵义', 'parentId': 553, 'code': '240300000', 'isSelected': False}, {'id': 735, 'name': '驻马店', 'parentId': 545, 'code': '170700000', 'isSelected': False}, {'id': 750, 'name': '株洲', 'parentId': 547, 'code': '191300000', 'isSelected': False}, {'id': 734, 'name': '周口', 'parentId': 545, 'code': '170600000', 'isSelected': False}, {'id': 571, 'name': '张家口', 'parentId': 532, 'code': '051000000', 'isSelected': False}, {'id': 705, 'name': '枣庄', 'parentId': 544, 'code': '161900000', 'isSelected': False}, {'id': 579, 'name': '长治', 'parentId': 533, 'code': '061000000', 'isSelected': False}, {'id': 835, 'name': '昭通', 'parentId': 554, 'code': '251300000', 'isSelected': False}, {'id': 818, 'name': '资阳', 'parentId': 552, 'code': '230600000', 'isSelected': False}, {'id': 661, 'name': '舟山', 'parentId': 540, 'code': '122600000', 'isSelected': False}, {'id': 802, 'name': '自贡', 'parentId': 552, 'code': '231400000', 'isSelected': False}, {'id': 906, 'name': '中卫', 'parentId': 559, 'code': '300500000', 'isSelected': False}, {'id': 756, 'name': '张家界', 'parentId': 547, 'code': '190700000', 'isSelected': False}]}}, 'rows': []}}\n"
     ]
    }
   ],
   "source": [
    "# 把json格式字符串转换成python对象\n",
    "josnbj=json.loads(relx)"
   ]
  },
  {
   "cell_type": "code",
   "execution_count": null,
   "metadata": {},
   "outputs": [
    {
     "name": "stdout",
     "output_type": "stream",
     "text": [
      "['安庆', '安阳', '鞍山', '澳门', '安顺', '阿拉善盟', '阿坝藏族羌族自治州', '北京', '保定', '包头', '蚌埠', '百色', '北海', '宝鸡', '滨州', '毕节', '保山', '巴中', '白银', '亳州', '本溪', '巴彦淖尔', '成都', '长沙', '重庆', '长春', '常州', '沧州', '郴州', '澄迈', '常德', '承德', '滁州', '潮州', '赤峰', '池州', '昌吉', '崇左', '昌都', '楚雄', '东莞', '大连', '德州', '德阳', '大理', '达州', '东营', '大庆', '大同', '丹东', '德宏', '大兴安岭', '鄂尔多斯', '鄂州', '佛山', '福州', '阜阳', '抚顺', '阜新', '抚州', '广州', '贵阳', '赣州', '桂林', '贵港', '甘孜藏族自治州', '广安', '甘南', '广元', '杭州', '合肥', '惠州', '哈尔滨', '湖州', '海口', '呼和浩特', '邯郸', '淮安', '菏泽', '海外', '衡阳', '黄石', '淮北', '衡水', '河源', '黄冈', '淮南', '汉中', '鹤壁', '怀化', '葫芦岛', '红河', '河池', '黄山', '呼伦贝尔', '哈密', '贺州', '黑河', '济南', '嘉兴', '金华', '江门', '九江', '揭阳', '晋中', '济宁', '焦作', '吉林', '景德镇', '荆门', '荆州', '吉安', '晋城', '佳木斯', '锦州', '酒泉', '嘉峪关', '昆明', '开封', '克拉玛依', '廊坊', '临沂', '洛阳', '兰州', '聊城', '连云港', '乐山', '临汾', '柳州', '丽水', '泸州', '拉萨', '龙岩', '六安', '丽江', '凉山彝族自治州', '吕梁', '临沧', '漯河', '六盘水', '来宾', '娄底', '陵水黎族自治县', '辽阳', '绵阳', '茂名', '梅州', '眉山', '马鞍山', '牡丹江', '南京', '宁波', '南昌', '南宁', '南通', '宁德', '南阳', '南充', '南平', '内江', '莆田', '平顶山', '萍乡', '濮阳', '盘锦', '普洱', '攀枝花', '青岛', '泉州', '清远', '秦皇岛', '曲靖', '衢州', '庆阳', '琼海', '黔南', '黔西南', '潜江', '齐齐哈尔', '七台河', '日照', '上海', '深圳', '苏州', '沈阳', '石家庄', '绍兴', '汕头', '三亚', '宿迁', '上饶', '商丘', '韶关', '汕尾', '十堰', '宿州', '邵阳', '随州', '三门峡', '遂宁', '商洛', '三明', '绥化', '朔州', '山南', '三沙', '松原', '四平', '天津', '太原', '台州', '唐山', '泰州', '泰安', '通化', '铜陵', '天水', '铁岭', '通辽', '铜仁', '台湾', '铜川', '天门', '武汉', '无锡', '温州', '芜湖', '潍坊', '威海', '乌鲁木齐', '渭南', '文昌', '梧州', '文山', '乌兰察布', '西安', '厦门', '徐州', '新乡', '襄阳', '咸阳', '邢台', '孝感', '香港', '西宁', '许昌', '信阳', '仙桃', '咸宁', '新余', '湘潭', '兴安盟', '西双版纳', '湘西土家族苗族自治州', '宣城', '锡林郭勒盟', '烟台', '扬州', '银川', '盐城', '宜宾', '宜昌', '岳阳', '宜春', '运城', '阳江', '榆林', '玉林', '益阳', '营口', '玉溪', '雅安', '永州', '延边', '玉树', '阳泉', '延安', '鹰潭', '伊春', '郑州', '珠海', '中山', '淄博', '漳州', '镇江', '肇庆', '湛江', '遵义', '驻马店', '株洲', '周口', '张家口', '枣庄', '长治', '昭通', '资阳', '舟山', '自贡', '中卫', '张家界']\n"
     ]
    }
   ],
   "source": [
    "# 从根节点开始，获取所有key为name的值\n",
    "citylist=jsonpath(josnbj,'$..name')\n",
    "with open(\"./hust.txt\",'w') as f:\n",
    "    content = json.dumps(citylist, ensure_ascii=False)\n",
    "    f.write(content)"
   ]
  },
  {
   "cell_type": "code",
   "execution_count": null,
   "metadata": {},
   "outputs": [
    {
     "name": "stdout",
     "output_type": "stream",
     "text": [
      "[\"安庆\", \"安阳\", \"鞍山\", \"澳门\", \"安顺\", \"阿拉善盟\", \"阿坝藏族羌族自治州\", \"北京\", \"保定\", \"包头\", \"蚌埠\", \"百色\", \"北海\", \"宝鸡\", \"滨州\", \"毕节\", \"保山\", \"巴中\", \"白银\", \"亳州\", \"本溪\", \"巴彦淖尔\", \"成都\", \"长沙\", \"重庆\", \"长春\", \"常州\", \"沧州\", \"郴州\", \"澄迈\", \"常德\", \"承德\", \"滁州\", \"潮州\", \"赤峰\", \"池州\", \"昌吉\", \"崇左\", \"昌都\", \"楚雄\", \"东莞\", \"大连\", \"德州\", \"德阳\", \"大理\", \"达州\", \"东营\", \"大庆\", \"大同\", \"丹东\", \"德宏\", \"大兴安岭\", \"鄂尔多斯\", \"鄂州\", \"佛山\", \"福州\", \"阜阳\", \"抚顺\", \"阜新\", \"抚州\", \"广州\", \"贵阳\", \"赣州\", \"桂林\", \"贵港\", \"甘孜藏族自治州\", \"广安\", \"甘南\", \"广元\", \"杭州\", \"合肥\", \"惠州\", \"哈尔滨\", \"湖州\", \"海口\", \"呼和浩特\", \"邯郸\", \"淮安\", \"菏泽\", \"海外\", \"衡阳\", \"黄石\", \"淮北\", \"衡水\", \"河源\", \"黄冈\", \"淮南\", \"汉中\", \"鹤壁\", \"怀化\", \"葫芦岛\", \"红河\", \"河池\", \"黄山\", \"呼伦贝尔\", \"哈密\", \"贺州\", \"黑河\", \"济南\", \"嘉兴\", \"金华\", \"江门\", \"九江\", \"揭阳\", \"晋中\", \"济宁\", \"焦作\", \"吉林\", \"景德镇\", \"荆门\", \"荆州\", \"吉安\", \"晋城\", \"佳木斯\", \"锦州\", \"酒泉\", \"嘉峪关\", \"昆明\", \"开封\", \"克拉玛依\", \"廊坊\", \"临沂\", \"洛阳\", \"兰州\", \"聊城\", \"连云港\", \"乐山\", \"临汾\", \"柳州\", \"丽水\", \"泸州\", \"拉萨\", \"龙岩\", \"六安\", \"丽江\", \"凉山彝族自治州\", \"吕梁\", \"临沧\", \"漯河\", \"六盘水\", \"来宾\", \"娄底\", \"陵水黎族自治县\", \"辽阳\", \"绵阳\", \"茂名\", \"梅州\", \"眉山\", \"马鞍山\", \"牡丹江\", \"南京\", \"宁波\", \"南昌\", \"南宁\", \"南通\", \"宁德\", \"南阳\", \"南充\", \"南平\", \"内江\", \"莆田\", \"平顶山\", \"萍乡\", \"濮阳\", \"盘锦\", \"普洱\", \"攀枝花\", \"青岛\", \"泉州\", \"清远\", \"秦皇岛\", \"曲靖\", \"衢州\", \"庆阳\", \"琼海\", \"黔南\", \"黔西南\", \"潜江\", \"齐齐哈尔\", \"七台河\", \"日照\", \"上海\", \"深圳\", \"苏州\", \"沈阳\", \"石家庄\", \"绍兴\", \"汕头\", \"三亚\", \"宿迁\", \"上饶\", \"商丘\", \"韶关\", \"汕尾\", \"十堰\", \"宿州\", \"邵阳\", \"随州\", \"三门峡\", \"遂宁\", \"商洛\", \"三明\", \"绥化\", \"朔州\", \"山南\", \"三沙\", \"松原\", \"四平\", \"天津\", \"太原\", \"台州\", \"唐山\", \"泰州\", \"泰安\", \"通化\", \"铜陵\", \"天水\", \"铁岭\", \"通辽\", \"铜仁\", \"台湾\", \"铜川\", \"天门\", \"武汉\", \"无锡\", \"温州\", \"芜湖\", \"潍坊\", \"威海\", \"乌鲁木齐\", \"渭南\", \"文昌\", \"梧州\", \"文山\", \"乌兰察布\", \"西安\", \"厦门\", \"徐州\", \"新乡\", \"襄阳\", \"咸阳\", \"邢台\", \"孝感\", \"香港\", \"西宁\", \"许昌\", \"信阳\", \"仙桃\", \"咸宁\", \"新余\", \"湘潭\", \"兴安盟\", \"西双版纳\", \"湘西土家族苗族自治州\", \"宣城\", \"锡林郭勒盟\", \"烟台\", \"扬州\", \"银川\", \"盐城\", \"宜宾\", \"宜昌\", \"岳阳\", \"宜春\", \"运城\", \"阳江\", \"榆林\", \"玉林\", \"益阳\", \"营口\", \"玉溪\", \"雅安\", \"永州\", \"延边\", \"玉树\", \"阳泉\", \"延安\", \"鹰潭\", \"伊春\", \"郑州\", \"珠海\", \"中山\", \"淄博\", \"漳州\", \"镇江\", \"肇庆\", \"湛江\", \"遵义\", \"驻马店\", \"株洲\", \"周口\", \"张家口\", \"枣庄\", \"长治\", \"昭通\", \"资阳\", \"舟山\", \"自贡\", \"中卫\", \"张家界\"]\n"
     ]
    }
   ],
   "source": [
    "with open('./hust.txt','r') as f:\n",
    "    data=f.read()\n",
    "    print(data)"
   ]
  },
  {
   "cell_type": "markdown",
   "metadata": {},
   "source": [
    "# python中的lxml模块"
   ]
  },
  {
   "cell_type": "code",
   "execution_count": null,
   "metadata": {},
   "outputs": [],
   "source": [
    "from lxml import etree"
   ]
  },
  {
   "cell_type": "code",
   "execution_count": null,
   "metadata": {},
   "outputs": [],
   "source": [
    "text = '''\n",
    "<div>\n",
    "<ul>\n",
    "  <li class=\"item-1\">\n",
    "    <a href=\"link1.html\">first item</a>\n",
    "  </li>\n",
    "  <li class=\"item-1\">\n",
    "    <a href=\"link2.html\">second item</a>\n",
    "  </li>\n",
    "  <li class=\"item-inactive\">\n",
    "    <a href=\"link3.html\">third item</a>\n",
    "  </li>\n",
    "  <li class=\"item-1\">\n",
    "    <a href=\"link4.html\">fourth item</a>\n",
    "  </li>\n",
    "  <li class=\"item-0\">\n",
    "    a href=\"link5.html\">fifth item</a>\n",
    "</ul>\n",
    "</div>'''"
   ]
  },
  {
   "cell_type": "code",
   "execution_count": null,
   "metadata": {},
   "outputs": [],
   "source": [
    "#利用etree.HTML，将字符串转化为Element对象,Element对象具有xpath的方法,返回结果的列表\n",
    "html_l=etree.HTML(text)"
   ]
  },
  {
   "cell_type": "code",
   "execution_count": null,
   "metadata": {},
   "outputs": [
    {
     "name": "stdout",
     "output_type": "stream",
     "text": [
      "['link1.html', 'link2.html', 'link4.html'] ['first item', 'second item', 'fourth item']\n"
     ]
    }
   ],
   "source": [
    "#使用xpath提取\n",
    "href_list=html_l.xpath(\"//li[@class='item-1']/a/@href\")\n",
    "title_list=html_l.xpath(\"//li[@class='item-1']/a/text()\")\n",
    "print(href_list,title_list)"
   ]
  },
  {
   "cell_type": "code",
   "execution_count": null,
   "metadata": {},
   "outputs": [
    {
     "name": "stdout",
     "output_type": "stream",
     "text": [
      "{'href': 'link4.html', 'title': 'first item'}\n"
     ]
    }
   ],
   "source": [
    "for href in href_list:\n",
    "    item={}\n",
    "    item[\"href\"]=href\n",
    "    item[\"title\"]=title_list[href.index(href)]\n",
    "print(item)"
   ]
  },
  {
   "cell_type": "code",
   "execution_count": null,
   "metadata": {},
   "outputs": [
    {
     "name": "stdout",
     "output_type": "stream",
     "text": [
      "[<Element li at 0x1bfd2e7cdc0>, <Element li at 0x1bfd2e79d40>, <Element li at 0x1bfd2e79fc0>]\n"
     ]
    }
   ],
   "source": [
    "li_list=html_l.xpath(\"//li[@class='item-1']\")"
   ]
  },
  {
   "cell_type": "code",
   "execution_count": null,
   "metadata": {},
   "outputs": [
    {
     "name": "stdout",
     "output_type": "stream",
     "text": [
      "{'href': 'link1.html', 'title': 'first item'}\n",
      "{'href': 'link2.html', 'title': 'second item'}\n",
      "{'href': 'link4.html', 'title': 'fourth item'}\n"
     ]
    }
   ],
   "source": [
    "for li in li_list:\n",
    "    item={}\n",
    "    item[\"href\"]=li.xpath(\"./a/@href\")[0] if len(li.xpath(\"./a/@href\"))>0 else None\n",
    "    item[\"title\"]=li.xpath(\"./a/text()\")[0] if len(li.xpath(\"./a/text()\"))>0 else None\n",
    "    print(item)"
   ]
  },
  {
   "cell_type": "markdown",
   "metadata": {},
   "source": [
    "# python中的requests模块"
   ]
  },
  {
   "cell_type": "code",
   "execution_count": null,
   "metadata": {},
   "outputs": [],
   "source": [
    "import requests"
   ]
  },
  {
   "cell_type": "code",
   "execution_count": null,
   "metadata": {},
   "outputs": [],
   "source": [
    "# 发送请求\n",
    "data=requests.get('http://image.baidu.com/search/index?tn=baiduimage&word=皮卡丘')"
   ]
  },
  {
   "cell_type": "code",
   "execution_count": null,
   "metadata": {},
   "outputs": [
    {
     "name": "stdout",
     "output_type": "stream",
     "text": [
      "<!DOCTYPE html>\n",
      "<html lang=\"zh-CN\">\n",
      "<head>\n",
      "    <meta charset=\"utf-8\">\n",
      "    <title>ç¾åº¦å®å\n",
      "¨éªè¯</title>\n",
      "    <meta http-equiv=\"Content-Type\" content=\"text/html; charset=utf-8\">\n",
      "    <meta name=\"apple-mobile-web-app-capable\" content=\"yes\">\n",
      "    <meta name=\"apple-mobile-web-app-status-bar-style\" content=\"black\">\n",
      "    <meta name=\"viewport\" content=\"width=device-width, user-scalable=no, initial-scale=1.0, minimum-scale=1.0, maximum-scale=1.0\">\n",
      "    <meta name=\"format-detection\" content=\"telephone=no, email=no\">\n",
      "    <link rel=\"shortcut icon\" href=\"https://www.baidu.com/favicon.ico\" type=\"image/x-icon\">\n",
      "    <link rel=\"icon\" sizes=\"any\" mask href=\"https://www.baidu.com/img/baidu.svg\">\n",
      "    <meta http-equiv=\"X-UA-Compatible\" content=\"IE=Edge\">\n",
      "    <meta http-equiv=\"Content-Security-Policy\" content=\"upgrade-insecure-requests\">\n",
      "    <link rel=\"stylesheet\" href=\"https://ppui-static-wap.cdn.bcebos.com/static/touch/css/api/mkdjump_aac6df1.css\" />\n",
      "</head>\n",
      "<body>\n",
      "    <div class=\"timeout hide\">\n",
      "        <div class=\"timeout-img\"></div>\n",
      "        <div class=\"timeout-title\">ç½ç»ä¸ç»åï¼è¯·ç¨åéè¯</div>\n",
      "        <button type=\"button\" class=\"timeout-button\">è¿åé¦é¡µ</button>\n",
      "    </div>\n",
      "    <div class=\"timeout-feedback hide\">\n",
      "        <div class=\"timeout-feedback-icon\"></div>\n",
      "        <p class=\"timeout-feedback-title\">é®é¢åé¦</p>\n",
      "    </div>\n",
      "\n",
      "<script src=\"https://wappass.baidu.com/static/machine/js/api/mkd.js\"></script>\n",
      "<script src=\"https://ppui-static-wap.cdn.bcebos.com/static/touch/js/mkdjump_db105ab.js\"></script>\n",
      "</body>\n",
      "</html>\n"
     ]
    }
   ],
   "source": [
    "#返回数据\n",
    "print(data.text)"
   ]
  },
  {
   "cell_type": "markdown",
   "metadata": {},
   "source": [
    "# python中的re模块"
   ]
  },
  {
   "cell_type": "code",
   "execution_count": null,
   "metadata": {},
   "outputs": [],
   "source": [
    "import re"
   ]
  },
  {
   "cell_type": "markdown",
   "metadata": {},
   "source": [
    "## re.match函数"
   ]
  },
  {
   "cell_type": "code",
   "execution_count": null,
   "metadata": {},
   "outputs": [
    {
     "name": "stdout",
     "output_type": "stream",
     "text": [
      "匹配失败\n"
     ]
    }
   ],
   "source": [
    "#匹配第一个字符必须对（必须是h）\n",
    "res='hellow world'\n",
    "str=re.match('\\d',res) #以xx为开头\n",
    "if str:\n",
    "    print(str)\n",
    "    print(str.group())\n",
    "else:\n",
    "    print('匹配失败')"
   ]
  },
  {
   "cell_type": "code",
   "execution_count": null,
   "metadata": {},
   "outputs": [
    {
     "name": "stdout",
     "output_type": "stream",
     "text": [
      "h\n"
     ]
    }
   ],
   "source": [
    "# 常用匹配规则\n",
    "# .匹配任意一个字符，除了/n\n",
    "ress=re.match('[ho]',res)\n",
    "print(ress.group(0))"
   ]
  },
  {
   "cell_type": "code",
   "execution_count": null,
   "metadata": {},
   "outputs": [
    {
     "name": "stdout",
     "output_type": "stream",
     "text": [
      "<re.Match object; span=(2, 5), match='r12'>\n",
      "None\n",
      "<re.Match object; span=(2, 3), match=' '>\n"
     ]
    }
   ],
   "source": [
    "#匹配数字\n",
    "res=re.search('r\\d\\d','usr12d')\n",
    "res1=re.match('213','7105213859')\n",
    "res2=re.search('\\s','17 di')\n",
    "print(res)\n",
    "print(res1)\n",
    "print(res2)"
   ]
  },
  {
   "cell_type": "code",
   "execution_count": null,
   "metadata": {},
   "outputs": [
    {
     "name": "stdout",
     "output_type": "stream",
     "text": [
      "dDD\n"
     ]
    }
   ],
   "source": [
    "#*匹配前一个字符出现的次数\n",
    "res3=re.match('[a-z][A-N]*','dDD')\n",
    "print(res3.group())"
   ]
  },
  {
   "cell_type": "code",
   "execution_count": null,
   "metadata": {},
   "outputs": [
    {
     "name": "stdout",
     "output_type": "stream",
     "text": [
      "fgAE\n"
     ]
    }
   ],
   "source": [
    "#+\n",
    "res4=re.match('fg[A-Z]+','fgAEdi')\n",
    "print(res4.group())"
   ]
  },
  {
   "cell_type": "code",
   "execution_count": null,
   "metadata": {},
   "outputs": [
    {
     "name": "stdout",
     "output_type": "stream",
     "text": [
      "1343\n"
     ]
    }
   ],
   "source": [
    "# #{}\n",
    "res5=re.match('\\d{3,}','1343')\n",
    "print(res5.group())"
   ]
  },
  {
   "cell_type": "code",
   "execution_count": null,
   "metadata": {},
   "outputs": [
    {
     "name": "stdout",
     "output_type": "stream",
     "text": [
      "\\n\n",
      "\\n\n",
      "hellow\n"
     ]
    }
   ],
   "source": [
    "#在正则前面加r，就不会转义\n",
    "print('\\\\n')\n",
    "print(r'\\n')\n",
    "rel=re.match('hellow',\"hellow world\")\n",
    "print(rel.group())"
   ]
  },
  {
   "cell_type": "code",
   "execution_count": null,
   "metadata": {},
   "outputs": [
    {
     "name": "stdout",
     "output_type": "stream",
     "text": [
      "rwe\n",
      "rbw\n",
      "3bb\n",
      "3bb\n"
     ]
    }
   ],
   "source": [
    "#匹配单个字符\n",
    "ret=re.match('r.e','rwe')\n",
    "print(ret.group())\n",
    "ret1=re.match('r[a-c]w','rbwe')\n",
    "print(ret1.group())\n",
    "ret2=re.match('[2-47-9]bb','3bbc')\n",
    "ret3=re.match('\\dbb','3bbc')\n",
    "print(ret2.group())\n",
    "print(ret3.group())"
   ]
  },
  {
   "cell_type": "code",
   "execution_count": null,
   "metadata": {},
   "outputs": [
    {
     "name": "stdout",
     "output_type": "stream",
     "text": [
      "abvvvv\n",
      "abbv\n",
      "av\n",
      "bvvvvv\n",
      "veee\n"
     ]
    }
   ],
   "source": [
    "#匹配多个字符\n",
    "rel=re.match('abv*','abvvvv')\n",
    "print(rel.group())\n",
    "rel1=re.match('ab+v','abbvv')\n",
    "print(rel1.group())\n",
    "rel2=re.match('ab?v','avv')\n",
    "print(rel2.group())\n",
    "rel3=re.match('bv{5}','bvvvvvdd')\n",
    "print(rel3.group())\n",
    "rel4=re.match('ve{2,4}','veee')\n",
    "print(rel4.group())"
   ]
  },
  {
   "cell_type": "code",
   "execution_count": null,
   "metadata": {},
   "outputs": [
    {
     "name": "stdout",
     "output_type": "stream",
     "text": [
      "xiaoWang@163.com是符合规定的地址，匹配后的地址是xiaoWang@163.com\n",
      "xiaoWang@163.comheihei不是符合规定的地址\n",
      ".com.xiaowang@qq.com不是符合规定的地址\n"
     ]
    }
   ],
   "source": [
    "#匹配开头和结尾\n",
    "email_list = [\"xiaoWang@163.com\", \"xiaoWang@163.comheihei\", \".com.xiaowang@qq.com\"]\n",
    "for emil in email_list:\n",
    "    reg=re.match('[\\w]{4,20}@163\\.com$',emil)\n",
    "    if reg:\n",
    "        print('%s是符合规定的地址，匹配后的地址是%s'%(emil,reg.group()))\n",
    "    else:\n",
    "        print('%s不是符合规定的地址'%(emil))"
   ]
  },
  {
   "cell_type": "code",
   "execution_count": null,
   "metadata": {},
   "outputs": [
    {
     "name": "stdout",
     "output_type": "stream",
     "text": [
      "100\n",
      "yingtel@136.com\n",
      "<html>www<html>\n"
     ]
    }
   ],
   "source": [
    "#匹配分组\n",
    "# |\n",
    "reh=re.match('[1-9]?\\d$|100','100')\n",
    "print(reh.group())\n",
    "# ()\n",
    "reh1=re.match('\\w{4,20}@(126|136|qq)\\.com','yingtel@136.com')\n",
    "print(reh1.group())\n",
    "#\\number\n",
    "reh2=re.match(r'<([a-zA-Z]*)>\\w*<\\1>','<html>www<html>')\n",
    "print(reh2.group())"
   ]
  },
  {
   "cell_type": "markdown",
   "metadata": {},
   "source": [
    "## re.compile 函数"
   ]
  },
  {
   "cell_type": "code",
   "execution_count": null,
   "metadata": {},
   "outputs": [
    {
     "name": "stdout",
     "output_type": "stream",
     "text": [
      "12\n",
      "5\n",
      "3\n",
      "(3, 5)\n"
     ]
    }
   ],
   "source": [
    "#compile 函数用于编译正则表达式，生成一个正则表达式（ Pattern ）对象，供 match() 和 search() 这两个函数使用\n",
    "pattern = re.compile(r'\\d+')\n",
    "m = pattern.match('one12twothree34four', 3, 10)\n",
    "#group()用来提出分组截获的字符串\n",
    "print(m.group())\n",
    "print(m.end()) #末尾+1\n",
    "print(m.start())\n",
    "print(m.span())"
   ]
  },
  {
   "cell_type": "markdown",
   "metadata": {},
   "source": [
    "## re.search()函数"
   ]
  },
  {
   "cell_type": "code",
   "execution_count": null,
   "metadata": {},
   "outputs": [
    {
     "name": "stdout",
     "output_type": "stream",
     "text": [
      "9999\n",
      "None\n"
     ]
    }
   ],
   "source": [
    "ret = re.search(r\"\\d+\", \"阅读次数为9999\")\n",
    "ret1 = re.match(r\"\\d+\",'阅读次数为9999')\n",
    "print(ret.group())\n",
    "print(ret1)"
   ]
  },
  {
   "cell_type": "markdown",
   "metadata": {},
   "source": [
    "## re.findall()函数"
   ]
  },
  {
   "cell_type": "code",
   "execution_count": null,
   "metadata": {},
   "outputs": [
    {
     "name": "stdout",
     "output_type": "stream",
     "text": [
      "['9999', '7890', '12345']\n"
     ]
    }
   ],
   "source": [
    "ret = re.findall(r\"\\d+\", \"python = 9999, c = 7890, c++ = 12345\")\n",
    "print(ret)"
   ]
  },
  {
   "cell_type": "markdown",
   "metadata": {},
   "source": [
    "## re.finditer函数"
   ]
  },
  {
   "cell_type": "code",
   "execution_count": null,
   "metadata": {},
   "outputs": [
    {
     "name": "stdout",
     "output_type": "stream",
     "text": [
      "12\n",
      "32\n",
      "43\n",
      "3\n"
     ]
    }
   ],
   "source": [
    "it = re.finditer(r\"\\d+\", \"12a32bc43jf3\")\n",
    "for match in it:\n",
    "    print(match.group())"
   ]
  },
  {
   "cell_type": "markdown",
   "metadata": {},
   "source": [
    "## re.sub函数"
   ]
  },
  {
   "cell_type": "code",
   "execution_count": null,
   "metadata": {},
   "outputs": [
    {
     "name": "stdout",
     "output_type": "stream",
     "text": [
      "python = 998\n"
     ]
    }
   ],
   "source": [
    "ret = re.sub(r\"\\d+\", '998', \"python = 997\")\n",
    "print(ret)"
   ]
  },
  {
   "cell_type": "markdown",
   "metadata": {},
   "source": [
    "## re.split函数"
   ]
  },
  {
   "cell_type": "code",
   "execution_count": null,
   "metadata": {},
   "outputs": [
    {
     "name": "stdout",
     "output_type": "stream",
     "text": [
      "['info', 'xiaoZhang', '33', 'shandong']\n"
     ]
    }
   ],
   "source": [
    "ret = re.split(r\":| \",\"info:xiaoZhang 33 shandong\")\n",
    "print(ret)"
   ]
  },
  {
   "cell_type": "markdown",
   "metadata": {},
   "source": [
    "## 贪婪和非贪婪"
   ]
  },
  {
   "cell_type": "code",
   "execution_count": null,
   "metadata": {},
   "outputs": [
    {
     "data": {
      "text/plain": [
       "'2343'"
      ]
     },
     "metadata": {},
     "output_type": "display_data"
    }
   ],
   "source": [
    "re.match(r\"aa(\\d+)\",\"aa2343ddd\").group(1)"
   ]
  },
  {
   "cell_type": "code",
   "execution_count": null,
   "metadata": {},
   "outputs": [
    {
     "data": {
      "text/plain": [
       "'2'"
      ]
     },
     "metadata": {},
     "output_type": "display_data"
    }
   ],
   "source": [
    "re.match(r\"aa(\\d+?)\",\"aa2343ddd\").group(1)"
   ]
  },
  {
   "cell_type": "code",
   "execution_count": null,
   "metadata": {},
   "outputs": [
    {
     "data": {
      "text/plain": [
       "'2343'"
      ]
     },
     "metadata": {},
     "output_type": "display_data"
    }
   ],
   "source": [
    "re.match(r\"aa(\\d+)ddd\",\"aa2343ddd\").group(1)"
   ]
  },
  {
   "cell_type": "code",
   "execution_count": null,
   "metadata": {},
   "outputs": [
    {
     "data": {
      "text/plain": [
       "'2343'"
      ]
     },
     "metadata": {},
     "output_type": "display_data"
    }
   ],
   "source": [
    "re.match(r\"aa(\\d+?)ddd\",\"aa2343ddd\").group(1)"
   ]
  },
  {
   "cell_type": "markdown",
   "metadata": {},
   "source": [
    "# glob 模块：文件模式匹配"
   ]
  },
  {
   "cell_type": "code",
   "execution_count": 1,
   "metadata": {},
   "outputs": [],
   "source": [
    "import glob"
   ]
  },
  {
   "cell_type": "code",
   "execution_count": 2,
   "metadata": {},
   "outputs": [
    {
     "data": {
      "text/plain": [
       "['numpy.ipynb',\n",
       " 'pandas.ipynb',\n",
       " 'python.ipynb',\n",
       " 'python库.ipynb',\n",
       " '练习题.ipynb',\n",
       " '绘图.ipynb']"
      ]
     },
     "execution_count": 2,
     "metadata": {},
     "output_type": "execute_result"
    }
   ],
   "source": [
    "# `glob` 模块提供了方便的文件模式匹配方法。\n",
    "# 例如，找到所有以 `.ipynb` 结尾的文件名：\n",
    "glob.glob(\"*.ipynb\")"
   ]
  },
  {
   "cell_type": "markdown",
   "metadata": {},
   "source": [
    "`glob` 函数支持三种格式的语法：\n",
    "\n",
    "- `*` 匹配单个或多个字符\n",
    "- `?` 匹配任意单个字符\n",
    "- `[]` 匹配指定范围内的字符，如：[0-9]匹配数字。"
   ]
  },
  {
   "cell_type": "code",
   "execution_count": 3,
   "metadata": {},
   "outputs": [
    {
     "data": {
      "text/plain": [
       "[]"
      ]
     },
     "execution_count": 3,
     "metadata": {},
     "output_type": "execute_result"
    }
   ],
   "source": [
    "glob.glob(\"../09*/*.ipynb\")"
   ]
  },
  {
   "cell_type": "code",
   "execution_count": 4,
   "metadata": {},
   "outputs": [
    {
     "data": {
      "text/plain": [
       "[]"
      ]
     },
     "execution_count": 4,
     "metadata": {},
     "output_type": "execute_result"
    }
   ],
   "source": [
    "# 匹配数字开头文件夹\n",
    "glob.glob(\"../[0-9]*\")"
   ]
  },
  {
   "cell_type": "markdown",
   "metadata": {},
   "source": [
    "# shutil 模块：高级文件操作"
   ]
  },
  {
   "cell_type": "code",
   "execution_count": 5,
   "metadata": {},
   "outputs": [],
   "source": [
    "import shutil\n",
    "import os"
   ]
  },
  {
   "cell_type": "code",
   "execution_count": 6,
   "metadata": {},
   "outputs": [
    {
     "data": {
      "text/plain": [
       "True"
      ]
     },
     "metadata": {},
     "output_type": "display_data"
    }
   ],
   "source": [
    "# 1.复制文件\n",
    "with open(\"test.file\", \"w\") as f:\n",
    "    pass\n",
    "\n",
    "display(\"test.file\" in os.listdir(os.curdir))"
   ]
  },
  {
   "cell_type": "code",
   "execution_count": 7,
   "metadata": {},
   "outputs": [
    {
     "data": {
      "text/plain": [
       "True"
      ]
     },
     "metadata": {},
     "output_type": "display_data"
    },
    {
     "data": {
      "text/plain": [
       "True"
      ]
     },
     "metadata": {},
     "output_type": "display_data"
    }
   ],
   "source": [
    "# 2.`shutil.copy(src, dst)` 将源文件复制到目标地址：\n",
    "shutil.copy(\"test.file\", \"test.copy.file\")\n",
    "\n",
    "display(\"test.file\" in os.listdir(os.curdir))\n",
    "display(\"test.copy.file\" in os.listdir(os.curdir))"
   ]
  },
  {
   "cell_type": "code",
   "execution_count": 8,
   "metadata": {},
   "outputs": [],
   "source": [
    "# 2.复制文件夹\n",
    "# 2.1将文件转移到 `test_dir` 文件夹：\n",
    "os.renames(\"test.file\", \"test_dir/test.file\")\n",
    "os.renames(\"test.copy.file\", \"test_dir/test.copy.file\")"
   ]
  },
  {
   "cell_type": "code",
   "execution_count": 9,
   "metadata": {},
   "outputs": [
    {
     "data": {
      "text/plain": [
       "True"
      ]
     },
     "execution_count": 9,
     "metadata": {},
     "output_type": "execute_result"
    }
   ],
   "source": [
    "# 2.2使用 `shutil.copytree` 来复制文件夹：\n",
    "shutil.copytree(\"test_dir/\", \"test_dir_copy/\")\n",
    "\"test_dir_copy\" in os.listdir(os.curdir)"
   ]
  },
  {
   "cell_type": "code",
   "execution_count": 10,
   "metadata": {},
   "outputs": [],
   "source": [
    "# 3.使用 `shutil.rmtree` 来删除非空文件夹：\n",
    "shutil.rmtree(\"test_dir_copy\")"
   ]
  },
  {
   "cell_type": "code",
   "execution_count": 11,
   "metadata": {},
   "outputs": [],
   "source": [
    "# 4.移动文件夹\n",
    "# `shutil.move` 可以整体移动文件夹，与 `os.rename` 功能差不多。"
   ]
  },
  {
   "cell_type": "code",
   "execution_count": 12,
   "metadata": {},
   "outputs": [
    {
     "data": {
      "text/plain": [
       "[('bztar', \"bzip2'ed tar-file\"),\n",
       " ('gztar', \"gzip'ed tar-file\"),\n",
       " ('tar', 'uncompressed tar file'),\n",
       " ('xztar', \"xz'ed tar-file\"),\n",
       " ('zip', 'ZIP file')]"
      ]
     },
     "execution_count": 12,
     "metadata": {},
     "output_type": "execute_result"
    }
   ],
   "source": [
    "# 5.产生压缩文件\n",
    "shutil.get_archive_formats()"
   ]
  },
  {
   "cell_type": "code",
   "execution_count": 13,
   "metadata": {},
   "outputs": [
    {
     "data": {
      "text/plain": [
       "'e:\\\\code\\\\python\\\\test_archive.zip'"
      ]
     },
     "execution_count": 13,
     "metadata": {},
     "output_type": "execute_result"
    }
   ],
   "source": [
    "# 5.1`shutil.make_archive(basename, format, root_dir)`\n",
    "shutil.make_archive(\"test_archive\", \"zip\", \"test_dir/\")"
   ]
  },
  {
   "cell_type": "code",
   "execution_count": 14,
   "metadata": {},
   "outputs": [],
   "source": [
    "# 6.清理生成的文件和文件夹：\n",
    "os.remove(\"test_archive.zip\")\n",
    "shutil.rmtree(\"test_dir/\")"
   ]
  }
 ],
 "metadata": {
  "kernelspec": {
   "display_name": "base",
   "language": "python",
   "name": "python3"
  },
  "language_info": {
   "codemirror_mode": {
    "name": "ipython",
    "version": 3
   },
   "file_extension": ".py",
   "mimetype": "text/x-python",
   "name": "python",
   "nbconvert_exporter": "python",
   "pygments_lexer": "ipython3",
   "version": "3.9.13"
  },
  "orig_nbformat": 4
 },
 "nbformat": 4,
 "nbformat_minor": 2
}
