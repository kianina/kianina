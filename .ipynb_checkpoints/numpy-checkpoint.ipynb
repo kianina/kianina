{
 "cells": [
  {
   "cell_type": "markdown",
   "id": "67351514",
   "metadata": {},
   "source": [
    "# ndarray多维数组"
   ]
  },
  {
   "cell_type": "markdown",
   "id": "3ac63ac8",
   "metadata": {},
   "source": [
    "## ndarrays的创建"
   ]
  },
  {
   "cell_type": "code",
   "execution_count": 1,
   "id": "767ce72b",
   "metadata": {},
   "outputs": [],
   "source": [
    "import numpy as np"
   ]
  },
  {
   "cell_type": "code",
   "execution_count": 4,
   "id": "0ef5e483",
   "metadata": {},
   "outputs": [
    {
     "name": "stdout",
     "output_type": "stream",
     "text": [
      "[[0.28119452 0.98781867 0.64747332 0.37471083]\n",
      " [0.1019464  0.89123837 0.58282964 0.90135745]\n",
      " [0.31278126 0.29708926 0.57466503 0.92056826]]\n"
     ]
    }
   ],
   "source": [
    "#rand固定区间0.0 - 1.0\n",
    "arr = np.random.rand(3, 4)\n",
    "print(arr)"
   ]
  },
  {
   "cell_type": "code",
   "execution_count": 6,
   "id": "f18a2449",
   "metadata": {},
   "outputs": [
    {
     "name": "stdout",
     "output_type": "stream",
     "text": [
      "[[4 3 3 4]\n",
      " [3 3 3 4]\n",
      " [4 4 3 4]]\n"
     ]
    }
   ],
   "source": [
    "#randint()可以指定区间\n",
    "arr=np.random.randint(3,5,size=(3,4))\n",
    "print(arr)"
   ]
  },
  {
   "cell_type": "code",
   "execution_count": 8,
   "id": "5585833e",
   "metadata": {},
   "outputs": [
    {
     "name": "stdout",
     "output_type": "stream",
     "text": [
      "[[12.70471512  8.73802248 16.87424012  8.49214256]\n",
      " [12.70573235 13.22895107 17.54448541  5.40477264]\n",
      " [13.05928966 11.9822514   7.23427446 17.96134137]]\n"
     ]
    }
   ],
   "source": [
    "#uniform()可以指定区间\n",
    "arr = np.random.uniform(4, 19, size=(3, 4))\n",
    "print(arr)"
   ]
  },
  {
   "cell_type": "markdown",
   "id": "0b680eda",
   "metadata": {},
   "source": [
    "## ndarray的序列创建"
   ]
  },
  {
   "cell_type": "markdown",
   "id": "0827d778",
   "metadata": {},
   "source": [
    "1. np.array(collection)"
   ]
  },
  {
   "cell_type": "code",
   "execution_count": 9,
   "id": "6d809cf1",
   "metadata": {},
   "outputs": [
    {
     "name": "stdout",
     "output_type": "stream",
     "text": [
      "[0 1 2 3 4 5 6 7 8 9]\n"
     ]
    }
   ],
   "source": [
    "#collection 为 序列型对象(list)、嵌套序列对象(list of list)。\n",
    "list = range(10)\n",
    "arr = np.array(list)\n",
    "print(arr)"
   ]
  },
  {
   "cell_type": "code",
   "execution_count": 10,
   "id": "d12c9610",
   "metadata": {},
   "outputs": [
    {
     "name": "stdout",
     "output_type": "stream",
     "text": [
      "[[0 1 2 3 4 5 6 7 8 9]\n",
      " [0 1 2 3 4 5 6 7 8 9]]\n"
     ]
    }
   ],
   "source": [
    "list_li = [range(10), range(10)]\n",
    "arr = np.array(list_li)\n",
    "print(arr)"
   ]
  },
  {
   "cell_type": "markdown",
   "id": "aab3e9d1",
   "metadata": {},
   "source": [
    "2. np.zeros()"
   ]
  },
  {
   "cell_type": "code",
   "execution_count": 11,
   "id": "2c3ea344",
   "metadata": {},
   "outputs": [
    {
     "name": "stdout",
     "output_type": "stream",
     "text": [
      "[[0. 0. 0. 0.]\n",
      " [0. 0. 0. 0.]\n",
      " [0. 0. 0. 0.]]\n"
     ]
    }
   ],
   "source": [
    "zeros_arr=np.zeros((3,4))\n",
    "print(zeros_arr)"
   ]
  },
  {
   "cell_type": "markdown",
   "id": "263b0c34",
   "metadata": {},
   "source": [
    "3. np.ones()"
   ]
  },
  {
   "cell_type": "code",
   "execution_count": 13,
   "id": "a45fa60b",
   "metadata": {},
   "outputs": [
    {
     "name": "stdout",
     "output_type": "stream",
     "text": [
      "[[1. 1. 1. 1.]\n",
      " [1. 1. 1. 1.]\n",
      " [1. 1. 1. 1.]]\n"
     ]
    }
   ],
   "source": [
    "ones_arr=np.ones((3,4))\n",
    "print(ones_arr)"
   ]
  },
  {
   "cell_type": "markdown",
   "id": "deab4985",
   "metadata": {},
   "source": [
    "4. np.empty()"
   ]
  },
  {
   "cell_type": "code",
   "execution_count": 14,
   "id": "13ec8f62",
   "metadata": {},
   "outputs": [
    {
     "name": "stdout",
     "output_type": "stream",
     "text": [
      "[[1. 1. 1. 1.]\n",
      " [1. 1. 1. 1.]\n",
      " [1. 1. 1. 1.]]\n"
     ]
    }
   ],
   "source": [
    "empty_arr=np.empty((3,4))\n",
    "print(empty_arr)"
   ]
  },
  {
   "cell_type": "markdown",
   "id": "f20f56aa",
   "metadata": {},
   "source": [
    "5. np.arange()和reshape()"
   ]
  },
  {
   "cell_type": "code",
   "execution_count": 18,
   "id": "47a3c945",
   "metadata": {},
   "outputs": [
    {
     "name": "stdout",
     "output_type": "stream",
     "text": [
      "[0 1 2 3 4 5 6 7 8 9]\n",
      "[[0 1 2 3 4]\n",
      " [5 6 7 8 9]]\n"
     ]
    }
   ],
   "source": [
    "arr=np.arange(10)\n",
    "print(arr)\n",
    "print(arr.reshape(2,5))"
   ]
  },
  {
   "cell_type": "markdown",
   "id": "477d734e",
   "metadata": {},
   "source": [
    "6. np.arange() 和 random.shuffle()"
   ]
  },
  {
   "cell_type": "code",
   "execution_count": 23,
   "id": "d152d651",
   "metadata": {},
   "outputs": [
    {
     "name": "stdout",
     "output_type": "stream",
     "text": [
      "[ 0  1  2  3  4  5  6  7  8  9 10 11 12 13 14]\n",
      "[ 1  2 12  5  9  7  4 10 14  3  6 11  0 13  8]\n"
     ]
    }
   ],
   "source": [
    "arr=np.arange(15)\n",
    "print(arr)\n",
    "np.random.shuffle(arr)\n",
    "print(arr)"
   ]
  },
  {
   "cell_type": "markdown",
   "id": "dcfae52f",
   "metadata": {},
   "source": [
    "## ndarray的数据类型"
   ]
  },
  {
   "cell_type": "markdown",
   "id": "6409a275",
   "metadata": {},
   "source": [
    "1. dtype参数"
   ]
  },
  {
   "cell_type": "markdown",
   "id": "ea399118",
   "metadata": {},
   "source": [
    "指定数组的数据类型，类型名+位数，如float64, int32"
   ]
  },
  {
   "cell_type": "markdown",
   "id": "1f0a5611",
   "metadata": {},
   "source": [
    "2. astype方法"
   ]
  },
  {
   "cell_type": "code",
   "execution_count": 28,
   "id": "dc1f6da9",
   "metadata": {
    "collapsed": true
   },
   "outputs": [
    {
     "name": "stdout",
     "output_type": "stream",
     "text": [
      "[[0. 0. 0. 0.]\n",
      " [0. 0. 0. 0.]\n",
      " [0. 0. 0. 0.]]\n",
      "float64\n",
      "[[0 0 0 0]\n",
      " [0 0 0 0]\n",
      " [0 0 0 0]]\n",
      "int32\n"
     ]
    }
   ],
   "source": [
    "# 初始化3行4列数组，数据类型为float64\n",
    "float_arr=np.zeros((3,4),dtype=np.float64)\n",
    "print(float_arr)\n",
    "print(float_arr.dtype)\n",
    "# astype转换数据类型，将已有的数组的数据类型转换为int32\n",
    "int_arr=float_arr.astype(np.int32)\n",
    "print(int_arr)\n",
    "print(int_arr.dtype)"
   ]
  },
  {
   "cell_type": "markdown",
   "id": "0d9e40f3",
   "metadata": {},
   "source": [
    "## ndarray的矩阵运算"
   ]
  },
  {
   "cell_type": "markdown",
   "id": "da25aa30",
   "metadata": {},
   "source": [
    "1. 矢量运算：相同大小的数组间运算应用在元素上"
   ]
  },
  {
   "cell_type": "code",
   "execution_count": 32,
   "id": "9b2b5c6a",
   "metadata": {
    "collapsed": true
   },
   "outputs": [
    {
     "name": "stdout",
     "output_type": "stream",
     "text": [
      "[[0 1 2]\n",
      " [3 4 5]]\n",
      "[[ 0  2  4]\n",
      " [ 6  8 10]]\n",
      "[[ 0  1  4]\n",
      " [ 9 16 25]]\n"
     ]
    }
   ],
   "source": [
    "arr=np.arange(6).reshape(2,3)\n",
    "print(arr)\n",
    "#矩阵相加\n",
    "print(arr+arr)\n",
    "#矩阵相乘\n",
    "print(arr*arr)"
   ]
  },
  {
   "cell_type": "markdown",
   "id": "aa950712",
   "metadata": {},
   "source": [
    "2. 矢量和标量运算：\"广播\" - 将标量\"广播\"到各个元素"
   ]
  },
  {
   "cell_type": "code",
   "execution_count": 34,
   "id": "c66706dc",
   "metadata": {},
   "outputs": [
    {
     "name": "stdout",
     "output_type": "stream",
     "text": [
      "[[0.         0.33333333 0.66666667]\n",
      " [1.         1.33333333 1.66666667]]\n",
      "[[12 13 14]\n",
      " [15 16 17]]\n"
     ]
    }
   ],
   "source": [
    "arr=np.arange(6).reshape(2,3)\n",
    "print(arr/3.)\n",
    "print(arr+12)"
   ]
  },
  {
   "cell_type": "markdown",
   "id": "6b3dd810",
   "metadata": {},
   "source": [
    "## ndarray的索引与切片"
   ]
  },
  {
   "cell_type": "code",
   "execution_count": 35,
   "id": "e44c3adc",
   "metadata": {},
   "outputs": [
    {
     "name": "stdout",
     "output_type": "stream",
     "text": [
      "[3 4 5]\n"
     ]
    }
   ],
   "source": [
    "#一维数组\n",
    "arr=np.arange(19)\n",
    "print(arr[3:6])"
   ]
  },
  {
   "cell_type": "markdown",
   "id": "aca223c5",
   "metadata": {},
   "source": [
    "\n",
    "arr[r1:r2, c1:c2]\n",
    "\n",
    "arr[1,1] 等价 arr[1][1]\n",
    "\n",
    "[:] 代表某个维度的数据"
   ]
  },
  {
   "cell_type": "code",
   "execution_count": 42,
   "id": "6e3799cc",
   "metadata": {},
   "outputs": [
    {
     "name": "stdout",
     "output_type": "stream",
     "text": [
      "[[ 0  1  2  3]\n",
      " [ 4  5  6  7]\n",
      " [ 8  9 10 11]]\n",
      "[[5]]\n"
     ]
    }
   ],
   "source": [
    "#多维数组\n",
    "arr=np.arange(12).reshape(3,4)\n",
    "print(arr)\n",
    "print(arr[1:2,1:2])\n"
   ]
  },
  {
   "cell_type": "markdown",
   "id": "a72cebc0",
   "metadata": {},
   "source": [
    "3. 条件索引"
   ]
  },
  {
   "cell_type": "code",
   "execution_count": 46,
   "id": "394b7c31",
   "metadata": {},
   "outputs": [
    {
     "name": "stdout",
     "output_type": "stream",
     "text": [
      "[[0.57266687 0.12982194 0.79897093]\n",
      " [0.38513126 0.89982004 0.03075285]\n",
      " [0.40483918 0.17747086 0.39719415]]\n",
      "[[False False False]\n",
      " [False False  True]\n",
      " [ True  True  True]] bool\n",
      "[0.57266687 0.79897093 0.89982004 0.03075285 0.40483918 0.17747086\n",
      " 0.39719415]\n"
     ]
    }
   ],
   "source": [
    "data_arr=np.random.rand(3,3)\n",
    "print(data_arr)\n",
    "year_arr=np.array([[2000,2001,2002],\n",
    "                [2003,2004,20005],\n",
    "                [2006,2007,2008]])\n",
    "year_2005=year_arr>=2005\n",
    "print(year_2005,year_2005.dtype)\n",
    "\n",
    "fitt_arr=data_arr[(year_arr<=2005)&(year_arr)%2==0]\n",
    "print(fitt_arr)"
   ]
  },
  {
   "cell_type": "markdown",
   "id": "305c04dc",
   "metadata": {},
   "source": [
    "## ndarray的维数转换"
   ]
  },
  {
   "cell_type": "markdown",
   "id": "396c5564",
   "metadata": {},
   "source": [
    "二维数组直接使用转换函数：transpose()\n",
    "\n",
    "高维数组转换要指定维度编号参数 (0, 1, 2, …)，注意参数是元组"
   ]
  },
  {
   "cell_type": "code",
   "execution_count": 53,
   "id": "add0648d",
   "metadata": {},
   "outputs": [
    {
     "name": "stdout",
     "output_type": "stream",
     "text": [
      "[[ 6  2  5  3]\n",
      " [10  7 10  9]\n",
      " [10 12  4  2]]\n",
      "[[ 6 10 10]\n",
      " [ 2  7 12]\n",
      " [ 5 10  4]\n",
      " [ 3  9  2]]\n"
     ]
    }
   ],
   "source": [
    "arr = np.random.randint(2,13,size=(3,4))    # 2x3 数组\n",
    "print(arr)    \n",
    "print(arr.transpose()) # 转换为 3x2 数组"
   ]
  },
  {
   "cell_type": "code",
   "execution_count": 54,
   "id": "e87c6204",
   "metadata": {},
   "outputs": [
    {
     "name": "stdout",
     "output_type": "stream",
     "text": [
      "[[[28 14 33 25]\n",
      "  [24 33 10 30]\n",
      "  [ 5 24 25 21]]\n",
      "\n",
      " [[33 24  8 21]\n",
      "  [20 18  2 26]\n",
      "  [ 8 18 14 26]]]\n",
      "[[[28 33]\n",
      "  [14 24]\n",
      "  [33  8]\n",
      "  [25 21]]\n",
      "\n",
      " [[24 20]\n",
      "  [33 18]\n",
      "  [10  2]\n",
      "  [30 26]]\n",
      "\n",
      " [[ 5  8]\n",
      "  [24 18]\n",
      "  [25 14]\n",
      "  [21 26]]]\n"
     ]
    }
   ],
   "source": [
    "# 2x3x4 数组，2对应0，3对应1，4对应2\n",
    "arr=np.random.randint(2,34,size=(2,3,4))\n",
    "print(arr)\n",
    "print(arr.transpose(1,2,0))"
   ]
  },
  {
   "cell_type": "markdown",
   "id": "14251f11",
   "metadata": {},
   "source": [
    "## 元素计算函数"
   ]
  },
  {
   "cell_type": "markdown",
   "id": "779ae091",
   "metadata": {},
   "source": [
    "1. ceil(): 向上最接近的整数，参数是 number 或 array\n",
    "\n",
    "2. floor(): 向下最接近的整数，参数是 number 或 array\n",
    "\n",
    "3. rint(): 四舍五入，参数是 number 或 array\n",
    "\n",
    "4. isnan(): 判断元素是否为 NaN(Not a Number)，参数是 number 或 array\n",
    "\n",
    "5. multiply(): 元素相乘，参数是 number 或 array\n",
    "\n",
    "6. divide(): 元素相除，参数是 number 或 array\n",
    "\n",
    "7. abs()：元素的绝对值，参数是 number 或 array\n",
    "\n",
    "8. where(condition, x, y): 三元运算符，x if condition else y"
   ]
  },
  {
   "cell_type": "code",
   "execution_count": 57,
   "id": "67498f64",
   "metadata": {},
   "outputs": [
    {
     "name": "stdout",
     "output_type": "stream",
     "text": [
      "[[-1.93265313  1.75440552  0.02380325  1.1845227 ]\n",
      " [-0.37298304 -1.04514333  0.77486848  1.45904998]]\n",
      "[[-1.  2.  1.  2.]\n",
      " [-0. -1.  1.  2.]]\n",
      "[[-2.  1.  0.  1.]\n",
      " [-1. -2.  0.  1.]]\n",
      "[[-2.  2.  0.  1.]\n",
      " [-0. -1.  1.  1.]]\n",
      "[[False False False False]\n",
      " [False False False False]]\n",
      "[[3.73514811e+00 3.07793872e+00 5.66594595e-04 1.40309402e+00]\n",
      " [1.39116348e-01 1.09232458e+00 6.00421155e-01 2.12882684e+00]]\n",
      "[[1. 1. 1. 1.]\n",
      " [1. 1. 1. 1.]]\n",
      "[[1.93265313 1.75440552 0.02380325 1.1845227 ]\n",
      " [0.37298304 1.04514333 0.77486848 1.45904998]]\n",
      "[[2 1 1 1]\n",
      " [2 2 1 1]]\n"
     ]
    }
   ],
   "source": [
    "arr=np.random.randn(2,4)\n",
    "print(arr)\n",
    "print(np.ceil(arr))\n",
    "print(np.floor(arr))\n",
    "print(np.rint(arr))\n",
    "print(np.isnan(arr))\n",
    "print(np.multiply(arr,arr))\n",
    "print(np.divide(arr,arr))\n",
    "print(np.abs(arr))\n",
    "print(np.where(arr>0,1,2))"
   ]
  },
  {
   "cell_type": "markdown",
   "id": "c8cf78ec",
   "metadata": {},
   "source": [
    "## 元素统计函数"
   ]
  },
  {
   "cell_type": "markdown",
   "id": "7c7c5d73",
   "metadata": {},
   "source": [
    "1. np.mean(), np.sum()：所有元素的平均值，所有元素的和，参数是 number 或 array\n",
    "\n",
    "2. np.max(), np.min()：所有元素的最大值，所有元素的最小值，参数是 number 或 array\n",
    "\n",
    "3. np.std(), np.var()：所有元素的标准差，所有元素的方差，参数是 number 或 array\n",
    "\n",
    "4. np.argmax(), np.argmin()：最大值的下标索引值，最小值的下标索引值，参数是 number 或 array\n",
    "\n",
    "5. np.cumsum(), np.cumprod()：返回一个一维数组，每个元素都是之前所有元素的 累加和 和 累乘积，参数是 number 或 array\n",
    "\n",
    "6. 多维数组默认统计全部维度，axis参数可以按指定轴心统计，值为0则按列统计，值为1则按行统计。"
   ]
  },
  {
   "cell_type": "code",
   "execution_count": 61,
   "id": "7cd5629c",
   "metadata": {
    "collapsed": true
   },
   "outputs": [
    {
     "name": "stdout",
     "output_type": "stream",
     "text": [
      "[[ 0  1  2  3]\n",
      " [ 8  9 10 11]\n",
      " [ 4  5  6  7]]\n",
      "5.5\n",
      "66\n",
      "11\n",
      "0\n",
      "3.452052529534663\n",
      "11.916666666666666\n",
      "7\n",
      "0\n",
      "[ 0  1  3  6 14 23 33 44 48 53 59 66]\n",
      "[0 0 0 0 0 0 0 0 0 0 0 0]\n"
     ]
    }
   ],
   "source": [
    "arr=np.arange(12).reshape(3,4)\n",
    "np.random.shuffle(arr)\n",
    "print(arr)\n",
    "print(np.mean(arr))\n",
    "print(np.sum(arr))\n",
    "print(np.max(arr))\n",
    "print(np.min(arr))\n",
    "print(np.std(arr))\n",
    "print(np.var(arr))\n",
    "print(np.argmax(arr))\n",
    "print(np.argmin(arr))\n",
    "print(np.cumsum(arr))\n",
    "print(np.cumprod(arr))"
   ]
  },
  {
   "cell_type": "markdown",
   "id": "dba499e1",
   "metadata": {},
   "source": [
    "## 元素判断函数"
   ]
  },
  {
   "cell_type": "markdown",
   "id": "7ec7c776",
   "metadata": {},
   "source": [
    "1. np.any(): 至少有一个元素满足指定条件，返回True\n",
    "2. np.all(): 所有的元素满足指定条件，返回True"
   ]
  },
  {
   "cell_type": "code",
   "execution_count": 63,
   "id": "8ec87b94",
   "metadata": {
    "collapsed": true
   },
   "outputs": [
    {
     "name": "stdout",
     "output_type": "stream",
     "text": [
      "[[ 0.61449432  2.15252619 -1.40056063]\n",
      " [-0.86659354  0.21893125  1.57005309]]\n",
      "True\n",
      "False\n"
     ]
    }
   ],
   "source": [
    "arr=np.random.randn(2,3)\n",
    "print(arr)\n",
    "print(np.any(arr>0))\n",
    "print(np.all(arr>0))"
   ]
  },
  {
   "cell_type": "markdown",
   "id": "ab2da645",
   "metadata": {},
   "source": [
    "## 元素去重排序函数"
   ]
  },
  {
   "cell_type": "markdown",
   "id": "a567d77c",
   "metadata": {},
   "source": [
    "np.unique():找到唯一值并返回排序结果，类似于Python的set集合"
   ]
  },
  {
   "cell_type": "code",
   "execution_count": 65,
   "id": "ef473ee8",
   "metadata": {
    "collapsed": true
   },
   "outputs": [
    {
     "name": "stdout",
     "output_type": "stream",
     "text": [
      "[[2 3]\n",
      " [8 9]\n",
      " [6 7]\n",
      " [4 5]\n",
      " [0 1]]\n",
      "[0 1 2 3 4 5 6 7 8 9]\n"
     ]
    }
   ],
   "source": [
    "arr=np.arange(10).reshape(5,2)\n",
    "np.random.shuffle(arr)\n",
    "print(arr)\n",
    "print(np.unique(arr))"
   ]
  },
  {
   "cell_type": "markdown",
   "id": "9468584e",
   "metadata": {},
   "source": [
    "## 求两个数组中元素相等的个数"
   ]
  },
  {
   "cell_type": "code",
   "execution_count": 2,
   "id": "f16c80e9",
   "metadata": {},
   "outputs": [],
   "source": [
    "import numpy as np"
   ]
  },
  {
   "cell_type": "code",
   "execution_count": 14,
   "id": "8b052f8e",
   "metadata": {},
   "outputs": [
    {
     "data": {
      "text/plain": [
       "(array([0, 1, 0, 1, 1, 0, 1, 0, 1, 1, 0, 0, 0, 0, 1, 1, 0, 0, 1, 0]),\n",
       " array([1, 1, 0, 1, 0, 1, 1, 0, 1, 0, 0, 1, 1, 0, 0, 1, 1, 1, 1, 1]))"
      ]
     },
     "execution_count": 14,
     "metadata": {},
     "output_type": "execute_result"
    }
   ],
   "source": [
    "a=np.random.randint(0,2,20)\n",
    "b=np.random.randint(0,2,20)\n",
    "a,b"
   ]
  },
  {
   "cell_type": "code",
   "execution_count": 15,
   "id": "6ec42f40",
   "metadata": {},
   "outputs": [
    {
     "name": "stdout",
     "output_type": "stream",
     "text": [
      "[False  True  True  True False False  True  True  True False  True False\n",
      " False  True False  True False False  True False]\n"
     ]
    }
   ],
   "source": [
    "print(a==b)"
   ]
  },
  {
   "cell_type": "code",
   "execution_count": 17,
   "id": "036d684b",
   "metadata": {},
   "outputs": [
    {
     "name": "stdout",
     "output_type": "stream",
     "text": [
      "0.5\n",
      "10\n"
     ]
    }
   ],
   "source": [
    "print(np.sum(a==b)/len(a))\n",
    "print(np.sum(a==b))"
   ]
  },
  {
   "cell_type": "code",
   "execution_count": 12,
   "id": "ada1598e",
   "metadata": {
    "collapsed": true
   },
   "outputs": [
    {
     "ename": "IndexError",
     "evalue": "index 1 is out of bounds for axis 0 with size 1",
     "output_type": "error",
     "traceback": [
      "\u001b[1;31m---------------------------------------------------------------------------\u001b[0m",
      "\u001b[1;31mIndexError\u001b[0m                                Traceback (most recent call last)",
      "Input \u001b[1;32mIn [12]\u001b[0m, in \u001b[0;36m<cell line: 1>\u001b[1;34m()\u001b[0m\n\u001b[1;32m----> 1\u001b[0m \u001b[38;5;28mprint\u001b[39m(\u001b[38;5;28mlen\u001b[39m(\u001b[43ma\u001b[49m\u001b[43m[\u001b[49m\u001b[38;5;241;43m1\u001b[39;49m\u001b[43m]\u001b[49m))\n",
      "\u001b[1;31mIndexError\u001b[0m: index 1 is out of bounds for axis 0 with size 1"
     ]
    }
   ],
   "source": []
  },
  {
   "cell_type": "code",
   "execution_count": null,
   "id": "5d4f22e0",
   "metadata": {},
   "outputs": [],
   "source": []
  }
 ],
 "metadata": {
  "kernelspec": {
   "display_name": "Python 3 (ipykernel)",
   "language": "python",
   "name": "python3"
  },
  "language_info": {
   "codemirror_mode": {
    "name": "ipython",
    "version": 3
   },
   "file_extension": ".py",
   "mimetype": "text/x-python",
   "name": "python",
   "nbconvert_exporter": "python",
   "pygments_lexer": "ipython3",
   "version": "3.9.13"
  },
  "toc": {
   "base_numbering": 1,
   "nav_menu": {},
   "number_sections": true,
   "sideBar": true,
   "skip_h1_title": false,
   "title_cell": "Table of Contents",
   "title_sidebar": "Contents",
   "toc_cell": false,
   "toc_position": {
    "height": "calc(100% - 180px)",
    "left": "10px",
    "top": "150px",
    "width": "204.52px"
   },
   "toc_section_display": true,
   "toc_window_display": true
  },
  "varInspector": {
   "cols": {
    "lenName": 16,
    "lenType": 16,
    "lenVar": 40
   },
   "kernels_config": {
    "python": {
     "delete_cmd_postfix": "",
     "delete_cmd_prefix": "del ",
     "library": "var_list.py",
     "varRefreshCmd": "print(var_dic_list())"
    },
    "r": {
     "delete_cmd_postfix": ") ",
     "delete_cmd_prefix": "rm(",
     "library": "var_list.r",
     "varRefreshCmd": "cat(var_dic_list()) "
    }
   },
   "types_to_exclude": [
    "module",
    "function",
    "builtin_function_or_method",
    "instance",
    "_Feature"
   ],
   "window_display": false
  }
 },
 "nbformat": 4,
 "nbformat_minor": 5
}
