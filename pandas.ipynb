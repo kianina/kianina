{
 "cells": [
  {
   "cell_type": "code",
   "execution_count": 3,
   "metadata": {},
   "outputs": [],
   "source": [
    "import pandas as pd\n",
    "import numpy as np"
   ]
  },
  {
   "attachments": {},
   "cell_type": "markdown",
   "id": "ac7772e9",
   "metadata": {},
   "source": [
    "# pandans的数据结构"
   ]
  },
  {
   "attachments": {},
   "cell_type": "markdown",
   "id": "58b2d2a4",
   "metadata": {},
   "source": [
    "## series"
   ]
  },
  {
   "attachments": {},
   "cell_type": "markdown",
   "id": "111709df",
   "metadata": {},
   "source": [
    "1. 通过list构建Series"
   ]
  },
  {
   "cell_type": "code",
   "execution_count": 2,
   "id": "e952da34",
   "metadata": {},
   "outputs": [
    {
     "name": "stdout",
     "output_type": "stream",
     "text": [
      "0      0\n",
      "1      1\n",
      "2      2\n",
      "3      3\n",
      "4      4\n",
      "5      5\n",
      "6      6\n",
      "7      7\n",
      "8      8\n",
      "9      9\n",
      "10    10\n",
      "dtype: int64\n",
      "0    11\n",
      "1    12\n",
      "2    13\n",
      "dtype: int64\n",
      "<class 'pandas.core.series.Series'>\n"
     ]
    }
   ],
   "source": [
    "# 1.使用列表构建\n",
    "ser_obj = pd.Series(range(11))\n",
    "print(ser_obj)\n",
    "ser2 = pd.Series(range(11,16))\n",
    "print(ser2.head(3))\n",
    "print(type(ser2))"
   ]
  },
  {
   "cell_type": "code",
   "execution_count": 19,
   "id": "6e79fc58",
   "metadata": {},
   "outputs": [
    {
     "data": {
      "text/plain": [
       "a    5.0\n",
       "b    5.0\n",
       "c    5.0\n",
       "d    5.0\n",
       "e    5.0\n",
       "dtype: float64"
      ]
     },
     "execution_count": 19,
     "metadata": {},
     "output_type": "execute_result"
    }
   ],
   "source": [
    "# 2.使用标量构建\n",
    "pd.Series(5., index=['a', 'b', 'c', 'd', 'e'])"
   ]
  },
  {
   "attachments": {},
   "cell_type": "markdown",
   "id": "f37211cd",
   "metadata": {},
   "source": [
    "2. 获取数据和索引"
   ]
  },
  {
   "cell_type": "code",
   "execution_count": 3,
   "id": "1329b9ab",
   "metadata": {},
   "outputs": [
    {
     "name": "stdout",
     "output_type": "stream",
     "text": [
      "[ 0  1  2  3  4  5  6  7  8  9 10]\n"
     ]
    }
   ],
   "source": [
    "# 获取数据，返回一个列表\n",
    "print(ser_obj.values) "
   ]
  },
  {
   "cell_type": "code",
   "execution_count": 4,
   "id": "c703b766",
   "metadata": {},
   "outputs": [
    {
     "name": "stdout",
     "output_type": "stream",
     "text": [
      "RangeIndex(start=0, stop=11, step=1)\n"
     ]
    }
   ],
   "source": [
    "# 获取索引\n",
    "print(ser_obj.index)"
   ]
  },
  {
   "attachments": {},
   "cell_type": "markdown",
   "id": "4603124d",
   "metadata": {},
   "source": [
    "3. 通过索引获取数据"
   ]
  },
  {
   "cell_type": "code",
   "execution_count": 5,
   "id": "6c7552e5",
   "metadata": {},
   "outputs": [
    {
     "name": "stdout",
     "output_type": "stream",
     "text": [
      "5\n",
      "0\n"
     ]
    }
   ],
   "source": [
    "print(ser_obj[5])\n",
    "print(ser_obj[0])"
   ]
  },
  {
   "attachments": {},
   "cell_type": "markdown",
   "id": "b5c9e54d",
   "metadata": {},
   "source": [
    "4. 索引与数据的对应关系不被运算结果影响"
   ]
  },
  {
   "cell_type": "code",
   "execution_count": 9,
   "id": "6d92563b",
   "metadata": {},
   "outputs": [
    {
     "data": {
      "text/plain": [
       "0      0\n",
       "1      3\n",
       "2      6\n",
       "3      9\n",
       "4     12\n",
       "5     15\n",
       "6     18\n",
       "7     21\n",
       "8     24\n",
       "9     27\n",
       "10    30\n",
       "dtype: int64"
      ]
     },
     "metadata": {},
     "output_type": "display_data"
    },
    {
     "data": {
      "text/plain": [
       "0     False\n",
       "1     False\n",
       "2     False\n",
       "3     False\n",
       "4     False\n",
       "5     False\n",
       "6     False\n",
       "7     False\n",
       "8      True\n",
       "9      True\n",
       "10     True\n",
       "dtype: bool"
      ]
     },
     "metadata": {},
     "output_type": "display_data"
    }
   ],
   "source": [
    "display(ser_obj*3)\n",
    "display(ser_obj>7)"
   ]
  },
  {
   "attachments": {},
   "cell_type": "markdown",
   "id": "e3dc639c",
   "metadata": {},
   "source": [
    "5. 通过dict构建Series"
   ]
  },
  {
   "cell_type": "code",
   "execution_count": 10,
   "id": "1abc322c",
   "metadata": {},
   "outputs": [
    {
     "name": "stdout",
     "output_type": "stream",
     "text": [
      "2001    15.2\n",
      "2002    74.5\n",
      "2003    45.2\n",
      "dtype: float64\n"
     ]
    }
   ],
   "source": [
    "year_data = {2001:15.2,2002:74.5,2003:45.2}\n",
    "ser3 = pd.Series(year_data)\n",
    "print(ser3)"
   ]
  },
  {
   "attachments": {},
   "cell_type": "markdown",
   "id": "2635a182",
   "metadata": {},
   "source": [
    "name属性"
   ]
  },
  {
   "cell_type": "code",
   "execution_count": 11,
   "id": "7c687a42",
   "metadata": {},
   "outputs": [
    {
     "name": "stdout",
     "output_type": "stream",
     "text": [
      "year\n",
      "2001    15.2\n",
      "2002    74.5\n",
      "2003    45.2\n",
      "Name: temp, dtype: float64\n"
     ]
    }
   ],
   "source": [
    "ser3.name=\"temp\"\n",
    "ser3.index.name=\"year\"\n",
    "print(ser3.head())"
   ]
  },
  {
   "attachments": {},
   "cell_type": "markdown",
   "id": "c764bd2d",
   "metadata": {},
   "source": [
    "## DataFrame"
   ]
  },
  {
   "attachments": {},
   "cell_type": "markdown",
   "id": "8973f8bb",
   "metadata": {},
   "source": [
    "1. 通过ndarray构建DataFrame"
   ]
  },
  {
   "cell_type": "code",
   "execution_count": 13,
   "id": "ff00f338",
   "metadata": {},
   "outputs": [
    {
     "name": "stdout",
     "output_type": "stream",
     "text": [
      "[[-0.6651951   0.99031597  0.01943429  0.62287185]\n",
      " [-0.6669378   0.53082008  0.76816148 -0.16160982]\n",
      " [-0.4103636  -0.49280522  0.33365319 -1.46168922]\n",
      " [-0.18677361  1.69450001 -0.75899808  2.37291368]\n",
      " [-0.97649604 -0.59215663  1.46405265  1.98699917]]\n"
     ]
    },
    {
     "data": {
      "text/html": [
       "<div>\n",
       "<style scoped>\n",
       "    .dataframe tbody tr th:only-of-type {\n",
       "        vertical-align: middle;\n",
       "    }\n",
       "\n",
       "    .dataframe tbody tr th {\n",
       "        vertical-align: top;\n",
       "    }\n",
       "\n",
       "    .dataframe thead th {\n",
       "        text-align: right;\n",
       "    }\n",
       "</style>\n",
       "<table border=\"1\" class=\"dataframe\">\n",
       "  <thead>\n",
       "    <tr style=\"text-align: right;\">\n",
       "      <th></th>\n",
       "      <th>0</th>\n",
       "      <th>1</th>\n",
       "      <th>2</th>\n",
       "      <th>3</th>\n",
       "    </tr>\n",
       "  </thead>\n",
       "  <tbody>\n",
       "    <tr>\n",
       "      <th>0</th>\n",
       "      <td>-0.665195</td>\n",
       "      <td>0.990316</td>\n",
       "      <td>0.019434</td>\n",
       "      <td>0.622872</td>\n",
       "    </tr>\n",
       "    <tr>\n",
       "      <th>1</th>\n",
       "      <td>-0.666938</td>\n",
       "      <td>0.530820</td>\n",
       "      <td>0.768161</td>\n",
       "      <td>-0.161610</td>\n",
       "    </tr>\n",
       "    <tr>\n",
       "      <th>2</th>\n",
       "      <td>-0.410364</td>\n",
       "      <td>-0.492805</td>\n",
       "      <td>0.333653</td>\n",
       "      <td>-1.461689</td>\n",
       "    </tr>\n",
       "    <tr>\n",
       "      <th>3</th>\n",
       "      <td>-0.186774</td>\n",
       "      <td>1.694500</td>\n",
       "      <td>-0.758998</td>\n",
       "      <td>2.372914</td>\n",
       "    </tr>\n",
       "    <tr>\n",
       "      <th>4</th>\n",
       "      <td>-0.976496</td>\n",
       "      <td>-0.592157</td>\n",
       "      <td>1.464053</td>\n",
       "      <td>1.986999</td>\n",
       "    </tr>\n",
       "  </tbody>\n",
       "</table>\n",
       "</div>"
      ],
      "text/plain": [
       "          0         1         2         3\n",
       "0 -0.665195  0.990316  0.019434  0.622872\n",
       "1 -0.666938  0.530820  0.768161 -0.161610\n",
       "2 -0.410364 -0.492805  0.333653 -1.461689\n",
       "3 -0.186774  1.694500 -0.758998  2.372914\n",
       "4 -0.976496 -0.592157  1.464053  1.986999"
      ]
     },
     "metadata": {},
     "output_type": "display_data"
    },
    {
     "data": {
      "text/html": [
       "<div>\n",
       "<style scoped>\n",
       "    .dataframe tbody tr th:only-of-type {\n",
       "        vertical-align: middle;\n",
       "    }\n",
       "\n",
       "    .dataframe tbody tr th {\n",
       "        vertical-align: top;\n",
       "    }\n",
       "\n",
       "    .dataframe thead th {\n",
       "        text-align: right;\n",
       "    }\n",
       "</style>\n",
       "<table border=\"1\" class=\"dataframe\">\n",
       "  <thead>\n",
       "    <tr style=\"text-align: right;\">\n",
       "      <th></th>\n",
       "      <th>0</th>\n",
       "      <th>1</th>\n",
       "      <th>2</th>\n",
       "      <th>3</th>\n",
       "    </tr>\n",
       "  </thead>\n",
       "  <tbody>\n",
       "    <tr>\n",
       "      <th>0</th>\n",
       "      <td>-0.665195</td>\n",
       "      <td>0.990316</td>\n",
       "      <td>0.019434</td>\n",
       "      <td>0.622872</td>\n",
       "    </tr>\n",
       "    <tr>\n",
       "      <th>1</th>\n",
       "      <td>-0.666938</td>\n",
       "      <td>0.530820</td>\n",
       "      <td>0.768161</td>\n",
       "      <td>-0.161610</td>\n",
       "    </tr>\n",
       "    <tr>\n",
       "      <th>2</th>\n",
       "      <td>-0.410364</td>\n",
       "      <td>-0.492805</td>\n",
       "      <td>0.333653</td>\n",
       "      <td>-1.461689</td>\n",
       "    </tr>\n",
       "    <tr>\n",
       "      <th>3</th>\n",
       "      <td>-0.186774</td>\n",
       "      <td>1.694500</td>\n",
       "      <td>-0.758998</td>\n",
       "      <td>2.372914</td>\n",
       "    </tr>\n",
       "    <tr>\n",
       "      <th>4</th>\n",
       "      <td>-0.976496</td>\n",
       "      <td>-0.592157</td>\n",
       "      <td>1.464053</td>\n",
       "      <td>1.986999</td>\n",
       "    </tr>\n",
       "  </tbody>\n",
       "</table>\n",
       "</div>"
      ],
      "text/plain": [
       "          0         1         2         3\n",
       "0 -0.665195  0.990316  0.019434  0.622872\n",
       "1 -0.666938  0.530820  0.768161 -0.161610\n",
       "2 -0.410364 -0.492805  0.333653 -1.461689\n",
       "3 -0.186774  1.694500 -0.758998  2.372914\n",
       "4 -0.976496 -0.592157  1.464053  1.986999"
      ]
     },
     "metadata": {},
     "output_type": "display_data"
    }
   ],
   "source": [
    "arr = np.random.randn(5,4)\n",
    "print(arr)\n",
    "dat = pd.DataFrame(arr)\n",
    "display(dat.head())\n",
    "display(dat)"
   ]
  },
  {
   "cell_type": "code",
   "execution_count": 16,
   "id": "09693bf1",
   "metadata": {},
   "outputs": [
    {
     "data": {
      "text/html": [
       "<div>\n",
       "<style scoped>\n",
       "    .dataframe tbody tr th:only-of-type {\n",
       "        vertical-align: middle;\n",
       "    }\n",
       "\n",
       "    .dataframe tbody tr th {\n",
       "        vertical-align: top;\n",
       "    }\n",
       "\n",
       "    .dataframe thead th {\n",
       "        text-align: right;\n",
       "    }\n",
       "</style>\n",
       "<table border=\"1\" class=\"dataframe\">\n",
       "  <thead>\n",
       "    <tr style=\"text-align: right;\">\n",
       "      <th></th>\n",
       "      <th>A</th>\n",
       "      <th>B</th>\n",
       "      <th>C</th>\n",
       "      <th>D</th>\n",
       "    </tr>\n",
       "  </thead>\n",
       "  <tbody>\n",
       "    <tr>\n",
       "      <th>2013-01-01</th>\n",
       "      <td>2.023348</td>\n",
       "      <td>-0.103618</td>\n",
       "      <td>1.252361</td>\n",
       "      <td>0.135549</td>\n",
       "    </tr>\n",
       "    <tr>\n",
       "      <th>2013-01-02</th>\n",
       "      <td>1.133681</td>\n",
       "      <td>1.431383</td>\n",
       "      <td>1.601231</td>\n",
       "      <td>0.750479</td>\n",
       "    </tr>\n",
       "    <tr>\n",
       "      <th>2013-01-03</th>\n",
       "      <td>-0.569104</td>\n",
       "      <td>1.322874</td>\n",
       "      <td>-1.733148</td>\n",
       "      <td>-1.160474</td>\n",
       "    </tr>\n",
       "    <tr>\n",
       "      <th>2013-01-04</th>\n",
       "      <td>-0.782079</td>\n",
       "      <td>-0.275948</td>\n",
       "      <td>0.802515</td>\n",
       "      <td>1.597505</td>\n",
       "    </tr>\n",
       "    <tr>\n",
       "      <th>2013-01-05</th>\n",
       "      <td>1.549878</td>\n",
       "      <td>-0.074659</td>\n",
       "      <td>-1.554708</td>\n",
       "      <td>-0.705787</td>\n",
       "    </tr>\n",
       "    <tr>\n",
       "      <th>2013-01-06</th>\n",
       "      <td>0.396418</td>\n",
       "      <td>1.699807</td>\n",
       "      <td>-0.469814</td>\n",
       "      <td>0.486216</td>\n",
       "    </tr>\n",
       "  </tbody>\n",
       "</table>\n",
       "</div>"
      ],
      "text/plain": [
       "                   A         B         C         D\n",
       "2013-01-01  2.023348 -0.103618  1.252361  0.135549\n",
       "2013-01-02  1.133681  1.431383  1.601231  0.750479\n",
       "2013-01-03 -0.569104  1.322874 -1.733148 -1.160474\n",
       "2013-01-04 -0.782079 -0.275948  0.802515  1.597505\n",
       "2013-01-05  1.549878 -0.074659 -1.554708 -0.705787\n",
       "2013-01-06  0.396418  1.699807 -0.469814  0.486216"
      ]
     },
     "execution_count": 16,
     "metadata": {},
     "output_type": "execute_result"
    }
   ],
   "source": [
    "# 根据已有数据创建data\n",
    "dates = pd.date_range('20130101', periods=6)\n",
    "df = pd.DataFrame(np.random.randn(6,4), index=dates, columns=list('ABCD'))\n",
    "df"
   ]
  },
  {
   "attachments": {},
   "cell_type": "markdown",
   "id": "4d5dde87",
   "metadata": {},
   "source": [
    "2. 通过dict构建DataFrame"
   ]
  },
  {
   "cell_type": "code",
   "execution_count": 4,
   "id": "bbc23111",
   "metadata": {},
   "outputs": [
    {
     "data": {
      "text/html": [
       "<div>\n",
       "<style scoped>\n",
       "    .dataframe tbody tr th:only-of-type {\n",
       "        vertical-align: middle;\n",
       "    }\n",
       "\n",
       "    .dataframe tbody tr th {\n",
       "        vertical-align: top;\n",
       "    }\n",
       "\n",
       "    .dataframe thead th {\n",
       "        text-align: right;\n",
       "    }\n",
       "</style>\n",
       "<table border=\"1\" class=\"dataframe\">\n",
       "  <thead>\n",
       "    <tr style=\"text-align: right;\">\n",
       "      <th></th>\n",
       "      <th>A</th>\n",
       "      <th>B</th>\n",
       "      <th>C</th>\n",
       "      <th>D</th>\n",
       "      <th>E</th>\n",
       "      <th>F</th>\n",
       "    </tr>\n",
       "  </thead>\n",
       "  <tbody>\n",
       "    <tr>\n",
       "      <th>0</th>\n",
       "      <td>1</td>\n",
       "      <td>2017-04-26</td>\n",
       "      <td>1.0</td>\n",
       "      <td>3</td>\n",
       "      <td>Python</td>\n",
       "      <td>ITCast</td>\n",
       "    </tr>\n",
       "    <tr>\n",
       "      <th>1</th>\n",
       "      <td>1</td>\n",
       "      <td>2017-04-26</td>\n",
       "      <td>1.0</td>\n",
       "      <td>3</td>\n",
       "      <td>Java</td>\n",
       "      <td>ITCast</td>\n",
       "    </tr>\n",
       "    <tr>\n",
       "      <th>2</th>\n",
       "      <td>1</td>\n",
       "      <td>2017-04-26</td>\n",
       "      <td>1.0</td>\n",
       "      <td>3</td>\n",
       "      <td>C++</td>\n",
       "      <td>ITCast</td>\n",
       "    </tr>\n",
       "    <tr>\n",
       "      <th>3</th>\n",
       "      <td>1</td>\n",
       "      <td>2017-04-26</td>\n",
       "      <td>1.0</td>\n",
       "      <td>3</td>\n",
       "      <td>C</td>\n",
       "      <td>ITCast</td>\n",
       "    </tr>\n",
       "  </tbody>\n",
       "</table>\n",
       "</div>"
      ],
      "text/plain": [
       "   A          B    C  D       E       F\n",
       "0  1 2017-04-26  1.0  3  Python  ITCast\n",
       "1  1 2017-04-26  1.0  3    Java  ITCast\n",
       "2  1 2017-04-26  1.0  3     C++  ITCast\n",
       "3  1 2017-04-26  1.0  3       C  ITCast"
      ]
     },
     "metadata": {},
     "output_type": "display_data"
    }
   ],
   "source": [
    "dict_data = {'A': 1, \n",
    "             'B': pd.Timestamp('20170426'),\n",
    "             'C': pd.Series(1, index=list(range(4)),dtype='float32'),\n",
    "             'D': np.array([3] * 4,dtype='int32'),\n",
    "             'E': [\"Python\",\"Java\",\"C++\",\"C\"],\n",
    "             'F': 'ITCast' }\n",
    "dat1 = pd.DataFrame(dict_data)\n",
    "display(dat1)"
   ]
  },
  {
   "attachments": {},
   "cell_type": "markdown",
   "id": "74ff4db3",
   "metadata": {},
   "source": [
    "3. 通过列索引获取列数据（Series类型）"
   ]
  },
  {
   "cell_type": "code",
   "execution_count": 5,
   "id": "a9baeb04",
   "metadata": {},
   "outputs": [
    {
     "data": {
      "text/plain": [
       "0   2017-04-26\n",
       "1   2017-04-26\n",
       "2   2017-04-26\n",
       "3   2017-04-26\n",
       "Name: B, dtype: datetime64[ns]"
      ]
     },
     "metadata": {},
     "output_type": "display_data"
    },
    {
     "data": {
      "text/plain": [
       "0   2017-04-26\n",
       "1   2017-04-26\n",
       "2   2017-04-26\n",
       "3   2017-04-26\n",
       "Name: B, dtype: datetime64[ns]"
      ]
     },
     "metadata": {},
     "output_type": "display_data"
    }
   ],
   "source": [
    "display(dat1[\"B\"])\n",
    "display(dat1.B)  #.索引"
   ]
  },
  {
   "attachments": {},
   "cell_type": "markdown",
   "id": "8a5657d5",
   "metadata": {},
   "source": [
    "4. 增加列数据"
   ]
  },
  {
   "cell_type": "code",
   "execution_count": 8,
   "id": "90d8cfbe",
   "metadata": {},
   "outputs": [
    {
     "data": {
      "text/html": [
       "<div>\n",
       "<style scoped>\n",
       "    .dataframe tbody tr th:only-of-type {\n",
       "        vertical-align: middle;\n",
       "    }\n",
       "\n",
       "    .dataframe tbody tr th {\n",
       "        vertical-align: top;\n",
       "    }\n",
       "\n",
       "    .dataframe thead th {\n",
       "        text-align: right;\n",
       "    }\n",
       "</style>\n",
       "<table border=\"1\" class=\"dataframe\">\n",
       "  <thead>\n",
       "    <tr style=\"text-align: right;\">\n",
       "      <th></th>\n",
       "      <th>A</th>\n",
       "      <th>B</th>\n",
       "      <th>C</th>\n",
       "      <th>D</th>\n",
       "      <th>E</th>\n",
       "      <th>F</th>\n",
       "      <th>G</th>\n",
       "    </tr>\n",
       "  </thead>\n",
       "  <tbody>\n",
       "    <tr>\n",
       "      <th>0</th>\n",
       "      <td>1</td>\n",
       "      <td>2017-04-26</td>\n",
       "      <td>1.0</td>\n",
       "      <td>3</td>\n",
       "      <td>Python</td>\n",
       "      <td>ITCast</td>\n",
       "      <td>8</td>\n",
       "    </tr>\n",
       "    <tr>\n",
       "      <th>1</th>\n",
       "      <td>1</td>\n",
       "      <td>2017-04-26</td>\n",
       "      <td>1.0</td>\n",
       "      <td>3</td>\n",
       "      <td>Java</td>\n",
       "      <td>ITCast</td>\n",
       "      <td>8</td>\n",
       "    </tr>\n",
       "    <tr>\n",
       "      <th>2</th>\n",
       "      <td>1</td>\n",
       "      <td>2017-04-26</td>\n",
       "      <td>1.0</td>\n",
       "      <td>3</td>\n",
       "      <td>C++</td>\n",
       "      <td>ITCast</td>\n",
       "      <td>8</td>\n",
       "    </tr>\n",
       "    <tr>\n",
       "      <th>3</th>\n",
       "      <td>1</td>\n",
       "      <td>2017-04-26</td>\n",
       "      <td>1.0</td>\n",
       "      <td>3</td>\n",
       "      <td>C</td>\n",
       "      <td>ITCast</td>\n",
       "      <td>8</td>\n",
       "    </tr>\n",
       "  </tbody>\n",
       "</table>\n",
       "</div>"
      ],
      "text/plain": [
       "   A          B    C  D       E       F  G\n",
       "0  1 2017-04-26  1.0  3  Python  ITCast  8\n",
       "1  1 2017-04-26  1.0  3    Java  ITCast  8\n",
       "2  1 2017-04-26  1.0  3     C++  ITCast  8\n",
       "3  1 2017-04-26  1.0  3       C  ITCast  8"
      ]
     },
     "metadata": {},
     "output_type": "display_data"
    }
   ],
   "source": [
    "dat1[\"G\"]=dat1[\"D\"] + 5\n",
    "display(dat1.head())"
   ]
  },
  {
   "attachments": {},
   "cell_type": "markdown",
   "id": "a153d1fa",
   "metadata": {},
   "source": [
    "5. 删除列"
   ]
  },
  {
   "cell_type": "code",
   "execution_count": 9,
   "id": "d9f129a8",
   "metadata": {},
   "outputs": [
    {
     "data": {
      "text/html": [
       "<div>\n",
       "<style scoped>\n",
       "    .dataframe tbody tr th:only-of-type {\n",
       "        vertical-align: middle;\n",
       "    }\n",
       "\n",
       "    .dataframe tbody tr th {\n",
       "        vertical-align: top;\n",
       "    }\n",
       "\n",
       "    .dataframe thead th {\n",
       "        text-align: right;\n",
       "    }\n",
       "</style>\n",
       "<table border=\"1\" class=\"dataframe\">\n",
       "  <thead>\n",
       "    <tr style=\"text-align: right;\">\n",
       "      <th></th>\n",
       "      <th>A</th>\n",
       "      <th>B</th>\n",
       "      <th>C</th>\n",
       "      <th>D</th>\n",
       "      <th>E</th>\n",
       "      <th>F</th>\n",
       "    </tr>\n",
       "  </thead>\n",
       "  <tbody>\n",
       "    <tr>\n",
       "      <th>0</th>\n",
       "      <td>1</td>\n",
       "      <td>2017-04-26</td>\n",
       "      <td>1.0</td>\n",
       "      <td>3</td>\n",
       "      <td>Python</td>\n",
       "      <td>ITCast</td>\n",
       "    </tr>\n",
       "    <tr>\n",
       "      <th>1</th>\n",
       "      <td>1</td>\n",
       "      <td>2017-04-26</td>\n",
       "      <td>1.0</td>\n",
       "      <td>3</td>\n",
       "      <td>Java</td>\n",
       "      <td>ITCast</td>\n",
       "    </tr>\n",
       "    <tr>\n",
       "      <th>2</th>\n",
       "      <td>1</td>\n",
       "      <td>2017-04-26</td>\n",
       "      <td>1.0</td>\n",
       "      <td>3</td>\n",
       "      <td>C++</td>\n",
       "      <td>ITCast</td>\n",
       "    </tr>\n",
       "    <tr>\n",
       "      <th>3</th>\n",
       "      <td>1</td>\n",
       "      <td>2017-04-26</td>\n",
       "      <td>1.0</td>\n",
       "      <td>3</td>\n",
       "      <td>C</td>\n",
       "      <td>ITCast</td>\n",
       "    </tr>\n",
       "  </tbody>\n",
       "</table>\n",
       "</div>"
      ],
      "text/plain": [
       "   A          B    C  D       E       F\n",
       "0  1 2017-04-26  1.0  3  Python  ITCast\n",
       "1  1 2017-04-26  1.0  3    Java  ITCast\n",
       "2  1 2017-04-26  1.0  3     C++  ITCast\n",
       "3  1 2017-04-26  1.0  3       C  ITCast"
      ]
     },
     "metadata": {},
     "output_type": "display_data"
    }
   ],
   "source": [
    "del(dat1['G'])\n",
    "display(dat1)"
   ]
  },
  {
   "cell_type": "markdown",
   "id": "429c55e9",
   "metadata": {},
   "source": [
    "6.查看数据"
   ]
  },
  {
   "cell_type": "code",
   "execution_count": 11,
   "id": "de72d955",
   "metadata": {},
   "outputs": [
    {
     "data": {
      "text/html": [
       "<div>\n",
       "<style scoped>\n",
       "    .dataframe tbody tr th:only-of-type {\n",
       "        vertical-align: middle;\n",
       "    }\n",
       "\n",
       "    .dataframe tbody tr th {\n",
       "        vertical-align: top;\n",
       "    }\n",
       "\n",
       "    .dataframe thead th {\n",
       "        text-align: right;\n",
       "    }\n",
       "</style>\n",
       "<table border=\"1\" class=\"dataframe\">\n",
       "  <thead>\n",
       "    <tr style=\"text-align: right;\">\n",
       "      <th></th>\n",
       "      <th>A</th>\n",
       "      <th>B</th>\n",
       "      <th>C</th>\n",
       "      <th>D</th>\n",
       "      <th>E</th>\n",
       "      <th>F</th>\n",
       "    </tr>\n",
       "  </thead>\n",
       "  <tbody>\n",
       "    <tr>\n",
       "      <th>1</th>\n",
       "      <td>1</td>\n",
       "      <td>2017-04-26</td>\n",
       "      <td>1.0</td>\n",
       "      <td>3</td>\n",
       "      <td>Java</td>\n",
       "      <td>ITCast</td>\n",
       "    </tr>\n",
       "    <tr>\n",
       "      <th>2</th>\n",
       "      <td>1</td>\n",
       "      <td>2017-04-26</td>\n",
       "      <td>1.0</td>\n",
       "      <td>3</td>\n",
       "      <td>C++</td>\n",
       "      <td>ITCast</td>\n",
       "    </tr>\n",
       "    <tr>\n",
       "      <th>3</th>\n",
       "      <td>1</td>\n",
       "      <td>2017-04-26</td>\n",
       "      <td>1.0</td>\n",
       "      <td>3</td>\n",
       "      <td>C</td>\n",
       "      <td>ITCast</td>\n",
       "    </tr>\n",
       "  </tbody>\n",
       "</table>\n",
       "</div>"
      ],
      "text/plain": [
       "   A          B    C  D     E       F\n",
       "1  1 2017-04-26  1.0  3  Java  ITCast\n",
       "2  1 2017-04-26  1.0  3   C++  ITCast\n",
       "3  1 2017-04-26  1.0  3     C  ITCast"
      ]
     },
     "metadata": {},
     "output_type": "display_data"
    }
   ],
   "source": [
    "display(dat1.tail(3))"
   ]
  },
  {
   "attachments": {},
   "cell_type": "markdown",
   "id": "fe3fd58b",
   "metadata": {},
   "source": [
    "# pandas的索引操作"
   ]
  },
  {
   "attachments": {},
   "cell_type": "markdown",
   "id": "ffc4342b",
   "metadata": {},
   "source": [
    "## 索引对象Index"
   ]
  },
  {
   "attachments": {},
   "cell_type": "markdown",
   "id": "fa830b70",
   "metadata": {},
   "source": [
    "1. Series和DataFrame中的索引都是Index对象"
   ]
  },
  {
   "cell_type": "code",
   "execution_count": 12,
   "id": "72cd0ede",
   "metadata": {},
   "outputs": [],
   "source": [
    "ser_obj = pd.Series(range(11))\n",
    "ser2 = pd.Series(range(11,16))\n",
    "dict_data = {'A': 1, \n",
    "             'B': pd.Timestamp('20170426'),\n",
    "             'C': pd.Series(1, index=list(range(4)),dtype='float32'),\n",
    "             'D': np.array([3] * 4,dtype='int32'),\n",
    "             'E': [\"Python\",\"Java\",\"C++\",\"C\"],\n",
    "             'F': 'ITCast' }\n",
    "dat1 = pd.DataFrame(dict_data)"
   ]
  },
  {
   "cell_type": "code",
   "execution_count": 13,
   "id": "54f86f4d",
   "metadata": {},
   "outputs": [
    {
     "data": {
      "text/plain": [
       "RangeIndex(start=0, stop=5, step=1)"
      ]
     },
     "metadata": {},
     "output_type": "display_data"
    },
    {
     "data": {
      "text/plain": [
       "Int64Index([0, 1, 2, 3], dtype='int64')"
      ]
     },
     "metadata": {},
     "output_type": "display_data"
    },
    {
     "data": {
      "text/plain": [
       "Index(['A', 'B', 'C', 'D', 'E', 'F'], dtype='object')"
      ]
     },
     "metadata": {},
     "output_type": "display_data"
    }
   ],
   "source": [
    "display(ser2.index)\n",
    "display(dat1.index)\n",
    "display(dat1.columns)"
   ]
  },
  {
   "attachments": {},
   "cell_type": "markdown",
   "id": "559f2d43",
   "metadata": {},
   "source": [
    "2. 索引对象不可变，保证了数据的安全"
   ]
  },
  {
   "cell_type": "code",
   "execution_count": 14,
   "id": "58cd6e98",
   "metadata": {},
   "outputs": [
    {
     "ename": "TypeError",
     "evalue": "Index does not support mutable operations",
     "output_type": "error",
     "traceback": [
      "\u001b[1;31m---------------------------------------------------------------------------\u001b[0m",
      "\u001b[1;31mTypeError\u001b[0m                                 Traceback (most recent call last)",
      "\u001b[1;32m~\\AppData\\Local\\Temp\\ipykernel_4792\\2826757866.py\u001b[0m in \u001b[0;36m<module>\u001b[1;34m\u001b[0m\n\u001b[0;32m      1\u001b[0m \u001b[1;31m# 不可以更改索引对象，否则报错\u001b[0m\u001b[1;33m\u001b[0m\u001b[1;33m\u001b[0m\u001b[0m\n\u001b[1;32m----> 2\u001b[1;33m \u001b[0mdat1\u001b[0m\u001b[1;33m.\u001b[0m\u001b[0mindex\u001b[0m\u001b[1;33m[\u001b[0m\u001b[1;36m1\u001b[0m\u001b[1;33m]\u001b[0m \u001b[1;33m=\u001b[0m \u001b[1;36m12\u001b[0m\u001b[1;33m\u001b[0m\u001b[1;33m\u001b[0m\u001b[0m\n\u001b[0m",
      "\u001b[1;32md:\\IDE_sources\\Ancona\\lib\\site-packages\\pandas\\core\\indexes\\base.py\u001b[0m in \u001b[0;36m__setitem__\u001b[1;34m(self, key, value)\u001b[0m\n\u001b[0;32m   5033\u001b[0m     \u001b[1;33m@\u001b[0m\u001b[0mfinal\u001b[0m\u001b[1;33m\u001b[0m\u001b[1;33m\u001b[0m\u001b[0m\n\u001b[0;32m   5034\u001b[0m     \u001b[1;32mdef\u001b[0m \u001b[0m__setitem__\u001b[0m\u001b[1;33m(\u001b[0m\u001b[0mself\u001b[0m\u001b[1;33m,\u001b[0m \u001b[0mkey\u001b[0m\u001b[1;33m,\u001b[0m \u001b[0mvalue\u001b[0m\u001b[1;33m)\u001b[0m\u001b[1;33m:\u001b[0m\u001b[1;33m\u001b[0m\u001b[1;33m\u001b[0m\u001b[0m\n\u001b[1;32m-> 5035\u001b[1;33m         \u001b[1;32mraise\u001b[0m \u001b[0mTypeError\u001b[0m\u001b[1;33m(\u001b[0m\u001b[1;34m\"Index does not support mutable operations\"\u001b[0m\u001b[1;33m)\u001b[0m\u001b[1;33m\u001b[0m\u001b[1;33m\u001b[0m\u001b[0m\n\u001b[0m\u001b[0;32m   5036\u001b[0m \u001b[1;33m\u001b[0m\u001b[0m\n\u001b[0;32m   5037\u001b[0m     \u001b[1;32mdef\u001b[0m \u001b[0m__getitem__\u001b[0m\u001b[1;33m(\u001b[0m\u001b[0mself\u001b[0m\u001b[1;33m,\u001b[0m \u001b[0mkey\u001b[0m\u001b[1;33m)\u001b[0m\u001b[1;33m:\u001b[0m\u001b[1;33m\u001b[0m\u001b[1;33m\u001b[0m\u001b[0m\n",
      "\u001b[1;31mTypeError\u001b[0m: Index does not support mutable operations"
     ]
    }
   ],
   "source": [
    "# 不可以更改索引对象，否则报错\n",
    "dat1.index[1] = 12 "
   ]
  },
  {
   "cell_type": "code",
   "execution_count": null,
   "id": "b0e1c900",
   "metadata": {},
   "outputs": [],
   "source": [
    "# 常见的Index种类\n",
    "# * Index，索引\n",
    "# * Int64Index，整数索引\n",
    "# * MultiIndex，层级索引\n",
    "# * DatetimeIndex，时间戳类型"
   ]
  },
  {
   "attachments": {},
   "cell_type": "markdown",
   "id": "ff2dabf7",
   "metadata": {},
   "source": [
    "## Series索引"
   ]
  },
  {
   "attachments": {},
   "cell_type": "markdown",
   "id": "0f929f2b",
   "metadata": {},
   "source": [
    "1. index 指定行索引名"
   ]
  },
  {
   "cell_type": "code",
   "execution_count": 15,
   "id": "db43cdda",
   "metadata": {},
   "outputs": [
    {
     "data": {
      "text/plain": [
       "a    0\n",
       "b    1\n",
       "c    2\n",
       "d    3\n",
       "e    4\n",
       "dtype: int64"
      ]
     },
     "metadata": {},
     "output_type": "display_data"
    }
   ],
   "source": [
    "ser4 = pd.Series(range(5),index=['a','b','c','d','e'])\n",
    "display(ser4)"
   ]
  },
  {
   "attachments": {},
   "cell_type": "markdown",
   "id": "0a9fe4b0",
   "metadata": {},
   "source": [
    "2. 行索引"
   ]
  },
  {
   "cell_type": "code",
   "execution_count": 16,
   "id": "75775efa",
   "metadata": {},
   "outputs": [
    {
     "data": {
      "text/plain": [
       "1"
      ]
     },
     "metadata": {},
     "output_type": "display_data"
    },
    {
     "data": {
      "text/plain": [
       "4"
      ]
     },
     "metadata": {},
     "output_type": "display_data"
    }
   ],
   "source": [
    "display(ser4['b'])\n",
    "display(ser4[4])"
   ]
  },
  {
   "attachments": {},
   "cell_type": "markdown",
   "id": "c24ae1d4",
   "metadata": {},
   "source": [
    "3. 切片索引"
   ]
  },
  {
   "cell_type": "code",
   "execution_count": 17,
   "id": "e2d6b25b",
   "metadata": {},
   "outputs": [
    {
     "data": {
      "text/plain": [
       "c    2\n",
       "d    3\n",
       "dtype: int64"
      ]
     },
     "metadata": {},
     "output_type": "display_data"
    },
    {
     "data": {
      "text/plain": [
       "b    1\n",
       "c    2\n",
       "d    3\n",
       "e    4\n",
       "dtype: int64"
      ]
     },
     "metadata": {},
     "output_type": "display_data"
    }
   ],
   "source": [
    "display(ser4[2:4])\n",
    "display(ser4['b':'e'])"
   ]
  },
  {
   "attachments": {},
   "cell_type": "markdown",
   "id": "22de7c11",
   "metadata": {},
   "source": [
    "4. 不连续索引"
   ]
  },
  {
   "cell_type": "code",
   "execution_count": 18,
   "id": "e4290f38",
   "metadata": {},
   "outputs": [
    {
     "data": {
      "text/plain": [
       "a    0\n",
       "e    4\n",
       "d    3\n",
       "dtype: int64"
      ]
     },
     "metadata": {},
     "output_type": "display_data"
    },
    {
     "data": {
      "text/plain": [
       "a    0\n",
       "c    2\n",
       "dtype: int64"
      ]
     },
     "metadata": {},
     "output_type": "display_data"
    }
   ],
   "source": [
    "display(ser4[[0,4,3]])\n",
    "display(ser4[['a','c']])"
   ]
  },
  {
   "attachments": {},
   "cell_type": "markdown",
   "id": "ab854a75",
   "metadata": {},
   "source": [
    "5. 布尔索引"
   ]
  },
  {
   "cell_type": "code",
   "execution_count": 19,
   "id": "b1a43a6b",
   "metadata": {},
   "outputs": [
    {
     "data": {
      "text/plain": [
       "a    False\n",
       "b    False\n",
       "c    False\n",
       "d    False\n",
       "e     True\n",
       "dtype: bool"
      ]
     },
     "metadata": {},
     "output_type": "display_data"
    },
    {
     "data": {
      "text/plain": [
       "e    4\n",
       "dtype: int64"
      ]
     },
     "metadata": {},
     "output_type": "display_data"
    }
   ],
   "source": [
    "ser_bool = ser4 > 3\n",
    "display(ser_bool)\n",
    "display(ser4[ser_bool])"
   ]
  },
  {
   "attachments": {},
   "cell_type": "markdown",
   "id": "1b5953e0",
   "metadata": {},
   "source": [
    "## DataFrame索引"
   ]
  },
  {
   "attachments": {},
   "cell_type": "markdown",
   "id": "ff019475",
   "metadata": {},
   "source": [
    "1. columns 指定列索引名"
   ]
  },
  {
   "cell_type": "code",
   "execution_count": 20,
   "id": "306320ba",
   "metadata": {},
   "outputs": [
    {
     "data": {
      "text/html": [
       "<div>\n",
       "<style scoped>\n",
       "    .dataframe tbody tr th:only-of-type {\n",
       "        vertical-align: middle;\n",
       "    }\n",
       "\n",
       "    .dataframe tbody tr th {\n",
       "        vertical-align: top;\n",
       "    }\n",
       "\n",
       "    .dataframe thead th {\n",
       "        text-align: right;\n",
       "    }\n",
       "</style>\n",
       "<table border=\"1\" class=\"dataframe\">\n",
       "  <thead>\n",
       "    <tr style=\"text-align: right;\">\n",
       "      <th></th>\n",
       "      <th>a</th>\n",
       "      <th>b</th>\n",
       "      <th>c</th>\n",
       "      <th>d</th>\n",
       "    </tr>\n",
       "  </thead>\n",
       "  <tbody>\n",
       "    <tr>\n",
       "      <th>0</th>\n",
       "      <td>-0.007055</td>\n",
       "      <td>1.827512</td>\n",
       "      <td>2.088607</td>\n",
       "      <td>0.418849</td>\n",
       "    </tr>\n",
       "    <tr>\n",
       "      <th>1</th>\n",
       "      <td>-0.470651</td>\n",
       "      <td>-1.287760</td>\n",
       "      <td>-0.012530</td>\n",
       "      <td>0.725030</td>\n",
       "    </tr>\n",
       "    <tr>\n",
       "      <th>2</th>\n",
       "      <td>0.445634</td>\n",
       "      <td>1.393086</td>\n",
       "      <td>-1.435379</td>\n",
       "      <td>0.812443</td>\n",
       "    </tr>\n",
       "    <tr>\n",
       "      <th>3</th>\n",
       "      <td>-0.905061</td>\n",
       "      <td>-0.344987</td>\n",
       "      <td>0.099889</td>\n",
       "      <td>-0.148613</td>\n",
       "    </tr>\n",
       "    <tr>\n",
       "      <th>4</th>\n",
       "      <td>-1.541823</td>\n",
       "      <td>-0.678374</td>\n",
       "      <td>0.565421</td>\n",
       "      <td>-1.280626</td>\n",
       "    </tr>\n",
       "  </tbody>\n",
       "</table>\n",
       "</div>"
      ],
      "text/plain": [
       "          a         b         c         d\n",
       "0 -0.007055  1.827512  2.088607  0.418849\n",
       "1 -0.470651 -1.287760 -0.012530  0.725030\n",
       "2  0.445634  1.393086 -1.435379  0.812443\n",
       "3 -0.905061 -0.344987  0.099889 -0.148613\n",
       "4 -1.541823 -0.678374  0.565421 -1.280626"
      ]
     },
     "metadata": {},
     "output_type": "display_data"
    }
   ],
   "source": [
    "dat2 = pd.DataFrame(np.random.randn(5,4),columns=['a','b','c','d'])\n",
    "display(dat2)"
   ]
  },
  {
   "attachments": {},
   "cell_type": "markdown",
   "id": "e70f63a9",
   "metadata": {},
   "source": [
    "2. 列索引"
   ]
  },
  {
   "cell_type": "code",
   "execution_count": 21,
   "id": "67d2448f",
   "metadata": {},
   "outputs": [
    {
     "data": {
      "text/plain": [
       "0    1.827512\n",
       "1   -1.287760\n",
       "2    1.393086\n",
       "3   -0.344987\n",
       "4   -0.678374\n",
       "Name: b, dtype: float64"
      ]
     },
     "metadata": {},
     "output_type": "display_data"
    }
   ],
   "source": [
    "display(dat2['b'])"
   ]
  },
  {
   "attachments": {},
   "cell_type": "markdown",
   "id": "c7112753",
   "metadata": {},
   "source": [
    "3. 不连续索引"
   ]
  },
  {
   "cell_type": "code",
   "execution_count": 22,
   "id": "3fff0ca7",
   "metadata": {},
   "outputs": [
    {
     "data": {
      "text/html": [
       "<div>\n",
       "<style scoped>\n",
       "    .dataframe tbody tr th:only-of-type {\n",
       "        vertical-align: middle;\n",
       "    }\n",
       "\n",
       "    .dataframe tbody tr th {\n",
       "        vertical-align: top;\n",
       "    }\n",
       "\n",
       "    .dataframe thead th {\n",
       "        text-align: right;\n",
       "    }\n",
       "</style>\n",
       "<table border=\"1\" class=\"dataframe\">\n",
       "  <thead>\n",
       "    <tr style=\"text-align: right;\">\n",
       "      <th></th>\n",
       "      <th>a</th>\n",
       "      <th>c</th>\n",
       "    </tr>\n",
       "  </thead>\n",
       "  <tbody>\n",
       "    <tr>\n",
       "      <th>0</th>\n",
       "      <td>-0.007055</td>\n",
       "      <td>2.088607</td>\n",
       "    </tr>\n",
       "    <tr>\n",
       "      <th>1</th>\n",
       "      <td>-0.470651</td>\n",
       "      <td>-0.012530</td>\n",
       "    </tr>\n",
       "    <tr>\n",
       "      <th>2</th>\n",
       "      <td>0.445634</td>\n",
       "      <td>-1.435379</td>\n",
       "    </tr>\n",
       "    <tr>\n",
       "      <th>3</th>\n",
       "      <td>-0.905061</td>\n",
       "      <td>0.099889</td>\n",
       "    </tr>\n",
       "    <tr>\n",
       "      <th>4</th>\n",
       "      <td>-1.541823</td>\n",
       "      <td>0.565421</td>\n",
       "    </tr>\n",
       "  </tbody>\n",
       "</table>\n",
       "</div>"
      ],
      "text/plain": [
       "          a         c\n",
       "0 -0.007055  2.088607\n",
       "1 -0.470651 -0.012530\n",
       "2  0.445634 -1.435379\n",
       "3 -0.905061  0.099889\n",
       "4 -1.541823  0.565421"
      ]
     },
     "metadata": {},
     "output_type": "display_data"
    }
   ],
   "source": [
    "display(dat2[['a','c']]) # 返回元组类型"
   ]
  },
  {
   "attachments": {},
   "cell_type": "markdown",
   "id": "338581cc",
   "metadata": {},
   "source": [
    "4.列索引"
   ]
  },
  {
   "cell_type": "code",
   "execution_count": 23,
   "id": "7ef04d1e",
   "metadata": {},
   "outputs": [
    {
     "data": {
      "text/html": [
       "<div>\n",
       "<style scoped>\n",
       "    .dataframe tbody tr th:only-of-type {\n",
       "        vertical-align: middle;\n",
       "    }\n",
       "\n",
       "    .dataframe tbody tr th {\n",
       "        vertical-align: top;\n",
       "    }\n",
       "\n",
       "    .dataframe thead th {\n",
       "        text-align: right;\n",
       "    }\n",
       "</style>\n",
       "<table border=\"1\" class=\"dataframe\">\n",
       "  <thead>\n",
       "    <tr style=\"text-align: right;\">\n",
       "      <th></th>\n",
       "      <th>a</th>\n",
       "      <th>b</th>\n",
       "      <th>c</th>\n",
       "      <th>d</th>\n",
       "    </tr>\n",
       "  </thead>\n",
       "  <tbody>\n",
       "    <tr>\n",
       "      <th>1</th>\n",
       "      <td>-0.470651</td>\n",
       "      <td>-1.28776</td>\n",
       "      <td>-0.01253</td>\n",
       "      <td>0.72503</td>\n",
       "    </tr>\n",
       "  </tbody>\n",
       "</table>\n",
       "</div>"
      ],
      "text/plain": [
       "          a        b        c        d\n",
       "1 -0.470651 -1.28776 -0.01253  0.72503"
      ]
     },
     "metadata": {},
     "output_type": "display_data"
    }
   ],
   "source": [
    "# 使用 ：进行索引\n",
    "display(dat2[1:2])"
   ]
  },
  {
   "attachments": {},
   "cell_type": "markdown",
   "id": "7bfd051e",
   "metadata": {},
   "source": [
    "## 高级索引：标签、位置和混合"
   ]
  },
  {
   "attachments": {},
   "cell_type": "markdown",
   "id": "7c60d32e",
   "metadata": {},
   "source": [
    "1. loc 标签索引"
   ]
  },
  {
   "cell_type": "code",
   "execution_count": 24,
   "id": "0d88ea11",
   "metadata": {},
   "outputs": [
    {
     "data": {
      "text/plain": [
       "b    1\n",
       "c    2\n",
       "d    3\n",
       "dtype: int64"
      ]
     },
     "metadata": {},
     "output_type": "display_data"
    },
    {
     "data": {
      "text/plain": [
       "b    1\n",
       "c    2\n",
       "d    3\n",
       "dtype: int64"
      ]
     },
     "metadata": {},
     "output_type": "display_data"
    }
   ],
   "source": [
    "display(ser4['b':'d'])\n",
    "display(ser4.loc['b':'d'])"
   ]
  },
  {
   "cell_type": "code",
   "execution_count": 25,
   "id": "835a9f77",
   "metadata": {},
   "outputs": [
    {
     "data": {
      "text/plain": [
       "0   -0.007055\n",
       "1   -0.470651\n",
       "2    0.445634\n",
       "3   -0.905061\n",
       "4   -1.541823\n",
       "Name: a, dtype: float64"
      ]
     },
     "metadata": {},
     "output_type": "display_data"
    },
    {
     "data": {
      "text/plain": [
       "0   -0.007055\n",
       "1   -0.470651\n",
       "2    0.445634\n",
       "Name: a, dtype: float64"
      ]
     },
     "metadata": {},
     "output_type": "display_data"
    }
   ],
   "source": [
    "display(dat2['a'])\n",
    "display(dat2.loc[0:2,'a'])#基于索引内容"
   ]
  },
  {
   "attachments": {},
   "cell_type": "markdown",
   "id": "18abffbc",
   "metadata": {},
   "source": [
    "2. iloc 位置索引(行和列)"
   ]
  },
  {
   "cell_type": "code",
   "execution_count": 26,
   "id": "28275aa1",
   "metadata": {},
   "outputs": [
    {
     "data": {
      "text/plain": [
       "b    1\n",
       "c    2\n",
       "dtype: int64"
      ]
     },
     "metadata": {},
     "output_type": "display_data"
    },
    {
     "data": {
      "text/plain": [
       "b    1\n",
       "c    2\n",
       "dtype: int64"
      ]
     },
     "metadata": {},
     "output_type": "display_data"
    }
   ],
   "source": [
    "display(ser4[1:3])\n",
    "display(ser4.iloc[1:3])"
   ]
  },
  {
   "cell_type": "code",
   "execution_count": 27,
   "id": "8d7dfde9",
   "metadata": {},
   "outputs": [
    {
     "data": {
      "text/plain": [
       "0   -0.007055\n",
       "1   -0.470651\n",
       "Name: a, dtype: float64"
      ]
     },
     "metadata": {},
     "output_type": "display_data"
    }
   ],
   "source": [
    "display(dat2.iloc[0:2,0]) # 基于索引编号"
   ]
  },
  {
   "attachments": {},
   "cell_type": "markdown",
   "id": "a97ad409",
   "metadata": {},
   "source": [
    "# Pandas的运算"
   ]
  },
  {
   "attachments": {},
   "cell_type": "markdown",
   "id": "b1ad1363",
   "metadata": {},
   "source": [
    "## Series的对齐运算"
   ]
  },
  {
   "attachments": {},
   "cell_type": "markdown",
   "id": "7011c021",
   "metadata": {},
   "source": [
    "1. Series 按行、索引对齐"
   ]
  },
  {
   "cell_type": "code",
   "execution_count": 2,
   "id": "e4b54188",
   "metadata": {},
   "outputs": [
    {
     "data": {
      "text/plain": [
       "0    10\n",
       "1    11\n",
       "2    12\n",
       "3    13\n",
       "4    14\n",
       "5    15\n",
       "6    16\n",
       "7    17\n",
       "8    18\n",
       "9    19\n",
       "dtype: int64"
      ]
     },
     "metadata": {},
     "output_type": "display_data"
    },
    {
     "data": {
      "text/plain": [
       "0    20\n",
       "1    21\n",
       "2    22\n",
       "3    23\n",
       "4    24\n",
       "dtype: int64"
      ]
     },
     "metadata": {},
     "output_type": "display_data"
    }
   ],
   "source": [
    "s1 = pd.Series(range(10,20), index = range(10))\n",
    "s2 = pd.Series(range(20,25), index = range(5))\n",
    "display(s1, s2)"
   ]
  },
  {
   "attachments": {},
   "cell_type": "markdown",
   "id": "b1dbe022",
   "metadata": {},
   "source": [
    "2. Series的对齐运算"
   ]
  },
  {
   "cell_type": "code",
   "execution_count": 3,
   "id": "e39e66df",
   "metadata": {},
   "outputs": [
    {
     "data": {
      "text/plain": [
       "0    30.0\n",
       "1    32.0\n",
       "2    34.0\n",
       "3    36.0\n",
       "4    38.0\n",
       "5     NaN\n",
       "6     NaN\n",
       "7     NaN\n",
       "8     NaN\n",
       "9     NaN\n",
       "dtype: float64"
      ]
     },
     "metadata": {},
     "output_type": "display_data"
    }
   ],
   "source": [
    "# 计算公共部分，非公共部分为空\n",
    "display(s1 + s2)"
   ]
  },
  {
   "attachments": {},
   "cell_type": "markdown",
   "id": "0052a63e",
   "metadata": {},
   "source": [
    "## DataFrame的对齐运算"
   ]
  },
  {
   "attachments": {},
   "cell_type": "markdown",
   "id": "50629925",
   "metadata": {},
   "source": [
    "1. DataFrame按行、列索引对齐"
   ]
  },
  {
   "cell_type": "code",
   "execution_count": 4,
   "id": "45724ee7",
   "metadata": {},
   "outputs": [
    {
     "data": {
      "text/html": [
       "<div>\n",
       "<style scoped>\n",
       "    .dataframe tbody tr th:only-of-type {\n",
       "        vertical-align: middle;\n",
       "    }\n",
       "\n",
       "    .dataframe tbody tr th {\n",
       "        vertical-align: top;\n",
       "    }\n",
       "\n",
       "    .dataframe thead th {\n",
       "        text-align: right;\n",
       "    }\n",
       "</style>\n",
       "<table border=\"1\" class=\"dataframe\">\n",
       "  <thead>\n",
       "    <tr style=\"text-align: right;\">\n",
       "      <th></th>\n",
       "      <th>a</th>\n",
       "      <th>b</th>\n",
       "    </tr>\n",
       "  </thead>\n",
       "  <tbody>\n",
       "    <tr>\n",
       "      <th>0</th>\n",
       "      <td>1.0</td>\n",
       "      <td>1.0</td>\n",
       "    </tr>\n",
       "    <tr>\n",
       "      <th>1</th>\n",
       "      <td>1.0</td>\n",
       "      <td>1.0</td>\n",
       "    </tr>\n",
       "  </tbody>\n",
       "</table>\n",
       "</div>"
      ],
      "text/plain": [
       "     a    b\n",
       "0  1.0  1.0\n",
       "1  1.0  1.0"
      ]
     },
     "metadata": {},
     "output_type": "display_data"
    },
    {
     "data": {
      "text/html": [
       "<div>\n",
       "<style scoped>\n",
       "    .dataframe tbody tr th:only-of-type {\n",
       "        vertical-align: middle;\n",
       "    }\n",
       "\n",
       "    .dataframe tbody tr th {\n",
       "        vertical-align: top;\n",
       "    }\n",
       "\n",
       "    .dataframe thead th {\n",
       "        text-align: right;\n",
       "    }\n",
       "</style>\n",
       "<table border=\"1\" class=\"dataframe\">\n",
       "  <thead>\n",
       "    <tr style=\"text-align: right;\">\n",
       "      <th></th>\n",
       "      <th>a</th>\n",
       "      <th>b</th>\n",
       "      <th>c</th>\n",
       "    </tr>\n",
       "  </thead>\n",
       "  <tbody>\n",
       "    <tr>\n",
       "      <th>0</th>\n",
       "      <td>1.0</td>\n",
       "      <td>1.0</td>\n",
       "      <td>1.0</td>\n",
       "    </tr>\n",
       "    <tr>\n",
       "      <th>1</th>\n",
       "      <td>1.0</td>\n",
       "      <td>1.0</td>\n",
       "      <td>1.0</td>\n",
       "    </tr>\n",
       "    <tr>\n",
       "      <th>2</th>\n",
       "      <td>1.0</td>\n",
       "      <td>1.0</td>\n",
       "      <td>1.0</td>\n",
       "    </tr>\n",
       "  </tbody>\n",
       "</table>\n",
       "</div>"
      ],
      "text/plain": [
       "     a    b    c\n",
       "0  1.0  1.0  1.0\n",
       "1  1.0  1.0  1.0\n",
       "2  1.0  1.0  1.0"
      ]
     },
     "metadata": {},
     "output_type": "display_data"
    }
   ],
   "source": [
    "dat3=pd.DataFrame(np.ones((2,2)),columns=['a','b'])\n",
    "dat4=pd.DataFrame(np.ones((3,3)),columns=['a','b','c'])\n",
    "display(dat3, dat4)"
   ]
  },
  {
   "attachments": {},
   "cell_type": "markdown",
   "id": "44bae0a5",
   "metadata": {},
   "source": [
    "2. DataFrame的对齐运算"
   ]
  },
  {
   "cell_type": "code",
   "execution_count": 5,
   "id": "1441a340",
   "metadata": {},
   "outputs": [
    {
     "data": {
      "text/html": [
       "<div>\n",
       "<style scoped>\n",
       "    .dataframe tbody tr th:only-of-type {\n",
       "        vertical-align: middle;\n",
       "    }\n",
       "\n",
       "    .dataframe tbody tr th {\n",
       "        vertical-align: top;\n",
       "    }\n",
       "\n",
       "    .dataframe thead th {\n",
       "        text-align: right;\n",
       "    }\n",
       "</style>\n",
       "<table border=\"1\" class=\"dataframe\">\n",
       "  <thead>\n",
       "    <tr style=\"text-align: right;\">\n",
       "      <th></th>\n",
       "      <th>a</th>\n",
       "      <th>b</th>\n",
       "      <th>c</th>\n",
       "    </tr>\n",
       "  </thead>\n",
       "  <tbody>\n",
       "    <tr>\n",
       "      <th>0</th>\n",
       "      <td>2.0</td>\n",
       "      <td>2.0</td>\n",
       "      <td>NaN</td>\n",
       "    </tr>\n",
       "    <tr>\n",
       "      <th>1</th>\n",
       "      <td>2.0</td>\n",
       "      <td>2.0</td>\n",
       "      <td>NaN</td>\n",
       "    </tr>\n",
       "    <tr>\n",
       "      <th>2</th>\n",
       "      <td>NaN</td>\n",
       "      <td>NaN</td>\n",
       "      <td>NaN</td>\n",
       "    </tr>\n",
       "  </tbody>\n",
       "</table>\n",
       "</div>"
      ],
      "text/plain": [
       "     a    b   c\n",
       "0  2.0  2.0 NaN\n",
       "1  2.0  2.0 NaN\n",
       "2  NaN  NaN NaN"
      ]
     },
     "metadata": {},
     "output_type": "display_data"
    }
   ],
   "source": [
    "# 计算公共部分，非公共部分为空\n",
    "display(dat3 + dat4)"
   ]
  },
  {
   "attachments": {},
   "cell_type": "markdown",
   "id": "c1d1afe3",
   "metadata": {},
   "source": [
    "## 填充未对齐的数据进行运算"
   ]
  },
  {
   "attachments": {},
   "cell_type": "markdown",
   "id": "a5fae7b3",
   "metadata": {},
   "source": [
    "1. fill_value"
   ]
  },
  {
   "cell_type": "code",
   "execution_count": 6,
   "id": "932e0c31",
   "metadata": {},
   "outputs": [
    {
     "data": {
      "text/plain": [
       "0    30.0\n",
       "1    32.0\n",
       "2    34.0\n",
       "3    36.0\n",
       "4    38.0\n",
       "5    16.0\n",
       "6    17.0\n",
       "7    18.0\n",
       "8    19.0\n",
       "9    20.0\n",
       "dtype: float64"
      ]
     },
     "metadata": {},
     "output_type": "display_data"
    },
    {
     "data": {
      "text/html": [
       "<div>\n",
       "<style scoped>\n",
       "    .dataframe tbody tr th:only-of-type {\n",
       "        vertical-align: middle;\n",
       "    }\n",
       "\n",
       "    .dataframe tbody tr th {\n",
       "        vertical-align: top;\n",
       "    }\n",
       "\n",
       "    .dataframe thead th {\n",
       "        text-align: right;\n",
       "    }\n",
       "</style>\n",
       "<table border=\"1\" class=\"dataframe\">\n",
       "  <thead>\n",
       "    <tr style=\"text-align: right;\">\n",
       "      <th></th>\n",
       "      <th>a</th>\n",
       "      <th>b</th>\n",
       "      <th>c</th>\n",
       "    </tr>\n",
       "  </thead>\n",
       "  <tbody>\n",
       "    <tr>\n",
       "      <th>0</th>\n",
       "      <td>0.0</td>\n",
       "      <td>0.0</td>\n",
       "      <td>2.0</td>\n",
       "    </tr>\n",
       "    <tr>\n",
       "      <th>1</th>\n",
       "      <td>0.0</td>\n",
       "      <td>0.0</td>\n",
       "      <td>2.0</td>\n",
       "    </tr>\n",
       "    <tr>\n",
       "      <th>2</th>\n",
       "      <td>2.0</td>\n",
       "      <td>2.0</td>\n",
       "      <td>2.0</td>\n",
       "    </tr>\n",
       "  </tbody>\n",
       "</table>\n",
       "</div>"
      ],
      "text/plain": [
       "     a    b    c\n",
       "0  0.0  0.0  2.0\n",
       "1  0.0  0.0  2.0\n",
       "2  2.0  2.0  2.0"
      ]
     },
     "metadata": {},
     "output_type": "display_data"
    }
   ],
   "source": [
    "display(s1.add(s2, fill_value=1))\n",
    "display(dat3.sub(dat4, fill_value=3.))"
   ]
  },
  {
   "cell_type": "markdown",
   "id": "427a9262",
   "metadata": {},
   "source": [
    "## 算术运算"
   ]
  },
  {
   "cell_type": "code",
   "execution_count": 8,
   "id": "5e876bd1",
   "metadata": {},
   "outputs": [],
   "source": [
    "data = pd.read_csv(\"./data/stock_day.csv\")\n",
    "data = data.drop([\"ma5\",\"ma10\",\"ma20\",\"v_ma5\",\"v_ma10\",\"v_ma20\"], axis=1)"
   ]
  },
  {
   "cell_type": "code",
   "execution_count": 9,
   "id": "ebf4633f",
   "metadata": {},
   "outputs": [
    {
     "data": {
      "text/plain": [
       "2018-02-27    34.16\n",
       "2018-02-26    33.53\n",
       "2018-02-23    32.82\n",
       "2018-02-22    32.28\n",
       "2018-02-14    31.92\n",
       "Name: close, dtype: float64"
      ]
     },
     "execution_count": 9,
     "metadata": {},
     "output_type": "execute_result"
    }
   ],
   "source": [
    "# 1.加法计算\n",
    "data[\"close\"].add(10).head()"
   ]
  },
  {
   "cell_type": "markdown",
   "id": "bb2f1cbf",
   "metadata": {},
   "source": [
    "## 逻辑计算"
   ]
  },
  {
   "cell_type": "code",
   "execution_count": 10,
   "id": "21735e72",
   "metadata": {},
   "outputs": [
    {
     "data": {
      "text/html": [
       "<div>\n",
       "<style scoped>\n",
       "    .dataframe tbody tr th:only-of-type {\n",
       "        vertical-align: middle;\n",
       "    }\n",
       "\n",
       "    .dataframe tbody tr th {\n",
       "        vertical-align: top;\n",
       "    }\n",
       "\n",
       "    .dataframe thead th {\n",
       "        text-align: right;\n",
       "    }\n",
       "</style>\n",
       "<table border=\"1\" class=\"dataframe\">\n",
       "  <thead>\n",
       "    <tr style=\"text-align: right;\">\n",
       "      <th></th>\n",
       "      <th>open</th>\n",
       "      <th>high</th>\n",
       "      <th>close</th>\n",
       "      <th>low</th>\n",
       "      <th>volume</th>\n",
       "      <th>price_change</th>\n",
       "      <th>p_change</th>\n",
       "      <th>turnover</th>\n",
       "    </tr>\n",
       "  </thead>\n",
       "  <tbody>\n",
       "    <tr>\n",
       "      <th>2018-02-27</th>\n",
       "      <td>23.53</td>\n",
       "      <td>25.88</td>\n",
       "      <td>24.16</td>\n",
       "      <td>23.53</td>\n",
       "      <td>95578.03</td>\n",
       "      <td>0.63</td>\n",
       "      <td>2.68</td>\n",
       "      <td>2.39</td>\n",
       "    </tr>\n",
       "    <tr>\n",
       "      <th>2018-02-01</th>\n",
       "      <td>23.71</td>\n",
       "      <td>23.86</td>\n",
       "      <td>22.42</td>\n",
       "      <td>22.22</td>\n",
       "      <td>66414.64</td>\n",
       "      <td>-1.30</td>\n",
       "      <td>-5.48</td>\n",
       "      <td>1.66</td>\n",
       "    </tr>\n",
       "    <tr>\n",
       "      <th>2018-01-31</th>\n",
       "      <td>23.85</td>\n",
       "      <td>23.98</td>\n",
       "      <td>23.72</td>\n",
       "      <td>23.31</td>\n",
       "      <td>49155.02</td>\n",
       "      <td>-0.11</td>\n",
       "      <td>-0.46</td>\n",
       "      <td>1.23</td>\n",
       "    </tr>\n",
       "    <tr>\n",
       "      <th>2018-01-30</th>\n",
       "      <td>23.71</td>\n",
       "      <td>24.08</td>\n",
       "      <td>23.83</td>\n",
       "      <td>23.70</td>\n",
       "      <td>32420.43</td>\n",
       "      <td>0.05</td>\n",
       "      <td>0.21</td>\n",
       "      <td>0.81</td>\n",
       "    </tr>\n",
       "    <tr>\n",
       "      <th>2018-01-29</th>\n",
       "      <td>24.40</td>\n",
       "      <td>24.63</td>\n",
       "      <td>23.77</td>\n",
       "      <td>23.72</td>\n",
       "      <td>65469.81</td>\n",
       "      <td>-0.73</td>\n",
       "      <td>-2.98</td>\n",
       "      <td>1.64</td>\n",
       "    </tr>\n",
       "  </tbody>\n",
       "</table>\n",
       "</div>"
      ],
      "text/plain": [
       "             open   high  close    low    volume  price_change  p_change  \\\n",
       "2018-02-27  23.53  25.88  24.16  23.53  95578.03          0.63      2.68   \n",
       "2018-02-01  23.71  23.86  22.42  22.22  66414.64         -1.30     -5.48   \n",
       "2018-01-31  23.85  23.98  23.72  23.31  49155.02         -0.11     -0.46   \n",
       "2018-01-30  23.71  24.08  23.83  23.70  32420.43          0.05      0.21   \n",
       "2018-01-29  24.40  24.63  23.77  23.72  65469.81         -0.73     -2.98   \n",
       "\n",
       "            turnover  \n",
       "2018-02-27      2.39  \n",
       "2018-02-01      1.66  \n",
       "2018-01-31      1.23  \n",
       "2018-01-30      0.81  \n",
       "2018-01-29      1.64  "
      ]
     },
     "execution_count": 10,
     "metadata": {},
     "output_type": "execute_result"
    }
   ],
   "source": [
    "# 1.逻辑运算符号\n",
    "data[data[\"open\"] > 23].head()"
   ]
  },
  {
   "cell_type": "code",
   "execution_count": 11,
   "id": "5fdae5ef",
   "metadata": {},
   "outputs": [
    {
     "data": {
      "text/html": [
       "<div>\n",
       "<style scoped>\n",
       "    .dataframe tbody tr th:only-of-type {\n",
       "        vertical-align: middle;\n",
       "    }\n",
       "\n",
       "    .dataframe tbody tr th {\n",
       "        vertical-align: top;\n",
       "    }\n",
       "\n",
       "    .dataframe thead th {\n",
       "        text-align: right;\n",
       "    }\n",
       "</style>\n",
       "<table border=\"1\" class=\"dataframe\">\n",
       "  <thead>\n",
       "    <tr style=\"text-align: right;\">\n",
       "      <th></th>\n",
       "      <th>open</th>\n",
       "      <th>high</th>\n",
       "      <th>close</th>\n",
       "      <th>low</th>\n",
       "      <th>volume</th>\n",
       "      <th>price_change</th>\n",
       "      <th>p_change</th>\n",
       "      <th>turnover</th>\n",
       "    </tr>\n",
       "  </thead>\n",
       "  <tbody>\n",
       "    <tr>\n",
       "      <th>2018-02-27</th>\n",
       "      <td>23.53</td>\n",
       "      <td>25.88</td>\n",
       "      <td>24.16</td>\n",
       "      <td>23.53</td>\n",
       "      <td>95578.03</td>\n",
       "      <td>0.63</td>\n",
       "      <td>2.68</td>\n",
       "      <td>2.39</td>\n",
       "    </tr>\n",
       "    <tr>\n",
       "      <th>2018-02-01</th>\n",
       "      <td>23.71</td>\n",
       "      <td>23.86</td>\n",
       "      <td>22.42</td>\n",
       "      <td>22.22</td>\n",
       "      <td>66414.64</td>\n",
       "      <td>-1.30</td>\n",
       "      <td>-5.48</td>\n",
       "      <td>1.66</td>\n",
       "    </tr>\n",
       "    <tr>\n",
       "      <th>2018-01-31</th>\n",
       "      <td>23.85</td>\n",
       "      <td>23.98</td>\n",
       "      <td>23.72</td>\n",
       "      <td>23.31</td>\n",
       "      <td>49155.02</td>\n",
       "      <td>-0.11</td>\n",
       "      <td>-0.46</td>\n",
       "      <td>1.23</td>\n",
       "    </tr>\n",
       "    <tr>\n",
       "      <th>2018-01-30</th>\n",
       "      <td>23.71</td>\n",
       "      <td>24.08</td>\n",
       "      <td>23.83</td>\n",
       "      <td>23.70</td>\n",
       "      <td>32420.43</td>\n",
       "      <td>0.05</td>\n",
       "      <td>0.21</td>\n",
       "      <td>0.81</td>\n",
       "    </tr>\n",
       "    <tr>\n",
       "      <th>2018-01-16</th>\n",
       "      <td>23.40</td>\n",
       "      <td>24.60</td>\n",
       "      <td>24.40</td>\n",
       "      <td>23.30</td>\n",
       "      <td>101295.42</td>\n",
       "      <td>0.96</td>\n",
       "      <td>4.10</td>\n",
       "      <td>2.54</td>\n",
       "    </tr>\n",
       "  </tbody>\n",
       "</table>\n",
       "</div>"
      ],
      "text/plain": [
       "             open   high  close    low     volume  price_change  p_change  \\\n",
       "2018-02-27  23.53  25.88  24.16  23.53   95578.03          0.63      2.68   \n",
       "2018-02-01  23.71  23.86  22.42  22.22   66414.64         -1.30     -5.48   \n",
       "2018-01-31  23.85  23.98  23.72  23.31   49155.02         -0.11     -0.46   \n",
       "2018-01-30  23.71  24.08  23.83  23.70   32420.43          0.05      0.21   \n",
       "2018-01-16  23.40  24.60  24.40  23.30  101295.42          0.96      4.10   \n",
       "\n",
       "            turnover  \n",
       "2018-02-27      2.39  \n",
       "2018-02-01      1.66  \n",
       "2018-01-31      1.23  \n",
       "2018-01-30      0.81  \n",
       "2018-01-16      2.54  "
      ]
     },
     "execution_count": 11,
     "metadata": {},
     "output_type": "execute_result"
    }
   ],
   "source": [
    "data[(data[\"open\"] > 23) & (data[\"open\"] < 24)].head()"
   ]
  },
  {
   "cell_type": "code",
   "execution_count": 12,
   "id": "abb9c80f",
   "metadata": {},
   "outputs": [
    {
     "data": {
      "text/html": [
       "<div>\n",
       "<style scoped>\n",
       "    .dataframe tbody tr th:only-of-type {\n",
       "        vertical-align: middle;\n",
       "    }\n",
       "\n",
       "    .dataframe tbody tr th {\n",
       "        vertical-align: top;\n",
       "    }\n",
       "\n",
       "    .dataframe thead th {\n",
       "        text-align: right;\n",
       "    }\n",
       "</style>\n",
       "<table border=\"1\" class=\"dataframe\">\n",
       "  <thead>\n",
       "    <tr style=\"text-align: right;\">\n",
       "      <th></th>\n",
       "      <th>open</th>\n",
       "      <th>high</th>\n",
       "      <th>close</th>\n",
       "      <th>low</th>\n",
       "      <th>volume</th>\n",
       "      <th>price_change</th>\n",
       "      <th>p_change</th>\n",
       "      <th>turnover</th>\n",
       "    </tr>\n",
       "  </thead>\n",
       "  <tbody>\n",
       "    <tr>\n",
       "      <th>2018-02-27</th>\n",
       "      <td>23.53</td>\n",
       "      <td>25.88</td>\n",
       "      <td>24.16</td>\n",
       "      <td>23.53</td>\n",
       "      <td>95578.03</td>\n",
       "      <td>0.63</td>\n",
       "      <td>2.68</td>\n",
       "      <td>2.39</td>\n",
       "    </tr>\n",
       "    <tr>\n",
       "      <th>2018-02-01</th>\n",
       "      <td>23.71</td>\n",
       "      <td>23.86</td>\n",
       "      <td>22.42</td>\n",
       "      <td>22.22</td>\n",
       "      <td>66414.64</td>\n",
       "      <td>-1.30</td>\n",
       "      <td>-5.48</td>\n",
       "      <td>1.66</td>\n",
       "    </tr>\n",
       "    <tr>\n",
       "      <th>2018-01-31</th>\n",
       "      <td>23.85</td>\n",
       "      <td>23.98</td>\n",
       "      <td>23.72</td>\n",
       "      <td>23.31</td>\n",
       "      <td>49155.02</td>\n",
       "      <td>-0.11</td>\n",
       "      <td>-0.46</td>\n",
       "      <td>1.23</td>\n",
       "    </tr>\n",
       "    <tr>\n",
       "      <th>2018-01-30</th>\n",
       "      <td>23.71</td>\n",
       "      <td>24.08</td>\n",
       "      <td>23.83</td>\n",
       "      <td>23.70</td>\n",
       "      <td>32420.43</td>\n",
       "      <td>0.05</td>\n",
       "      <td>0.21</td>\n",
       "      <td>0.81</td>\n",
       "    </tr>\n",
       "    <tr>\n",
       "      <th>2018-01-16</th>\n",
       "      <td>23.40</td>\n",
       "      <td>24.60</td>\n",
       "      <td>24.40</td>\n",
       "      <td>23.30</td>\n",
       "      <td>101295.42</td>\n",
       "      <td>0.96</td>\n",
       "      <td>4.10</td>\n",
       "      <td>2.54</td>\n",
       "    </tr>\n",
       "  </tbody>\n",
       "</table>\n",
       "</div>"
      ],
      "text/plain": [
       "             open   high  close    low     volume  price_change  p_change  \\\n",
       "2018-02-27  23.53  25.88  24.16  23.53   95578.03          0.63      2.68   \n",
       "2018-02-01  23.71  23.86  22.42  22.22   66414.64         -1.30     -5.48   \n",
       "2018-01-31  23.85  23.98  23.72  23.31   49155.02         -0.11     -0.46   \n",
       "2018-01-30  23.71  24.08  23.83  23.70   32420.43          0.05      0.21   \n",
       "2018-01-16  23.40  24.60  24.40  23.30  101295.42          0.96      4.10   \n",
       "\n",
       "            turnover  \n",
       "2018-02-27      2.39  \n",
       "2018-02-01      1.66  \n",
       "2018-01-31      1.23  \n",
       "2018-01-30      0.81  \n",
       "2018-01-16      2.54  "
      ]
     },
     "execution_count": 12,
     "metadata": {},
     "output_type": "execute_result"
    }
   ],
   "source": [
    "# 2.逻辑运算函数\n",
    "data.query(\"open<24 & open>23\").head()"
   ]
  },
  {
   "cell_type": "code",
   "execution_count": 13,
   "id": "bc0bb882",
   "metadata": {},
   "outputs": [
    {
     "data": {
      "text/html": [
       "<div>\n",
       "<style scoped>\n",
       "    .dataframe tbody tr th:only-of-type {\n",
       "        vertical-align: middle;\n",
       "    }\n",
       "\n",
       "    .dataframe tbody tr th {\n",
       "        vertical-align: top;\n",
       "    }\n",
       "\n",
       "    .dataframe thead th {\n",
       "        text-align: right;\n",
       "    }\n",
       "</style>\n",
       "<table border=\"1\" class=\"dataframe\">\n",
       "  <thead>\n",
       "    <tr style=\"text-align: right;\">\n",
       "      <th></th>\n",
       "      <th>open</th>\n",
       "      <th>high</th>\n",
       "      <th>close</th>\n",
       "      <th>low</th>\n",
       "      <th>volume</th>\n",
       "      <th>price_change</th>\n",
       "      <th>p_change</th>\n",
       "      <th>turnover</th>\n",
       "    </tr>\n",
       "  </thead>\n",
       "  <tbody>\n",
       "    <tr>\n",
       "      <th>2018-02-27</th>\n",
       "      <td>23.53</td>\n",
       "      <td>25.88</td>\n",
       "      <td>24.16</td>\n",
       "      <td>23.53</td>\n",
       "      <td>95578.03</td>\n",
       "      <td>0.63</td>\n",
       "      <td>2.68</td>\n",
       "      <td>2.39</td>\n",
       "    </tr>\n",
       "    <tr>\n",
       "      <th>2018-01-31</th>\n",
       "      <td>23.85</td>\n",
       "      <td>23.98</td>\n",
       "      <td>23.72</td>\n",
       "      <td>23.31</td>\n",
       "      <td>49155.02</td>\n",
       "      <td>-0.11</td>\n",
       "      <td>-0.46</td>\n",
       "      <td>1.23</td>\n",
       "    </tr>\n",
       "    <tr>\n",
       "      <th>2017-07-26</th>\n",
       "      <td>23.53</td>\n",
       "      <td>23.92</td>\n",
       "      <td>23.40</td>\n",
       "      <td>22.85</td>\n",
       "      <td>110276.48</td>\n",
       "      <td>-0.30</td>\n",
       "      <td>-1.27</td>\n",
       "      <td>2.76</td>\n",
       "    </tr>\n",
       "    <tr>\n",
       "      <th>2015-12-18</th>\n",
       "      <td>23.53</td>\n",
       "      <td>24.66</td>\n",
       "      <td>23.99</td>\n",
       "      <td>23.43</td>\n",
       "      <td>109230.05</td>\n",
       "      <td>0.65</td>\n",
       "      <td>2.79</td>\n",
       "      <td>3.74</td>\n",
       "    </tr>\n",
       "    <tr>\n",
       "      <th>2015-11-26</th>\n",
       "      <td>23.85</td>\n",
       "      <td>24.08</td>\n",
       "      <td>23.53</td>\n",
       "      <td>23.50</td>\n",
       "      <td>51446.29</td>\n",
       "      <td>-0.31</td>\n",
       "      <td>-1.30</td>\n",
       "      <td>1.76</td>\n",
       "    </tr>\n",
       "  </tbody>\n",
       "</table>\n",
       "</div>"
      ],
      "text/plain": [
       "             open   high  close    low     volume  price_change  p_change  \\\n",
       "2018-02-27  23.53  25.88  24.16  23.53   95578.03          0.63      2.68   \n",
       "2018-01-31  23.85  23.98  23.72  23.31   49155.02         -0.11     -0.46   \n",
       "2017-07-26  23.53  23.92  23.40  22.85  110276.48         -0.30     -1.27   \n",
       "2015-12-18  23.53  24.66  23.99  23.43  109230.05          0.65      2.79   \n",
       "2015-11-26  23.85  24.08  23.53  23.50   51446.29         -0.31     -1.30   \n",
       "\n",
       "            turnover  \n",
       "2018-02-27      2.39  \n",
       "2018-01-31      1.23  \n",
       "2017-07-26      2.76  \n",
       "2015-12-18      3.74  \n",
       "2015-11-26      1.76  "
      ]
     },
     "execution_count": 13,
     "metadata": {},
     "output_type": "execute_result"
    }
   ],
   "source": [
    "data[data[\"open\"].isin([23.53, 23.85])]"
   ]
  },
  {
   "attachments": {},
   "cell_type": "markdown",
   "id": "a2786ef1",
   "metadata": {},
   "source": [
    "# Pandas的函数应用"
   ]
  },
  {
   "attachments": {},
   "cell_type": "markdown",
   "id": "f4111c89",
   "metadata": {},
   "source": [
    "## apply 和 applymap"
   ]
  },
  {
   "attachments": {},
   "cell_type": "markdown",
   "id": "41f21f2a",
   "metadata": {},
   "source": [
    "1. 可直接使用NumPy的函数"
   ]
  },
  {
   "cell_type": "code",
   "execution_count": 28,
   "id": "142bc759",
   "metadata": {},
   "outputs": [
    {
     "data": {
      "text/html": [
       "<div>\n",
       "<style scoped>\n",
       "    .dataframe tbody tr th:only-of-type {\n",
       "        vertical-align: middle;\n",
       "    }\n",
       "\n",
       "    .dataframe tbody tr th {\n",
       "        vertical-align: top;\n",
       "    }\n",
       "\n",
       "    .dataframe thead th {\n",
       "        text-align: right;\n",
       "    }\n",
       "</style>\n",
       "<table border=\"1\" class=\"dataframe\">\n",
       "  <thead>\n",
       "    <tr style=\"text-align: right;\">\n",
       "      <th></th>\n",
       "      <th>0</th>\n",
       "      <th>1</th>\n",
       "      <th>2</th>\n",
       "      <th>3</th>\n",
       "    </tr>\n",
       "  </thead>\n",
       "  <tbody>\n",
       "    <tr>\n",
       "      <th>0</th>\n",
       "      <td>-1.723869</td>\n",
       "      <td>-1.344591</td>\n",
       "      <td>-1.078933</td>\n",
       "      <td>0.174992</td>\n",
       "    </tr>\n",
       "    <tr>\n",
       "      <th>1</th>\n",
       "      <td>-1.566607</td>\n",
       "      <td>0.352849</td>\n",
       "      <td>-0.046500</td>\n",
       "      <td>-2.366547</td>\n",
       "    </tr>\n",
       "    <tr>\n",
       "      <th>2</th>\n",
       "      <td>-1.045265</td>\n",
       "      <td>-2.604946</td>\n",
       "      <td>-0.950434</td>\n",
       "      <td>1.333952</td>\n",
       "    </tr>\n",
       "    <tr>\n",
       "      <th>3</th>\n",
       "      <td>-0.832610</td>\n",
       "      <td>0.780150</td>\n",
       "      <td>-0.020224</td>\n",
       "      <td>-2.029927</td>\n",
       "    </tr>\n",
       "    <tr>\n",
       "      <th>4</th>\n",
       "      <td>-1.970221</td>\n",
       "      <td>0.712482</td>\n",
       "      <td>-0.921493</td>\n",
       "      <td>-0.603046</td>\n",
       "    </tr>\n",
       "  </tbody>\n",
       "</table>\n",
       "</div>"
      ],
      "text/plain": [
       "          0         1         2         3\n",
       "0 -1.723869 -1.344591 -1.078933  0.174992\n",
       "1 -1.566607  0.352849 -0.046500 -2.366547\n",
       "2 -1.045265 -2.604946 -0.950434  1.333952\n",
       "3 -0.832610  0.780150 -0.020224 -2.029927\n",
       "4 -1.970221  0.712482 -0.921493 -0.603046"
      ]
     },
     "metadata": {},
     "output_type": "display_data"
    },
    {
     "data": {
      "text/html": [
       "<div>\n",
       "<style scoped>\n",
       "    .dataframe tbody tr th:only-of-type {\n",
       "        vertical-align: middle;\n",
       "    }\n",
       "\n",
       "    .dataframe tbody tr th {\n",
       "        vertical-align: top;\n",
       "    }\n",
       "\n",
       "    .dataframe thead th {\n",
       "        text-align: right;\n",
       "    }\n",
       "</style>\n",
       "<table border=\"1\" class=\"dataframe\">\n",
       "  <thead>\n",
       "    <tr style=\"text-align: right;\">\n",
       "      <th></th>\n",
       "      <th>0</th>\n",
       "      <th>1</th>\n",
       "      <th>2</th>\n",
       "      <th>3</th>\n",
       "    </tr>\n",
       "  </thead>\n",
       "  <tbody>\n",
       "    <tr>\n",
       "      <th>0</th>\n",
       "      <td>1.723869</td>\n",
       "      <td>1.344591</td>\n",
       "      <td>1.078933</td>\n",
       "      <td>0.174992</td>\n",
       "    </tr>\n",
       "    <tr>\n",
       "      <th>1</th>\n",
       "      <td>1.566607</td>\n",
       "      <td>0.352849</td>\n",
       "      <td>0.046500</td>\n",
       "      <td>2.366547</td>\n",
       "    </tr>\n",
       "    <tr>\n",
       "      <th>2</th>\n",
       "      <td>1.045265</td>\n",
       "      <td>2.604946</td>\n",
       "      <td>0.950434</td>\n",
       "      <td>1.333952</td>\n",
       "    </tr>\n",
       "    <tr>\n",
       "      <th>3</th>\n",
       "      <td>0.832610</td>\n",
       "      <td>0.780150</td>\n",
       "      <td>0.020224</td>\n",
       "      <td>2.029927</td>\n",
       "    </tr>\n",
       "    <tr>\n",
       "      <th>4</th>\n",
       "      <td>1.970221</td>\n",
       "      <td>0.712482</td>\n",
       "      <td>0.921493</td>\n",
       "      <td>0.603046</td>\n",
       "    </tr>\n",
       "  </tbody>\n",
       "</table>\n",
       "</div>"
      ],
      "text/plain": [
       "          0         1         2         3\n",
       "0  1.723869  1.344591  1.078933  0.174992\n",
       "1  1.566607  0.352849  0.046500  2.366547\n",
       "2  1.045265  2.604946  0.950434  1.333952\n",
       "3  0.832610  0.780150  0.020224  2.029927\n",
       "4  1.970221  0.712482  0.921493  0.603046"
      ]
     },
     "metadata": {},
     "output_type": "display_data"
    }
   ],
   "source": [
    "dat5 = pd.DataFrame(np.random.randn(5,4)-1)\n",
    "display(dat5)\n",
    "display(dat5.abs())"
   ]
  },
  {
   "attachments": {},
   "cell_type": "markdown",
   "id": "2cf890d4",
   "metadata": {},
   "source": [
    "2. 通过apply将函数应用到列或行上"
   ]
  },
  {
   "cell_type": "code",
   "execution_count": 29,
   "id": "df63874e",
   "metadata": {},
   "outputs": [
    {
     "data": {
      "text/plain": [
       "0   -0.832610\n",
       "1    0.780150\n",
       "2   -0.020224\n",
       "3    1.333952\n",
       "dtype: float64"
      ]
     },
     "metadata": {},
     "output_type": "display_data"
    }
   ],
   "source": [
    "# 注意指定轴的方向，默认axis=0，方向是列\n",
    "display(dat5.apply(lambda x:x.max()))"
   ]
  },
  {
   "cell_type": "code",
   "execution_count": 30,
   "id": "73329f4a",
   "metadata": {},
   "outputs": [
    {
     "data": {
      "text/plain": [
       "0    0.174992\n",
       "1    0.352849\n",
       "2    1.333952\n",
       "3    0.780150\n",
       "4    0.712482\n",
       "dtype: float64"
      ]
     },
     "metadata": {},
     "output_type": "display_data"
    }
   ],
   "source": [
    "# 注意指定轴的方向，默认axis=1，方向是行\n",
    "display(dat5.apply(lambda x:x.max(),axis=1))"
   ]
  },
  {
   "attachments": {},
   "cell_type": "markdown",
   "id": "899d166c",
   "metadata": {},
   "source": [
    "3. 通过applymap将函数应用到每个数据上"
   ]
  },
  {
   "cell_type": "code",
   "execution_count": 31,
   "id": "e0b9d73b",
   "metadata": {},
   "outputs": [
    {
     "data": {
      "text/html": [
       "<div>\n",
       "<style scoped>\n",
       "    .dataframe tbody tr th:only-of-type {\n",
       "        vertical-align: middle;\n",
       "    }\n",
       "\n",
       "    .dataframe tbody tr th {\n",
       "        vertical-align: top;\n",
       "    }\n",
       "\n",
       "    .dataframe thead th {\n",
       "        text-align: right;\n",
       "    }\n",
       "</style>\n",
       "<table border=\"1\" class=\"dataframe\">\n",
       "  <thead>\n",
       "    <tr style=\"text-align: right;\">\n",
       "      <th></th>\n",
       "      <th>0</th>\n",
       "      <th>1</th>\n",
       "      <th>2</th>\n",
       "      <th>3</th>\n",
       "    </tr>\n",
       "  </thead>\n",
       "  <tbody>\n",
       "    <tr>\n",
       "      <th>0</th>\n",
       "      <td>-1.72</td>\n",
       "      <td>-1.34</td>\n",
       "      <td>-1.08</td>\n",
       "      <td>0.17</td>\n",
       "    </tr>\n",
       "    <tr>\n",
       "      <th>1</th>\n",
       "      <td>-1.57</td>\n",
       "      <td>0.35</td>\n",
       "      <td>-0.05</td>\n",
       "      <td>-2.37</td>\n",
       "    </tr>\n",
       "    <tr>\n",
       "      <th>2</th>\n",
       "      <td>-1.05</td>\n",
       "      <td>-2.60</td>\n",
       "      <td>-0.95</td>\n",
       "      <td>1.33</td>\n",
       "    </tr>\n",
       "    <tr>\n",
       "      <th>3</th>\n",
       "      <td>-0.83</td>\n",
       "      <td>0.78</td>\n",
       "      <td>-0.02</td>\n",
       "      <td>-2.03</td>\n",
       "    </tr>\n",
       "    <tr>\n",
       "      <th>4</th>\n",
       "      <td>-1.97</td>\n",
       "      <td>0.71</td>\n",
       "      <td>-0.92</td>\n",
       "      <td>-0.60</td>\n",
       "    </tr>\n",
       "  </tbody>\n",
       "</table>\n",
       "</div>"
      ],
      "text/plain": [
       "       0      1      2      3\n",
       "0  -1.72  -1.34  -1.08   0.17\n",
       "1  -1.57   0.35  -0.05  -2.37\n",
       "2  -1.05  -2.60  -0.95   1.33\n",
       "3  -0.83   0.78  -0.02  -2.03\n",
       "4  -1.97   0.71  -0.92  -0.60"
      ]
     },
     "metadata": {},
     "output_type": "display_data"
    }
   ],
   "source": [
    "f1 = lambda x: \"%.2f\" %x\n",
    "display(dat5.applymap(f1))"
   ]
  },
  {
   "attachments": {},
   "cell_type": "markdown",
   "id": "6cdcb7b2",
   "metadata": {},
   "source": [
    "## 排序"
   ]
  },
  {
   "attachments": {},
   "cell_type": "markdown",
   "id": "4ada5fde",
   "metadata": {},
   "source": [
    "1. 索引排序"
   ]
  },
  {
   "cell_type": "code",
   "execution_count": 32,
   "id": "ab826b19",
   "metadata": {},
   "outputs": [
    {
     "data": {
      "text/plain": [
       "0    10\n",
       "2    11\n",
       "3    12\n",
       "4    13\n",
       "4    14\n",
       "dtype: int64"
      ]
     },
     "metadata": {},
     "output_type": "display_data"
    },
    {
     "data": {
      "text/plain": [
       "0    10\n",
       "2    11\n",
       "3    12\n",
       "4    13\n",
       "4    14\n",
       "dtype: int64"
      ]
     },
     "execution_count": 32,
     "metadata": {},
     "output_type": "execute_result"
    }
   ],
   "source": [
    "s4 = pd.Series(range(10,15),index=np.random.randint(5,size=5))\n",
    "display(s4)\n",
    "s4.sort_index()"
   ]
  },
  {
   "cell_type": "code",
   "execution_count": 33,
   "id": "dcd7c751",
   "metadata": {},
   "outputs": [
    {
     "data": {
      "text/html": [
       "<div>\n",
       "<style scoped>\n",
       "    .dataframe tbody tr th:only-of-type {\n",
       "        vertical-align: middle;\n",
       "    }\n",
       "\n",
       "    .dataframe tbody tr th {\n",
       "        vertical-align: top;\n",
       "    }\n",
       "\n",
       "    .dataframe thead th {\n",
       "        text-align: right;\n",
       "    }\n",
       "</style>\n",
       "<table border=\"1\" class=\"dataframe\">\n",
       "  <thead>\n",
       "    <tr style=\"text-align: right;\">\n",
       "      <th></th>\n",
       "      <th>4</th>\n",
       "      <th>3</th>\n",
       "      <th>0</th>\n",
       "      <th>2</th>\n",
       "      <th>3</th>\n",
       "    </tr>\n",
       "  </thead>\n",
       "  <tbody>\n",
       "    <tr>\n",
       "      <th>1</th>\n",
       "      <td>0.120062</td>\n",
       "      <td>-1.384446</td>\n",
       "      <td>0.420254</td>\n",
       "      <td>-1.377769</td>\n",
       "      <td>-1.313627</td>\n",
       "    </tr>\n",
       "    <tr>\n",
       "      <th>0</th>\n",
       "      <td>-3.132509</td>\n",
       "      <td>1.501817</td>\n",
       "      <td>-0.198134</td>\n",
       "      <td>1.662789</td>\n",
       "      <td>0.982152</td>\n",
       "    </tr>\n",
       "    <tr>\n",
       "      <th>0</th>\n",
       "      <td>0.994159</td>\n",
       "      <td>-1.117589</td>\n",
       "      <td>-0.236353</td>\n",
       "      <td>1.514271</td>\n",
       "      <td>-0.078514</td>\n",
       "    </tr>\n",
       "  </tbody>\n",
       "</table>\n",
       "</div>"
      ],
      "text/plain": [
       "          4         3         0         2         3\n",
       "1  0.120062 -1.384446  0.420254 -1.377769 -1.313627\n",
       "0 -3.132509  1.501817 -0.198134  1.662789  0.982152\n",
       "0  0.994159 -1.117589 -0.236353  1.514271 -0.078514"
      ]
     },
     "metadata": {},
     "output_type": "display_data"
    },
    {
     "data": {
      "text/html": [
       "<div>\n",
       "<style scoped>\n",
       "    .dataframe tbody tr th:only-of-type {\n",
       "        vertical-align: middle;\n",
       "    }\n",
       "\n",
       "    .dataframe tbody tr th {\n",
       "        vertical-align: top;\n",
       "    }\n",
       "\n",
       "    .dataframe thead th {\n",
       "        text-align: right;\n",
       "    }\n",
       "</style>\n",
       "<table border=\"1\" class=\"dataframe\">\n",
       "  <thead>\n",
       "    <tr style=\"text-align: right;\">\n",
       "      <th></th>\n",
       "      <th>4</th>\n",
       "      <th>3</th>\n",
       "      <th>3</th>\n",
       "      <th>2</th>\n",
       "      <th>0</th>\n",
       "    </tr>\n",
       "  </thead>\n",
       "  <tbody>\n",
       "    <tr>\n",
       "      <th>1</th>\n",
       "      <td>0.120062</td>\n",
       "      <td>-1.384446</td>\n",
       "      <td>-1.313627</td>\n",
       "      <td>-1.377769</td>\n",
       "      <td>0.420254</td>\n",
       "    </tr>\n",
       "    <tr>\n",
       "      <th>0</th>\n",
       "      <td>-3.132509</td>\n",
       "      <td>1.501817</td>\n",
       "      <td>0.982152</td>\n",
       "      <td>1.662789</td>\n",
       "      <td>-0.198134</td>\n",
       "    </tr>\n",
       "    <tr>\n",
       "      <th>0</th>\n",
       "      <td>0.994159</td>\n",
       "      <td>-1.117589</td>\n",
       "      <td>-0.078514</td>\n",
       "      <td>1.514271</td>\n",
       "      <td>-0.236353</td>\n",
       "    </tr>\n",
       "  </tbody>\n",
       "</table>\n",
       "</div>"
      ],
      "text/plain": [
       "          4         3         3         2         0\n",
       "1  0.120062 -1.384446 -1.313627 -1.377769  0.420254\n",
       "0 -3.132509  1.501817  0.982152  1.662789 -0.198134\n",
       "0  0.994159 -1.117589 -0.078514  1.514271 -0.236353"
      ]
     },
     "metadata": {},
     "output_type": "display_data"
    },
    {
     "data": {
      "text/html": [
       "<div>\n",
       "<style scoped>\n",
       "    .dataframe tbody tr th:only-of-type {\n",
       "        vertical-align: middle;\n",
       "    }\n",
       "\n",
       "    .dataframe tbody tr th {\n",
       "        vertical-align: top;\n",
       "    }\n",
       "\n",
       "    .dataframe thead th {\n",
       "        text-align: right;\n",
       "    }\n",
       "</style>\n",
       "<table border=\"1\" class=\"dataframe\">\n",
       "  <thead>\n",
       "    <tr style=\"text-align: right;\">\n",
       "      <th></th>\n",
       "      <th>0</th>\n",
       "      <th>2</th>\n",
       "      <th>3</th>\n",
       "      <th>3</th>\n",
       "      <th>4</th>\n",
       "    </tr>\n",
       "  </thead>\n",
       "  <tbody>\n",
       "    <tr>\n",
       "      <th>1</th>\n",
       "      <td>0.420254</td>\n",
       "      <td>-1.377769</td>\n",
       "      <td>-1.384446</td>\n",
       "      <td>-1.313627</td>\n",
       "      <td>0.120062</td>\n",
       "    </tr>\n",
       "    <tr>\n",
       "      <th>0</th>\n",
       "      <td>-0.198134</td>\n",
       "      <td>1.662789</td>\n",
       "      <td>1.501817</td>\n",
       "      <td>0.982152</td>\n",
       "      <td>-3.132509</td>\n",
       "    </tr>\n",
       "    <tr>\n",
       "      <th>0</th>\n",
       "      <td>-0.236353</td>\n",
       "      <td>1.514271</td>\n",
       "      <td>-1.117589</td>\n",
       "      <td>-0.078514</td>\n",
       "      <td>0.994159</td>\n",
       "    </tr>\n",
       "  </tbody>\n",
       "</table>\n",
       "</div>"
      ],
      "text/plain": [
       "          0         2         3         3         4\n",
       "1  0.420254 -1.377769 -1.384446 -1.313627  0.120062\n",
       "0 -0.198134  1.662789  1.501817  0.982152 -3.132509\n",
       "0 -0.236353  1.514271 -1.117589 -0.078514  0.994159"
      ]
     },
     "metadata": {},
     "output_type": "display_data"
    }
   ],
   "source": [
    "# 对DataFrame操作时注意轴方向\n",
    "dat6=pd.DataFrame(np.random.randn(3,5),\n",
    "                  index=np.random.randint(3,size=3),\n",
    "                 columns=np.random.randint(5,size=5))\n",
    "display(dat6)\n",
    "dat6_isort = dat6.sort_index(axis=1,ascending=False)\n",
    "display(dat6_isort)\n",
    "dat6_jsort = dat6.sort_index(axis=1,ascending=True)\n",
    "display(dat6_jsort)"
   ]
  },
  {
   "attachments": {},
   "cell_type": "markdown",
   "id": "80414a03",
   "metadata": {},
   "source": [
    "2. 按值排序"
   ]
  },
  {
   "cell_type": "code",
   "execution_count": 34,
   "id": "f5b0e16e",
   "metadata": {
    "collapsed": true
   },
   "outputs": [
    {
     "data": {
      "text/html": [
       "<div>\n",
       "<style scoped>\n",
       "    .dataframe tbody tr th:only-of-type {\n",
       "        vertical-align: middle;\n",
       "    }\n",
       "\n",
       "    .dataframe tbody tr th {\n",
       "        vertical-align: top;\n",
       "    }\n",
       "\n",
       "    .dataframe thead th {\n",
       "        text-align: right;\n",
       "    }\n",
       "</style>\n",
       "<table border=\"1\" class=\"dataframe\">\n",
       "  <thead>\n",
       "    <tr style=\"text-align: right;\">\n",
       "      <th></th>\n",
       "      <th>4</th>\n",
       "      <th>3</th>\n",
       "      <th>0</th>\n",
       "      <th>2</th>\n",
       "      <th>3</th>\n",
       "    </tr>\n",
       "  </thead>\n",
       "  <tbody>\n",
       "    <tr>\n",
       "      <th>0</th>\n",
       "      <td>0.994159</td>\n",
       "      <td>-1.117589</td>\n",
       "      <td>-0.236353</td>\n",
       "      <td>1.514271</td>\n",
       "      <td>-0.078514</td>\n",
       "    </tr>\n",
       "    <tr>\n",
       "      <th>1</th>\n",
       "      <td>0.120062</td>\n",
       "      <td>-1.384446</td>\n",
       "      <td>0.420254</td>\n",
       "      <td>-1.377769</td>\n",
       "      <td>-1.313627</td>\n",
       "    </tr>\n",
       "    <tr>\n",
       "      <th>0</th>\n",
       "      <td>-3.132509</td>\n",
       "      <td>1.501817</td>\n",
       "      <td>-0.198134</td>\n",
       "      <td>1.662789</td>\n",
       "      <td>0.982152</td>\n",
       "    </tr>\n",
       "  </tbody>\n",
       "</table>\n",
       "</div>"
      ],
      "text/plain": [
       "          4         3         0         2         3\n",
       "0  0.994159 -1.117589 -0.236353  1.514271 -0.078514\n",
       "1  0.120062 -1.384446  0.420254 -1.377769 -1.313627\n",
       "0 -3.132509  1.501817 -0.198134  1.662789  0.982152"
      ]
     },
     "metadata": {},
     "output_type": "display_data"
    }
   ],
   "source": [
    "dat6_vsort = dat6.sort_values(by = 4, ascending = False)\n",
    "display(dat6_vsort)"
   ]
  },
  {
   "attachments": {},
   "cell_type": "markdown",
   "id": "c1746ce8",
   "metadata": {},
   "source": [
    "3.dataframe转换成list"
   ]
  },
  {
   "cell_type": "code",
   "execution_count": 35,
   "id": "154c8a3a",
   "metadata": {},
   "outputs": [
    {
     "data": {
      "text/plain": [
       "[4, 31, 5, 51, 3, 7]"
      ]
     },
     "execution_count": 35,
     "metadata": {},
     "output_type": "execute_result"
    }
   ],
   "source": [
    "li=pd.Series([4,31,5,51,3,7],index=['a','b','c','d','e','f'])\n",
    "li=li.tolist()\n",
    "li"
   ]
  },
  {
   "attachments": {},
   "cell_type": "markdown",
   "id": "c34ff7bd",
   "metadata": {},
   "source": [
    "## 处理缺失数据"
   ]
  },
  {
   "cell_type": "code",
   "execution_count": 55,
   "id": "09f88582",
   "metadata": {},
   "outputs": [
    {
     "name": "stdout",
     "output_type": "stream",
     "text": [
      "          0         1         2\n",
      "0  0.223347 -1.318415 -1.258266\n",
      "1  1.000000  2.000000       NaN\n",
      "2       NaN  4.000000       NaN\n",
      "3  1.000000  2.000000  3.000000\n"
     ]
    }
   ],
   "source": [
    "dat7 = pd.DataFrame([np.random.randn(3), [1., 2., np.nan],\n",
    "                       [np.nan, 4., np.nan], [1., 2., 3.]])\n",
    "print(dat7)"
   ]
  },
  {
   "attachments": {},
   "cell_type": "markdown",
   "id": "0166b8f7",
   "metadata": {},
   "source": [
    "1. 判断是否存在缺失值：isnull()"
   ]
  },
  {
   "cell_type": "code",
   "execution_count": 56,
   "id": "dd2d8371",
   "metadata": {},
   "outputs": [
    {
     "name": "stdout",
     "output_type": "stream",
     "text": [
      "       0      1      2\n",
      "0  False  False  False\n",
      "1  False  False   True\n",
      "2   True  False   True\n",
      "3  False  False  False\n"
     ]
    }
   ],
   "source": [
    "print(dat7.isnull())"
   ]
  },
  {
   "attachments": {},
   "cell_type": "markdown",
   "id": "120a1380",
   "metadata": {},
   "source": [
    "2. 丢弃缺失数据：dropna()"
   ]
  },
  {
   "cell_type": "code",
   "execution_count": 57,
   "id": "8c80bee9",
   "metadata": {},
   "outputs": [
    {
     "name": "stdout",
     "output_type": "stream",
     "text": [
      "          1\n",
      "0 -1.318415\n",
      "1  2.000000\n",
      "2  4.000000\n",
      "3  2.000000\n",
      "          0         1         2\n",
      "0  0.223347 -1.318415 -1.258266\n",
      "3  1.000000  2.000000  3.000000\n"
     ]
    }
   ],
   "source": [
    "#根据axis轴方向，丢弃包含NaN的行或列\n",
    "print(dat7.dropna(axis=1))\n",
    "print(dat7.dropna(axis=0))"
   ]
  },
  {
   "attachments": {},
   "cell_type": "markdown",
   "id": "3fbbeab3",
   "metadata": {},
   "source": [
    "3. 填充缺失数据：fillna()"
   ]
  },
  {
   "cell_type": "code",
   "execution_count": 58,
   "id": "3c0b332d",
   "metadata": {},
   "outputs": [
    {
     "name": "stdout",
     "output_type": "stream",
     "text": [
      "            0         1           2\n",
      "0    0.223347 -1.318415   -1.258266\n",
      "1    1.000000  2.000000  101.000000\n",
      "2  101.000000  4.000000  101.000000\n",
      "3    1.000000  2.000000    3.000000\n"
     ]
    }
   ],
   "source": [
    "print(dat7.fillna(101.))"
   ]
  },
  {
   "attachments": {},
   "cell_type": "markdown",
   "id": "1e219d93",
   "metadata": {},
   "source": [
    "# 层级索引"
   ]
  },
  {
   "cell_type": "code",
   "execution_count": 36,
   "id": "c54fcc26",
   "metadata": {},
   "outputs": [
    {
     "data": {
      "text/plain": [
       "a  0   -1.212896\n",
       "   1   -0.623791\n",
       "   2   -0.338658\n",
       "b  0    0.743303\n",
       "   1   -0.204207\n",
       "   2   -0.484520\n",
       "c  0    1.188887\n",
       "   1   -0.158689\n",
       "   2    0.345411\n",
       "d  0    0.101808\n",
       "   1   -0.003620\n",
       "   2   -1.405254\n",
       "dtype: float64"
      ]
     },
     "metadata": {},
     "output_type": "display_data"
    }
   ],
   "source": [
    "ser5=pd.Series(np.random.randn(12),index=[\n",
    "                ['a', 'a', 'a', 'b', 'b', 'b', 'c', 'c', 'c', 'd', 'd', 'd'],\n",
    "                [0, 1, 2, 0, 1, 2, 0, 1, 2, 0, 1, 2]])\n",
    "display(ser5)"
   ]
  },
  {
   "attachments": {},
   "cell_type": "markdown",
   "id": "c02937fa",
   "metadata": {},
   "source": [
    "## MultiIndex索引对象"
   ]
  },
  {
   "cell_type": "code",
   "execution_count": 37,
   "id": "92a34324",
   "metadata": {},
   "outputs": [
    {
     "data": {
      "text/plain": [
       "pandas.core.indexes.multi.MultiIndex"
      ]
     },
     "metadata": {},
     "output_type": "display_data"
    },
    {
     "data": {
      "text/plain": [
       "MultiIndex([('a', 0),\n",
       "            ('a', 1),\n",
       "            ('a', 2),\n",
       "            ('b', 0),\n",
       "            ('b', 1),\n",
       "            ('b', 2),\n",
       "            ('c', 0),\n",
       "            ('c', 1),\n",
       "            ('c', 2),\n",
       "            ('d', 0),\n",
       "            ('d', 1),\n",
       "            ('d', 2)],\n",
       "           )"
      ]
     },
     "metadata": {},
     "output_type": "display_data"
    }
   ],
   "source": [
    "display(type(ser5.index))\n",
    "display(ser5.index)"
   ]
  },
  {
   "attachments": {},
   "cell_type": "markdown",
   "id": "77ad0528",
   "metadata": {},
   "source": [
    "## 选取子集"
   ]
  },
  {
   "attachments": {},
   "cell_type": "markdown",
   "id": "3b79ed2d",
   "metadata": {},
   "source": [
    "1. 外层选取："
   ]
  },
  {
   "cell_type": "code",
   "execution_count": 38,
   "id": "b78caf2a",
   "metadata": {},
   "outputs": [
    {
     "data": {
      "text/plain": [
       "0    0.743303\n",
       "1   -0.204207\n",
       "2   -0.484520\n",
       "dtype: float64"
      ]
     },
     "metadata": {},
     "output_type": "display_data"
    }
   ],
   "source": [
    "display(ser5['b'])"
   ]
  },
  {
   "attachments": {},
   "cell_type": "markdown",
   "id": "7729c350",
   "metadata": {},
   "source": [
    "2. 内层选取："
   ]
  },
  {
   "cell_type": "code",
   "execution_count": 39,
   "id": "8c4e4c94",
   "metadata": {},
   "outputs": [
    {
     "data": {
      "text/plain": [
       "a   -0.338658\n",
       "b   -0.484520\n",
       "c    0.345411\n",
       "d   -1.405254\n",
       "dtype: float64"
      ]
     },
     "metadata": {},
     "output_type": "display_data"
    }
   ],
   "source": [
    "display(ser5[:,2])"
   ]
  },
  {
   "attachments": {},
   "cell_type": "markdown",
   "id": "56fcdbba",
   "metadata": {},
   "source": [
    "## 交换分层顺序"
   ]
  },
  {
   "cell_type": "code",
   "execution_count": 40,
   "id": "860b360a",
   "metadata": {},
   "outputs": [
    {
     "data": {
      "text/plain": [
       "0  a   -1.212896\n",
       "1  a   -0.623791\n",
       "2  a   -0.338658\n",
       "0  b    0.743303\n",
       "1  b   -0.204207\n",
       "2  b   -0.484520\n",
       "0  c    1.188887\n",
       "1  c   -0.158689\n",
       "2  c    0.345411\n",
       "0  d    0.101808\n",
       "1  d   -0.003620\n",
       "2  d   -1.405254\n",
       "dtype: float64"
      ]
     },
     "metadata": {},
     "output_type": "display_data"
    }
   ],
   "source": [
    "#.swaplevel( )交换内层与外层索引。\n",
    "display(ser5.swaplevel())"
   ]
  },
  {
   "attachments": {},
   "cell_type": "markdown",
   "id": "b009b41b",
   "metadata": {},
   "source": [
    "## 交换并排序分层"
   ]
  },
  {
   "cell_type": "code",
   "execution_count": 41,
   "id": "4399119c",
   "metadata": {},
   "outputs": [
    {
     "data": {
      "text/plain": [
       "0  a   -1.212896\n",
       "   b    0.743303\n",
       "   c    1.188887\n",
       "   d    0.101808\n",
       "1  a   -0.623791\n",
       "   b   -0.204207\n",
       "   c   -0.158689\n",
       "   d   -0.003620\n",
       "2  a   -0.338658\n",
       "   b   -0.484520\n",
       "   c    0.345411\n",
       "   d   -1.405254\n",
       "dtype: float64"
      ]
     },
     "metadata": {},
     "output_type": "display_data"
    }
   ],
   "source": [
    "# sort_index()先对外层索引进行排序，再对内层索引进行排序，默认是升序\n",
    "display(ser5.swaplevel().sort_index())"
   ]
  },
  {
   "attachments": {},
   "cell_type": "markdown",
   "id": "e30968c8",
   "metadata": {},
   "source": [
    "# Pandas统计计算和描述"
   ]
  },
  {
   "cell_type": "code",
   "execution_count": 14,
   "id": "af851fb1",
   "metadata": {},
   "outputs": [
    {
     "data": {
      "text/html": [
       "<div>\n",
       "<style scoped>\n",
       "    .dataframe tbody tr th:only-of-type {\n",
       "        vertical-align: middle;\n",
       "    }\n",
       "\n",
       "    .dataframe tbody tr th {\n",
       "        vertical-align: top;\n",
       "    }\n",
       "\n",
       "    .dataframe thead th {\n",
       "        text-align: right;\n",
       "    }\n",
       "</style>\n",
       "<table border=\"1\" class=\"dataframe\">\n",
       "  <thead>\n",
       "    <tr style=\"text-align: right;\">\n",
       "      <th></th>\n",
       "      <th>a</th>\n",
       "      <th>b</th>\n",
       "      <th>c</th>\n",
       "      <th>d</th>\n",
       "    </tr>\n",
       "  </thead>\n",
       "  <tbody>\n",
       "    <tr>\n",
       "      <th>0</th>\n",
       "      <td>0.338188</td>\n",
       "      <td>-0.089179</td>\n",
       "      <td>-1.211417</td>\n",
       "      <td>0.435774</td>\n",
       "    </tr>\n",
       "    <tr>\n",
       "      <th>1</th>\n",
       "      <td>0.880119</td>\n",
       "      <td>-0.515188</td>\n",
       "      <td>1.395227</td>\n",
       "      <td>-0.792657</td>\n",
       "    </tr>\n",
       "    <tr>\n",
       "      <th>2</th>\n",
       "      <td>-0.633184</td>\n",
       "      <td>-0.335533</td>\n",
       "      <td>-0.711776</td>\n",
       "      <td>-0.288377</td>\n",
       "    </tr>\n",
       "    <tr>\n",
       "      <th>3</th>\n",
       "      <td>0.309186</td>\n",
       "      <td>0.283303</td>\n",
       "      <td>0.736081</td>\n",
       "      <td>0.012829</td>\n",
       "    </tr>\n",
       "    <tr>\n",
       "      <th>4</th>\n",
       "      <td>-0.403026</td>\n",
       "      <td>-1.367406</td>\n",
       "      <td>0.131844</td>\n",
       "      <td>-0.328012</td>\n",
       "    </tr>\n",
       "  </tbody>\n",
       "</table>\n",
       "</div>"
      ],
      "text/plain": [
       "          a         b         c         d\n",
       "0  0.338188 -0.089179 -1.211417  0.435774\n",
       "1  0.880119 -0.515188  1.395227 -0.792657\n",
       "2 -0.633184 -0.335533 -0.711776 -0.288377\n",
       "3  0.309186  0.283303  0.736081  0.012829\n",
       "4 -0.403026 -1.367406  0.131844 -0.328012"
      ]
     },
     "metadata": {},
     "output_type": "display_data"
    }
   ],
   "source": [
    "# axis=0 按列统计，axis=1按行统计\n",
    "dat8 = pd.DataFrame(np.random.randn(5,4),columns=['a','b','c','d'])\n",
    "display(dat8)"
   ]
  },
  {
   "attachments": {},
   "cell_type": "markdown",
   "id": "c0697007",
   "metadata": {},
   "source": [
    "## 常用的统计计算"
   ]
  },
  {
   "cell_type": "code",
   "execution_count": 15,
   "id": "9c1ae188",
   "metadata": {},
   "outputs": [
    {
     "data": {
      "text/plain": [
       "a    0.491283\n",
       "b   -2.024003\n",
       "c    0.339960\n",
       "d   -0.960443\n",
       "dtype: float64"
      ]
     },
     "metadata": {},
     "output_type": "display_data"
    }
   ],
   "source": [
    "display(dat8.sum())"
   ]
  },
  {
   "cell_type": "code",
   "execution_count": 16,
   "id": "bfc13910",
   "metadata": {},
   "outputs": [
    {
     "data": {
      "text/plain": [
       "a    0.880119\n",
       "b    0.283303\n",
       "c    1.395227\n",
       "d    0.435774\n",
       "dtype: float64"
      ]
     },
     "metadata": {},
     "output_type": "display_data"
    }
   ],
   "source": [
    "display(dat8.max())"
   ]
  },
  {
   "cell_type": "code",
   "execution_count": 17,
   "id": "5cede777",
   "metadata": {},
   "outputs": [
    {
     "data": {
      "text/plain": [
       "0   -1.211417\n",
       "1   -0.792657\n",
       "2   -0.711776\n",
       "3    0.012829\n",
       "4   -1.367406\n",
       "dtype: float64"
      ]
     },
     "metadata": {},
     "output_type": "display_data"
    }
   ],
   "source": [
    "#skipna 排除缺失值， 默认为True\n",
    "display(dat8.min(axis=1, skipna=False))"
   ]
  },
  {
   "attachments": {},
   "cell_type": "markdown",
   "id": "4cccc7fa",
   "metadata": {},
   "source": [
    "## 常用的统计描述"
   ]
  },
  {
   "cell_type": "code",
   "execution_count": 18,
   "id": "99319324",
   "metadata": {},
   "outputs": [
    {
     "data": {
      "text/html": [
       "<div>\n",
       "<style scoped>\n",
       "    .dataframe tbody tr th:only-of-type {\n",
       "        vertical-align: middle;\n",
       "    }\n",
       "\n",
       "    .dataframe tbody tr th {\n",
       "        vertical-align: top;\n",
       "    }\n",
       "\n",
       "    .dataframe thead th {\n",
       "        text-align: right;\n",
       "    }\n",
       "</style>\n",
       "<table border=\"1\" class=\"dataframe\">\n",
       "  <thead>\n",
       "    <tr style=\"text-align: right;\">\n",
       "      <th></th>\n",
       "      <th>a</th>\n",
       "      <th>b</th>\n",
       "      <th>c</th>\n",
       "      <th>d</th>\n",
       "    </tr>\n",
       "  </thead>\n",
       "  <tbody>\n",
       "    <tr>\n",
       "      <th>count</th>\n",
       "      <td>5.000000</td>\n",
       "      <td>5.000000</td>\n",
       "      <td>5.000000</td>\n",
       "      <td>5.000000</td>\n",
       "    </tr>\n",
       "    <tr>\n",
       "      <th>mean</th>\n",
       "      <td>0.098257</td>\n",
       "      <td>-0.404801</td>\n",
       "      <td>0.067992</td>\n",
       "      <td>-0.192089</td>\n",
       "    </tr>\n",
       "    <tr>\n",
       "      <th>std</th>\n",
       "      <td>0.612302</td>\n",
       "      <td>0.615771</td>\n",
       "      <td>1.055568</td>\n",
       "      <td>0.454046</td>\n",
       "    </tr>\n",
       "    <tr>\n",
       "      <th>min</th>\n",
       "      <td>-0.633184</td>\n",
       "      <td>-1.367406</td>\n",
       "      <td>-1.211417</td>\n",
       "      <td>-0.792657</td>\n",
       "    </tr>\n",
       "    <tr>\n",
       "      <th>25%</th>\n",
       "      <td>-0.403026</td>\n",
       "      <td>-0.515188</td>\n",
       "      <td>-0.711776</td>\n",
       "      <td>-0.328012</td>\n",
       "    </tr>\n",
       "    <tr>\n",
       "      <th>50%</th>\n",
       "      <td>0.309186</td>\n",
       "      <td>-0.335533</td>\n",
       "      <td>0.131844</td>\n",
       "      <td>-0.288377</td>\n",
       "    </tr>\n",
       "    <tr>\n",
       "      <th>75%</th>\n",
       "      <td>0.338188</td>\n",
       "      <td>-0.089179</td>\n",
       "      <td>0.736081</td>\n",
       "      <td>0.012829</td>\n",
       "    </tr>\n",
       "    <tr>\n",
       "      <th>max</th>\n",
       "      <td>0.880119</td>\n",
       "      <td>0.283303</td>\n",
       "      <td>1.395227</td>\n",
       "      <td>0.435774</td>\n",
       "    </tr>\n",
       "  </tbody>\n",
       "</table>\n",
       "</div>"
      ],
      "text/plain": [
       "              a         b         c         d\n",
       "count  5.000000  5.000000  5.000000  5.000000\n",
       "mean   0.098257 -0.404801  0.067992 -0.192089\n",
       "std    0.612302  0.615771  1.055568  0.454046\n",
       "min   -0.633184 -1.367406 -1.211417 -0.792657\n",
       "25%   -0.403026 -0.515188 -0.711776 -0.328012\n",
       "50%    0.309186 -0.335533  0.131844 -0.288377\n",
       "75%    0.338188 -0.089179  0.736081  0.012829\n",
       "max    0.880119  0.283303  1.395227  0.435774"
      ]
     },
     "metadata": {},
     "output_type": "display_data"
    }
   ],
   "source": [
    "# 1.describe 产生多个统计数据\n",
    "display(dat8.describe())"
   ]
  },
  {
   "cell_type": "markdown",
   "id": "d144bbab",
   "metadata": {},
   "source": [
    "## 缺失值处理"
   ]
  },
  {
   "cell_type": "code",
   "execution_count": 19,
   "id": "c26eab86",
   "metadata": {},
   "outputs": [
    {
     "data": {
      "text/html": [
       "<div>\n",
       "<style scoped>\n",
       "    .dataframe tbody tr th:only-of-type {\n",
       "        vertical-align: middle;\n",
       "    }\n",
       "\n",
       "    .dataframe tbody tr th {\n",
       "        vertical-align: top;\n",
       "    }\n",
       "\n",
       "    .dataframe thead th {\n",
       "        text-align: right;\n",
       "    }\n",
       "</style>\n",
       "<table border=\"1\" class=\"dataframe\">\n",
       "  <thead>\n",
       "    <tr style=\"text-align: right;\">\n",
       "      <th></th>\n",
       "      <th>Rank</th>\n",
       "      <th>Title</th>\n",
       "      <th>Genre</th>\n",
       "      <th>Description</th>\n",
       "      <th>Director</th>\n",
       "      <th>Actors</th>\n",
       "      <th>Year</th>\n",
       "      <th>Runtime (Minutes)</th>\n",
       "      <th>Rating</th>\n",
       "      <th>Votes</th>\n",
       "      <th>Revenue (Millions)</th>\n",
       "      <th>Metascore</th>\n",
       "    </tr>\n",
       "  </thead>\n",
       "  <tbody>\n",
       "    <tr>\n",
       "      <th>0</th>\n",
       "      <td>1</td>\n",
       "      <td>Guardians of the Galaxy</td>\n",
       "      <td>Action,Adventure,Sci-Fi</td>\n",
       "      <td>A group of intergalactic criminals are forced ...</td>\n",
       "      <td>James Gunn</td>\n",
       "      <td>Chris Pratt, Vin Diesel, Bradley Cooper, Zoe S...</td>\n",
       "      <td>2014</td>\n",
       "      <td>121</td>\n",
       "      <td>8.1</td>\n",
       "      <td>757074</td>\n",
       "      <td>333.13</td>\n",
       "      <td>76.0</td>\n",
       "    </tr>\n",
       "    <tr>\n",
       "      <th>1</th>\n",
       "      <td>2</td>\n",
       "      <td>Prometheus</td>\n",
       "      <td>Adventure,Mystery,Sci-Fi</td>\n",
       "      <td>Following clues to the origin of mankind, a te...</td>\n",
       "      <td>Ridley Scott</td>\n",
       "      <td>Noomi Rapace, Logan Marshall-Green, Michael Fa...</td>\n",
       "      <td>2012</td>\n",
       "      <td>124</td>\n",
       "      <td>7.0</td>\n",
       "      <td>485820</td>\n",
       "      <td>126.46</td>\n",
       "      <td>65.0</td>\n",
       "    </tr>\n",
       "    <tr>\n",
       "      <th>2</th>\n",
       "      <td>3</td>\n",
       "      <td>Split</td>\n",
       "      <td>Horror,Thriller</td>\n",
       "      <td>Three girls are kidnapped by a man with a diag...</td>\n",
       "      <td>M. Night Shyamalan</td>\n",
       "      <td>James McAvoy, Anya Taylor-Joy, Haley Lu Richar...</td>\n",
       "      <td>2016</td>\n",
       "      <td>117</td>\n",
       "      <td>7.3</td>\n",
       "      <td>157606</td>\n",
       "      <td>138.12</td>\n",
       "      <td>62.0</td>\n",
       "    </tr>\n",
       "    <tr>\n",
       "      <th>3</th>\n",
       "      <td>4</td>\n",
       "      <td>Sing</td>\n",
       "      <td>Animation,Comedy,Family</td>\n",
       "      <td>In a city of humanoid animals, a hustling thea...</td>\n",
       "      <td>Christophe Lourdelet</td>\n",
       "      <td>Matthew McConaughey,Reese Witherspoon, Seth Ma...</td>\n",
       "      <td>2016</td>\n",
       "      <td>108</td>\n",
       "      <td>7.2</td>\n",
       "      <td>60545</td>\n",
       "      <td>270.32</td>\n",
       "      <td>59.0</td>\n",
       "    </tr>\n",
       "    <tr>\n",
       "      <th>4</th>\n",
       "      <td>5</td>\n",
       "      <td>Suicide Squad</td>\n",
       "      <td>Action,Adventure,Fantasy</td>\n",
       "      <td>A secret government agency recruits some of th...</td>\n",
       "      <td>David Ayer</td>\n",
       "      <td>Will Smith, Jared Leto, Margot Robbie, Viola D...</td>\n",
       "      <td>2016</td>\n",
       "      <td>123</td>\n",
       "      <td>6.2</td>\n",
       "      <td>393727</td>\n",
       "      <td>325.02</td>\n",
       "      <td>40.0</td>\n",
       "    </tr>\n",
       "  </tbody>\n",
       "</table>\n",
       "</div>"
      ],
      "text/plain": [
       "   Rank                    Title                     Genre  \\\n",
       "0     1  Guardians of the Galaxy   Action,Adventure,Sci-Fi   \n",
       "1     2               Prometheus  Adventure,Mystery,Sci-Fi   \n",
       "2     3                    Split           Horror,Thriller   \n",
       "3     4                     Sing   Animation,Comedy,Family   \n",
       "4     5            Suicide Squad  Action,Adventure,Fantasy   \n",
       "\n",
       "                                         Description              Director  \\\n",
       "0  A group of intergalactic criminals are forced ...            James Gunn   \n",
       "1  Following clues to the origin of mankind, a te...          Ridley Scott   \n",
       "2  Three girls are kidnapped by a man with a diag...    M. Night Shyamalan   \n",
       "3  In a city of humanoid animals, a hustling thea...  Christophe Lourdelet   \n",
       "4  A secret government agency recruits some of th...            David Ayer   \n",
       "\n",
       "                                              Actors  Year  Runtime (Minutes)  \\\n",
       "0  Chris Pratt, Vin Diesel, Bradley Cooper, Zoe S...  2014                121   \n",
       "1  Noomi Rapace, Logan Marshall-Green, Michael Fa...  2012                124   \n",
       "2  James McAvoy, Anya Taylor-Joy, Haley Lu Richar...  2016                117   \n",
       "3  Matthew McConaughey,Reese Witherspoon, Seth Ma...  2016                108   \n",
       "4  Will Smith, Jared Leto, Margot Robbie, Viola D...  2016                123   \n",
       "\n",
       "   Rating   Votes  Revenue (Millions)  Metascore  \n",
       "0     8.1  757074              333.13       76.0  \n",
       "1     7.0  485820              126.46       65.0  \n",
       "2     7.3  157606              138.12       62.0  \n",
       "3     7.2   60545              270.32       59.0  \n",
       "4     6.2  393727              325.02       40.0  "
      ]
     },
     "metadata": {},
     "output_type": "display_data"
    }
   ],
   "source": [
    "# 1.导入data\n",
    "movie = pd.read_csv(\"./data/IMDB-Movie-Data.csv\")\n",
    "display(movie.head())"
   ]
  },
  {
   "cell_type": "code",
   "execution_count": 20,
   "id": "5cfa54a5",
   "metadata": {},
   "outputs": [
    {
     "data": {
      "text/plain": [
       "True"
      ]
     },
     "execution_count": 20,
     "metadata": {},
     "output_type": "execute_result"
    }
   ],
   "source": [
    "# 2.判断缺失值\n",
    "# 2.1里面如果有一个缺失值,就返回True\n",
    "np.any(pd.isnull(movie))  "
   ]
  },
  {
   "cell_type": "code",
   "execution_count": 21,
   "id": "00f532bc",
   "metadata": {},
   "outputs": [
    {
     "data": {
      "text/plain": [
       "False"
      ]
     },
     "execution_count": 21,
     "metadata": {},
     "output_type": "execute_result"
    }
   ],
   "source": [
    "# 2.2里面如果有一个缺失值,就返回False\n",
    "np.all(pd.notnull(movie))  "
   ]
  },
  {
   "cell_type": "code",
   "execution_count": 23,
   "id": "8d05e96d",
   "metadata": {},
   "outputs": [
    {
     "data": {
      "text/plain": [
       "False"
      ]
     },
     "execution_count": 23,
     "metadata": {},
     "output_type": "execute_result"
    }
   ],
   "source": [
    "# 3.去除缺失值\n",
    "data = movie.dropna()\n",
    "np.any(pd.isnull(data))"
   ]
  },
  {
   "attachments": {},
   "cell_type": "markdown",
   "id": "3fafe364",
   "metadata": {},
   "source": [
    "# Pandas分组与聚合"
   ]
  },
  {
   "attachments": {},
   "cell_type": "markdown",
   "id": "ca5acd92",
   "metadata": {},
   "source": [
    "## 分组 (groupby)"
   ]
  },
  {
   "cell_type": "code",
   "execution_count": null,
   "id": "8ddc8f13",
   "metadata": {},
   "outputs": [],
   "source": [
    "# * 对数据集进行分组，然后对每组进行统计分析\n",
    "\n",
    "# * SQL能够对数据进行过滤，分组聚合\n",
    "\n",
    "# * pandas能利用groupby进行更加复杂的分组运算\n",
    "\n",
    "# * 分组运算过程：split->apply->combine\n",
    "\n",
    "# 1. 拆分：进行分组的根据\n",
    "\n",
    "# 2. 应用：每个分组运行的计算规则\n",
    "\n",
    "# 3. 合并：把每个分组的计算结果合并起来"
   ]
  },
  {
   "cell_type": "code",
   "execution_count": 2,
   "id": "4b570df4",
   "metadata": {},
   "outputs": [
    {
     "data": {
      "text/html": [
       "<div>\n",
       "<style scoped>\n",
       "    .dataframe tbody tr th:only-of-type {\n",
       "        vertical-align: middle;\n",
       "    }\n",
       "\n",
       "    .dataframe tbody tr th {\n",
       "        vertical-align: top;\n",
       "    }\n",
       "\n",
       "    .dataframe thead th {\n",
       "        text-align: right;\n",
       "    }\n",
       "</style>\n",
       "<table border=\"1\" class=\"dataframe\">\n",
       "  <thead>\n",
       "    <tr style=\"text-align: right;\">\n",
       "      <th></th>\n",
       "      <th>key1</th>\n",
       "      <th>key2</th>\n",
       "      <th>data1</th>\n",
       "      <th>data2</th>\n",
       "    </tr>\n",
       "  </thead>\n",
       "  <tbody>\n",
       "    <tr>\n",
       "      <th>0</th>\n",
       "      <td>a</td>\n",
       "      <td>one</td>\n",
       "      <td>0.087080</td>\n",
       "      <td>-0.181023</td>\n",
       "    </tr>\n",
       "    <tr>\n",
       "      <th>1</th>\n",
       "      <td>b</td>\n",
       "      <td>one</td>\n",
       "      <td>-1.460627</td>\n",
       "      <td>-0.371783</td>\n",
       "    </tr>\n",
       "    <tr>\n",
       "      <th>2</th>\n",
       "      <td>a</td>\n",
       "      <td>two</td>\n",
       "      <td>0.029736</td>\n",
       "      <td>-1.777923</td>\n",
       "    </tr>\n",
       "    <tr>\n",
       "      <th>3</th>\n",
       "      <td>b</td>\n",
       "      <td>three</td>\n",
       "      <td>2.837833</td>\n",
       "      <td>-0.621131</td>\n",
       "    </tr>\n",
       "    <tr>\n",
       "      <th>4</th>\n",
       "      <td>a</td>\n",
       "      <td>two</td>\n",
       "      <td>1.512322</td>\n",
       "      <td>-1.200086</td>\n",
       "    </tr>\n",
       "    <tr>\n",
       "      <th>5</th>\n",
       "      <td>b</td>\n",
       "      <td>two</td>\n",
       "      <td>1.666812</td>\n",
       "      <td>-1.162930</td>\n",
       "    </tr>\n",
       "    <tr>\n",
       "      <th>6</th>\n",
       "      <td>a</td>\n",
       "      <td>one</td>\n",
       "      <td>-0.307175</td>\n",
       "      <td>-0.781217</td>\n",
       "    </tr>\n",
       "    <tr>\n",
       "      <th>7</th>\n",
       "      <td>a</td>\n",
       "      <td>three</td>\n",
       "      <td>0.457428</td>\n",
       "      <td>-1.022914</td>\n",
       "    </tr>\n",
       "  </tbody>\n",
       "</table>\n",
       "</div>"
      ],
      "text/plain": [
       "  key1   key2     data1     data2\n",
       "0    a    one  0.087080 -0.181023\n",
       "1    b    one -1.460627 -0.371783\n",
       "2    a    two  0.029736 -1.777923\n",
       "3    b  three  2.837833 -0.621131\n",
       "4    a    two  1.512322 -1.200086\n",
       "5    b    two  1.666812 -1.162930\n",
       "6    a    one -0.307175 -0.781217\n",
       "7    a  three  0.457428 -1.022914"
      ]
     },
     "metadata": {},
     "output_type": "display_data"
    }
   ],
   "source": [
    "dict_obj={  \"key1\":['a', 'b', 'a', 'b', \n",
    "                      'a', 'b', 'a', 'a'],\n",
    "            'key2' : ['one', 'one', 'two', 'three',\n",
    "                      'two', 'two', 'one', 'three'],\n",
    "            'data1': np.random.randn(8),\n",
    "            'data2': np.random.randn(8)}\n",
    "data=pd.DataFrame(dict_obj)\n",
    "display(data)"
   ]
  },
  {
   "attachments": {},
   "cell_type": "markdown",
   "id": "39475a17",
   "metadata": {},
   "source": [
    "### GroupBy对象：DataFrameGroupBy，SeriesGroupBy"
   ]
  },
  {
   "attachments": {},
   "cell_type": "markdown",
   "id": "17bb45f7",
   "metadata": {},
   "source": [
    "#### 1. 分组操作"
   ]
  },
  {
   "cell_type": "code",
   "execution_count": null,
   "id": "64f61628",
   "metadata": {},
   "outputs": [],
   "source": [
    "# groupby()进行分组，GroupBy对象没有进行实际运算，只是包含分组的中间数据\n",
    "# 按列名分组：obj.groupby(‘label’)"
   ]
  },
  {
   "cell_type": "code",
   "execution_count": 3,
   "id": "7c7926da",
   "metadata": {},
   "outputs": [
    {
     "data": {
      "text/plain": [
       "pandas.core.groupby.generic.DataFrameGroupBy"
      ]
     },
     "metadata": {},
     "output_type": "display_data"
    }
   ],
   "source": [
    "display(type(data.groupby('key1')))"
   ]
  },
  {
   "cell_type": "code",
   "execution_count": 4,
   "id": "f669d656",
   "metadata": {},
   "outputs": [
    {
     "data": {
      "text/plain": [
       "<pandas.core.groupby.generic.SeriesGroupBy object at 0x0000022E256D3610>"
      ]
     },
     "metadata": {},
     "output_type": "display_data"
    }
   ],
   "source": [
    "# dataframe的 data1 列根据 key1 进行分组\n",
    "display(data['data1'].groupby(data['key1']))"
   ]
  },
  {
   "attachments": {},
   "cell_type": "markdown",
   "id": "d3eff88a",
   "metadata": {},
   "source": [
    "#### 2. 分组运算"
   ]
  },
  {
   "cell_type": "code",
   "execution_count": null,
   "id": "eb261c7b",
   "metadata": {},
   "outputs": [],
   "source": [
    "# 对GroupBy对象进行分组运算/多重分组运算，如mean()\n",
    "# 非数值数据不进行分组运算"
   ]
  },
  {
   "cell_type": "code",
   "execution_count": 5,
   "id": "797ce16d",
   "metadata": {},
   "outputs": [
    {
     "data": {
      "text/html": [
       "<div>\n",
       "<style scoped>\n",
       "    .dataframe tbody tr th:only-of-type {\n",
       "        vertical-align: middle;\n",
       "    }\n",
       "\n",
       "    .dataframe tbody tr th {\n",
       "        vertical-align: top;\n",
       "    }\n",
       "\n",
       "    .dataframe thead th {\n",
       "        text-align: right;\n",
       "    }\n",
       "</style>\n",
       "<table border=\"1\" class=\"dataframe\">\n",
       "  <thead>\n",
       "    <tr style=\"text-align: right;\">\n",
       "      <th></th>\n",
       "      <th>data1</th>\n",
       "      <th>data2</th>\n",
       "    </tr>\n",
       "    <tr>\n",
       "      <th>key1</th>\n",
       "      <th></th>\n",
       "      <th></th>\n",
       "    </tr>\n",
       "  </thead>\n",
       "  <tbody>\n",
       "    <tr>\n",
       "      <th>a</th>\n",
       "      <td>0.355878</td>\n",
       "      <td>-0.992632</td>\n",
       "    </tr>\n",
       "    <tr>\n",
       "      <th>b</th>\n",
       "      <td>1.014673</td>\n",
       "      <td>-0.718615</td>\n",
       "    </tr>\n",
       "  </tbody>\n",
       "</table>\n",
       "</div>"
      ],
      "text/plain": [
       "         data1     data2\n",
       "key1                    \n",
       "a     0.355878 -0.992632\n",
       "b     1.014673 -0.718615"
      ]
     },
     "metadata": {},
     "output_type": "display_data"
    },
    {
     "data": {
      "text/plain": [
       "key1\n",
       "a    0.355878\n",
       "b    1.014673\n",
       "Name: data1, dtype: float64"
      ]
     },
     "metadata": {},
     "output_type": "display_data"
    }
   ],
   "source": [
    "# 分组运算\n",
    "grouped1 = data.groupby('key1')\n",
    "display(grouped1.mean())\n",
    "grouped2 = data['data1'].groupby(data['key1'])\n",
    "display(grouped2.mean())"
   ]
  },
  {
   "cell_type": "code",
   "execution_count": 6,
   "id": "f1fb84ed",
   "metadata": {},
   "outputs": [
    {
     "name": "stdout",
     "output_type": "stream",
     "text": [
      "key1\n",
      "a    5\n",
      "b    3\n",
      "dtype: int64\n",
      "key1\n",
      "a    5\n",
      "b    3\n",
      "Name: data1, dtype: int64\n"
     ]
    }
   ],
   "source": [
    "# size() 返回每个分组的元素个数\n",
    "print(grouped1.size())\n",
    "print(grouped2.size())"
   ]
  },
  {
   "attachments": {},
   "cell_type": "markdown",
   "id": "d3ecdcfe",
   "metadata": {},
   "source": [
    "#### 3. 按自定义的key分组"
   ]
  },
  {
   "cell_type": "code",
   "execution_count": null,
   "id": "3d82a962",
   "metadata": {},
   "outputs": [],
   "source": [
    "# obj.groupby(self_def_key)\n",
    "# 自定义的key可为列表或多层列表\n",
    "# obj.groupby([‘label1’, ‘label2’])->多层dataframe"
   ]
  },
  {
   "cell_type": "code",
   "execution_count": 7,
   "id": "87fea327",
   "metadata": {},
   "outputs": [
    {
     "data": {
      "text/plain": [
       "0    1\n",
       "1    1\n",
       "2    1\n",
       "3    1\n",
       "4    1\n",
       "5    1\n",
       "6    1\n",
       "7    1\n",
       "dtype: int64"
      ]
     },
     "metadata": {},
     "output_type": "display_data"
    }
   ],
   "source": [
    "# 按自定义key分组，列表\n",
    "self_key = [0,1,2,3,4,5,6,7]\n",
    "display(data.groupby(self_key).size())"
   ]
  },
  {
   "cell_type": "code",
   "execution_count": 8,
   "id": "2a93eaf0",
   "metadata": {},
   "outputs": [
    {
     "data": {
      "text/plain": [
       "key1  key2 \n",
       "a     one      2\n",
       "      three    1\n",
       "      two      2\n",
       "b     one      1\n",
       "      three    1\n",
       "      two      1\n",
       "dtype: int64"
      ]
     },
     "metadata": {},
     "output_type": "display_data"
    }
   ],
   "source": [
    "# 按自定义key分组，多层列表\n",
    "display(data.groupby([data['key1'], data['key2']]).size())"
   ]
  },
  {
   "cell_type": "code",
   "execution_count": 9,
   "id": "a083608a",
   "metadata": {},
   "outputs": [
    {
     "name": "stdout",
     "output_type": "stream",
     "text": [
      "key1  key2 \n",
      "a     one      2\n",
      "      three    1\n",
      "      two      2\n",
      "b     one      1\n",
      "      three    1\n",
      "      two      1\n",
      "dtype: int64\n"
     ]
    }
   ],
   "source": [
    "# 按多个列多层分组\n",
    "grouped3 = data.groupby(['key1','key2'])\n",
    "print(grouped3.size())"
   ]
  },
  {
   "cell_type": "code",
   "execution_count": 10,
   "id": "a9737f45",
   "metadata": {},
   "outputs": [
    {
     "name": "stdout",
     "output_type": "stream",
     "text": [
      "               data1     data2\n",
      "key2  key1                    \n",
      "one   a    -0.110048 -0.481120\n",
      "      b    -1.460627 -0.371783\n",
      "three a     0.457428 -1.022914\n",
      "      b     2.837833 -0.621131\n",
      "two   a     0.771029 -1.489004\n",
      "      b     1.666812 -1.162930\n"
     ]
    }
   ],
   "source": [
    "# 多层分组按key的顺序进行\n",
    "grouped4 = data.groupby(['key2','key1'])\n",
    "print(grouped4.mean())"
   ]
  },
  {
   "cell_type": "code",
   "execution_count": 11,
   "id": "7c4ee65a",
   "metadata": {},
   "outputs": [
    {
     "data": {
      "text/html": [
       "<div>\n",
       "<style scoped>\n",
       "    .dataframe tbody tr th:only-of-type {\n",
       "        vertical-align: middle;\n",
       "    }\n",
       "\n",
       "    .dataframe tbody tr th {\n",
       "        vertical-align: top;\n",
       "    }\n",
       "\n",
       "    .dataframe thead tr th {\n",
       "        text-align: left;\n",
       "    }\n",
       "\n",
       "    .dataframe thead tr:last-of-type th {\n",
       "        text-align: right;\n",
       "    }\n",
       "</style>\n",
       "<table border=\"1\" class=\"dataframe\">\n",
       "  <thead>\n",
       "    <tr>\n",
       "      <th></th>\n",
       "      <th colspan=\"3\" halign=\"left\">data1</th>\n",
       "      <th colspan=\"3\" halign=\"left\">data2</th>\n",
       "    </tr>\n",
       "    <tr>\n",
       "      <th>key2</th>\n",
       "      <th>one</th>\n",
       "      <th>three</th>\n",
       "      <th>two</th>\n",
       "      <th>one</th>\n",
       "      <th>three</th>\n",
       "      <th>two</th>\n",
       "    </tr>\n",
       "    <tr>\n",
       "      <th>key1</th>\n",
       "      <th></th>\n",
       "      <th></th>\n",
       "      <th></th>\n",
       "      <th></th>\n",
       "      <th></th>\n",
       "      <th></th>\n",
       "    </tr>\n",
       "  </thead>\n",
       "  <tbody>\n",
       "    <tr>\n",
       "      <th>a</th>\n",
       "      <td>-0.110048</td>\n",
       "      <td>0.457428</td>\n",
       "      <td>0.771029</td>\n",
       "      <td>-0.481120</td>\n",
       "      <td>-1.022914</td>\n",
       "      <td>-1.489004</td>\n",
       "    </tr>\n",
       "    <tr>\n",
       "      <th>b</th>\n",
       "      <td>-1.460627</td>\n",
       "      <td>2.837833</td>\n",
       "      <td>1.666812</td>\n",
       "      <td>-0.371783</td>\n",
       "      <td>-0.621131</td>\n",
       "      <td>-1.162930</td>\n",
       "    </tr>\n",
       "  </tbody>\n",
       "</table>\n",
       "</div>"
      ],
      "text/plain": [
       "         data1                         data2                    \n",
       "key2       one     three       two       one     three       two\n",
       "key1                                                            \n",
       "a    -0.110048  0.457428  0.771029 -0.481120 -1.022914 -1.489004\n",
       "b    -1.460627  2.837833  1.666812 -0.371783 -0.621131 -1.162930"
      ]
     },
     "metadata": {},
     "output_type": "display_data"
    }
   ],
   "source": [
    "# unstack可以将多层索引的结果转换成单层的dataframe\n",
    "display(grouped3.mean().unstack())"
   ]
  },
  {
   "attachments": {},
   "cell_type": "markdown",
   "id": "1b45787d",
   "metadata": {},
   "source": [
    "### 二、GroupBy对象支持迭代操作"
   ]
  },
  {
   "cell_type": "code",
   "execution_count": null,
   "id": "b4596613",
   "metadata": {},
   "outputs": [],
   "source": [
    "# 每次迭代返回一个元组 (group_name, group_data)\n",
    "# 可用于分组数据的具体运算"
   ]
  },
  {
   "attachments": {},
   "cell_type": "markdown",
   "id": "9ef970bd",
   "metadata": {},
   "source": [
    "#### 1. 单层分组"
   ]
  },
  {
   "cell_type": "code",
   "execution_count": 12,
   "id": "db576547",
   "metadata": {},
   "outputs": [
    {
     "data": {
      "text/plain": [
       "'a'"
      ]
     },
     "metadata": {},
     "output_type": "display_data"
    },
    {
     "data": {
      "text/html": [
       "<div>\n",
       "<style scoped>\n",
       "    .dataframe tbody tr th:only-of-type {\n",
       "        vertical-align: middle;\n",
       "    }\n",
       "\n",
       "    .dataframe tbody tr th {\n",
       "        vertical-align: top;\n",
       "    }\n",
       "\n",
       "    .dataframe thead th {\n",
       "        text-align: right;\n",
       "    }\n",
       "</style>\n",
       "<table border=\"1\" class=\"dataframe\">\n",
       "  <thead>\n",
       "    <tr style=\"text-align: right;\">\n",
       "      <th></th>\n",
       "      <th>key1</th>\n",
       "      <th>key2</th>\n",
       "      <th>data1</th>\n",
       "      <th>data2</th>\n",
       "    </tr>\n",
       "  </thead>\n",
       "  <tbody>\n",
       "    <tr>\n",
       "      <th>0</th>\n",
       "      <td>a</td>\n",
       "      <td>one</td>\n",
       "      <td>0.087080</td>\n",
       "      <td>-0.181023</td>\n",
       "    </tr>\n",
       "    <tr>\n",
       "      <th>2</th>\n",
       "      <td>a</td>\n",
       "      <td>two</td>\n",
       "      <td>0.029736</td>\n",
       "      <td>-1.777923</td>\n",
       "    </tr>\n",
       "    <tr>\n",
       "      <th>4</th>\n",
       "      <td>a</td>\n",
       "      <td>two</td>\n",
       "      <td>1.512322</td>\n",
       "      <td>-1.200086</td>\n",
       "    </tr>\n",
       "    <tr>\n",
       "      <th>6</th>\n",
       "      <td>a</td>\n",
       "      <td>one</td>\n",
       "      <td>-0.307175</td>\n",
       "      <td>-0.781217</td>\n",
       "    </tr>\n",
       "    <tr>\n",
       "      <th>7</th>\n",
       "      <td>a</td>\n",
       "      <td>three</td>\n",
       "      <td>0.457428</td>\n",
       "      <td>-1.022914</td>\n",
       "    </tr>\n",
       "  </tbody>\n",
       "</table>\n",
       "</div>"
      ],
      "text/plain": [
       "  key1   key2     data1     data2\n",
       "0    a    one  0.087080 -0.181023\n",
       "2    a    two  0.029736 -1.777923\n",
       "4    a    two  1.512322 -1.200086\n",
       "6    a    one -0.307175 -0.781217\n",
       "7    a  three  0.457428 -1.022914"
      ]
     },
     "metadata": {},
     "output_type": "display_data"
    },
    {
     "data": {
      "text/plain": [
       "'b'"
      ]
     },
     "metadata": {},
     "output_type": "display_data"
    },
    {
     "data": {
      "text/html": [
       "<div>\n",
       "<style scoped>\n",
       "    .dataframe tbody tr th:only-of-type {\n",
       "        vertical-align: middle;\n",
       "    }\n",
       "\n",
       "    .dataframe tbody tr th {\n",
       "        vertical-align: top;\n",
       "    }\n",
       "\n",
       "    .dataframe thead th {\n",
       "        text-align: right;\n",
       "    }\n",
       "</style>\n",
       "<table border=\"1\" class=\"dataframe\">\n",
       "  <thead>\n",
       "    <tr style=\"text-align: right;\">\n",
       "      <th></th>\n",
       "      <th>key1</th>\n",
       "      <th>key2</th>\n",
       "      <th>data1</th>\n",
       "      <th>data2</th>\n",
       "    </tr>\n",
       "  </thead>\n",
       "  <tbody>\n",
       "    <tr>\n",
       "      <th>1</th>\n",
       "      <td>b</td>\n",
       "      <td>one</td>\n",
       "      <td>-1.460627</td>\n",
       "      <td>-0.371783</td>\n",
       "    </tr>\n",
       "    <tr>\n",
       "      <th>3</th>\n",
       "      <td>b</td>\n",
       "      <td>three</td>\n",
       "      <td>2.837833</td>\n",
       "      <td>-0.621131</td>\n",
       "    </tr>\n",
       "    <tr>\n",
       "      <th>5</th>\n",
       "      <td>b</td>\n",
       "      <td>two</td>\n",
       "      <td>1.666812</td>\n",
       "      <td>-1.162930</td>\n",
       "    </tr>\n",
       "  </tbody>\n",
       "</table>\n",
       "</div>"
      ],
      "text/plain": [
       "  key1   key2     data1     data2\n",
       "1    b    one -1.460627 -0.371783\n",
       "3    b  three  2.837833 -0.621131\n",
       "5    b    two  1.666812 -1.162930"
      ]
     },
     "metadata": {},
     "output_type": "display_data"
    }
   ],
   "source": [
    "# 单层分组，根据key1\n",
    "for g_name,g_data in grouped1:\n",
    "    display(g_name)\n",
    "    display(g_data)"
   ]
  },
  {
   "attachments": {},
   "cell_type": "markdown",
   "id": "9043b400",
   "metadata": {},
   "source": [
    "### 2. 多层分组"
   ]
  },
  {
   "cell_type": "code",
   "execution_count": 13,
   "id": "9b1e83c8",
   "metadata": {},
   "outputs": [
    {
     "data": {
      "text/plain": [
       "('a', 'one')"
      ]
     },
     "metadata": {},
     "output_type": "display_data"
    },
    {
     "data": {
      "text/html": [
       "<div>\n",
       "<style scoped>\n",
       "    .dataframe tbody tr th:only-of-type {\n",
       "        vertical-align: middle;\n",
       "    }\n",
       "\n",
       "    .dataframe tbody tr th {\n",
       "        vertical-align: top;\n",
       "    }\n",
       "\n",
       "    .dataframe thead th {\n",
       "        text-align: right;\n",
       "    }\n",
       "</style>\n",
       "<table border=\"1\" class=\"dataframe\">\n",
       "  <thead>\n",
       "    <tr style=\"text-align: right;\">\n",
       "      <th></th>\n",
       "      <th>key1</th>\n",
       "      <th>key2</th>\n",
       "      <th>data1</th>\n",
       "      <th>data2</th>\n",
       "    </tr>\n",
       "  </thead>\n",
       "  <tbody>\n",
       "    <tr>\n",
       "      <th>0</th>\n",
       "      <td>a</td>\n",
       "      <td>one</td>\n",
       "      <td>0.087080</td>\n",
       "      <td>-0.181023</td>\n",
       "    </tr>\n",
       "    <tr>\n",
       "      <th>6</th>\n",
       "      <td>a</td>\n",
       "      <td>one</td>\n",
       "      <td>-0.307175</td>\n",
       "      <td>-0.781217</td>\n",
       "    </tr>\n",
       "  </tbody>\n",
       "</table>\n",
       "</div>"
      ],
      "text/plain": [
       "  key1 key2     data1     data2\n",
       "0    a  one  0.087080 -0.181023\n",
       "6    a  one -0.307175 -0.781217"
      ]
     },
     "metadata": {},
     "output_type": "display_data"
    },
    {
     "data": {
      "text/plain": [
       "('a', 'three')"
      ]
     },
     "metadata": {},
     "output_type": "display_data"
    },
    {
     "data": {
      "text/html": [
       "<div>\n",
       "<style scoped>\n",
       "    .dataframe tbody tr th:only-of-type {\n",
       "        vertical-align: middle;\n",
       "    }\n",
       "\n",
       "    .dataframe tbody tr th {\n",
       "        vertical-align: top;\n",
       "    }\n",
       "\n",
       "    .dataframe thead th {\n",
       "        text-align: right;\n",
       "    }\n",
       "</style>\n",
       "<table border=\"1\" class=\"dataframe\">\n",
       "  <thead>\n",
       "    <tr style=\"text-align: right;\">\n",
       "      <th></th>\n",
       "      <th>key1</th>\n",
       "      <th>key2</th>\n",
       "      <th>data1</th>\n",
       "      <th>data2</th>\n",
       "    </tr>\n",
       "  </thead>\n",
       "  <tbody>\n",
       "    <tr>\n",
       "      <th>7</th>\n",
       "      <td>a</td>\n",
       "      <td>three</td>\n",
       "      <td>0.457428</td>\n",
       "      <td>-1.022914</td>\n",
       "    </tr>\n",
       "  </tbody>\n",
       "</table>\n",
       "</div>"
      ],
      "text/plain": [
       "  key1   key2     data1     data2\n",
       "7    a  three  0.457428 -1.022914"
      ]
     },
     "metadata": {},
     "output_type": "display_data"
    },
    {
     "data": {
      "text/plain": [
       "('a', 'two')"
      ]
     },
     "metadata": {},
     "output_type": "display_data"
    },
    {
     "data": {
      "text/html": [
       "<div>\n",
       "<style scoped>\n",
       "    .dataframe tbody tr th:only-of-type {\n",
       "        vertical-align: middle;\n",
       "    }\n",
       "\n",
       "    .dataframe tbody tr th {\n",
       "        vertical-align: top;\n",
       "    }\n",
       "\n",
       "    .dataframe thead th {\n",
       "        text-align: right;\n",
       "    }\n",
       "</style>\n",
       "<table border=\"1\" class=\"dataframe\">\n",
       "  <thead>\n",
       "    <tr style=\"text-align: right;\">\n",
       "      <th></th>\n",
       "      <th>key1</th>\n",
       "      <th>key2</th>\n",
       "      <th>data1</th>\n",
       "      <th>data2</th>\n",
       "    </tr>\n",
       "  </thead>\n",
       "  <tbody>\n",
       "    <tr>\n",
       "      <th>2</th>\n",
       "      <td>a</td>\n",
       "      <td>two</td>\n",
       "      <td>0.029736</td>\n",
       "      <td>-1.777923</td>\n",
       "    </tr>\n",
       "    <tr>\n",
       "      <th>4</th>\n",
       "      <td>a</td>\n",
       "      <td>two</td>\n",
       "      <td>1.512322</td>\n",
       "      <td>-1.200086</td>\n",
       "    </tr>\n",
       "  </tbody>\n",
       "</table>\n",
       "</div>"
      ],
      "text/plain": [
       "  key1 key2     data1     data2\n",
       "2    a  two  0.029736 -1.777923\n",
       "4    a  two  1.512322 -1.200086"
      ]
     },
     "metadata": {},
     "output_type": "display_data"
    },
    {
     "data": {
      "text/plain": [
       "('b', 'one')"
      ]
     },
     "metadata": {},
     "output_type": "display_data"
    },
    {
     "data": {
      "text/html": [
       "<div>\n",
       "<style scoped>\n",
       "    .dataframe tbody tr th:only-of-type {\n",
       "        vertical-align: middle;\n",
       "    }\n",
       "\n",
       "    .dataframe tbody tr th {\n",
       "        vertical-align: top;\n",
       "    }\n",
       "\n",
       "    .dataframe thead th {\n",
       "        text-align: right;\n",
       "    }\n",
       "</style>\n",
       "<table border=\"1\" class=\"dataframe\">\n",
       "  <thead>\n",
       "    <tr style=\"text-align: right;\">\n",
       "      <th></th>\n",
       "      <th>key1</th>\n",
       "      <th>key2</th>\n",
       "      <th>data1</th>\n",
       "      <th>data2</th>\n",
       "    </tr>\n",
       "  </thead>\n",
       "  <tbody>\n",
       "    <tr>\n",
       "      <th>1</th>\n",
       "      <td>b</td>\n",
       "      <td>one</td>\n",
       "      <td>-1.460627</td>\n",
       "      <td>-0.371783</td>\n",
       "    </tr>\n",
       "  </tbody>\n",
       "</table>\n",
       "</div>"
      ],
      "text/plain": [
       "  key1 key2     data1     data2\n",
       "1    b  one -1.460627 -0.371783"
      ]
     },
     "metadata": {},
     "output_type": "display_data"
    },
    {
     "data": {
      "text/plain": [
       "('b', 'three')"
      ]
     },
     "metadata": {},
     "output_type": "display_data"
    },
    {
     "data": {
      "text/html": [
       "<div>\n",
       "<style scoped>\n",
       "    .dataframe tbody tr th:only-of-type {\n",
       "        vertical-align: middle;\n",
       "    }\n",
       "\n",
       "    .dataframe tbody tr th {\n",
       "        vertical-align: top;\n",
       "    }\n",
       "\n",
       "    .dataframe thead th {\n",
       "        text-align: right;\n",
       "    }\n",
       "</style>\n",
       "<table border=\"1\" class=\"dataframe\">\n",
       "  <thead>\n",
       "    <tr style=\"text-align: right;\">\n",
       "      <th></th>\n",
       "      <th>key1</th>\n",
       "      <th>key2</th>\n",
       "      <th>data1</th>\n",
       "      <th>data2</th>\n",
       "    </tr>\n",
       "  </thead>\n",
       "  <tbody>\n",
       "    <tr>\n",
       "      <th>3</th>\n",
       "      <td>b</td>\n",
       "      <td>three</td>\n",
       "      <td>2.837833</td>\n",
       "      <td>-0.621131</td>\n",
       "    </tr>\n",
       "  </tbody>\n",
       "</table>\n",
       "</div>"
      ],
      "text/plain": [
       "  key1   key2     data1     data2\n",
       "3    b  three  2.837833 -0.621131"
      ]
     },
     "metadata": {},
     "output_type": "display_data"
    },
    {
     "data": {
      "text/plain": [
       "('b', 'two')"
      ]
     },
     "metadata": {},
     "output_type": "display_data"
    },
    {
     "data": {
      "text/html": [
       "<div>\n",
       "<style scoped>\n",
       "    .dataframe tbody tr th:only-of-type {\n",
       "        vertical-align: middle;\n",
       "    }\n",
       "\n",
       "    .dataframe tbody tr th {\n",
       "        vertical-align: top;\n",
       "    }\n",
       "\n",
       "    .dataframe thead th {\n",
       "        text-align: right;\n",
       "    }\n",
       "</style>\n",
       "<table border=\"1\" class=\"dataframe\">\n",
       "  <thead>\n",
       "    <tr style=\"text-align: right;\">\n",
       "      <th></th>\n",
       "      <th>key1</th>\n",
       "      <th>key2</th>\n",
       "      <th>data1</th>\n",
       "      <th>data2</th>\n",
       "    </tr>\n",
       "  </thead>\n",
       "  <tbody>\n",
       "    <tr>\n",
       "      <th>5</th>\n",
       "      <td>b</td>\n",
       "      <td>two</td>\n",
       "      <td>1.666812</td>\n",
       "      <td>-1.16293</td>\n",
       "    </tr>\n",
       "  </tbody>\n",
       "</table>\n",
       "</div>"
      ],
      "text/plain": [
       "  key1 key2     data1    data2\n",
       "5    b  two  1.666812 -1.16293"
      ]
     },
     "metadata": {},
     "output_type": "display_data"
    }
   ],
   "source": [
    "# 多层分组，根据key1 和 key2\n",
    "for g1_name,g1_data in grouped3:\n",
    "    display(g1_name)\n",
    "    display(g1_data)"
   ]
  },
  {
   "attachments": {},
   "cell_type": "markdown",
   "id": "79f45aa6",
   "metadata": {},
   "source": [
    "### 三、GroupBy对象可以转换成列表或字典"
   ]
  },
  {
   "cell_type": "code",
   "execution_count": 14,
   "id": "c3bdc094",
   "metadata": {},
   "outputs": [
    {
     "data": {
      "text/plain": [
       "[('a',\n",
       "    key1   key2     data1     data2\n",
       "  0    a    one  0.087080 -0.181023\n",
       "  2    a    two  0.029736 -1.777923\n",
       "  4    a    two  1.512322 -1.200086\n",
       "  6    a    one -0.307175 -0.781217\n",
       "  7    a  three  0.457428 -1.022914),\n",
       " ('b',\n",
       "    key1   key2     data1     data2\n",
       "  1    b    one -1.460627 -0.371783\n",
       "  3    b  three  2.837833 -0.621131\n",
       "  5    b    two  1.666812 -1.162930)]"
      ]
     },
     "metadata": {},
     "output_type": "display_data"
    }
   ],
   "source": [
    "# GroupBy对象转换list\n",
    "display(list(grouped1))"
   ]
  },
  {
   "cell_type": "code",
   "execution_count": 15,
   "id": "87b00adb",
   "metadata": {},
   "outputs": [
    {
     "data": {
      "text/plain": [
       "{'a':   key1   key2     data1     data2\n",
       " 0    a    one  0.087080 -0.181023\n",
       " 2    a    two  0.029736 -1.777923\n",
       " 4    a    two  1.512322 -1.200086\n",
       " 6    a    one -0.307175 -0.781217\n",
       " 7    a  three  0.457428 -1.022914,\n",
       " 'b':   key1   key2     data1     data2\n",
       " 1    b    one -1.460627 -0.371783\n",
       " 3    b  three  2.837833 -0.621131\n",
       " 5    b    two  1.666812 -1.162930}"
      ]
     },
     "metadata": {},
     "output_type": "display_data"
    }
   ],
   "source": [
    "# GroupBy对象转换dict\n",
    "display(dict(list(grouped1)))"
   ]
  },
  {
   "attachments": {},
   "cell_type": "markdown",
   "id": "90473f00",
   "metadata": {},
   "source": [
    "#### 1. 按列分组、按数据类型分组"
   ]
  },
  {
   "cell_type": "code",
   "execution_count": 16,
   "id": "cb6d7c48",
   "metadata": {},
   "outputs": [
    {
     "data": {
      "text/plain": [
       "key1      object\n",
       "key2      object\n",
       "data1    float64\n",
       "data2    float64\n",
       "dtype: object"
      ]
     },
     "metadata": {},
     "output_type": "display_data"
    }
   ],
   "source": [
    "# 按列分组\n",
    "display(data.dtypes)"
   ]
  },
  {
   "cell_type": "code",
   "execution_count": 17,
   "id": "5bf0ece8",
   "metadata": {},
   "outputs": [
    {
     "data": {
      "text/plain": [
       "float64    2\n",
       "object     2\n",
       "dtype: int64"
      ]
     },
     "metadata": {},
     "output_type": "display_data"
    },
    {
     "data": {
      "text/html": [
       "<div>\n",
       "<style scoped>\n",
       "    .dataframe tbody tr th:only-of-type {\n",
       "        vertical-align: middle;\n",
       "    }\n",
       "\n",
       "    .dataframe tbody tr th {\n",
       "        vertical-align: top;\n",
       "    }\n",
       "\n",
       "    .dataframe thead th {\n",
       "        text-align: right;\n",
       "    }\n",
       "</style>\n",
       "<table border=\"1\" class=\"dataframe\">\n",
       "  <thead>\n",
       "    <tr style=\"text-align: right;\">\n",
       "      <th></th>\n",
       "      <th>float64</th>\n",
       "      <th>object</th>\n",
       "    </tr>\n",
       "  </thead>\n",
       "  <tbody>\n",
       "    <tr>\n",
       "      <th>0</th>\n",
       "      <td>-0.093943</td>\n",
       "      <td>aone</td>\n",
       "    </tr>\n",
       "    <tr>\n",
       "      <th>1</th>\n",
       "      <td>-1.832409</td>\n",
       "      <td>bone</td>\n",
       "    </tr>\n",
       "    <tr>\n",
       "      <th>2</th>\n",
       "      <td>-1.748187</td>\n",
       "      <td>atwo</td>\n",
       "    </tr>\n",
       "    <tr>\n",
       "      <th>3</th>\n",
       "      <td>2.216701</td>\n",
       "      <td>bthree</td>\n",
       "    </tr>\n",
       "    <tr>\n",
       "      <th>4</th>\n",
       "      <td>0.312237</td>\n",
       "      <td>atwo</td>\n",
       "    </tr>\n",
       "    <tr>\n",
       "      <th>5</th>\n",
       "      <td>0.503882</td>\n",
       "      <td>btwo</td>\n",
       "    </tr>\n",
       "    <tr>\n",
       "      <th>6</th>\n",
       "      <td>-1.088392</td>\n",
       "      <td>aone</td>\n",
       "    </tr>\n",
       "    <tr>\n",
       "      <th>7</th>\n",
       "      <td>-0.565486</td>\n",
       "      <td>athree</td>\n",
       "    </tr>\n",
       "  </tbody>\n",
       "</table>\n",
       "</div>"
      ],
      "text/plain": [
       "    float64  object\n",
       "0 -0.093943    aone\n",
       "1 -1.832409    bone\n",
       "2 -1.748187    atwo\n",
       "3  2.216701  bthree\n",
       "4  0.312237    atwo\n",
       "5  0.503882    btwo\n",
       "6 -1.088392    aone\n",
       "7 -0.565486  athree"
      ]
     },
     "metadata": {},
     "output_type": "display_data"
    }
   ],
   "source": [
    "# 按数据类型分组\n",
    "display(data.groupby(data.dtypes,axis=1).size())\n",
    "display(data.groupby(data.dtypes,axis=1).sum())"
   ]
  },
  {
   "attachments": {},
   "cell_type": "markdown",
   "id": "7e829a09",
   "metadata": {},
   "source": [
    "#### 2. 其他分组方法"
   ]
  },
  {
   "cell_type": "code",
   "execution_count": 19,
   "id": "6cb26fc8",
   "metadata": {},
   "outputs": [
    {
     "data": {
      "text/html": [
       "<div>\n",
       "<style scoped>\n",
       "    .dataframe tbody tr th:only-of-type {\n",
       "        vertical-align: middle;\n",
       "    }\n",
       "\n",
       "    .dataframe tbody tr th {\n",
       "        vertical-align: top;\n",
       "    }\n",
       "\n",
       "    .dataframe thead th {\n",
       "        text-align: right;\n",
       "    }\n",
       "</style>\n",
       "<table border=\"1\" class=\"dataframe\">\n",
       "  <thead>\n",
       "    <tr style=\"text-align: right;\">\n",
       "      <th></th>\n",
       "      <th>a</th>\n",
       "      <th>b</th>\n",
       "      <th>c</th>\n",
       "      <th>d</th>\n",
       "      <th>e</th>\n",
       "    </tr>\n",
       "  </thead>\n",
       "  <tbody>\n",
       "    <tr>\n",
       "      <th>A</th>\n",
       "      <td>3</td>\n",
       "      <td>8.0</td>\n",
       "      <td>3.0</td>\n",
       "      <td>8.0</td>\n",
       "      <td>7</td>\n",
       "    </tr>\n",
       "    <tr>\n",
       "      <th>B</th>\n",
       "      <td>6</td>\n",
       "      <td>NaN</td>\n",
       "      <td>NaN</td>\n",
       "      <td>NaN</td>\n",
       "      <td>9</td>\n",
       "    </tr>\n",
       "    <tr>\n",
       "      <th>C</th>\n",
       "      <td>6</td>\n",
       "      <td>4.0</td>\n",
       "      <td>2.0</td>\n",
       "      <td>7.0</td>\n",
       "      <td>6</td>\n",
       "    </tr>\n",
       "    <tr>\n",
       "      <th>D</th>\n",
       "      <td>3</td>\n",
       "      <td>2.0</td>\n",
       "      <td>2.0</td>\n",
       "      <td>3.0</td>\n",
       "      <td>4</td>\n",
       "    </tr>\n",
       "    <tr>\n",
       "      <th>E</th>\n",
       "      <td>6</td>\n",
       "      <td>4.0</td>\n",
       "      <td>6.0</td>\n",
       "      <td>9.0</td>\n",
       "      <td>1</td>\n",
       "    </tr>\n",
       "  </tbody>\n",
       "</table>\n",
       "</div>"
      ],
      "text/plain": [
       "   a    b    c    d  e\n",
       "A  3  8.0  3.0  8.0  7\n",
       "B  6  NaN  NaN  NaN  9\n",
       "C  6  4.0  2.0  7.0  6\n",
       "D  3  2.0  2.0  3.0  4\n",
       "E  6  4.0  6.0  9.0  1"
      ]
     },
     "metadata": {},
     "output_type": "display_data"
    }
   ],
   "source": [
    "da1 = pd.DataFrame(np.random.randint(1, 10, (5,5)),\n",
    "                       columns=['a', 'b', 'c', 'd', 'e'],\n",
    "                       index=['A', 'B', 'C', 'D', 'E'])\n",
    "da1.iloc[1,1:4]=np.NaN\n",
    "display(da1)"
   ]
  },
  {
   "attachments": {},
   "cell_type": "markdown",
   "id": "c41ea235",
   "metadata": {},
   "source": [
    "#### 3. 通过字典分组"
   ]
  },
  {
   "cell_type": "code",
   "execution_count": 21,
   "id": "2f101e3b",
   "metadata": {},
   "outputs": [],
   "source": [
    "ma_dict = {'a':'Python', 'b':'Python', 'c':'Java', 'd':'C', 'e':'Java'}"
   ]
  },
  {
   "cell_type": "code",
   "execution_count": 22,
   "id": "57daf0f4",
   "metadata": {},
   "outputs": [
    {
     "data": {
      "text/plain": [
       "C         1\n",
       "Java      2\n",
       "Python    2\n",
       "dtype: int64"
      ]
     },
     "metadata": {},
     "output_type": "display_data"
    }
   ],
   "source": [
    "display(da1.groupby(ma_dict, axis=1).size())"
   ]
  },
  {
   "cell_type": "code",
   "execution_count": 23,
   "id": "ff5b00f0",
   "metadata": {},
   "outputs": [
    {
     "data": {
      "text/html": [
       "<div>\n",
       "<style scoped>\n",
       "    .dataframe tbody tr th:only-of-type {\n",
       "        vertical-align: middle;\n",
       "    }\n",
       "\n",
       "    .dataframe tbody tr th {\n",
       "        vertical-align: top;\n",
       "    }\n",
       "\n",
       "    .dataframe thead th {\n",
       "        text-align: right;\n",
       "    }\n",
       "</style>\n",
       "<table border=\"1\" class=\"dataframe\">\n",
       "  <thead>\n",
       "    <tr style=\"text-align: right;\">\n",
       "      <th></th>\n",
       "      <th>C</th>\n",
       "      <th>Java</th>\n",
       "      <th>Python</th>\n",
       "    </tr>\n",
       "  </thead>\n",
       "  <tbody>\n",
       "    <tr>\n",
       "      <th>A</th>\n",
       "      <td>1</td>\n",
       "      <td>2</td>\n",
       "      <td>2</td>\n",
       "    </tr>\n",
       "    <tr>\n",
       "      <th>B</th>\n",
       "      <td>0</td>\n",
       "      <td>1</td>\n",
       "      <td>1</td>\n",
       "    </tr>\n",
       "    <tr>\n",
       "      <th>C</th>\n",
       "      <td>1</td>\n",
       "      <td>2</td>\n",
       "      <td>2</td>\n",
       "    </tr>\n",
       "    <tr>\n",
       "      <th>D</th>\n",
       "      <td>1</td>\n",
       "      <td>2</td>\n",
       "      <td>2</td>\n",
       "    </tr>\n",
       "    <tr>\n",
       "      <th>E</th>\n",
       "      <td>1</td>\n",
       "      <td>2</td>\n",
       "      <td>2</td>\n",
       "    </tr>\n",
       "  </tbody>\n",
       "</table>\n",
       "</div>"
      ],
      "text/plain": [
       "   C  Java  Python\n",
       "A  1     2       2\n",
       "B  0     1       1\n",
       "C  1     2       2\n",
       "D  1     2       2\n",
       "E  1     2       2"
      ]
     },
     "metadata": {},
     "output_type": "display_data"
    }
   ],
   "source": [
    "display(da1.groupby(ma_dict,axis=1).count())"
   ]
  },
  {
   "cell_type": "code",
   "execution_count": 24,
   "id": "17691967",
   "metadata": {},
   "outputs": [
    {
     "data": {
      "text/html": [
       "<div>\n",
       "<style scoped>\n",
       "    .dataframe tbody tr th:only-of-type {\n",
       "        vertical-align: middle;\n",
       "    }\n",
       "\n",
       "    .dataframe tbody tr th {\n",
       "        vertical-align: top;\n",
       "    }\n",
       "\n",
       "    .dataframe thead th {\n",
       "        text-align: right;\n",
       "    }\n",
       "</style>\n",
       "<table border=\"1\" class=\"dataframe\">\n",
       "  <thead>\n",
       "    <tr style=\"text-align: right;\">\n",
       "      <th></th>\n",
       "      <th>C</th>\n",
       "      <th>Java</th>\n",
       "      <th>Python</th>\n",
       "    </tr>\n",
       "  </thead>\n",
       "  <tbody>\n",
       "    <tr>\n",
       "      <th>A</th>\n",
       "      <td>1</td>\n",
       "      <td>2</td>\n",
       "      <td>2</td>\n",
       "    </tr>\n",
       "    <tr>\n",
       "      <th>B</th>\n",
       "      <td>0</td>\n",
       "      <td>1</td>\n",
       "      <td>1</td>\n",
       "    </tr>\n",
       "    <tr>\n",
       "      <th>C</th>\n",
       "      <td>1</td>\n",
       "      <td>2</td>\n",
       "      <td>2</td>\n",
       "    </tr>\n",
       "    <tr>\n",
       "      <th>D</th>\n",
       "      <td>1</td>\n",
       "      <td>2</td>\n",
       "      <td>2</td>\n",
       "    </tr>\n",
       "    <tr>\n",
       "      <th>E</th>\n",
       "      <td>1</td>\n",
       "      <td>2</td>\n",
       "      <td>2</td>\n",
       "    </tr>\n",
       "  </tbody>\n",
       "</table>\n",
       "</div>"
      ],
      "text/plain": [
       "   C  Java  Python\n",
       "A  1     2       2\n",
       "B  0     1       1\n",
       "C  1     2       2\n",
       "D  1     2       2\n",
       "E  1     2       2"
      ]
     },
     "metadata": {},
     "output_type": "display_data"
    }
   ],
   "source": [
    "display(da1.groupby(ma_dict,axis=1).count())"
   ]
  },
  {
   "cell_type": "code",
   "execution_count": 25,
   "id": "52cb7c3b",
   "metadata": {},
   "outputs": [
    {
     "data": {
      "text/html": [
       "<div>\n",
       "<style scoped>\n",
       "    .dataframe tbody tr th:only-of-type {\n",
       "        vertical-align: middle;\n",
       "    }\n",
       "\n",
       "    .dataframe tbody tr th {\n",
       "        vertical-align: top;\n",
       "    }\n",
       "\n",
       "    .dataframe thead th {\n",
       "        text-align: right;\n",
       "    }\n",
       "</style>\n",
       "<table border=\"1\" class=\"dataframe\">\n",
       "  <thead>\n",
       "    <tr style=\"text-align: right;\">\n",
       "      <th></th>\n",
       "      <th>C</th>\n",
       "      <th>Java</th>\n",
       "      <th>Python</th>\n",
       "    </tr>\n",
       "  </thead>\n",
       "  <tbody>\n",
       "    <tr>\n",
       "      <th>A</th>\n",
       "      <td>8.0</td>\n",
       "      <td>10.0</td>\n",
       "      <td>11.0</td>\n",
       "    </tr>\n",
       "    <tr>\n",
       "      <th>B</th>\n",
       "      <td>0.0</td>\n",
       "      <td>9.0</td>\n",
       "      <td>6.0</td>\n",
       "    </tr>\n",
       "    <tr>\n",
       "      <th>C</th>\n",
       "      <td>7.0</td>\n",
       "      <td>8.0</td>\n",
       "      <td>10.0</td>\n",
       "    </tr>\n",
       "    <tr>\n",
       "      <th>D</th>\n",
       "      <td>3.0</td>\n",
       "      <td>6.0</td>\n",
       "      <td>5.0</td>\n",
       "    </tr>\n",
       "    <tr>\n",
       "      <th>E</th>\n",
       "      <td>9.0</td>\n",
       "      <td>7.0</td>\n",
       "      <td>10.0</td>\n",
       "    </tr>\n",
       "  </tbody>\n",
       "</table>\n",
       "</div>"
      ],
      "text/plain": [
       "     C  Java  Python\n",
       "A  8.0  10.0    11.0\n",
       "B  0.0   9.0     6.0\n",
       "C  7.0   8.0    10.0\n",
       "D  3.0   6.0     5.0\n",
       "E  9.0   7.0    10.0"
      ]
     },
     "metadata": {},
     "output_type": "display_data"
    }
   ],
   "source": [
    "display(da1.groupby(ma_dict,axis=1).sum())"
   ]
  },
  {
   "attachments": {},
   "cell_type": "markdown",
   "id": "61091f03",
   "metadata": {},
   "source": [
    "#### 4. 通过函数分组，函数传入的参数为行索引或列索引"
   ]
  },
  {
   "cell_type": "code",
   "execution_count": 26,
   "id": "5ea6ab8c",
   "metadata": {},
   "outputs": [
    {
     "data": {
      "text/html": [
       "<div>\n",
       "<style scoped>\n",
       "    .dataframe tbody tr th:only-of-type {\n",
       "        vertical-align: middle;\n",
       "    }\n",
       "\n",
       "    .dataframe tbody tr th {\n",
       "        vertical-align: top;\n",
       "    }\n",
       "\n",
       "    .dataframe thead th {\n",
       "        text-align: right;\n",
       "    }\n",
       "</style>\n",
       "<table border=\"1\" class=\"dataframe\">\n",
       "  <thead>\n",
       "    <tr style=\"text-align: right;\">\n",
       "      <th></th>\n",
       "      <th>a</th>\n",
       "      <th>b</th>\n",
       "      <th>c</th>\n",
       "      <th>d</th>\n",
       "      <th>e</th>\n",
       "    </tr>\n",
       "  </thead>\n",
       "  <tbody>\n",
       "    <tr>\n",
       "      <th>AA</th>\n",
       "      <td>9</td>\n",
       "      <td>7</td>\n",
       "      <td>2</td>\n",
       "      <td>4</td>\n",
       "      <td>2</td>\n",
       "    </tr>\n",
       "    <tr>\n",
       "      <th>BBB</th>\n",
       "      <td>4</td>\n",
       "      <td>2</td>\n",
       "      <td>8</td>\n",
       "      <td>5</td>\n",
       "      <td>1</td>\n",
       "    </tr>\n",
       "    <tr>\n",
       "      <th>CC</th>\n",
       "      <td>7</td>\n",
       "      <td>3</td>\n",
       "      <td>4</td>\n",
       "      <td>2</td>\n",
       "      <td>6</td>\n",
       "    </tr>\n",
       "    <tr>\n",
       "      <th>D</th>\n",
       "      <td>9</td>\n",
       "      <td>8</td>\n",
       "      <td>9</td>\n",
       "      <td>3</td>\n",
       "      <td>3</td>\n",
       "    </tr>\n",
       "    <tr>\n",
       "      <th>EE</th>\n",
       "      <td>3</td>\n",
       "      <td>6</td>\n",
       "      <td>3</td>\n",
       "      <td>5</td>\n",
       "      <td>8</td>\n",
       "    </tr>\n",
       "  </tbody>\n",
       "</table>\n",
       "</div>"
      ],
      "text/plain": [
       "     a  b  c  d  e\n",
       "AA   9  7  2  4  2\n",
       "BBB  4  2  8  5  1\n",
       "CC   7  3  4  2  6\n",
       "D    9  8  9  3  3\n",
       "EE   3  6  3  5  8"
      ]
     },
     "metadata": {},
     "output_type": "display_data"
    }
   ],
   "source": [
    "da2 = pd.DataFrame(np.random.randint(1, 10, (5,5)),\n",
    "                       columns=['a', 'b', 'c', 'd', 'e'],\n",
    "                       index=['AA', 'BBB', 'CC', 'D', 'EE'])\n",
    "display(da2)"
   ]
  },
  {
   "cell_type": "code",
   "execution_count": 27,
   "id": "727ce7f5",
   "metadata": {},
   "outputs": [
    {
     "data": {
      "text/plain": [
       "1    1\n",
       "2    3\n",
       "3    1\n",
       "dtype: int64"
      ]
     },
     "metadata": {},
     "output_type": "display_data"
    }
   ],
   "source": [
    "def group_key(idx):\n",
    "    return len(idx)\n",
    "display(da2.groupby(group_key).size())"
   ]
  },
  {
   "attachments": {},
   "cell_type": "markdown",
   "id": "a4c547dc",
   "metadata": {},
   "source": [
    "#### 5. 通过索引级别分组"
   ]
  },
  {
   "cell_type": "code",
   "execution_count": 28,
   "id": "d085c17b",
   "metadata": {},
   "outputs": [],
   "source": [
    "columns = pd.MultiIndex.from_arrays([['Python', 'Java', 'Python', 'Java', 'Python'],\n",
    "                                     ['A', 'A', 'B', 'C', 'B']], names=['language', 'index'])"
   ]
  },
  {
   "cell_type": "code",
   "execution_count": 29,
   "id": "7f954d43",
   "metadata": {},
   "outputs": [
    {
     "data": {
      "text/html": [
       "<div>\n",
       "<style scoped>\n",
       "    .dataframe tbody tr th:only-of-type {\n",
       "        vertical-align: middle;\n",
       "    }\n",
       "\n",
       "    .dataframe tbody tr th {\n",
       "        vertical-align: top;\n",
       "    }\n",
       "\n",
       "    .dataframe thead tr th {\n",
       "        text-align: left;\n",
       "    }\n",
       "</style>\n",
       "<table border=\"1\" class=\"dataframe\">\n",
       "  <thead>\n",
       "    <tr>\n",
       "      <th>language</th>\n",
       "      <th>Python</th>\n",
       "      <th>Java</th>\n",
       "      <th>Python</th>\n",
       "      <th>Java</th>\n",
       "      <th>Python</th>\n",
       "    </tr>\n",
       "    <tr>\n",
       "      <th>index</th>\n",
       "      <th>A</th>\n",
       "      <th>A</th>\n",
       "      <th>B</th>\n",
       "      <th>C</th>\n",
       "      <th>B</th>\n",
       "    </tr>\n",
       "  </thead>\n",
       "  <tbody>\n",
       "    <tr>\n",
       "      <th>0</th>\n",
       "      <td>7</td>\n",
       "      <td>1</td>\n",
       "      <td>2</td>\n",
       "      <td>5</td>\n",
       "      <td>8</td>\n",
       "    </tr>\n",
       "    <tr>\n",
       "      <th>1</th>\n",
       "      <td>8</td>\n",
       "      <td>7</td>\n",
       "      <td>6</td>\n",
       "      <td>5</td>\n",
       "      <td>7</td>\n",
       "    </tr>\n",
       "    <tr>\n",
       "      <th>2</th>\n",
       "      <td>5</td>\n",
       "      <td>3</td>\n",
       "      <td>5</td>\n",
       "      <td>5</td>\n",
       "      <td>9</td>\n",
       "    </tr>\n",
       "    <tr>\n",
       "      <th>3</th>\n",
       "      <td>1</td>\n",
       "      <td>7</td>\n",
       "      <td>1</td>\n",
       "      <td>5</td>\n",
       "      <td>7</td>\n",
       "    </tr>\n",
       "    <tr>\n",
       "      <th>4</th>\n",
       "      <td>4</td>\n",
       "      <td>5</td>\n",
       "      <td>2</td>\n",
       "      <td>3</td>\n",
       "      <td>3</td>\n",
       "    </tr>\n",
       "  </tbody>\n",
       "</table>\n",
       "</div>"
      ],
      "text/plain": [
       "language Python Java Python Java Python\n",
       "index         A    A      B    C      B\n",
       "0             7    1      2    5      8\n",
       "1             8    7      6    5      7\n",
       "2             5    3      5    5      9\n",
       "3             1    7      1    5      7\n",
       "4             4    5      2    3      3"
      ]
     },
     "metadata": {},
     "output_type": "display_data"
    }
   ],
   "source": [
    "da1 = pd.DataFrame(np.random.randint(1,10,(5,5)),columns=columns)\n",
    "display(da1)"
   ]
  },
  {
   "attachments": {},
   "cell_type": "markdown",
   "id": "1b42a8e4",
   "metadata": {},
   "source": [
    "## 聚合 (aggregation)"
   ]
  },
  {
   "cell_type": "code",
   "execution_count": null,
   "id": "2b1513d0",
   "metadata": {},
   "outputs": [],
   "source": [
    "# 数组产生标量的过程，如mean()、count()等\n",
    "# 常用于对分组后的数据进行计算"
   ]
  },
  {
   "cell_type": "code",
   "execution_count": 30,
   "id": "c453890e",
   "metadata": {},
   "outputs": [],
   "source": [
    "dic1 = {'key1' : ['a', 'b', 'a', 'b', \n",
    "                      'a', 'b', 'a', 'a'],\n",
    "            'key2' : ['one', 'one', 'two', 'three',\n",
    "                      'two', 'two', 'one', 'three'],\n",
    "            'data1': np.random.randint(1,10, 8),\n",
    "            'data2': np.random.randint(1,10, 8)}"
   ]
  },
  {
   "cell_type": "code",
   "execution_count": 32,
   "id": "ef8bc81c",
   "metadata": {},
   "outputs": [
    {
     "data": {
      "text/html": [
       "<div>\n",
       "<style scoped>\n",
       "    .dataframe tbody tr th:only-of-type {\n",
       "        vertical-align: middle;\n",
       "    }\n",
       "\n",
       "    .dataframe tbody tr th {\n",
       "        vertical-align: top;\n",
       "    }\n",
       "\n",
       "    .dataframe thead th {\n",
       "        text-align: right;\n",
       "    }\n",
       "</style>\n",
       "<table border=\"1\" class=\"dataframe\">\n",
       "  <thead>\n",
       "    <tr style=\"text-align: right;\">\n",
       "      <th></th>\n",
       "      <th>key1</th>\n",
       "      <th>key2</th>\n",
       "      <th>data1</th>\n",
       "      <th>data2</th>\n",
       "    </tr>\n",
       "  </thead>\n",
       "  <tbody>\n",
       "    <tr>\n",
       "      <th>0</th>\n",
       "      <td>a</td>\n",
       "      <td>one</td>\n",
       "      <td>5</td>\n",
       "      <td>2</td>\n",
       "    </tr>\n",
       "    <tr>\n",
       "      <th>1</th>\n",
       "      <td>b</td>\n",
       "      <td>one</td>\n",
       "      <td>9</td>\n",
       "      <td>2</td>\n",
       "    </tr>\n",
       "    <tr>\n",
       "      <th>2</th>\n",
       "      <td>a</td>\n",
       "      <td>two</td>\n",
       "      <td>6</td>\n",
       "      <td>4</td>\n",
       "    </tr>\n",
       "    <tr>\n",
       "      <th>3</th>\n",
       "      <td>b</td>\n",
       "      <td>three</td>\n",
       "      <td>5</td>\n",
       "      <td>8</td>\n",
       "    </tr>\n",
       "    <tr>\n",
       "      <th>4</th>\n",
       "      <td>a</td>\n",
       "      <td>two</td>\n",
       "      <td>1</td>\n",
       "      <td>7</td>\n",
       "    </tr>\n",
       "    <tr>\n",
       "      <th>5</th>\n",
       "      <td>b</td>\n",
       "      <td>two</td>\n",
       "      <td>2</td>\n",
       "      <td>7</td>\n",
       "    </tr>\n",
       "    <tr>\n",
       "      <th>6</th>\n",
       "      <td>a</td>\n",
       "      <td>one</td>\n",
       "      <td>3</td>\n",
       "      <td>2</td>\n",
       "    </tr>\n",
       "    <tr>\n",
       "      <th>7</th>\n",
       "      <td>a</td>\n",
       "      <td>three</td>\n",
       "      <td>9</td>\n",
       "      <td>6</td>\n",
       "    </tr>\n",
       "  </tbody>\n",
       "</table>\n",
       "</div>"
      ],
      "text/plain": [
       "  key1   key2  data1  data2\n",
       "0    a    one      5      2\n",
       "1    b    one      9      2\n",
       "2    a    two      6      4\n",
       "3    b  three      5      8\n",
       "4    a    two      1      7\n",
       "5    b    two      2      7\n",
       "6    a    one      3      2\n",
       "7    a  three      9      6"
      ]
     },
     "metadata": {},
     "output_type": "display_data"
    }
   ],
   "source": [
    "dic1 = pd.DataFrame(dic1)\n",
    "display(dic1)"
   ]
  },
  {
   "attachments": {},
   "cell_type": "markdown",
   "id": "7a5ac2bd",
   "metadata": {},
   "source": [
    "#### 1. 内置的聚合函数"
   ]
  },
  {
   "cell_type": "code",
   "execution_count": null,
   "id": "d6d17843",
   "metadata": {},
   "outputs": [],
   "source": [
    "# sum(), mean(), max(), min(), count(), size(), describe()"
   ]
  },
  {
   "cell_type": "code",
   "execution_count": 33,
   "id": "1569ffcf",
   "metadata": {},
   "outputs": [
    {
     "data": {
      "text/html": [
       "<div>\n",
       "<style scoped>\n",
       "    .dataframe tbody tr th:only-of-type {\n",
       "        vertical-align: middle;\n",
       "    }\n",
       "\n",
       "    .dataframe tbody tr th {\n",
       "        vertical-align: top;\n",
       "    }\n",
       "\n",
       "    .dataframe thead th {\n",
       "        text-align: right;\n",
       "    }\n",
       "</style>\n",
       "<table border=\"1\" class=\"dataframe\">\n",
       "  <thead>\n",
       "    <tr style=\"text-align: right;\">\n",
       "      <th></th>\n",
       "      <th>key2</th>\n",
       "      <th>data1</th>\n",
       "      <th>data2</th>\n",
       "    </tr>\n",
       "    <tr>\n",
       "      <th>key1</th>\n",
       "      <th></th>\n",
       "      <th></th>\n",
       "      <th></th>\n",
       "    </tr>\n",
       "  </thead>\n",
       "  <tbody>\n",
       "    <tr>\n",
       "      <th>a</th>\n",
       "      <td>5</td>\n",
       "      <td>5</td>\n",
       "      <td>5</td>\n",
       "    </tr>\n",
       "    <tr>\n",
       "      <th>b</th>\n",
       "      <td>3</td>\n",
       "      <td>3</td>\n",
       "      <td>3</td>\n",
       "    </tr>\n",
       "  </tbody>\n",
       "</table>\n",
       "</div>"
      ],
      "text/plain": [
       "      key2  data1  data2\n",
       "key1                    \n",
       "a        5      5      5\n",
       "b        3      3      3"
      ]
     },
     "metadata": {},
     "output_type": "display_data"
    }
   ],
   "source": [
    "display(dic1.groupby('key1').count())"
   ]
  },
  {
   "cell_type": "code",
   "execution_count": 34,
   "id": "4d6ffec4",
   "metadata": {},
   "outputs": [
    {
     "data": {
      "text/plain": [
       "key1\n",
       "a    5\n",
       "b    3\n",
       "dtype: int64"
      ]
     },
     "metadata": {},
     "output_type": "display_data"
    }
   ],
   "source": [
    "# 统计key1中索引的个数\n",
    "display(dic1.groupby('key1').size())  "
   ]
  },
  {
   "cell_type": "code",
   "execution_count": 35,
   "id": "ef89ba4f",
   "metadata": {},
   "outputs": [
    {
     "data": {
      "text/plain": [
       "key2\n",
       "one      3\n",
       "three    2\n",
       "two      3\n",
       "dtype: int64"
      ]
     },
     "metadata": {},
     "output_type": "display_data"
    }
   ],
   "source": [
    "display(dic1.groupby('key2').size())"
   ]
  },
  {
   "cell_type": "code",
   "execution_count": 36,
   "id": "bf2bfa4e",
   "metadata": {},
   "outputs": [
    {
     "data": {
      "text/html": [
       "<div>\n",
       "<style scoped>\n",
       "    .dataframe tbody tr th:only-of-type {\n",
       "        vertical-align: middle;\n",
       "    }\n",
       "\n",
       "    .dataframe tbody tr th {\n",
       "        vertical-align: top;\n",
       "    }\n",
       "\n",
       "    .dataframe thead th {\n",
       "        text-align: right;\n",
       "    }\n",
       "</style>\n",
       "<table border=\"1\" class=\"dataframe\">\n",
       "  <thead>\n",
       "    <tr style=\"text-align: right;\">\n",
       "      <th></th>\n",
       "      <th>key1</th>\n",
       "      <th>data1</th>\n",
       "      <th>data2</th>\n",
       "    </tr>\n",
       "    <tr>\n",
       "      <th>key2</th>\n",
       "      <th></th>\n",
       "      <th></th>\n",
       "      <th></th>\n",
       "    </tr>\n",
       "  </thead>\n",
       "  <tbody>\n",
       "    <tr>\n",
       "      <th>one</th>\n",
       "      <td>3</td>\n",
       "      <td>3</td>\n",
       "      <td>3</td>\n",
       "    </tr>\n",
       "    <tr>\n",
       "      <th>three</th>\n",
       "      <td>2</td>\n",
       "      <td>2</td>\n",
       "      <td>2</td>\n",
       "    </tr>\n",
       "    <tr>\n",
       "      <th>two</th>\n",
       "      <td>3</td>\n",
       "      <td>3</td>\n",
       "      <td>3</td>\n",
       "    </tr>\n",
       "  </tbody>\n",
       "</table>\n",
       "</div>"
      ],
      "text/plain": [
       "       key1  data1  data2\n",
       "key2                     \n",
       "one       3      3      3\n",
       "three     2      2      2\n",
       "two       3      3      3"
      ]
     },
     "metadata": {},
     "output_type": "display_data"
    }
   ],
   "source": [
    "# 统计关键词的个数\n",
    "display(dic1.groupby('key2').count())"
   ]
  },
  {
   "cell_type": "code",
   "execution_count": 37,
   "id": "7aa35864",
   "metadata": {},
   "outputs": [
    {
     "data": {
      "text/html": [
       "<div>\n",
       "<style scoped>\n",
       "    .dataframe tbody tr th:only-of-type {\n",
       "        vertical-align: middle;\n",
       "    }\n",
       "\n",
       "    .dataframe tbody tr th {\n",
       "        vertical-align: top;\n",
       "    }\n",
       "\n",
       "    .dataframe thead tr th {\n",
       "        text-align: left;\n",
       "    }\n",
       "\n",
       "    .dataframe thead tr:last-of-type th {\n",
       "        text-align: right;\n",
       "    }\n",
       "</style>\n",
       "<table border=\"1\" class=\"dataframe\">\n",
       "  <thead>\n",
       "    <tr>\n",
       "      <th></th>\n",
       "      <th colspan=\"8\" halign=\"left\">data1</th>\n",
       "      <th colspan=\"8\" halign=\"left\">data2</th>\n",
       "    </tr>\n",
       "    <tr>\n",
       "      <th></th>\n",
       "      <th>count</th>\n",
       "      <th>mean</th>\n",
       "      <th>std</th>\n",
       "      <th>min</th>\n",
       "      <th>25%</th>\n",
       "      <th>50%</th>\n",
       "      <th>75%</th>\n",
       "      <th>max</th>\n",
       "      <th>count</th>\n",
       "      <th>mean</th>\n",
       "      <th>std</th>\n",
       "      <th>min</th>\n",
       "      <th>25%</th>\n",
       "      <th>50%</th>\n",
       "      <th>75%</th>\n",
       "      <th>max</th>\n",
       "    </tr>\n",
       "    <tr>\n",
       "      <th>key1</th>\n",
       "      <th></th>\n",
       "      <th></th>\n",
       "      <th></th>\n",
       "      <th></th>\n",
       "      <th></th>\n",
       "      <th></th>\n",
       "      <th></th>\n",
       "      <th></th>\n",
       "      <th></th>\n",
       "      <th></th>\n",
       "      <th></th>\n",
       "      <th></th>\n",
       "      <th></th>\n",
       "      <th></th>\n",
       "      <th></th>\n",
       "      <th></th>\n",
       "    </tr>\n",
       "  </thead>\n",
       "  <tbody>\n",
       "    <tr>\n",
       "      <th>a</th>\n",
       "      <td>5.0</td>\n",
       "      <td>4.800000</td>\n",
       "      <td>3.033150</td>\n",
       "      <td>1.0</td>\n",
       "      <td>3.0</td>\n",
       "      <td>5.0</td>\n",
       "      <td>6.0</td>\n",
       "      <td>9.0</td>\n",
       "      <td>5.0</td>\n",
       "      <td>4.200000</td>\n",
       "      <td>2.280351</td>\n",
       "      <td>2.0</td>\n",
       "      <td>2.0</td>\n",
       "      <td>4.0</td>\n",
       "      <td>6.0</td>\n",
       "      <td>7.0</td>\n",
       "    </tr>\n",
       "    <tr>\n",
       "      <th>b</th>\n",
       "      <td>3.0</td>\n",
       "      <td>5.333333</td>\n",
       "      <td>3.511885</td>\n",
       "      <td>2.0</td>\n",
       "      <td>3.5</td>\n",
       "      <td>5.0</td>\n",
       "      <td>7.0</td>\n",
       "      <td>9.0</td>\n",
       "      <td>3.0</td>\n",
       "      <td>5.666667</td>\n",
       "      <td>3.214550</td>\n",
       "      <td>2.0</td>\n",
       "      <td>4.5</td>\n",
       "      <td>7.0</td>\n",
       "      <td>7.5</td>\n",
       "      <td>8.0</td>\n",
       "    </tr>\n",
       "  </tbody>\n",
       "</table>\n",
       "</div>"
      ],
      "text/plain": [
       "     data1                                              data2            \\\n",
       "     count      mean       std  min  25%  50%  75%  max count      mean   \n",
       "key1                                                                      \n",
       "a      5.0  4.800000  3.033150  1.0  3.0  5.0  6.0  9.0   5.0  4.200000   \n",
       "b      3.0  5.333333  3.511885  2.0  3.5  5.0  7.0  9.0   3.0  5.666667   \n",
       "\n",
       "                                         \n",
       "           std  min  25%  50%  75%  max  \n",
       "key1                                     \n",
       "a     2.280351  2.0  2.0  4.0  6.0  7.0  \n",
       "b     3.214550  2.0  4.5  7.0  7.5  8.0  "
      ]
     },
     "metadata": {},
     "output_type": "display_data"
    }
   ],
   "source": [
    "display(dic1.groupby('key1').describe())"
   ]
  },
  {
   "attachments": {},
   "cell_type": "markdown",
   "id": "86c8161c",
   "metadata": {},
   "source": [
    "#### 2. 可自定义函数，传入agg方法中"
   ]
  },
  {
   "cell_type": "code",
   "execution_count": null,
   "id": "745787d2",
   "metadata": {},
   "outputs": [],
   "source": [
    "# grouped.agg(func)\n",
    "# func的参数为groupby索引对应的记录"
   ]
  },
  {
   "cell_type": "code",
   "execution_count": 38,
   "id": "73c170e8",
   "metadata": {},
   "outputs": [],
   "source": [
    "def pak(df):\n",
    "    return df.max()-df.min()"
   ]
  },
  {
   "cell_type": "code",
   "execution_count": 39,
   "id": "cfb77c17",
   "metadata": {},
   "outputs": [
    {
     "name": "stderr",
     "output_type": "stream",
     "text": [
      "C:\\Users\\17677\\AppData\\Local\\Temp\\ipykernel_13228\\2332055471.py:1: FutureWarning: ['key2'] did not aggregate successfully. If any error is raised this will raise in a future version of pandas. Drop these columns/ops to avoid this warning.\n",
      "  display(dic1.groupby('key1').agg(pak))\n"
     ]
    },
    {
     "data": {
      "text/html": [
       "<div>\n",
       "<style scoped>\n",
       "    .dataframe tbody tr th:only-of-type {\n",
       "        vertical-align: middle;\n",
       "    }\n",
       "\n",
       "    .dataframe tbody tr th {\n",
       "        vertical-align: top;\n",
       "    }\n",
       "\n",
       "    .dataframe thead th {\n",
       "        text-align: right;\n",
       "    }\n",
       "</style>\n",
       "<table border=\"1\" class=\"dataframe\">\n",
       "  <thead>\n",
       "    <tr style=\"text-align: right;\">\n",
       "      <th></th>\n",
       "      <th>data1</th>\n",
       "      <th>data2</th>\n",
       "    </tr>\n",
       "    <tr>\n",
       "      <th>key1</th>\n",
       "      <th></th>\n",
       "      <th></th>\n",
       "    </tr>\n",
       "  </thead>\n",
       "  <tbody>\n",
       "    <tr>\n",
       "      <th>a</th>\n",
       "      <td>8</td>\n",
       "      <td>5</td>\n",
       "    </tr>\n",
       "    <tr>\n",
       "      <th>b</th>\n",
       "      <td>7</td>\n",
       "      <td>6</td>\n",
       "    </tr>\n",
       "  </tbody>\n",
       "</table>\n",
       "</div>"
      ],
      "text/plain": [
       "      data1  data2\n",
       "key1              \n",
       "a         8      5\n",
       "b         7      6"
      ]
     },
     "metadata": {},
     "output_type": "display_data"
    }
   ],
   "source": [
    "display(dic1.groupby('key1').agg(pak))"
   ]
  },
  {
   "attachments": {},
   "cell_type": "markdown",
   "id": "a24779bf",
   "metadata": {},
   "source": [
    "#### 3. 应用多个聚合函数"
   ]
  },
  {
   "cell_type": "code",
   "execution_count": null,
   "id": "ab40b532",
   "metadata": {},
   "outputs": [],
   "source": [
    "# 同时应用多个函数进行聚合操作，使用函数列表"
   ]
  },
  {
   "cell_type": "code",
   "execution_count": 40,
   "id": "9d57cc4b",
   "metadata": {},
   "outputs": [
    {
     "name": "stderr",
     "output_type": "stream",
     "text": [
      "C:\\Users\\17677\\AppData\\Local\\Temp\\ipykernel_13228\\3904844620.py:2: FutureWarning: ['key2'] did not aggregate successfully. If any error is raised this will raise in a future version of pandas. Drop these columns/ops to avoid this warning.\n",
      "  display(dic1.groupby('key1').agg(['mean','std','count',pak]))\n"
     ]
    },
    {
     "data": {
      "text/html": [
       "<div>\n",
       "<style scoped>\n",
       "    .dataframe tbody tr th:only-of-type {\n",
       "        vertical-align: middle;\n",
       "    }\n",
       "\n",
       "    .dataframe tbody tr th {\n",
       "        vertical-align: top;\n",
       "    }\n",
       "\n",
       "    .dataframe thead tr th {\n",
       "        text-align: left;\n",
       "    }\n",
       "\n",
       "    .dataframe thead tr:last-of-type th {\n",
       "        text-align: right;\n",
       "    }\n",
       "</style>\n",
       "<table border=\"1\" class=\"dataframe\">\n",
       "  <thead>\n",
       "    <tr>\n",
       "      <th></th>\n",
       "      <th colspan=\"4\" halign=\"left\">data1</th>\n",
       "      <th colspan=\"4\" halign=\"left\">data2</th>\n",
       "    </tr>\n",
       "    <tr>\n",
       "      <th></th>\n",
       "      <th>mean</th>\n",
       "      <th>std</th>\n",
       "      <th>count</th>\n",
       "      <th>pak</th>\n",
       "      <th>mean</th>\n",
       "      <th>std</th>\n",
       "      <th>count</th>\n",
       "      <th>pak</th>\n",
       "    </tr>\n",
       "    <tr>\n",
       "      <th>key1</th>\n",
       "      <th></th>\n",
       "      <th></th>\n",
       "      <th></th>\n",
       "      <th></th>\n",
       "      <th></th>\n",
       "      <th></th>\n",
       "      <th></th>\n",
       "      <th></th>\n",
       "    </tr>\n",
       "  </thead>\n",
       "  <tbody>\n",
       "    <tr>\n",
       "      <th>a</th>\n",
       "      <td>4.800000</td>\n",
       "      <td>3.033150</td>\n",
       "      <td>5</td>\n",
       "      <td>8</td>\n",
       "      <td>4.200000</td>\n",
       "      <td>2.280351</td>\n",
       "      <td>5</td>\n",
       "      <td>5</td>\n",
       "    </tr>\n",
       "    <tr>\n",
       "      <th>b</th>\n",
       "      <td>5.333333</td>\n",
       "      <td>3.511885</td>\n",
       "      <td>3</td>\n",
       "      <td>7</td>\n",
       "      <td>5.666667</td>\n",
       "      <td>3.214550</td>\n",
       "      <td>3</td>\n",
       "      <td>6</td>\n",
       "    </tr>\n",
       "  </tbody>\n",
       "</table>\n",
       "</div>"
      ],
      "text/plain": [
       "         data1                         data2                    \n",
       "          mean       std count pak      mean       std count pak\n",
       "key1                                                            \n",
       "a     4.800000  3.033150     5   8  4.200000  2.280351     5   5\n",
       "b     5.333333  3.511885     3   7  5.666667  3.214550     3   6"
      ]
     },
     "metadata": {},
     "output_type": "display_data"
    }
   ],
   "source": [
    " # 默认列名为函数名\n",
    "display(dic1.groupby('key1').agg(['mean','std','count',pak]))"
   ]
  },
  {
   "cell_type": "code",
   "execution_count": 41,
   "id": "e56e207d",
   "metadata": {},
   "outputs": [
    {
     "name": "stderr",
     "output_type": "stream",
     "text": [
      "C:\\Users\\17677\\AppData\\Local\\Temp\\ipykernel_13228\\3676885552.py:2: FutureWarning: ['key2'] did not aggregate successfully. If any error is raised this will raise in a future version of pandas. Drop these columns/ops to avoid this warning.\n",
      "  display(dic1.groupby('key1').agg(['mean', 'std', 'count', ('range', pak)]))\n"
     ]
    },
    {
     "data": {
      "text/html": [
       "<div>\n",
       "<style scoped>\n",
       "    .dataframe tbody tr th:only-of-type {\n",
       "        vertical-align: middle;\n",
       "    }\n",
       "\n",
       "    .dataframe tbody tr th {\n",
       "        vertical-align: top;\n",
       "    }\n",
       "\n",
       "    .dataframe thead tr th {\n",
       "        text-align: left;\n",
       "    }\n",
       "\n",
       "    .dataframe thead tr:last-of-type th {\n",
       "        text-align: right;\n",
       "    }\n",
       "</style>\n",
       "<table border=\"1\" class=\"dataframe\">\n",
       "  <thead>\n",
       "    <tr>\n",
       "      <th></th>\n",
       "      <th colspan=\"4\" halign=\"left\">data1</th>\n",
       "      <th colspan=\"4\" halign=\"left\">data2</th>\n",
       "    </tr>\n",
       "    <tr>\n",
       "      <th></th>\n",
       "      <th>mean</th>\n",
       "      <th>std</th>\n",
       "      <th>count</th>\n",
       "      <th>range</th>\n",
       "      <th>mean</th>\n",
       "      <th>std</th>\n",
       "      <th>count</th>\n",
       "      <th>range</th>\n",
       "    </tr>\n",
       "    <tr>\n",
       "      <th>key1</th>\n",
       "      <th></th>\n",
       "      <th></th>\n",
       "      <th></th>\n",
       "      <th></th>\n",
       "      <th></th>\n",
       "      <th></th>\n",
       "      <th></th>\n",
       "      <th></th>\n",
       "    </tr>\n",
       "  </thead>\n",
       "  <tbody>\n",
       "    <tr>\n",
       "      <th>a</th>\n",
       "      <td>4.800000</td>\n",
       "      <td>3.033150</td>\n",
       "      <td>5</td>\n",
       "      <td>8</td>\n",
       "      <td>4.200000</td>\n",
       "      <td>2.280351</td>\n",
       "      <td>5</td>\n",
       "      <td>5</td>\n",
       "    </tr>\n",
       "    <tr>\n",
       "      <th>b</th>\n",
       "      <td>5.333333</td>\n",
       "      <td>3.511885</td>\n",
       "      <td>3</td>\n",
       "      <td>7</td>\n",
       "      <td>5.666667</td>\n",
       "      <td>3.214550</td>\n",
       "      <td>3</td>\n",
       "      <td>6</td>\n",
       "    </tr>\n",
       "  </tbody>\n",
       "</table>\n",
       "</div>"
      ],
      "text/plain": [
       "         data1                           data2                      \n",
       "          mean       std count range      mean       std count range\n",
       "key1                                                                \n",
       "a     4.800000  3.033150     5     8  4.200000  2.280351     5     5\n",
       "b     5.333333  3.511885     3     7  5.666667  3.214550     3     6"
      ]
     },
     "metadata": {},
     "output_type": "display_data"
    }
   ],
   "source": [
    "# 通过元组提供新的列名\n",
    "display(dic1.groupby('key1').agg(['mean', 'std', 'count', ('range', pak)]))"
   ]
  },
  {
   "attachments": {},
   "cell_type": "markdown",
   "id": "b9f15130",
   "metadata": {},
   "source": [
    "#### 4. 对不同的列分别作用不同的聚合函数，使用dict"
   ]
  },
  {
   "cell_type": "code",
   "execution_count": 42,
   "id": "3ca5ce26",
   "metadata": {},
   "outputs": [
    {
     "data": {
      "text/html": [
       "<div>\n",
       "<style scoped>\n",
       "    .dataframe tbody tr th:only-of-type {\n",
       "        vertical-align: middle;\n",
       "    }\n",
       "\n",
       "    .dataframe tbody tr th {\n",
       "        vertical-align: top;\n",
       "    }\n",
       "\n",
       "    .dataframe thead th {\n",
       "        text-align: right;\n",
       "    }\n",
       "</style>\n",
       "<table border=\"1\" class=\"dataframe\">\n",
       "  <thead>\n",
       "    <tr style=\"text-align: right;\">\n",
       "      <th></th>\n",
       "      <th>data1</th>\n",
       "      <th>data2</th>\n",
       "    </tr>\n",
       "    <tr>\n",
       "      <th>key2</th>\n",
       "      <th></th>\n",
       "      <th></th>\n",
       "    </tr>\n",
       "  </thead>\n",
       "  <tbody>\n",
       "    <tr>\n",
       "      <th>one</th>\n",
       "      <td>5.666667</td>\n",
       "      <td>6</td>\n",
       "    </tr>\n",
       "    <tr>\n",
       "      <th>three</th>\n",
       "      <td>7.000000</td>\n",
       "      <td>14</td>\n",
       "    </tr>\n",
       "    <tr>\n",
       "      <th>two</th>\n",
       "      <td>3.000000</td>\n",
       "      <td>18</td>\n",
       "    </tr>\n",
       "  </tbody>\n",
       "</table>\n",
       "</div>"
      ],
      "text/plain": [
       "          data1  data2\n",
       "key2                  \n",
       "one    5.666667      6\n",
       "three  7.000000     14\n",
       "two    3.000000     18"
      ]
     },
     "metadata": {},
     "output_type": "display_data"
    }
   ],
   "source": [
    "dict = {'data1':'mean','data2':'sum'}\n",
    "display(dic1.groupby('key2').agg(dict))"
   ]
  },
  {
   "cell_type": "code",
   "execution_count": 43,
   "id": "cad877cb",
   "metadata": {},
   "outputs": [
    {
     "data": {
      "text/html": [
       "<div>\n",
       "<style scoped>\n",
       "    .dataframe tbody tr th:only-of-type {\n",
       "        vertical-align: middle;\n",
       "    }\n",
       "\n",
       "    .dataframe tbody tr th {\n",
       "        vertical-align: top;\n",
       "    }\n",
       "\n",
       "    .dataframe thead tr th {\n",
       "        text-align: left;\n",
       "    }\n",
       "\n",
       "    .dataframe thead tr:last-of-type th {\n",
       "        text-align: right;\n",
       "    }\n",
       "</style>\n",
       "<table border=\"1\" class=\"dataframe\">\n",
       "  <thead>\n",
       "    <tr>\n",
       "      <th></th>\n",
       "      <th colspan=\"2\" halign=\"left\">data1</th>\n",
       "      <th>data2</th>\n",
       "    </tr>\n",
       "    <tr>\n",
       "      <th></th>\n",
       "      <th>mean</th>\n",
       "      <th>max</th>\n",
       "      <th>sum</th>\n",
       "    </tr>\n",
       "    <tr>\n",
       "      <th>key1</th>\n",
       "      <th></th>\n",
       "      <th></th>\n",
       "      <th></th>\n",
       "    </tr>\n",
       "  </thead>\n",
       "  <tbody>\n",
       "    <tr>\n",
       "      <th>a</th>\n",
       "      <td>4.800000</td>\n",
       "      <td>9</td>\n",
       "      <td>21</td>\n",
       "    </tr>\n",
       "    <tr>\n",
       "      <th>b</th>\n",
       "      <td>5.333333</td>\n",
       "      <td>9</td>\n",
       "      <td>17</td>\n",
       "    </tr>\n",
       "  </tbody>\n",
       "</table>\n",
       "</div>"
      ],
      "text/plain": [
       "         data1     data2\n",
       "          mean max   sum\n",
       "key1                    \n",
       "a     4.800000   9    21\n",
       "b     5.333333   9    17"
      ]
     },
     "metadata": {},
     "output_type": "display_data"
    }
   ],
   "source": [
    "dict1 = {'data1':['mean','max'],\n",
    "                'data2':'sum'}\n",
    "display(dic1.groupby('key1').agg(dict1))"
   ]
  },
  {
   "attachments": {},
   "cell_type": "markdown",
   "id": "8fac878c",
   "metadata": {},
   "source": [
    "## 数据的分组运算"
   ]
  },
  {
   "cell_type": "code",
   "execution_count": 44,
   "id": "ab57596a",
   "metadata": {},
   "outputs": [],
   "source": [
    "dic2 = {'key1' : ['a', 'b', 'a', 'b', \n",
    "                      'a', 'b', 'a', 'a'],\n",
    "            'key2' : ['one', 'one', 'two', 'three',\n",
    "                      'two', 'two', 'one', 'three'],\n",
    "            'data1': np.random.randint(1, 10, 8),\n",
    "            'data2': np.random.randint(1, 10, 8)}"
   ]
  },
  {
   "cell_type": "code",
   "execution_count": 46,
   "id": "4029eb7f",
   "metadata": {},
   "outputs": [
    {
     "data": {
      "text/html": [
       "<div>\n",
       "<style scoped>\n",
       "    .dataframe tbody tr th:only-of-type {\n",
       "        vertical-align: middle;\n",
       "    }\n",
       "\n",
       "    .dataframe tbody tr th {\n",
       "        vertical-align: top;\n",
       "    }\n",
       "\n",
       "    .dataframe thead th {\n",
       "        text-align: right;\n",
       "    }\n",
       "</style>\n",
       "<table border=\"1\" class=\"dataframe\">\n",
       "  <thead>\n",
       "    <tr style=\"text-align: right;\">\n",
       "      <th></th>\n",
       "      <th>key1</th>\n",
       "      <th>key2</th>\n",
       "      <th>data1</th>\n",
       "      <th>data2</th>\n",
       "    </tr>\n",
       "  </thead>\n",
       "  <tbody>\n",
       "    <tr>\n",
       "      <th>0</th>\n",
       "      <td>a</td>\n",
       "      <td>one</td>\n",
       "      <td>3</td>\n",
       "      <td>4</td>\n",
       "    </tr>\n",
       "    <tr>\n",
       "      <th>1</th>\n",
       "      <td>b</td>\n",
       "      <td>one</td>\n",
       "      <td>9</td>\n",
       "      <td>3</td>\n",
       "    </tr>\n",
       "    <tr>\n",
       "      <th>2</th>\n",
       "      <td>a</td>\n",
       "      <td>two</td>\n",
       "      <td>4</td>\n",
       "      <td>8</td>\n",
       "    </tr>\n",
       "    <tr>\n",
       "      <th>3</th>\n",
       "      <td>b</td>\n",
       "      <td>three</td>\n",
       "      <td>4</td>\n",
       "      <td>4</td>\n",
       "    </tr>\n",
       "    <tr>\n",
       "      <th>4</th>\n",
       "      <td>a</td>\n",
       "      <td>two</td>\n",
       "      <td>6</td>\n",
       "      <td>5</td>\n",
       "    </tr>\n",
       "    <tr>\n",
       "      <th>5</th>\n",
       "      <td>b</td>\n",
       "      <td>two</td>\n",
       "      <td>4</td>\n",
       "      <td>8</td>\n",
       "    </tr>\n",
       "    <tr>\n",
       "      <th>6</th>\n",
       "      <td>a</td>\n",
       "      <td>one</td>\n",
       "      <td>2</td>\n",
       "      <td>7</td>\n",
       "    </tr>\n",
       "    <tr>\n",
       "      <th>7</th>\n",
       "      <td>a</td>\n",
       "      <td>three</td>\n",
       "      <td>3</td>\n",
       "      <td>4</td>\n",
       "    </tr>\n",
       "  </tbody>\n",
       "</table>\n",
       "</div>"
      ],
      "text/plain": [
       "  key1   key2  data1  data2\n",
       "0    a    one      3      4\n",
       "1    b    one      9      3\n",
       "2    a    two      4      8\n",
       "3    b  three      4      4\n",
       "4    a    two      6      5\n",
       "5    b    two      4      8\n",
       "6    a    one      2      7\n",
       "7    a  three      3      4"
      ]
     },
     "metadata": {},
     "output_type": "display_data"
    }
   ],
   "source": [
    "dic2 = pd.DataFrame(dic2)\n",
    "display(dic2)"
   ]
  },
  {
   "cell_type": "code",
   "execution_count": 47,
   "id": "1aef93ee",
   "metadata": {},
   "outputs": [
    {
     "data": {
      "text/html": [
       "<div>\n",
       "<style scoped>\n",
       "    .dataframe tbody tr th:only-of-type {\n",
       "        vertical-align: middle;\n",
       "    }\n",
       "\n",
       "    .dataframe tbody tr th {\n",
       "        vertical-align: top;\n",
       "    }\n",
       "\n",
       "    .dataframe thead th {\n",
       "        text-align: right;\n",
       "    }\n",
       "</style>\n",
       "<table border=\"1\" class=\"dataframe\">\n",
       "  <thead>\n",
       "    <tr style=\"text-align: right;\">\n",
       "      <th></th>\n",
       "      <th>sum_data1</th>\n",
       "      <th>sum_data2</th>\n",
       "    </tr>\n",
       "    <tr>\n",
       "      <th>key1</th>\n",
       "      <th></th>\n",
       "      <th></th>\n",
       "    </tr>\n",
       "  </thead>\n",
       "  <tbody>\n",
       "    <tr>\n",
       "      <th>a</th>\n",
       "      <td>18</td>\n",
       "      <td>28</td>\n",
       "    </tr>\n",
       "    <tr>\n",
       "      <th>b</th>\n",
       "      <td>17</td>\n",
       "      <td>15</td>\n",
       "    </tr>\n",
       "  </tbody>\n",
       "</table>\n",
       "</div>"
      ],
      "text/plain": [
       "      sum_data1  sum_data2\n",
       "key1                      \n",
       "a            18         28\n",
       "b            17         15"
      ]
     },
     "metadata": {},
     "output_type": "display_data"
    }
   ],
   "source": [
    "# 按key1分组后，计算data1，data2的统计信息并附加到原始表格中，并添加表头前缀\n",
    "k1_sum = dic2.groupby('key1').sum().add_prefix('sum_')\n",
    "display(k1_sum)"
   ]
  },
  {
   "attachments": {},
   "cell_type": "markdown",
   "id": "26c7c79b",
   "metadata": {},
   "source": [
    "1. merge进行外连接"
   ]
  },
  {
   "cell_type": "code",
   "execution_count": null,
   "id": "35ab2d28",
   "metadata": {},
   "outputs": [],
   "source": [
    "# left_on：左边数据表的\"外键\"\n",
    "# right_on：右边数据表的\"外键\"\n",
    "# left_index：使用左边的DataFrame对象的行索引做为连接健\n",
    "# right_index：使用右边的DataFrame对象的行索引做为连接健\n",
    "# 一般情况下，外键和连接健的方向是相反的。"
   ]
  },
  {
   "cell_type": "code",
   "execution_count": 48,
   "id": "154d5181",
   "metadata": {},
   "outputs": [
    {
     "data": {
      "text/html": [
       "<div>\n",
       "<style scoped>\n",
       "    .dataframe tbody tr th:only-of-type {\n",
       "        vertical-align: middle;\n",
       "    }\n",
       "\n",
       "    .dataframe tbody tr th {\n",
       "        vertical-align: top;\n",
       "    }\n",
       "\n",
       "    .dataframe thead th {\n",
       "        text-align: right;\n",
       "    }\n",
       "</style>\n",
       "<table border=\"1\" class=\"dataframe\">\n",
       "  <thead>\n",
       "    <tr style=\"text-align: right;\">\n",
       "      <th></th>\n",
       "      <th>key1</th>\n",
       "      <th>key2</th>\n",
       "      <th>data1</th>\n",
       "      <th>data2</th>\n",
       "      <th>sum_data1</th>\n",
       "      <th>sum_data2</th>\n",
       "    </tr>\n",
       "  </thead>\n",
       "  <tbody>\n",
       "    <tr>\n",
       "      <th>0</th>\n",
       "      <td>a</td>\n",
       "      <td>one</td>\n",
       "      <td>5</td>\n",
       "      <td>2</td>\n",
       "      <td>18</td>\n",
       "      <td>28</td>\n",
       "    </tr>\n",
       "    <tr>\n",
       "      <th>2</th>\n",
       "      <td>a</td>\n",
       "      <td>two</td>\n",
       "      <td>6</td>\n",
       "      <td>4</td>\n",
       "      <td>18</td>\n",
       "      <td>28</td>\n",
       "    </tr>\n",
       "    <tr>\n",
       "      <th>4</th>\n",
       "      <td>a</td>\n",
       "      <td>two</td>\n",
       "      <td>1</td>\n",
       "      <td>7</td>\n",
       "      <td>18</td>\n",
       "      <td>28</td>\n",
       "    </tr>\n",
       "    <tr>\n",
       "      <th>6</th>\n",
       "      <td>a</td>\n",
       "      <td>one</td>\n",
       "      <td>3</td>\n",
       "      <td>2</td>\n",
       "      <td>18</td>\n",
       "      <td>28</td>\n",
       "    </tr>\n",
       "    <tr>\n",
       "      <th>7</th>\n",
       "      <td>a</td>\n",
       "      <td>three</td>\n",
       "      <td>9</td>\n",
       "      <td>6</td>\n",
       "      <td>18</td>\n",
       "      <td>28</td>\n",
       "    </tr>\n",
       "    <tr>\n",
       "      <th>1</th>\n",
       "      <td>b</td>\n",
       "      <td>one</td>\n",
       "      <td>9</td>\n",
       "      <td>2</td>\n",
       "      <td>17</td>\n",
       "      <td>15</td>\n",
       "    </tr>\n",
       "    <tr>\n",
       "      <th>3</th>\n",
       "      <td>b</td>\n",
       "      <td>three</td>\n",
       "      <td>5</td>\n",
       "      <td>8</td>\n",
       "      <td>17</td>\n",
       "      <td>15</td>\n",
       "    </tr>\n",
       "    <tr>\n",
       "      <th>5</th>\n",
       "      <td>b</td>\n",
       "      <td>two</td>\n",
       "      <td>2</td>\n",
       "      <td>7</td>\n",
       "      <td>17</td>\n",
       "      <td>15</td>\n",
       "    </tr>\n",
       "  </tbody>\n",
       "</table>\n",
       "</div>"
      ],
      "text/plain": [
       "  key1   key2  data1  data2  sum_data1  sum_data2\n",
       "0    a    one      5      2         18         28\n",
       "2    a    two      6      4         18         28\n",
       "4    a    two      1      7         18         28\n",
       "6    a    one      3      2         18         28\n",
       "7    a  three      9      6         18         28\n",
       "1    b    one      9      2         17         15\n",
       "3    b  three      5      8         17         15\n",
       "5    b    two      2      7         17         15"
      ]
     },
     "metadata": {},
     "output_type": "display_data"
    }
   ],
   "source": [
    "# 左外连接\n",
    "k1_mer_sum = pd.merge(dic1, k1_sum, left_on='key1', right_index=True)\n",
    "display(k1_mer_sum)"
   ]
  },
  {
   "cell_type": "markdown",
   "id": "92ad95c6",
   "metadata": {},
   "source": [
    "2.transform合并"
   ]
  },
  {
   "cell_type": "code",
   "execution_count": 51,
   "id": "f157afb5",
   "metadata": {},
   "outputs": [
    {
     "data": {
      "text/html": [
       "<div>\n",
       "<style scoped>\n",
       "    .dataframe tbody tr th:only-of-type {\n",
       "        vertical-align: middle;\n",
       "    }\n",
       "\n",
       "    .dataframe tbody tr th {\n",
       "        vertical-align: top;\n",
       "    }\n",
       "\n",
       "    .dataframe thead th {\n",
       "        text-align: right;\n",
       "    }\n",
       "</style>\n",
       "<table border=\"1\" class=\"dataframe\">\n",
       "  <thead>\n",
       "    <tr style=\"text-align: right;\">\n",
       "      <th></th>\n",
       "      <th>key1</th>\n",
       "      <th>key2</th>\n",
       "      <th>data1</th>\n",
       "      <th>data2</th>\n",
       "      <th>sum_key2</th>\n",
       "      <th>sum_data1</th>\n",
       "      <th>sum_data2</th>\n",
       "      <th>sum_sum_key2</th>\n",
       "      <th>sum_sum_data1</th>\n",
       "      <th>sum_sum_data2</th>\n",
       "    </tr>\n",
       "  </thead>\n",
       "  <tbody>\n",
       "    <tr>\n",
       "      <th>0</th>\n",
       "      <td>a</td>\n",
       "      <td>one</td>\n",
       "      <td>3</td>\n",
       "      <td>4</td>\n",
       "      <td>onetwotwoonethree</td>\n",
       "      <td>18</td>\n",
       "      <td>28</td>\n",
       "      <td>onetwotwoonethreeonetwotwoonethreeonetwotwoone...</td>\n",
       "      <td>90</td>\n",
       "      <td>140</td>\n",
       "    </tr>\n",
       "    <tr>\n",
       "      <th>1</th>\n",
       "      <td>b</td>\n",
       "      <td>one</td>\n",
       "      <td>9</td>\n",
       "      <td>3</td>\n",
       "      <td>onethreetwo</td>\n",
       "      <td>17</td>\n",
       "      <td>15</td>\n",
       "      <td>onethreetwoonethreetwoonethreetwo</td>\n",
       "      <td>51</td>\n",
       "      <td>45</td>\n",
       "    </tr>\n",
       "    <tr>\n",
       "      <th>2</th>\n",
       "      <td>a</td>\n",
       "      <td>two</td>\n",
       "      <td>4</td>\n",
       "      <td>8</td>\n",
       "      <td>onetwotwoonethree</td>\n",
       "      <td>18</td>\n",
       "      <td>28</td>\n",
       "      <td>onetwotwoonethreeonetwotwoonethreeonetwotwoone...</td>\n",
       "      <td>90</td>\n",
       "      <td>140</td>\n",
       "    </tr>\n",
       "    <tr>\n",
       "      <th>3</th>\n",
       "      <td>b</td>\n",
       "      <td>three</td>\n",
       "      <td>4</td>\n",
       "      <td>4</td>\n",
       "      <td>onethreetwo</td>\n",
       "      <td>17</td>\n",
       "      <td>15</td>\n",
       "      <td>onethreetwoonethreetwoonethreetwo</td>\n",
       "      <td>51</td>\n",
       "      <td>45</td>\n",
       "    </tr>\n",
       "    <tr>\n",
       "      <th>4</th>\n",
       "      <td>a</td>\n",
       "      <td>two</td>\n",
       "      <td>6</td>\n",
       "      <td>5</td>\n",
       "      <td>onetwotwoonethree</td>\n",
       "      <td>18</td>\n",
       "      <td>28</td>\n",
       "      <td>onetwotwoonethreeonetwotwoonethreeonetwotwoone...</td>\n",
       "      <td>90</td>\n",
       "      <td>140</td>\n",
       "    </tr>\n",
       "    <tr>\n",
       "      <th>5</th>\n",
       "      <td>b</td>\n",
       "      <td>two</td>\n",
       "      <td>4</td>\n",
       "      <td>8</td>\n",
       "      <td>onethreetwo</td>\n",
       "      <td>17</td>\n",
       "      <td>15</td>\n",
       "      <td>onethreetwoonethreetwoonethreetwo</td>\n",
       "      <td>51</td>\n",
       "      <td>45</td>\n",
       "    </tr>\n",
       "    <tr>\n",
       "      <th>6</th>\n",
       "      <td>a</td>\n",
       "      <td>one</td>\n",
       "      <td>2</td>\n",
       "      <td>7</td>\n",
       "      <td>onetwotwoonethree</td>\n",
       "      <td>18</td>\n",
       "      <td>28</td>\n",
       "      <td>onetwotwoonethreeonetwotwoonethreeonetwotwoone...</td>\n",
       "      <td>90</td>\n",
       "      <td>140</td>\n",
       "    </tr>\n",
       "    <tr>\n",
       "      <th>7</th>\n",
       "      <td>a</td>\n",
       "      <td>three</td>\n",
       "      <td>3</td>\n",
       "      <td>4</td>\n",
       "      <td>onetwotwoonethree</td>\n",
       "      <td>18</td>\n",
       "      <td>28</td>\n",
       "      <td>onetwotwoonethreeonetwotwoonethreeonetwotwoone...</td>\n",
       "      <td>90</td>\n",
       "      <td>140</td>\n",
       "    </tr>\n",
       "  </tbody>\n",
       "</table>\n",
       "</div>"
      ],
      "text/plain": [
       "  key1   key2  data1  data2           sum_key2 sum_data1 sum_data2  \\\n",
       "0    a    one      3      4  onetwotwoonethree        18        28   \n",
       "1    b    one      9      3        onethreetwo        17        15   \n",
       "2    a    two      4      8  onetwotwoonethree        18        28   \n",
       "3    b  three      4      4        onethreetwo        17        15   \n",
       "4    a    two      6      5  onetwotwoonethree        18        28   \n",
       "5    b    two      4      8        onethreetwo        17        15   \n",
       "6    a    one      2      7  onetwotwoonethree        18        28   \n",
       "7    a  three      3      4  onetwotwoonethree        18        28   \n",
       "\n",
       "                                        sum_sum_key2 sum_sum_data1  \\\n",
       "0  onetwotwoonethreeonetwotwoonethreeonetwotwoone...            90   \n",
       "1                  onethreetwoonethreetwoonethreetwo            51   \n",
       "2  onetwotwoonethreeonetwotwoonethreeonetwotwoone...            90   \n",
       "3                  onethreetwoonethreetwoonethreetwo            51   \n",
       "4  onetwotwoonethreeonetwotwoonethreeonetwotwoone...            90   \n",
       "5                  onethreetwoonethreetwoonethreetwo            51   \n",
       "6  onetwotwoonethreeonetwotwoonethreeonetwotwoone...            90   \n",
       "7  onetwotwoonethreeonetwotwoonethreeonetwotwoone...            90   \n",
       "\n",
       "  sum_sum_data2  \n",
       "0           140  \n",
       "1            45  \n",
       "2           140  \n",
       "3            45  \n",
       "4           140  \n",
       "5            45  \n",
       "6           140  \n",
       "7           140  "
      ]
     },
     "metadata": {},
     "output_type": "display_data"
    }
   ],
   "source": [
    "# 第二种方法，使用transform进行聚合运算， 运算结果和原始数据形状保持一致\n",
    "key1_trans = dic2.groupby(\"key1\").transform(sum).add_prefix(\"sum_\")\n",
    "# 将key1_trans 的列数据添加到原始数据里\n",
    "dic2[key1_trans.columns] = key1_trans\n",
    "display(dic2)"
   ]
  },
  {
   "attachments": {},
   "cell_type": "markdown",
   "id": "13f156d4",
   "metadata": {},
   "source": [
    "# 数据清洗"
   ]
  },
  {
   "attachments": {},
   "cell_type": "markdown",
   "id": "168ca3ad",
   "metadata": {},
   "source": [
    "## 数据连接(pd.merge)"
   ]
  },
  {
   "cell_type": "code",
   "execution_count": null,
   "id": "294463d6",
   "metadata": {},
   "outputs": [],
   "source": [
    "# pd.merge\n",
    "# 根据单个或多个键将不同DataFrame的行连接起来\n",
    "# 类似数据库的连接操作"
   ]
  },
  {
   "cell_type": "code",
   "execution_count": 52,
   "id": "882c8f82",
   "metadata": {},
   "outputs": [],
   "source": [
    "df1 = pd.DataFrame({'key': ['b', 'b', 'a', 'c', 'a', 'a', 'b'],\n",
    "                        'data1' : np.random.randint(0,10,7)})\n",
    "df2 = pd.DataFrame({'key': ['a', 'b', 'd'],\n",
    "                        'data2' : np.random.randint(0,10,3)})"
   ]
  },
  {
   "cell_type": "code",
   "execution_count": 53,
   "id": "766faabe",
   "metadata": {},
   "outputs": [
    {
     "data": {
      "text/html": [
       "<div>\n",
       "<style scoped>\n",
       "    .dataframe tbody tr th:only-of-type {\n",
       "        vertical-align: middle;\n",
       "    }\n",
       "\n",
       "    .dataframe tbody tr th {\n",
       "        vertical-align: top;\n",
       "    }\n",
       "\n",
       "    .dataframe thead th {\n",
       "        text-align: right;\n",
       "    }\n",
       "</style>\n",
       "<table border=\"1\" class=\"dataframe\">\n",
       "  <thead>\n",
       "    <tr style=\"text-align: right;\">\n",
       "      <th></th>\n",
       "      <th>key</th>\n",
       "      <th>data1</th>\n",
       "    </tr>\n",
       "  </thead>\n",
       "  <tbody>\n",
       "    <tr>\n",
       "      <th>0</th>\n",
       "      <td>b</td>\n",
       "      <td>7</td>\n",
       "    </tr>\n",
       "    <tr>\n",
       "      <th>1</th>\n",
       "      <td>b</td>\n",
       "      <td>4</td>\n",
       "    </tr>\n",
       "    <tr>\n",
       "      <th>2</th>\n",
       "      <td>a</td>\n",
       "      <td>7</td>\n",
       "    </tr>\n",
       "    <tr>\n",
       "      <th>3</th>\n",
       "      <td>c</td>\n",
       "      <td>2</td>\n",
       "    </tr>\n",
       "    <tr>\n",
       "      <th>4</th>\n",
       "      <td>a</td>\n",
       "      <td>3</td>\n",
       "    </tr>\n",
       "    <tr>\n",
       "      <th>5</th>\n",
       "      <td>a</td>\n",
       "      <td>0</td>\n",
       "    </tr>\n",
       "    <tr>\n",
       "      <th>6</th>\n",
       "      <td>b</td>\n",
       "      <td>2</td>\n",
       "    </tr>\n",
       "  </tbody>\n",
       "</table>\n",
       "</div>"
      ],
      "text/plain": [
       "  key  data1\n",
       "0   b      7\n",
       "1   b      4\n",
       "2   a      7\n",
       "3   c      2\n",
       "4   a      3\n",
       "5   a      0\n",
       "6   b      2"
      ]
     },
     "metadata": {},
     "output_type": "display_data"
    },
    {
     "data": {
      "text/html": [
       "<div>\n",
       "<style scoped>\n",
       "    .dataframe tbody tr th:only-of-type {\n",
       "        vertical-align: middle;\n",
       "    }\n",
       "\n",
       "    .dataframe tbody tr th {\n",
       "        vertical-align: top;\n",
       "    }\n",
       "\n",
       "    .dataframe thead th {\n",
       "        text-align: right;\n",
       "    }\n",
       "</style>\n",
       "<table border=\"1\" class=\"dataframe\">\n",
       "  <thead>\n",
       "    <tr style=\"text-align: right;\">\n",
       "      <th></th>\n",
       "      <th>key</th>\n",
       "      <th>data2</th>\n",
       "    </tr>\n",
       "  </thead>\n",
       "  <tbody>\n",
       "    <tr>\n",
       "      <th>0</th>\n",
       "      <td>a</td>\n",
       "      <td>0</td>\n",
       "    </tr>\n",
       "    <tr>\n",
       "      <th>1</th>\n",
       "      <td>b</td>\n",
       "      <td>1</td>\n",
       "    </tr>\n",
       "    <tr>\n",
       "      <th>2</th>\n",
       "      <td>d</td>\n",
       "      <td>7</td>\n",
       "    </tr>\n",
       "  </tbody>\n",
       "</table>\n",
       "</div>"
      ],
      "text/plain": [
       "  key  data2\n",
       "0   a      0\n",
       "1   b      1\n",
       "2   d      7"
      ]
     },
     "metadata": {},
     "output_type": "display_data"
    }
   ],
   "source": [
    "display(df1)\n",
    "display(df2)"
   ]
  },
  {
   "attachments": {},
   "cell_type": "markdown",
   "id": "d8f76546",
   "metadata": {},
   "source": [
    "1. 默认将重叠列的列名作为“外键”进行连接"
   ]
  },
  {
   "cell_type": "code",
   "execution_count": 54,
   "id": "11476f2e",
   "metadata": {},
   "outputs": [
    {
     "data": {
      "text/html": [
       "<div>\n",
       "<style scoped>\n",
       "    .dataframe tbody tr th:only-of-type {\n",
       "        vertical-align: middle;\n",
       "    }\n",
       "\n",
       "    .dataframe tbody tr th {\n",
       "        vertical-align: top;\n",
       "    }\n",
       "\n",
       "    .dataframe thead th {\n",
       "        text-align: right;\n",
       "    }\n",
       "</style>\n",
       "<table border=\"1\" class=\"dataframe\">\n",
       "  <thead>\n",
       "    <tr style=\"text-align: right;\">\n",
       "      <th></th>\n",
       "      <th>key</th>\n",
       "      <th>data1</th>\n",
       "      <th>data2</th>\n",
       "    </tr>\n",
       "  </thead>\n",
       "  <tbody>\n",
       "    <tr>\n",
       "      <th>0</th>\n",
       "      <td>b</td>\n",
       "      <td>7</td>\n",
       "      <td>1</td>\n",
       "    </tr>\n",
       "    <tr>\n",
       "      <th>1</th>\n",
       "      <td>b</td>\n",
       "      <td>4</td>\n",
       "      <td>1</td>\n",
       "    </tr>\n",
       "    <tr>\n",
       "      <th>2</th>\n",
       "      <td>b</td>\n",
       "      <td>2</td>\n",
       "      <td>1</td>\n",
       "    </tr>\n",
       "    <tr>\n",
       "      <th>3</th>\n",
       "      <td>a</td>\n",
       "      <td>7</td>\n",
       "      <td>0</td>\n",
       "    </tr>\n",
       "    <tr>\n",
       "      <th>4</th>\n",
       "      <td>a</td>\n",
       "      <td>3</td>\n",
       "      <td>0</td>\n",
       "    </tr>\n",
       "    <tr>\n",
       "      <th>5</th>\n",
       "      <td>a</td>\n",
       "      <td>0</td>\n",
       "      <td>0</td>\n",
       "    </tr>\n",
       "  </tbody>\n",
       "</table>\n",
       "</div>"
      ],
      "text/plain": [
       "  key  data1  data2\n",
       "0   b      7      1\n",
       "1   b      4      1\n",
       "2   b      2      1\n",
       "3   a      7      0\n",
       "4   a      3      0\n",
       "5   a      0      0"
      ]
     },
     "metadata": {},
     "output_type": "display_data"
    }
   ],
   "source": [
    "display(pd.merge(df1,df2))"
   ]
  },
  {
   "attachments": {},
   "cell_type": "markdown",
   "id": "26eaaf5d",
   "metadata": {},
   "source": [
    "2. on显示指定“外键”"
   ]
  },
  {
   "cell_type": "code",
   "execution_count": 55,
   "id": "079de73b",
   "metadata": {},
   "outputs": [
    {
     "data": {
      "text/html": [
       "<div>\n",
       "<style scoped>\n",
       "    .dataframe tbody tr th:only-of-type {\n",
       "        vertical-align: middle;\n",
       "    }\n",
       "\n",
       "    .dataframe tbody tr th {\n",
       "        vertical-align: top;\n",
       "    }\n",
       "\n",
       "    .dataframe thead th {\n",
       "        text-align: right;\n",
       "    }\n",
       "</style>\n",
       "<table border=\"1\" class=\"dataframe\">\n",
       "  <thead>\n",
       "    <tr style=\"text-align: right;\">\n",
       "      <th></th>\n",
       "      <th>key</th>\n",
       "      <th>data1</th>\n",
       "      <th>data2</th>\n",
       "    </tr>\n",
       "  </thead>\n",
       "  <tbody>\n",
       "    <tr>\n",
       "      <th>0</th>\n",
       "      <td>b</td>\n",
       "      <td>7</td>\n",
       "      <td>1</td>\n",
       "    </tr>\n",
       "    <tr>\n",
       "      <th>1</th>\n",
       "      <td>b</td>\n",
       "      <td>4</td>\n",
       "      <td>1</td>\n",
       "    </tr>\n",
       "    <tr>\n",
       "      <th>2</th>\n",
       "      <td>b</td>\n",
       "      <td>2</td>\n",
       "      <td>1</td>\n",
       "    </tr>\n",
       "    <tr>\n",
       "      <th>3</th>\n",
       "      <td>a</td>\n",
       "      <td>7</td>\n",
       "      <td>0</td>\n",
       "    </tr>\n",
       "    <tr>\n",
       "      <th>4</th>\n",
       "      <td>a</td>\n",
       "      <td>3</td>\n",
       "      <td>0</td>\n",
       "    </tr>\n",
       "    <tr>\n",
       "      <th>5</th>\n",
       "      <td>a</td>\n",
       "      <td>0</td>\n",
       "      <td>0</td>\n",
       "    </tr>\n",
       "  </tbody>\n",
       "</table>\n",
       "</div>"
      ],
      "text/plain": [
       "  key  data1  data2\n",
       "0   b      7      1\n",
       "1   b      4      1\n",
       "2   b      2      1\n",
       "3   a      7      0\n",
       "4   a      3      0\n",
       "5   a      0      0"
      ]
     },
     "metadata": {},
     "output_type": "display_data"
    }
   ],
   "source": [
    "display(pd.merge(df1,df2,on='key'))"
   ]
  },
  {
   "attachments": {},
   "cell_type": "markdown",
   "id": "b2a61873",
   "metadata": {},
   "source": [
    "3. left_on，左侧数据的“外键”，right_on，右侧数据的“外键”"
   ]
  },
  {
   "cell_type": "code",
   "execution_count": 57,
   "id": "099e4c86",
   "metadata": {},
   "outputs": [],
   "source": [
    "# 更改列名\n",
    "dat1 = df1.rename(columns={'key':'key1'})\n",
    "dat2 = df2.rename(columns={'key':'key2'})"
   ]
  },
  {
   "cell_type": "code",
   "execution_count": 58,
   "id": "39130be2",
   "metadata": {},
   "outputs": [
    {
     "data": {
      "text/html": [
       "<div>\n",
       "<style scoped>\n",
       "    .dataframe tbody tr th:only-of-type {\n",
       "        vertical-align: middle;\n",
       "    }\n",
       "\n",
       "    .dataframe tbody tr th {\n",
       "        vertical-align: top;\n",
       "    }\n",
       "\n",
       "    .dataframe thead th {\n",
       "        text-align: right;\n",
       "    }\n",
       "</style>\n",
       "<table border=\"1\" class=\"dataframe\">\n",
       "  <thead>\n",
       "    <tr style=\"text-align: right;\">\n",
       "      <th></th>\n",
       "      <th>key1</th>\n",
       "      <th>data1</th>\n",
       "      <th>key2</th>\n",
       "      <th>data2</th>\n",
       "    </tr>\n",
       "  </thead>\n",
       "  <tbody>\n",
       "    <tr>\n",
       "      <th>0</th>\n",
       "      <td>b</td>\n",
       "      <td>7</td>\n",
       "      <td>b</td>\n",
       "      <td>1</td>\n",
       "    </tr>\n",
       "    <tr>\n",
       "      <th>1</th>\n",
       "      <td>b</td>\n",
       "      <td>4</td>\n",
       "      <td>b</td>\n",
       "      <td>1</td>\n",
       "    </tr>\n",
       "    <tr>\n",
       "      <th>2</th>\n",
       "      <td>b</td>\n",
       "      <td>2</td>\n",
       "      <td>b</td>\n",
       "      <td>1</td>\n",
       "    </tr>\n",
       "    <tr>\n",
       "      <th>3</th>\n",
       "      <td>a</td>\n",
       "      <td>7</td>\n",
       "      <td>a</td>\n",
       "      <td>0</td>\n",
       "    </tr>\n",
       "    <tr>\n",
       "      <th>4</th>\n",
       "      <td>a</td>\n",
       "      <td>3</td>\n",
       "      <td>a</td>\n",
       "      <td>0</td>\n",
       "    </tr>\n",
       "    <tr>\n",
       "      <th>5</th>\n",
       "      <td>a</td>\n",
       "      <td>0</td>\n",
       "      <td>a</td>\n",
       "      <td>0</td>\n",
       "    </tr>\n",
       "  </tbody>\n",
       "</table>\n",
       "</div>"
      ],
      "text/plain": [
       "  key1  data1 key2  data2\n",
       "0    b      7    b      1\n",
       "1    b      4    b      1\n",
       "2    b      2    b      1\n",
       "3    a      7    a      0\n",
       "4    a      3    a      0\n",
       "5    a      0    a      0"
      ]
     },
     "metadata": {},
     "output_type": "display_data"
    }
   ],
   "source": [
    "display(pd.merge(dat1,dat2,left_on='key1',right_on='key2'))"
   ]
  },
  {
   "cell_type": "code",
   "execution_count": null,
   "id": "9e8e6401",
   "metadata": {},
   "outputs": [],
   "source": [
    "# 默认是“内连接”(inner)，即结果中的键是交集\n",
    "# how指定连接方式"
   ]
  },
  {
   "attachments": {},
   "cell_type": "markdown",
   "id": "7b45f005",
   "metadata": {},
   "source": [
    "4. “外连接”(outer)，结果中的键是并集"
   ]
  },
  {
   "cell_type": "code",
   "execution_count": 59,
   "id": "d3556c02",
   "metadata": {},
   "outputs": [
    {
     "data": {
      "text/html": [
       "<div>\n",
       "<style scoped>\n",
       "    .dataframe tbody tr th:only-of-type {\n",
       "        vertical-align: middle;\n",
       "    }\n",
       "\n",
       "    .dataframe tbody tr th {\n",
       "        vertical-align: top;\n",
       "    }\n",
       "\n",
       "    .dataframe thead th {\n",
       "        text-align: right;\n",
       "    }\n",
       "</style>\n",
       "<table border=\"1\" class=\"dataframe\">\n",
       "  <thead>\n",
       "    <tr style=\"text-align: right;\">\n",
       "      <th></th>\n",
       "      <th>key1</th>\n",
       "      <th>data1</th>\n",
       "      <th>key2</th>\n",
       "      <th>data2</th>\n",
       "    </tr>\n",
       "  </thead>\n",
       "  <tbody>\n",
       "    <tr>\n",
       "      <th>0</th>\n",
       "      <td>b</td>\n",
       "      <td>7.0</td>\n",
       "      <td>b</td>\n",
       "      <td>1.0</td>\n",
       "    </tr>\n",
       "    <tr>\n",
       "      <th>1</th>\n",
       "      <td>b</td>\n",
       "      <td>4.0</td>\n",
       "      <td>b</td>\n",
       "      <td>1.0</td>\n",
       "    </tr>\n",
       "    <tr>\n",
       "      <th>2</th>\n",
       "      <td>b</td>\n",
       "      <td>2.0</td>\n",
       "      <td>b</td>\n",
       "      <td>1.0</td>\n",
       "    </tr>\n",
       "    <tr>\n",
       "      <th>3</th>\n",
       "      <td>a</td>\n",
       "      <td>7.0</td>\n",
       "      <td>a</td>\n",
       "      <td>0.0</td>\n",
       "    </tr>\n",
       "    <tr>\n",
       "      <th>4</th>\n",
       "      <td>a</td>\n",
       "      <td>3.0</td>\n",
       "      <td>a</td>\n",
       "      <td>0.0</td>\n",
       "    </tr>\n",
       "    <tr>\n",
       "      <th>5</th>\n",
       "      <td>a</td>\n",
       "      <td>0.0</td>\n",
       "      <td>a</td>\n",
       "      <td>0.0</td>\n",
       "    </tr>\n",
       "    <tr>\n",
       "      <th>6</th>\n",
       "      <td>c</td>\n",
       "      <td>2.0</td>\n",
       "      <td>NaN</td>\n",
       "      <td>NaN</td>\n",
       "    </tr>\n",
       "    <tr>\n",
       "      <th>7</th>\n",
       "      <td>NaN</td>\n",
       "      <td>NaN</td>\n",
       "      <td>d</td>\n",
       "      <td>7.0</td>\n",
       "    </tr>\n",
       "  </tbody>\n",
       "</table>\n",
       "</div>"
      ],
      "text/plain": [
       "  key1  data1 key2  data2\n",
       "0    b    7.0    b    1.0\n",
       "1    b    4.0    b    1.0\n",
       "2    b    2.0    b    1.0\n",
       "3    a    7.0    a    0.0\n",
       "4    a    3.0    a    0.0\n",
       "5    a    0.0    a    0.0\n",
       "6    c    2.0  NaN    NaN\n",
       "7  NaN    NaN    d    7.0"
      ]
     },
     "metadata": {},
     "output_type": "display_data"
    }
   ],
   "source": [
    "display(pd.merge(dat1,dat2,left_on='key1',right_on='key2',how='outer'))"
   ]
  },
  {
   "attachments": {},
   "cell_type": "markdown",
   "id": "282546c8",
   "metadata": {},
   "source": [
    "5. “左连接”(left)"
   ]
  },
  {
   "cell_type": "code",
   "execution_count": 60,
   "id": "2137abee",
   "metadata": {},
   "outputs": [
    {
     "data": {
      "text/html": [
       "<div>\n",
       "<style scoped>\n",
       "    .dataframe tbody tr th:only-of-type {\n",
       "        vertical-align: middle;\n",
       "    }\n",
       "\n",
       "    .dataframe tbody tr th {\n",
       "        vertical-align: top;\n",
       "    }\n",
       "\n",
       "    .dataframe thead th {\n",
       "        text-align: right;\n",
       "    }\n",
       "</style>\n",
       "<table border=\"1\" class=\"dataframe\">\n",
       "  <thead>\n",
       "    <tr style=\"text-align: right;\">\n",
       "      <th></th>\n",
       "      <th>key1</th>\n",
       "      <th>data1</th>\n",
       "      <th>key2</th>\n",
       "      <th>data2</th>\n",
       "    </tr>\n",
       "  </thead>\n",
       "  <tbody>\n",
       "    <tr>\n",
       "      <th>0</th>\n",
       "      <td>b</td>\n",
       "      <td>7</td>\n",
       "      <td>b</td>\n",
       "      <td>1.0</td>\n",
       "    </tr>\n",
       "    <tr>\n",
       "      <th>1</th>\n",
       "      <td>b</td>\n",
       "      <td>4</td>\n",
       "      <td>b</td>\n",
       "      <td>1.0</td>\n",
       "    </tr>\n",
       "    <tr>\n",
       "      <th>2</th>\n",
       "      <td>a</td>\n",
       "      <td>7</td>\n",
       "      <td>a</td>\n",
       "      <td>0.0</td>\n",
       "    </tr>\n",
       "    <tr>\n",
       "      <th>3</th>\n",
       "      <td>c</td>\n",
       "      <td>2</td>\n",
       "      <td>NaN</td>\n",
       "      <td>NaN</td>\n",
       "    </tr>\n",
       "    <tr>\n",
       "      <th>4</th>\n",
       "      <td>a</td>\n",
       "      <td>3</td>\n",
       "      <td>a</td>\n",
       "      <td>0.0</td>\n",
       "    </tr>\n",
       "    <tr>\n",
       "      <th>5</th>\n",
       "      <td>a</td>\n",
       "      <td>0</td>\n",
       "      <td>a</td>\n",
       "      <td>0.0</td>\n",
       "    </tr>\n",
       "    <tr>\n",
       "      <th>6</th>\n",
       "      <td>b</td>\n",
       "      <td>2</td>\n",
       "      <td>b</td>\n",
       "      <td>1.0</td>\n",
       "    </tr>\n",
       "  </tbody>\n",
       "</table>\n",
       "</div>"
      ],
      "text/plain": [
       "  key1  data1 key2  data2\n",
       "0    b      7    b    1.0\n",
       "1    b      4    b    1.0\n",
       "2    a      7    a    0.0\n",
       "3    c      2  NaN    NaN\n",
       "4    a      3    a    0.0\n",
       "5    a      0    a    0.0\n",
       "6    b      2    b    1.0"
      ]
     },
     "metadata": {},
     "output_type": "display_data"
    }
   ],
   "source": [
    "display(pd.merge(dat1,dat2,left_on='key1',right_on='key2',how='left'))"
   ]
  },
  {
   "attachments": {},
   "cell_type": "markdown",
   "id": "b7622420",
   "metadata": {},
   "source": [
    "6. “右连接”(right)"
   ]
  },
  {
   "cell_type": "code",
   "execution_count": 61,
   "id": "f8066fb3",
   "metadata": {},
   "outputs": [
    {
     "data": {
      "text/html": [
       "<div>\n",
       "<style scoped>\n",
       "    .dataframe tbody tr th:only-of-type {\n",
       "        vertical-align: middle;\n",
       "    }\n",
       "\n",
       "    .dataframe tbody tr th {\n",
       "        vertical-align: top;\n",
       "    }\n",
       "\n",
       "    .dataframe thead th {\n",
       "        text-align: right;\n",
       "    }\n",
       "</style>\n",
       "<table border=\"1\" class=\"dataframe\">\n",
       "  <thead>\n",
       "    <tr style=\"text-align: right;\">\n",
       "      <th></th>\n",
       "      <th>key1</th>\n",
       "      <th>data1</th>\n",
       "      <th>key2</th>\n",
       "      <th>data2</th>\n",
       "    </tr>\n",
       "  </thead>\n",
       "  <tbody>\n",
       "    <tr>\n",
       "      <th>0</th>\n",
       "      <td>a</td>\n",
       "      <td>7.0</td>\n",
       "      <td>a</td>\n",
       "      <td>0</td>\n",
       "    </tr>\n",
       "    <tr>\n",
       "      <th>1</th>\n",
       "      <td>a</td>\n",
       "      <td>3.0</td>\n",
       "      <td>a</td>\n",
       "      <td>0</td>\n",
       "    </tr>\n",
       "    <tr>\n",
       "      <th>2</th>\n",
       "      <td>a</td>\n",
       "      <td>0.0</td>\n",
       "      <td>a</td>\n",
       "      <td>0</td>\n",
       "    </tr>\n",
       "    <tr>\n",
       "      <th>3</th>\n",
       "      <td>b</td>\n",
       "      <td>7.0</td>\n",
       "      <td>b</td>\n",
       "      <td>1</td>\n",
       "    </tr>\n",
       "    <tr>\n",
       "      <th>4</th>\n",
       "      <td>b</td>\n",
       "      <td>4.0</td>\n",
       "      <td>b</td>\n",
       "      <td>1</td>\n",
       "    </tr>\n",
       "    <tr>\n",
       "      <th>5</th>\n",
       "      <td>b</td>\n",
       "      <td>2.0</td>\n",
       "      <td>b</td>\n",
       "      <td>1</td>\n",
       "    </tr>\n",
       "    <tr>\n",
       "      <th>6</th>\n",
       "      <td>NaN</td>\n",
       "      <td>NaN</td>\n",
       "      <td>d</td>\n",
       "      <td>7</td>\n",
       "    </tr>\n",
       "  </tbody>\n",
       "</table>\n",
       "</div>"
      ],
      "text/plain": [
       "  key1  data1 key2  data2\n",
       "0    a    7.0    a      0\n",
       "1    a    3.0    a      0\n",
       "2    a    0.0    a      0\n",
       "3    b    7.0    b      1\n",
       "4    b    4.0    b      1\n",
       "5    b    2.0    b      1\n",
       "6  NaN    NaN    d      7"
      ]
     },
     "metadata": {},
     "output_type": "display_data"
    }
   ],
   "source": [
    "display(pd.merge(dat1,dat2,left_on='key1',right_on='key2',how='right'))"
   ]
  },
  {
   "attachments": {},
   "cell_type": "markdown",
   "id": "f6ae0af8",
   "metadata": {},
   "source": [
    "7. 处理重复列名"
   ]
  },
  {
   "cell_type": "code",
   "execution_count": null,
   "id": "678b8437",
   "metadata": {},
   "outputs": [],
   "source": [
    "# suffixes，默认为_x, _y"
   ]
  },
  {
   "cell_type": "code",
   "execution_count": 62,
   "id": "4910e96e",
   "metadata": {},
   "outputs": [],
   "source": [
    "dat3 = pd.DataFrame({'key': ['b', 'b', 'a', 'c', 'a', 'a', 'b'],\n",
    "                        'data' : np.random.randint(0,10,7)})\n",
    "dat4= pd.DataFrame({'key': ['a', 'b', 'd'],\n",
    "                        'data' : np.random.randint(0,10,3)})"
   ]
  },
  {
   "cell_type": "code",
   "execution_count": 63,
   "id": "de6b99f0",
   "metadata": {},
   "outputs": [
    {
     "data": {
      "text/html": [
       "<div>\n",
       "<style scoped>\n",
       "    .dataframe tbody tr th:only-of-type {\n",
       "        vertical-align: middle;\n",
       "    }\n",
       "\n",
       "    .dataframe tbody tr th {\n",
       "        vertical-align: top;\n",
       "    }\n",
       "\n",
       "    .dataframe thead th {\n",
       "        text-align: right;\n",
       "    }\n",
       "</style>\n",
       "<table border=\"1\" class=\"dataframe\">\n",
       "  <thead>\n",
       "    <tr style=\"text-align: right;\">\n",
       "      <th></th>\n",
       "      <th>key</th>\n",
       "      <th>data</th>\n",
       "    </tr>\n",
       "  </thead>\n",
       "  <tbody>\n",
       "    <tr>\n",
       "      <th>0</th>\n",
       "      <td>b</td>\n",
       "      <td>8</td>\n",
       "    </tr>\n",
       "    <tr>\n",
       "      <th>1</th>\n",
       "      <td>b</td>\n",
       "      <td>6</td>\n",
       "    </tr>\n",
       "    <tr>\n",
       "      <th>2</th>\n",
       "      <td>a</td>\n",
       "      <td>2</td>\n",
       "    </tr>\n",
       "    <tr>\n",
       "      <th>3</th>\n",
       "      <td>c</td>\n",
       "      <td>6</td>\n",
       "    </tr>\n",
       "    <tr>\n",
       "      <th>4</th>\n",
       "      <td>a</td>\n",
       "      <td>7</td>\n",
       "    </tr>\n",
       "    <tr>\n",
       "      <th>5</th>\n",
       "      <td>a</td>\n",
       "      <td>7</td>\n",
       "    </tr>\n",
       "    <tr>\n",
       "      <th>6</th>\n",
       "      <td>b</td>\n",
       "      <td>1</td>\n",
       "    </tr>\n",
       "  </tbody>\n",
       "</table>\n",
       "</div>"
      ],
      "text/plain": [
       "  key  data\n",
       "0   b     8\n",
       "1   b     6\n",
       "2   a     2\n",
       "3   c     6\n",
       "4   a     7\n",
       "5   a     7\n",
       "6   b     1"
      ]
     },
     "metadata": {},
     "output_type": "display_data"
    },
    {
     "data": {
      "text/html": [
       "<div>\n",
       "<style scoped>\n",
       "    .dataframe tbody tr th:only-of-type {\n",
       "        vertical-align: middle;\n",
       "    }\n",
       "\n",
       "    .dataframe tbody tr th {\n",
       "        vertical-align: top;\n",
       "    }\n",
       "\n",
       "    .dataframe thead th {\n",
       "        text-align: right;\n",
       "    }\n",
       "</style>\n",
       "<table border=\"1\" class=\"dataframe\">\n",
       "  <thead>\n",
       "    <tr style=\"text-align: right;\">\n",
       "      <th></th>\n",
       "      <th>key</th>\n",
       "      <th>data</th>\n",
       "    </tr>\n",
       "  </thead>\n",
       "  <tbody>\n",
       "    <tr>\n",
       "      <th>0</th>\n",
       "      <td>a</td>\n",
       "      <td>0</td>\n",
       "    </tr>\n",
       "    <tr>\n",
       "      <th>1</th>\n",
       "      <td>b</td>\n",
       "      <td>5</td>\n",
       "    </tr>\n",
       "    <tr>\n",
       "      <th>2</th>\n",
       "      <td>d</td>\n",
       "      <td>8</td>\n",
       "    </tr>\n",
       "  </tbody>\n",
       "</table>\n",
       "</div>"
      ],
      "text/plain": [
       "  key  data\n",
       "0   a     0\n",
       "1   b     5\n",
       "2   d     8"
      ]
     },
     "metadata": {},
     "output_type": "display_data"
    }
   ],
   "source": [
    "display(dat3)\n",
    "display(dat4)"
   ]
  },
  {
   "cell_type": "code",
   "execution_count": 65,
   "id": "75010749",
   "metadata": {},
   "outputs": [
    {
     "data": {
      "text/html": [
       "<div>\n",
       "<style scoped>\n",
       "    .dataframe tbody tr th:only-of-type {\n",
       "        vertical-align: middle;\n",
       "    }\n",
       "\n",
       "    .dataframe tbody tr th {\n",
       "        vertical-align: top;\n",
       "    }\n",
       "\n",
       "    .dataframe thead th {\n",
       "        text-align: right;\n",
       "    }\n",
       "</style>\n",
       "<table border=\"1\" class=\"dataframe\">\n",
       "  <thead>\n",
       "    <tr style=\"text-align: right;\">\n",
       "      <th></th>\n",
       "      <th>key</th>\n",
       "      <th>data_left</th>\n",
       "      <th>data_right</th>\n",
       "    </tr>\n",
       "  </thead>\n",
       "  <tbody>\n",
       "    <tr>\n",
       "      <th>0</th>\n",
       "      <td>b</td>\n",
       "      <td>8</td>\n",
       "      <td>5</td>\n",
       "    </tr>\n",
       "    <tr>\n",
       "      <th>1</th>\n",
       "      <td>b</td>\n",
       "      <td>6</td>\n",
       "      <td>5</td>\n",
       "    </tr>\n",
       "    <tr>\n",
       "      <th>2</th>\n",
       "      <td>b</td>\n",
       "      <td>1</td>\n",
       "      <td>5</td>\n",
       "    </tr>\n",
       "    <tr>\n",
       "      <th>3</th>\n",
       "      <td>a</td>\n",
       "      <td>2</td>\n",
       "      <td>0</td>\n",
       "    </tr>\n",
       "    <tr>\n",
       "      <th>4</th>\n",
       "      <td>a</td>\n",
       "      <td>7</td>\n",
       "      <td>0</td>\n",
       "    </tr>\n",
       "    <tr>\n",
       "      <th>5</th>\n",
       "      <td>a</td>\n",
       "      <td>7</td>\n",
       "      <td>0</td>\n",
       "    </tr>\n",
       "  </tbody>\n",
       "</table>\n",
       "</div>"
      ],
      "text/plain": [
       "  key  data_left  data_right\n",
       "0   b          8           5\n",
       "1   b          6           5\n",
       "2   b          1           5\n",
       "3   a          2           0\n",
       "4   a          7           0\n",
       "5   a          7           0"
      ]
     },
     "metadata": {},
     "output_type": "display_data"
    }
   ],
   "source": [
    "display(pd.merge(dat3,dat4,on='key',suffixes=('_left','_right')))"
   ]
  },
  {
   "attachments": {},
   "cell_type": "markdown",
   "id": "cc106c31",
   "metadata": {},
   "source": [
    "8. 按索引连接"
   ]
  },
  {
   "cell_type": "code",
   "execution_count": null,
   "id": "22b620c1",
   "metadata": {},
   "outputs": [],
   "source": [
    "# left_index=True或right_index=True"
   ]
  },
  {
   "cell_type": "code",
   "execution_count": 51,
   "id": "f5363412",
   "metadata": {},
   "outputs": [],
   "source": [
    "df3 = pd.DataFrame({'key': ['b', 'b', 'a', 'c', 'a', 'a', 'b'],\n",
    "                        'data1' : np.random.randint(0,10,7)})\n",
    "df4 = pd.DataFrame({'data2' : np.random.randint(0,10,3)}, index=['a', 'b', 'd'])"
   ]
  },
  {
   "cell_type": "code",
   "execution_count": 52,
   "id": "699153fc",
   "metadata": {},
   "outputs": [
    {
     "name": "stdout",
     "output_type": "stream",
     "text": [
      "  key  data1  data2\n",
      "0   b      3      8\n",
      "1   b      3      8\n",
      "6   b      5      8\n",
      "2   a      0      3\n",
      "4   a      7      3\n",
      "5   a      0      3\n"
     ]
    }
   ],
   "source": [
    "print(pd.merge(df3,df4,left_on='key',right_index=True))"
   ]
  },
  {
   "attachments": {},
   "cell_type": "markdown",
   "id": "2b371cad",
   "metadata": {},
   "source": [
    "## 数据合并(pd.concat)"
   ]
  },
  {
   "attachments": {},
   "cell_type": "markdown",
   "id": "fde4a1bc",
   "metadata": {},
   "source": [
    "1. NumPy的concat"
   ]
  },
  {
   "cell_type": "code",
   "execution_count": 53,
   "id": "0e46d73b",
   "metadata": {},
   "outputs": [
    {
     "name": "stdout",
     "output_type": "stream",
     "text": [
      "[[3 2 3 0]\n",
      " [8 3 8 4]\n",
      " [4 9 9 0]]\n",
      "[[8 1 1 7]\n",
      " [0 2 6 2]\n",
      " [7 4 2 3]]\n"
     ]
    }
   ],
   "source": [
    "arr1 = np.random.randint(0, 10, (3, 4))\n",
    "arr2 = np.random.randint(0, 10, (3, 4))\n",
    "print(arr1)\n",
    "print(arr2)"
   ]
  },
  {
   "cell_type": "code",
   "execution_count": 54,
   "id": "647ce621",
   "metadata": {},
   "outputs": [
    {
     "name": "stdout",
     "output_type": "stream",
     "text": [
      "[[3 2 3 0]\n",
      " [8 3 8 4]\n",
      " [4 9 9 0]\n",
      " [8 1 1 7]\n",
      " [0 2 6 2]\n",
      " [7 4 2 3]]\n"
     ]
    }
   ],
   "source": [
    "print(np.concatenate([arr1,arr2]))"
   ]
  },
  {
   "cell_type": "code",
   "execution_count": 55,
   "id": "75d80215",
   "metadata": {},
   "outputs": [
    {
     "name": "stdout",
     "output_type": "stream",
     "text": [
      "[[3 2 3 0 8 1 1 7]\n",
      " [8 3 8 4 0 2 6 2]\n",
      " [4 9 9 0 7 4 2 3]]\n"
     ]
    }
   ],
   "source": [
    "print(np.concatenate([arr1,arr2],axis=1))"
   ]
  },
  {
   "attachments": {},
   "cell_type": "markdown",
   "id": "73b2e6da",
   "metadata": {},
   "source": [
    "2. pd.concat"
   ]
  },
  {
   "cell_type": "code",
   "execution_count": null,
   "id": "2b1636da",
   "metadata": {},
   "outputs": [],
   "source": [
    "# 注意指定轴方向，默认axis=0\n",
    "\n",
    "# join指定合并方式，默认为outer\n",
    "\n",
    "# Series合并时查看行索引有无重复"
   ]
  },
  {
   "attachments": {},
   "cell_type": "markdown",
   "id": "ed010274",
   "metadata": {},
   "source": [
    "1) index 没有重复的情况"
   ]
  },
  {
   "cell_type": "code",
   "execution_count": 56,
   "id": "049a5ca1",
   "metadata": {},
   "outputs": [],
   "source": [
    "ser1 = pd.Series(np.random.randint(0, 10, 5), index=range(0,5))\n",
    "ser2 = pd.Series(np.random.randint(0, 10, 4), index=range(5,9))\n",
    "ser3 = pd.Series(np.random.randint(0, 10, 3), index=range(9,12))"
   ]
  },
  {
   "cell_type": "code",
   "execution_count": 57,
   "id": "a7a9a19b",
   "metadata": {},
   "outputs": [
    {
     "name": "stdout",
     "output_type": "stream",
     "text": [
      "0    9\n",
      "1    2\n",
      "2    7\n",
      "3    0\n",
      "4    3\n",
      "dtype: int32\n",
      "5    9\n",
      "6    4\n",
      "7    6\n",
      "8    5\n",
      "dtype: int32\n",
      "9     1\n",
      "10    4\n",
      "11    7\n",
      "dtype: int32\n"
     ]
    }
   ],
   "source": [
    "print(ser1)\n",
    "print(ser2)\n",
    "print(ser3)"
   ]
  },
  {
   "cell_type": "code",
   "execution_count": 113,
   "id": "f0b96f86",
   "metadata": {},
   "outputs": [
    {
     "name": "stdout",
     "output_type": "stream",
     "text": [
      "0     8\n",
      "1     1\n",
      "2     8\n",
      "3     5\n",
      "4     8\n",
      "5     2\n",
      "6     9\n",
      "7     2\n",
      "8     9\n",
      "9     9\n",
      "10    3\n",
      "11    6\n",
      "dtype: int32\n"
     ]
    }
   ],
   "source": [
    "print(pd.concat([ser1,ser2,ser3]))"
   ]
  },
  {
   "cell_type": "code",
   "execution_count": 58,
   "id": "0317eec8",
   "metadata": {},
   "outputs": [
    {
     "name": "stdout",
     "output_type": "stream",
     "text": [
      "      0    1    2\n",
      "0   9.0  NaN  NaN\n",
      "1   2.0  NaN  NaN\n",
      "2   7.0  NaN  NaN\n",
      "3   0.0  NaN  NaN\n",
      "4   3.0  NaN  NaN\n",
      "5   NaN  9.0  NaN\n",
      "6   NaN  4.0  NaN\n",
      "7   NaN  6.0  NaN\n",
      "8   NaN  5.0  NaN\n",
      "9   NaN  NaN  1.0\n",
      "10  NaN  NaN  4.0\n",
      "11  NaN  NaN  7.0\n"
     ]
    }
   ],
   "source": [
    "print(pd.concat([ser1,ser2,ser3],axis=1))"
   ]
  },
  {
   "attachments": {},
   "cell_type": "markdown",
   "id": "a80dd954",
   "metadata": {},
   "source": [
    "2) index 有重复的情况"
   ]
  },
  {
   "cell_type": "code",
   "execution_count": 59,
   "id": "4aeeef51",
   "metadata": {},
   "outputs": [],
   "source": [
    "# index 有重复的情况\n",
    "ser4 = pd.Series(np.random.randint(0, 10, 5), index=range(5))\n",
    "ser5 = pd.Series(np.random.randint(0, 10, 4), index=range(4))\n",
    "ser6 = pd.Series(np.random.randint(0, 10, 3), index=range(3))"
   ]
  },
  {
   "cell_type": "code",
   "execution_count": 60,
   "id": "80efca5d",
   "metadata": {},
   "outputs": [
    {
     "name": "stdout",
     "output_type": "stream",
     "text": [
      "0    9\n",
      "1    7\n",
      "2    7\n",
      "3    4\n",
      "4    2\n",
      "dtype: int32\n",
      "0    8\n",
      "1    4\n",
      "2    1\n",
      "3    0\n",
      "dtype: int32\n",
      "0    9\n",
      "1    1\n",
      "2    6\n",
      "dtype: int32\n"
     ]
    }
   ],
   "source": [
    "print(ser4)\n",
    "print(ser5)\n",
    "print(ser6)"
   ]
  },
  {
   "cell_type": "code",
   "execution_count": 61,
   "id": "58bfcd1e",
   "metadata": {},
   "outputs": [
    {
     "name": "stdout",
     "output_type": "stream",
     "text": [
      "0    9\n",
      "1    7\n",
      "2    7\n",
      "3    4\n",
      "4    2\n",
      "0    8\n",
      "1    4\n",
      "2    1\n",
      "3    0\n",
      "0    9\n",
      "1    1\n",
      "2    6\n",
      "dtype: int32\n"
     ]
    }
   ],
   "source": [
    "print(pd.concat([ser4,ser5,ser6]))"
   ]
  },
  {
   "attachments": {},
   "cell_type": "markdown",
   "id": "0efb1c48",
   "metadata": {},
   "source": [
    "3) DataFrame合并时同时查看行索引和列索引有无重复"
   ]
  },
  {
   "cell_type": "code",
   "execution_count": 62,
   "id": "d2d4f898",
   "metadata": {},
   "outputs": [],
   "source": [
    "df4= pd.DataFrame(np.random.randint(0, 10, (3, 2)), index=['a', 'b', 'c'],\n",
    "                       columns=['A', 'B'])\n",
    "df5 = pd.DataFrame(np.random.randint(0, 10, (2, 2)), index=['a', 'b'],\n",
    "                       columns=['C', 'D'])"
   ]
  },
  {
   "cell_type": "code",
   "execution_count": 63,
   "id": "632e1abd",
   "metadata": {},
   "outputs": [
    {
     "name": "stdout",
     "output_type": "stream",
     "text": [
      "   A  B\n",
      "a  5  7\n",
      "b  9  7\n",
      "c  2  3\n",
      "   C  D\n",
      "a  5  9\n",
      "b  9  8\n"
     ]
    }
   ],
   "source": [
    "print(df4)\n",
    "print(df5)"
   ]
  },
  {
   "cell_type": "code",
   "execution_count": 64,
   "id": "d1621bcc",
   "metadata": {},
   "outputs": [
    {
     "name": "stdout",
     "output_type": "stream",
     "text": [
      "     A    B    C    D\n",
      "a  5.0  7.0  NaN  NaN\n",
      "b  9.0  7.0  NaN  NaN\n",
      "c  2.0  3.0  NaN  NaN\n",
      "a  NaN  NaN  5.0  9.0\n",
      "b  NaN  NaN  9.0  8.0\n"
     ]
    }
   ],
   "source": [
    "print(pd.concat([df4,df5]))"
   ]
  },
  {
   "cell_type": "code",
   "execution_count": 65,
   "id": "9dd2a8b8",
   "metadata": {},
   "outputs": [
    {
     "name": "stdout",
     "output_type": "stream",
     "text": [
      "   A  B  C  D\n",
      "a  5  7  5  9\n",
      "b  9  7  9  8\n"
     ]
    }
   ],
   "source": [
    "print(pd.concat([df4,df5],axis=1,join='inner'))"
   ]
  },
  {
   "attachments": {},
   "cell_type": "markdown",
   "id": "277cd82b",
   "metadata": {},
   "source": [
    "## 数据重构"
   ]
  },
  {
   "cell_type": "code",
   "execution_count": null,
   "id": "00748fa8",
   "metadata": {},
   "outputs": [],
   "source": [
    "# 1. stack\n",
    "# 将列索引旋转为行索引，完成层级索引\n",
    "# DataFrame->Series"
   ]
  },
  {
   "cell_type": "code",
   "execution_count": 66,
   "id": "599b42ee",
   "metadata": {},
   "outputs": [],
   "source": [
    "da1 = pd.DataFrame(np.random.randint(0,10, (5,2)), columns=['data1', 'data2'])"
   ]
  },
  {
   "cell_type": "code",
   "execution_count": 67,
   "id": "604c1721",
   "metadata": {},
   "outputs": [
    {
     "name": "stdout",
     "output_type": "stream",
     "text": [
      "   data1  data2\n",
      "0      7      2\n",
      "1      9      4\n",
      "2      2      0\n",
      "3      1      3\n",
      "4      2      2\n"
     ]
    }
   ],
   "source": [
    "print(da1)"
   ]
  },
  {
   "cell_type": "code",
   "execution_count": 68,
   "id": "c7d35df7",
   "metadata": {},
   "outputs": [
    {
     "name": "stdout",
     "output_type": "stream",
     "text": [
      "0  data1    7\n",
      "   data2    2\n",
      "1  data1    9\n",
      "   data2    4\n",
      "2  data1    2\n",
      "   data2    0\n",
      "3  data1    1\n",
      "   data2    3\n",
      "4  data1    2\n",
      "   data2    2\n",
      "dtype: int32\n"
     ]
    }
   ],
   "source": [
    "stacked=da1.stack()\n",
    "print(stacked)"
   ]
  },
  {
   "attachments": {},
   "cell_type": "markdown",
   "id": "505439a9",
   "metadata": {},
   "source": [
    "2. unstack"
   ]
  },
  {
   "cell_type": "code",
   "execution_count": null,
   "id": "eef05270",
   "metadata": {},
   "outputs": [],
   "source": [
    "# 将层级索引展开\n",
    "\n",
    "# Series->DataFrame\n",
    "\n",
    "# 认操作内层索引，即level=-1"
   ]
  },
  {
   "cell_type": "code",
   "execution_count": 69,
   "id": "f64bb184",
   "metadata": {},
   "outputs": [
    {
     "name": "stdout",
     "output_type": "stream",
     "text": [
      "   data1  data2\n",
      "0      7      2\n",
      "1      9      4\n",
      "2      2      0\n",
      "3      1      3\n",
      "4      2      2\n"
     ]
    }
   ],
   "source": [
    "print(stacked.unstack())"
   ]
  },
  {
   "cell_type": "code",
   "execution_count": 70,
   "id": "5128d452",
   "metadata": {},
   "outputs": [
    {
     "name": "stdout",
     "output_type": "stream",
     "text": [
      "       0  1  2  3  4\n",
      "data1  7  9  2  1  2\n",
      "data2  2  4  0  3  2\n"
     ]
    }
   ],
   "source": [
    "# 通过level指定操作索引的级别\n",
    "print(stacked.unstack(level=0))"
   ]
  },
  {
   "attachments": {},
   "cell_type": "markdown",
   "id": "78108063",
   "metadata": {},
   "source": [
    "## 数据转换"
   ]
  },
  {
   "attachments": {},
   "cell_type": "markdown",
   "id": "870cd412",
   "metadata": {},
   "source": [
    "一、 处理重复数据"
   ]
  },
  {
   "attachments": {},
   "cell_type": "markdown",
   "id": "2056e8ff",
   "metadata": {},
   "source": [
    "1 duplicated() 返回布尔型Series表示每行是否为重复行"
   ]
  },
  {
   "cell_type": "code",
   "execution_count": 71,
   "id": "603b77db",
   "metadata": {},
   "outputs": [],
   "source": [
    "dfx = pd.DataFrame({'data1' : ['a'] * 4 + ['b'] * 4,\n",
    "                       'data2' : np.random.randint(0, 4, 8)})"
   ]
  },
  {
   "cell_type": "code",
   "execution_count": 72,
   "id": "5d299a82",
   "metadata": {},
   "outputs": [
    {
     "name": "stdout",
     "output_type": "stream",
     "text": [
      "  data1  data2\n",
      "0     a      0\n",
      "1     a      1\n",
      "2     a      0\n",
      "3     a      1\n",
      "4     b      2\n",
      "5     b      2\n",
      "6     b      2\n",
      "7     b      1\n"
     ]
    }
   ],
   "source": [
    "print(dfx)"
   ]
  },
  {
   "cell_type": "code",
   "execution_count": 73,
   "id": "47be2b08",
   "metadata": {},
   "outputs": [
    {
     "name": "stdout",
     "output_type": "stream",
     "text": [
      "0    False\n",
      "1    False\n",
      "2     True\n",
      "3     True\n",
      "4    False\n",
      "5     True\n",
      "6     True\n",
      "7    False\n",
      "dtype: bool\n"
     ]
    }
   ],
   "source": [
    "print(dfx.duplicated())"
   ]
  },
  {
   "attachments": {},
   "cell_type": "markdown",
   "id": "962b7c95",
   "metadata": {},
   "source": [
    "2 drop_duplicates() 过滤重复行"
   ]
  },
  {
   "cell_type": "code",
   "execution_count": 74,
   "id": "4d0c36f5",
   "metadata": {},
   "outputs": [
    {
     "name": "stdout",
     "output_type": "stream",
     "text": [
      "  data1  data2\n",
      "0     a      0\n",
      "1     a      1\n",
      "4     b      2\n",
      "7     b      1\n"
     ]
    }
   ],
   "source": [
    "print(dfx.drop_duplicates())"
   ]
  },
  {
   "cell_type": "code",
   "execution_count": 75,
   "id": "871ea6c8",
   "metadata": {},
   "outputs": [
    {
     "name": "stdout",
     "output_type": "stream",
     "text": [
      "  data1  data2\n",
      "0     a      0\n",
      "1     a      1\n",
      "4     b      2\n"
     ]
    }
   ],
   "source": [
    "print(dfx.drop_duplicates('data2'))"
   ]
  },
  {
   "attachments": {},
   "cell_type": "markdown",
   "id": "e851cbe0",
   "metadata": {},
   "source": [
    "3. 根据map传入的函数对每行或每列进行转换"
   ]
  },
  {
   "attachments": {},
   "cell_type": "markdown",
   "id": "6f8ea961",
   "metadata": {},
   "source": [
    "Series根据map传入的函数对每行或每列进行转换"
   ]
  },
  {
   "cell_type": "code",
   "execution_count": 76,
   "id": "3eb82f44",
   "metadata": {},
   "outputs": [],
   "source": [
    "ser6 = pd.Series(np.random.randint(0,10,10))"
   ]
  },
  {
   "cell_type": "code",
   "execution_count": 77,
   "id": "40ac6b4e",
   "metadata": {},
   "outputs": [
    {
     "name": "stdout",
     "output_type": "stream",
     "text": [
      "0    4\n",
      "1    5\n",
      "2    9\n",
      "3    7\n",
      "4    5\n",
      "5    0\n",
      "6    9\n",
      "7    4\n",
      "8    7\n",
      "9    7\n",
      "dtype: int32\n"
     ]
    }
   ],
   "source": [
    "print(ser6)"
   ]
  },
  {
   "cell_type": "code",
   "execution_count": 78,
   "id": "9f14f33a",
   "metadata": {},
   "outputs": [
    {
     "name": "stdout",
     "output_type": "stream",
     "text": [
      "0    16\n",
      "1    25\n",
      "2    81\n",
      "3    49\n",
      "4    25\n",
      "5     0\n",
      "6    81\n",
      "7    16\n",
      "8    49\n",
      "9    49\n",
      "dtype: int64\n"
     ]
    }
   ],
   "source": [
    "print(ser6.map(lambda x:x**2))"
   ]
  },
  {
   "attachments": {},
   "cell_type": "markdown",
   "id": "9ad2570c",
   "metadata": {},
   "source": [
    "二、数据替换"
   ]
  },
  {
   "attachments": {},
   "cell_type": "markdown",
   "id": "c3a35239",
   "metadata": {},
   "source": [
    "replace根据值的内容进行替换"
   ]
  },
  {
   "cell_type": "code",
   "execution_count": 79,
   "id": "9014dffc",
   "metadata": {},
   "outputs": [
    {
     "name": "stdout",
     "output_type": "stream",
     "text": [
      "0    4\n",
      "1    5\n",
      "2    9\n",
      "3    7\n",
      "4    5\n",
      "5    0\n",
      "6    9\n",
      "7    4\n",
      "8    7\n",
      "9    7\n",
      "dtype: int32\n"
     ]
    }
   ],
   "source": [
    "# 单个值替换单个值\n",
    "print(ser6.replace(1,-10))"
   ]
  },
  {
   "cell_type": "code",
   "execution_count": 80,
   "id": "1426ede4",
   "metadata": {},
   "outputs": [
    {
     "name": "stdout",
     "output_type": "stream",
     "text": [
      "0    4\n",
      "1    5\n",
      "2    9\n",
      "3    7\n",
      "4    5\n",
      "5    0\n",
      "6    9\n",
      "7    4\n",
      "8    7\n",
      "9    7\n",
      "dtype: int32\n"
     ]
    }
   ],
   "source": [
    "# 多个值替换一个值\n",
    "print(ser6.replace([6,8],-11))"
   ]
  },
  {
   "cell_type": "code",
   "execution_count": 81,
   "id": "87553997",
   "metadata": {},
   "outputs": [
    {
     "name": "stdout",
     "output_type": "stream",
     "text": [
      "0       4\n",
      "1    1000\n",
      "2    2222\n",
      "3       7\n",
      "4    1000\n",
      "5       0\n",
      "6    2222\n",
      "7       4\n",
      "8       7\n",
      "9       7\n",
      "dtype: int32\n"
     ]
    }
   ],
   "source": [
    "# 多个值替换多个值\n",
    "print(ser6.replace([5,9],[1000,2222]))"
   ]
  },
  {
   "cell_type": "code",
   "execution_count": null,
   "id": "d21cf5ce",
   "metadata": {},
   "outputs": [],
   "source": []
  }
 ],
 "metadata": {
  "kernelspec": {
   "display_name": "Python 3 (ipykernel)",
   "language": "python",
   "name": "python3"
  },
  "language_info": {
   "codemirror_mode": {
    "name": "ipython",
    "version": 3
   },
   "file_extension": ".py",
   "mimetype": "text/x-python",
   "name": "python",
   "nbconvert_exporter": "python",
   "pygments_lexer": "ipython3",
   "version": "3.9.13"
  },
  "toc": {
   "base_numbering": 1,
   "nav_menu": {},
   "number_sections": true,
   "sideBar": true,
   "skip_h1_title": false,
   "title_cell": "Table of Contents",
   "title_sidebar": "Contents",
   "toc_cell": false,
   "toc_position": {
    "height": "calc(100% - 180px)",
    "left": "10px",
    "top": "150px",
    "width": "256.08px"
   },
   "toc_section_display": true,
   "toc_window_display": true
  },
  "varInspector": {
   "cols": {
    "lenName": 16,
    "lenType": 16,
    "lenVar": 40
   },
   "kernels_config": {
    "python": {
     "delete_cmd_postfix": "",
     "delete_cmd_prefix": "del ",
     "library": "var_list.py",
     "varRefreshCmd": "print(var_dic_list())"
    },
    "r": {
     "delete_cmd_postfix": ") ",
     "delete_cmd_prefix": "rm(",
     "library": "var_list.r",
     "varRefreshCmd": "cat(var_dic_list()) "
    }
   },
   "types_to_exclude": [
    "module",
    "function",
    "builtin_function_or_method",
    "instance",
    "_Feature"
   ],
   "window_display": false
  }
 },
 "nbformat": 4,
 "nbformat_minor": 5
}
