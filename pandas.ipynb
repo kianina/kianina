{
 "cells": [
  {
   "attachments": {},
   "cell_type": "markdown",
   "id": "ac7772e9",
   "metadata": {},
   "source": [
    "# pandans的数据结构"
   ]
  },
  {
   "attachments": {},
   "cell_type": "markdown",
   "id": "58b2d2a4",
   "metadata": {},
   "source": [
    "## series"
   ]
  },
  {
   "attachments": {},
   "cell_type": "markdown",
   "id": "111709df",
   "metadata": {},
   "source": [
    "1. 通过list构建Series"
   ]
  },
  {
   "cell_type": "code",
   "execution_count": 1,
   "id": "a7e8e6ff",
   "metadata": {},
   "outputs": [],
   "source": [
    "import pandas as pd\n",
    "import numpy as np"
   ]
  },
  {
   "cell_type": "code",
   "execution_count": 2,
   "id": "e952da34",
   "metadata": {},
   "outputs": [
    {
     "name": "stdout",
     "output_type": "stream",
     "text": [
      "0      0\n",
      "1      1\n",
      "2      2\n",
      "3      3\n",
      "4      4\n",
      "5      5\n",
      "6      6\n",
      "7      7\n",
      "8      8\n",
      "9      9\n",
      "10    10\n",
      "dtype: int64\n",
      "0    11\n",
      "1    12\n",
      "2    13\n",
      "dtype: int64\n",
      "<class 'pandas.core.series.Series'>\n"
     ]
    }
   ],
   "source": [
    "ser_obj=pd.Series(range(11))\n",
    "print(ser_obj)\n",
    "ser2=pd.Series(range(11,16))\n",
    "print(ser2.head(3))\n",
    "print(type(ser2))"
   ]
  },
  {
   "attachments": {},
   "cell_type": "markdown",
   "id": "f37211cd",
   "metadata": {},
   "source": [
    "2. 获取数据和索引"
   ]
  },
  {
   "cell_type": "code",
   "execution_count": 3,
   "id": "1329b9ab",
   "metadata": {},
   "outputs": [
    {
     "name": "stdout",
     "output_type": "stream",
     "text": [
      "[ 0  1  2  3  4  5  6  7  8  9 10]\n"
     ]
    }
   ],
   "source": [
    "#获取数据，返回一个列表\n",
    "print(ser_obj.values) "
   ]
  },
  {
   "cell_type": "code",
   "execution_count": 4,
   "id": "c703b766",
   "metadata": {},
   "outputs": [
    {
     "name": "stdout",
     "output_type": "stream",
     "text": [
      "RangeIndex(start=0, stop=11, step=1)\n"
     ]
    }
   ],
   "source": [
    "#获取索引\n",
    "print(ser_obj.index)"
   ]
  },
  {
   "attachments": {},
   "cell_type": "markdown",
   "id": "4603124d",
   "metadata": {},
   "source": [
    "3. 通过索引获取数据"
   ]
  },
  {
   "cell_type": "code",
   "execution_count": 5,
   "id": "6c7552e5",
   "metadata": {},
   "outputs": [
    {
     "name": "stdout",
     "output_type": "stream",
     "text": [
      "5\n",
      "0\n"
     ]
    }
   ],
   "source": [
    "print(ser_obj[5])\n",
    "print(ser_obj[0])"
   ]
  },
  {
   "attachments": {},
   "cell_type": "markdown",
   "id": "b5c9e54d",
   "metadata": {},
   "source": [
    "4. 索引与数据的对应关系不被运算结果影响"
   ]
  },
  {
   "cell_type": "code",
   "execution_count": 6,
   "id": "6d92563b",
   "metadata": {},
   "outputs": [
    {
     "name": "stdout",
     "output_type": "stream",
     "text": [
      "0      0\n",
      "1      3\n",
      "2      6\n",
      "3      9\n",
      "4     12\n",
      "5     15\n",
      "6     18\n",
      "7     21\n",
      "8     24\n",
      "9     27\n",
      "10    30\n",
      "dtype: int64\n",
      "0     False\n",
      "1     False\n",
      "2     False\n",
      "3     False\n",
      "4     False\n",
      "5     False\n",
      "6     False\n",
      "7     False\n",
      "8      True\n",
      "9      True\n",
      "10     True\n",
      "dtype: bool\n"
     ]
    }
   ],
   "source": [
    "print(ser_obj*3)\n",
    "print(ser_obj>7)"
   ]
  },
  {
   "attachments": {},
   "cell_type": "markdown",
   "id": "e3dc639c",
   "metadata": {},
   "source": [
    "5. 通过dict构建Series"
   ]
  },
  {
   "cell_type": "code",
   "execution_count": 7,
   "id": "1abc322c",
   "metadata": {},
   "outputs": [
    {
     "name": "stdout",
     "output_type": "stream",
     "text": [
      "2001    15.2\n",
      "2002    74.5\n",
      "2003    45.2\n",
      "dtype: float64\n"
     ]
    }
   ],
   "source": [
    "year_data={2001:15.2,2002:74.5,2003:45.2}\n",
    "ser3=pd.Series(year_data)\n",
    "print(ser3)"
   ]
  },
  {
   "attachments": {},
   "cell_type": "markdown",
   "id": "2635a182",
   "metadata": {},
   "source": [
    "name属性"
   ]
  },
  {
   "cell_type": "code",
   "execution_count": 8,
   "id": "7c687a42",
   "metadata": {},
   "outputs": [
    {
     "name": "stdout",
     "output_type": "stream",
     "text": [
      "year\n",
      "2001    15.2\n",
      "2002    74.5\n",
      "2003    45.2\n",
      "Name: temp, dtype: float64\n"
     ]
    }
   ],
   "source": [
    "ser3.name=\"temp\"\n",
    "ser3.index.name=\"year\"\n",
    "print(ser3.head())"
   ]
  },
  {
   "attachments": {},
   "cell_type": "markdown",
   "id": "c764bd2d",
   "metadata": {},
   "source": [
    "## DataFrame"
   ]
  },
  {
   "attachments": {},
   "cell_type": "markdown",
   "id": "8973f8bb",
   "metadata": {},
   "source": [
    "1. 通过ndarray构建DataFrame"
   ]
  },
  {
   "cell_type": "code",
   "execution_count": 9,
   "id": "ff00f338",
   "metadata": {},
   "outputs": [
    {
     "name": "stdout",
     "output_type": "stream",
     "text": [
      "[[ 0.06056102 -2.09707635 -1.53931997 -1.0461369 ]\n",
      " [ 0.76189205  1.57853707 -1.36036893  0.69654883]\n",
      " [-3.23545356  0.7385463   1.03762049  2.34025234]\n",
      " [ 0.10588288  0.14272749  1.34125327  0.61611027]\n",
      " [ 1.40707884 -0.04718134  0.51710994  0.67464822]]\n",
      "          0         1         2         3\n",
      "0  0.060561 -2.097076 -1.539320 -1.046137\n",
      "1  0.761892  1.578537 -1.360369  0.696549\n",
      "2 -3.235454  0.738546  1.037620  2.340252\n",
      "3  0.105883  0.142727  1.341253  0.616110\n",
      "4  1.407079 -0.047181  0.517110  0.674648\n",
      "          0         1         2         3\n",
      "0  0.060561 -2.097076 -1.539320 -1.046137\n",
      "1  0.761892  1.578537 -1.360369  0.696549\n",
      "2 -3.235454  0.738546  1.037620  2.340252\n",
      "3  0.105883  0.142727  1.341253  0.616110\n",
      "4  1.407079 -0.047181  0.517110  0.674648\n"
     ]
    }
   ],
   "source": [
    "arr=np.random.randn(5,4)\n",
    "print(arr)\n",
    "dat=pd.DataFrame(arr)\n",
    "print(dat.head())\n",
    "print(dat)"
   ]
  },
  {
   "attachments": {},
   "cell_type": "markdown",
   "id": "4d5dde87",
   "metadata": {},
   "source": [
    "2. 通过dict构建DataFrame"
   ]
  },
  {
   "cell_type": "code",
   "execution_count": 10,
   "id": "bbc23111",
   "metadata": {},
   "outputs": [
    {
     "name": "stdout",
     "output_type": "stream",
     "text": [
      "   A          B    C  D       E       F\n",
      "0  1 2017-04-26  1.0  3  Python  ITCast\n",
      "1  1 2017-04-26  1.0  3    Java  ITCast\n",
      "2  1 2017-04-26  1.0  3     C++  ITCast\n",
      "3  1 2017-04-26  1.0  3       C  ITCast\n"
     ]
    }
   ],
   "source": [
    "dict_data = {'A': 1, \n",
    "             'B': pd.Timestamp('20170426'),\n",
    "             'C': pd.Series(1, index=list(range(4)),dtype='float32'),\n",
    "             'D': np.array([3] * 4,dtype='int32'),\n",
    "             'E': [\"Python\",\"Java\",\"C++\",\"C\"],\n",
    "             'F': 'ITCast' }\n",
    "dat1=pd.DataFrame(dict_data)\n",
    "print(dat1)"
   ]
  },
  {
   "attachments": {},
   "cell_type": "markdown",
   "id": "74ff4db3",
   "metadata": {},
   "source": [
    "3. 通过列索引获取列数据（Series类型）"
   ]
  },
  {
   "cell_type": "code",
   "execution_count": 11,
   "id": "a9baeb04",
   "metadata": {},
   "outputs": [
    {
     "name": "stdout",
     "output_type": "stream",
     "text": [
      "0   2017-04-26\n",
      "1   2017-04-26\n",
      "2   2017-04-26\n",
      "3   2017-04-26\n",
      "Name: B, dtype: datetime64[ns]\n",
      "0   2017-04-26\n",
      "1   2017-04-26\n",
      "2   2017-04-26\n",
      "3   2017-04-26\n",
      "Name: B, dtype: datetime64[ns]\n"
     ]
    }
   ],
   "source": [
    "print(dat1[\"B\"])\n",
    "print(dat1.B)  #.索引"
   ]
  },
  {
   "attachments": {},
   "cell_type": "markdown",
   "id": "8a5657d5",
   "metadata": {},
   "source": [
    "4. 增加列数据"
   ]
  },
  {
   "cell_type": "code",
   "execution_count": 12,
   "id": "90d8cfbe",
   "metadata": {},
   "outputs": [
    {
     "name": "stdout",
     "output_type": "stream",
     "text": [
      "   A          B    C  D       E       F  G\n",
      "0  1 2017-04-26  1.0  3  Python  ITCast  8\n",
      "1  1 2017-04-26  1.0  3    Java  ITCast  8\n",
      "2  1 2017-04-26  1.0  3     C++  ITCast  8\n",
      "3  1 2017-04-26  1.0  3       C  ITCast  8\n"
     ]
    }
   ],
   "source": [
    "dat1[\"G\"]=dat1[\"D\"]+5\n",
    "print(dat1.head())"
   ]
  },
  {
   "attachments": {},
   "cell_type": "markdown",
   "id": "a153d1fa",
   "metadata": {},
   "source": [
    "5. 删除列"
   ]
  },
  {
   "cell_type": "code",
   "execution_count": 13,
   "id": "d9f129a8",
   "metadata": {},
   "outputs": [
    {
     "name": "stdout",
     "output_type": "stream",
     "text": [
      "   A          B    C  D       E       F\n",
      "0  1 2017-04-26  1.0  3  Python  ITCast\n",
      "1  1 2017-04-26  1.0  3    Java  ITCast\n",
      "2  1 2017-04-26  1.0  3     C++  ITCast\n",
      "3  1 2017-04-26  1.0  3       C  ITCast\n"
     ]
    }
   ],
   "source": [
    "del(dat1['G'])\n",
    "print(dat1)"
   ]
  },
  {
   "attachments": {},
   "cell_type": "markdown",
   "id": "fe3fd58b",
   "metadata": {},
   "source": [
    "# pandas的索引操作"
   ]
  },
  {
   "attachments": {},
   "cell_type": "markdown",
   "id": "ffc4342b",
   "metadata": {},
   "source": [
    "## 索引对象Index"
   ]
  },
  {
   "attachments": {},
   "cell_type": "markdown",
   "id": "fa830b70",
   "metadata": {},
   "source": [
    "1. Series和DataFrame中的索引都是Index对象"
   ]
  },
  {
   "cell_type": "code",
   "execution_count": 14,
   "id": "54f86f4d",
   "metadata": {},
   "outputs": [
    {
     "name": "stdout",
     "output_type": "stream",
     "text": [
      "RangeIndex(start=0, stop=5, step=1)\n",
      "Int64Index([0, 1, 2, 3], dtype='int64')\n",
      "Index(['A', 'B', 'C', 'D', 'E', 'F'], dtype='object')\n"
     ]
    }
   ],
   "source": [
    "print(ser2.index)\n",
    "print(dat1.index)\n",
    "print(dat1.columns)"
   ]
  },
  {
   "attachments": {},
   "cell_type": "markdown",
   "id": "559f2d43",
   "metadata": {},
   "source": [
    "2. 索引对象不可变，保证了数据的安全"
   ]
  },
  {
   "cell_type": "code",
   "execution_count": 15,
   "id": "58cd6e98",
   "metadata": {},
   "outputs": [
    {
     "ename": "TypeError",
     "evalue": "Index does not support mutable operations",
     "output_type": "error",
     "traceback": [
      "\u001b[1;31m---------------------------------------------------------------------------\u001b[0m",
      "\u001b[1;31mTypeError\u001b[0m                                 Traceback (most recent call last)",
      "\u001b[1;32m~\\AppData\\Local\\Temp\\ipykernel_13880\\1358965777.py\u001b[0m in \u001b[0;36m<module>\u001b[1;34m\u001b[0m\n\u001b[1;32m----> 1\u001b[1;33m \u001b[0mdat1\u001b[0m\u001b[1;33m.\u001b[0m\u001b[0mindex\u001b[0m\u001b[1;33m[\u001b[0m\u001b[1;36m1\u001b[0m\u001b[1;33m]\u001b[0m\u001b[1;33m=\u001b[0m\u001b[1;36m12\u001b[0m\u001b[1;33m\u001b[0m\u001b[1;33m\u001b[0m\u001b[0m\n\u001b[0m",
      "\u001b[1;32md:\\IDE_sources\\Ancona\\lib\\site-packages\\pandas\\core\\indexes\\base.py\u001b[0m in \u001b[0;36m__setitem__\u001b[1;34m(self, key, value)\u001b[0m\n\u001b[0;32m   5033\u001b[0m     \u001b[1;33m@\u001b[0m\u001b[0mfinal\u001b[0m\u001b[1;33m\u001b[0m\u001b[1;33m\u001b[0m\u001b[0m\n\u001b[0;32m   5034\u001b[0m     \u001b[1;32mdef\u001b[0m \u001b[0m__setitem__\u001b[0m\u001b[1;33m(\u001b[0m\u001b[0mself\u001b[0m\u001b[1;33m,\u001b[0m \u001b[0mkey\u001b[0m\u001b[1;33m,\u001b[0m \u001b[0mvalue\u001b[0m\u001b[1;33m)\u001b[0m\u001b[1;33m:\u001b[0m\u001b[1;33m\u001b[0m\u001b[1;33m\u001b[0m\u001b[0m\n\u001b[1;32m-> 5035\u001b[1;33m         \u001b[1;32mraise\u001b[0m \u001b[0mTypeError\u001b[0m\u001b[1;33m(\u001b[0m\u001b[1;34m\"Index does not support mutable operations\"\u001b[0m\u001b[1;33m)\u001b[0m\u001b[1;33m\u001b[0m\u001b[1;33m\u001b[0m\u001b[0m\n\u001b[0m\u001b[0;32m   5036\u001b[0m \u001b[1;33m\u001b[0m\u001b[0m\n\u001b[0;32m   5037\u001b[0m     \u001b[1;32mdef\u001b[0m \u001b[0m__getitem__\u001b[0m\u001b[1;33m(\u001b[0m\u001b[0mself\u001b[0m\u001b[1;33m,\u001b[0m \u001b[0mkey\u001b[0m\u001b[1;33m)\u001b[0m\u001b[1;33m:\u001b[0m\u001b[1;33m\u001b[0m\u001b[1;33m\u001b[0m\u001b[0m\n",
      "\u001b[1;31mTypeError\u001b[0m: Index does not support mutable operations"
     ]
    }
   ],
   "source": [
    "# 不可以更改索引对象，否则报错\n",
    "dat1.index[1]=12 "
   ]
  },
  {
   "cell_type": "code",
   "execution_count": null,
   "id": "b0e1c900",
   "metadata": {},
   "outputs": [],
   "source": [
    "# 常见的Index种类\n",
    "# * Index，索引\n",
    "# * Int64Index，整数索引\n",
    "# * MultiIndex，层级索引\n",
    "# * DatetimeIndex，时间戳类型"
   ]
  },
  {
   "attachments": {},
   "cell_type": "markdown",
   "id": "ff2dabf7",
   "metadata": {},
   "source": [
    "## Series索引"
   ]
  },
  {
   "attachments": {},
   "cell_type": "markdown",
   "id": "0f929f2b",
   "metadata": {},
   "source": [
    "1. index 指定行索引名"
   ]
  },
  {
   "cell_type": "code",
   "execution_count": 16,
   "id": "db43cdda",
   "metadata": {},
   "outputs": [
    {
     "name": "stdout",
     "output_type": "stream",
     "text": [
      "a    0\n",
      "b    1\n",
      "c    2\n",
      "d    3\n",
      "e    4\n",
      "dtype: int64\n"
     ]
    }
   ],
   "source": [
    "ser4=pd.Series(range(5),index=['a','b','c','d','e'])\n",
    "print(ser4)"
   ]
  },
  {
   "attachments": {},
   "cell_type": "markdown",
   "id": "0a9fe4b0",
   "metadata": {},
   "source": [
    "2. 行索引"
   ]
  },
  {
   "cell_type": "code",
   "execution_count": 31,
   "id": "75775efa",
   "metadata": {},
   "outputs": [
    {
     "name": "stdout",
     "output_type": "stream",
     "text": [
      "1\n",
      "4\n"
     ]
    }
   ],
   "source": [
    "print(ser4['b'])\n",
    "print(ser4[4])"
   ]
  },
  {
   "attachments": {},
   "cell_type": "markdown",
   "id": "c24ae1d4",
   "metadata": {},
   "source": [
    "3. 切片索引"
   ]
  },
  {
   "cell_type": "code",
   "execution_count": 17,
   "id": "e2d6b25b",
   "metadata": {},
   "outputs": [
    {
     "name": "stdout",
     "output_type": "stream",
     "text": [
      "c    2\n",
      "d    3\n",
      "dtype: int64\n",
      "b    1\n",
      "c    2\n",
      "d    3\n",
      "e    4\n",
      "dtype: int64\n"
     ]
    }
   ],
   "source": [
    "print(ser4[2:4])\n",
    "print(ser4['b':'e'])"
   ]
  },
  {
   "attachments": {},
   "cell_type": "markdown",
   "id": "22de7c11",
   "metadata": {},
   "source": [
    "4. 不连续索引"
   ]
  },
  {
   "cell_type": "code",
   "execution_count": 18,
   "id": "e4290f38",
   "metadata": {},
   "outputs": [
    {
     "name": "stdout",
     "output_type": "stream",
     "text": [
      "a    0\n",
      "e    4\n",
      "d    3\n",
      "dtype: int64\n",
      "a    0\n",
      "c    2\n",
      "dtype: int64\n"
     ]
    }
   ],
   "source": [
    "print(ser4[[0,4,3]])\n",
    "print(ser4[['a','c']])"
   ]
  },
  {
   "attachments": {},
   "cell_type": "markdown",
   "id": "ab854a75",
   "metadata": {},
   "source": [
    "5. 布尔索引"
   ]
  },
  {
   "cell_type": "code",
   "execution_count": 19,
   "id": "b1a43a6b",
   "metadata": {},
   "outputs": [
    {
     "name": "stdout",
     "output_type": "stream",
     "text": [
      "a    False\n",
      "b    False\n",
      "c    False\n",
      "d    False\n",
      "e     True\n",
      "dtype: bool\n",
      "e    4\n",
      "dtype: int64\n"
     ]
    }
   ],
   "source": [
    "ser_bool=ser4>3\n",
    "print(ser_bool)\n",
    "print(ser4[ser_bool])"
   ]
  },
  {
   "attachments": {},
   "cell_type": "markdown",
   "id": "1b5953e0",
   "metadata": {},
   "source": [
    "## DataFrame索引"
   ]
  },
  {
   "attachments": {},
   "cell_type": "markdown",
   "id": "ff019475",
   "metadata": {},
   "source": [
    "1. columns 指定列索引名"
   ]
  },
  {
   "cell_type": "code",
   "execution_count": 20,
   "id": "306320ba",
   "metadata": {},
   "outputs": [
    {
     "name": "stdout",
     "output_type": "stream",
     "text": [
      "          a         b         c         d\n",
      "0 -0.997646 -0.177095  0.745219  1.431672\n",
      "1  2.981436  0.610565 -1.451229  0.608769\n",
      "2  1.828074 -0.828007  1.780564 -0.057615\n",
      "3  0.229768 -0.281316 -1.221296 -0.927641\n",
      "4 -0.205912 -1.330973  1.284223  0.952533\n"
     ]
    }
   ],
   "source": [
    "dat2=pd.DataFrame(np.random.randn(5,4),columns=['a','b','c','d'])\n",
    "print(dat2)"
   ]
  },
  {
   "attachments": {},
   "cell_type": "markdown",
   "id": "e70f63a9",
   "metadata": {},
   "source": [
    "2. 列索引"
   ]
  },
  {
   "cell_type": "code",
   "execution_count": 27,
   "id": "67d2448f",
   "metadata": {},
   "outputs": [
    {
     "name": "stdout",
     "output_type": "stream",
     "text": [
      "0   -0.177095\n",
      "1    0.610565\n",
      "2   -0.828007\n",
      "3   -0.281316\n",
      "4   -1.330973\n",
      "Name: b, dtype: float64\n"
     ]
    }
   ],
   "source": [
    "print(dat2['b'])"
   ]
  },
  {
   "attachments": {},
   "cell_type": "markdown",
   "id": "c7112753",
   "metadata": {},
   "source": [
    "3. 不连续索引"
   ]
  },
  {
   "cell_type": "code",
   "execution_count": 36,
   "id": "3fff0ca7",
   "metadata": {},
   "outputs": [
    {
     "name": "stdout",
     "output_type": "stream",
     "text": [
      "          a         c\n",
      "0 -0.997646  0.745219\n",
      "1  2.981436 -1.451229\n",
      "2  1.828074  1.780564\n",
      "3  0.229768 -1.221296\n",
      "4 -0.205912  1.284223\n"
     ]
    }
   ],
   "source": [
    "print(dat2[['a','c']])#返回元组类型"
   ]
  },
  {
   "attachments": {},
   "cell_type": "markdown",
   "id": "338581cc",
   "metadata": {},
   "source": [
    "4.列索引"
   ]
  },
  {
   "cell_type": "code",
   "execution_count": 37,
   "id": "7ef04d1e",
   "metadata": {},
   "outputs": [
    {
     "name": "stdout",
     "output_type": "stream",
     "text": [
      "          a         b         c         d\n",
      "1  2.981436  0.610565 -1.451229  0.608769\n"
     ]
    }
   ],
   "source": [
    "# 使用 ：进行索引\n",
    "print(dat2[1:2])"
   ]
  },
  {
   "attachments": {},
   "cell_type": "markdown",
   "id": "7bfd051e",
   "metadata": {},
   "source": [
    "## 高级索引：标签、位置和混合"
   ]
  },
  {
   "attachments": {},
   "cell_type": "markdown",
   "id": "7c60d32e",
   "metadata": {},
   "source": [
    "1. loc 标签索引"
   ]
  },
  {
   "cell_type": "code",
   "execution_count": 38,
   "id": "0d88ea11",
   "metadata": {},
   "outputs": [
    {
     "name": "stdout",
     "output_type": "stream",
     "text": [
      "b    1\n",
      "c    2\n",
      "d    3\n",
      "dtype: int64\n",
      "b    1\n",
      "c    2\n",
      "d    3\n",
      "dtype: int64\n"
     ]
    }
   ],
   "source": [
    "print(ser4['b':'d'])\n",
    "print(ser4.loc['b':'d'])"
   ]
  },
  {
   "cell_type": "code",
   "execution_count": 39,
   "id": "835a9f77",
   "metadata": {},
   "outputs": [
    {
     "name": "stdout",
     "output_type": "stream",
     "text": [
      "0   -0.997646\n",
      "1    2.981436\n",
      "2    1.828074\n",
      "3    0.229768\n",
      "4   -0.205912\n",
      "Name: a, dtype: float64\n",
      "0   -0.997646\n",
      "1    2.981436\n",
      "2    1.828074\n",
      "Name: a, dtype: float64\n"
     ]
    }
   ],
   "source": [
    "print(dat2['a'])\n",
    "print(dat2.loc[0:2,'a'])#基于索引内容"
   ]
  },
  {
   "attachments": {},
   "cell_type": "markdown",
   "id": "18abffbc",
   "metadata": {},
   "source": [
    "2. iloc 位置索引(行和列)"
   ]
  },
  {
   "cell_type": "code",
   "execution_count": 40,
   "id": "28275aa1",
   "metadata": {},
   "outputs": [
    {
     "name": "stdout",
     "output_type": "stream",
     "text": [
      "b    1\n",
      "c    2\n",
      "dtype: int64\n",
      "b    1\n",
      "c    2\n",
      "dtype: int64\n"
     ]
    }
   ],
   "source": [
    "print(ser4[1:3])\n",
    "print(ser4.iloc[1:3])"
   ]
  },
  {
   "cell_type": "code",
   "execution_count": 41,
   "id": "8d7dfde9",
   "metadata": {},
   "outputs": [
    {
     "name": "stdout",
     "output_type": "stream",
     "text": [
      "0   -0.997646\n",
      "1    2.981436\n",
      "Name: a, dtype: float64\n"
     ]
    }
   ],
   "source": [
    "print(dat2.iloc[0:2,0])#基于索引编号"
   ]
  },
  {
   "attachments": {},
   "cell_type": "markdown",
   "id": "a97ad409",
   "metadata": {},
   "source": [
    "# Pandas的对齐运算"
   ]
  },
  {
   "attachments": {},
   "cell_type": "markdown",
   "id": "b1ad1363",
   "metadata": {},
   "source": [
    "## Series的对齐运算"
   ]
  },
  {
   "attachments": {},
   "cell_type": "markdown",
   "id": "7011c021",
   "metadata": {},
   "source": [
    "1. Series 按行、索引对齐"
   ]
  },
  {
   "cell_type": "code",
   "execution_count": 42,
   "id": "e4b54188",
   "metadata": {},
   "outputs": [
    {
     "name": "stdout",
     "output_type": "stream",
     "text": [
      "s1: \n",
      "0    10\n",
      "1    11\n",
      "2    12\n",
      "3    13\n",
      "4    14\n",
      "5    15\n",
      "6    16\n",
      "7    17\n",
      "8    18\n",
      "9    19\n",
      "dtype: int64\n",
      " \n",
      "s2: \n",
      "0    20\n",
      "1    21\n",
      "2    22\n",
      "3    23\n",
      "4    24\n",
      "dtype: int64\n"
     ]
    }
   ],
   "source": [
    "s1=pd.Series(range(10,20),index=range(10))\n",
    "s2=pd.Series(range(20,25),index=range(5))\n",
    "print(\"s1: \")\n",
    "print(s1)\n",
    "print(\" \")\n",
    "print(\"s2: \")\n",
    "print(s2)"
   ]
  },
  {
   "attachments": {},
   "cell_type": "markdown",
   "id": "b1dbe022",
   "metadata": {},
   "source": [
    "2. Series的对齐运算"
   ]
  },
  {
   "cell_type": "code",
   "execution_count": 43,
   "id": "e39e66df",
   "metadata": {},
   "outputs": [
    {
     "data": {
      "text/plain": [
       "0    30.0\n",
       "1    32.0\n",
       "2    34.0\n",
       "3    36.0\n",
       "4    38.0\n",
       "5     NaN\n",
       "6     NaN\n",
       "7     NaN\n",
       "8     NaN\n",
       "9     NaN\n",
       "dtype: float64"
      ]
     },
     "execution_count": 43,
     "metadata": {},
     "output_type": "execute_result"
    }
   ],
   "source": [
    "s1+s2"
   ]
  },
  {
   "attachments": {},
   "cell_type": "markdown",
   "id": "0052a63e",
   "metadata": {},
   "source": [
    "## DataFrame的对齐运算"
   ]
  },
  {
   "attachments": {},
   "cell_type": "markdown",
   "id": "50629925",
   "metadata": {},
   "source": [
    "1. DataFrame按行、列索引对齐"
   ]
  },
  {
   "cell_type": "code",
   "execution_count": 44,
   "id": "45724ee7",
   "metadata": {},
   "outputs": [
    {
     "name": "stdout",
     "output_type": "stream",
     "text": [
      "dat3: \n",
      "     a    b\n",
      "0  1.0  1.0\n",
      "1  1.0  1.0\n",
      "dat4: \n",
      "     a    b    c\n",
      "0  1.0  1.0  1.0\n",
      "1  1.0  1.0  1.0\n",
      "2  1.0  1.0  1.0\n"
     ]
    }
   ],
   "source": [
    "dat3=pd.DataFrame(np.ones((2,2)),columns=['a','b'])\n",
    "dat4=pd.DataFrame(np.ones((3,3)),columns=['a','b','c'])\n",
    "print('dat3: ')\n",
    "print(dat3)\n",
    "print('dat4: ')\n",
    "print(dat4)"
   ]
  },
  {
   "attachments": {},
   "cell_type": "markdown",
   "id": "44bae0a5",
   "metadata": {},
   "source": [
    "2. DataFrame的对齐运算"
   ]
  },
  {
   "cell_type": "code",
   "execution_count": 45,
   "id": "1441a340",
   "metadata": {},
   "outputs": [
    {
     "data": {
      "text/html": [
       "<div>\n",
       "<style scoped>\n",
       "    .dataframe tbody tr th:only-of-type {\n",
       "        vertical-align: middle;\n",
       "    }\n",
       "\n",
       "    .dataframe tbody tr th {\n",
       "        vertical-align: top;\n",
       "    }\n",
       "\n",
       "    .dataframe thead th {\n",
       "        text-align: right;\n",
       "    }\n",
       "</style>\n",
       "<table border=\"1\" class=\"dataframe\">\n",
       "  <thead>\n",
       "    <tr style=\"text-align: right;\">\n",
       "      <th></th>\n",
       "      <th>a</th>\n",
       "      <th>b</th>\n",
       "      <th>c</th>\n",
       "    </tr>\n",
       "  </thead>\n",
       "  <tbody>\n",
       "    <tr>\n",
       "      <th>0</th>\n",
       "      <td>2.0</td>\n",
       "      <td>2.0</td>\n",
       "      <td>NaN</td>\n",
       "    </tr>\n",
       "    <tr>\n",
       "      <th>1</th>\n",
       "      <td>2.0</td>\n",
       "      <td>2.0</td>\n",
       "      <td>NaN</td>\n",
       "    </tr>\n",
       "    <tr>\n",
       "      <th>2</th>\n",
       "      <td>NaN</td>\n",
       "      <td>NaN</td>\n",
       "      <td>NaN</td>\n",
       "    </tr>\n",
       "  </tbody>\n",
       "</table>\n",
       "</div>"
      ],
      "text/plain": [
       "     a    b   c\n",
       "0  2.0  2.0 NaN\n",
       "1  2.0  2.0 NaN\n",
       "2  NaN  NaN NaN"
      ]
     },
     "execution_count": 45,
     "metadata": {},
     "output_type": "execute_result"
    }
   ],
   "source": [
    "dat3+dat4"
   ]
  },
  {
   "attachments": {},
   "cell_type": "markdown",
   "id": "c1d1afe3",
   "metadata": {},
   "source": [
    "## 填充未对齐的数据进行运算"
   ]
  },
  {
   "attachments": {},
   "cell_type": "markdown",
   "id": "a5fae7b3",
   "metadata": {},
   "source": [
    "1. fill_value"
   ]
  },
  {
   "cell_type": "code",
   "execution_count": 46,
   "id": "932e0c31",
   "metadata": {},
   "outputs": [
    {
     "name": "stdout",
     "output_type": "stream",
     "text": [
      "0    10\n",
      "1    11\n",
      "2    12\n",
      "3    13\n",
      "4    14\n",
      "5    15\n",
      "6    16\n",
      "7    17\n",
      "8    18\n",
      "9    19\n",
      "dtype: int64\n",
      "0    20\n",
      "1    21\n",
      "2    22\n",
      "3    23\n",
      "4    24\n",
      "dtype: int64\n",
      "0    30.0\n",
      "1    32.0\n",
      "2    34.0\n",
      "3    36.0\n",
      "4    38.0\n",
      "5    16.0\n",
      "6    17.0\n",
      "7    18.0\n",
      "8    19.0\n",
      "9    20.0\n",
      "dtype: float64\n",
      "     a    b\n",
      "0  1.0  1.0\n",
      "1  1.0  1.0\n",
      "     a    b    c\n",
      "0  1.0  1.0  1.0\n",
      "1  1.0  1.0  1.0\n",
      "2  1.0  1.0  1.0\n"
     ]
    },
    {
     "data": {
      "text/html": [
       "<div>\n",
       "<style scoped>\n",
       "    .dataframe tbody tr th:only-of-type {\n",
       "        vertical-align: middle;\n",
       "    }\n",
       "\n",
       "    .dataframe tbody tr th {\n",
       "        vertical-align: top;\n",
       "    }\n",
       "\n",
       "    .dataframe thead th {\n",
       "        text-align: right;\n",
       "    }\n",
       "</style>\n",
       "<table border=\"1\" class=\"dataframe\">\n",
       "  <thead>\n",
       "    <tr style=\"text-align: right;\">\n",
       "      <th></th>\n",
       "      <th>a</th>\n",
       "      <th>b</th>\n",
       "      <th>c</th>\n",
       "    </tr>\n",
       "  </thead>\n",
       "  <tbody>\n",
       "    <tr>\n",
       "      <th>0</th>\n",
       "      <td>0.0</td>\n",
       "      <td>0.0</td>\n",
       "      <td>2.0</td>\n",
       "    </tr>\n",
       "    <tr>\n",
       "      <th>1</th>\n",
       "      <td>0.0</td>\n",
       "      <td>0.0</td>\n",
       "      <td>2.0</td>\n",
       "    </tr>\n",
       "    <tr>\n",
       "      <th>2</th>\n",
       "      <td>2.0</td>\n",
       "      <td>2.0</td>\n",
       "      <td>2.0</td>\n",
       "    </tr>\n",
       "  </tbody>\n",
       "</table>\n",
       "</div>"
      ],
      "text/plain": [
       "     a    b    c\n",
       "0  0.0  0.0  2.0\n",
       "1  0.0  0.0  2.0\n",
       "2  2.0  2.0  2.0"
      ]
     },
     "execution_count": 46,
     "metadata": {},
     "output_type": "execute_result"
    }
   ],
   "source": [
    "print(s1)\n",
    "print(s2)\n",
    "\n",
    "print(s1.add(s2,fill_value=1))\n",
    "\n",
    "print(dat3)\n",
    "print(dat4)\n",
    "dat3.sub(dat4,fill_value=3.)"
   ]
  },
  {
   "attachments": {},
   "cell_type": "markdown",
   "id": "a2786ef1",
   "metadata": {},
   "source": [
    "# Pandas的函数应用"
   ]
  },
  {
   "attachments": {},
   "cell_type": "markdown",
   "id": "f4111c89",
   "metadata": {},
   "source": [
    "## apply 和 applymap"
   ]
  },
  {
   "attachments": {},
   "cell_type": "markdown",
   "id": "41f21f2a",
   "metadata": {},
   "source": [
    "1. 可直接使用NumPy的函数"
   ]
  },
  {
   "cell_type": "code",
   "execution_count": 47,
   "id": "142bc759",
   "metadata": {},
   "outputs": [
    {
     "name": "stdout",
     "output_type": "stream",
     "text": [
      "          0         1         2         3\n",
      "0 -1.531346  0.243845 -0.321827 -0.837517\n",
      "1 -1.848096 -0.175926  0.930495 -0.245552\n",
      "2 -2.556657 -1.441853 -0.718223 -0.002228\n",
      "3 -0.866673 -1.384753 -0.505750 -1.682080\n",
      "4 -2.198906 -0.949085 -3.723829 -0.643172\n",
      "          0         1         2         3\n",
      "0  1.531346  0.243845  0.321827  0.837517\n",
      "1  1.848096  0.175926  0.930495  0.245552\n",
      "2  2.556657  1.441853  0.718223  0.002228\n",
      "3  0.866673  1.384753  0.505750  1.682080\n",
      "4  2.198906  0.949085  3.723829  0.643172\n"
     ]
    }
   ],
   "source": [
    "dat5=pd.DataFrame(np.random.randn(5,4)-1)\n",
    "print(dat5)\n",
    "print(dat5.abs())"
   ]
  },
  {
   "attachments": {},
   "cell_type": "markdown",
   "id": "2cf890d4",
   "metadata": {},
   "source": [
    "2. 通过apply将函数应用到列或行上"
   ]
  },
  {
   "cell_type": "code",
   "execution_count": 48,
   "id": "df63874e",
   "metadata": {},
   "outputs": [
    {
     "name": "stdout",
     "output_type": "stream",
     "text": [
      "0   -0.866673\n",
      "1    0.243845\n",
      "2    0.930495\n",
      "3   -0.002228\n",
      "dtype: float64\n"
     ]
    }
   ],
   "source": [
    "# 注意指定轴的方向，默认axis=0，方向是列\n",
    "print(dat5.apply(lambda x:x.max()))"
   ]
  },
  {
   "cell_type": "code",
   "execution_count": 49,
   "id": "73329f4a",
   "metadata": {},
   "outputs": [
    {
     "name": "stdout",
     "output_type": "stream",
     "text": [
      "0    0.243845\n",
      "1    0.930495\n",
      "2   -0.002228\n",
      "3   -0.505750\n",
      "4   -0.643172\n",
      "dtype: float64\n"
     ]
    }
   ],
   "source": [
    "# 注意指定轴的方向，默认axis=1，方向是行\n",
    "print(dat5.apply(lambda x:x.max(),axis=1))"
   ]
  },
  {
   "attachments": {},
   "cell_type": "markdown",
   "id": "899d166c",
   "metadata": {},
   "source": [
    "3. 通过applymap将函数应用到每个数据上"
   ]
  },
  {
   "cell_type": "code",
   "execution_count": 50,
   "id": "e0b9d73b",
   "metadata": {},
   "outputs": [
    {
     "name": "stdout",
     "output_type": "stream",
     "text": [
      "       0      1      2      3\n",
      "0  -1.53   0.24  -0.32  -0.84\n",
      "1  -1.85  -0.18   0.93  -0.25\n",
      "2  -2.56  -1.44  -0.72  -0.00\n",
      "3  -0.87  -1.38  -0.51  -1.68\n",
      "4  -2.20  -0.95  -3.72  -0.64\n"
     ]
    }
   ],
   "source": [
    "f1=lambda x: \"%.2f\" %x\n",
    "print(dat5.applymap(f1))"
   ]
  },
  {
   "attachments": {},
   "cell_type": "markdown",
   "id": "6cdcb7b2",
   "metadata": {},
   "source": [
    "## 排序"
   ]
  },
  {
   "attachments": {},
   "cell_type": "markdown",
   "id": "4ada5fde",
   "metadata": {},
   "source": [
    "1. 索引排序"
   ]
  },
  {
   "cell_type": "code",
   "execution_count": 82,
   "id": "ab826b19",
   "metadata": {},
   "outputs": [
    {
     "name": "stdout",
     "output_type": "stream",
     "text": [
      "2    10\n",
      "3    11\n",
      "2    12\n",
      "3    13\n",
      "3    14\n",
      "dtype: int64\n"
     ]
    },
    {
     "data": {
      "text/plain": [
       "2    10\n",
       "2    12\n",
       "3    11\n",
       "3    13\n",
       "3    14\n",
       "dtype: int64"
      ]
     },
     "execution_count": 82,
     "metadata": {},
     "output_type": "execute_result"
    }
   ],
   "source": [
    "s4=pd.Series(range(10,15),index=np.random.randint(5,size=5))\n",
    "print(s4)\n",
    "s4.sort_index()"
   ]
  },
  {
   "cell_type": "code",
   "execution_count": 52,
   "id": "dcd7c751",
   "metadata": {},
   "outputs": [
    {
     "name": "stdout",
     "output_type": "stream",
     "text": [
      "          0         2         1         0         4\n",
      "0 -0.410258 -0.920055 -0.429385 -0.757786 -1.149722\n",
      "2 -0.407628 -0.694998  0.189097  1.078417 -0.507992\n",
      "2  0.130873 -0.650671 -0.915658  0.218977 -1.216731\n",
      "          4         2         1         0         0\n",
      "0 -1.149722 -0.920055 -0.429385 -0.410258 -0.757786\n",
      "2 -0.507992 -0.694998  0.189097 -0.407628  1.078417\n",
      "2 -1.216731 -0.650671 -0.915658  0.130873  0.218977\n",
      "          0         0         1         2         4\n",
      "0 -0.410258 -0.757786 -0.429385 -0.920055 -1.149722\n",
      "2 -0.407628  1.078417  0.189097 -0.694998 -0.507992\n",
      "2  0.130873  0.218977 -0.915658 -0.650671 -1.216731\n"
     ]
    }
   ],
   "source": [
    "# 对DataFrame操作时注意轴方向\n",
    "dat6=pd.DataFrame(np.random.randn(3,5),\n",
    "                  index=np.random.randint(3,size=3),\n",
    "                 columns=np.random.randint(5,size=5))\n",
    "print(dat6)\n",
    "dat6_isort=dat6.sort_index(axis=1,ascending=False)\n",
    "print(dat6_isort)\n",
    "dat6_jsort=dat6.sort_index(axis=1,ascending=True)\n",
    "print(dat6_jsort)"
   ]
  },
  {
   "attachments": {},
   "cell_type": "markdown",
   "id": "80414a03",
   "metadata": {},
   "source": [
    "2. 按值排序"
   ]
  },
  {
   "cell_type": "code",
   "execution_count": 53,
   "id": "f5b0e16e",
   "metadata": {
    "collapsed": true
   },
   "outputs": [
    {
     "name": "stdout",
     "output_type": "stream",
     "text": [
      "          0         2         1         0         4\n",
      "2 -0.407628 -0.694998  0.189097  1.078417 -0.507992\n",
      "0 -0.410258 -0.920055 -0.429385 -0.757786 -1.149722\n",
      "2  0.130873 -0.650671 -0.915658  0.218977 -1.216731\n"
     ]
    }
   ],
   "source": [
    "dat6_vsort=dat6.sort_values(by=4,ascending=False)\n",
    "print(dat6_vsort)"
   ]
  },
  {
   "attachments": {},
   "cell_type": "markdown",
   "id": "c1746ce8",
   "metadata": {},
   "source": [
    "3.dataframe转换成list"
   ]
  },
  {
   "cell_type": "code",
   "execution_count": 54,
   "id": "154c8a3a",
   "metadata": {},
   "outputs": [
    {
     "data": {
      "text/plain": [
       "[4, 31, 5, 51, 3, 7]"
      ]
     },
     "execution_count": 54,
     "metadata": {},
     "output_type": "execute_result"
    }
   ],
   "source": [
    "import pandas as pd\n",
    "li=pd.Series([4,31,5,51,3,7],index=['a','b','c','d','e','f'])\n",
    "li=li.tolist()\n",
    "li"
   ]
  },
  {
   "attachments": {},
   "cell_type": "markdown",
   "id": "c34ff7bd",
   "metadata": {},
   "source": [
    "## 处理缺失数据"
   ]
  },
  {
   "cell_type": "code",
   "execution_count": 55,
   "id": "09f88582",
   "metadata": {},
   "outputs": [
    {
     "name": "stdout",
     "output_type": "stream",
     "text": [
      "          0         1         2\n",
      "0  0.223347 -1.318415 -1.258266\n",
      "1  1.000000  2.000000       NaN\n",
      "2       NaN  4.000000       NaN\n",
      "3  1.000000  2.000000  3.000000\n"
     ]
    }
   ],
   "source": [
    "dat7 = pd.DataFrame([np.random.randn(3), [1., 2., np.nan],\n",
    "                       [np.nan, 4., np.nan], [1., 2., 3.]])\n",
    "print(dat7)"
   ]
  },
  {
   "attachments": {},
   "cell_type": "markdown",
   "id": "0166b8f7",
   "metadata": {},
   "source": [
    "1. 判断是否存在缺失值：isnull()"
   ]
  },
  {
   "cell_type": "code",
   "execution_count": 56,
   "id": "dd2d8371",
   "metadata": {},
   "outputs": [
    {
     "name": "stdout",
     "output_type": "stream",
     "text": [
      "       0      1      2\n",
      "0  False  False  False\n",
      "1  False  False   True\n",
      "2   True  False   True\n",
      "3  False  False  False\n"
     ]
    }
   ],
   "source": [
    "print(dat7.isnull())"
   ]
  },
  {
   "attachments": {},
   "cell_type": "markdown",
   "id": "120a1380",
   "metadata": {},
   "source": [
    "2. 丢弃缺失数据：dropna()"
   ]
  },
  {
   "cell_type": "code",
   "execution_count": 57,
   "id": "8c80bee9",
   "metadata": {},
   "outputs": [
    {
     "name": "stdout",
     "output_type": "stream",
     "text": [
      "          1\n",
      "0 -1.318415\n",
      "1  2.000000\n",
      "2  4.000000\n",
      "3  2.000000\n",
      "          0         1         2\n",
      "0  0.223347 -1.318415 -1.258266\n",
      "3  1.000000  2.000000  3.000000\n"
     ]
    }
   ],
   "source": [
    "#根据axis轴方向，丢弃包含NaN的行或列\n",
    "print(dat7.dropna(axis=1))\n",
    "print(dat7.dropna(axis=0))"
   ]
  },
  {
   "attachments": {},
   "cell_type": "markdown",
   "id": "3fbbeab3",
   "metadata": {},
   "source": [
    "3. 填充缺失数据：fillna()"
   ]
  },
  {
   "cell_type": "code",
   "execution_count": 58,
   "id": "3c0b332d",
   "metadata": {},
   "outputs": [
    {
     "name": "stdout",
     "output_type": "stream",
     "text": [
      "            0         1           2\n",
      "0    0.223347 -1.318415   -1.258266\n",
      "1    1.000000  2.000000  101.000000\n",
      "2  101.000000  4.000000  101.000000\n",
      "3    1.000000  2.000000    3.000000\n"
     ]
    }
   ],
   "source": [
    "print(dat7.fillna(101.))"
   ]
  },
  {
   "attachments": {},
   "cell_type": "markdown",
   "id": "1e219d93",
   "metadata": {},
   "source": [
    "# 层级索引（hierarchical indexing）"
   ]
  },
  {
   "cell_type": "code",
   "execution_count": 59,
   "id": "c54fcc26",
   "metadata": {},
   "outputs": [
    {
     "name": "stdout",
     "output_type": "stream",
     "text": [
      "a  0   -0.194765\n",
      "   1    0.215063\n",
      "   2   -2.976224\n",
      "b  0    1.490704\n",
      "   1   -0.064013\n",
      "   2    0.640648\n",
      "c  0    1.052872\n",
      "   1   -0.923150\n",
      "   2    0.145142\n",
      "d  0   -0.084072\n",
      "   1    2.054873\n",
      "   2   -0.017266\n",
      "dtype: float64\n"
     ]
    }
   ],
   "source": [
    "ser5=pd.Series(np.random.randn(12),index=[\n",
    "                ['a', 'a', 'a', 'b', 'b', 'b', 'c', 'c', 'c', 'd', 'd', 'd'],\n",
    "                [0, 1, 2, 0, 1, 2, 0, 1, 2, 0, 1, 2]])\n",
    "print(ser5)"
   ]
  },
  {
   "attachments": {},
   "cell_type": "markdown",
   "id": "c02937fa",
   "metadata": {},
   "source": [
    "## MultiIndex索引对象"
   ]
  },
  {
   "cell_type": "code",
   "execution_count": 60,
   "id": "92a34324",
   "metadata": {},
   "outputs": [
    {
     "name": "stdout",
     "output_type": "stream",
     "text": [
      "<class 'pandas.core.indexes.multi.MultiIndex'>\n",
      "MultiIndex([('a', 0),\n",
      "            ('a', 1),\n",
      "            ('a', 2),\n",
      "            ('b', 0),\n",
      "            ('b', 1),\n",
      "            ('b', 2),\n",
      "            ('c', 0),\n",
      "            ('c', 1),\n",
      "            ('c', 2),\n",
      "            ('d', 0),\n",
      "            ('d', 1),\n",
      "            ('d', 2)],\n",
      "           )\n"
     ]
    }
   ],
   "source": [
    "print(type(ser5.index))\n",
    "print(ser5.index)"
   ]
  },
  {
   "attachments": {},
   "cell_type": "markdown",
   "id": "77ad0528",
   "metadata": {},
   "source": [
    "## 选取子集"
   ]
  },
  {
   "attachments": {},
   "cell_type": "markdown",
   "id": "3b79ed2d",
   "metadata": {},
   "source": [
    "1. 外层选取："
   ]
  },
  {
   "cell_type": "code",
   "execution_count": 61,
   "id": "b78caf2a",
   "metadata": {},
   "outputs": [
    {
     "name": "stdout",
     "output_type": "stream",
     "text": [
      "0    1.490704\n",
      "1   -0.064013\n",
      "2    0.640648\n",
      "dtype: float64\n"
     ]
    }
   ],
   "source": [
    "print(ser5['b'])"
   ]
  },
  {
   "attachments": {},
   "cell_type": "markdown",
   "id": "7729c350",
   "metadata": {},
   "source": [
    "2. 内层选取："
   ]
  },
  {
   "cell_type": "code",
   "execution_count": 62,
   "id": "8c4e4c94",
   "metadata": {},
   "outputs": [
    {
     "name": "stdout",
     "output_type": "stream",
     "text": [
      "a   -2.976224\n",
      "b    0.640648\n",
      "c    0.145142\n",
      "d   -0.017266\n",
      "dtype: float64\n"
     ]
    }
   ],
   "source": [
    "print(ser5[:,2])"
   ]
  },
  {
   "attachments": {},
   "cell_type": "markdown",
   "id": "56fcdbba",
   "metadata": {},
   "source": [
    "## 交换分层顺序"
   ]
  },
  {
   "cell_type": "code",
   "execution_count": 63,
   "id": "860b360a",
   "metadata": {},
   "outputs": [
    {
     "name": "stdout",
     "output_type": "stream",
     "text": [
      "0  a   -0.194765\n",
      "1  a    0.215063\n",
      "2  a   -2.976224\n",
      "0  b    1.490704\n",
      "1  b   -0.064013\n",
      "2  b    0.640648\n",
      "0  c    1.052872\n",
      "1  c   -0.923150\n",
      "2  c    0.145142\n",
      "0  d   -0.084072\n",
      "1  d    2.054873\n",
      "2  d   -0.017266\n",
      "dtype: float64\n"
     ]
    }
   ],
   "source": [
    "#.swaplevel( )交换内层与外层索引。\n",
    "print(ser5.swaplevel())"
   ]
  },
  {
   "attachments": {},
   "cell_type": "markdown",
   "id": "b009b41b",
   "metadata": {},
   "source": [
    "## 交换并排序分层"
   ]
  },
  {
   "cell_type": "code",
   "execution_count": 64,
   "id": "4399119c",
   "metadata": {},
   "outputs": [
    {
     "name": "stdout",
     "output_type": "stream",
     "text": [
      "0  a   -0.194765\n",
      "   b    1.490704\n",
      "   c    1.052872\n",
      "   d   -0.084072\n",
      "1  a    0.215063\n",
      "   b   -0.064013\n",
      "   c   -0.923150\n",
      "   d    2.054873\n",
      "2  a   -2.976224\n",
      "   b    0.640648\n",
      "   c    0.145142\n",
      "   d   -0.017266\n",
      "dtype: float64\n"
     ]
    }
   ],
   "source": [
    "#.sort_index( )先对外层索引进行排序，再对内层索引进行排序，默认是升序\n",
    "print(ser5.swaplevel().sort_index())"
   ]
  },
  {
   "attachments": {},
   "cell_type": "markdown",
   "id": "e30968c8",
   "metadata": {},
   "source": [
    "# Pandas统计计算和描述"
   ]
  },
  {
   "cell_type": "code",
   "execution_count": 65,
   "id": "af851fb1",
   "metadata": {},
   "outputs": [
    {
     "name": "stdout",
     "output_type": "stream",
     "text": [
      "          a         b         c         d\n",
      "0 -1.277666 -0.339498  0.268980  0.049320\n",
      "1  0.851745  0.087877  0.245402 -0.961089\n",
      "2 -0.210805  0.658240 -0.936688 -0.821174\n",
      "3  0.419167  1.718333 -0.057733 -0.419978\n",
      "4  0.640996  1.615184 -0.881344 -0.529047\n"
     ]
    }
   ],
   "source": [
    "#axis=0 按列统计，axis=1按行统计\n",
    "dat8=pd.DataFrame(np.random.randn(5,4),columns=['a','b','c','d'])\n",
    "print(dat8)"
   ]
  },
  {
   "attachments": {},
   "cell_type": "markdown",
   "id": "c0697007",
   "metadata": {},
   "source": [
    "## 常用的统计计算"
   ]
  },
  {
   "cell_type": "code",
   "execution_count": 66,
   "id": "9c1ae188",
   "metadata": {},
   "outputs": [
    {
     "data": {
      "text/plain": [
       "a    0.423437\n",
       "b    3.740137\n",
       "c   -1.361384\n",
       "d   -2.681968\n",
       "dtype: float64"
      ]
     },
     "execution_count": 66,
     "metadata": {},
     "output_type": "execute_result"
    }
   ],
   "source": [
    "dat8.sum()"
   ]
  },
  {
   "cell_type": "code",
   "execution_count": 67,
   "id": "bfc13910",
   "metadata": {},
   "outputs": [
    {
     "data": {
      "text/plain": [
       "a    0.851745\n",
       "b    1.718333\n",
       "c    0.268980\n",
       "d    0.049320\n",
       "dtype: float64"
      ]
     },
     "execution_count": 67,
     "metadata": {},
     "output_type": "execute_result"
    }
   ],
   "source": [
    "dat8.max()"
   ]
  },
  {
   "cell_type": "code",
   "execution_count": 68,
   "id": "5cede777",
   "metadata": {},
   "outputs": [
    {
     "data": {
      "text/plain": [
       "0   -1.277666\n",
       "1   -0.961089\n",
       "2   -0.936688\n",
       "3   -0.419978\n",
       "4   -0.881344\n",
       "dtype: float64"
      ]
     },
     "execution_count": 68,
     "metadata": {},
     "output_type": "execute_result"
    }
   ],
   "source": [
    "#skipna 排除缺失值， 默认为True\n",
    "dat8.min(axis=1,skipna=False)"
   ]
  },
  {
   "attachments": {},
   "cell_type": "markdown",
   "id": "4cccc7fa",
   "metadata": {},
   "source": [
    "## 常用的统计描述"
   ]
  },
  {
   "cell_type": "code",
   "execution_count": null,
   "id": "92358143",
   "metadata": {},
   "outputs": [],
   "source": [
    "# describe 产生多个统计数据"
   ]
  },
  {
   "cell_type": "code",
   "execution_count": 69,
   "id": "99319324",
   "metadata": {},
   "outputs": [
    {
     "name": "stdout",
     "output_type": "stream",
     "text": [
      "              a         b         c         d\n",
      "count  5.000000  5.000000  5.000000  5.000000\n",
      "mean   0.084687  0.748027 -0.272277 -0.536394\n",
      "std    0.859223  0.911047  0.595690  0.393107\n",
      "min   -1.277666 -0.339498 -0.936688 -0.961089\n",
      "25%   -0.210805  0.087877 -0.881344 -0.821174\n",
      "50%    0.419167  0.658240 -0.057733 -0.529047\n",
      "75%    0.640996  1.615184  0.245402 -0.419978\n",
      "max    0.851745  1.718333  0.268980  0.049320\n"
     ]
    }
   ],
   "source": [
    "print(dat8.describe())"
   ]
  },
  {
   "attachments": {},
   "cell_type": "markdown",
   "id": "3fafe364",
   "metadata": {},
   "source": [
    "# Pandas分组与聚合"
   ]
  },
  {
   "attachments": {},
   "cell_type": "markdown",
   "id": "ca5acd92",
   "metadata": {},
   "source": [
    "## 分组 (groupby)"
   ]
  },
  {
   "cell_type": "code",
   "execution_count": null,
   "id": "8ddc8f13",
   "metadata": {},
   "outputs": [],
   "source": [
    "# * 对数据集进行分组，然后对每组进行统计分析\n",
    "\n",
    "# * SQL能够对数据进行过滤，分组聚合\n",
    "\n",
    "# * pandas能利用groupby进行更加复杂的分组运算\n",
    "\n",
    "# * 分组运算过程：split->apply->combine\n",
    "\n",
    "# 1. 拆分：进行分组的根据\n",
    "\n",
    "# 2. 应用：每个分组运行的计算规则\n",
    "\n",
    "# 3. 合并：把每个分组的计算结果合并起来"
   ]
  },
  {
   "cell_type": "code",
   "execution_count": 1,
   "id": "a118cc20",
   "metadata": {},
   "outputs": [],
   "source": [
    "import pandas as pd \n",
    "import numpy as np"
   ]
  },
  {
   "cell_type": "code",
   "execution_count": 70,
   "id": "4b570df4",
   "metadata": {},
   "outputs": [
    {
     "name": "stdout",
     "output_type": "stream",
     "text": [
      "  key1   key2     data1     data2\n",
      "0    a    one  1.378489 -0.491034\n",
      "1    b    one  0.666807 -2.620402\n",
      "2    a    two -0.278756  0.466457\n",
      "3    b  three -1.335627 -0.074286\n",
      "4    a    two  0.122681 -0.398661\n",
      "5    b    two  0.666222 -1.660751\n",
      "6    a    one -0.406009  1.137529\n",
      "7    a  three  2.385765  0.853231\n"
     ]
    }
   ],
   "source": [
    "dict_obj={  \"key1\":['a', 'b', 'a', 'b', \n",
    "                      'a', 'b', 'a', 'a'],\n",
    "            'key2' : ['one', 'one', 'two', 'three',\n",
    "                      'two', 'two', 'one', 'three'],\n",
    "            'data1': np.random.randn(8),\n",
    "            'data2': np.random.randn(8)}\n",
    "data=pd.DataFrame(dict_obj)\n",
    "print(data)"
   ]
  },
  {
   "attachments": {},
   "cell_type": "markdown",
   "id": "39475a17",
   "metadata": {},
   "source": [
    "### GroupBy对象：DataFrameGroupBy，SeriesGroupBy"
   ]
  },
  {
   "attachments": {},
   "cell_type": "markdown",
   "id": "17bb45f7",
   "metadata": {},
   "source": [
    "#### 1. 分组操作"
   ]
  },
  {
   "cell_type": "code",
   "execution_count": null,
   "id": "64f61628",
   "metadata": {},
   "outputs": [],
   "source": [
    "# groupby()进行分组，GroupBy对象没有进行实际运算，只是包含分组的中间数据\n",
    "\n",
    "# 按列名分组：obj.groupby(‘label’)"
   ]
  },
  {
   "cell_type": "code",
   "execution_count": 71,
   "id": "7c7926da",
   "metadata": {},
   "outputs": [
    {
     "name": "stdout",
     "output_type": "stream",
     "text": [
      "<class 'pandas.core.groupby.generic.DataFrameGroupBy'>\n"
     ]
    }
   ],
   "source": [
    "print(type(data.groupby('key1')))"
   ]
  },
  {
   "cell_type": "code",
   "execution_count": 72,
   "id": "f669d656",
   "metadata": {},
   "outputs": [
    {
     "name": "stdout",
     "output_type": "stream",
     "text": [
      "<pandas.core.groupby.generic.SeriesGroupBy object at 0x0000018A5910E130>\n"
     ]
    }
   ],
   "source": [
    "# dataframe的 data1 列根据 key1 进行分组\n",
    "print(data['data1'].groupby(data['key1']))"
   ]
  },
  {
   "attachments": {},
   "cell_type": "markdown",
   "id": "d3eff88a",
   "metadata": {},
   "source": [
    "#### 2. 分组运算"
   ]
  },
  {
   "cell_type": "code",
   "execution_count": null,
   "id": "eb261c7b",
   "metadata": {},
   "outputs": [],
   "source": [
    "# 对GroupBy对象进行分组运算/多重分组运算，如mean()\n",
    "\n",
    "# 非数值数据不进行分组运算"
   ]
  },
  {
   "cell_type": "code",
   "execution_count": 73,
   "id": "797ce16d",
   "metadata": {},
   "outputs": [
    {
     "name": "stdout",
     "output_type": "stream",
     "text": [
      "         data1     data2\n",
      "key1                    \n",
      "a     0.640434  0.313505\n",
      "b    -0.000866 -1.451813\n",
      "key1\n",
      "a    0.640434\n",
      "b   -0.000866\n",
      "Name: data1, dtype: float64\n"
     ]
    }
   ],
   "source": [
    "# 分组运算\n",
    "grouped1=data.groupby('key1')\n",
    "print(grouped1.mean())\n",
    "grouped2=data['data1'].groupby(data['key1'])\n",
    "print(grouped2.mean())"
   ]
  },
  {
   "cell_type": "code",
   "execution_count": null,
   "id": "bfbe83e2",
   "metadata": {},
   "outputs": [],
   "source": [
    "# size() 返回每个分组的元素个数"
   ]
  },
  {
   "cell_type": "code",
   "execution_count": 74,
   "id": "f1fb84ed",
   "metadata": {},
   "outputs": [
    {
     "name": "stdout",
     "output_type": "stream",
     "text": [
      "key1\n",
      "a    5\n",
      "b    3\n",
      "dtype: int64\n",
      "key1\n",
      "a    5\n",
      "b    3\n",
      "Name: data1, dtype: int64\n"
     ]
    }
   ],
   "source": [
    "print(grouped1.size())\n",
    "print(grouped2.size())"
   ]
  },
  {
   "attachments": {},
   "cell_type": "markdown",
   "id": "d3ecdcfe",
   "metadata": {},
   "source": [
    "#### 3. 按自定义的key分组"
   ]
  },
  {
   "cell_type": "code",
   "execution_count": null,
   "id": "3d82a962",
   "metadata": {},
   "outputs": [],
   "source": [
    "# obj.groupby(self_def_key)\n",
    "\n",
    "# 自定义的key可为列表或多层列表\n",
    "\n",
    "# obj.groupby([‘label1’, ‘label2’])->多层dataframe"
   ]
  },
  {
   "cell_type": "code",
   "execution_count": 75,
   "id": "87fea327",
   "metadata": {},
   "outputs": [
    {
     "name": "stdout",
     "output_type": "stream",
     "text": [
      "0    1\n",
      "1    1\n",
      "2    1\n",
      "3    1\n",
      "4    1\n",
      "5    1\n",
      "6    1\n",
      "7    1\n",
      "dtype: int64\n"
     ]
    }
   ],
   "source": [
    "# 按自定义key分组，列表\n",
    "self_key=[0,1,2,3,4,5,6,7]\n",
    "print(data.groupby(self_key).size())"
   ]
  },
  {
   "cell_type": "code",
   "execution_count": 10,
   "id": "2a93eaf0",
   "metadata": {},
   "outputs": [
    {
     "name": "stdout",
     "output_type": "stream",
     "text": [
      "key1  key2 \n",
      "a     one      2\n",
      "      three    1\n",
      "      two      2\n",
      "b     one      1\n",
      "      three    1\n",
      "      two      1\n",
      "dtype: int64\n"
     ]
    }
   ],
   "source": [
    "# 按自定义key分组，多层列表\n",
    "print(data.groupby([data['key1'],data['key2']]).size())"
   ]
  },
  {
   "cell_type": "code",
   "execution_count": 11,
   "id": "a083608a",
   "metadata": {},
   "outputs": [
    {
     "name": "stdout",
     "output_type": "stream",
     "text": [
      "key1  key2 \n",
      "a     one      2\n",
      "      three    1\n",
      "      two      2\n",
      "b     one      1\n",
      "      three    1\n",
      "      two      1\n",
      "dtype: int64\n"
     ]
    }
   ],
   "source": [
    "# 按多个列多层分组\n",
    "grouped3=data.groupby(['key1','key2'])\n",
    "print(grouped3.size())"
   ]
  },
  {
   "cell_type": "code",
   "execution_count": 12,
   "id": "a9737f45",
   "metadata": {},
   "outputs": [
    {
     "name": "stdout",
     "output_type": "stream",
     "text": [
      "               data1     data2\n",
      "key2  key1                    \n",
      "one   a     0.799571 -1.139142\n",
      "      b     3.042813  0.549367\n",
      "three a     1.580783 -0.319847\n",
      "      b    -0.386822  1.013451\n",
      "two   a     0.287292  1.227144\n",
      "      b    -0.475521  2.397701\n"
     ]
    }
   ],
   "source": [
    "# 多层分组按key的顺序进行\n",
    "grouped4=data.groupby(['key2','key1'])\n",
    "print(grouped4.mean())"
   ]
  },
  {
   "cell_type": "code",
   "execution_count": 13,
   "id": "7c4ee65a",
   "metadata": {},
   "outputs": [
    {
     "name": "stdout",
     "output_type": "stream",
     "text": [
      "         data1                         data2                    \n",
      "key2       one     three       two       one     three       two\n",
      "key1                                                            \n",
      "a     0.799571  1.580783  0.287292 -1.139142 -0.319847  1.227144\n",
      "b     3.042813 -0.386822 -0.475521  0.549367  1.013451  2.397701\n"
     ]
    }
   ],
   "source": [
    "# unstack可以将多层索引的结果转换成单层的dataframe\n",
    "print(grouped3.mean().unstack())"
   ]
  },
  {
   "attachments": {},
   "cell_type": "markdown",
   "id": "1b45787d",
   "metadata": {},
   "source": [
    "### 二、GroupBy对象支持迭代操作"
   ]
  },
  {
   "cell_type": "code",
   "execution_count": null,
   "id": "b4596613",
   "metadata": {},
   "outputs": [],
   "source": [
    "# 每次迭代返回一个元组 (group_name, group_data)\n",
    "\n",
    "# 可用于分组数据的具体运算"
   ]
  },
  {
   "attachments": {},
   "cell_type": "markdown",
   "id": "9ef970bd",
   "metadata": {},
   "source": [
    "#### 1. 单层分组"
   ]
  },
  {
   "cell_type": "code",
   "execution_count": 76,
   "id": "db576547",
   "metadata": {},
   "outputs": [
    {
     "name": "stdout",
     "output_type": "stream",
     "text": [
      "a\n",
      "  key1   key2     data1     data2\n",
      "0    a    one  1.378489 -0.491034\n",
      "2    a    two -0.278756  0.466457\n",
      "4    a    two  0.122681 -0.398661\n",
      "6    a    one -0.406009  1.137529\n",
      "7    a  three  2.385765  0.853231\n",
      "b\n",
      "  key1   key2     data1     data2\n",
      "1    b    one  0.666807 -2.620402\n",
      "3    b  three -1.335627 -0.074286\n",
      "5    b    two  0.666222 -1.660751\n"
     ]
    }
   ],
   "source": [
    "# 单层分组，根据key1\n",
    "for g_name,g_data in grouped1:\n",
    "    print(g_name)\n",
    "    print(g_data)"
   ]
  },
  {
   "attachments": {},
   "cell_type": "markdown",
   "id": "9043b400",
   "metadata": {},
   "source": [
    "### 2. 多层分组"
   ]
  },
  {
   "cell_type": "code",
   "execution_count": 17,
   "id": "9b1e83c8",
   "metadata": {},
   "outputs": [
    {
     "name": "stdout",
     "output_type": "stream",
     "text": [
      "('a', 'one')\n",
      "  key1 key2     data1     data2\n",
      "0    a  one  1.205226 -1.614700\n",
      "6    a  one  0.393916 -0.663584\n",
      "('a', 'three')\n",
      "  key1   key2     data1     data2\n",
      "7    a  three  1.580783 -0.319847\n",
      "('a', 'two')\n",
      "  key1 key2     data1     data2\n",
      "2    a  two  0.241993  1.625021\n",
      "4    a  two  0.332592  0.829268\n",
      "('b', 'one')\n",
      "  key1 key2     data1     data2\n",
      "1    b  one  3.042813  0.549367\n",
      "('b', 'three')\n",
      "  key1   key2     data1     data2\n",
      "3    b  three -0.386822  1.013451\n",
      "('b', 'two')\n",
      "  key1 key2     data1     data2\n",
      "5    b  two -0.475521  2.397701\n"
     ]
    }
   ],
   "source": [
    "# 多层分组，根据key1 和 key2\n",
    "for g1_name,g1_data in grouped3:\n",
    "    print(g1_name)\n",
    "    print(g1_data)"
   ]
  },
  {
   "attachments": {},
   "cell_type": "markdown",
   "id": "79f45aa6",
   "metadata": {},
   "source": [
    "### 三、GroupBy对象可以转换成列表或字典"
   ]
  },
  {
   "cell_type": "code",
   "execution_count": 18,
   "id": "c3bdc094",
   "metadata": {},
   "outputs": [
    {
     "name": "stdout",
     "output_type": "stream",
     "text": [
      "[('a',   key1   key2     data1     data2\n",
      "0    a    one  1.205226 -1.614700\n",
      "2    a    two  0.241993  1.625021\n",
      "4    a    two  0.332592  0.829268\n",
      "6    a    one  0.393916 -0.663584\n",
      "7    a  three  1.580783 -0.319847), ('b',   key1   key2     data1     data2\n",
      "1    b    one  3.042813  0.549367\n",
      "3    b  three -0.386822  1.013451\n",
      "5    b    two -0.475521  2.397701)]\n"
     ]
    }
   ],
   "source": [
    "# GroupBy对象转换list\n",
    "print(list(grouped1))"
   ]
  },
  {
   "cell_type": "code",
   "execution_count": 20,
   "id": "87b00adb",
   "metadata": {},
   "outputs": [
    {
     "name": "stdout",
     "output_type": "stream",
     "text": [
      "{'a':   key1   key2     data1     data2\n",
      "0    a    one  1.205226 -1.614700\n",
      "2    a    two  0.241993  1.625021\n",
      "4    a    two  0.332592  0.829268\n",
      "6    a    one  0.393916 -0.663584\n",
      "7    a  three  1.580783 -0.319847, 'b':   key1   key2     data1     data2\n",
      "1    b    one  3.042813  0.549367\n",
      "3    b  three -0.386822  1.013451\n",
      "5    b    two -0.475521  2.397701}\n"
     ]
    }
   ],
   "source": [
    "# GroupBy对象转换dict\n",
    "print(dict(list(grouped1)))"
   ]
  },
  {
   "attachments": {},
   "cell_type": "markdown",
   "id": "90473f00",
   "metadata": {},
   "source": [
    "#### 1. 按列分组、按数据类型分组"
   ]
  },
  {
   "cell_type": "code",
   "execution_count": 21,
   "id": "cb6d7c48",
   "metadata": {},
   "outputs": [
    {
     "name": "stdout",
     "output_type": "stream",
     "text": [
      "key1      object\n",
      "key2      object\n",
      "data1    float64\n",
      "data2    float64\n",
      "dtype: object\n"
     ]
    }
   ],
   "source": [
    "# 按列分组\n",
    "print(data.dtypes)"
   ]
  },
  {
   "cell_type": "code",
   "execution_count": 22,
   "id": "5bf0ece8",
   "metadata": {},
   "outputs": [
    {
     "name": "stdout",
     "output_type": "stream",
     "text": [
      "float64    2\n",
      "object     2\n",
      "dtype: int64\n",
      "    float64  object\n",
      "0 -0.409473    aone\n",
      "1  3.592179    bone\n",
      "2  1.867013    atwo\n",
      "3  0.626629  bthree\n",
      "4  1.161860    atwo\n",
      "5  1.922180    btwo\n",
      "6 -0.269669    aone\n",
      "7  1.260936  athree\n"
     ]
    }
   ],
   "source": [
    "# 按数据类型分组\n",
    "print(data.groupby(data.dtypes,axis=1).size())\n",
    "print(data.groupby(data.dtypes,axis=1).sum())"
   ]
  },
  {
   "attachments": {},
   "cell_type": "markdown",
   "id": "7e829a09",
   "metadata": {},
   "source": [
    "#### 2. 其他分组方法"
   ]
  },
  {
   "cell_type": "code",
   "execution_count": 2,
   "id": "fd72ab4b",
   "metadata": {},
   "outputs": [],
   "source": [
    "import pandas as pd\n",
    "import numpy as np"
   ]
  },
  {
   "cell_type": "code",
   "execution_count": 7,
   "id": "6cb26fc8",
   "metadata": {},
   "outputs": [
    {
     "name": "stdout",
     "output_type": "stream",
     "text": [
      "   a    b    c    d  e\n",
      "A  8  8.0  9.0  4.0  3\n",
      "B  5  NaN  NaN  NaN  8\n",
      "C  8  6.0  9.0  6.0  8\n",
      "D  5  7.0  9.0  2.0  8\n",
      "E  5  5.0  7.0  1.0  7\n"
     ]
    }
   ],
   "source": [
    "da1=pd.DataFrame(np.random.randint(1, 10, (5,5)),\n",
    "                       columns=['a', 'b', 'c', 'd', 'e'],\n",
    "                       index=['A', 'B', 'C', 'D', 'E'])\n",
    "da1.iloc[1,1:4]=np.NaN\n",
    "print(da1)"
   ]
  },
  {
   "attachments": {},
   "cell_type": "markdown",
   "id": "c41ea235",
   "metadata": {},
   "source": [
    "#### 3. 通过字典分组"
   ]
  },
  {
   "cell_type": "code",
   "execution_count": 8,
   "id": "2f101e3b",
   "metadata": {},
   "outputs": [],
   "source": [
    "ma_dict={'a':'Python', 'b':'Python', 'c':'Java', 'd':'C', 'e':'Java'}"
   ]
  },
  {
   "cell_type": "code",
   "execution_count": 9,
   "id": "57daf0f4",
   "metadata": {},
   "outputs": [
    {
     "name": "stdout",
     "output_type": "stream",
     "text": [
      "C         1\n",
      "Java      2\n",
      "Python    2\n",
      "dtype: int64\n"
     ]
    }
   ],
   "source": [
    "print(da1.groupby(ma_dict,axis=1).size())"
   ]
  },
  {
   "cell_type": "code",
   "execution_count": 10,
   "id": "ff5b00f0",
   "metadata": {},
   "outputs": [
    {
     "name": "stdout",
     "output_type": "stream",
     "text": [
      "   C  Java  Python\n",
      "A  1     2       2\n",
      "B  0     1       1\n",
      "C  1     2       2\n",
      "D  1     2       2\n",
      "E  1     2       2\n"
     ]
    }
   ],
   "source": [
    "print(da1.groupby(ma_dict,axis=1).count())"
   ]
  },
  {
   "cell_type": "code",
   "execution_count": 11,
   "id": "17691967",
   "metadata": {},
   "outputs": [
    {
     "name": "stdout",
     "output_type": "stream",
     "text": [
      "   C  Java  Python\n",
      "A  1     2       2\n",
      "B  0     1       1\n",
      "C  1     2       2\n",
      "D  1     2       2\n",
      "E  1     2       2\n"
     ]
    }
   ],
   "source": [
    "print(da1.groupby(ma_dict,axis=1).count())"
   ]
  },
  {
   "cell_type": "code",
   "execution_count": 13,
   "id": "52cb7c3b",
   "metadata": {},
   "outputs": [
    {
     "name": "stdout",
     "output_type": "stream",
     "text": [
      "     C  Java  Python\n",
      "A  4.0  12.0    16.0\n",
      "B  0.0   8.0     5.0\n",
      "C  6.0  17.0    14.0\n",
      "D  2.0  17.0    12.0\n",
      "E  1.0  14.0    10.0\n"
     ]
    }
   ],
   "source": [
    "print(da1.groupby(ma_dict,axis=1).sum())"
   ]
  },
  {
   "attachments": {},
   "cell_type": "markdown",
   "id": "61091f03",
   "metadata": {},
   "source": [
    "#### 4. 通过函数分组，函数传入的参数为行索引或列索引"
   ]
  },
  {
   "cell_type": "code",
   "execution_count": 27,
   "id": "5ea6ab8c",
   "metadata": {},
   "outputs": [],
   "source": [
    "da2=pd.DataFrame(np.random.randint(1, 10, (5,5)),\n",
    "                       columns=['a', 'b', 'c', 'd', 'e'],\n",
    "                       index=['AA', 'BBB', 'CC', 'D', 'EE'])"
   ]
  },
  {
   "cell_type": "code",
   "execution_count": 28,
   "id": "727ce7f5",
   "metadata": {},
   "outputs": [
    {
     "name": "stdout",
     "output_type": "stream",
     "text": [
      "1    1\n",
      "2    3\n",
      "3    1\n",
      "dtype: int64\n"
     ]
    }
   ],
   "source": [
    "def group_key(idx):\n",
    "    return len(idx)\n",
    "print(da2.groupby(group_key).size())"
   ]
  },
  {
   "attachments": {},
   "cell_type": "markdown",
   "id": "a4c547dc",
   "metadata": {},
   "source": [
    "#### 5. 通过索引级别分组"
   ]
  },
  {
   "cell_type": "code",
   "execution_count": 3,
   "id": "d085c17b",
   "metadata": {},
   "outputs": [],
   "source": [
    "columns = pd.MultiIndex.from_arrays([['Python', 'Java', 'Python', 'Java', 'Python'],\n",
    "                                     ['A', 'A', 'B', 'C', 'B']], names=['language', 'index'])"
   ]
  },
  {
   "cell_type": "code",
   "execution_count": 5,
   "id": "7f954d43",
   "metadata": {},
   "outputs": [
    {
     "name": "stdout",
     "output_type": "stream",
     "text": [
      "language Python Java Python Java Python\n",
      "index         A    A      B    C      B\n",
      "0             6    7      6    7      7\n",
      "1             8    5      2    7      3\n",
      "2             1    2      2    1      8\n",
      "3             9    8      8    3      5\n",
      "4             2    5      2    4      2\n"
     ]
    }
   ],
   "source": [
    "da1=pd.DataFrame(np.random.randint(1,10,(5,5)),columns=columns)\n",
    "print(da1)"
   ]
  },
  {
   "attachments": {},
   "cell_type": "markdown",
   "id": "1b42a8e4",
   "metadata": {},
   "source": [
    "## 聚合 (aggregation)"
   ]
  },
  {
   "cell_type": "code",
   "execution_count": null,
   "id": "2b1513d0",
   "metadata": {},
   "outputs": [],
   "source": [
    "# 数组产生标量的过程，如mean()、count()等\n",
    "\n",
    "# 常用于对分组后的数据进行计算"
   ]
  },
  {
   "cell_type": "code",
   "execution_count": 29,
   "id": "c453890e",
   "metadata": {},
   "outputs": [],
   "source": [
    "dic1 = {'key1' : ['a', 'b', 'a', 'b', \n",
    "                      'a', 'b', 'a', 'a'],\n",
    "            'key2' : ['one', 'one', 'two', 'three',\n",
    "                      'two', 'two', 'one', 'three'],\n",
    "            'data1': np.random.randint(1,10, 8),\n",
    "            'data2': np.random.randint(1,10, 8)}"
   ]
  },
  {
   "cell_type": "code",
   "execution_count": 30,
   "id": "ef8bc81c",
   "metadata": {},
   "outputs": [],
   "source": [
    "dic1=pd.DataFrame(dic1)"
   ]
  },
  {
   "cell_type": "code",
   "execution_count": 31,
   "id": "6017f548",
   "metadata": {},
   "outputs": [
    {
     "name": "stdout",
     "output_type": "stream",
     "text": [
      "  key1   key2  data1  data2\n",
      "0    a    one      1      9\n",
      "1    b    one      9      1\n",
      "2    a    two      9      3\n",
      "3    b  three      6      9\n",
      "4    a    two      8      4\n",
      "5    b    two      8      1\n",
      "6    a    one      9      9\n",
      "7    a  three      3      5\n"
     ]
    }
   ],
   "source": [
    "print(dic1)"
   ]
  },
  {
   "attachments": {},
   "cell_type": "markdown",
   "id": "7a5ac2bd",
   "metadata": {},
   "source": [
    "#### 1. 内置的聚合函数"
   ]
  },
  {
   "cell_type": "code",
   "execution_count": null,
   "id": "d6d17843",
   "metadata": {},
   "outputs": [],
   "source": [
    "# sum(), mean(), max(), min(), count(), size(), describe()"
   ]
  },
  {
   "cell_type": "code",
   "execution_count": 32,
   "id": "1569ffcf",
   "metadata": {},
   "outputs": [
    {
     "name": "stdout",
     "output_type": "stream",
     "text": [
      "      key2  data1  data2\n",
      "key1                    \n",
      "a        5      5      5\n",
      "b        3      3      3\n"
     ]
    }
   ],
   "source": [
    "print(dic1.groupby('key1').count())"
   ]
  },
  {
   "cell_type": "code",
   "execution_count": 33,
   "id": "4d6ffec4",
   "metadata": {},
   "outputs": [
    {
     "name": "stdout",
     "output_type": "stream",
     "text": [
      "key1\n",
      "a    5\n",
      "b    3\n",
      "dtype: int64\n"
     ]
    }
   ],
   "source": [
    "print(dic1.groupby('key1').size())  #统计key1中索引的个数"
   ]
  },
  {
   "cell_type": "code",
   "execution_count": 13,
   "id": "ef89ba4f",
   "metadata": {},
   "outputs": [
    {
     "name": "stdout",
     "output_type": "stream",
     "text": [
      "key2\n",
      "one      3\n",
      "three    2\n",
      "two      3\n",
      "dtype: int64\n"
     ]
    }
   ],
   "source": [
    "print(dic1.groupby('key2').size())"
   ]
  },
  {
   "cell_type": "code",
   "execution_count": 14,
   "id": "bf2bfa4e",
   "metadata": {},
   "outputs": [
    {
     "name": "stdout",
     "output_type": "stream",
     "text": [
      "       key1  data1  data2\n",
      "key2                     \n",
      "one       3      3      3\n",
      "three     2      2      2\n",
      "two       3      3      3\n"
     ]
    }
   ],
   "source": [
    "print(dic1.groupby('key2').count())#统计关键词的个数"
   ]
  },
  {
   "cell_type": "code",
   "execution_count": 15,
   "id": "7aa35864",
   "metadata": {},
   "outputs": [
    {
     "name": "stdout",
     "output_type": "stream",
     "text": [
      "     data1                                         data2                      \\\n",
      "     count mean       std  min  25%  50%  75%  max count      mean       std   \n",
      "key1                                                                           \n",
      "a      5.0  4.8  3.768289  1.0  1.0  5.0  8.0  9.0   5.0  3.400000  1.673320   \n",
      "b      3.0  8.0  1.000000  7.0  7.5  8.0  8.5  9.0   3.0  4.666667  3.785939   \n",
      "\n",
      "                               \n",
      "      min  25%  50%  75%  max  \n",
      "key1                           \n",
      "a     2.0  2.0  3.0  4.0  6.0  \n",
      "b     2.0  2.5  3.0  6.0  9.0  \n"
     ]
    }
   ],
   "source": [
    "print(dic1.groupby('key1').describe())"
   ]
  },
  {
   "attachments": {},
   "cell_type": "markdown",
   "id": "86c8161c",
   "metadata": {},
   "source": [
    "#### 2. 可自定义函数，传入agg方法中"
   ]
  },
  {
   "cell_type": "code",
   "execution_count": null,
   "id": "745787d2",
   "metadata": {},
   "outputs": [],
   "source": [
    "# grouped.agg(func)\n",
    "\n",
    "# func的参数为groupby索引对应的记录"
   ]
  },
  {
   "cell_type": "code",
   "execution_count": 16,
   "id": "73c170e8",
   "metadata": {},
   "outputs": [],
   "source": [
    "def pak(df):\n",
    "    return df.max()-df.min()"
   ]
  },
  {
   "cell_type": "code",
   "execution_count": 17,
   "id": "cfb77c17",
   "metadata": {},
   "outputs": [
    {
     "name": "stdout",
     "output_type": "stream",
     "text": [
      "      data1  data2\n",
      "key1              \n",
      "a         8      4\n",
      "b         2      7\n"
     ]
    },
    {
     "name": "stderr",
     "output_type": "stream",
     "text": [
      "C:\\Users\\17677\\AppData\\Local\\Temp\\ipykernel_9452\\4050685626.py:1: FutureWarning: ['key2'] did not aggregate successfully. If any error is raised this will raise in a future version of pandas. Drop these columns/ops to avoid this warning.\n",
      "  print(dic1.groupby('key1').agg(pak))\n"
     ]
    }
   ],
   "source": [
    "print(dic1.groupby('key1').agg(pak))"
   ]
  },
  {
   "attachments": {},
   "cell_type": "markdown",
   "id": "a24779bf",
   "metadata": {},
   "source": [
    "#### 3. 应用多个聚合函数"
   ]
  },
  {
   "cell_type": "code",
   "execution_count": null,
   "id": "ab40b532",
   "metadata": {},
   "outputs": [],
   "source": [
    "# 同时应用多个函数进行聚合操作，使用函数列表"
   ]
  },
  {
   "cell_type": "code",
   "execution_count": 18,
   "id": "9d57cc4b",
   "metadata": {},
   "outputs": [
    {
     "name": "stdout",
     "output_type": "stream",
     "text": [
      "     data1                         data2                    \n",
      "      mean       std count pak      mean       std count pak\n",
      "key1                                                        \n",
      "a      4.8  3.768289     5   8  3.400000  1.673320     5   4\n",
      "b      8.0  1.000000     3   2  4.666667  3.785939     3   7\n"
     ]
    },
    {
     "name": "stderr",
     "output_type": "stream",
     "text": [
      "C:\\Users\\17677\\AppData\\Local\\Temp\\ipykernel_9452\\806437504.py:2: FutureWarning: ['key2'] did not aggregate successfully. If any error is raised this will raise in a future version of pandas. Drop these columns/ops to avoid this warning.\n",
      "  print(dic1.groupby('key1').agg(['mean','std','count',pak]))\n"
     ]
    }
   ],
   "source": [
    " # 默认列名为函数名\n",
    "print(dic1.groupby('key1').agg(['mean','std','count',pak]))"
   ]
  },
  {
   "cell_type": "code",
   "execution_count": 20,
   "id": "e56e207d",
   "metadata": {},
   "outputs": [
    {
     "name": "stdout",
     "output_type": "stream",
     "text": [
      "     data1                           data2                      \n",
      "      mean       std count range      mean       std count range\n",
      "key1                                                            \n",
      "a      4.8  3.768289     5     8  3.400000  1.673320     5     4\n",
      "b      8.0  1.000000     3     2  4.666667  3.785939     3     7\n"
     ]
    },
    {
     "name": "stderr",
     "output_type": "stream",
     "text": [
      "C:\\Users\\17677\\AppData\\Local\\Temp\\ipykernel_9452\\2984452034.py:1: FutureWarning: ['key2'] did not aggregate successfully. If any error is raised this will raise in a future version of pandas. Drop these columns/ops to avoid this warning.\n",
      "  print(dic1.groupby('key1').agg(['mean', 'std', 'count', ('range', pak)]))\n"
     ]
    }
   ],
   "source": [
    "# 通过元组提供新的列名\n",
    "print(dic1.groupby('key1').agg(['mean', 'std', 'count', ('range', pak)]))"
   ]
  },
  {
   "attachments": {},
   "cell_type": "markdown",
   "id": "b9f15130",
   "metadata": {},
   "source": [
    "#### 4. 对不同的列分别作用不同的聚合函数，使用dict"
   ]
  },
  {
   "cell_type": "code",
   "execution_count": 22,
   "id": "3ca5ce26",
   "metadata": {},
   "outputs": [
    {
     "name": "stdout",
     "output_type": "stream",
     "text": [
      "          data1  data2\n",
      "key2                  \n",
      "one    4.666667     15\n",
      "three  8.500000      4\n",
      "two    5.666667     12\n"
     ]
    }
   ],
   "source": [
    "dict={'data1':'mean','data2':'sum'}\n",
    "print(dic1.groupby('key2').agg(dict))"
   ]
  },
  {
   "cell_type": "code",
   "execution_count": 23,
   "id": "cad877cb",
   "metadata": {},
   "outputs": [
    {
     "name": "stdout",
     "output_type": "stream",
     "text": [
      "     data1     data2\n",
      "      mean max   sum\n",
      "key1                \n",
      "a      4.8   9    17\n",
      "b      8.0   9    14\n"
     ]
    }
   ],
   "source": [
    "dict1 = {'data1':['mean','max'],\n",
    "                'data2':'sum'}\n",
    "print(dic1.groupby('key1').agg(dict1))"
   ]
  },
  {
   "attachments": {},
   "cell_type": "markdown",
   "id": "8fac878c",
   "metadata": {},
   "source": [
    "## 数据的分组运算"
   ]
  },
  {
   "cell_type": "code",
   "execution_count": 34,
   "id": "ab57596a",
   "metadata": {},
   "outputs": [],
   "source": [
    "dic2 = {'key1' : ['a', 'b', 'a', 'b', \n",
    "                      'a', 'b', 'a', 'a'],\n",
    "            'key2' : ['one', 'one', 'two', 'three',\n",
    "                      'two', 'two', 'one', 'three'],\n",
    "            'data1': np.random.randint(1, 10, 8),\n",
    "            'data2': np.random.randint(1, 10, 8)}"
   ]
  },
  {
   "cell_type": "code",
   "execution_count": null,
   "id": "08c14135",
   "metadata": {},
   "outputs": [],
   "source": [
    "# add_prefix(),增加前缀函数"
   ]
  },
  {
   "cell_type": "code",
   "execution_count": 35,
   "id": "4029eb7f",
   "metadata": {},
   "outputs": [
    {
     "name": "stdout",
     "output_type": "stream",
     "text": [
      "  key1   key2  data1  data2\n",
      "0    a    one      2      1\n",
      "1    b    one      2      2\n",
      "2    a    two      3      9\n",
      "3    b  three      6      2\n",
      "4    a    two      1      6\n",
      "5    b    two      6      8\n",
      "6    a    one      4      4\n",
      "7    a  three      1      3\n"
     ]
    }
   ],
   "source": [
    "dic2=pd.DataFrame(dic2)\n",
    "print(dic2)"
   ]
  },
  {
   "cell_type": "code",
   "execution_count": 36,
   "id": "1aef93ee",
   "metadata": {},
   "outputs": [
    {
     "name": "stdout",
     "output_type": "stream",
     "text": [
      "      sum_data1  sum_data2\n",
      "key1                      \n",
      "a            11         23\n",
      "b            14         12\n"
     ]
    }
   ],
   "source": [
    "# 按key1分组后，计算data1，data2的统计信息并附加到原始表格中，并添加表头前缀\n",
    "k1_sum=dic2.groupby('key1').sum().add_prefix('sum_')\n",
    "print(k1_sum)"
   ]
  },
  {
   "attachments": {},
   "cell_type": "markdown",
   "id": "26c7c79b",
   "metadata": {},
   "source": [
    "1. merge进行外连接"
   ]
  },
  {
   "cell_type": "code",
   "execution_count": 37,
   "id": "154d5181",
   "metadata": {},
   "outputs": [
    {
     "name": "stdout",
     "output_type": "stream",
     "text": [
      "  key1   key2  data1  data2  sum_data1  sum_data2\n",
      "0    a    one      1      9         11         23\n",
      "2    a    two      9      3         11         23\n",
      "4    a    two      8      4         11         23\n",
      "6    a    one      9      9         11         23\n",
      "7    a  three      3      5         11         23\n",
      "1    b    one      9      1         14         12\n",
      "3    b  three      6      9         14         12\n",
      "5    b    two      8      1         14         12\n"
     ]
    }
   ],
   "source": [
    "k1_mer_sum=pd.merge(dic1,k1_sum,left_on='key1',right_index=True)\n",
    "print(k1_mer_sum)"
   ]
  },
  {
   "attachments": {},
   "cell_type": "markdown",
   "id": "e13a52e4",
   "metadata": {},
   "source": [
    "#### groupby.apply(func)"
   ]
  },
  {
   "cell_type": "code",
   "execution_count": 38,
   "id": "e435e78a",
   "metadata": {
    "collapsed": true
   },
   "outputs": [
    {
     "ename": "FileNotFoundError",
     "evalue": "[Errno 2] No such file or directory: './train.csv'",
     "output_type": "error",
     "traceback": [
      "\u001b[1;31m---------------------------------------------------------------------------\u001b[0m",
      "\u001b[1;31mFileNotFoundError\u001b[0m                         Traceback (most recent call last)",
      "\u001b[1;32m~\\AppData\\Local\\Temp\\ipykernel_18356\\1166353994.py\u001b[0m in \u001b[0;36m<module>\u001b[1;34m\u001b[0m\n\u001b[0;32m      1\u001b[0m \u001b[1;32mimport\u001b[0m \u001b[0mpandas\u001b[0m \u001b[1;32mas\u001b[0m \u001b[0mpd\u001b[0m\u001b[1;33m\u001b[0m\u001b[1;33m\u001b[0m\u001b[0m\n\u001b[0;32m      2\u001b[0m \u001b[0mdata_path\u001b[0m\u001b[1;33m=\u001b[0m\u001b[1;34m'./train.csv'\u001b[0m\u001b[1;33m\u001b[0m\u001b[1;33m\u001b[0m\u001b[0m\n\u001b[1;32m----> 3\u001b[1;33m \u001b[0mdatax\u001b[0m\u001b[1;33m=\u001b[0m\u001b[0mpd\u001b[0m\u001b[1;33m.\u001b[0m\u001b[0mread_csv\u001b[0m\u001b[1;33m(\u001b[0m\u001b[0mdata_path\u001b[0m\u001b[1;33m,\u001b[0m\u001b[0musecols\u001b[0m\u001b[1;33m=\u001b[0m\u001b[1;33m[\u001b[0m\u001b[1;34m'PassengerId'\u001b[0m\u001b[1;33m,\u001b[0m\u001b[1;34m'Pclass'\u001b[0m\u001b[1;33m,\u001b[0m\u001b[1;34m'Sex'\u001b[0m\u001b[1;33m,\u001b[0m\u001b[1;34m'Age'\u001b[0m\u001b[1;33m]\u001b[0m\u001b[1;33m)\u001b[0m\u001b[1;33m\u001b[0m\u001b[1;33m\u001b[0m\u001b[0m\n\u001b[0m",
      "\u001b[1;32mD:\\IDE_sources\\Ancona\\lib\\site-packages\\pandas\\util\\_decorators.py\u001b[0m in \u001b[0;36mwrapper\u001b[1;34m(*args, **kwargs)\u001b[0m\n\u001b[0;32m    309\u001b[0m                     \u001b[0mstacklevel\u001b[0m\u001b[1;33m=\u001b[0m\u001b[0mstacklevel\u001b[0m\u001b[1;33m,\u001b[0m\u001b[1;33m\u001b[0m\u001b[1;33m\u001b[0m\u001b[0m\n\u001b[0;32m    310\u001b[0m                 )\n\u001b[1;32m--> 311\u001b[1;33m             \u001b[1;32mreturn\u001b[0m \u001b[0mfunc\u001b[0m\u001b[1;33m(\u001b[0m\u001b[1;33m*\u001b[0m\u001b[0margs\u001b[0m\u001b[1;33m,\u001b[0m \u001b[1;33m**\u001b[0m\u001b[0mkwargs\u001b[0m\u001b[1;33m)\u001b[0m\u001b[1;33m\u001b[0m\u001b[1;33m\u001b[0m\u001b[0m\n\u001b[0m\u001b[0;32m    312\u001b[0m \u001b[1;33m\u001b[0m\u001b[0m\n\u001b[0;32m    313\u001b[0m         \u001b[1;32mreturn\u001b[0m \u001b[0mwrapper\u001b[0m\u001b[1;33m\u001b[0m\u001b[1;33m\u001b[0m\u001b[0m\n",
      "\u001b[1;32mD:\\IDE_sources\\Ancona\\lib\\site-packages\\pandas\\io\\parsers\\readers.py\u001b[0m in \u001b[0;36mread_csv\u001b[1;34m(filepath_or_buffer, sep, delimiter, header, names, index_col, usecols, squeeze, prefix, mangle_dupe_cols, dtype, engine, converters, true_values, false_values, skipinitialspace, skiprows, skipfooter, nrows, na_values, keep_default_na, na_filter, verbose, skip_blank_lines, parse_dates, infer_datetime_format, keep_date_col, date_parser, dayfirst, cache_dates, iterator, chunksize, compression, thousands, decimal, lineterminator, quotechar, quoting, doublequote, escapechar, comment, encoding, encoding_errors, dialect, error_bad_lines, warn_bad_lines, on_bad_lines, delim_whitespace, low_memory, memory_map, float_precision, storage_options)\u001b[0m\n\u001b[0;32m    676\u001b[0m     \u001b[0mkwds\u001b[0m\u001b[1;33m.\u001b[0m\u001b[0mupdate\u001b[0m\u001b[1;33m(\u001b[0m\u001b[0mkwds_defaults\u001b[0m\u001b[1;33m)\u001b[0m\u001b[1;33m\u001b[0m\u001b[1;33m\u001b[0m\u001b[0m\n\u001b[0;32m    677\u001b[0m \u001b[1;33m\u001b[0m\u001b[0m\n\u001b[1;32m--> 678\u001b[1;33m     \u001b[1;32mreturn\u001b[0m \u001b[0m_read\u001b[0m\u001b[1;33m(\u001b[0m\u001b[0mfilepath_or_buffer\u001b[0m\u001b[1;33m,\u001b[0m \u001b[0mkwds\u001b[0m\u001b[1;33m)\u001b[0m\u001b[1;33m\u001b[0m\u001b[1;33m\u001b[0m\u001b[0m\n\u001b[0m\u001b[0;32m    679\u001b[0m \u001b[1;33m\u001b[0m\u001b[0m\n\u001b[0;32m    680\u001b[0m \u001b[1;33m\u001b[0m\u001b[0m\n",
      "\u001b[1;32mD:\\IDE_sources\\Ancona\\lib\\site-packages\\pandas\\io\\parsers\\readers.py\u001b[0m in \u001b[0;36m_read\u001b[1;34m(filepath_or_buffer, kwds)\u001b[0m\n\u001b[0;32m    573\u001b[0m \u001b[1;33m\u001b[0m\u001b[0m\n\u001b[0;32m    574\u001b[0m     \u001b[1;31m# Create the parser.\u001b[0m\u001b[1;33m\u001b[0m\u001b[1;33m\u001b[0m\u001b[0m\n\u001b[1;32m--> 575\u001b[1;33m     \u001b[0mparser\u001b[0m \u001b[1;33m=\u001b[0m \u001b[0mTextFileReader\u001b[0m\u001b[1;33m(\u001b[0m\u001b[0mfilepath_or_buffer\u001b[0m\u001b[1;33m,\u001b[0m \u001b[1;33m**\u001b[0m\u001b[0mkwds\u001b[0m\u001b[1;33m)\u001b[0m\u001b[1;33m\u001b[0m\u001b[1;33m\u001b[0m\u001b[0m\n\u001b[0m\u001b[0;32m    576\u001b[0m \u001b[1;33m\u001b[0m\u001b[0m\n\u001b[0;32m    577\u001b[0m     \u001b[1;32mif\u001b[0m \u001b[0mchunksize\u001b[0m \u001b[1;32mor\u001b[0m \u001b[0miterator\u001b[0m\u001b[1;33m:\u001b[0m\u001b[1;33m\u001b[0m\u001b[1;33m\u001b[0m\u001b[0m\n",
      "\u001b[1;32mD:\\IDE_sources\\Ancona\\lib\\site-packages\\pandas\\io\\parsers\\readers.py\u001b[0m in \u001b[0;36m__init__\u001b[1;34m(self, f, engine, **kwds)\u001b[0m\n\u001b[0;32m    930\u001b[0m \u001b[1;33m\u001b[0m\u001b[0m\n\u001b[0;32m    931\u001b[0m         \u001b[0mself\u001b[0m\u001b[1;33m.\u001b[0m\u001b[0mhandles\u001b[0m\u001b[1;33m:\u001b[0m \u001b[0mIOHandles\u001b[0m \u001b[1;33m|\u001b[0m \u001b[1;32mNone\u001b[0m \u001b[1;33m=\u001b[0m \u001b[1;32mNone\u001b[0m\u001b[1;33m\u001b[0m\u001b[1;33m\u001b[0m\u001b[0m\n\u001b[1;32m--> 932\u001b[1;33m         \u001b[0mself\u001b[0m\u001b[1;33m.\u001b[0m\u001b[0m_engine\u001b[0m \u001b[1;33m=\u001b[0m \u001b[0mself\u001b[0m\u001b[1;33m.\u001b[0m\u001b[0m_make_engine\u001b[0m\u001b[1;33m(\u001b[0m\u001b[0mf\u001b[0m\u001b[1;33m,\u001b[0m \u001b[0mself\u001b[0m\u001b[1;33m.\u001b[0m\u001b[0mengine\u001b[0m\u001b[1;33m)\u001b[0m\u001b[1;33m\u001b[0m\u001b[1;33m\u001b[0m\u001b[0m\n\u001b[0m\u001b[0;32m    933\u001b[0m \u001b[1;33m\u001b[0m\u001b[0m\n\u001b[0;32m    934\u001b[0m     \u001b[1;32mdef\u001b[0m \u001b[0mclose\u001b[0m\u001b[1;33m(\u001b[0m\u001b[0mself\u001b[0m\u001b[1;33m)\u001b[0m\u001b[1;33m:\u001b[0m\u001b[1;33m\u001b[0m\u001b[1;33m\u001b[0m\u001b[0m\n",
      "\u001b[1;32mD:\\IDE_sources\\Ancona\\lib\\site-packages\\pandas\\io\\parsers\\readers.py\u001b[0m in \u001b[0;36m_make_engine\u001b[1;34m(self, f, engine)\u001b[0m\n\u001b[0;32m   1214\u001b[0m             \u001b[1;31m# \"Union[str, PathLike[str], ReadCsvBuffer[bytes], ReadCsvBuffer[str]]\"\u001b[0m\u001b[1;33m\u001b[0m\u001b[1;33m\u001b[0m\u001b[0m\n\u001b[0;32m   1215\u001b[0m             \u001b[1;31m# , \"str\", \"bool\", \"Any\", \"Any\", \"Any\", \"Any\", \"Any\"\u001b[0m\u001b[1;33m\u001b[0m\u001b[1;33m\u001b[0m\u001b[0m\n\u001b[1;32m-> 1216\u001b[1;33m             self.handles = get_handle(  # type: ignore[call-overload]\n\u001b[0m\u001b[0;32m   1217\u001b[0m                 \u001b[0mf\u001b[0m\u001b[1;33m,\u001b[0m\u001b[1;33m\u001b[0m\u001b[1;33m\u001b[0m\u001b[0m\n\u001b[0;32m   1218\u001b[0m                 \u001b[0mmode\u001b[0m\u001b[1;33m,\u001b[0m\u001b[1;33m\u001b[0m\u001b[1;33m\u001b[0m\u001b[0m\n",
      "\u001b[1;32mD:\\IDE_sources\\Ancona\\lib\\site-packages\\pandas\\io\\common.py\u001b[0m in \u001b[0;36mget_handle\u001b[1;34m(path_or_buf, mode, encoding, compression, memory_map, is_text, errors, storage_options)\u001b[0m\n\u001b[0;32m    784\u001b[0m         \u001b[1;32mif\u001b[0m \u001b[0mioargs\u001b[0m\u001b[1;33m.\u001b[0m\u001b[0mencoding\u001b[0m \u001b[1;32mand\u001b[0m \u001b[1;34m\"b\"\u001b[0m \u001b[1;32mnot\u001b[0m \u001b[1;32min\u001b[0m \u001b[0mioargs\u001b[0m\u001b[1;33m.\u001b[0m\u001b[0mmode\u001b[0m\u001b[1;33m:\u001b[0m\u001b[1;33m\u001b[0m\u001b[1;33m\u001b[0m\u001b[0m\n\u001b[0;32m    785\u001b[0m             \u001b[1;31m# Encoding\u001b[0m\u001b[1;33m\u001b[0m\u001b[1;33m\u001b[0m\u001b[0m\n\u001b[1;32m--> 786\u001b[1;33m             handle = open(\n\u001b[0m\u001b[0;32m    787\u001b[0m                 \u001b[0mhandle\u001b[0m\u001b[1;33m,\u001b[0m\u001b[1;33m\u001b[0m\u001b[1;33m\u001b[0m\u001b[0m\n\u001b[0;32m    788\u001b[0m                 \u001b[0mioargs\u001b[0m\u001b[1;33m.\u001b[0m\u001b[0mmode\u001b[0m\u001b[1;33m,\u001b[0m\u001b[1;33m\u001b[0m\u001b[1;33m\u001b[0m\u001b[0m\n",
      "\u001b[1;31mFileNotFoundError\u001b[0m: [Errno 2] No such file or directory: './train.csv'"
     ]
    }
   ],
   "source": [
    "import pandas as pd\n",
    "data_path='./train.csv'\n",
    "datax=pd.read_csv(data_path,usecols=['PassengerId','Pclass','Sex','Age'])"
   ]
  },
  {
   "cell_type": "code",
   "execution_count": 83,
   "id": "a6a1194e",
   "metadata": {},
   "outputs": [
    {
     "name": "stdout",
     "output_type": "stream",
     "text": [
      "    PassengerId  Pclass     Sex   Age\n",
      "0             1       3    male  22.0\n",
      "1             2       1  female  38.0\n",
      "2             3       3  female  26.0\n",
      "3             4       1  female  35.0\n",
      "4             5       3    male  35.0\n",
      "5             6       3    male   NaN\n",
      "6             7       1    male  54.0\n",
      "7             8       3    male   2.0\n",
      "8             9       3  female  27.0\n",
      "9            10       2  female  14.0\n",
      "10           11       3  female   4.0\n",
      "11           12       1  female  58.0\n",
      "12           13       3    male  20.0\n",
      "13           14       3    male  39.0\n",
      "14           15       3  female  14.0\n",
      "15           16       2  female  55.0\n",
      "16           17       3    male   2.0\n",
      "17           18       2    male   NaN\n",
      "18           19       3  female  31.0\n",
      "19           20       3  female   NaN\n",
      "20           21       2    male  35.0\n",
      "21           22       2    male  34.0\n",
      "22           23       3  female  15.0\n",
      "23           24       1    male  28.0\n",
      "24           25       3  female   8.0\n",
      "25           26       3  female  38.0\n",
      "26           27       3    male   NaN\n",
      "27           28       1    male  19.0\n",
      "28           29       3  female   NaN\n",
      "29           30       3    male   NaN\n"
     ]
    }
   ],
   "source": [
    "\n",
    "print(datax.head(30))"
   ]
  },
  {
   "cell_type": "code",
   "execution_count": 84,
   "id": "1712175c",
   "metadata": {},
   "outputs": [],
   "source": [
    "datax.fillna({\"Age\":0.},inplace=True)"
   ]
  },
  {
   "cell_type": "code",
   "execution_count": 85,
   "id": "2d63082a",
   "metadata": {},
   "outputs": [
    {
     "name": "stdout",
     "output_type": "stream",
     "text": [
      "    PassengerId  Pclass     Sex   Age\n",
      "0             1       3    male  22.0\n",
      "1             2       1  female  38.0\n",
      "2             3       3  female  26.0\n",
      "3             4       1  female  35.0\n",
      "4             5       3    male  35.0\n",
      "5             6       3    male   0.0\n",
      "6             7       1    male  54.0\n",
      "7             8       3    male   2.0\n",
      "8             9       3  female  27.0\n",
      "9            10       2  female  14.0\n",
      "10           11       3  female   4.0\n",
      "11           12       1  female  58.0\n",
      "12           13       3    male  20.0\n",
      "13           14       3    male  39.0\n",
      "14           15       3  female  14.0\n",
      "15           16       2  female  55.0\n",
      "16           17       3    male   2.0\n",
      "17           18       2    male   0.0\n",
      "18           19       3  female  31.0\n",
      "19           20       3  female   0.0\n",
      "20           21       2    male  35.0\n",
      "21           22       2    male  34.0\n",
      "22           23       3  female  15.0\n",
      "23           24       1    male  28.0\n",
      "24           25       3  female   8.0\n",
      "25           26       3  female  38.0\n",
      "26           27       3    male   0.0\n",
      "27           28       1    male  19.0\n",
      "28           29       3  female   0.0\n",
      "29           30       3    male   0.0\n"
     ]
    }
   ],
   "source": [
    "print(datax.head(30))"
   ]
  },
  {
   "cell_type": "code",
   "execution_count": 89,
   "id": "2a4f0bb1",
   "metadata": {},
   "outputs": [
    {
     "name": "stdout",
     "output_type": "stream",
     "text": [
      "            PassengerId  Pclass     Sex   Age\n",
      "Pclass                                       \n",
      "1      630          631       1    male  80.0\n",
      "       493          494       1    male  71.0\n",
      "       96            97       1    male  71.0\n",
      "       745          746       1    male  70.0\n",
      "       456          457       1    male  65.0\n",
      "       54            55       1    male  65.0\n",
      "       438          439       1    male  64.0\n",
      "       545          546       1    male  64.0\n",
      "       275          276       1  female  63.0\n",
      "       252          253       1    male  62.0\n",
      "2      672          673       2    male  70.0\n",
      "       33            34       2    male  66.0\n",
      "       570          571       2    male  62.0\n",
      "       684          685       2    male  60.0\n",
      "       232          233       2    male  59.0\n",
      "       772          773       2  female  57.0\n",
      "       626          627       2    male  57.0\n",
      "       15            16       2  female  55.0\n",
      "       774          775       2  female  54.0\n",
      "       317          318       2    male  54.0\n",
      "3      851          852       3    male  74.0\n",
      "       116          117       3    male  70.5\n",
      "       280          281       3    male  65.0\n",
      "       483          484       3  female  63.0\n",
      "       326          327       3    male  61.0\n",
      "       94            95       3    male  59.0\n",
      "       152          153       3    male  55.5\n",
      "       631          632       3    male  51.0\n",
      "       222          223       3    male  51.0\n",
      "       406          407       3    male  51.0\n"
     ]
    }
   ],
   "source": [
    "#返回每个分组按 column 的 top n 数据\n",
    "def top_n(df,n=5,column=\"Age\"):\n",
    "    return df.sort_values(by=column,ascending=False)[:10]\n",
    "print(datax.groupby('Pclass').apply(top_n))"
   ]
  },
  {
   "attachments": {},
   "cell_type": "markdown",
   "id": "d50c105c",
   "metadata": {},
   "source": [
    "1. 产生层级索引：外层索引是分组名，内层索引是df_obj的行索引"
   ]
  },
  {
   "cell_type": "code",
   "execution_count": 90,
   "id": "209aa347",
   "metadata": {},
   "outputs": [
    {
     "name": "stdout",
     "output_type": "stream",
     "text": [
      "            PassengerId  Pclass     Sex   Age\n",
      "Pclass                                       \n",
      "1      630          631       1    male  80.0\n",
      "       493          494       1    male  71.0\n",
      "       96            97       1    male  71.0\n",
      "       745          746       1    male  70.0\n",
      "       456          457       1    male  65.0\n",
      "       54            55       1    male  65.0\n",
      "       438          439       1    male  64.0\n",
      "       545          546       1    male  64.0\n",
      "       275          276       1  female  63.0\n",
      "       252          253       1    male  62.0\n",
      "2      672          673       2    male  70.0\n",
      "       33            34       2    male  66.0\n",
      "       570          571       2    male  62.0\n",
      "       684          685       2    male  60.0\n",
      "       232          233       2    male  59.0\n",
      "       772          773       2  female  57.0\n",
      "       626          627       2    male  57.0\n",
      "       15            16       2  female  55.0\n",
      "       774          775       2  female  54.0\n",
      "       317          318       2    male  54.0\n",
      "3      851          852       3    male  74.0\n",
      "       116          117       3    male  70.5\n",
      "       280          281       3    male  65.0\n",
      "       483          484       3  female  63.0\n",
      "       326          327       3    male  61.0\n",
      "       94            95       3    male  59.0\n",
      "       152          153       3    male  55.5\n",
      "       631          632       3    male  51.0\n",
      "       222          223       3    male  51.0\n",
      "       406          407       3    male  51.0\n"
     ]
    }
   ],
   "source": [
    "# apply函数接收的参数会传入自定义的函数中\n",
    "print(datax.groupby('Pclass').apply(top_n,n=10,column='Age'))"
   ]
  },
  {
   "attachments": {},
   "cell_type": "markdown",
   "id": "9e5bf9d9",
   "metadata": {},
   "source": [
    "2. 禁止层级索引, group_keys=False"
   ]
  },
  {
   "cell_type": "code",
   "execution_count": 92,
   "id": "ebf8c0a6",
   "metadata": {},
   "outputs": [
    {
     "name": "stdout",
     "output_type": "stream",
     "text": [
      "     PassengerId  Pclass     Sex   Age\n",
      "630          631       1    male  80.0\n",
      "493          494       1    male  71.0\n",
      "96            97       1    male  71.0\n",
      "745          746       1    male  70.0\n",
      "456          457       1    male  65.0\n",
      "54            55       1    male  65.0\n",
      "438          439       1    male  64.0\n",
      "545          546       1    male  64.0\n",
      "275          276       1  female  63.0\n",
      "252          253       1    male  62.0\n",
      "672          673       2    male  70.0\n",
      "33            34       2    male  66.0\n",
      "570          571       2    male  62.0\n",
      "684          685       2    male  60.0\n",
      "232          233       2    male  59.0\n",
      "772          773       2  female  57.0\n",
      "626          627       2    male  57.0\n",
      "15            16       2  female  55.0\n",
      "774          775       2  female  54.0\n",
      "317          318       2    male  54.0\n",
      "851          852       3    male  74.0\n",
      "116          117       3    male  70.5\n",
      "280          281       3    male  65.0\n",
      "483          484       3  female  63.0\n",
      "326          327       3    male  61.0\n",
      "94            95       3    male  59.0\n",
      "152          153       3    male  55.5\n",
      "631          632       3    male  51.0\n",
      "222          223       3    male  51.0\n",
      "406          407       3    male  51.0\n"
     ]
    }
   ],
   "source": [
    "print(datax.groupby('Pclass',group_keys=False).apply(top_n,n=10,column='Age'))"
   ]
  },
  {
   "attachments": {},
   "cell_type": "markdown",
   "id": "13f156d4",
   "metadata": {},
   "source": [
    "# 数据清洗"
   ]
  },
  {
   "attachments": {},
   "cell_type": "markdown",
   "id": "168ca3ad",
   "metadata": {},
   "source": [
    "## 数据连接(pd.merge)"
   ]
  },
  {
   "cell_type": "code",
   "execution_count": null,
   "id": "294463d6",
   "metadata": {},
   "outputs": [],
   "source": [
    "# pd.merge\n",
    "\n",
    "# 根据单个或多个键将不同DataFrame的行连接起来\n",
    "\n",
    "# 类似数据库的连接操作"
   ]
  },
  {
   "cell_type": "code",
   "execution_count": 93,
   "id": "8352be9d",
   "metadata": {},
   "outputs": [],
   "source": [
    "import pandas as pd\n",
    "import numpy as np"
   ]
  },
  {
   "cell_type": "code",
   "execution_count": 39,
   "id": "882c8f82",
   "metadata": {},
   "outputs": [],
   "source": [
    "df1 = pd.DataFrame({'key': ['b', 'b', 'a', 'c', 'a', 'a', 'b'],\n",
    "                        'data1' : np.random.randint(0,10,7)})\n",
    "df2 = pd.DataFrame({'key': ['a', 'b', 'd'],\n",
    "                        'data2' : np.random.randint(0,10,3)})"
   ]
  },
  {
   "cell_type": "code",
   "execution_count": 40,
   "id": "766faabe",
   "metadata": {},
   "outputs": [
    {
     "name": "stdout",
     "output_type": "stream",
     "text": [
      "  key  data1\n",
      "0   b      8\n",
      "1   b      3\n",
      "2   a      8\n",
      "3   c      9\n",
      "4   a      9\n",
      "5   a      5\n",
      "6   b      4\n",
      "  key  data2\n",
      "0   a      2\n",
      "1   b      9\n",
      "2   d      0\n"
     ]
    }
   ],
   "source": [
    "print(df1)\n",
    "print(df2)"
   ]
  },
  {
   "attachments": {},
   "cell_type": "markdown",
   "id": "d8f76546",
   "metadata": {},
   "source": [
    "1. 默认将重叠列的列名作为“外键”进行连接"
   ]
  },
  {
   "cell_type": "code",
   "execution_count": 41,
   "id": "11476f2e",
   "metadata": {},
   "outputs": [
    {
     "name": "stdout",
     "output_type": "stream",
     "text": [
      "  key  data1  data2\n",
      "0   b      8      9\n",
      "1   b      3      9\n",
      "2   b      4      9\n",
      "3   a      8      2\n",
      "4   a      9      2\n",
      "5   a      5      2\n"
     ]
    }
   ],
   "source": [
    "print(pd.merge(df1,df2))"
   ]
  },
  {
   "attachments": {},
   "cell_type": "markdown",
   "id": "26eaaf5d",
   "metadata": {},
   "source": [
    "2. on显示指定“外键”"
   ]
  },
  {
   "cell_type": "code",
   "execution_count": 42,
   "id": "079de73b",
   "metadata": {},
   "outputs": [
    {
     "name": "stdout",
     "output_type": "stream",
     "text": [
      "  key  data1  data2\n",
      "0   b      8      9\n",
      "1   b      3      9\n",
      "2   b      4      9\n",
      "3   a      8      2\n",
      "4   a      9      2\n",
      "5   a      5      2\n"
     ]
    }
   ],
   "source": [
    "print(pd.merge(df1,df2,on='key'))"
   ]
  },
  {
   "attachments": {},
   "cell_type": "markdown",
   "id": "b2a61873",
   "metadata": {},
   "source": [
    "3. left_on，左侧数据的“外键”，right_on，右侧数据的“外键”"
   ]
  },
  {
   "cell_type": "code",
   "execution_count": 43,
   "id": "099e4c86",
   "metadata": {},
   "outputs": [],
   "source": [
    "# 更改列名\n",
    "dat1 = df1.rename(columns={'key':'key1'})\n",
    "dat2 = df2.rename(columns={'key':'key2'})"
   ]
  },
  {
   "cell_type": "code",
   "execution_count": 44,
   "id": "39130be2",
   "metadata": {},
   "outputs": [
    {
     "name": "stdout",
     "output_type": "stream",
     "text": [
      "  key1  data1 key2  data2\n",
      "0    b      8    b      9\n",
      "1    b      3    b      9\n",
      "2    b      4    b      9\n",
      "3    a      8    a      2\n",
      "4    a      9    a      2\n",
      "5    a      5    a      2\n"
     ]
    }
   ],
   "source": [
    "print(pd.merge(dat1,dat2,left_on='key1',right_on='key2'))"
   ]
  },
  {
   "cell_type": "code",
   "execution_count": null,
   "id": "9e8e6401",
   "metadata": {},
   "outputs": [],
   "source": [
    "# 默认是“内连接”(inner)，即结果中的键是交集\n",
    "\n",
    "# how指定连接方式"
   ]
  },
  {
   "attachments": {},
   "cell_type": "markdown",
   "id": "7b45f005",
   "metadata": {},
   "source": [
    "4. “外连接”(outer)，结果中的键是并集"
   ]
  },
  {
   "cell_type": "code",
   "execution_count": 45,
   "id": "d3556c02",
   "metadata": {},
   "outputs": [
    {
     "name": "stdout",
     "output_type": "stream",
     "text": [
      "  key1  data1 key2  data2\n",
      "0    b    8.0    b    9.0\n",
      "1    b    3.0    b    9.0\n",
      "2    b    4.0    b    9.0\n",
      "3    a    8.0    a    2.0\n",
      "4    a    9.0    a    2.0\n",
      "5    a    5.0    a    2.0\n",
      "6    c    9.0  NaN    NaN\n",
      "7  NaN    NaN    d    0.0\n"
     ]
    }
   ],
   "source": [
    "print(pd.merge(dat1,dat2,left_on='key1',right_on='key2',how='outer'))"
   ]
  },
  {
   "attachments": {},
   "cell_type": "markdown",
   "id": "282546c8",
   "metadata": {},
   "source": [
    "5. “左连接”(left)"
   ]
  },
  {
   "cell_type": "code",
   "execution_count": 46,
   "id": "2137abee",
   "metadata": {},
   "outputs": [
    {
     "name": "stdout",
     "output_type": "stream",
     "text": [
      "  key1  data1 key2  data2\n",
      "0    b      8    b    9.0\n",
      "1    b      3    b    9.0\n",
      "2    a      8    a    2.0\n",
      "3    c      9  NaN    NaN\n",
      "4    a      9    a    2.0\n",
      "5    a      5    a    2.0\n",
      "6    b      4    b    9.0\n"
     ]
    }
   ],
   "source": [
    "print(pd.merge(dat1,dat2,left_on='key1',right_on='key2',how='left'))"
   ]
  },
  {
   "attachments": {},
   "cell_type": "markdown",
   "id": "b7622420",
   "metadata": {},
   "source": [
    "6. “右连接”(right)"
   ]
  },
  {
   "cell_type": "code",
   "execution_count": 47,
   "id": "f8066fb3",
   "metadata": {},
   "outputs": [
    {
     "name": "stdout",
     "output_type": "stream",
     "text": [
      "  key1  data1 key2  data2\n",
      "0    a    8.0    a      2\n",
      "1    a    9.0    a      2\n",
      "2    a    5.0    a      2\n",
      "3    b    8.0    b      9\n",
      "4    b    3.0    b      9\n",
      "5    b    4.0    b      9\n",
      "6  NaN    NaN    d      0\n"
     ]
    }
   ],
   "source": [
    "print(pd.merge(dat1,dat2,left_on='key1',right_on='key2',how='right'))"
   ]
  },
  {
   "attachments": {},
   "cell_type": "markdown",
   "id": "f6ae0af8",
   "metadata": {},
   "source": [
    "7. 处理重复列名"
   ]
  },
  {
   "cell_type": "code",
   "execution_count": null,
   "id": "678b8437",
   "metadata": {},
   "outputs": [],
   "source": [
    "# suffixes，默认为_x, _y"
   ]
  },
  {
   "cell_type": "code",
   "execution_count": 48,
   "id": "4910e96e",
   "metadata": {},
   "outputs": [],
   "source": [
    "dat3 = pd.DataFrame({'key': ['b', 'b', 'a', 'c', 'a', 'a', 'b'],\n",
    "                        'data' : np.random.randint(0,10,7)})\n",
    "dat4= pd.DataFrame({'key': ['a', 'b', 'd'],\n",
    "                        'data' : np.random.randint(0,10,3)})"
   ]
  },
  {
   "cell_type": "code",
   "execution_count": 49,
   "id": "de6b99f0",
   "metadata": {},
   "outputs": [
    {
     "name": "stdout",
     "output_type": "stream",
     "text": [
      "  key  data\n",
      "0   b     5\n",
      "1   b     5\n",
      "2   a     9\n",
      "3   c     4\n",
      "4   a     6\n",
      "5   a     2\n",
      "6   b     3\n",
      "  key  data\n",
      "0   a     1\n",
      "1   b     2\n",
      "2   d     8\n"
     ]
    }
   ],
   "source": [
    "print(dat3)\n",
    "print(dat4)"
   ]
  },
  {
   "cell_type": "code",
   "execution_count": 50,
   "id": "75010749",
   "metadata": {},
   "outputs": [
    {
     "name": "stdout",
     "output_type": "stream",
     "text": [
      "  key  data_left  data_right\n",
      "0   b          5           2\n",
      "1   b          5           2\n",
      "2   b          3           2\n",
      "3   a          9           1\n",
      "4   a          6           1\n",
      "5   a          2           1\n"
     ]
    }
   ],
   "source": [
    "print(pd.merge(dat3,dat4,on='key',suffixes=('_left','_right')))"
   ]
  },
  {
   "attachments": {},
   "cell_type": "markdown",
   "id": "cc106c31",
   "metadata": {},
   "source": [
    "8. 按索引连接"
   ]
  },
  {
   "cell_type": "code",
   "execution_count": null,
   "id": "22b620c1",
   "metadata": {},
   "outputs": [],
   "source": [
    "# left_index=True或right_index=True"
   ]
  },
  {
   "cell_type": "code",
   "execution_count": 51,
   "id": "f5363412",
   "metadata": {},
   "outputs": [],
   "source": [
    "df3 = pd.DataFrame({'key': ['b', 'b', 'a', 'c', 'a', 'a', 'b'],\n",
    "                        'data1' : np.random.randint(0,10,7)})\n",
    "df4 = pd.DataFrame({'data2' : np.random.randint(0,10,3)}, index=['a', 'b', 'd'])"
   ]
  },
  {
   "cell_type": "code",
   "execution_count": 52,
   "id": "699153fc",
   "metadata": {},
   "outputs": [
    {
     "name": "stdout",
     "output_type": "stream",
     "text": [
      "  key  data1  data2\n",
      "0   b      3      8\n",
      "1   b      3      8\n",
      "6   b      5      8\n",
      "2   a      0      3\n",
      "4   a      7      3\n",
      "5   a      0      3\n"
     ]
    }
   ],
   "source": [
    "print(pd.merge(df3,df4,left_on='key',right_index=True))"
   ]
  },
  {
   "attachments": {},
   "cell_type": "markdown",
   "id": "2b371cad",
   "metadata": {},
   "source": [
    "## 数据合并(pd.concat)"
   ]
  },
  {
   "attachments": {},
   "cell_type": "markdown",
   "id": "fde4a1bc",
   "metadata": {},
   "source": [
    "1. NumPy的concat"
   ]
  },
  {
   "cell_type": "code",
   "execution_count": 53,
   "id": "0e46d73b",
   "metadata": {},
   "outputs": [
    {
     "name": "stdout",
     "output_type": "stream",
     "text": [
      "[[3 2 3 0]\n",
      " [8 3 8 4]\n",
      " [4 9 9 0]]\n",
      "[[8 1 1 7]\n",
      " [0 2 6 2]\n",
      " [7 4 2 3]]\n"
     ]
    }
   ],
   "source": [
    "arr1 = np.random.randint(0, 10, (3, 4))\n",
    "arr2 = np.random.randint(0, 10, (3, 4))\n",
    "print(arr1)\n",
    "print(arr2)"
   ]
  },
  {
   "cell_type": "code",
   "execution_count": 54,
   "id": "647ce621",
   "metadata": {},
   "outputs": [
    {
     "name": "stdout",
     "output_type": "stream",
     "text": [
      "[[3 2 3 0]\n",
      " [8 3 8 4]\n",
      " [4 9 9 0]\n",
      " [8 1 1 7]\n",
      " [0 2 6 2]\n",
      " [7 4 2 3]]\n"
     ]
    }
   ],
   "source": [
    "print(np.concatenate([arr1,arr2]))"
   ]
  },
  {
   "cell_type": "code",
   "execution_count": 55,
   "id": "75d80215",
   "metadata": {},
   "outputs": [
    {
     "name": "stdout",
     "output_type": "stream",
     "text": [
      "[[3 2 3 0 8 1 1 7]\n",
      " [8 3 8 4 0 2 6 2]\n",
      " [4 9 9 0 7 4 2 3]]\n"
     ]
    }
   ],
   "source": [
    "print(np.concatenate([arr1,arr2],axis=1))"
   ]
  },
  {
   "attachments": {},
   "cell_type": "markdown",
   "id": "73b2e6da",
   "metadata": {},
   "source": [
    "2. pd.concat"
   ]
  },
  {
   "cell_type": "code",
   "execution_count": null,
   "id": "2b1636da",
   "metadata": {},
   "outputs": [],
   "source": [
    "# 注意指定轴方向，默认axis=0\n",
    "\n",
    "# join指定合并方式，默认为outer\n",
    "\n",
    "# Series合并时查看行索引有无重复"
   ]
  },
  {
   "attachments": {},
   "cell_type": "markdown",
   "id": "ed010274",
   "metadata": {},
   "source": [
    "1) index 没有重复的情况"
   ]
  },
  {
   "cell_type": "code",
   "execution_count": 56,
   "id": "049a5ca1",
   "metadata": {},
   "outputs": [],
   "source": [
    "ser1 = pd.Series(np.random.randint(0, 10, 5), index=range(0,5))\n",
    "ser2 = pd.Series(np.random.randint(0, 10, 4), index=range(5,9))\n",
    "ser3 = pd.Series(np.random.randint(0, 10, 3), index=range(9,12))"
   ]
  },
  {
   "cell_type": "code",
   "execution_count": 57,
   "id": "a7a9a19b",
   "metadata": {},
   "outputs": [
    {
     "name": "stdout",
     "output_type": "stream",
     "text": [
      "0    9\n",
      "1    2\n",
      "2    7\n",
      "3    0\n",
      "4    3\n",
      "dtype: int32\n",
      "5    9\n",
      "6    4\n",
      "7    6\n",
      "8    5\n",
      "dtype: int32\n",
      "9     1\n",
      "10    4\n",
      "11    7\n",
      "dtype: int32\n"
     ]
    }
   ],
   "source": [
    "print(ser1)\n",
    "print(ser2)\n",
    "print(ser3)"
   ]
  },
  {
   "cell_type": "code",
   "execution_count": 113,
   "id": "f0b96f86",
   "metadata": {},
   "outputs": [
    {
     "name": "stdout",
     "output_type": "stream",
     "text": [
      "0     8\n",
      "1     1\n",
      "2     8\n",
      "3     5\n",
      "4     8\n",
      "5     2\n",
      "6     9\n",
      "7     2\n",
      "8     9\n",
      "9     9\n",
      "10    3\n",
      "11    6\n",
      "dtype: int32\n"
     ]
    }
   ],
   "source": [
    "print(pd.concat([ser1,ser2,ser3]))"
   ]
  },
  {
   "cell_type": "code",
   "execution_count": 58,
   "id": "0317eec8",
   "metadata": {},
   "outputs": [
    {
     "name": "stdout",
     "output_type": "stream",
     "text": [
      "      0    1    2\n",
      "0   9.0  NaN  NaN\n",
      "1   2.0  NaN  NaN\n",
      "2   7.0  NaN  NaN\n",
      "3   0.0  NaN  NaN\n",
      "4   3.0  NaN  NaN\n",
      "5   NaN  9.0  NaN\n",
      "6   NaN  4.0  NaN\n",
      "7   NaN  6.0  NaN\n",
      "8   NaN  5.0  NaN\n",
      "9   NaN  NaN  1.0\n",
      "10  NaN  NaN  4.0\n",
      "11  NaN  NaN  7.0\n"
     ]
    }
   ],
   "source": [
    "print(pd.concat([ser1,ser2,ser3],axis=1))"
   ]
  },
  {
   "attachments": {},
   "cell_type": "markdown",
   "id": "a80dd954",
   "metadata": {},
   "source": [
    "2) index 有重复的情况"
   ]
  },
  {
   "cell_type": "code",
   "execution_count": 59,
   "id": "4aeeef51",
   "metadata": {},
   "outputs": [],
   "source": [
    "# index 有重复的情况\n",
    "ser4 = pd.Series(np.random.randint(0, 10, 5), index=range(5))\n",
    "ser5 = pd.Series(np.random.randint(0, 10, 4), index=range(4))\n",
    "ser6 = pd.Series(np.random.randint(0, 10, 3), index=range(3))"
   ]
  },
  {
   "cell_type": "code",
   "execution_count": 60,
   "id": "80efca5d",
   "metadata": {},
   "outputs": [
    {
     "name": "stdout",
     "output_type": "stream",
     "text": [
      "0    9\n",
      "1    7\n",
      "2    7\n",
      "3    4\n",
      "4    2\n",
      "dtype: int32\n",
      "0    8\n",
      "1    4\n",
      "2    1\n",
      "3    0\n",
      "dtype: int32\n",
      "0    9\n",
      "1    1\n",
      "2    6\n",
      "dtype: int32\n"
     ]
    }
   ],
   "source": [
    "print(ser4)\n",
    "print(ser5)\n",
    "print(ser6)"
   ]
  },
  {
   "cell_type": "code",
   "execution_count": 61,
   "id": "58bfcd1e",
   "metadata": {},
   "outputs": [
    {
     "name": "stdout",
     "output_type": "stream",
     "text": [
      "0    9\n",
      "1    7\n",
      "2    7\n",
      "3    4\n",
      "4    2\n",
      "0    8\n",
      "1    4\n",
      "2    1\n",
      "3    0\n",
      "0    9\n",
      "1    1\n",
      "2    6\n",
      "dtype: int32\n"
     ]
    }
   ],
   "source": [
    "print(pd.concat([ser4,ser5,ser6]))"
   ]
  },
  {
   "attachments": {},
   "cell_type": "markdown",
   "id": "0efb1c48",
   "metadata": {},
   "source": [
    "3) DataFrame合并时同时查看行索引和列索引有无重复"
   ]
  },
  {
   "cell_type": "code",
   "execution_count": 62,
   "id": "d2d4f898",
   "metadata": {},
   "outputs": [],
   "source": [
    "df4= pd.DataFrame(np.random.randint(0, 10, (3, 2)), index=['a', 'b', 'c'],\n",
    "                       columns=['A', 'B'])\n",
    "df5 = pd.DataFrame(np.random.randint(0, 10, (2, 2)), index=['a', 'b'],\n",
    "                       columns=['C', 'D'])"
   ]
  },
  {
   "cell_type": "code",
   "execution_count": 63,
   "id": "632e1abd",
   "metadata": {},
   "outputs": [
    {
     "name": "stdout",
     "output_type": "stream",
     "text": [
      "   A  B\n",
      "a  5  7\n",
      "b  9  7\n",
      "c  2  3\n",
      "   C  D\n",
      "a  5  9\n",
      "b  9  8\n"
     ]
    }
   ],
   "source": [
    "print(df4)\n",
    "print(df5)"
   ]
  },
  {
   "cell_type": "code",
   "execution_count": 64,
   "id": "d1621bcc",
   "metadata": {},
   "outputs": [
    {
     "name": "stdout",
     "output_type": "stream",
     "text": [
      "     A    B    C    D\n",
      "a  5.0  7.0  NaN  NaN\n",
      "b  9.0  7.0  NaN  NaN\n",
      "c  2.0  3.0  NaN  NaN\n",
      "a  NaN  NaN  5.0  9.0\n",
      "b  NaN  NaN  9.0  8.0\n"
     ]
    }
   ],
   "source": [
    "print(pd.concat([df4,df5]))"
   ]
  },
  {
   "cell_type": "code",
   "execution_count": 65,
   "id": "9dd2a8b8",
   "metadata": {},
   "outputs": [
    {
     "name": "stdout",
     "output_type": "stream",
     "text": [
      "   A  B  C  D\n",
      "a  5  7  5  9\n",
      "b  9  7  9  8\n"
     ]
    }
   ],
   "source": [
    "print(pd.concat([df4,df5],axis=1,join='inner'))"
   ]
  },
  {
   "attachments": {},
   "cell_type": "markdown",
   "id": "277cd82b",
   "metadata": {},
   "source": [
    "## 数据重构"
   ]
  },
  {
   "cell_type": "code",
   "execution_count": null,
   "id": "00748fa8",
   "metadata": {},
   "outputs": [],
   "source": [
    "# 1. stack\n",
    "\n",
    "# 将列索引旋转为行索引，完成层级索引\n",
    "\n",
    "# DataFrame->Series"
   ]
  },
  {
   "cell_type": "code",
   "execution_count": 66,
   "id": "599b42ee",
   "metadata": {},
   "outputs": [],
   "source": [
    "da1 = pd.DataFrame(np.random.randint(0,10, (5,2)), columns=['data1', 'data2'])"
   ]
  },
  {
   "cell_type": "code",
   "execution_count": 67,
   "id": "604c1721",
   "metadata": {},
   "outputs": [
    {
     "name": "stdout",
     "output_type": "stream",
     "text": [
      "   data1  data2\n",
      "0      7      2\n",
      "1      9      4\n",
      "2      2      0\n",
      "3      1      3\n",
      "4      2      2\n"
     ]
    }
   ],
   "source": [
    "print(da1)"
   ]
  },
  {
   "cell_type": "code",
   "execution_count": 68,
   "id": "c7d35df7",
   "metadata": {},
   "outputs": [
    {
     "name": "stdout",
     "output_type": "stream",
     "text": [
      "0  data1    7\n",
      "   data2    2\n",
      "1  data1    9\n",
      "   data2    4\n",
      "2  data1    2\n",
      "   data2    0\n",
      "3  data1    1\n",
      "   data2    3\n",
      "4  data1    2\n",
      "   data2    2\n",
      "dtype: int32\n"
     ]
    }
   ],
   "source": [
    "stacked=da1.stack()\n",
    "print(stacked)"
   ]
  },
  {
   "attachments": {},
   "cell_type": "markdown",
   "id": "505439a9",
   "metadata": {},
   "source": [
    "2. unstack"
   ]
  },
  {
   "cell_type": "code",
   "execution_count": null,
   "id": "eef05270",
   "metadata": {},
   "outputs": [],
   "source": [
    "# 将层级索引展开\n",
    "\n",
    "# Series->DataFrame\n",
    "\n",
    "# 认操作内层索引，即level=-1"
   ]
  },
  {
   "cell_type": "code",
   "execution_count": 69,
   "id": "f64bb184",
   "metadata": {},
   "outputs": [
    {
     "name": "stdout",
     "output_type": "stream",
     "text": [
      "   data1  data2\n",
      "0      7      2\n",
      "1      9      4\n",
      "2      2      0\n",
      "3      1      3\n",
      "4      2      2\n"
     ]
    }
   ],
   "source": [
    "print(stacked.unstack())"
   ]
  },
  {
   "cell_type": "code",
   "execution_count": 70,
   "id": "5128d452",
   "metadata": {},
   "outputs": [
    {
     "name": "stdout",
     "output_type": "stream",
     "text": [
      "       0  1  2  3  4\n",
      "data1  7  9  2  1  2\n",
      "data2  2  4  0  3  2\n"
     ]
    }
   ],
   "source": [
    "# 通过level指定操作索引的级别\n",
    "print(stacked.unstack(level=0))"
   ]
  },
  {
   "attachments": {},
   "cell_type": "markdown",
   "id": "78108063",
   "metadata": {},
   "source": [
    "## 数据转换"
   ]
  },
  {
   "attachments": {},
   "cell_type": "markdown",
   "id": "870cd412",
   "metadata": {},
   "source": [
    "一、 处理重复数据"
   ]
  },
  {
   "attachments": {},
   "cell_type": "markdown",
   "id": "2056e8ff",
   "metadata": {},
   "source": [
    "1 duplicated() 返回布尔型Series表示每行是否为重复行"
   ]
  },
  {
   "cell_type": "code",
   "execution_count": 71,
   "id": "603b77db",
   "metadata": {},
   "outputs": [],
   "source": [
    "dfx = pd.DataFrame({'data1' : ['a'] * 4 + ['b'] * 4,\n",
    "                       'data2' : np.random.randint(0, 4, 8)})"
   ]
  },
  {
   "cell_type": "code",
   "execution_count": 72,
   "id": "5d299a82",
   "metadata": {},
   "outputs": [
    {
     "name": "stdout",
     "output_type": "stream",
     "text": [
      "  data1  data2\n",
      "0     a      0\n",
      "1     a      1\n",
      "2     a      0\n",
      "3     a      1\n",
      "4     b      2\n",
      "5     b      2\n",
      "6     b      2\n",
      "7     b      1\n"
     ]
    }
   ],
   "source": [
    "print(dfx)"
   ]
  },
  {
   "cell_type": "code",
   "execution_count": 73,
   "id": "47be2b08",
   "metadata": {},
   "outputs": [
    {
     "name": "stdout",
     "output_type": "stream",
     "text": [
      "0    False\n",
      "1    False\n",
      "2     True\n",
      "3     True\n",
      "4    False\n",
      "5     True\n",
      "6     True\n",
      "7    False\n",
      "dtype: bool\n"
     ]
    }
   ],
   "source": [
    "print(dfx.duplicated())"
   ]
  },
  {
   "attachments": {},
   "cell_type": "markdown",
   "id": "962b7c95",
   "metadata": {},
   "source": [
    "2 drop_duplicates() 过滤重复行"
   ]
  },
  {
   "cell_type": "code",
   "execution_count": 74,
   "id": "4d0c36f5",
   "metadata": {},
   "outputs": [
    {
     "name": "stdout",
     "output_type": "stream",
     "text": [
      "  data1  data2\n",
      "0     a      0\n",
      "1     a      1\n",
      "4     b      2\n",
      "7     b      1\n"
     ]
    }
   ],
   "source": [
    "print(dfx.drop_duplicates())"
   ]
  },
  {
   "cell_type": "code",
   "execution_count": 75,
   "id": "871ea6c8",
   "metadata": {},
   "outputs": [
    {
     "name": "stdout",
     "output_type": "stream",
     "text": [
      "  data1  data2\n",
      "0     a      0\n",
      "1     a      1\n",
      "4     b      2\n"
     ]
    }
   ],
   "source": [
    "print(dfx.drop_duplicates('data2'))"
   ]
  },
  {
   "attachments": {},
   "cell_type": "markdown",
   "id": "e851cbe0",
   "metadata": {},
   "source": [
    "3. 根据map传入的函数对每行或每列进行转换"
   ]
  },
  {
   "attachments": {},
   "cell_type": "markdown",
   "id": "6f8ea961",
   "metadata": {},
   "source": [
    "Series根据map传入的函数对每行或每列进行转换"
   ]
  },
  {
   "cell_type": "code",
   "execution_count": 76,
   "id": "3eb82f44",
   "metadata": {},
   "outputs": [],
   "source": [
    "ser6 = pd.Series(np.random.randint(0,10,10))"
   ]
  },
  {
   "cell_type": "code",
   "execution_count": 77,
   "id": "40ac6b4e",
   "metadata": {},
   "outputs": [
    {
     "name": "stdout",
     "output_type": "stream",
     "text": [
      "0    4\n",
      "1    5\n",
      "2    9\n",
      "3    7\n",
      "4    5\n",
      "5    0\n",
      "6    9\n",
      "7    4\n",
      "8    7\n",
      "9    7\n",
      "dtype: int32\n"
     ]
    }
   ],
   "source": [
    "print(ser6)"
   ]
  },
  {
   "cell_type": "code",
   "execution_count": 78,
   "id": "9f14f33a",
   "metadata": {},
   "outputs": [
    {
     "name": "stdout",
     "output_type": "stream",
     "text": [
      "0    16\n",
      "1    25\n",
      "2    81\n",
      "3    49\n",
      "4    25\n",
      "5     0\n",
      "6    81\n",
      "7    16\n",
      "8    49\n",
      "9    49\n",
      "dtype: int64\n"
     ]
    }
   ],
   "source": [
    "print(ser6.map(lambda x:x**2))"
   ]
  },
  {
   "attachments": {},
   "cell_type": "markdown",
   "id": "9ad2570c",
   "metadata": {},
   "source": [
    "二、数据替换"
   ]
  },
  {
   "attachments": {},
   "cell_type": "markdown",
   "id": "c3a35239",
   "metadata": {},
   "source": [
    "replace根据值的内容进行替换"
   ]
  },
  {
   "cell_type": "code",
   "execution_count": 79,
   "id": "9014dffc",
   "metadata": {},
   "outputs": [
    {
     "name": "stdout",
     "output_type": "stream",
     "text": [
      "0    4\n",
      "1    5\n",
      "2    9\n",
      "3    7\n",
      "4    5\n",
      "5    0\n",
      "6    9\n",
      "7    4\n",
      "8    7\n",
      "9    7\n",
      "dtype: int32\n"
     ]
    }
   ],
   "source": [
    "# 单个值替换单个值\n",
    "print(ser6.replace(1,-10))"
   ]
  },
  {
   "cell_type": "code",
   "execution_count": 80,
   "id": "1426ede4",
   "metadata": {},
   "outputs": [
    {
     "name": "stdout",
     "output_type": "stream",
     "text": [
      "0    4\n",
      "1    5\n",
      "2    9\n",
      "3    7\n",
      "4    5\n",
      "5    0\n",
      "6    9\n",
      "7    4\n",
      "8    7\n",
      "9    7\n",
      "dtype: int32\n"
     ]
    }
   ],
   "source": [
    "# 多个值替换一个值\n",
    "print(ser6.replace([6,8],-11))"
   ]
  },
  {
   "cell_type": "code",
   "execution_count": 81,
   "id": "87553997",
   "metadata": {},
   "outputs": [
    {
     "name": "stdout",
     "output_type": "stream",
     "text": [
      "0       4\n",
      "1    1000\n",
      "2    2222\n",
      "3       7\n",
      "4    1000\n",
      "5       0\n",
      "6    2222\n",
      "7       4\n",
      "8       7\n",
      "9       7\n",
      "dtype: int32\n"
     ]
    }
   ],
   "source": [
    "# 多个值替换多个值\n",
    "print(ser6.replace([5,9],[1000,2222]))"
   ]
  },
  {
   "cell_type": "code",
   "execution_count": null,
   "id": "d21cf5ce",
   "metadata": {},
   "outputs": [],
   "source": []
  }
 ],
 "metadata": {
  "kernelspec": {
   "display_name": "Python 3 (ipykernel)",
   "language": "python",
   "name": "python3"
  },
  "language_info": {
   "codemirror_mode": {
    "name": "ipython",
    "version": 3
   },
   "file_extension": ".py",
   "mimetype": "text/x-python",
   "name": "python",
   "nbconvert_exporter": "python",
   "pygments_lexer": "ipython3",
   "version": "3.9.13"
  },
  "toc": {
   "base_numbering": 1,
   "nav_menu": {},
   "number_sections": true,
   "sideBar": true,
   "skip_h1_title": false,
   "title_cell": "Table of Contents",
   "title_sidebar": "Contents",
   "toc_cell": false,
   "toc_position": {
    "height": "calc(100% - 180px)",
    "left": "10px",
    "top": "150px",
    "width": "256.08px"
   },
   "toc_section_display": true,
   "toc_window_display": true
  },
  "varInspector": {
   "cols": {
    "lenName": 16,
    "lenType": 16,
    "lenVar": 40
   },
   "kernels_config": {
    "python": {
     "delete_cmd_postfix": "",
     "delete_cmd_prefix": "del ",
     "library": "var_list.py",
     "varRefreshCmd": "print(var_dic_list())"
    },
    "r": {
     "delete_cmd_postfix": ") ",
     "delete_cmd_prefix": "rm(",
     "library": "var_list.r",
     "varRefreshCmd": "cat(var_dic_list()) "
    }
   },
   "types_to_exclude": [
    "module",
    "function",
    "builtin_function_or_method",
    "instance",
    "_Feature"
   ],
   "window_display": false
  }
 },
 "nbformat": 4,
 "nbformat_minor": 5
}
