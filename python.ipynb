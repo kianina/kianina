{
 "cells": [
  {
   "attachments": {},
   "cell_type": "markdown",
   "id": "84dab0e0",
   "metadata": {},
   "source": [
    "# python基础"
   ]
  },
  {
   "cell_type": "markdown",
   "id": "fc5eae84",
   "metadata": {},
   "source": [
    "## 格式化输出"
   ]
  },
  {
   "cell_type": "code",
   "execution_count": 2,
   "id": "a55476b7",
   "metadata": {},
   "outputs": [],
   "source": [
    "age = 18\n",
    "name = 'TOM'\n",
    "weight = 75.5\n",
    "stu_id = 1\n",
    "stu_id2 = 1000"
   ]
  },
  {
   "cell_type": "code",
   "execution_count": 2,
   "id": "56f4a13e",
   "metadata": {},
   "outputs": [
    {
     "name": "stdout",
     "output_type": "stream",
     "text": [
      "今年我的年龄是18岁\n"
     ]
    }
   ],
   "source": [
    "# 1. 今年我的年龄是x岁 -- 整数 %d\n",
    "print('今年我的年龄是%d岁' % age)"
   ]
  },
  {
   "cell_type": "code",
   "execution_count": 3,
   "id": "a9097326",
   "metadata": {},
   "outputs": [
    {
     "name": "stdout",
     "output_type": "stream",
     "text": [
      "我的名字是TOM\n"
     ]
    }
   ],
   "source": [
    "# 2. 我的名字是x -- 字符串 %s\n",
    "print('我的名字是%s' % name)"
   ]
  },
  {
   "cell_type": "code",
   "execution_count": 4,
   "id": "07589675",
   "metadata": {},
   "outputs": [
    {
     "name": "stdout",
     "output_type": "stream",
     "text": [
      "我的体重是75.500公斤\n"
     ]
    }
   ],
   "source": [
    "# 3. 我的体重是x公斤 -- 浮点数 %f\n",
    "print('我的体重是%.3f公斤' % weight)"
   ]
  },
  {
   "cell_type": "code",
   "execution_count": 5,
   "id": "4c32dd05",
   "metadata": {},
   "outputs": [
    {
     "name": "stdout",
     "output_type": "stream",
     "text": [
      "我的学号是1\n"
     ]
    }
   ],
   "source": [
    "# 4. 我的学号是x -- %d\n",
    "print('我的学号是%d' % stu_id)"
   ]
  },
  {
   "cell_type": "code",
   "execution_count": 6,
   "id": "310940d9",
   "metadata": {},
   "outputs": [
    {
     "name": "stdout",
     "output_type": "stream",
     "text": [
      "我的学号是001\n",
      "我的学号是1000\n"
     ]
    }
   ],
   "source": [
    "# 4.1 我的学号是001\n",
    "print('我的学号是%03d' % stu_id)\n",
    "print('我的学号是%03d' % stu_id2)"
   ]
  },
  {
   "cell_type": "code",
   "execution_count": 3,
   "metadata": {},
   "outputs": [
    {
     "name": "stdout",
     "output_type": "stream",
     "text": [
      "我的名字是TOM，今年18岁了\n",
      "我的名字是TOM，明年19岁了\n"
     ]
    }
   ],
   "source": [
    "# 5. 我的名字是x，今年x岁了\n",
    "print('我的名字是%s，今年%d岁了' % (name, age))\n",
    "# 5.1 我的名字是x，明年x岁了\n",
    "print('我的名字是%s，明年%d岁了' % (name, age + 1))"
   ]
  },
  {
   "cell_type": "code",
   "execution_count": 4,
   "id": "31fa53d0",
   "metadata": {},
   "outputs": [
    {
     "name": "stdout",
     "output_type": "stream",
     "text": [
      "我的名字是TOM，今年18岁了，体重75.50公斤，学号是000001\n"
     ]
    }
   ],
   "source": [
    "# 6. 我的名字是x，今年x岁了，体重x公斤，学号是x\n",
    "print('我的名字是%s，今年%d岁了，体重%.2f公斤，学号是%06d' % (name, age, weight, stu_id))"
   ]
  },
  {
   "cell_type": "code",
   "execution_count": 5,
   "id": "20444cfc",
   "metadata": {},
   "outputs": [
    {
     "name": "stdout",
     "output_type": "stream",
     "text": [
      "我的名字是TOM，今年18岁了，体重75.5公斤\n"
     ]
    }
   ],
   "source": [
    "# 我的名字是x，今年x岁了，体重x公斤\n",
    "print('我的名字是%s，今年%s岁了，体重%s公斤' % (name, age, weight))"
   ]
  },
  {
   "cell_type": "code",
   "execution_count": 6,
   "id": "ad5ec21f",
   "metadata": {},
   "outputs": [
    {
     "name": "stdout",
     "output_type": "stream",
     "text": [
      "我的名字是TOM，今年18岁了\n"
     ]
    }
   ],
   "source": [
    "# 语法 f'{表达式}'\n",
    "print(f'我的名字是{name}，今年{age}岁了')"
   ]
  },
  {
   "cell_type": "code",
   "execution_count": 7,
   "id": "03d891bd",
   "metadata": {},
   "outputs": [
    {
     "name": "stdout",
     "output_type": "stream",
     "text": [
      "hello\n",
      "world\thello...Python\n"
     ]
    }
   ],
   "source": [
    "# print结束符\n",
    "print('hello', end=\"\\n\")\n",
    "print('world', end=\"\\t\")\n",
    "print('hello', end=\"...\")\n",
    "print('Python')"
   ]
  },
  {
   "cell_type": "code",
   "execution_count": 8,
   "id": "2a3c12e0",
   "metadata": {},
   "outputs": [
    {
     "name": "stdout",
     "output_type": "stream",
     "text": [
      "您输入的密码是123\n",
      "<class 'str'>\n"
     ]
    }
   ],
   "source": [
    "# 输入\n",
    "password = input('请输入您的密码：')\n",
    "print(f'您输入的密码是{password}')\n",
    "print(type(password))"
   ]
  },
  {
   "cell_type": "markdown",
   "id": "d5a47ac4",
   "metadata": {},
   "source": [
    "## 运算"
   ]
  },
  {
   "cell_type": "code",
   "execution_count": 9,
   "id": "73051857",
   "metadata": {},
   "outputs": [],
   "source": [
    "# 逻辑运算\n",
    "a = 0\n",
    "b = 1\n",
    "c = 2"
   ]
  },
  {
   "cell_type": "code",
   "execution_count": 10,
   "id": "e229ed4d",
   "metadata": {},
   "outputs": [
    {
     "name": "stdout",
     "output_type": "stream",
     "text": [
      "True\n",
      "False\n"
     ]
    }
   ],
   "source": [
    "# 1. and: 与: 都真才真\n",
    "print((a < b) and (c > b))\n",
    "print(a > b and c > b)"
   ]
  },
  {
   "cell_type": "code",
   "execution_count": 11,
   "id": "ed1297de",
   "metadata": {},
   "outputs": [
    {
     "name": "stdout",
     "output_type": "stream",
     "text": [
      "True\n",
      "True\n"
     ]
    }
   ],
   "source": [
    "# 2. or：或 : 一真则真，都假才假\n",
    "print(a < b or c > b)\n",
    "print(a > b or c > b)"
   ]
  },
  {
   "cell_type": "code",
   "execution_count": 12,
   "id": "afcf6ebe",
   "metadata": {},
   "outputs": [
    {
     "name": "stdout",
     "output_type": "stream",
     "text": [
      "True\n",
      "False\n"
     ]
    }
   ],
   "source": [
    "# 3. not： 非: 取反\n",
    "print(not False)\n",
    "print(not c > b)"
   ]
  },
  {
   "cell_type": "code",
   "execution_count": 13,
   "id": "01bc3880",
   "metadata": {},
   "outputs": [
    {
     "name": "stdout",
     "output_type": "stream",
     "text": [
      "2\n"
     ]
    }
   ],
   "source": [
    "# 三目运算符\n",
    "a = 1\n",
    "b = 2\n",
    "\n",
    "c = a if a > b else b\n",
    "print(c)"
   ]
  },
  {
   "attachments": {},
   "cell_type": "markdown",
   "id": "0642318e",
   "metadata": {},
   "source": [
    "## 字符串的操作"
   ]
  },
  {
   "cell_type": "code",
   "execution_count": 21,
   "id": "8570ad13",
   "metadata": {},
   "outputs": [
    {
     "name": "stdout",
     "output_type": "stream",
     "text": [
      "hello world\n",
      "<class 'str'>\n"
     ]
    }
   ],
   "source": [
    "# 字符串换行写\n",
    "a = 'hello ' \\\n",
    "    'world'\n",
    "print(a)\n",
    "print(type(a))"
   ]
  },
  {
   "cell_type": "code",
   "execution_count": 22,
   "id": "6c75509f",
   "metadata": {},
   "outputs": [
    {
     "data": {
      "text/plain": [
       "str"
      ]
     },
     "metadata": {},
     "output_type": "display_data"
    }
   ],
   "source": [
    "# 字符串表示\n",
    "b = \"TOM\"\n",
    "display(type(b))"
   ]
  },
  {
   "cell_type": "code",
   "execution_count": 23,
   "id": "1087200b",
   "metadata": {},
   "outputs": [
    {
     "name": "stdout",
     "output_type": "stream",
     "text": [
      "<class 'str'>\n"
     ]
    }
   ],
   "source": [
    "# 三引号\n",
    "e = '''i am TOM'''\n",
    "print(type(e))"
   ]
  },
  {
   "cell_type": "code",
   "execution_count": 24,
   "id": "e212b331",
   "metadata": {},
   "outputs": [
    {
     "name": "stdout",
     "output_type": "stream",
     "text": [
      "abcdefg\n",
      "a\n",
      "b\n"
     ]
    }
   ],
   "source": [
    "# 字符串下标\n",
    "str1 = 'abcdefg'\n",
    "print(str1)\n",
    "print(str1[0])\n",
    "print(str1[1])"
   ]
  },
  {
   "cell_type": "code",
   "execution_count": 26,
   "id": "12d418a2",
   "metadata": {},
   "outputs": [
    {
     "name": "stdout",
     "output_type": "stream",
     "text": [
      "876\n"
     ]
    }
   ],
   "source": [
    "# 字符串切片\n",
    "str1 = '012345678'\n",
    "print(str1[-1:-4:-1])  # 876"
   ]
  },
  {
   "cell_type": "markdown",
   "id": "47ac8905",
   "metadata": {},
   "source": [
    "### 字符串查找"
   ]
  },
  {
   "cell_type": "code",
   "execution_count": 27,
   "id": "e4ffbcbd",
   "metadata": {},
   "outputs": [],
   "source": [
    "# 字符串查找\n",
    "mystr = \"hello world and itcast and itheima and Python\""
   ]
  },
  {
   "cell_type": "code",
   "execution_count": 28,
   "id": "0a095ab5",
   "metadata": {},
   "outputs": [
    {
     "name": "stdout",
     "output_type": "stream",
     "text": [
      "12\n",
      "23\n",
      "-1\n"
     ]
    }
   ],
   "source": [
    "# 1. find()\n",
    "print(mystr.find('and'))  # 12\n",
    "print(mystr.find('and', 15, 30))  # 23\n",
    "print(mystr.find('ands'))  # -1 , ands子串不存在"
   ]
  },
  {
   "cell_type": "code",
   "execution_count": 29,
   "id": "e6cb0b14",
   "metadata": {},
   "outputs": [
    {
     "name": "stdout",
     "output_type": "stream",
     "text": [
      "12\n",
      "23\n"
     ]
    },
    {
     "ename": "ValueError",
     "evalue": "substring not found",
     "output_type": "error",
     "traceback": [
      "\u001b[1;31m---------------------------------------------------------------------------\u001b[0m",
      "\u001b[1;31mValueError\u001b[0m                                Traceback (most recent call last)",
      "\u001b[1;32m~\\AppData\\Local\\Temp\\ipykernel_4436\\1926240270.py\u001b[0m in \u001b[0;36m<module>\u001b[1;34m\u001b[0m\n\u001b[0;32m      2\u001b[0m \u001b[0mprint\u001b[0m\u001b[1;33m(\u001b[0m\u001b[0mmystr\u001b[0m\u001b[1;33m.\u001b[0m\u001b[0mindex\u001b[0m\u001b[1;33m(\u001b[0m\u001b[1;34m'and'\u001b[0m\u001b[1;33m)\u001b[0m\u001b[1;33m)\u001b[0m  \u001b[1;31m# 12\u001b[0m\u001b[1;33m\u001b[0m\u001b[1;33m\u001b[0m\u001b[0m\n\u001b[0;32m      3\u001b[0m \u001b[0mprint\u001b[0m\u001b[1;33m(\u001b[0m\u001b[0mmystr\u001b[0m\u001b[1;33m.\u001b[0m\u001b[0mindex\u001b[0m\u001b[1;33m(\u001b[0m\u001b[1;34m'and'\u001b[0m\u001b[1;33m,\u001b[0m \u001b[1;36m15\u001b[0m\u001b[1;33m,\u001b[0m \u001b[1;36m30\u001b[0m\u001b[1;33m)\u001b[0m\u001b[1;33m)\u001b[0m  \u001b[1;31m# 23\u001b[0m\u001b[1;33m\u001b[0m\u001b[1;33m\u001b[0m\u001b[0m\n\u001b[1;32m----> 4\u001b[1;33m \u001b[0mprint\u001b[0m\u001b[1;33m(\u001b[0m\u001b[0mmystr\u001b[0m\u001b[1;33m.\u001b[0m\u001b[0mindex\u001b[0m\u001b[1;33m(\u001b[0m\u001b[1;34m'ands'\u001b[0m\u001b[1;33m)\u001b[0m\u001b[1;33m)\u001b[0m  \u001b[1;31m# 如果index查找子串不存在，报错\u001b[0m\u001b[1;33m\u001b[0m\u001b[1;33m\u001b[0m\u001b[0m\n\u001b[0m",
      "\u001b[1;31mValueError\u001b[0m: substring not found"
     ]
    }
   ],
   "source": [
    "# 2.index()\n",
    "print(mystr.index('and'))  # 12\n",
    "print(mystr.index('and', 15, 30))  # 23\n",
    "print(mystr.index('ands'))  # 如果index查找子串不存在，报错"
   ]
  },
  {
   "cell_type": "code",
   "execution_count": 30,
   "id": "466c1101",
   "metadata": {},
   "outputs": [
    {
     "name": "stdout",
     "output_type": "stream",
     "text": [
      "1\n",
      "3\n",
      "0\n"
     ]
    }
   ],
   "source": [
    "# 3.count()\n",
    "print(mystr.count('and', 15, 30))\n",
    "print(mystr.count('and'))  # 3\n",
    "print(mystr.count('ands'))  # 0"
   ]
  },
  {
   "cell_type": "code",
   "execution_count": 31,
   "id": "e6af2e70",
   "metadata": {},
   "outputs": [
    {
     "name": "stdout",
     "output_type": "stream",
     "text": [
      "35\n",
      "-1\n"
     ]
    }
   ],
   "source": [
    "# 4.rfind()\n",
    "print(mystr.rfind('and'))\n",
    "print(mystr.rfind('ands'))"
   ]
  },
  {
   "cell_type": "code",
   "execution_count": 32,
   "id": "12d42d12",
   "metadata": {},
   "outputs": [
    {
     "name": "stdout",
     "output_type": "stream",
     "text": [
      "35\n"
     ]
    },
    {
     "ename": "ValueError",
     "evalue": "substring not found",
     "output_type": "error",
     "traceback": [
      "\u001b[1;31m---------------------------------------------------------------------------\u001b[0m",
      "\u001b[1;31mValueError\u001b[0m                                Traceback (most recent call last)",
      "\u001b[1;32m~\\AppData\\Local\\Temp\\ipykernel_4436\\562449327.py\u001b[0m in \u001b[0;36m<module>\u001b[1;34m\u001b[0m\n\u001b[0;32m      1\u001b[0m \u001b[1;31m# 5.rindex()\u001b[0m\u001b[1;33m\u001b[0m\u001b[1;33m\u001b[0m\u001b[0m\n\u001b[0;32m      2\u001b[0m \u001b[0mprint\u001b[0m\u001b[1;33m(\u001b[0m\u001b[0mmystr\u001b[0m\u001b[1;33m.\u001b[0m\u001b[0mrindex\u001b[0m\u001b[1;33m(\u001b[0m\u001b[1;34m'and'\u001b[0m\u001b[1;33m)\u001b[0m\u001b[1;33m)\u001b[0m\u001b[1;33m\u001b[0m\u001b[1;33m\u001b[0m\u001b[0m\n\u001b[1;32m----> 3\u001b[1;33m \u001b[0mprint\u001b[0m\u001b[1;33m(\u001b[0m\u001b[0mmystr\u001b[0m\u001b[1;33m.\u001b[0m\u001b[0mrindex\u001b[0m\u001b[1;33m(\u001b[0m\u001b[1;34m'ands'\u001b[0m\u001b[1;33m)\u001b[0m\u001b[1;33m)\u001b[0m\u001b[1;33m\u001b[0m\u001b[1;33m\u001b[0m\u001b[0m\n\u001b[0m",
      "\u001b[1;31mValueError\u001b[0m: substring not found"
     ]
    }
   ],
   "source": [
    "# 5.rindex()\n",
    "print(mystr.rindex('and'))\n",
    "print(mystr.rindex('ands'))"
   ]
  },
  {
   "cell_type": "markdown",
   "id": "8dedbd73",
   "metadata": {},
   "source": [
    "### 字符串修改"
   ]
  },
  {
   "cell_type": "code",
   "execution_count": 33,
   "id": "69fc9a3d",
   "metadata": {},
   "outputs": [],
   "source": [
    "mystr = \"hello world and itcast and itheima and Python\""
   ]
  },
  {
   "cell_type": "code",
   "execution_count": 34,
   "id": "dc1cacc4",
   "metadata": {},
   "outputs": [
    {
     "name": "stdout",
     "output_type": "stream",
     "text": [
      "hello world and itcast and itheima and Python\n",
      "hello world he itcast he itheima he Python\n"
     ]
    }
   ],
   "source": [
    "# 1. replace() 把and换成he  #** 说明replace函数有返回值，返回值是修改后的字符串\n",
    "new_str = mystr.replace('and', 'he')\n",
    "new_str = mystr.replace('and', 'he', 1)\n",
    "# 替换次数如果超出子串出现的次数，表示替换所有这个子串\n",
    "new_str = mystr.replace('and', 'he', 10)\n",
    "print(mystr)\n",
    "print(new_str)"
   ]
  },
  {
   "cell_type": "code",
   "execution_count": 39,
   "id": "120af053",
   "metadata": {},
   "outputs": [
    {
     "data": {
      "text/plain": [
       "['hello world ', ' itcast ', ' itheima ', ' Python']"
      ]
     },
     "metadata": {},
     "output_type": "display_data"
    },
    {
     "data": {
      "text/plain": [
       "['hello world ', ' itcast ', ' itheima and Python']"
      ]
     },
     "metadata": {},
     "output_type": "display_data"
    }
   ],
   "source": [
    "# 2. split() -- 分割，返回一个列表, 丢失分割字符\n",
    "list1 = mystr.split('and')\n",
    "list2 = mystr.split('and', 2)\n",
    "display(list1, list2)"
   ]
  },
  {
   "cell_type": "code",
   "execution_count": 41,
   "id": "6c226574",
   "metadata": {},
   "outputs": [
    {
     "name": "stdout",
     "output_type": "stream",
     "text": [
      "aa...bb...cc\n"
     ]
    }
   ],
   "source": [
    "# 3. join() -- 合并列表里面的字符串数据为一个大字符串\n",
    "mylist = ['aa', 'bb', 'cc']\n",
    "new_str = '...'.join(mylist)\n",
    "print(new_str)"
   ]
  },
  {
   "cell_type": "code",
   "execution_count": 42,
   "id": "a9cb0d4e",
   "metadata": {},
   "outputs": [
    {
     "data": {
      "text/plain": [
       "'Hello world and itcast and itheima and python'"
      ]
     },
     "metadata": {},
     "output_type": "display_data"
    }
   ],
   "source": [
    "# 1. capitalize() 字符串首字母大写\n",
    "new_str = mystr.capitalize()\n",
    "display(new_str)"
   ]
  },
  {
   "cell_type": "code",
   "execution_count": 44,
   "id": "aaf215bd",
   "metadata": {},
   "outputs": [
    {
     "data": {
      "text/plain": [
       "'Hello World And Itcast And Itheima And Python'"
      ]
     },
     "metadata": {},
     "output_type": "display_data"
    }
   ],
   "source": [
    "# 2.title(): 字符串中每个单词首字母大写\n",
    "new_str = mystr.title()\n",
    "display(new_str)"
   ]
  },
  {
   "cell_type": "code",
   "execution_count": null,
   "id": "b5a9dcfe",
   "metadata": {},
   "outputs": [],
   "source": [
    "# 3. upper()：小写转大写\n",
    "new_str = mystr.upper()"
   ]
  },
  {
   "cell_type": "code",
   "execution_count": 45,
   "id": "077e0bde",
   "metadata": {},
   "outputs": [
    {
     "name": "stdout",
     "output_type": "stream",
     "text": [
      "hello world and itcast and itheima and python\n"
     ]
    }
   ],
   "source": [
    "# 4. lower(): 大写转小写\n",
    "new_str = mystr.lower()\n",
    "print(new_str)"
   ]
  },
  {
   "cell_type": "code",
   "execution_count": 46,
   "id": "681e1921",
   "metadata": {},
   "outputs": [
    {
     "name": "stdout",
     "output_type": "stream",
     "text": [
      "   hello world and itcast and itheima and Python   \n",
      "hello world and itcast and itheima and Python   \n"
     ]
    }
   ],
   "source": [
    "mystr = \"   hello world and itcast and itheima and Python   \"\n",
    "print(mystr)\n",
    "# 1. lstrip(): 删除左侧空白字符\n",
    "new_str = mystr.lstrip()\n",
    "print(new_str)"
   ]
  },
  {
   "cell_type": "code",
   "execution_count": 47,
   "id": "f0392156",
   "metadata": {},
   "outputs": [
    {
     "name": "stdout",
     "output_type": "stream",
     "text": [
      "   hello world and itcast and itheima and Python\n"
     ]
    }
   ],
   "source": [
    "# 2. rstrip(): 删除右侧空白字符\n",
    "new_str = mystr.rstrip()\n",
    "print(new_str)"
   ]
  },
  {
   "cell_type": "code",
   "execution_count": 48,
   "id": "15001dd7",
   "metadata": {},
   "outputs": [
    {
     "name": "stdout",
     "output_type": "stream",
     "text": [
      "hello world and itcast and itheima and Python\n"
     ]
    }
   ],
   "source": [
    "# 3.strip()：删除两侧空白字符\n",
    "new_str = mystr.strip()\n",
    "print(new_str)"
   ]
  },
  {
   "cell_type": "code",
   "execution_count": 43,
   "id": "2d9cdaad",
   "metadata": {},
   "outputs": [],
   "source": [
    "#采用+号可以拼接字符串"
   ]
  },
  {
   "cell_type": "code",
   "execution_count": 13,
   "id": "ed6c37f6",
   "metadata": {},
   "outputs": [],
   "source": [
    "#采用制表符\\t和换行符\\n来添加空白"
   ]
  },
  {
   "cell_type": "code",
   "execution_count": 14,
   "id": "4f2df123",
   "metadata": {},
   "outputs": [
    {
     "name": "stdout",
     "output_type": "stream",
     "text": [
      "python \n",
      "python\n"
     ]
    }
   ],
   "source": [
    "#采用rstrip()来删除末尾空白\n",
    "favorite_language='python '\n",
    "print(favorite_language)\n",
    "#永久删除将值返回给原来的变量\n",
    "favorite_language=favorite_language.rstrip()\n",
    "print(favorite_language)\n",
    "#lstrip()删除开头空白和strip()删除两边的空白"
   ]
  },
  {
   "cell_type": "markdown",
   "id": "cfc59a6d",
   "metadata": {},
   "source": [
    "### 字符串判断"
   ]
  },
  {
   "cell_type": "code",
   "execution_count": 49,
   "id": "1e60e009",
   "metadata": {},
   "outputs": [],
   "source": [
    "mystr = \"hello world and itcast and itheima and Python\""
   ]
  },
  {
   "cell_type": "code",
   "execution_count": 50,
   "id": "a82eab1f",
   "metadata": {},
   "outputs": [
    {
     "name": "stdout",
     "output_type": "stream",
     "text": [
      "True\n",
      "True\n",
      "False\n"
     ]
    }
   ],
   "source": [
    "# 1. startswith(): 判断字符串是否以某个子串开头\n",
    "print(mystr.startswith('hello'))\n",
    "print(mystr.startswith('hel'))\n",
    "print(mystr.startswith('hels'))"
   ]
  },
  {
   "cell_type": "code",
   "execution_count": 51,
   "id": "f9e21d95",
   "metadata": {},
   "outputs": [
    {
     "name": "stdout",
     "output_type": "stream",
     "text": [
      "True\n",
      "False\n"
     ]
    }
   ],
   "source": [
    "# 2. endswith(): 判断字符串是否以某个子串结尾\n",
    "print(mystr.endswith('Python'))\n",
    "print(mystr.endswith('Pythons'))"
   ]
  },
  {
   "cell_type": "code",
   "execution_count": 52,
   "id": "62a206cf",
   "metadata": {},
   "outputs": [
    {
     "name": "stdout",
     "output_type": "stream",
     "text": [
      "False\n"
     ]
    }
   ],
   "source": [
    "# 3. isalpha(): 字母\n",
    "print(mystr.isalpha())"
   ]
  },
  {
   "cell_type": "code",
   "execution_count": 53,
   "id": "fbf279bf",
   "metadata": {},
   "outputs": [
    {
     "name": "stdout",
     "output_type": "stream",
     "text": [
      "False\n",
      "True\n"
     ]
    }
   ],
   "source": [
    "# 4. isdigit(): 数字\n",
    "print(mystr.isdigit())\n",
    "mystr1 = '12345'\n",
    "print(mystr1.isdigit())"
   ]
  },
  {
   "cell_type": "code",
   "execution_count": 54,
   "id": "8c1b5a4d",
   "metadata": {},
   "outputs": [
    {
     "name": "stdout",
     "output_type": "stream",
     "text": [
      "True\n",
      "False\n",
      "True\n"
     ]
    }
   ],
   "source": [
    "# 5. isalnum() : 数字或字母或组合\n",
    "print(mystr1.isalnum())\n",
    "print(mystr.isalnum())\n",
    "mystr2 = 'abc123'\n",
    "print(mystr2.isalnum())"
   ]
  },
  {
   "cell_type": "code",
   "execution_count": 55,
   "id": "b2a4420d",
   "metadata": {},
   "outputs": [
    {
     "name": "stdout",
     "output_type": "stream",
     "text": [
      "False\n",
      "True\n"
     ]
    }
   ],
   "source": [
    "# 6.isspace(): 空白\n",
    "print(mystr.isspace())\n",
    "mystr3 = '   '\n",
    "print(mystr3.isspace())"
   ]
  },
  {
   "attachments": {},
   "cell_type": "markdown",
   "id": "f956acb9",
   "metadata": {},
   "source": [
    "## 数字的操作"
   ]
  },
  {
   "cell_type": "code",
   "execution_count": 15,
   "id": "f72148f4",
   "metadata": {},
   "outputs": [
    {
     "name": "stdout",
     "output_type": "stream",
     "text": [
      "1.5\n"
     ]
    }
   ],
   "source": [
    "#整数相除\n",
    "print(3.0/2)\n",
    "#python3无需在加小数点"
   ]
  },
  {
   "attachments": {},
   "cell_type": "markdown",
   "id": "ab855728",
   "metadata": {},
   "source": [
    "## 列表的操作"
   ]
  },
  {
   "cell_type": "code",
   "execution_count": 56,
   "id": "d8dc37ca",
   "metadata": {},
   "outputs": [
    {
     "name": "stdout",
     "output_type": "stream",
     "text": [
      "['TOM', 'Lily', 'ROSE']\n",
      "Lily\n",
      "TOM\n",
      "ROSE\n"
     ]
    }
   ],
   "source": [
    "# 列表下标\n",
    "name_list = ['TOM', 'Lily', 'ROSE']\n",
    "\n",
    "print(name_list)\n",
    "print(name_list[1])\n",
    "print(name_list[0])\n",
    "print(name_list[2])"
   ]
  },
  {
   "cell_type": "markdown",
   "id": "f3a13cc0",
   "metadata": {},
   "source": [
    "### 列表查找"
   ]
  },
  {
   "cell_type": "code",
   "execution_count": 57,
   "id": "9b354d21",
   "metadata": {},
   "outputs": [],
   "source": [
    "name_list = ['TOM', 'Lily', 'ROSE']"
   ]
  },
  {
   "cell_type": "code",
   "execution_count": 58,
   "id": "18434227",
   "metadata": {},
   "outputs": [
    {
     "name": "stdout",
     "output_type": "stream",
     "text": [
      "0\n"
     ]
    },
    {
     "ename": "ValueError",
     "evalue": "'TOMS' is not in list",
     "output_type": "error",
     "traceback": [
      "\u001b[1;31m---------------------------------------------------------------------------\u001b[0m",
      "\u001b[1;31mValueError\u001b[0m                                Traceback (most recent call last)",
      "\u001b[1;32m~\\AppData\\Local\\Temp\\ipykernel_4436\\2867354481.py\u001b[0m in \u001b[0;36m<module>\u001b[1;34m\u001b[0m\n\u001b[0;32m      1\u001b[0m \u001b[1;31m# 1. index()\u001b[0m\u001b[1;33m\u001b[0m\u001b[1;33m\u001b[0m\u001b[0m\n\u001b[0;32m      2\u001b[0m \u001b[0mprint\u001b[0m\u001b[1;33m(\u001b[0m\u001b[0mname_list\u001b[0m\u001b[1;33m.\u001b[0m\u001b[0mindex\u001b[0m\u001b[1;33m(\u001b[0m\u001b[1;34m'TOM'\u001b[0m\u001b[1;33m)\u001b[0m\u001b[1;33m)\u001b[0m\u001b[1;33m\u001b[0m\u001b[1;33m\u001b[0m\u001b[0m\n\u001b[1;32m----> 3\u001b[1;33m \u001b[0mprint\u001b[0m\u001b[1;33m(\u001b[0m\u001b[0mname_list\u001b[0m\u001b[1;33m.\u001b[0m\u001b[0mindex\u001b[0m\u001b[1;33m(\u001b[0m\u001b[1;34m'TOMS'\u001b[0m\u001b[1;33m)\u001b[0m\u001b[1;33m)\u001b[0m\u001b[1;33m\u001b[0m\u001b[1;33m\u001b[0m\u001b[0m\n\u001b[0m",
      "\u001b[1;31mValueError\u001b[0m: 'TOMS' is not in list"
     ]
    }
   ],
   "source": [
    "# 1. index()\n",
    "print(name_list.index('TOM'))\n",
    "print(name_list.index('TOMS'))"
   ]
  },
  {
   "cell_type": "code",
   "execution_count": 59,
   "id": "c688ced2",
   "metadata": {},
   "outputs": [
    {
     "name": "stdout",
     "output_type": "stream",
     "text": [
      "1\n",
      "0\n"
     ]
    }
   ],
   "source": [
    "# 2. count()\n",
    "print(name_list.count('TOM'))\n",
    "print(name_list.count('TOMS'))"
   ]
  },
  {
   "cell_type": "code",
   "execution_count": 60,
   "id": "470c06d1",
   "metadata": {},
   "outputs": [
    {
     "name": "stdout",
     "output_type": "stream",
     "text": [
      "3\n"
     ]
    }
   ],
   "source": [
    "# 3.len()\n",
    "print(len(name_list))"
   ]
  },
  {
   "cell_type": "code",
   "execution_count": 61,
   "id": "f33caa58",
   "metadata": {},
   "outputs": [
    {
     "name": "stdout",
     "output_type": "stream",
     "text": [
      "True\n",
      "False\n"
     ]
    }
   ],
   "source": [
    "# 1. in\n",
    "print('TOM' in name_list)\n",
    "print('TOMS' in name_list)"
   ]
  },
  {
   "cell_type": "code",
   "execution_count": 62,
   "id": "471ea66d",
   "metadata": {},
   "outputs": [
    {
     "name": "stdout",
     "output_type": "stream",
     "text": [
      "False\n",
      "True\n"
     ]
    }
   ],
   "source": [
    "# 2. not in\n",
    "print('TOM' not in name_list)\n",
    "print('TOMs' not in name_list)"
   ]
  },
  {
   "cell_type": "markdown",
   "id": "11e4cc17",
   "metadata": {},
   "source": [
    "### 列表操作"
   ]
  },
  {
   "cell_type": "code",
   "execution_count": 63,
   "id": "11ea0535",
   "metadata": {},
   "outputs": [
    {
     "name": "stdout",
     "output_type": "stream",
     "text": [
      "['TOM', 'Lily', 'ROSE', 'xiaoming', [11, 22]]\n"
     ]
    }
   ],
   "source": [
    "# append\n",
    "name_list = ['TOM', 'Lily', 'ROSE']\n",
    "\n",
    "name_list.append('xiaoming')\n",
    "name_list.append([11, 22])\n",
    "\n",
    "print(name_list)"
   ]
  },
  {
   "cell_type": "code",
   "execution_count": 64,
   "id": "92fa15e1",
   "metadata": {},
   "outputs": [
    {
     "name": "stdout",
     "output_type": "stream",
     "text": [
      "['TOM', 'Lily', 'ROSE', 'x', 'i', 'a', 'o', 'm', 'i', 'n', 'g', 'xiaoming', 'xiaohong']\n"
     ]
    }
   ],
   "source": [
    "# extend() 追加数据是一个序列，把数据序列里面的数据拆开然后逐一追加到列表的结尾\n",
    "name_list = ['TOM', 'Lily', 'ROSE']\n",
    "\n",
    "name_list.extend('xiaoming')\n",
    "name_list.extend(['xiaoming', 'xiaohong'])\n",
    "\n",
    "print(name_list)"
   ]
  },
  {
   "cell_type": "code",
   "execution_count": 65,
   "id": "771bdf8b",
   "metadata": {},
   "outputs": [
    {
     "name": "stdout",
     "output_type": "stream",
     "text": [
      "['mull', 'hei', 'kianna', 'thre']\n"
     ]
    }
   ],
   "source": [
    "# insert()插入元素\n",
    "# 直接就在该列表修改，不是副本\n",
    "list1=['mull','kianna','thre']\n",
    "list1.insert(1,'hei')\n",
    "print(list1)"
   ]
  },
  {
   "cell_type": "code",
   "execution_count": 17,
   "id": "d9cbd0fc",
   "metadata": {},
   "outputs": [
    {
     "name": "stdout",
     "output_type": "stream",
     "text": [
      "['mull', 'kianna', 'thre']\n"
     ]
    }
   ],
   "source": [
    "# del删除列表元素\n",
    "del list1[1]\n",
    "print(list1)"
   ]
  },
  {
   "cell_type": "code",
   "execution_count": 66,
   "id": "2c9dd659",
   "metadata": {},
   "outputs": [
    {
     "name": "stdout",
     "output_type": "stream",
     "text": [
      "['mull', 'hei', 'kianna']\n",
      "thre\n"
     ]
    }
   ],
   "source": [
    "# 采用pop()删除列表末尾的元素\n",
    "'''\n",
    "pop()每运行一次便弹出一个元素,且在该列表操作\n",
    "'''\n",
    "# 将弹出的值付给poped_list\n",
    "poped_list=list1.pop()\n",
    "print(list1)\n",
    "print(poped_list)\n",
    "# 在pop()中加入索引可以弹出任何位置的元素"
   ]
  },
  {
   "cell_type": "code",
   "execution_count": 67,
   "id": "d5814ebe",
   "metadata": {},
   "outputs": [
    {
     "data": {
      "text/plain": [
       "['hei', 'kianna']"
      ]
     },
     "execution_count": 67,
     "metadata": {},
     "output_type": "execute_result"
    }
   ],
   "source": [
    "# remove()依据值来删除列表中的元素\n",
    "# 每次只能删除一个，可以依据while\n",
    "list1\n",
    "list1.remove('mull')\n",
    "list1"
   ]
  },
  {
   "cell_type": "code",
   "execution_count": 68,
   "id": "2ae8d5d3",
   "metadata": {},
   "outputs": [
    {
     "name": "stdout",
     "output_type": "stream",
     "text": [
      "[]\n"
     ]
    }
   ],
   "source": [
    "# 4. clear() -- 清空\n",
    "list1.clear()\n",
    "print(list1)"
   ]
  },
  {
   "cell_type": "code",
   "execution_count": 69,
   "id": "d5cf377d",
   "metadata": {},
   "outputs": [
    {
     "name": "stdout",
     "output_type": "stream",
     "text": [
      "['aaa', 'Lily', 'ROSE']\n"
     ]
    }
   ],
   "source": [
    "name_list = ['TOM', 'Lily', 'ROSE']\n",
    "\n",
    "# 修改指定下标的数据\n",
    "name_list[0] = 'aaa'\n",
    "print(name_list)"
   ]
  },
  {
   "cell_type": "code",
   "execution_count": 20,
   "id": "bc088be3",
   "metadata": {},
   "outputs": [
    {
     "name": "stdout",
     "output_type": "stream",
     "text": [
      "['ada', 'daa', 'hua', 'rend']\n",
      "['rend', 'hua', 'daa', 'ada']\n"
     ]
    }
   ],
   "source": [
    "# 采用sort()进行永久性的排序\n",
    "t_list=['ada','rend','daa','hua']\n",
    "t_list.sort()\n",
    "print(t_list)\n",
    "# 采用倒序reverse=True\n",
    "t_list.sort(reverse=True)\n",
    "print(t_list)"
   ]
  },
  {
   "cell_type": "code",
   "execution_count": 21,
   "id": "5491f714",
   "metadata": {},
   "outputs": [
    {
     "name": "stdout",
     "output_type": "stream",
     "text": [
      "['rend', 'hua', 'daa', 'ada']\n",
      "['ada', 'daa', 'hua', 'rend']\n",
      "['rend', 'hua', 'daa', 'ada']\n"
     ]
    }
   ],
   "source": [
    "# 使用sorted()临时排列列表\n",
    "print(t_list)\n",
    "#采用倒序reverse=True\n",
    "print(sorted(t_list))\n",
    "print(t_list)"
   ]
  },
  {
   "cell_type": "code",
   "execution_count": 22,
   "id": "84b00234",
   "metadata": {},
   "outputs": [
    {
     "name": "stdout",
     "output_type": "stream",
     "text": [
      "['ada', 'daa', 'hua', 'rend']\n"
     ]
    }
   ],
   "source": [
    "# 永久反转列表元素的顺序\n",
    "t_list.reverse()\n",
    "print(t_list)"
   ]
  },
  {
   "cell_type": "code",
   "execution_count": 70,
   "id": "c99f9be7",
   "metadata": {},
   "outputs": [
    {
     "name": "stdout",
     "output_type": "stream",
     "text": [
      "['TOM', 'Lily', 'ROSE']\n",
      "['TOM', 'Lily', 'ROSE']\n"
     ]
    }
   ],
   "source": [
    "# 复制列表\n",
    "name_list = ['TOM', 'Lily', 'ROSE']\n",
    "list1 = name_list.copy()\n",
    "\n",
    "print(list1)\n",
    "print(name_list)"
   ]
  },
  {
   "attachments": {},
   "cell_type": "markdown",
   "id": "991aac5b",
   "metadata": {},
   "source": [
    "### 创建数值列表\n"
   ]
  },
  {
   "cell_type": "code",
   "execution_count": 24,
   "id": "0e1cbfa7",
   "metadata": {},
   "outputs": [],
   "source": [
    "#使用range()创建数值列表"
   ]
  },
  {
   "cell_type": "code",
   "execution_count": 25,
   "id": "cfcbeeab",
   "metadata": {},
   "outputs": [
    {
     "name": "stdout",
     "output_type": "stream",
     "text": [
      "[1, 4, 9, 16, 25, 36, 49, 64, 81, 100]\n"
     ]
    }
   ],
   "source": [
    "#列表解析\n",
    "squares=[value**2 for value in range(1,11)]\n",
    "print(squares)"
   ]
  },
  {
   "attachments": {},
   "cell_type": "markdown",
   "id": "138a94cd",
   "metadata": {},
   "source": [
    "### 列表切片"
   ]
  },
  {
   "cell_type": "code",
   "execution_count": 26,
   "id": "48092ad5",
   "metadata": {},
   "outputs": [
    {
     "name": "stdout",
     "output_type": "stream",
     "text": [
      "[16, 25, 36, 49, 64, 81]\n"
     ]
    }
   ],
   "source": [
    "print(squares[3:9])"
   ]
  },
  {
   "cell_type": "code",
   "execution_count": 27,
   "id": "0b7ad63b",
   "metadata": {},
   "outputs": [
    {
     "name": "stdout",
     "output_type": "stream",
     "text": [
      "[1, 4, 9, 16, 25, 36, 49, 64, 81, 100]\n"
     ]
    }
   ],
   "source": [
    "# 利用切片复制列表\n",
    "rue=squares[:]\n",
    "print(rue)\n",
    "# 直接赋值名称不可行rue=squares\n",
    "# 切片操作的方法是：consequence[start_index: end_index: step]"
   ]
  },
  {
   "cell_type": "code",
   "execution_count": 28,
   "id": "2f8124ac",
   "metadata": {},
   "outputs": [
    {
     "name": "stdout",
     "output_type": "stream",
     "text": [
      "[[0, 1, 2, 3, 4, 5, 6, 7, 8, 9], [1, 2, 3, 4, 5, 6, 7, 8, 9, 10], [2, 3, 4, 5, 6, 7, 8, 9, 10, 11], [3, 4, 5, 6, 7, 8, 9, 10, 11, 12], [4, 5, 6, 7, 8, 9, 10, 11, 12, 13]]\n",
      "[3, 4]\n"
     ]
    }
   ],
   "source": [
    "# 二维列表的创建\n",
    "listNum = [[0]*10 for i in range(5)]\n",
    "listNum[3][4]=1\n",
    "for i in range(5):\n",
    "    for j in range(10):\n",
    "        listNum[i][j]=i+j    \n",
    "print(listNum)\n",
    "listNum1 = listNum[1][2:4]\n",
    "print(listNum1)"
   ]
  },
  {
   "cell_type": "code",
   "execution_count": 29,
   "id": "813b1f25",
   "metadata": {},
   "outputs": [
    {
     "data": {
      "text/plain": [
       "[9, 8, 7, 6, 5, 4, 3, 2, 1, 0]"
      ]
     },
     "execution_count": 29,
     "metadata": {},
     "output_type": "execute_result"
    }
   ],
   "source": [
    "# 列表的倒数切片\n",
    "listNum2 = [i for i in range(10)]\n",
    "listNum2[::-1]"
   ]
  },
  {
   "cell_type": "markdown",
   "id": "0245be12",
   "metadata": {},
   "source": [
    "### 列表推导式"
   ]
  },
  {
   "cell_type": "code",
   "execution_count": 128,
   "id": "d45bbd19",
   "metadata": {},
   "outputs": [
    {
     "name": "stdout",
     "output_type": "stream",
     "text": [
      "[0, 1, 2, 3, 4, 5, 6, 7, 8, 9]\n"
     ]
    }
   ],
   "source": [
    "# 列表推导式\n",
    "list1 = [i for i in range(10)]\n",
    "print(list1)"
   ]
  },
  {
   "cell_type": "code",
   "execution_count": 129,
   "id": "68218e88",
   "metadata": {},
   "outputs": [
    {
     "name": "stdout",
     "output_type": "stream",
     "text": [
      "[0, 2, 4, 6, 8]\n"
     ]
    }
   ],
   "source": [
    "# 带if的列表推导式\n",
    "list3 = [i for i in range(10) if i % 2 == 0]\n",
    "print(list3)"
   ]
  },
  {
   "cell_type": "code",
   "execution_count": 130,
   "id": "f1c68b61",
   "metadata": {},
   "outputs": [
    {
     "name": "stdout",
     "output_type": "stream",
     "text": [
      "[(1, 0), (1, 1), (1, 2), (2, 0), (2, 1), (2, 2)]\n"
     ]
    }
   ],
   "source": [
    "# 多个for实现列表推导式\n",
    "list2 = [(i, j) for i in range(1, 3) for j in range(3)]\n",
    "print(list2)"
   ]
  },
  {
   "cell_type": "code",
   "execution_count": 131,
   "id": "710fb5a5",
   "metadata": {},
   "outputs": [
    {
     "name": "stdout",
     "output_type": "stream",
     "text": [
      "{1: 1, 2: 4, 3: 9, 4: 16}\n"
     ]
    }
   ],
   "source": [
    "# 字典推导式\n",
    "dict1 = {i: i**2 for i in range(1, 5)}\n",
    "print(dict1)"
   ]
  },
  {
   "cell_type": "code",
   "execution_count": 132,
   "id": "7b3f3c92",
   "metadata": {},
   "outputs": [
    {
     "name": "stdout",
     "output_type": "stream",
     "text": [
      "{'name': 'Tom', 'age': 20, 'gender': 'man'}\n"
     ]
    }
   ],
   "source": [
    "# 合并列表为字典\n",
    "list1 = ['name', 'age', 'gender', 'id']\n",
    "list2 = ['Tom', 20, 'man']\n",
    "\n",
    "dict1 = {list1[i]: list2[i] for i in range(len(list2))}\n",
    "print(dict1)"
   ]
  },
  {
   "cell_type": "code",
   "execution_count": 133,
   "id": "a81c8659",
   "metadata": {},
   "outputs": [
    {
     "name": "stdout",
     "output_type": "stream",
     "text": [
      "{'MBP': 268, 'DELL': 201}\n"
     ]
    }
   ],
   "source": [
    "# 提取字典中的data\n",
    "counts = {'MBP': 268, 'HP': 125, 'DELL': 201, 'Lenovo': 199, 'acer': 99}\n",
    "dict1 = {key: value for key, value in counts.items() if value >= 200}\n",
    "print(dict1)"
   ]
  },
  {
   "cell_type": "code",
   "execution_count": 134,
   "id": "21f3a33f",
   "metadata": {},
   "outputs": [
    {
     "name": "stdout",
     "output_type": "stream",
     "text": [
      "{1, 4}\n"
     ]
    }
   ],
   "source": [
    "# 集合推导式\n",
    "list1 = [1, 1, 2]\n",
    "set1 = {i ** 2 for i in list1}\n",
    "print(set1)"
   ]
  },
  {
   "attachments": {},
   "cell_type": "markdown",
   "id": "b82d1fad",
   "metadata": {},
   "source": [
    "## 元组"
   ]
  },
  {
   "cell_type": "markdown",
   "id": "de9ce442",
   "metadata": {},
   "source": [
    "### 创建元组"
   ]
  },
  {
   "cell_type": "code",
   "execution_count": 71,
   "id": "414b11bb",
   "metadata": {},
   "outputs": [
    {
     "name": "stdout",
     "output_type": "stream",
     "text": [
      "12\n",
      "(3, 5)\n"
     ]
    }
   ],
   "source": [
    "# 元组是不可变的列表（）\n",
    "# 给元组变量赋值是合法的\n",
    "a_tuple = (2,12,5)\n",
    "print(a_tuple[1])\n",
    "a_tuple = (3,5)\n",
    "print(a_tuple)"
   ]
  },
  {
   "cell_type": "code",
   "execution_count": 72,
   "id": "a6b94b89",
   "metadata": {},
   "outputs": [
    {
     "name": "stdout",
     "output_type": "stream",
     "text": [
      "<class 'tuple'>\n"
     ]
    }
   ],
   "source": [
    "# 2. 单个数据的元组\n",
    "t2 = (10,)\n",
    "print(type(t2))"
   ]
  },
  {
   "cell_type": "code",
   "execution_count": 73,
   "id": "8b9e974a",
   "metadata": {},
   "outputs": [
    {
     "name": "stdout",
     "output_type": "stream",
     "text": [
      "<class 'int'>\n"
     ]
    }
   ],
   "source": [
    "# 3. 如果单个数据的元组不加逗号\n",
    "t3 = (10)\n",
    "print(type(t3))  # int"
   ]
  },
  {
   "cell_type": "markdown",
   "id": "fe7fb0ac",
   "metadata": {},
   "source": [
    "### 操作元组"
   ]
  },
  {
   "cell_type": "code",
   "execution_count": 74,
   "id": "acc96100",
   "metadata": {},
   "outputs": [],
   "source": [
    "t1 = ('aa', 'bb', 'cc', 'bb')"
   ]
  },
  {
   "cell_type": "code",
   "execution_count": 75,
   "id": "ce6d1bb3",
   "metadata": {},
   "outputs": [
    {
     "name": "stdout",
     "output_type": "stream",
     "text": [
      "aa\n"
     ]
    }
   ],
   "source": [
    "# 1. 下标\n",
    "print(t1[0])"
   ]
  },
  {
   "cell_type": "code",
   "execution_count": 76,
   "id": "fca9c086",
   "metadata": {},
   "outputs": [
    {
     "name": "stdout",
     "output_type": "stream",
     "text": [
      "1\n"
     ]
    },
    {
     "ename": "ValueError",
     "evalue": "tuple.index(x): x not in tuple",
     "output_type": "error",
     "traceback": [
      "\u001b[1;31m---------------------------------------------------------------------------\u001b[0m",
      "\u001b[1;31mValueError\u001b[0m                                Traceback (most recent call last)",
      "\u001b[1;32m~\\AppData\\Local\\Temp\\ipykernel_4436\\1277765751.py\u001b[0m in \u001b[0;36m<module>\u001b[1;34m\u001b[0m\n\u001b[0;32m      1\u001b[0m \u001b[1;31m# 2. index()\u001b[0m\u001b[1;33m\u001b[0m\u001b[1;33m\u001b[0m\u001b[0m\n\u001b[0;32m      2\u001b[0m \u001b[0mprint\u001b[0m\u001b[1;33m(\u001b[0m\u001b[0mt1\u001b[0m\u001b[1;33m.\u001b[0m\u001b[0mindex\u001b[0m\u001b[1;33m(\u001b[0m\u001b[1;34m'bb'\u001b[0m\u001b[1;33m)\u001b[0m\u001b[1;33m)\u001b[0m\u001b[1;33m\u001b[0m\u001b[1;33m\u001b[0m\u001b[0m\n\u001b[1;32m----> 3\u001b[1;33m \u001b[0mprint\u001b[0m\u001b[1;33m(\u001b[0m\u001b[0mt1\u001b[0m\u001b[1;33m.\u001b[0m\u001b[0mindex\u001b[0m\u001b[1;33m(\u001b[0m\u001b[1;34m'bbb'\u001b[0m\u001b[1;33m)\u001b[0m\u001b[1;33m)\u001b[0m\u001b[1;33m\u001b[0m\u001b[1;33m\u001b[0m\u001b[0m\n\u001b[0m",
      "\u001b[1;31mValueError\u001b[0m: tuple.index(x): x not in tuple"
     ]
    }
   ],
   "source": [
    "# 2. index()\n",
    "print(t1.index('bb'))\n",
    "print(t1.index('bbb'))"
   ]
  },
  {
   "cell_type": "code",
   "execution_count": 77,
   "id": "d1ac2847",
   "metadata": {},
   "outputs": [
    {
     "name": "stdout",
     "output_type": "stream",
     "text": [
      "1\n",
      "0\n"
     ]
    }
   ],
   "source": [
    "# 3. count()\n",
    "print(t1.count('aa'))\n",
    "print(t1.count('aaa'))"
   ]
  },
  {
   "cell_type": "code",
   "execution_count": 78,
   "id": "bdce2e44",
   "metadata": {},
   "outputs": [
    {
     "name": "stdout",
     "output_type": "stream",
     "text": [
      "4\n"
     ]
    }
   ],
   "source": [
    "# 4. len()\n",
    "print(len(t1))"
   ]
  },
  {
   "cell_type": "code",
   "execution_count": 79,
   "id": "3605a4f2",
   "metadata": {},
   "outputs": [
    {
     "name": "stdout",
     "output_type": "stream",
     "text": [
      "('aa', 'bb', ['TOM', 'dd'])\n"
     ]
    }
   ],
   "source": [
    "t2 = ('aa', 'bb', ['cc', 'dd'])\n",
    "t2[2][0] = 'TOM'\n",
    "print(t2)"
   ]
  },
  {
   "attachments": {},
   "cell_type": "markdown",
   "id": "9f7e75ff",
   "metadata": {},
   "source": [
    "## if条件语句"
   ]
  },
  {
   "cell_type": "code",
   "execution_count": 31,
   "id": "d2a6d3bf",
   "metadata": {},
   "outputs": [],
   "source": [
    "#and和or进行条件判断\n",
    "#in和not in关键字判断是否在某个数据结构中"
   ]
  },
  {
   "cell_type": "markdown",
   "id": "0aad3d49",
   "metadata": {},
   "source": [
    "## 循环"
   ]
  },
  {
   "cell_type": "code",
   "execution_count": 14,
   "id": "7a492eda",
   "metadata": {},
   "outputs": [
    {
     "name": "stdout",
     "output_type": "stream",
     "text": [
      "i\n",
      "t\n",
      "h\n"
     ]
    }
   ],
   "source": [
    "# break控制for循环\n",
    "str1 = 'itheima'\n",
    "for i in str1:\n",
    "    # 当某些条件成立退出循环 -- break：条件 i取到字符e\n",
    "    if i == 'e':\n",
    "        break\n",
    "    print(i)"
   ]
  },
  {
   "cell_type": "code",
   "execution_count": 15,
   "id": "3f50db39",
   "metadata": {},
   "outputs": [
    {
     "name": "stdout",
     "output_type": "stream",
     "text": [
      "i\n",
      "t\n",
      "h\n",
      "i\n",
      "m\n",
      "a\n"
     ]
    }
   ],
   "source": [
    "# continue控制for循环\n",
    "str1 = 'itheima'\n",
    "for i in str1:\n",
    "    # 当某些条件成立退出循环 -- continue：条件 i取到字符e\n",
    "    if i == 'e':\n",
    "        continue\n",
    "    print(i)"
   ]
  },
  {
   "cell_type": "code",
   "execution_count": 16,
   "id": "106bbdd0",
   "metadata": {},
   "outputs": [
    {
     "name": "stdout",
     "output_type": "stream",
     "text": [
      "媳妇儿，我错了\n",
      "媳妇儿，我错了\n",
      "媳妇儿，我错了\n",
      "媳妇儿，我错了\n",
      "媳妇儿，我错了\n",
      "媳妇原谅我了，真开心呐，哈哈哈哈\n"
     ]
    }
   ],
   "source": [
    "# while else\n",
    "i = 1\n",
    "while i <= 5:\n",
    "    print('媳妇儿，我错了')\n",
    "    i += 1\n",
    "else:\n",
    "    print('媳妇原谅我了，真开心呐，哈哈哈哈')"
   ]
  },
  {
   "cell_type": "code",
   "execution_count": 17,
   "id": "62d34201",
   "metadata": {},
   "outputs": [
    {
     "name": "stdout",
     "output_type": "stream",
     "text": [
      "媳妇儿，我错了\n",
      "媳妇儿，我错了\n"
     ]
    }
   ],
   "source": [
    "# while else break\n",
    "i = 1\n",
    "while i <= 5:\n",
    "    if i == 3:\n",
    "        break\n",
    "    print('媳妇儿，我错了')\n",
    "    i += 1\n",
    "else:\n",
    "    print('媳妇原谅我了，真开心呐，哈哈哈哈')"
   ]
  },
  {
   "cell_type": "code",
   "execution_count": 18,
   "id": "3a100372",
   "metadata": {},
   "outputs": [
    {
     "name": "stdout",
     "output_type": "stream",
     "text": [
      "媳妇儿，我错了\n",
      "媳妇儿，我错了\n",
      "媳妇儿，我错了\n",
      "媳妇儿，我错了\n",
      "媳妇原谅我了，真开心呐，哈哈哈哈\n"
     ]
    }
   ],
   "source": [
    "# while else continue\n",
    "i = 1\n",
    "while i <= 5:\n",
    "    if i == 3:\n",
    "        i += 1\n",
    "        continue\n",
    "    print('媳妇儿，我错了')\n",
    "    i += 1\n",
    "else:\n",
    "    print('媳妇原谅我了，真开心呐，哈哈哈哈')"
   ]
  },
  {
   "cell_type": "code",
   "execution_count": 19,
   "id": "427ee112",
   "metadata": {},
   "outputs": [
    {
     "name": "stdout",
     "output_type": "stream",
     "text": [
      "i\n",
      "t\n",
      "h\n",
      "e\n",
      "i\n",
      "m\n",
      "a\n",
      "循环正常结束执行的else的代码\n"
     ]
    }
   ],
   "source": [
    "# for else\n",
    "str1 = 'itheima'\n",
    "for i in str1:\n",
    "    print(i)\n",
    "else:\n",
    "    print('循环正常结束执行的else的代码')"
   ]
  },
  {
   "cell_type": "code",
   "execution_count": 20,
   "id": "d13b0985",
   "metadata": {},
   "outputs": [
    {
     "name": "stdout",
     "output_type": "stream",
     "text": [
      "i\n",
      "t\n",
      "h\n"
     ]
    }
   ],
   "source": [
    "# for else break\n",
    "str1 = 'itheima'\n",
    "for i in str1:\n",
    "    if i == 'e':\n",
    "        break\n",
    "        # continue\n",
    "    print(i)\n",
    "else:\n",
    "    print('循环正常结束执行的else的代码')\n"
   ]
  },
  {
   "attachments": {},
   "cell_type": "markdown",
   "id": "41c49bc1",
   "metadata": {},
   "source": [
    "## 字典"
   ]
  },
  {
   "cell_type": "markdown",
   "id": "99190034",
   "metadata": {},
   "source": [
    "### 创建字典"
   ]
  },
  {
   "cell_type": "code",
   "execution_count": 80,
   "id": "f855c639",
   "metadata": {},
   "outputs": [
    {
     "name": "stdout",
     "output_type": "stream",
     "text": [
      "琪亚娜\n"
     ]
    }
   ],
   "source": [
    "a_dict = {\"空之律者\":\"琪亚娜\",'雷之律者':'雷电芽衣'}\n",
    "print(a_dict['空之律者'])"
   ]
  },
  {
   "cell_type": "code",
   "execution_count": 81,
   "id": "3224703f",
   "metadata": {},
   "outputs": [
    {
     "name": "stdout",
     "output_type": "stream",
     "text": [
      "{'空之律者': '琪亚娜', '雷之律者': '雷电芽衣', '理之律者': '布洛妮娅'}\n"
     ]
    }
   ],
   "source": [
    "# 添加一对键值\n",
    "a_dict['理之律者'] = '布洛妮娅'\n",
    "print(a_dict)"
   ]
  },
  {
   "cell_type": "code",
   "execution_count": 82,
   "id": "f512e343",
   "metadata": {},
   "outputs": [
    {
     "name": "stdout",
     "output_type": "stream",
     "text": [
      "{'空之律者': '琪亚娜', '雷之律者': '雷电芽衣'}\n"
     ]
    }
   ],
   "source": [
    "# 删除一对键值\n",
    "del a_dict['理之律者']\n",
    "print(a_dict)"
   ]
  },
  {
   "cell_type": "code",
   "execution_count": 84,
   "id": "e244e6c9",
   "metadata": {},
   "outputs": [
    {
     "name": "stdout",
     "output_type": "stream",
     "text": [
      "{}\n"
     ]
    }
   ],
   "source": [
    "# 清空字典clear()\n",
    "a_dict.clear()\n",
    "print(a_dict)"
   ]
  },
  {
   "cell_type": "code",
   "execution_count": 85,
   "id": "571e5ba4",
   "metadata": {},
   "outputs": [
    {
     "name": "stdout",
     "output_type": "stream",
     "text": [
      "{'name': 'Lily', 'age': 20, 'gender': '男'}\n"
     ]
    }
   ],
   "source": [
    "# 修改数据\n",
    "dict1 = {'name': 'TOM', 'age': 20, 'gender': '男'}\n",
    "dict1['name'] = 'Lily'\n",
    "print(dict1)"
   ]
  },
  {
   "cell_type": "markdown",
   "id": "4891f8a2",
   "metadata": {},
   "source": [
    "### 查找数据"
   ]
  },
  {
   "cell_type": "code",
   "execution_count": 86,
   "id": "3fc5afa0",
   "metadata": {},
   "outputs": [],
   "source": [
    "dict1 = {'name': 'TOM', 'age': 20, 'gender': '男'}"
   ]
  },
  {
   "cell_type": "code",
   "execution_count": 87,
   "id": "38c769af",
   "metadata": {},
   "outputs": [
    {
     "name": "stdout",
     "output_type": "stream",
     "text": [
      "TOM\n"
     ]
    },
    {
     "ename": "KeyError",
     "evalue": "'names'",
     "output_type": "error",
     "traceback": [
      "\u001b[1;31m---------------------------------------------------------------------------\u001b[0m",
      "\u001b[1;31mKeyError\u001b[0m                                  Traceback (most recent call last)",
      "\u001b[1;32m~\\AppData\\Local\\Temp\\ipykernel_4436\\134241446.py\u001b[0m in \u001b[0;36m<module>\u001b[1;34m\u001b[0m\n\u001b[0;32m      1\u001b[0m \u001b[1;31m# 1. [key]\u001b[0m\u001b[1;33m\u001b[0m\u001b[1;33m\u001b[0m\u001b[0m\n\u001b[0;32m      2\u001b[0m \u001b[0mprint\u001b[0m\u001b[1;33m(\u001b[0m\u001b[0mdict1\u001b[0m\u001b[1;33m[\u001b[0m\u001b[1;34m'name'\u001b[0m\u001b[1;33m]\u001b[0m\u001b[1;33m)\u001b[0m  \u001b[1;31m# 返回对应的值(key存在)\u001b[0m\u001b[1;33m\u001b[0m\u001b[1;33m\u001b[0m\u001b[0m\n\u001b[1;32m----> 3\u001b[1;33m \u001b[0mprint\u001b[0m\u001b[1;33m(\u001b[0m\u001b[0mdict1\u001b[0m\u001b[1;33m[\u001b[0m\u001b[1;34m'names'\u001b[0m\u001b[1;33m]\u001b[0m\u001b[1;33m)\u001b[0m\u001b[1;33m\u001b[0m\u001b[1;33m\u001b[0m\u001b[0m\n\u001b[0m",
      "\u001b[1;31mKeyError\u001b[0m: 'names'"
     ]
    }
   ],
   "source": [
    "# 1. [key]\n",
    "print(dict1['name'])  # 返回对应的值(key存在)\n",
    "print(dict1['names'])"
   ]
  },
  {
   "cell_type": "code",
   "execution_count": 88,
   "id": "4f4c277c",
   "metadata": {},
   "outputs": [
    {
     "name": "stdout",
     "output_type": "stream",
     "text": [
      "TOM\n",
      "None\n",
      "Lily\n"
     ]
    }
   ],
   "source": [
    "# 2. 函数\n",
    "# 2.1 get()\n",
    "print(dict1.get('name'))\n",
    "print(dict1.get('names'))  # 如果key不存在，返回None\n",
    "print(dict1.get('names', 'Lily'))"
   ]
  },
  {
   "cell_type": "code",
   "execution_count": 91,
   "id": "e8d50759",
   "metadata": {},
   "outputs": [
    {
     "name": "stdout",
     "output_type": "stream",
     "text": [
      "dict_keys(['name', 'age', 'gender'])\n"
     ]
    }
   ],
   "source": [
    "# 2.2 keys() 查找字典中所有的key，返回可迭代对象\n",
    "print(dict1.keys())"
   ]
  },
  {
   "cell_type": "code",
   "execution_count": 92,
   "id": "cbc9caf1",
   "metadata": {},
   "outputs": [
    {
     "name": "stdout",
     "output_type": "stream",
     "text": [
      "dict_values(['TOM', 20, '男'])\n"
     ]
    }
   ],
   "source": [
    "# 2.3 values() 查找字典中的所有的value，返回可迭代对象\n",
    "print(dict1.values())"
   ]
  },
  {
   "cell_type": "code",
   "execution_count": 93,
   "id": "dd251322",
   "metadata": {},
   "outputs": [
    {
     "name": "stdout",
     "output_type": "stream",
     "text": [
      "dict_items([('name', 'TOM'), ('age', 20), ('gender', '男')])\n"
     ]
    }
   ],
   "source": [
    "# 2.4 items() 查找字典中所有的键值对，返回可迭代对象，里面的数据是元组，元组数据1是字典的key，元组数据2是字典key对应的值\n",
    "print(dict1.items())"
   ]
  },
  {
   "cell_type": "markdown",
   "id": "c4cd6306",
   "metadata": {},
   "source": [
    "### 字典遍历"
   ]
  },
  {
   "cell_type": "code",
   "execution_count": 98,
   "id": "e9b8b256",
   "metadata": {},
   "outputs": [],
   "source": [
    "a_dict = {\"空之律者\":\"琪亚娜\",'雷之律者':'雷电芽衣'}"
   ]
  },
  {
   "cell_type": "code",
   "execution_count": 99,
   "id": "c84855ff",
   "metadata": {},
   "outputs": [
    {
     "name": "stdout",
     "output_type": "stream",
     "text": [
      "空之律者:琪亚娜\n",
      "雷之律者:雷电芽衣\n"
     ]
    }
   ],
   "source": [
    "# 遍历字典\n",
    "# items()返回一个键值对列表\n",
    "for k,v in a_dict.items():\n",
    "    print(k+ \":\"+ v)"
   ]
  },
  {
   "cell_type": "code",
   "execution_count": 100,
   "id": "5a9a78f1",
   "metadata": {
    "collapsed": true,
    "jupyter": {
     "outputs_hidden": true
    }
   },
   "outputs": [
    {
     "name": "stdout",
     "output_type": "stream",
     "text": [
      "空之律者\n",
      "雷之律者\n"
     ]
    }
   ],
   "source": [
    "# 遍历字典中的所有的键keys()\n",
    "# 返回的是一个列表\n",
    "for k in a_dict.keys():\n",
    "    print(k)"
   ]
  },
  {
   "cell_type": "code",
   "execution_count": 101,
   "id": "b77a5c61",
   "metadata": {},
   "outputs": [
    {
     "name": "stdout",
     "output_type": "stream",
     "text": [
      "空之律者\n",
      "雷之律者\n"
     ]
    }
   ],
   "source": [
    "# 按顺序遍历所有的键\n",
    "for k in sorted(a_dict.keys()):\n",
    "    print(k)"
   ]
  },
  {
   "cell_type": "code",
   "execution_count": 102,
   "id": "e2361762",
   "metadata": {
    "collapsed": true,
    "jupyter": {
     "outputs_hidden": true
    }
   },
   "outputs": [
    {
     "name": "stdout",
     "output_type": "stream",
     "text": [
      "琪亚娜\n",
      "雷电芽衣\n"
     ]
    }
   ],
   "source": [
    "# 遍历列表中所有的值values()\n",
    "# 返回的是列表\n",
    "# 当有很多冗余项可以采用集合set()\n",
    "for k in a_dict.values():\n",
    "    print(k)"
   ]
  },
  {
   "cell_type": "markdown",
   "id": "a3809965",
   "metadata": {},
   "source": [
    "## 集合"
   ]
  },
  {
   "cell_type": "markdown",
   "id": "da4e0dc1",
   "metadata": {},
   "source": [
    "### 创建集合"
   ]
  },
  {
   "cell_type": "code",
   "execution_count": 103,
   "id": "d492ea9e",
   "metadata": {},
   "outputs": [
    {
     "name": "stdout",
     "output_type": "stream",
     "text": [
      "{50, 20, 40, 10, 30}\n",
      "{40, 10, 20, 30}\n",
      "{'f', 'g', 'e', 'c', 'd', 'b', 'a'}\n"
     ]
    }
   ],
   "source": [
    "# 1. 创建有数据的集合\n",
    "s1 = {10, 20, 30, 40, 50}\n",
    "print(s1)\n",
    "\n",
    "s2 = {10, 30, 20, 40, 30, 20}\n",
    "print(s2)\n",
    "\n",
    "s3 = set('abcdefg')\n",
    "print(s3)"
   ]
  },
  {
   "cell_type": "code",
   "execution_count": 104,
   "id": "db05a504",
   "metadata": {},
   "outputs": [
    {
     "name": "stdout",
     "output_type": "stream",
     "text": [
      "set()\n",
      "<class 'set'>\n",
      "<class 'dict'>\n"
     ]
    }
   ],
   "source": [
    "# 2. 创建空集合: set()\n",
    "s4 = set()\n",
    "print(s4)\n",
    "print(type(s4))\n",
    "\n",
    "s5 = {}\n",
    "print(type(s5))"
   ]
  },
  {
   "cell_type": "markdown",
   "id": "1c9edd30",
   "metadata": {},
   "source": [
    "### 集合操作"
   ]
  },
  {
   "cell_type": "code",
   "execution_count": 105,
   "id": "a411fba0",
   "metadata": {},
   "outputs": [],
   "source": [
    "s1 = {10, 20}"
   ]
  },
  {
   "cell_type": "code",
   "execution_count": 106,
   "id": "3bd54d98",
   "metadata": {},
   "outputs": [
    {
     "name": "stdout",
     "output_type": "stream",
     "text": [
      "{100, 10, 20}\n"
     ]
    }
   ],
   "source": [
    "# 1. 集合是可变类型\n",
    "# add()\n",
    "s1.add(100)\n",
    "print(s1)"
   ]
  },
  {
   "cell_type": "code",
   "execution_count": 108,
   "id": "fa654ec4",
   "metadata": {},
   "outputs": [
    {
     "name": "stdout",
     "output_type": "stream",
     "text": [
      "{100, 10, 20}\n"
     ]
    }
   ],
   "source": [
    "# 集合有去重功能，如果追加的数据是集合已有数据，则什么事情都不做\n",
    "s1.add(100)\n",
    "print(s1)"
   ]
  },
  {
   "cell_type": "code",
   "execution_count": 109,
   "id": "004e538c",
   "metadata": {},
   "outputs": [
    {
     "ename": "TypeError",
     "evalue": "unhashable type: 'list'",
     "output_type": "error",
     "traceback": [
      "\u001b[1;31m---------------------------------------------------------------------------\u001b[0m",
      "\u001b[1;31mTypeError\u001b[0m                                 Traceback (most recent call last)",
      "\u001b[1;32m~\\AppData\\Local\\Temp\\ipykernel_4436\\315790819.py\u001b[0m in \u001b[0;36m<module>\u001b[1;34m\u001b[0m\n\u001b[1;32m----> 1\u001b[1;33m \u001b[0ms1\u001b[0m\u001b[1;33m.\u001b[0m\u001b[0madd\u001b[0m\u001b[1;33m(\u001b[0m\u001b[1;33m[\u001b[0m\u001b[1;36m10\u001b[0m\u001b[1;33m,\u001b[0m \u001b[1;36m20\u001b[0m\u001b[1;33m,\u001b[0m \u001b[1;36m30\u001b[0m\u001b[1;33m]\u001b[0m\u001b[1;33m)\u001b[0m  \u001b[1;31m# 报错\u001b[0m\u001b[1;33m\u001b[0m\u001b[1;33m\u001b[0m\u001b[0m\n\u001b[0m\u001b[0;32m      2\u001b[0m \u001b[0mprint\u001b[0m\u001b[1;33m(\u001b[0m\u001b[0ms1\u001b[0m\u001b[1;33m)\u001b[0m\u001b[1;33m\u001b[0m\u001b[1;33m\u001b[0m\u001b[0m\n",
      "\u001b[1;31mTypeError\u001b[0m: unhashable type: 'list'"
     ]
    }
   ],
   "source": [
    "s1.add([10, 20, 30])  # 报错\n",
    "print(s1)"
   ]
  },
  {
   "cell_type": "code",
   "execution_count": 110,
   "id": "71d653b4",
   "metadata": {},
   "outputs": [
    {
     "name": "stdout",
     "output_type": "stream",
     "text": [
      "{100, 40, 10, 50, 20, 30}\n"
     ]
    }
   ],
   "source": [
    "# update()： 增加的数据是序列\n",
    "s1.update([10, 20, 30, 40, 50])\n",
    "print(s1)"
   ]
  },
  {
   "cell_type": "code",
   "execution_count": 111,
   "id": "b28b6c03",
   "metadata": {},
   "outputs": [
    {
     "ename": "TypeError",
     "evalue": "'int' object is not iterable",
     "output_type": "error",
     "traceback": [
      "\u001b[1;31m---------------------------------------------------------------------------\u001b[0m",
      "\u001b[1;31mTypeError\u001b[0m                                 Traceback (most recent call last)",
      "\u001b[1;32m~\\AppData\\Local\\Temp\\ipykernel_4436\\118373102.py\u001b[0m in \u001b[0;36m<module>\u001b[1;34m\u001b[0m\n\u001b[1;32m----> 1\u001b[1;33m \u001b[0ms1\u001b[0m\u001b[1;33m.\u001b[0m\u001b[0mupdate\u001b[0m\u001b[1;33m(\u001b[0m\u001b[1;36m100\u001b[0m\u001b[1;33m)\u001b[0m  \u001b[1;31m# 报错\u001b[0m\u001b[1;33m\u001b[0m\u001b[1;33m\u001b[0m\u001b[0m\n\u001b[0m\u001b[0;32m      2\u001b[0m \u001b[0mprint\u001b[0m\u001b[1;33m(\u001b[0m\u001b[0ms1\u001b[0m\u001b[1;33m)\u001b[0m\u001b[1;33m\u001b[0m\u001b[1;33m\u001b[0m\u001b[0m\n",
      "\u001b[1;31mTypeError\u001b[0m: 'int' object is not iterable"
     ]
    }
   ],
   "source": [
    "s1.update(100)  # 报错\n",
    "print(s1)"
   ]
  },
  {
   "cell_type": "code",
   "execution_count": 112,
   "id": "0350ac90",
   "metadata": {},
   "outputs": [],
   "source": [
    "# 删除数据\n",
    "s1 = {10, 20, 30, 40, 50}"
   ]
  },
  {
   "cell_type": "code",
   "execution_count": 113,
   "id": "cba6e24b",
   "metadata": {},
   "outputs": [
    {
     "name": "stdout",
     "output_type": "stream",
     "text": [
      "{50, 20, 40, 30}\n"
     ]
    }
   ],
   "source": [
    "# remove(): 删除指定数据，如果数据不存在报错\n",
    "s1.remove(10)\n",
    "print(s1)"
   ]
  },
  {
   "cell_type": "code",
   "execution_count": 114,
   "id": "0b3d6dec",
   "metadata": {},
   "outputs": [
    {
     "name": "stdout",
     "output_type": "stream",
     "text": [
      "{50, 20, 40, 30}\n"
     ]
    }
   ],
   "source": [
    "# discard()：删除指定数据，如果数据不存在不报错\n",
    "s1.discard(10)\n",
    "print(s1)"
   ]
  },
  {
   "cell_type": "code",
   "execution_count": 115,
   "id": "12e42f96",
   "metadata": {},
   "outputs": [
    {
     "name": "stdout",
     "output_type": "stream",
     "text": [
      "50\n",
      "{20, 40, 30}\n"
     ]
    }
   ],
   "source": [
    "# pop(): 随机删除某个数据，并返回这个数据\n",
    "del_num = s1.pop()\n",
    "print(del_num)\n",
    "print(s1)"
   ]
  },
  {
   "cell_type": "code",
   "execution_count": 116,
   "id": "bf3698a9",
   "metadata": {},
   "outputs": [
    {
     "name": "stdout",
     "output_type": "stream",
     "text": [
      "True\n",
      "False\n"
     ]
    }
   ],
   "source": [
    "# 查找数据\n",
    "s1 = {10, 20, 30, 40, 50}\n",
    "\n",
    "# in 或not in 判断数据10是否存在\n",
    "print(10 in s1)\n",
    "print(10 not in s1)"
   ]
  },
  {
   "cell_type": "markdown",
   "id": "7e3fc054",
   "metadata": {},
   "source": [
    "## 数据序列公共操作"
   ]
  },
  {
   "cell_type": "code",
   "execution_count": 117,
   "id": "aa0e914f",
   "metadata": {},
   "outputs": [
    {
     "name": "stdout",
     "output_type": "stream",
     "text": [
      "aabb\n",
      "[1, 2, 10, 20]\n",
      "(1, 2, 10, 20)\n"
     ]
    }
   ],
   "source": [
    "# +\n",
    "str1 = 'aa'\n",
    "str2 = 'bb'\n",
    "\n",
    "list1 = [1, 2]\n",
    "list2 = [10, 20]\n",
    "\n",
    "t1 = (1, 2)\n",
    "t2 = (10, 20)\n",
    "\n",
    "dict1 = {'name': 'Python'}\n",
    "dict2 = {'age': 30}\n",
    "\n",
    "# +: 合并\n",
    "print(str1 + str2)\n",
    "print(list1 + list2)\n",
    "print(t1 + t2)\n",
    "\n",
    "# print(dict1 + dict2)  # 报错：字典不支持合并运算"
   ]
  },
  {
   "cell_type": "code",
   "execution_count": 118,
   "id": "bae7c385",
   "metadata": {},
   "outputs": [
    {
     "name": "stdout",
     "output_type": "stream",
     "text": [
      "aaaaa\n",
      "----------\n",
      "['hello', 'hello', 'hello', 'hello', 'hello']\n",
      "('world', 'world', 'world', 'world', 'world')\n"
     ]
    }
   ],
   "source": [
    "# *\n",
    "str1 = 'a'\n",
    "list1 = ['hello']\n",
    "t1 = ('world',)\n",
    "\n",
    "# *:复制\n",
    "print(str1 * 5)\n",
    "\n",
    "# 打印10个-：\n",
    "print('-' * 10)\n",
    "\n",
    "print(list1 * 5)\n",
    "\n",
    "print(t1 * 5)"
   ]
  },
  {
   "cell_type": "code",
   "execution_count": 119,
   "id": "3d9273a0",
   "metadata": {},
   "outputs": [
    {
     "name": "stdout",
     "output_type": "stream",
     "text": [
      "True\n",
      "False\n",
      "True\n",
      "False\n",
      "False\n",
      "True\n",
      "True\n",
      "False\n",
      "True\n",
      "False\n"
     ]
    }
   ],
   "source": [
    "# 判断\n",
    "str1 = 'abcd'\n",
    "list1 = [10, 20, 30, 40]\n",
    "t1 = (100, 200, 300, 400)\n",
    "dict1 = {'name': 'Python', 'age': 30}\n",
    "\n",
    "# in 和 not in\n",
    "# 1. 字符a是否存在\n",
    "print('a' in str1)\n",
    "print('a' not in str1)\n",
    "\n",
    "# 2. 数据10是否存在\n",
    "print(10 in list1)\n",
    "print(10 not in list1)\n",
    "\n",
    "# 3. 100是否存在\n",
    "print(100 not in t1)\n",
    "print(100 in t1)\n",
    "\n",
    "# 4. name是否存在\n",
    "print('name' in dict1)\n",
    "print('name' not in dict1)\n",
    "print('name' in dict1.keys())\n",
    "print('name' in dict1.values())"
   ]
  },
  {
   "cell_type": "code",
   "execution_count": 120,
   "id": "d495b840",
   "metadata": {},
   "outputs": [],
   "source": [
    "# len\n",
    "str1 = 'abcdefg'\n",
    "list1 = [10, 20, 30, 40, 50]\n",
    "t1 = (10, 20, 30, 40, 50)\n",
    "s1 = {10, 20, 30, 40, 50}\n",
    "dict1 = {'name': 'TOM', 'age': 18}"
   ]
  },
  {
   "cell_type": "code",
   "execution_count": 122,
   "id": "1d487257",
   "metadata": {},
   "outputs": [
    {
     "name": "stdout",
     "output_type": "stream",
     "text": [
      "abcdefg\n",
      "[10, 20, 30, 40, 50]\n",
      "[20, 30, 40, 50]\n",
      "{50, 20, 40, 10, 30}\n",
      "{'name': 'TOM', 'age': 18}\n",
      "{'age': 18}\n"
     ]
    }
   ],
   "source": [
    "# del\n",
    "str1 = 'abcdefg'\n",
    "list1 = [10, 20, 30, 40, 50]\n",
    "t1 = (10, 20, 30, 40, 50)\n",
    "s1 = {10, 20, 30, 40, 50}\n",
    "dict1 = {'name': 'TOM', 'age': 18}\n",
    "\n",
    "# del 目标 或del(目标)\n",
    "# del str1\n",
    "print(str1)\n",
    "\n",
    "# del(list1)\n",
    "print(list1)\n",
    "del(list1[0])\n",
    "print(list1)\n",
    "\n",
    "# del s1\n",
    "print(s1)\n",
    "\n",
    "# del dict1\n",
    "print(dict1)\n",
    "del dict1['name']\n",
    "print(dict1)"
   ]
  },
  {
   "cell_type": "code",
   "execution_count": 123,
   "id": "64b5bc75",
   "metadata": {},
   "outputs": [
    {
     "name": "stdout",
     "output_type": "stream",
     "text": [
      "g\n",
      "50\n",
      "a\n",
      "10\n"
     ]
    }
   ],
   "source": [
    "# max min\n",
    "str1 = 'abcdefg'\n",
    "list1 = [10, 20, 30, 40, 50]\n",
    "\n",
    "# max() : 最大值\n",
    "print(max(str1))\n",
    "print(max(list1))\n",
    "\n",
    "# min() ： 最小值\n",
    "print(min(str1))\n",
    "print(min(list1))"
   ]
  },
  {
   "cell_type": "code",
   "execution_count": 124,
   "id": "07a3281c",
   "metadata": {},
   "outputs": [
    {
     "name": "stdout",
     "output_type": "stream",
     "text": [
      "range(1, 10)\n",
      "1\n",
      "2\n",
      "3\n",
      "4\n",
      "5\n",
      "6\n",
      "7\n",
      "8\n",
      "9\n",
      "1\n",
      "2\n",
      "3\n",
      "4\n",
      "5\n",
      "6\n",
      "7\n",
      "8\n",
      "9\n",
      "1\n",
      "3\n",
      "5\n",
      "7\n",
      "9\n",
      "0\n",
      "1\n",
      "2\n",
      "3\n",
      "4\n",
      "5\n",
      "6\n",
      "7\n",
      "8\n",
      "9\n"
     ]
    }
   ],
   "source": [
    "# range\n",
    "# range(start, end, step)\n",
    "print(range(1, 10, 1))\n",
    "for i in range(1, 10, 1):\n",
    "    print(i)\n",
    "\n",
    "for i in range(1, 10):\n",
    "    print(i)\n",
    "\n",
    "for i in range(1, 10, 2):\n",
    "    print(i)\n",
    "\n",
    "\n",
    "for i in range(10):\n",
    "    print(i)\n",
    "\n",
    "# 1. 如果不写开始，默认从0开始\n",
    "# 2. 如果不写步长，默认为1"
   ]
  },
  {
   "cell_type": "code",
   "execution_count": 126,
   "id": "3ce088d0",
   "metadata": {},
   "outputs": [
    {
     "name": "stdout",
     "output_type": "stream",
     "text": [
      "(0, 'a')\n",
      "(1, 'b')\n",
      "(2, 'c')\n",
      "(3, 'd')\n",
      "(4, 'e')\n",
      "(2, 'a')\n",
      "(3, 'b')\n",
      "(4, 'c')\n",
      "(5, 'd')\n",
      "(6, 'e')\n"
     ]
    }
   ],
   "source": [
    "# enumerate\n",
    "list1 = ['a', 'b', 'c', 'd', 'e']\n",
    "\n",
    "# enumerate 返回结果是元组，元组第一个数据是原迭代对象的数据对应的下标，元组第二个数据是原迭代对象的数据\n",
    "for i in enumerate(list1):\n",
    "    print(i)\n",
    "\n",
    "for i in enumerate(list1, start=2):\n",
    "    print(i)\n"
   ]
  },
  {
   "cell_type": "code",
   "execution_count": 127,
   "id": "d7571620",
   "metadata": {},
   "outputs": [
    {
     "name": "stdout",
     "output_type": "stream",
     "text": [
      "(10, 20, 30, 20, 40, 50)\n",
      "(200, 100, 500, 300)\n",
      "[200, 100, 500, 300]\n",
      "['a', 'b', 'c', 'd', 'e']\n",
      "{40, 10, 50, 20, 30}\n",
      "{'e', 'c', 'd', 'b', 'a'}\n"
     ]
    }
   ],
   "source": [
    "# 类型转换\n",
    "list1 = [10, 20, 30, 20, 40, 50]\n",
    "s1 = {100, 300, 200, 500}\n",
    "t1 = ('a', 'b', 'c', 'd', 'e')\n",
    "\n",
    "# tuple(): 转换成元组\n",
    "print(tuple(list1))\n",
    "print(tuple(s1))\n",
    "\n",
    "# list()：转换成列表\n",
    "print(list(s1))\n",
    "print(list(t1))\n",
    "\n",
    "# set()：转换成集合\n",
    "print(set(list1))\n",
    "print(set(t1))"
   ]
  },
  {
   "attachments": {},
   "cell_type": "markdown",
   "id": "0245019b",
   "metadata": {},
   "source": [
    "## 用户输入和while"
   ]
  },
  {
   "cell_type": "code",
   "execution_count": 39,
   "id": "f7ebfb82",
   "metadata": {},
   "outputs": [
    {
     "name": "stdout",
     "output_type": "stream",
     "text": [
      "\n"
     ]
    }
   ],
   "source": [
    "mas=input(\"please input a word:\")\n",
    "print(mas)\n",
    "#输入以字符串表示"
   ]
  },
  {
   "cell_type": "code",
   "execution_count": 40,
   "id": "5a9f4a9b",
   "metadata": {},
   "outputs": [],
   "source": [
    "#采用int()进行数值的输入\n",
    "num=input()"
   ]
  },
  {
   "cell_type": "code",
   "execution_count": 41,
   "id": "37969c7c",
   "metadata": {},
   "outputs": [
    {
     "name": "stdout",
     "output_type": "stream",
     "text": [
      "[1, 3, 5]\n"
     ]
    }
   ],
   "source": [
    "#python过滤器\n",
    "func = lambda x:x%2\n",
    "result = filter(func, [1, 2, 3, 4, 5])\n",
    "print(list(result))"
   ]
  },
  {
   "cell_type": "code",
   "execution_count": 42,
   "id": "77844156",
   "metadata": {},
   "outputs": [
    {
     "name": "stdout",
     "output_type": "stream",
     "text": [
      "[]\n"
     ]
    }
   ],
   "source": [
    "list = ['1', '2', '3', '4', '5']\n",
    "print (list[10:])"
   ]
  },
  {
   "attachments": {},
   "cell_type": "markdown",
   "id": "457a3194",
   "metadata": {},
   "source": [
    "## 函数"
   ]
  },
  {
   "cell_type": "markdown",
   "id": "4aca2651",
   "metadata": {},
   "source": [
    "### 函数参数"
   ]
  },
  {
   "cell_type": "code",
   "execution_count": 43,
   "id": "0c2af74f",
   "metadata": {
    "collapsed": true,
    "jupyter": {
     "outputs_hidden": true
    }
   },
   "outputs": [
    {
     "name": "stdout",
     "output_type": "stream",
     "text": [
      "it is :pee\n",
      "it is :heee\n"
     ]
    }
   ],
   "source": [
    "# 1.关键字实参\n",
    "def pet_name(dog,cat):\n",
    "    print(\"it is :\"+dog)\n",
    "    print('it is :'+cat)\n",
    "\n",
    "pet_name(cat='heee',dog='pee')"
   ]
  },
  {
   "cell_type": "code",
   "execution_count": 44,
   "id": "c4ff10c8",
   "metadata": {},
   "outputs": [
    {
     "name": "stdout",
     "output_type": "stream",
     "text": [
      "hel get\n",
      "ge eg he\n"
     ]
    }
   ],
   "source": [
    "# 2.可以给形参设置默认值，如果实参无值传递，则采用默认值\n",
    "# 3.采用空字符串让实参变成可选\n",
    "def people_name(first, second, thrid=''):\n",
    "    if thrid:\n",
    "        out=first+' '+second+' '+thrid        \n",
    "    else:\n",
    "        out=first+' '+second\n",
    "    return out\n",
    "mu=people_name('hel','get')\n",
    "cou=people_name('ge','eg','he')\n",
    "print(mu)\n",
    "print(cou)"
   ]
  },
  {
   "cell_type": "code",
   "execution_count": 45,
   "id": "bef7adc1",
   "metadata": {},
   "outputs": [],
   "source": [
    "# 4.函数可以返回任何类型的值\n",
    "# 5.在函数中修改列表是永久性的\n",
    "# 6.传递列表的副本防止列表被修改"
   ]
  },
  {
   "cell_type": "code",
   "execution_count": 46,
   "id": "6454ed7c",
   "metadata": {
    "collapsed": true,
    "jupyter": {
     "outputs_hidden": true
    }
   },
   "outputs": [
    {
     "name": "stdout",
     "output_type": "stream",
     "text": [
      "tian\n",
      "dei\n"
     ]
    }
   ],
   "source": [
    "# 7.任意数量的实参*name生成一个元组\n",
    "# 在多个形参的时候，必须放在最后\n",
    "def dog_name(*name):\n",
    "    for n_name in name:\n",
    "        print(n_name)\n",
    "dog_name('tian','dei')\n",
    "# 8.**name生成一个字典"
   ]
  },
  {
   "cell_type": "code",
   "execution_count": 135,
   "id": "f04dee94",
   "metadata": {},
   "outputs": [
    {
     "name": "stdout",
     "output_type": "stream",
     "text": [
      "100\n",
      "200\n"
     ]
    }
   ],
   "source": [
    "# 拆包\n",
    "# 1. 拆包元组数据\n",
    "def return_num():\n",
    "    return 100, 200\n",
    "    \n",
    "num1, num2 = return_num()\n",
    "print(num1)\n",
    "print(num2)"
   ]
  },
  {
   "cell_type": "code",
   "execution_count": 136,
   "id": "c981ae7e",
   "metadata": {},
   "outputs": [
    {
     "name": "stdout",
     "output_type": "stream",
     "text": [
      "name\n",
      "age\n",
      "TOM\n",
      "20\n"
     ]
    }
   ],
   "source": [
    "# 2. 字典数据拆包: 变量存储的数据是key值\n",
    "# 先准备字典，然后拆包\n",
    "dict1 = {'name': 'TOM', 'age': 20}\n",
    "# dict1中有两个键值对，拆包的时候用两个变量接收数据\n",
    "a, b = dict1\n",
    "print(a)\n",
    "print(b)\n",
    "\n",
    "# v值\n",
    "print(dict1[a])\n",
    "print(dict1[b])"
   ]
  },
  {
   "cell_type": "code",
   "execution_count": 47,
   "id": "ef2169ca",
   "metadata": {
    "collapsed": true,
    "jupyter": {
     "outputs_hidden": true
    }
   },
   "outputs": [
    {
     "data": {
      "text/plain": [
       "'\\nas用于起别名\\nfrom a import*表示导入所有的函数\\n'"
      ]
     },
     "execution_count": 47,
     "metadata": {},
     "output_type": "execute_result"
    }
   ],
   "source": [
    "# 9.导入模块\n",
    "'''\n",
    "as用于起别名\n",
    "from a import*表示导入所有的函数\n",
    "'''"
   ]
  },
  {
   "cell_type": "markdown",
   "id": "f47fa200",
   "metadata": {},
   "source": [
    "### 函数参数2"
   ]
  },
  {
   "cell_type": "code",
   "execution_count": 1,
   "id": "5c475054",
   "metadata": {},
   "outputs": [
    {
     "name": "stdout",
     "output_type": "stream",
     "text": [
      "100\n"
     ]
    }
   ],
   "source": [
    "# 1局部变量\n",
    "def testA():\n",
    "    a = 100\n",
    "    print(a)  # 函数体内部访问，能访问到a变量\n",
    "\n",
    "testA()\n",
    "# print(a)  # 报错： a变量是函数内部的变量，函数外部无法访问 -- a是一个局部变量"
   ]
  },
  {
   "cell_type": "code",
   "execution_count": 2,
   "id": "204dd3aa",
   "metadata": {},
   "outputs": [
    {
     "name": "stdout",
     "output_type": "stream",
     "text": [
      "100\n",
      "100\n",
      "100\n"
     ]
    }
   ],
   "source": [
    "# 2.全局变量\n",
    "a = 100\n",
    "print(a)\n",
    "\n",
    "def testA():\n",
    "    print(a)\n",
    "\n",
    "def testB():\n",
    "    print(a)\n",
    "testA()\n",
    "testB()"
   ]
  },
  {
   "cell_type": "code",
   "execution_count": 3,
   "id": "0b3aa57c",
   "metadata": {},
   "outputs": [
    {
     "name": "stdout",
     "output_type": "stream",
     "text": [
      "100\n",
      "100\n",
      "200\n",
      "200\n"
     ]
    },
    {
     "data": {
      "text/plain": [
       "'\\n总结：\\n    1. 如果在函数里面直接把变量a=200赋值，此时的a不是全局变量的修改，而是相当于在函数内部声明了一个新的局部变量\\n    2. 函数体内部修改全局变量： 先global声明a为全局变量，然后再变量重新赋值\\n'"
      ]
     },
     "execution_count": 3,
     "metadata": {},
     "output_type": "execute_result"
    }
   ],
   "source": [
    "# 3.修改全局变量\n",
    "a = 100\n",
    "print(a)\n",
    "\n",
    "def testA():\n",
    "    print(a)\n",
    "\n",
    "def testB():\n",
    "    # a = 200  # 如果直接修改a=200，此时的a是全局a还是局部a？ -- 得到结论：这个a是局部变量\n",
    "    # # 因为在全局位置(B函数调用后)打印a得到的不是200而是100\n",
    "    # print(a)\n",
    "    # 想要修改全局变量a，值是200\n",
    "    global a  # 声明a为全局变量\n",
    "    a = 200\n",
    "    print(a)\n",
    "\n",
    "\n",
    "testA()\n",
    "testB()\n",
    "print(a)\n",
    "\n",
    "\"\"\"\n",
    "总结：\n",
    "    1. 如果在函数里面直接把变量a=200赋值，此时的a不是全局变量的修改，而是相当于在函数内部声明了一个新的局部变量\n",
    "    2. 函数体内部修改全局变量： 先global声明a为全局变量，然后再变量重新赋值\n",
    "\"\"\""
   ]
  },
  {
   "cell_type": "code",
   "execution_count": 5,
   "id": "38527961",
   "metadata": {},
   "outputs": [
    {
     "name": "stdout",
     "output_type": "stream",
     "text": [
      "{'name': 'Python', 'age': 30}\n"
     ]
    }
   ],
   "source": [
    "# 4.多个返回值\n",
    "# 一个函数多个返回值的写法\n",
    "def return_num():\n",
    "    # return 1, 2   # 返回的是元组\n",
    "    # return后面可以直接书写 元组 列表 字典，返回多个值\n",
    "    # return (10, 20)\n",
    "    # return [100, 200]\n",
    "    return {'name': 'Python', 'age': 30}\n",
    "\n",
    "\n",
    "result = return_num()\n",
    "print(result)"
   ]
  },
  {
   "cell_type": "code",
   "execution_count": 6,
   "id": "5df82e21",
   "metadata": {},
   "outputs": [
    {
     "name": "stdout",
     "output_type": "stream",
     "text": [
      "您的姓名是20, 年龄是TOM, 性别是男\n"
     ]
    }
   ],
   "source": [
    "# 5.位置参数\n",
    "def user_info(name, age, gender):\n",
    "    print(f'您的姓名是{name}, 年龄是{age}, 性别是{gender}')\n",
    "\n",
    "\n",
    "# user_info('TOM', 20, '男')\n",
    "# user_info('TOM', 20)  # 个数定义和传入不一致会报错\n",
    "user_info(20, 'TOM', '男')  # 顺序也和定义必须是一致的，否则导致数据无意义"
   ]
  },
  {
   "cell_type": "code",
   "execution_count": 7,
   "id": "2dd17d47",
   "metadata": {},
   "outputs": [
    {
     "name": "stdout",
     "output_type": "stream",
     "text": [
      "您的姓名是ROSE, 年龄是20, 性别是女\n",
      "您的姓名是小明, 年龄是18, 性别是男\n"
     ]
    }
   ],
   "source": [
    "# 6.关键字参数\n",
    "def user_info(name, age, gender):\n",
    "    print(f'您的姓名是{name}, 年龄是{age}, 性别是{gender}')\n",
    "\n",
    "\n",
    "# 调用函数传参\n",
    "user_info('ROSE', age=20, gender='女')\n",
    "user_info('小明', gender='男', age=18)  # 关键字参数之间不分先后顺序\n",
    "# 位置参数必须写在关键字参数的前面\n",
    "# user_info(age=20, gender='男', 'TOM')"
   ]
  },
  {
   "cell_type": "code",
   "execution_count": 8,
   "id": "280727f2",
   "metadata": {},
   "outputs": [
    {
     "name": "stdout",
     "output_type": "stream",
     "text": [
      "您的姓名是TOM, 年龄是18, 性别是男\n",
      "您的姓名是TOM, 年龄是18, 性别是女\n"
     ]
    }
   ],
   "source": [
    "# 7.缺省参数\n",
    "def user_info(name, age, gender='男'):\n",
    "    print(f'您的姓名是{name}, 年龄是{age}, 性别是{gender}')\n",
    "\n",
    "\n",
    "user_info('TOM', 18)  # 没有为缺省参数传值，表示使用默认值\n",
    "user_info('TOM', 18, gender='女')  # 为缺省参数传值，使用这个值，即修改了默认值"
   ]
  },
  {
   "cell_type": "code",
   "execution_count": 9,
   "id": "7105a352",
   "metadata": {},
   "outputs": [
    {
     "name": "stdout",
     "output_type": "stream",
     "text": [
      "('TOM',)\n",
      "('TOM', 20)\n",
      "('TOM', 20, 'man')\n",
      "()\n"
     ]
    }
   ],
   "source": [
    "# 8.不定长参数\n",
    "def user_info(*args):\n",
    "    print(args)\n",
    "\n",
    "user_info('TOM')\n",
    "user_info('TOM', 20)\n",
    "user_info('TOM', 20, 'man')\n",
    "user_info()"
   ]
  },
  {
   "cell_type": "code",
   "execution_count": 10,
   "id": "17600170",
   "metadata": {},
   "outputs": [
    {
     "name": "stdout",
     "output_type": "stream",
     "text": [
      "{}\n",
      "{'name': 'TOM'}\n",
      "{'name': 'TOM', 'age': 20}\n"
     ]
    }
   ],
   "source": [
    "# 9.不定长关键字参数\n",
    "def user_info(**kwargs):\n",
    "    print(kwargs)\n",
    "\n",
    "\n",
    "user_info()\n",
    "user_info(name='TOM')\n",
    "user_info(name='TOM', age=20)"
   ]
  },
  {
   "cell_type": "code",
   "execution_count": 11,
   "id": "7c598377",
   "metadata": {},
   "outputs": [
    {
     "name": "stdout",
     "output_type": "stream",
     "text": [
      "100\n",
      "1900254483920\n",
      "200\n",
      "1900254487184\n",
      "[11, 22]\n",
      "1900391500864\n",
      "[11, 22, 11, 22]\n",
      "1900391500864\n"
     ]
    }
   ],
   "source": [
    "# 10.可变和不可变类型\n",
    "# b不可变，数据被复制，c可变，直接在原来位置进行更改\n",
    "def test1(a):\n",
    "    print(a)\n",
    "    print(id(a))\n",
    "\n",
    "    a += a\n",
    "    print(a)\n",
    "    print(id(a))\n",
    "\n",
    "\n",
    "b = 100\n",
    "test1(b)\n",
    "\n",
    "\n",
    "c = [11, 22]\n",
    "test1(c)"
   ]
  },
  {
   "cell_type": "code",
   "execution_count": 1,
   "id": "0598c520",
   "metadata": {},
   "outputs": [
    {
     "name": "stdout",
     "output_type": "stream",
     "text": [
      "6\n"
     ]
    }
   ],
   "source": [
    "# 11.函数递归\n",
    "# 递归特点：函数内部自己调用自己；必须有出口\n",
    "def sum_numbers(num):\n",
    "    # 2. 出口\n",
    "    if num == 1:\n",
    "        return 1\n",
    "    # 1. 当前数字 + 当前数字-1的累加和\n",
    "    return num + sum_numbers(num-1)\n",
    "\n",
    "result = sum_numbers(3)\n",
    "print(result)"
   ]
  },
  {
   "cell_type": "markdown",
   "id": "62b52f5b",
   "metadata": {},
   "source": [
    "### lambda函数"
   ]
  },
  {
   "cell_type": "code",
   "execution_count": 2,
   "id": "17c3b56b",
   "metadata": {},
   "outputs": [
    {
     "name": "stdout",
     "output_type": "stream",
     "text": [
      "<function <lambda> at 0x00000231E9160430>\n",
      "100\n"
     ]
    }
   ],
   "source": [
    "# 1.lambda  匿名函数\n",
    "# lambda 参数列表: 表达式\n",
    "fn2 = lambda: 100\n",
    "print(fn2)  # lambda内存地址\n",
    "\n",
    "# 100返回值 调用函数\n",
    "print(fn2())"
   ]
  },
  {
   "cell_type": "code",
   "execution_count": 3,
   "id": "3ed8426f",
   "metadata": {},
   "outputs": [
    {
     "name": "stdout",
     "output_type": "stream",
     "text": [
      "5\n"
     ]
    }
   ],
   "source": [
    "# 2.lambda使用\n",
    "fn1 = lambda a, b: a + b\n",
    "print(fn1(2, 3))"
   ]
  },
  {
   "cell_type": "code",
   "execution_count": 4,
   "id": "4d0a3748",
   "metadata": {},
   "outputs": [
    {
     "name": "stdout",
     "output_type": "stream",
     "text": [
      "hello world\n"
     ]
    }
   ],
   "source": [
    "# 3.个参数\n",
    "fn2 = lambda a: a\n",
    "print(fn2('hello world'))"
   ]
  },
  {
   "cell_type": "code",
   "execution_count": 5,
   "id": "aaf0a5ff",
   "metadata": {},
   "outputs": [
    {
     "name": "stdout",
     "output_type": "stream",
     "text": [
      "130\n",
      "230\n"
     ]
    }
   ],
   "source": [
    "# 3.默认参数/缺省参数\n",
    "fn3 = lambda a, b, c=100: a + b + c\n",
    "print(fn3(10, 20))\n",
    "print(fn3(10, 20, 200))"
   ]
  },
  {
   "cell_type": "code",
   "execution_count": 6,
   "id": "d752e6a4",
   "metadata": {},
   "outputs": [
    {
     "name": "stdout",
     "output_type": "stream",
     "text": [
      "(10, 20)\n",
      "(10, 20, 30, 40)\n",
      "(10,)\n"
     ]
    }
   ],
   "source": [
    "# 4. 可变参数：*args\n",
    "fn4 = lambda *args: args\n",
    "print(fn4(10, 20))\n",
    "print(fn4(10, 20, 30, 40))\n",
    "print(fn4(10))"
   ]
  },
  {
   "cell_type": "code",
   "execution_count": 7,
   "id": "cc6ca186",
   "metadata": {},
   "outputs": [
    {
     "name": "stdout",
     "output_type": "stream",
     "text": [
      "{'name': 'Python'}\n",
      "{'name': 'Python', 'age': 30}\n"
     ]
    }
   ],
   "source": [
    "# 5. 可变参数：**kwargs\n",
    "fn5 = lambda **kwargs: kwargs\n",
    "print(fn5(name='Python'))\n",
    "print(fn5(name='Python', age=30))"
   ]
  },
  {
   "cell_type": "code",
   "execution_count": 8,
   "id": "6e742dfd",
   "metadata": {},
   "outputs": [
    {
     "name": "stdout",
     "output_type": "stream",
     "text": [
      "1000\n"
     ]
    }
   ],
   "source": [
    "# 6.带判断的lambda\n",
    "# lambda 两个数字比大小，谁大返回谁\n",
    "fn1 = lambda a, b: a if a > b else b\n",
    "print(fn1(1000, 500))"
   ]
  },
  {
   "cell_type": "code",
   "execution_count": 9,
   "id": "e9856e84",
   "metadata": {},
   "outputs": [
    {
     "name": "stdout",
     "output_type": "stream",
     "text": [
      "[{'name': 'Jack', 'age': 22}, {'name': 'ROSE', 'age': 19}, {'name': 'TOM', 'age': 20}]\n",
      "[{'name': 'TOM', 'age': 20}, {'name': 'ROSE', 'age': 19}, {'name': 'Jack', 'age': 22}]\n",
      "[{'name': 'ROSE', 'age': 19}, {'name': 'TOM', 'age': 20}, {'name': 'Jack', 'age': 22}]\n"
     ]
    }
   ],
   "source": [
    "# 7.案例：列表数据排序\n",
    "students = [\n",
    "    {'name': 'TOM', 'age': 20},\n",
    "    {'name': 'ROSE', 'age': 19},\n",
    "    {'name': 'Jack', 'age': 22}\n",
    "]\n",
    "\n",
    "# sort(key=lambda..., reverse=bool数据)\n",
    "# 1. name key对应的值进行升序排序\n",
    "students.sort(key=lambda x: x['name'])\n",
    "print(students)\n",
    "\n",
    "# 2. name key对应的值进行降序排序\n",
    "students.sort(key=lambda x: x['name'], reverse=True)\n",
    "print(students)\n",
    "\n",
    "# 3. age key对应的值进行升序排序\n",
    "students.sort(key=lambda x: x['age'])\n",
    "print(students)"
   ]
  },
  {
   "cell_type": "markdown",
   "id": "50704761",
   "metadata": {},
   "source": [
    "### 库函数"
   ]
  },
  {
   "cell_type": "code",
   "execution_count": 10,
   "id": "47dfcd35",
   "metadata": {},
   "outputs": [
    {
     "name": "stdout",
     "output_type": "stream",
     "text": [
      "10\n"
     ]
    }
   ],
   "source": [
    "# 1.abs(): 绝对值\n",
    "print(abs(-10))"
   ]
  },
  {
   "cell_type": "code",
   "execution_count": 11,
   "id": "03c66af6",
   "metadata": {},
   "outputs": [
    {
     "name": "stdout",
     "output_type": "stream",
     "text": [
      "1\n",
      "2\n"
     ]
    }
   ],
   "source": [
    "# 2.round()： 四舍五入\n",
    "print(round(1.2))\n",
    "print(round(1.9))"
   ]
  },
  {
   "cell_type": "code",
   "execution_count": 12,
   "id": "164313d6",
   "metadata": {},
   "outputs": [
    {
     "name": "stdout",
     "output_type": "stream",
     "text": [
      "6\n",
      "2\n"
     ]
    }
   ],
   "source": [
    "# 3.高阶函数:f是第三个参数，用来接收将来传入的函数\n",
    "def sum_num(a, b, f):\n",
    "    return f(a) + f(b)\n",
    "\n",
    "result1 = sum_num(-1, 5, abs)\n",
    "print(result1)\n",
    "\n",
    "result2 = sum_num(1.1, 1.3, round)\n",
    "print(result2)"
   ]
  },
  {
   "cell_type": "code",
   "execution_count": 13,
   "id": "0edbb7dc",
   "metadata": {},
   "outputs": [
    {
     "name": "stdout",
     "output_type": "stream",
     "text": [
      "<map object at 0x00000231E6F99F10>\n",
      "[1, 4, 9, 16, 25]\n"
     ]
    }
   ],
   "source": [
    "# 4.map函数\n",
    "# 1. 准备列表数据\n",
    "list1 = [1, 2, 3, 4, 5]\n",
    "\n",
    "# 2. 准备2次方计算的函数\n",
    "def func(x):\n",
    "    return x ** 2\n",
    "\n",
    "# 3. 调用map\n",
    "result = map(func, list1)\n",
    "\n",
    "# 4. 验收成果\n",
    "print(result)\n",
    "print(list(result))"
   ]
  },
  {
   "cell_type": "code",
   "execution_count": 14,
   "id": "7ed6dea0",
   "metadata": {},
   "outputs": [
    {
     "name": "stdout",
     "output_type": "stream",
     "text": [
      "15\n"
     ]
    }
   ],
   "source": [
    "# 5.reduce函数\n",
    "list1 = [1, 2, 3, 4, 5]\n",
    "# 1. 导入模块\n",
    "import functools\n",
    "\n",
    "# 2. 定义功能函数\n",
    "def func(a, b):\n",
    "    return a + b\n",
    "\n",
    "# 3. 调用reduce，作用：功能函数计算的结果和序列的下一个数据做累计计算\n",
    "result = functools.reduce(func, list1)\n",
    "print(result)"
   ]
  },
  {
   "cell_type": "code",
   "execution_count": 15,
   "id": "be564deb",
   "metadata": {},
   "outputs": [
    {
     "name": "stdout",
     "output_type": "stream",
     "text": [
      "<filter object at 0x00000231E6F99850>\n",
      "[2, 4, 6, 8, 10]\n"
     ]
    }
   ],
   "source": [
    "# 6.filter函数\n",
    "list1 = [1, 2, 3, 4, 5, 6, 7, 8, 9, 10]\n",
    "\n",
    "# 1. 定义功能函数：过滤序列中的偶数\n",
    "def func(x):\n",
    "    return x % 2 == 0\n",
    "\n",
    "# 2. 调用filter\n",
    "result = filter(func, list1)\n",
    "print(result)\n",
    "\n",
    "print(list(result))"
   ]
  },
  {
   "attachments": {},
   "cell_type": "markdown",
   "id": "c46e8b5f",
   "metadata": {
    "heading_collapsed": true
   },
   "source": [
    "## 类"
   ]
  },
  {
   "cell_type": "markdown",
   "id": "86ac2eff",
   "metadata": {},
   "source": [
    "### 面向对象基础"
   ]
  },
  {
   "cell_type": "code",
   "execution_count": 29,
   "id": "dca99fe9",
   "metadata": {},
   "outputs": [
    {
     "name": "stdout",
     "output_type": "stream",
     "text": [
      "<__main__.Washer object at 0x00000231E913E0A0>\n",
      "能洗衣服\n"
     ]
    }
   ],
   "source": [
    "# 1.面向对象使用\n",
    "class Washer():\n",
    "    def wash(self):\n",
    "        print('能洗衣服')\n",
    "\n",
    "# 2. 创建对象\n",
    "# 对象名 =  类名()\n",
    "haier = Washer()\n",
    "\n",
    "# 3. 验证成果\n",
    "# 打印haier对象\n",
    "print(haier)\n",
    "\n",
    "# 使用wash功能 -- 实例方法/对象方法 -- 对象名.Wash()\n",
    "haier.wash()"
   ]
  },
  {
   "cell_type": "code",
   "execution_count": 30,
   "id": "a06c487f",
   "metadata": {},
   "outputs": [
    {
     "name": "stdout",
     "output_type": "stream",
     "text": [
      "<__main__.Washer object at 0x00000231E913E8B0>\n",
      "洗衣服\n",
      "<__main__.Washer object at 0x00000231E913E8B0>\n"
     ]
    }
   ],
   "source": [
    "# 2.self的作用\n",
    "class Washer():\n",
    "    def wash(self):\n",
    "        print('洗衣服')\n",
    "        print(self)\n",
    "\n",
    "\n",
    "haier = Washer()\n",
    "print(haier)\n",
    "\n",
    "haier.wash()\n",
    "\n",
    "# 由于打印对象和打印self得到的内存地址相同，所以self指的是调用该函数的对象"
   ]
  },
  {
   "cell_type": "code",
   "execution_count": 31,
   "id": "6fcee314",
   "metadata": {},
   "outputs": [
    {
     "name": "stdout",
     "output_type": "stream",
     "text": [
      "洗衣服\n",
      "<__main__.Washer object at 0x00000231E913E970>\n",
      "洗衣服\n",
      "<__main__.Washer object at 0x00000231E913EDF0>\n"
     ]
    }
   ],
   "source": [
    "# 3.一个类创建多个对象\n",
    "class Washer():\n",
    "    def wash(self):\n",
    "        print('洗衣服')\n",
    "        print(self)\n",
    "\n",
    "\n",
    "haier1 = Washer()\n",
    "haier1.wash()\n",
    "\n",
    "haier2 = Washer()\n",
    "haier2.wash()"
   ]
  },
  {
   "cell_type": "code",
   "execution_count": 32,
   "id": "6ed2bad5",
   "metadata": {},
   "outputs": [
    {
     "name": "stdout",
     "output_type": "stream",
     "text": [
      "洗衣机的宽度是400\n",
      "洗衣机的高度是500\n"
     ]
    }
   ],
   "source": [
    "# 4.类外操作对象\n",
    "class Washer():\n",
    "    def wash(self):\n",
    "        print('洗衣服')\n",
    "\n",
    "\n",
    "haier1 = Washer()\n",
    "\n",
    "# 添加属性  对象名.属性名 = 值\n",
    "haier1.width = 400\n",
    "haier1.height = 500\n",
    "\n",
    "# 获取属性 对象名.属性名\n",
    "print(f'洗衣机的宽度是{haier1.width}')\n",
    "print(f'洗衣机的高度是{haier1.height}')"
   ]
  },
  {
   "cell_type": "code",
   "execution_count": 33,
   "id": "ba972a65",
   "metadata": {},
   "outputs": [
    {
     "name": "stdout",
     "output_type": "stream",
     "text": [
      "洗衣机的宽度是400\n",
      "洗衣机的高度是500\n"
     ]
    }
   ],
   "source": [
    "# 5.获取类内的属性\n",
    "class Washer():\n",
    "    def wash(self):\n",
    "        print('洗衣服')\n",
    "\n",
    "    # 获取实例属性\n",
    "    def print_info(self):\n",
    "        # self.属性名\n",
    "        # print(self.width)\n",
    "        print(f'洗衣机的宽度是{self.width}')\n",
    "        print(f'洗衣机的高度是{self.height}')\n",
    "\n",
    "\n",
    "haier1 = Washer()\n",
    "\n",
    "# 添加属性\n",
    "haier1.width = 400\n",
    "haier1.height = 500\n",
    "\n",
    "# 对象调用实例方法\n",
    "haier1.print_info()"
   ]
  },
  {
   "cell_type": "code",
   "execution_count": 34,
   "id": "47db1743",
   "metadata": {},
   "outputs": [
    {
     "name": "stdout",
     "output_type": "stream",
     "text": [
      "洗衣机的宽度是500\n",
      "洗衣机的高度是800\n"
     ]
    }
   ],
   "source": [
    "# 6.__init__方法\n",
    "class Washer():\n",
    "    def __init__(self):\n",
    "        # 添加实例属性\n",
    "        self.width = 500\n",
    "        self.height = 800\n",
    "\n",
    "    def print_info(self):\n",
    "        print(f'洗衣机的宽度是{self.width}')\n",
    "        print(f'洗衣机的高度是{self.height}')\n",
    "\n",
    "\n",
    "haier = Washer()\n",
    "\n",
    "haier.print_info()"
   ]
  },
  {
   "cell_type": "code",
   "execution_count": 35,
   "id": "e29aa317",
   "metadata": {},
   "outputs": [
    {
     "name": "stdout",
     "output_type": "stream",
     "text": [
      "洗衣机的宽度是10, 洗衣机的高度是20\n",
      "洗衣机的宽度是100, 洗衣机的高度是200\n"
     ]
    }
   ],
   "source": [
    "# 7.定义类：带参数的init：宽度和高度； 实例方法：调用实例属性\n",
    "class Washer():\n",
    "    def __init__(self, width, height):\n",
    "        self.width = width\n",
    "        self.height = height\n",
    "\n",
    "    def print_info(self):\n",
    "        print(f'洗衣机的宽度是{self.width}, 洗衣机的高度是{self.height}')\n",
    "\n",
    "\n",
    "# 2. 创建对象，创建多个对象且属性值不同；调用实例方法\n",
    "haier1 = Washer(10, 20)\n",
    "haier1.print_info()\n",
    "\n",
    "haier2 = Washer(100, 200)\n",
    "haier2.print_info()"
   ]
  },
  {
   "cell_type": "code",
   "execution_count": 36,
   "id": "930cf2d8",
   "metadata": {},
   "outputs": [
    {
     "name": "stdout",
     "output_type": "stream",
     "text": [
      "解释说明：类的说明或对象状态的说明\n"
     ]
    }
   ],
   "source": [
    "# 8.__str__方法：输出返回str中内容\n",
    "class Washer():\n",
    "    def __init__(self):\n",
    "        self.width = 300\n",
    "\n",
    "    def __str__(self):\n",
    "        return '解释说明：类的说明或对象状态的说明'\n",
    "\n",
    "\n",
    "haier = Washer()\n",
    "print(haier)"
   ]
  },
  {
   "cell_type": "code",
   "execution_count": 38,
   "id": "9a292748",
   "metadata": {},
   "outputs": [
    {
     "name": "stdout",
     "output_type": "stream",
     "text": [
      "对象已经删除\n",
      "<__main__.Washer object at 0x00000231E913ECD0>\n"
     ]
    }
   ],
   "source": [
    "# 9.__del__方法\n",
    "class Washer():\n",
    "    def __init__(self):\n",
    "        self.width = 300\n",
    "\n",
    "    def __del__(self):\n",
    "        print('对象已经删除')\n",
    "\n",
    "\n",
    "haier = Washer()\n",
    "print(haier)"
   ]
  },
  {
   "cell_type": "markdown",
   "id": "74cb6538",
   "metadata": {},
   "source": [
    "### 面向对象继承"
   ]
  },
  {
   "cell_type": "code",
   "execution_count": 39,
   "id": "c7f6012c",
   "metadata": {},
   "outputs": [
    {
     "name": "stdout",
     "output_type": "stream",
     "text": [
      "1\n"
     ]
    }
   ],
   "source": [
    "# 1.继承体验\n",
    "# 继承：子类默认继承父类的所有属性和方法\n",
    "# 1. 定义父类\n",
    "class A(object):\n",
    "    def __init__(self):\n",
    "        self.num = 1\n",
    "\n",
    "    def info_print(self):\n",
    "        print(self.num)\n",
    "\n",
    "# 2. 定义子类 继承父类\n",
    "class B(A):\n",
    "    pass\n",
    "\n",
    "# 3. 创建对象，验证结论\n",
    "result = B()\n",
    "result.info_print()"
   ]
  },
  {
   "cell_type": "code",
   "execution_count": 40,
   "id": "dc25235b",
   "metadata": {},
   "outputs": [
    {
     "name": "stdout",
     "output_type": "stream",
     "text": [
      "[古法煎饼果子配方]\n",
      "运用[古法煎饼果子配方]制作煎饼果子\n"
     ]
    }
   ],
   "source": [
    "# 2.单继承\n",
    "# 1. 师父类，属性和方法\n",
    "class Master(object):\n",
    "    def __init__(self):\n",
    "        self.kongfu = '[古法煎饼果子配方]'\n",
    "\n",
    "    def make_cake(self):\n",
    "        print(f'运用{self.kongfu}制作煎饼果子')\n",
    "\n",
    "# 2. 定义徒弟类，继承师父类\n",
    "class Prentice(Master):\n",
    "    pass\n",
    "\n",
    "# 3. 用徒弟类创建对象，调用实例属性和方法\n",
    "daqiu = Prentice()\n",
    "print(daqiu.kongfu)\n",
    "daqiu.make_cake()"
   ]
  },
  {
   "cell_type": "code",
   "execution_count": 41,
   "id": "13a90626",
   "metadata": {},
   "outputs": [
    {
     "name": "stdout",
     "output_type": "stream",
     "text": [
      "[黑马煎饼果子配方]\n",
      "运用[黑马煎饼果子配方]制作煎饼果子\n"
     ]
    }
   ],
   "source": [
    "# 3.多继承\n",
    "# 1. 师父类，属性和方法\n",
    "class Master(object):\n",
    "    def __init__(self):\n",
    "        self.kongfu = '[古法煎饼果子配方]'\n",
    "\n",
    "    def make_cake(self):\n",
    "        print(f'运用{self.kongfu}制作煎饼果子')\n",
    "\n",
    "\n",
    "# 为了验证多继承，添加School父类\n",
    "class School(object):\n",
    "    def __init__(self):\n",
    "        self.kongfu = '[黑马煎饼果子配方]'\n",
    "\n",
    "    def make_cake(self):\n",
    "        print(f'运用{self.kongfu}制作煎饼果子')\n",
    "\n",
    "\n",
    "# 2. 定义徒弟类，继承师父类 和 学校类\n",
    "class Prentice(School, Master):\n",
    "    pass\n",
    "\n",
    "\n",
    "# 3. 用徒弟类创建对象，调用实例属性和方法\n",
    "daqiu = Prentice()\n",
    "print(daqiu.kongfu)\n",
    "daqiu.make_cake()\n",
    "\n",
    "# 结论：如果一个类继承多个父类，优先继承第一个父类的同名属性和方法"
   ]
  },
  {
   "cell_type": "code",
   "execution_count": 42,
   "id": "c22f3e88",
   "metadata": {},
   "outputs": [
    {
     "name": "stdout",
     "output_type": "stream",
     "text": [
      "[独创煎饼果子技术]\n",
      "运用[独创煎饼果子技术]制作煎饼果子\n"
     ]
    }
   ],
   "source": [
    "# 4.子类重写父类\n",
    "# 1. 师父类，属性和方法\n",
    "class Master(object):\n",
    "    def __init__(self):\n",
    "        self.kongfu = '[古法煎饼果子配方]'\n",
    "\n",
    "    def make_cake(self):\n",
    "        print(f'运用{self.kongfu}制作煎饼果子')\n",
    "\n",
    "\n",
    "# 为了验证多继承，添加School父类\n",
    "class School(object):\n",
    "    def __init__(self):\n",
    "        self.kongfu = '[黑马煎饼果子配方]'\n",
    "\n",
    "    def make_cake(self):\n",
    "        print(f'运用{self.kongfu}制作煎饼果子')\n",
    "\n",
    "\n",
    "# 2. 定义徒弟类，继承师父类 和 学校类， 添加和父类同名的属性和方法\n",
    "class Prentice(School, Master):\n",
    "    def __init__(self):\n",
    "        self.kongfu = '[独创煎饼果子技术]'\n",
    "\n",
    "    def make_cake(self):\n",
    "        print(f'运用{self.kongfu}制作煎饼果子')\n",
    "\n",
    "\n",
    "# 3. 用徒弟类创建对象，调用实例属性和方法\n",
    "daqiu = Prentice()\n",
    "print(daqiu.kongfu)\n",
    "daqiu.make_cake()\n",
    "\n",
    "# 结论：如果子类和父类拥有同名属性和方法，子类创建对象调用属性和方法的时候，调用到的是子类里面的同名属性和方法"
   ]
  },
  {
   "cell_type": "code",
   "execution_count": 43,
   "id": "b217dba2",
   "metadata": {},
   "outputs": [
    {
     "name": "stdout",
     "output_type": "stream",
     "text": [
      "[独创煎饼果子技术]\n",
      "运用[独创煎饼果子技术]制作煎饼果子\n",
      "(<class '__main__.Prentice'>, <class '__main__.Master'>, <class 'object'>)\n"
     ]
    }
   ],
   "source": [
    "# 5.__mro__:查看子类继承\n",
    "# 1. 师父类，属性和方法\n",
    "class Master(object):\n",
    "    def __init__(self):\n",
    "        self.kongfu = '[古法煎饼果子配方]'\n",
    "\n",
    "    def make_cake(self):\n",
    "        print(f'运用{self.kongfu}制作煎饼果子')\n",
    "\n",
    "\n",
    "# 2. 定义徒弟类，继承师父类 和 学校类， 添加和父类同名的属性和方法\n",
    "class Prentice(Master):\n",
    "    def __init__(self):\n",
    "        self.kongfu = '[独创煎饼果子技术]'\n",
    "\n",
    "    def make_cake(self):\n",
    "        print(f'运用{self.kongfu}制作煎饼果子')\n",
    "\n",
    "\n",
    "# 3. 用徒弟类创建对象，调用实例属性和方法\n",
    "daqiu = Prentice()\n",
    "print(daqiu.kongfu)\n",
    "daqiu.make_cake()\n",
    "print(Prentice.__mro__)\n"
   ]
  },
  {
   "cell_type": "code",
   "execution_count": 44,
   "id": "adbce2bf",
   "metadata": {},
   "outputs": [
    {
     "name": "stdout",
     "output_type": "stream",
     "text": [
      "运用[独创煎饼果子技术]制作煎饼果子\n",
      "运用[古法煎饼果子配方]制作煎饼果子\n",
      "运用[黑马煎饼果子配方]制作煎饼果子\n",
      "运用[独创煎饼果子技术]制作煎饼果子\n"
     ]
    }
   ],
   "source": [
    "# 6.调用父类同名的属性和方法\n",
    "# 1. 师父类，属性和方法\n",
    "class Master(object):\n",
    "    def __init__(self):\n",
    "        self.kongfu = '[古法煎饼果子配方]'\n",
    "\n",
    "    def make_cake(self):\n",
    "        print(f'运用{self.kongfu}制作煎饼果子')\n",
    "\n",
    "\n",
    "# 为了验证多继承，添加School父类\n",
    "class School(object):\n",
    "    def __init__(self):\n",
    "        self.kongfu = '[黑马煎饼果子配方]'\n",
    "\n",
    "    def make_cake(self):\n",
    "        print(f'运用{self.kongfu}制作煎饼果子')\n",
    "\n",
    "\n",
    "# 2. 定义徒弟类，继承师父类 和 学校类， 添加和父类同名的属性和方法\n",
    "class Prentice(School, Master):\n",
    "    def __init__(self):\n",
    "        self.kongfu = '[独创煎饼果子技术]'\n",
    "\n",
    "    def make_cake(self):\n",
    "        # 加自己的初始化的原因：如果不加这个自己的初始化，kongfu属性值是上一次调用的init内的kongfu属性值\n",
    "        self.__init__()\n",
    "        print(f'运用{self.kongfu}制作煎饼果子')\n",
    "\n",
    "    # 子类调用父类的同名方法和属性：把父类的同名属性和方法再次封装\n",
    "    def make_master_cake(self):\n",
    "        # 父类类名.函数()\n",
    "        # 再次调用初始化的原因：这里想要调用父类的同名方法和属性，属性在init初始化位置，所以需要再次调用init\n",
    "        Master.__init__(self)\n",
    "        Master.make_cake(self)\n",
    "\n",
    "    def make_school_cake(self):\n",
    "        School.__init__(self)\n",
    "        School.make_cake(self)\n",
    "\n",
    "\n",
    "# 3. 用徒弟类创建对象，调用实例属性和方法\n",
    "daqiu = Prentice()\n",
    "daqiu.make_cake()\n",
    "daqiu.make_master_cake()\n",
    "daqiu.make_school_cake()\n",
    "daqiu.make_cake()"
   ]
  },
  {
   "cell_type": "code",
   "execution_count": 45,
   "id": "20b3a552",
   "metadata": {},
   "outputs": [
    {
     "name": "stdout",
     "output_type": "stream",
     "text": [
      "运用[独创煎饼果子技术]制作煎饼果子\n",
      "运用[古法煎饼果子配方]制作煎饼果子\n",
      "运用[黑马煎饼果子配方]制作煎饼果子\n"
     ]
    }
   ],
   "source": [
    "# 7.多层继承\n",
    "# 1. 师父类，属性和方法\n",
    "class Master(object):\n",
    "    def __init__(self):\n",
    "        self.kongfu = '[古法煎饼果子配方]'\n",
    "\n",
    "    def make_cake(self):\n",
    "        print(f'运用{self.kongfu}制作煎饼果子')\n",
    "\n",
    "\n",
    "# 为了验证多继承，添加School父类\n",
    "class School(object):\n",
    "    def __init__(self):\n",
    "        self.kongfu = '[黑马煎饼果子配方]'\n",
    "\n",
    "    def make_cake(self):\n",
    "        print(f'运用{self.kongfu}制作煎饼果子')\n",
    "\n",
    "\n",
    "# 2. 定义徒弟类，继承师父类 和 学校类， 添加和父类同名的属性和方法\n",
    "class Prentice(School, Master):\n",
    "    def __init__(self):\n",
    "        self.kongfu = '[独创煎饼果子技术]'\n",
    "\n",
    "    def make_cake(self):\n",
    "        self.__init__()\n",
    "        print(f'运用{self.kongfu}制作煎饼果子')\n",
    "\n",
    "    # 子类调用父类的同名方法和属性：把父类的同名属性和方法再次封装\n",
    "    def make_master_cake(self):\n",
    "        Master.__init__(self)\n",
    "        Master.make_cake(self)\n",
    "\n",
    "    def make_school_cake(self):\n",
    "        School.__init__(self)\n",
    "        School.make_cake(self)\n",
    "\n",
    "# 步骤：1. 创建类Tusun， 用这个类创建对象；2. 用这个对象调用父类的属性或方法看能否成功\n",
    "class Tusun(Prentice):\n",
    "    pass\n",
    "\n",
    "xiaoqiu = Tusun()\n",
    "xiaoqiu.make_cake()\n",
    "xiaoqiu.make_master_cake()\n",
    "xiaoqiu.make_school_cake()"
   ]
  },
  {
   "cell_type": "code",
   "execution_count": 46,
   "id": "2153f4e5",
   "metadata": {},
   "outputs": [
    {
     "name": "stdout",
     "output_type": "stream",
     "text": [
      "运用[黑马煎饼果子配方]制作煎饼果子\n",
      "运用[古法煎饼果子配方]制作煎饼果子\n"
     ]
    }
   ],
   "source": [
    "# 8.super方法\n",
    "class Master(object):\n",
    "    def __init__(self):\n",
    "        self.kongfu = '[古法煎饼果子配方]'\n",
    "\n",
    "    def make_cake(self):\n",
    "        print(f'运用{self.kongfu}制作煎饼果子')\n",
    "\n",
    "\n",
    "class School(Master):\n",
    "    def __init__(self):\n",
    "        self.kongfu = '[黑马煎饼果子配方]'\n",
    "\n",
    "    def make_cake(self):\n",
    "        print(f'运用{self.kongfu}制作煎饼果子')\n",
    "\n",
    "        # 2.1 super()带参数写法\n",
    "        # super(School, self).__init__()\n",
    "        # super(School, self).make_cake()\n",
    "\n",
    "        # 2.2 无参数的super\n",
    "        super().__init__()\n",
    "        super().make_cake()\n",
    "\n",
    "\n",
    "class Prentice(School):\n",
    "    def __init__(self):\n",
    "        self.kongfu = '[独创煎饼果子技术]'\n",
    "\n",
    "    def make_cake(self):\n",
    "        self.__init__()\n",
    "        print(f'运用{self.kongfu}制作煎饼果子')\n",
    "\n",
    "    # 子类调用父类的同名方法和属性：把父类的同名属性和方法再次封装\n",
    "    def make_master_cake(self):\n",
    "        Master.__init__(self)\n",
    "        Master.make_cake(self)\n",
    "\n",
    "    def make_school_cake(self):\n",
    "        School.__init__(self)\n",
    "        School.make_cake(self)\n",
    "\n",
    "    # 需求：一次性调用父类School Master的方法\n",
    "    def make_old_cake(self):\n",
    "        # 方法一：如果定义的类名修改，这里也要修改，麻烦； 代码量庞大，冗余\n",
    "        # School.__init__(self)\n",
    "        # School.make_cake(self)\n",
    "        # Master.__init__(self)\n",
    "        # Master.make_cake(self)\n",
    "\n",
    "        # 方法二：super()\n",
    "        # 2.1 super(当前类名, self).函数()\n",
    "        # super(Prentice, self).__init__()\n",
    "        # super(Prentice, self).make_cake()\n",
    "\n",
    "        # 2.2 无参数super\n",
    "        super().__init__()\n",
    "        super().make_cake()\n",
    "\n",
    "\n",
    "daqiu = Prentice()\n",
    "daqiu.make_old_cake()\n"
   ]
  },
  {
   "cell_type": "code",
   "execution_count": 47,
   "id": "2bd21401",
   "metadata": {},
   "outputs": [
    {
     "ename": "AttributeError",
     "evalue": "'Tusun' object has no attribute '__info_print'",
     "output_type": "error",
     "traceback": [
      "\u001b[1;31m---------------------------------------------------------------------------\u001b[0m",
      "\u001b[1;31mAttributeError\u001b[0m                            Traceback (most recent call last)",
      "\u001b[1;32m~\\AppData\\Local\\Temp\\ipykernel_19216\\860782428.py\u001b[0m in \u001b[0;36m<module>\u001b[1;34m\u001b[0m\n\u001b[0;32m     47\u001b[0m \u001b[1;31m# print(xiaoqiu.money)\u001b[0m\u001b[1;33m\u001b[0m\u001b[1;33m\u001b[0m\u001b[0m\n\u001b[0;32m     48\u001b[0m \u001b[1;31m# print(xiaoqiu.__money)\u001b[0m\u001b[1;33m\u001b[0m\u001b[1;33m\u001b[0m\u001b[0m\n\u001b[1;32m---> 49\u001b[1;33m \u001b[0mxiaoqiu\u001b[0m\u001b[1;33m.\u001b[0m\u001b[0m__info_print\u001b[0m\u001b[1;33m(\u001b[0m\u001b[1;33m)\u001b[0m\u001b[1;33m\u001b[0m\u001b[1;33m\u001b[0m\u001b[0m\n\u001b[0m",
      "\u001b[1;31mAttributeError\u001b[0m: 'Tusun' object has no attribute '__info_print'"
     ]
    }
   ],
   "source": [
    "# 9.私有权限\n",
    "class Master(object):\n",
    "    def __init__(self):\n",
    "        self.kongfu = '[古法煎饼果子配方]'\n",
    "\n",
    "    def make_cake(self):\n",
    "        print(f'运用{self.kongfu}制作煎饼果子')\n",
    "\n",
    "\n",
    "class School(object):\n",
    "    def __init__(self):\n",
    "        self.kongfu = '[黑马煎饼果子配方]'\n",
    "\n",
    "    def make_cake(self):\n",
    "        print(f'运用{self.kongfu}制作煎饼果子')\n",
    "\n",
    "\n",
    "class Prentice(School, Master):\n",
    "    def __init__(self):\n",
    "        self.kongfu = '[独创煎饼果子技术]'\n",
    "        # self.money = 2000000\n",
    "        # 定义私有属性\n",
    "        self.__money = 2000000\n",
    "\n",
    "    # 定义私有方法\n",
    "    def __info_print(self):\n",
    "        print('这是私有方法')\n",
    "\n",
    "    def make_cake(self):\n",
    "        self.__init__()\n",
    "        print(f'运用{self.kongfu}制作煎饼果子')\n",
    "\n",
    "    def make_master_cake(self):\n",
    "        Master.__init__(self)\n",
    "        Master.make_cake(self)\n",
    "\n",
    "    def make_school_cake(self):\n",
    "        School.__init__(self)\n",
    "        School.make_cake(self)\n",
    "\n",
    "\n",
    "class Tusun(Prentice):\n",
    "    pass\n",
    "\n",
    "\n",
    "xiaoqiu = Tusun()\n",
    "# print(xiaoqiu.money)\n",
    "# print(xiaoqiu.__money)\n",
    "xiaoqiu.__info_print()"
   ]
  },
  {
   "cell_type": "code",
   "execution_count": 48,
   "id": "9e73a091",
   "metadata": {},
   "outputs": [
    {
     "name": "stdout",
     "output_type": "stream",
     "text": [
      "2000000\n",
      "500\n"
     ]
    }
   ],
   "source": [
    "# 10.修改私有方法\n",
    "class Master(object):\n",
    "    def __init__(self):\n",
    "        self.kongfu = '[古法煎饼果子配方]'\n",
    "\n",
    "    def make_cake(self):\n",
    "        print(f'运用{self.kongfu}制作煎饼果子')\n",
    "\n",
    "\n",
    "class School(object):\n",
    "    def __init__(self):\n",
    "        self.kongfu = '[黑马煎饼果子配方]'\n",
    "\n",
    "    def make_cake(self):\n",
    "        print(f'运用{self.kongfu}制作煎饼果子')\n",
    "\n",
    "\n",
    "class Prentice(School, Master):\n",
    "    def __init__(self):\n",
    "        self.kongfu = '[独创煎饼果子技术]'\n",
    "        # 定义私有属性\n",
    "        self.__money = 2000000\n",
    "\n",
    "    # 定义函数：获取私有属性值 get_xx\n",
    "    def get_money(self):\n",
    "        return self.__money\n",
    "\n",
    "    # 定义函数：修改私有属性值 set_xx\n",
    "    def set_money(self):\n",
    "        self.__money = 500\n",
    "\n",
    "    # 定义私有方法\n",
    "    def __info_print(self):\n",
    "        print('这是私有方法')\n",
    "\n",
    "    def make_cake(self):\n",
    "        self.__init__()\n",
    "        print(f'运用{self.kongfu}制作煎饼果子')\n",
    "\n",
    "    def make_master_cake(self):\n",
    "        Master.__init__(self)\n",
    "        Master.make_cake(self)\n",
    "\n",
    "    def make_school_cake(self):\n",
    "        School.__init__(self)\n",
    "        School.make_cake(self)\n",
    "\n",
    "\n",
    "class Tusun(Prentice):\n",
    "    pass\n",
    "\n",
    "\n",
    "xiaoqiu = Tusun()\n",
    "\n",
    "print(xiaoqiu.get_money())\n",
    "xiaoqiu.set_money()\n",
    "print(xiaoqiu.get_money())"
   ]
  },
  {
   "cell_type": "markdown",
   "id": "d6e63373",
   "metadata": {},
   "source": [
    "### 面向对象"
   ]
  },
  {
   "cell_type": "code",
   "execution_count": 49,
   "id": "4ec0d40c",
   "metadata": {},
   "outputs": [
    {
     "name": "stdout",
     "output_type": "stream",
     "text": [
      "追击敌人...\n",
      "追查毒品...\n"
     ]
    }
   ],
   "source": [
    "# 1.多态\n",
    "# 1. 定义父类，提供公共方法： 警犬 和 人\n",
    "class Dog(object):\n",
    "    def work(self):\n",
    "        pass\n",
    "\n",
    "\n",
    "# 2. 定义子类，子类重写父类方法：定义2个类表示不同的警犬\n",
    "class ArmyDog(Dog):\n",
    "    def work(self):\n",
    "        print('追击敌人...')\n",
    "\n",
    "\n",
    "class DrugDog(Dog):\n",
    "    def work(self):\n",
    "        print('追查毒品...')\n",
    "\n",
    "\n",
    "# 定义人类\n",
    "class Person(object):\n",
    "    def work_with_dog(self, dog):\n",
    "        dog.work()\n",
    "\n",
    "\n",
    "# 3. 创建对象，调用不同的功能，传入不同的对象，观察执行的结果\n",
    "ad = ArmyDog()\n",
    "dd = DrugDog()\n",
    "\n",
    "daqiu = Person()\n",
    "daqiu.work_with_dog(ad)\n",
    "daqiu.work_with_dog(dd)"
   ]
  },
  {
   "cell_type": "code",
   "execution_count": 50,
   "id": "d4289521",
   "metadata": {},
   "outputs": [
    {
     "name": "stdout",
     "output_type": "stream",
     "text": [
      "10\n",
      "10\n",
      "10\n"
     ]
    }
   ],
   "source": [
    "# 2.设置和访问类属性\n",
    "# 1. 定义类，定义类属性\n",
    "class Dog(object):\n",
    "    tooth = 10\n",
    "\n",
    "\n",
    "# 2. 创建对象\n",
    "wangcai = Dog()\n",
    "xiaohei = Dog()\n",
    "\n",
    "# 3. 访问类属性： 类和对象\n",
    "print(Dog.tooth)\n",
    "print(wangcai.tooth)\n",
    "print(xiaohei.tooth)"
   ]
  },
  {
   "cell_type": "code",
   "execution_count": 51,
   "id": "29c8a4a3",
   "metadata": {},
   "outputs": [
    {
     "name": "stdout",
     "output_type": "stream",
     "text": [
      "10\n"
     ]
    }
   ],
   "source": [
    "# 3.定义类方法\n",
    "# 1. 定义类：私有类属性，类方法获取这个私有类属性\n",
    "class Dog(object):\n",
    "    __tooth = 10\n",
    "\n",
    "    # 定义类方法\n",
    "    @classmethod\n",
    "    def get_tooth(cls):\n",
    "        return cls.__tooth\n",
    "\n",
    "\n",
    "# 2. 创建对象，调用类方法\n",
    "wangcai = Dog()\n",
    "result = wangcai.get_tooth()\n",
    "print(result)"
   ]
  },
  {
   "cell_type": "code",
   "execution_count": 52,
   "id": "91a77089",
   "metadata": {},
   "outputs": [
    {
     "name": "stdout",
     "output_type": "stream",
     "text": [
      "这是一个静态方法\n",
      "这是一个静态方法\n"
     ]
    }
   ],
   "source": [
    "# 4.类静态方法\n",
    "# 1. 定义类，定义静态方法\n",
    "class Dog(object):\n",
    "    @staticmethod\n",
    "    def info_print():\n",
    "        print('这是一个静态方法')\n",
    "\n",
    "# 2. 创建对象\n",
    "wangcai = Dog()\n",
    "# 3. 调用静态方法：类 和 对象\n",
    "wangcai.info_print()\n",
    "Dog.info_print()"
   ]
  },
  {
   "attachments": {},
   "cell_type": "markdown",
   "id": "ba9769d2",
   "metadata": {
    "heading_collapsed": true
   },
   "source": [
    "## 文件和异常"
   ]
  },
  {
   "attachments": {},
   "cell_type": "markdown",
   "id": "0f8ad2af",
   "metadata": {
    "hidden": true
   },
   "source": [
    "### 文件"
   ]
  },
  {
   "cell_type": "code",
   "execution_count": 16,
   "id": "7fe47bed",
   "metadata": {},
   "outputs": [],
   "source": [
    "# 1.文件打开和关闭\n",
    "# 1. 打开 open()\n",
    "f = open('test.txt', 'w')\n",
    "\n",
    "# 2. 读写操作 write() read()\n",
    "f.write('aaa')\n",
    "\n",
    "# 3. 关闭 close()\n",
    "f.close()\n"
   ]
  },
  {
   "cell_type": "code",
   "execution_count": 17,
   "id": "f558a3b7",
   "metadata": {},
   "outputs": [
    {
     "ename": "FileNotFoundError",
     "evalue": "[Errno 2] No such file or directory: 'test1.txt'",
     "output_type": "error",
     "traceback": [
      "\u001b[1;31m---------------------------------------------------------------------------\u001b[0m",
      "\u001b[1;31mFileNotFoundError\u001b[0m                         Traceback (most recent call last)",
      "\u001b[1;32m~\\AppData\\Local\\Temp\\ipykernel_19216\\785873670.py\u001b[0m in \u001b[0;36m<module>\u001b[1;34m\u001b[0m\n\u001b[0;32m      1\u001b[0m \u001b[1;31m# 2.文件访问模式\u001b[0m\u001b[1;33m\u001b[0m\u001b[1;33m\u001b[0m\u001b[0m\n\u001b[0;32m      2\u001b[0m \u001b[1;31m# r: 如果文件不存在，报错；不支持写入操作，表示只读\u001b[0m\u001b[1;33m\u001b[0m\u001b[1;33m\u001b[0m\u001b[0m\n\u001b[1;32m----> 3\u001b[1;33m \u001b[0mf\u001b[0m \u001b[1;33m=\u001b[0m \u001b[0mopen\u001b[0m\u001b[1;33m(\u001b[0m\u001b[1;34m'test1.txt'\u001b[0m\u001b[1;33m,\u001b[0m \u001b[1;34m'r'\u001b[0m\u001b[1;33m)\u001b[0m\u001b[1;33m\u001b[0m\u001b[1;33m\u001b[0m\u001b[0m\n\u001b[0m\u001b[0;32m      4\u001b[0m \u001b[0mf\u001b[0m \u001b[1;33m=\u001b[0m \u001b[0mopen\u001b[0m\u001b[1;33m(\u001b[0m\u001b[1;34m'test.txt'\u001b[0m\u001b[1;33m,\u001b[0m \u001b[1;34m'r'\u001b[0m\u001b[1;33m)\u001b[0m\u001b[1;33m\u001b[0m\u001b[1;33m\u001b[0m\u001b[0m\n\u001b[0;32m      5\u001b[0m \u001b[0mf\u001b[0m\u001b[1;33m.\u001b[0m\u001b[0mwrite\u001b[0m\u001b[1;33m(\u001b[0m\u001b[1;34m'aa'\u001b[0m\u001b[1;33m)\u001b[0m\u001b[1;33m\u001b[0m\u001b[1;33m\u001b[0m\u001b[0m\n",
      "\u001b[1;31mFileNotFoundError\u001b[0m: [Errno 2] No such file or directory: 'test1.txt'"
     ]
    }
   ],
   "source": [
    "# 2.文件访问模式\n",
    "# r: 如果文件不存在，报错；不支持写入操作，表示只读\n",
    "f = open('test1.txt', 'r')\n",
    "f = open('test.txt', 'r')\n",
    "f.write('aa')\n",
    "f.close()\n",
    "\n",
    "# w：只写, 如果文件不存在，新建文件；执行写入，会覆盖原有内容\n",
    "f = open('1.txt', 'w')\n",
    "f.write('bbb')\n",
    "f.close()\n",
    "\n",
    "# a：追加，如果文件不存在，新建文件；在原有内容基础上，追加新内容\n",
    "f = open('2.txt', 'a')\n",
    "f.write('xyz')\n",
    "f.close()\n",
    "\n",
    "# 访问模式参数可以省略, 如果省略表示访问模式为r\n",
    "f = open('1.txt')\n",
    "f.close()"
   ]
  },
  {
   "cell_type": "markdown",
   "id": "7adfeba8",
   "metadata": {},
   "source": [
    "### 读取文件"
   ]
  },
  {
   "cell_type": "code",
   "execution_count": 19,
   "id": "d544cccc",
   "metadata": {
    "collapsed": true,
    "hidden": true,
    "jupyter": {
     "outputs_hidden": true
    }
   },
   "outputs": [
    {
     "name": "stdout",
     "output_type": "stream",
     "text": [
      "aaa\n"
     ]
    }
   ],
   "source": [
    "# 1.打开文件read读取\n",
    "with open('./test.txt') as f:\n",
    "    content=f.read()\n",
    "    print(content)"
   ]
  },
  {
   "cell_type": "code",
   "execution_count": 20,
   "id": "a75127dc",
   "metadata": {},
   "outputs": [
    {
     "name": "stdout",
     "output_type": "stream",
     "text": [
      "aaa\n"
     ]
    }
   ],
   "source": [
    "# 2.打开文件read读取\n",
    "f = open('test.txt', 'r')\n",
    "# 文件内容如果换行，底层有\\n，会有字节占位，导致read书写参数读取出来的眼睛看到的个数和参数值不匹配\n",
    "# read不写参数表示读取所有；\n",
    "print(f.read(10))\n",
    "f.close()"
   ]
  },
  {
   "cell_type": "code",
   "execution_count": 23,
   "id": "ed9a5051",
   "metadata": {
    "collapsed": true,
    "hidden": true,
    "jupyter": {
     "outputs_hidden": true
    }
   },
   "outputs": [
    {
     "name": "stdout",
     "output_type": "stream",
     "text": [
      "aaa\n"
     ]
    }
   ],
   "source": [
    "# 3.逐行读取\n",
    "with open('test.txt', 'r') as f:\n",
    "    for line in f:\n",
    "        print(line.rstrip())"
   ]
  },
  {
   "cell_type": "code",
   "execution_count": 24,
   "id": "8a9ef0ca",
   "metadata": {},
   "outputs": [
    {
     "name": "stdout",
     "output_type": "stream",
     "text": [
      "['aaa']\n"
     ]
    }
   ],
   "source": [
    "# 4.逐行读取\n",
    "f = open('test.txt', 'r')\n",
    "con = f.readlines()\n",
    "print(con)\n",
    "f.close()"
   ]
  },
  {
   "cell_type": "code",
   "execution_count": 26,
   "id": "dc92c5f8",
   "metadata": {
    "collapsed": true,
    "hidden": true,
    "jupyter": {
     "outputs_hidden": true
    }
   },
   "outputs": [
    {
     "name": "stdout",
     "output_type": "stream",
     "text": [
      "['生成算法指的是用于生成新的数据、文本或图像等内容的算法。以下是一些常见的生成算法：\\n', '1. 随机生成算法：这是最简单的生成算法，它基于随机性生成内容。例如，你可以随机生成一系列数字、字符或图形。\\n', '2. 基于规则的生成算法：这类算法根据特定的规则生成内容。例如，你可以编写一个规则，根据输入的条件生成合乎规则的句子或图像。\\n', '3. 统计生成算法：这类算法基于统计模型来生成内容。它们会分析已有的数据，学习其中的模式和规律，然后根据学习到的模型生成新的内容。常见的统计生成算法包括n-gram模型、隐马尔可夫模型和神经网络语言模型等。\\n', '4. 生成对抗网络（GAN）：GAN是一种机器学习算法，由生成器和判别器两个模型组成。生成器试图生成看起来真实的数据，而判别器则试图区分真实数据和生成的数据。通过反复迭代训练，生成器和判别器共同提升，最终生成器可以生成逼真的数据。\\n', '5. 自动编码器：自动编码器是一种神经网络模型，用于将输入数据压缩成更小的表示，然后从这个表示中重构原始数据。自动编码器可以用于生成新数据，通过在压缩表示中进行一些变换，然后将变换后的表示解码为新的数据。\\n', '这些是一些常见的生成算法，每种算法都有其各自的优点和应用场景。在实际应用中，你可以根据具体的需求选择适合的算法。']\n"
     ]
    }
   ],
   "source": [
    "# 5.创建一个包含文件各行的列表readlines()\n",
    "with open('test.txt', 'r') as f:\n",
    "    cont=f.readlines()   \n",
    "print(cont)"
   ]
  },
  {
   "cell_type": "code",
   "execution_count": 27,
   "id": "623d4e0e",
   "metadata": {},
   "outputs": [
    {
     "ename": "FileNotFoundError",
     "evalue": "[Errno 2] No such file or directory: 'test1.txt'",
     "output_type": "error",
     "traceback": [
      "\u001b[1;31m---------------------------------------------------------------------------\u001b[0m",
      "\u001b[1;31mFileNotFoundError\u001b[0m                         Traceback (most recent call last)",
      "\u001b[1;32m~\\AppData\\Local\\Temp\\ipykernel_19216\\1412816392.py\u001b[0m in \u001b[0;36m<module>\u001b[1;34m\u001b[0m\n\u001b[0;32m      6\u001b[0m \"\"\"\n\u001b[0;32m      7\u001b[0m \u001b[1;31m# r+:  r没有该文件则报错; 文件指针在开头，所以能读取出来数据\u001b[0m\u001b[1;33m\u001b[0m\u001b[1;33m\u001b[0m\u001b[0m\n\u001b[1;32m----> 8\u001b[1;33m \u001b[0mf\u001b[0m \u001b[1;33m=\u001b[0m \u001b[0mopen\u001b[0m\u001b[1;33m(\u001b[0m\u001b[1;34m'test1.txt'\u001b[0m\u001b[1;33m,\u001b[0m \u001b[1;34m'r+'\u001b[0m\u001b[1;33m)\u001b[0m\u001b[1;33m\u001b[0m\u001b[1;33m\u001b[0m\u001b[0m\n\u001b[0m\u001b[0;32m      9\u001b[0m \u001b[0mf\u001b[0m \u001b[1;33m=\u001b[0m \u001b[0mopen\u001b[0m\u001b[1;33m(\u001b[0m\u001b[1;34m'test.txt'\u001b[0m\u001b[1;33m,\u001b[0m \u001b[1;34m'r+'\u001b[0m\u001b[1;33m)\u001b[0m\u001b[1;33m\u001b[0m\u001b[1;33m\u001b[0m\u001b[0m\n\u001b[0;32m     10\u001b[0m \u001b[1;33m\u001b[0m\u001b[0m\n",
      "\u001b[1;31mFileNotFoundError\u001b[0m: [Errno 2] No such file or directory: 'test1.txt'"
     ]
    }
   ],
   "source": [
    "# 6.访问模式特点\n",
    "\"\"\"\n",
    "测试目标\n",
    "1. r+ 和 w+ a+ 区别:\n",
    "2. 文件指针对数据读取的影响\n",
    "\"\"\"\n",
    "# r+:  r没有该文件则报错; 文件指针在开头，所以能读取出来数据\n",
    "f = open('test1.txt', 'r+')\n",
    "f = open('test.txt', 'r+')\n",
    "\n",
    "# w+: 没有该文件会新建文件；w特点：文件指针在开头，用新内容覆盖原内容\n",
    "f = open('test1.txt', 'w+')\n",
    "f = open('test.txt', 'w+')\n",
    "\n",
    "# a+:没有该文件会新建文件；文件指针在结尾，无法读取数据(文件指针后面没有数据)\n",
    "f = open('test.txt', 'a+')\n",
    "\n",
    "con = f.read()\n",
    "print(con)\n",
    "\n",
    "f.close()"
   ]
  },
  {
   "cell_type": "code",
   "execution_count": 28,
   "id": "7ced7518",
   "metadata": {},
   "outputs": [
    {
     "name": "stdout",
     "output_type": "stream",
     "text": [
      "生成算法指的是用于生成新的数据、文本或图像等内容的算法。以下是一些常见的生成算法：\n",
      "1. 随机生成算法：这是最简单的生成算法，它基于随机性生成内容。例如，你可以随机生成一系列数字、字符或图形。\n",
      "2. 基于规则的生成算法：这类算法根据特定的规则生成内容。例如，你可以编写一个规则，根据输入的条件生成合乎规则的句子或图像。\n",
      "3. 统计生成算法：这类算法基于统计模型来生成内容。它们会分析已有的数据，学习其中的模式和规律，然后根据学习到的模型生成新的内容。常见的统计生成算法包括n-gram模型、隐马尔可夫模型和神经网络语言模型等。\n",
      "4. 生成对抗网络（GAN）：GAN是一种机器学习算法，由生成器和判别器两个模型组成。生成器试图生成看起来真实的数据，而判别器则试图区分真实数据和生成的数据。通过反复迭代训练，生成器和判别器共同提升，最终生成器可以生成逼真的数据。\n",
      "5. 自动编码器：自动编码器是一种神经网络模型，用于将输入数据压缩成更小的表示，然后从这个表示中重构原始数据。自动编码器可以用于生成新数据，通过在压缩表示中进行一些变换，然后将变换后的表示解码为新的数据。\n",
      "这些是一些常见的生成算法，每种算法都有其各自的优点和应用场景。在实际应用中，你可以根据具体的需求选择适合的算法。\n"
     ]
    }
   ],
   "source": [
    "# 7.seek函数\n",
    "\"\"\"\n",
    "语法： 文件对象.seek(偏移量, 起始位置)  0开头1当前2结尾\n",
    "目标：\n",
    "    1. r 改变文件指针位置：改变读取数据开始位置或把文件指针放结尾(无法读取数据)\n",
    "    2. a 改变文件指针位置，做到可以读取出来数据\n",
    "\"\"\"\n",
    "# f = open('test.txt', 'r+')\n",
    "f = open('test.txt', 'a+')\n",
    "\n",
    "# 1. 改变读取数据开始位置\n",
    "# f.seek(2, 0)\n",
    "# 1. 把文件指针放结尾(无法读取数据)\n",
    "# f.seek(0, 2)\n",
    "\n",
    "# 2. a 改变文件指针位置，做到可以读取出来数据\n",
    "# f.seek(0, 0)\n",
    "f.seek(0)\n",
    "\n",
    "con = f.read()\n",
    "print(con)\n",
    "\n",
    "f.close()"
   ]
  },
  {
   "cell_type": "code",
   "execution_count": null,
   "id": "57284b74",
   "metadata": {
    "hidden": true
   },
   "outputs": [],
   "source": [
    "#读取文本时，python将文本以字符串的方式读出"
   ]
  },
  {
   "cell_type": "code",
   "execution_count": null,
   "id": "67c2cc47",
   "metadata": {
    "collapsed": true,
    "hidden": true,
    "jupyter": {
     "outputs_hidden": true
    }
   },
   "outputs": [
    {
     "name": "stdout",
     "output_type": "stream",
     "text": [
      "hello world\n"
     ]
    }
   ],
   "source": [
    "# 8.写入文件\n",
    "with open('./test.txt','w') as f:\n",
    "    f.write('hello world')\n",
    "with open('./test.txt') as f:\n",
    "    cont=f.read()\n",
    "print(cont)"
   ]
  },
  {
   "cell_type": "code",
   "execution_count": null,
   "id": "7ece7e35",
   "metadata": {
    "collapsed": true,
    "hidden": true,
    "jupyter": {
     "outputs_hidden": true
    }
   },
   "outputs": [
    {
     "name": "stdout",
     "output_type": "stream",
     "text": [
      "hello world\n",
      "plus to me\n",
      "\n"
     ]
    }
   ],
   "source": [
    "# 9.写入多行\n",
    "with open('./test.txt','w') as f:\n",
    "    f.write('hello world\\n')\n",
    "    f.write('plus to me\\n')\n",
    "with open('./test.txt') as f:\n",
    "    cont=f.read()\n",
    "print(cont)"
   ]
  },
  {
   "cell_type": "code",
   "execution_count": null,
   "id": "e85baf0d",
   "metadata": {
    "collapsed": true,
    "hidden": true,
    "jupyter": {
     "outputs_hidden": true
    }
   },
   "outputs": [
    {
     "name": "stdout",
     "output_type": "stream",
     "text": [
      "hello world\n",
      "plus to me\n",
      "please help me\n",
      "please help meplease help meplease help me\n",
      "please help me\n",
      "please help me\n",
      "\n"
     ]
    }
   ],
   "source": [
    "# 10.以附加模式‘a’添加内容\n",
    "with open('./test.txt','a') as f:\n",
    "    f.write('please help me\\n')\n",
    "with open('./test.txt') as f:\n",
    "    cont=f.read()\n",
    "print(cont)"
   ]
  },
  {
   "attachments": {},
   "cell_type": "markdown",
   "id": "58108a23",
   "metadata": {
    "hidden": true
   },
   "source": [
    "### 异常"
   ]
  },
  {
   "cell_type": "code",
   "execution_count": 53,
   "id": "d3189072",
   "metadata": {
    "collapsed": true,
    "hidden": true,
    "jupyter": {
     "outputs_hidden": true
    }
   },
   "outputs": [
    {
     "name": "stdout",
     "output_type": "stream",
     "text": [
      "not input zero\n"
     ]
    }
   ],
   "source": [
    "# 1.使用try-except处理异常\n",
    "try:\n",
    "    print(5/0)\n",
    "except ZeroDivisionError:\n",
    "    print(\"not input zero\")"
   ]
  },
  {
   "cell_type": "code",
   "execution_count": 56,
   "id": "956cff99",
   "metadata": {},
   "outputs": [
    {
     "name": "stdout",
     "output_type": "stream",
     "text": [
      "有错误\n"
     ]
    }
   ],
   "source": [
    "# 2.捕获指定异常\n",
    "# 需求：尝试执行打印num，捕获异常类型NameError，如果捕获到这个异常类型，执行打印：有错误\n",
    "try:\n",
    "    print(num)\n",
    "    # print(1/0)\n",
    "except NameError:\n",
    "    print('有错误')"
   ]
  },
  {
   "cell_type": "code",
   "execution_count": 57,
   "id": "dd322f24",
   "metadata": {},
   "outputs": [
    {
     "name": "stdout",
     "output_type": "stream",
     "text": [
      "有错误\n"
     ]
    }
   ],
   "source": [
    "# 3.捕获指定异常\n",
    "try:\n",
    "    print(1/0)\n",
    "except (NameError, ZeroDivisionError):\n",
    "    print('有错误')"
   ]
  },
  {
   "cell_type": "code",
   "execution_count": 58,
   "id": "8edb111c",
   "metadata": {},
   "outputs": [
    {
     "name": "stdout",
     "output_type": "stream",
     "text": [
      "division by zero\n"
     ]
    }
   ],
   "source": [
    "# 4.捕获异常描述信息\n",
    "try:\n",
    "    print(1/0)\n",
    "except (NameError, ZeroDivisionError) as result:\n",
    "    print(result)"
   ]
  },
  {
   "cell_type": "code",
   "execution_count": 59,
   "id": "36eb8089",
   "metadata": {},
   "outputs": [
    {
     "name": "stdout",
     "output_type": "stream",
     "text": [
      "name 'num' is not defined\n"
     ]
    }
   ],
   "source": [
    "# 5.捕获所有异常\n",
    "# 尝试执行打印num，捕获Exception 打印异常描述信息\n",
    "try:\n",
    "    print(num)\n",
    "except Exception as result:\n",
    "    print(result)"
   ]
  },
  {
   "cell_type": "code",
   "execution_count": 60,
   "id": "5f88ae37",
   "metadata": {},
   "outputs": [
    {
     "name": "stdout",
     "output_type": "stream",
     "text": [
      "1\n",
      "我是else，当没有异常的时候执行的代码\n"
     ]
    }
   ],
   "source": [
    "# 6.使用else\n",
    "try:\n",
    "    print(1)\n",
    "except Exception as result:\n",
    "    print(result)\n",
    "else:\n",
    "    print('我是else，当没有异常的时候执行的代码')"
   ]
  },
  {
   "cell_type": "code",
   "execution_count": 61,
   "id": "f8525f87",
   "metadata": {},
   "outputs": [],
   "source": [
    "# 7.使用fianly\n",
    "try:\n",
    "    f = open('test100.txt', 'r')\n",
    "except Exception as e:\n",
    "    f = open('test100.txt', 'w')\n",
    "finally:\n",
    "    f.close()"
   ]
  },
  {
   "cell_type": "code",
   "execution_count": 62,
   "id": "7005b124",
   "metadata": {},
   "outputs": [
    {
     "name": "stdout",
     "output_type": "stream",
     "text": [
      "没有异常，密码输入完成\n"
     ]
    }
   ],
   "source": [
    "# 8.自定义异常\n",
    "# 1. 自定义异常类， 继承Exception， 魔法方法有init和str(设置异常描述信息)\n",
    "class ShortInputError(Exception):\n",
    "    def __init__(self, length, min_len):\n",
    "        # 用户输入的密码长度\n",
    "        self.length = length\n",
    "        # 系统要求的最少长度\n",
    "        self.min_len = min_len\n",
    "\n",
    "    # 设置异常描述信息\n",
    "    def __str__(self):\n",
    "        return f'您输入的密码长度是{self.length}, 密码不能少于{self.min_len}'\n",
    "\n",
    "\n",
    "def main():\n",
    "    # 2. 抛出异常: 尝试执行：用户输入密码，如果长度小于3，抛出异常\n",
    "    try:\n",
    "        password = input('请输入密码：')\n",
    "        if len(password) < 3:\n",
    "            # 抛出异常类创建的对象\n",
    "            raise ShortInputError(len(password), 3)\n",
    "    # 3. 捕获该异常\n",
    "    except Exception as result:\n",
    "        print(result)\n",
    "    else:\n",
    "        print('没有异常，密码输入完成')\n",
    "\n",
    "main()"
   ]
  },
  {
   "attachments": {},
   "cell_type": "markdown",
   "id": "ad6fa622",
   "metadata": {
    "hidden": true
   },
   "source": [
    "### 存取数据"
   ]
  },
  {
   "cell_type": "code",
   "execution_count": null,
   "id": "0c0ac8c4",
   "metadata": {
    "hidden": true
   },
   "outputs": [],
   "source": [
    "#1.利用json.dump()存储json格式的数据\n",
    "import json\n",
    "a=[1,5,6,1,6,53,7]\n",
    "file_index='./test.josn'\n",
    "with open(file_index,'w') as f:\n",
    "    json.dump(a,f)"
   ]
  },
  {
   "cell_type": "code",
   "execution_count": null,
   "id": "bd04c46a",
   "metadata": {
    "hidden": true
   },
   "outputs": [
    {
     "name": "stdout",
     "output_type": "stream",
     "text": [
      "[1, 5, 6, 1, 6, 53, 7]\n"
     ]
    }
   ],
   "source": [
    "#2.利用json.load()读取数据\n",
    "with open(file_index) as f:\n",
    "    num=json.load(f)\n",
    "print(num)"
   ]
  },
  {
   "cell_type": "markdown",
   "id": "fe32d01c",
   "metadata": {},
   "source": [
    "### 模块和包"
   ]
  },
  {
   "cell_type": "code",
   "execution_count": 63,
   "id": "4e86adb4",
   "metadata": {},
   "outputs": [
    {
     "name": "stdout",
     "output_type": "stream",
     "text": [
      "3.0\n"
     ]
    }
   ],
   "source": [
    "# 1.模块的使用\n",
    "# 方法一：import 模块名; 模块名.功能\n",
    "# import math\n",
    "# print(math.sqrt(9))\n",
    "\n",
    "# 方法二： from 模块名 import 功能1, 功能2...; 功能调用（不需要书写模块名.功能）\n",
    "# from math import sqrt\n",
    "# print(sqrt(9))\n",
    "\n",
    "# 方法三：from 模块名 import *; 功能调用（不需要书写模块名.功能）\n",
    "from math import *\n",
    "print(sqrt(9))"
   ]
  },
  {
   "cell_type": "code",
   "execution_count": 64,
   "id": "7c3bfde2",
   "metadata": {},
   "outputs": [
    {
     "name": "stdout",
     "output_type": "stream",
     "text": [
      "hello\n"
     ]
    }
   ],
   "source": [
    "# 2.别名\n",
    "# 1. 模块别名\n",
    "# import time as tt\n",
    "# tt.sleep(2)\n",
    "# time.sleep(2)\n",
    "# print('hello')\n",
    "\n",
    "# 2. 功能别名\n",
    "from time import sleep as sl\n",
    "sl(2)\n",
    "print('hello')"
   ]
  },
  {
   "cell_type": "code",
   "execution_count": null,
   "id": "cefae458",
   "metadata": {},
   "outputs": [],
   "source": [
    "# 3.all列表\n",
    "from my_module2 import *\n",
    "testA()\n",
    "# 因为testB函数没有添加到all列表，只有all列表里面的功能才能导入\n",
    "# testB()\n",
    "# 注意 设置__init__.py文件里面的all列表，添加的是允许导入的模块\n",
    "# __name__是系统变量，是模块的标识符，值是：如果是自身模块值是__main__, 否则是当前的模块的名字"
   ]
  },
  {
   "attachments": {},
   "cell_type": "markdown",
   "id": "84aa8345",
   "metadata": {
    "heading_collapsed": true
   },
   "source": [
    "# 函数编程"
   ]
  },
  {
   "attachments": {},
   "cell_type": "markdown",
   "id": "99b62177",
   "metadata": {
    "hidden": true
   },
   "source": [
    "## 闭包"
   ]
  },
  {
   "cell_type": "code",
   "execution_count": 1,
   "id": "8a20a4e6",
   "metadata": {},
   "outputs": [
    {
     "name": "stdout",
     "output_type": "stream",
     "text": [
      "--- in test1 func----\n",
      "2034167593568\n",
      "2034167593568\n",
      "--- in test1 func----\n"
     ]
    }
   ],
   "source": [
    "# 函数引用\n",
    "def test1():\n",
    "    print(\"--- in test1 func----\")\n",
    "\n",
    "# 调用函数\n",
    "test1()\n",
    "\n",
    "# 引用函数\n",
    "ret = test1\n",
    "\n",
    "print(id(ret))\n",
    "print(id(test1))\n",
    "\n",
    "# 通过引用调用函数\n",
    "ret()"
   ]
  },
  {
   "cell_type": "code",
   "execution_count": 4,
   "id": "42efcdd3",
   "metadata": {},
   "outputs": [
    {
     "name": "stdout",
     "output_type": "stream",
     "text": [
      "in test_in 函数, number_in is 100\n",
      "120\n",
      "in test_in 函数, number_in is 200\n",
      "220\n"
     ]
    }
   ],
   "source": [
    "# 闭包\n",
    "# 定义一个函数\n",
    "def test(number):\n",
    "    # 在函数内部再定义一个函数，并且这个函数用到了外边函数的变量，那么将这个函数以及用到的一些变量称之为闭包\n",
    "    def test_in(number_in):\n",
    "        print(\"in test_in 函数, number_in is %d\" % number_in)\n",
    "        return number+number_in\n",
    "    # 其实这里返回的就是闭包的结果\n",
    "    return test_in\n",
    "\n",
    "# 给test函数赋值，这个20就是给参数number\n",
    "ret = test(20)\n",
    "\n",
    "# 注意这里的100其实给参数number_in\n",
    "print(ret(100))\n",
    "\n",
    "#注 意这里的200其实给参数number_in\n",
    "print(ret(200))"
   ]
  },
  {
   "cell_type": "code",
   "execution_count": 5,
   "id": "1c74818c",
   "metadata": {},
   "outputs": [
    {
     "name": "stdout",
     "output_type": "stream",
     "text": [
      "6\n",
      "25\n"
     ]
    }
   ],
   "source": [
    "def line_conf(a, b):\n",
    "    def line(x):\n",
    "        return a*x + b\n",
    "    return line\n",
    "\n",
    "line1 = line_conf(1, 1)\n",
    "line2 = line_conf(4, 5)\n",
    "print(line1(5))\n",
    "print(line2(5))"
   ]
  },
  {
   "cell_type": "code",
   "execution_count": 6,
   "id": "ae8f95c9",
   "metadata": {},
   "outputs": [
    {
     "name": "stdout",
     "output_type": "stream",
     "text": [
      "6\n",
      "7\n",
      "51\n",
      "52\n",
      "8\n",
      "9\n",
      "53\n",
      "54\n"
     ]
    }
   ],
   "source": [
    "# 修改闭包外部函数的变量\n",
    "# 闭包使局部变量变相的变成全局变量\n",
    "def counter(start=0):\n",
    "    def incr():\n",
    "        nonlocal start\n",
    "        start += 1\n",
    "        return start\n",
    "    return incr\n",
    "\n",
    "c1 = counter(5)\n",
    "print(c1())\n",
    "print(c1())\n",
    "\n",
    "c2 = counter(50)\n",
    "print(c2())\n",
    "print(c2())\n",
    "\n",
    "print(c1())\n",
    "print(c1())\n",
    "\n",
    "print(c2())\n",
    "print(c2())"
   ]
  },
  {
   "attachments": {},
   "cell_type": "markdown",
   "id": "3188830f",
   "metadata": {
    "heading_collapsed": true,
    "hidden": true
   },
   "source": [
    "## 装饰器"
   ]
  },
  {
   "cell_type": "code",
   "execution_count": null,
   "id": "71d08e71",
   "metadata": {
    "hidden": true
   },
   "outputs": [
    {
     "name": "stdout",
     "output_type": "stream",
     "text": [
      "hello\n",
      "world\n"
     ]
    }
   ],
   "source": [
    "# 1.不传递参数的装饰器\n",
    "def urges(func):\n",
    "    def wapper():\n",
    "        print('hello')\n",
    "        func()\n",
    "#         return func()\n",
    "    return wapper\n",
    "# 类似于urges(puts)\n",
    "@urges\n",
    "def puts():\n",
    "    print('world')\n",
    "# puts=urges(puts)\n",
    "puts()"
   ]
  },
  {
   "cell_type": "code",
   "execution_count": 9,
   "id": "a58e4e68",
   "metadata": {
    "collapsed": true,
    "hidden": true,
    "jupyter": {
     "outputs_hidden": true
    }
   },
   "outputs": [
    {
     "name": "stdout",
     "output_type": "stream",
     "text": [
      "hello\n",
      "0\n",
      "6\n"
     ]
    }
   ],
   "source": [
    "# 2.传递参数的装饰器\n",
    "def cooker(func):\n",
    "    print(\"hello\")\n",
    "    def nius(x, y):\n",
    "        a=func(x, y)\n",
    "        print(a)\n",
    "    return nius\n",
    "\n",
    "# 参数要传递给内部函数参数\n",
    "@cooker\n",
    "def alas(a,b):\n",
    "    return a*b\n",
    "alas(2,3)"
   ]
  },
  {
   "cell_type": "code",
   "execution_count": 11,
   "id": "bb2fbae5",
   "metadata": {},
   "outputs": [
    {
     "name": "stdout",
     "output_type": "stream",
     "text": [
      "foo called at Mon May 22 20:16:28 2023\n",
      "15\n",
      "foo called at Mon May 22 20:16:30 2023\n",
      "16\n"
     ]
    }
   ],
   "source": [
    "# 3.装饰的函数有不定长参数\n",
    "from time import ctime, sleep\n",
    "# *args 表示任何多个无名参数， 他本质上是一个 tuple类似c++中可变长参数\n",
    "# ** kwargs 表示关键字参数， 它本质上是一个 dict\n",
    "def timefun(func):\n",
    "    def wrapped_func(*args, **kwargs):\n",
    "        print(\"%s called at %s\"%(func.__name__, ctime()))\n",
    "        func(*args, **kwargs)\n",
    "    return wrapped_func\n",
    "\n",
    "@timefun\n",
    "def foo(a, b, c):\n",
    "    print(a+b+c)\n",
    "\n",
    "foo(3,5,7)\n",
    "sleep(2)\n",
    "foo(3,4,9)"
   ]
  },
  {
   "cell_type": "code",
   "execution_count": 13,
   "id": "ebf6619f",
   "metadata": {},
   "outputs": [
    {
     "name": "stdout",
     "output_type": "stream",
     "text": [
      "foo called at Mon May 22 20:22:25 2023\n",
      "I am foo\n",
      "foo called at Mon May 22 20:22:27 2023\n",
      "I am foo\n",
      "getInfo called at Mon May 22 20:22:27 2023\n"
     ]
    }
   ],
   "source": [
    "# 4.装饰器中的return\n",
    "from time import ctime, sleep\n",
    "\n",
    "def timefun(func):\n",
    "    def wrapped_func():\n",
    "        print(\"%s called at %s\" % (func.__name__, ctime()))\n",
    "        func()\n",
    "    return wrapped_func\n",
    "\n",
    "@timefun\n",
    "def foo():\n",
    "    print(\"I am foo\")\n",
    "\n",
    "@timefun\n",
    "def getInfo():\n",
    "    return '----hahah---'\n",
    "\n",
    "foo()\n",
    "sleep(2)\n",
    "foo()\n",
    "print(getInfo())"
   ]
  },
  {
   "cell_type": "code",
   "execution_count": 16,
   "id": "3ca67d5a",
   "metadata": {},
   "outputs": [
    {
     "name": "stdout",
     "output_type": "stream",
     "text": [
      "----test1----\n",
      "----test2----\n",
      "---test----\n",
      "None\n",
      "None\n"
     ]
    }
   ],
   "source": [
    "# 5.多个装饰器对同一个函数进行装饰\n",
    "def func1(fun):\n",
    "    def func():\n",
    "        print('----test1----')\n",
    "        print(fun())\n",
    "    return func\n",
    "\n",
    "def func2(fun):\n",
    "    def func():\n",
    "        print('----test2----')\n",
    "        print(fun())\n",
    "    return func\n",
    "\n",
    "@func1 # 后装饰\n",
    "@func2 # 先装饰\n",
    "def fun():\n",
    "    print('---test----')\n",
    "fun()\n",
    "# 执行过程\n",
    "\"\"\"\n",
    "将fun先装进func2,再将func2的闭包装进func1\n",
    "print('----test1----')\n",
    "print('----test2----')\n",
    "print('---test----')\n",
    "print(fun())\n",
    "print(fun())\n",
    "\"\"\""
   ]
  },
  {
   "cell_type": "code",
   "execution_count": 17,
   "id": "19029d28",
   "metadata": {},
   "outputs": [
    {
     "name": "stdout",
     "output_type": "stream",
     "text": [
      "foo called at Mon May 22 20:40:00 2023 itcast\n",
      "I am foo\n",
      "foo called at Mon May 22 20:40:02 2023 itcast\n",
      "I am foo\n",
      "too called at Mon May 22 20:40:02 2023 python\n",
      "I am too\n",
      "too called at Mon May 22 20:40:04 2023 python\n",
      "I am too\n"
     ]
    }
   ],
   "source": [
    "# 6.装饰器带参数,在原有装饰器的基础上，设置外部变量\n",
    "from time import ctime, sleep\n",
    "\n",
    "def timefun_arg(pre=\"hello\"):\n",
    "    def timefun(func):\n",
    "        def wrapped_func():\n",
    "            print(\"%s called at %s %s\" % (func.__name__, ctime(), pre))\n",
    "            return func()\n",
    "        return wrapped_func\n",
    "    return timefun\n",
    "\n",
    "# 下面的装饰过程\n",
    "# 1. 调用timefun_arg(\"itcast\")\n",
    "# 2. 将步骤1得到的返回值，即time_fun返回， 然后time_fun(foo)\n",
    "# 3. 将time_fun(foo)的结果返回，即wrapped_func\n",
    "# 4. 让foo = wrapped_fun，即foo现在指向wrapped_func\n",
    "@timefun_arg(\"itcast\")\n",
    "def foo():\n",
    "    print(\"I am foo\")\n",
    "\n",
    "@timefun_arg(\"python\")\n",
    "def too():\n",
    "    print(\"I am too\")\n",
    "\n",
    "foo()\n",
    "sleep(2)\n",
    "foo()\n",
    "\n",
    "too()\n",
    "sleep(2)\n",
    "too()"
   ]
  },
  {
   "cell_type": "code",
   "execution_count": 28,
   "id": "74938578",
   "metadata": {},
   "outputs": [
    {
     "name": "stdout",
     "output_type": "stream",
     "text": [
      "---初始化---\n",
      "func name is test1\n",
      "---装饰器中的功能---\n",
      "----test---\n"
     ]
    }
   ],
   "source": [
    "class Test(object):\n",
    "    def __init__(self, func):\n",
    "        print(\"---初始化---\")\n",
    "        print(\"func name is %s\"%func.__name__)\n",
    "        self.__func = func\n",
    "    def __call__(self):\n",
    "        print(\"---装饰器中的功能---\")\n",
    "        self.__func()\n",
    "\n",
    "@Test\n",
    "def test1():\n",
    "    print(\"----test2---\")\n",
    "test()"
   ]
  },
  {
   "attachments": {},
   "cell_type": "markdown",
   "id": "ce1d830a",
   "metadata": {},
   "source": [
    "# python提高"
   ]
  },
  {
   "attachments": {},
   "cell_type": "markdown",
   "id": "a6324de5",
   "metadata": {},
   "source": [
    "## 深拷贝和浅拷贝"
   ]
  },
  {
   "cell_type": "code",
   "execution_count": 3,
   "id": "d42d3ca4",
   "metadata": {},
   "outputs": [
    {
     "name": "stdout",
     "output_type": "stream",
     "text": [
      "True\n"
     ]
    }
   ],
   "source": [
    "# 浅拷贝\n",
    "a = [1, 2]\n",
    "b = a\n",
    "# 查看内存地址\n",
    "print(id(a)==id(b))"
   ]
  },
  {
   "cell_type": "code",
   "execution_count": 8,
   "id": "044eb159",
   "metadata": {},
   "outputs": [
    {
     "name": "stdout",
     "output_type": "stream",
     "text": [
      "False\n",
      "True\n",
      "---------------\n",
      "False\n",
      "False\n"
     ]
    }
   ],
   "source": [
    "# 深拷贝\n",
    "import copy\n",
    "c = [3, 5]\n",
    "d = [1, 2]\n",
    "e = [c, d]\n",
    "f = copy.copy(e)\n",
    "print(id(e) == id(f))\n",
    "print(id(f[1])==id(e[1])) # 仍然共用d所在的内存，只拷贝了表面列表\n",
    "print('---------------')\n",
    "h = copy.deepcopy(e)\n",
    "print(id(e) == id(h))\n",
    "print(id(e[1]) == id(h[1])) # 拷贝了所有"
   ]
  },
  {
   "cell_type": "code",
   "execution_count": 9,
   "id": "efa07108",
   "metadata": {},
   "outputs": [
    {
     "name": "stdout",
     "output_type": "stream",
     "text": [
      "False\n"
     ]
    }
   ],
   "source": [
    "# 字典的拷贝\n",
    "a = {'1': 2, '2':3}\n",
    "b = a.copy()\n",
    "print(id(a) == id(b))"
   ]
  },
  {
   "attachments": {},
   "cell_type": "markdown",
   "id": "0eb76f57",
   "metadata": {},
   "source": [
    "## import导入模块"
   ]
  },
  {
   "cell_type": "code",
   "execution_count": 11,
   "id": "6d0d79ff",
   "metadata": {},
   "outputs": [
    {
     "data": {
      "text/plain": [
       "['e:\\\\code\\\\python',\n",
       " 'd:\\\\IDE_sources\\\\Ancona\\\\python39.zip',\n",
       " 'd:\\\\IDE_sources\\\\Ancona\\\\DLLs',\n",
       " 'd:\\\\IDE_sources\\\\Ancona\\\\lib',\n",
       " 'd:\\\\IDE_sources\\\\Ancona',\n",
       " '',\n",
       " 'd:\\\\IDE_sources\\\\Ancona\\\\lib\\\\site-packages',\n",
       " 'd:\\\\IDE_sources\\\\Ancona\\\\lib\\\\site-packages\\\\win32',\n",
       " 'd:\\\\IDE_sources\\\\Ancona\\\\lib\\\\site-packages\\\\win32\\\\lib',\n",
       " 'd:\\\\IDE_sources\\\\Ancona\\\\lib\\\\site-packages\\\\Pythonwin',\n",
       " 'd:\\\\IDE_sources\\\\Ancona\\\\lib\\\\site-packages\\\\IPython\\\\extensions',\n",
       " 'C:\\\\Users\\\\17677\\\\.ipython']"
      ]
     },
     "execution_count": 11,
     "metadata": {},
     "output_type": "execute_result"
    }
   ],
   "source": [
    "import sys\n",
    "sys.path"
   ]
  },
  {
   "attachments": {},
   "cell_type": "markdown",
   "id": "2ea27fe4",
   "metadata": {},
   "source": [
    "## 多继承和MRO"
   ]
  },
  {
   "cell_type": "code",
   "execution_count": null,
   "id": "af796d9a",
   "metadata": {},
   "outputs": [
    {
     "name": "stdout",
     "output_type": "stream",
     "text": [
      "******多继承使用类名.__init__ 发生的状态******\n"
     ]
    }
   ],
   "source": [
    "print(\"******多继承使用类名.__init__ 发生的状态******\")\n",
    "class Parent(object):\n",
    "    def __init__(self, name):\n",
    "        print('parent的init开始被调用')\n",
    "        self.name = name\n",
    "        print('parent的init结束被调用')\n",
    "\n",
    "class Son1(Parent):\n",
    "    def __init__(self, name, age):\n",
    "        print('Son1的init开始被调用')\n",
    "        self.age = age\n",
    "        Parent.__init__(self, name)\n",
    "        print('Son1的init结束被调用')\n",
    "\n",
    "class Son2(Parent):\n",
    "    def __init__(self, name, gender):\n",
    "        print('Son2的init开始被调用')\n",
    "        self.gender = gender\n",
    "        Parent.__init__(self, name)\n",
    "        print('Son2的init结束被调用')\n",
    "\n",
    "class Grandson(Son1, Son2):\n",
    "    def __init__(self, name, age, gender):\n",
    "        print('Grandson的init开始被调用')\n",
    "        Son1.__init__(self, name, age)  # 单独调用父类的初始化方法\n",
    "        Son2.__init__(self, name, gender)\n",
    "        print('Grandson的init结束被调用')"
   ]
  },
  {
   "cell_type": "code",
   "execution_count": null,
   "id": "bb72abbe",
   "metadata": {},
   "outputs": [
    {
     "name": "stdout",
     "output_type": "stream",
     "text": [
      "Grandson的init开始被调用\n",
      "Son1的init开始被调用\n",
      "parent的init开始被调用\n",
      "parent的init结束被调用\n",
      "Son1的init结束被调用\n",
      "Son2的init开始被调用\n",
      "parent的init开始被调用\n",
      "parent的init结束被调用\n",
      "Son2的init结束被调用\n",
      "Grandson的init结束被调用\n",
      "姓名： grandson\n",
      "年龄： 12\n",
      "性别： 男\n",
      "******多继承使用类名.__init__ 发生的状态******\n",
      "\n",
      "\n"
     ]
    }
   ],
   "source": [
    "gs = Grandson('grandson', 12, '男')\n",
    "print('姓名：', gs.name)\n",
    "print('年龄：', gs.age)\n",
    "print('性别：', gs.gender)\n",
    "\n",
    "print(\"******多继承使用类名.__init__ 发生的状态******\\n\\n\")"
   ]
  },
  {
   "attachments": {},
   "cell_type": "markdown",
   "id": "5ef872ea",
   "metadata": {},
   "source": [
    "## 多继承中super调用有所父类的被重写的方法"
   ]
  },
  {
   "cell_type": "code",
   "execution_count": null,
   "id": "5402ae74",
   "metadata": {},
   "outputs": [
    {
     "name": "stdout",
     "output_type": "stream",
     "text": [
      "******多继承使用super().__init__ 发生的状态******\n"
     ]
    }
   ],
   "source": [
    "print(\"******多继承使用super().__init__ 发生的状态******\")\n",
    "class Parent(object):\n",
    "    def __init__(self, name, *args, **kwargs):  # 为避免多继承报错，使用不定长参数，接受参数\n",
    "        print('parent的init开始被调用')\n",
    "        self.name = name\n",
    "        print('parent的init结束被调用')\n",
    "\n",
    "class Son1(Parent):\n",
    "    def __init__(self, name, age, *args, **kwargs):  # 为避免多继承报错，使用不定长参数，接受参数\n",
    "        print('Son1的init开始被调用')\n",
    "        self.age = age\n",
    "        super().__init__(name, *args, **kwargs)  # 为避免多继承报错，使用不定长参数，接受参数\n",
    "        print('Son1的init结束被调用')\n",
    "\n",
    "class Son2(Parent):\n",
    "    def __init__(self, name, gender, *args, **kwargs):  # 为避免多继承报错，使用不定长参数，接受参数\n",
    "        print('Son2的init开始被调用')\n",
    "        self.gender = gender\n",
    "        super().__init__(name, *args, **kwargs)  # 为避免多继承报错，使用不定长参数，接受参数\n",
    "        print('Son2的init结束被调用')\n",
    "\n",
    "class Grandson(Son1, Son2):\n",
    "    def __init__(self, name, age, gender):\n",
    "        print('Grandson的init开始被调用')\n",
    "        # 多继承时，相对于使用类名.__init__方法，要把每个父类全部写一遍\n",
    "        # 而super只用一句话，执行了全部父类的方法，这也是为何多继承需要全部传参的一个原因\n",
    "        # super(Grandson, self).__init__(name, age, gender)\n",
    "        super().__init__(name, age, gender)\n",
    "        print('Grandson的init结束被调用')"
   ]
  },
  {
   "cell_type": "code",
   "execution_count": null,
   "id": "aa64d1c6",
   "metadata": {},
   "outputs": [
    {
     "name": "stdout",
     "output_type": "stream",
     "text": [
      "(<class '__main__.Grandson'>, <class '__main__.Son1'>, <class '__main__.Son2'>, <class '__main__.Parent'>, <class 'object'>)\n",
      "Grandson的init开始被调用\n",
      "Son1的init开始被调用\n",
      "Son2的init开始被调用\n",
      "parent的init开始被调用\n",
      "parent的init结束被调用\n",
      "Son2的init结束被调用\n",
      "Son1的init结束被调用\n",
      "Grandson的init结束被调用\n",
      "姓名： grandson\n",
      "年龄： 12\n",
      "性别： 男\n",
      "******多继承使用super().__init__ 发生的状态******\n",
      "\n",
      "\n"
     ]
    }
   ],
   "source": [
    "print(Grandson.__mro__)\n",
    "\n",
    "gs = Grandson('grandson', 12, '男')\n",
    "print('姓名：', gs.name)\n",
    "print('年龄：', gs.age)\n",
    "print('性别：', gs.gender)\n",
    "print(\"******多继承使用super().__init__ 发生的状态******\\n\\n\")"
   ]
  },
  {
   "attachments": {},
   "cell_type": "markdown",
   "id": "df4830af",
   "metadata": {},
   "source": [
    "## 单继承中super"
   ]
  },
  {
   "cell_type": "code",
   "execution_count": null,
   "id": "5e019077",
   "metadata": {},
   "outputs": [
    {
     "name": "stdout",
     "output_type": "stream",
     "text": [
      "******单继承使用super().__init__ 发生的状态******\n"
     ]
    }
   ],
   "source": [
    "print(\"******单继承使用super().__init__ 发生的状态******\")\n",
    "class Parent(object):\n",
    "    def __init__(self, name):\n",
    "        print('parent的init开始被调用')\n",
    "        self.name = name\n",
    "        print('parent的init结束被调用')\n",
    "\n",
    "class Son1(Parent):\n",
    "    def __init__(self, name, age):\n",
    "        print('Son1的init开始被调用')\n",
    "        self.age = age\n",
    "        super().__init__(name)  # 单继承不能提供全部参数\n",
    "        print('Son1的init结束被调用')\n",
    "\n",
    "class Grandson(Son1):\n",
    "    def __init__(self, name, age, gender):\n",
    "        print('Grandson的init开始被调用')\n",
    "        super().__init__(name, age)  # 单继承不能提供全部参数\n",
    "        print('Grandson的init结束被调用')\n",
    "\n"
   ]
  },
  {
   "cell_type": "code",
   "execution_count": null,
   "id": "2e51a44e",
   "metadata": {},
   "outputs": [
    {
     "name": "stdout",
     "output_type": "stream",
     "text": [
      "Grandson的init开始被调用\n",
      "Son1的init开始被调用\n",
      "parent的init开始被调用\n",
      "parent的init结束被调用\n",
      "Son1的init结束被调用\n",
      "Grandson的init结束被调用\n",
      "姓名： grandson\n",
      "年龄： 12\n",
      "******单继承使用super().__init__ 发生的状态******\n",
      "\n",
      "\n"
     ]
    }
   ],
   "source": [
    "gs = Grandson('grandson', 12, '男')\n",
    "print('姓名：', gs.name)\n",
    "print('年龄：', gs.age)\n",
    "#print('性别：', gs.gender)\n",
    "print(\"******单继承使用super().__init__ 发生的状态******\\n\\n\")"
   ]
  },
  {
   "attachments": {},
   "cell_type": "markdown",
   "id": "bbd605e4",
   "metadata": {},
   "source": [
    "## 静态方法和类方法"
   ]
  },
  {
   "cell_type": "code",
   "execution_count": 19,
   "id": "b0aeb7cb",
   "metadata": {},
   "outputs": [
    {
     "name": "stdout",
     "output_type": "stream",
     "text": [
      "山东省\n"
     ]
    },
    {
     "data": {
      "text/plain": [
       "'中国'"
      ]
     },
     "execution_count": 19,
     "metadata": {},
     "output_type": "execute_result"
    }
   ],
   "source": [
    "class Province(object):\n",
    "    # 类属性\n",
    "    country = '中国'\n",
    "\n",
    "    def __init__(self, name):\n",
    "        # 实例属性\n",
    "        self.name = name\n",
    "\n",
    "\n",
    "# 创建一个实例对象\n",
    "obj = Province('山东省')\n",
    "# 直接访问实例属性\n",
    "print(obj.name)\n",
    "# 直接访问类属性\n",
    "Province.country"
   ]
  },
  {
   "attachments": {},
   "cell_type": "markdown",
   "id": "e5d56f42",
   "metadata": {},
   "source": [
    "## 实例方法、静态方法和类方法"
   ]
  },
  {
   "cell_type": "code",
   "execution_count": 20,
   "id": "85bd467f",
   "metadata": {},
   "outputs": [],
   "source": [
    "class Foo(object):\n",
    "    def __init__(self, name):\n",
    "        self.name = name\n",
    "\n",
    "    def ord_func(self):\n",
    "        \"\"\" 定义实例方法，至少有一个self参数 \"\"\"\n",
    "        # print(self.name)\n",
    "        print('实例方法')\n",
    "\n",
    "    @classmethod\n",
    "    def class_func(cls):\n",
    "        \"\"\" 定义类方法，至少有一个cls参数 \"\"\"\n",
    "        print('类方法')\n",
    "\n",
    "    @staticmethod\n",
    "    def static_func():\n",
    "        \"\"\" 定义静态方法 ，无默认参数\"\"\"\n",
    "        print('静态方法')"
   ]
  },
  {
   "cell_type": "code",
   "execution_count": 21,
   "id": "f58c0a0c",
   "metadata": {},
   "outputs": [
    {
     "name": "stdout",
     "output_type": "stream",
     "text": [
      "实例方法\n",
      "类方法\n",
      "静态方法\n"
     ]
    }
   ],
   "source": [
    "f = Foo(\"中国\")\n",
    "# 调用实例方法\n",
    "f.ord_func()\n",
    "\n",
    "# 调用类方法\n",
    "Foo.class_func()\n",
    "\n",
    "# 调用静态方法\n",
    "Foo.static_func()"
   ]
  },
  {
   "attachments": {},
   "cell_type": "markdown",
   "id": "d3f89963",
   "metadata": {},
   "source": [
    "## property属性"
   ]
  },
  {
   "cell_type": "code",
   "execution_count": 28,
   "id": "e51f68d7",
   "metadata": {},
   "outputs": [],
   "source": [
    "# ############### 定义 ###############\n",
    "class Foo:\n",
    "    def func(self):\n",
    "        return 100\n",
    "\n",
    "    # 定义property属性\n",
    "    @property\n",
    "    def prop(self):\n",
    "        return 200"
   ]
  },
  {
   "cell_type": "code",
   "execution_count": 29,
   "id": "18c22d30",
   "metadata": {},
   "outputs": [
    {
     "name": "stdout",
     "output_type": "stream",
     "text": [
      "100\n",
      "200\n"
     ]
    }
   ],
   "source": [
    "# ############### 调用 ###############\n",
    "foo_obj = Foo()\n",
    "print(foo_obj.func())  # 调用实例方法\n",
    "print(foo_obj.prop)  # 调用property属性"
   ]
  },
  {
   "cell_type": "code",
   "execution_count": 31,
   "id": "c72870b2",
   "metadata": {},
   "outputs": [
    {
     "name": "stdout",
     "output_type": "stream",
     "text": [
      "0\n",
      "10\n"
     ]
    }
   ],
   "source": [
    "# ############### 定义 ###############\n",
    "class Pager:\n",
    "    def __init__(self, current_page):\n",
    "        # 用户当前请求的页码（第一页、第二页...）\n",
    "        self.current_page = current_page\n",
    "        # 每页默认显示10条数据\n",
    "        self.per_items = 10 \n",
    "\n",
    "    @property\n",
    "    def start(self):\n",
    "        val = (self.current_page - 1) * self.per_items\n",
    "        return val\n",
    "\n",
    "    @property\n",
    "    def end(self):\n",
    "        val = self.current_page * self.per_items\n",
    "        return val\n",
    "\n",
    "# ############### 调用 ###############\n",
    "p = Pager(1)\n",
    "print(p.start)  # 就是起始值，即：m\n",
    "print(p.end)  # 就是结束值，即：n"
   ]
  },
  {
   "cell_type": "code",
   "execution_count": 32,
   "id": "7792fba1",
   "metadata": {},
   "outputs": [
    {
     "name": "stdout",
     "output_type": "stream",
     "text": [
      "@property\n",
      "@price.setter\n",
      "@price.deleter\n"
     ]
    }
   ],
   "source": [
    "# ############### 定义 ###############\n",
    "class Goods:\n",
    "    \"\"\"python3中默认继承object类\n",
    "        以python2、3执行此程序的结果不同，因为只有在python3中才有@xxx.setter  @xxx.deleter\n",
    "    \"\"\"\n",
    "    @property\n",
    "    def price(self):\n",
    "        print('@property')\n",
    "\n",
    "    @price.setter\n",
    "    def price(self, value):\n",
    "        print('@price.setter')\n",
    "\n",
    "    @price.deleter\n",
    "    def price(self):\n",
    "        print('@price.deleter')\n",
    "\n",
    "# ############### 调用 ###############\n",
    "obj = Goods()\n",
    "obj.price          # 自动执行 @property 修饰的 price 方法，并获取方法的返回值\n",
    "obj.price = 123    # 自动执行 @price.setter 修饰的 price 方法，并将  123 赋值给方法的参数\n",
    "del obj.price      # 自动执行 @price.deleter 修饰的 price 方法"
   ]
  },
  {
   "cell_type": "markdown",
   "id": "7628f10d",
   "metadata": {},
   "source": [
    "## 元类"
   ]
  },
  {
   "cell_type": "code",
   "execution_count": 2,
   "id": "7ad67944",
   "metadata": {},
   "outputs": [
    {
     "name": "stdout",
     "output_type": "stream",
     "text": [
      "<class 'int'>\n",
      "<class 'str'>\n",
      "<class 'function'>\n",
      "<class 'type'>\n"
     ]
    }
   ],
   "source": [
    "# 创建一个int类的对象\n",
    "age = 35\n",
    "print(age.__class__)\n",
    "name = 'agb'\n",
    "print(name.__class__)\n",
    "def fun():\n",
    "    pass\n",
    "print(fun.__class__)\n",
    "# 创建一个类的类对象\n",
    "class bar():pass\n",
    "print(bar.__class__)"
   ]
  },
  {
   "cell_type": "code",
   "execution_count": 3,
   "id": "2d2a69dd",
   "metadata": {},
   "outputs": [
    {
     "name": "stdout",
     "output_type": "stream",
     "text": [
      "<class 'type'>\n"
     ]
    }
   ],
   "source": [
    "# 查看__class__对象，可以看懂type就是元类，他可以创建类\n",
    "print(bar.__class__.__class__)"
   ]
  },
  {
   "attachments": {},
   "cell_type": "markdown",
   "id": "588e06d6",
   "metadata": {},
   "source": [
    "# python处理问题"
   ]
  },
  {
   "attachments": {},
   "cell_type": "markdown",
   "id": "667bcf58",
   "metadata": {},
   "source": [
    "## python查看数据格式和类型"
   ]
  },
  {
   "cell_type": "code",
   "execution_count": null,
   "id": "5fbbf913",
   "metadata": {},
   "outputs": [],
   "source": [
    "import numpy as np"
   ]
  },
  {
   "cell_type": "code",
   "execution_count": null,
   "id": "f3bd493c",
   "metadata": {},
   "outputs": [
    {
     "name": "stdout",
     "output_type": "stream",
     "text": [
      "查看a的数据结构 <class 'numpy.ndarray'>\n",
      "查看a的数据类型 float64\n"
     ]
    }
   ],
   "source": [
    "a=np.arange(1,10,0.5)\n",
    "print(\"查看a的数据结构\",type(a))\n",
    "print(\"查看a的数据类型\",a.dtype)"
   ]
  }
 ],
 "metadata": {
  "kernelspec": {
   "display_name": "Python 3 (ipykernel)",
   "language": "python",
   "name": "python3"
  },
  "language_info": {
   "codemirror_mode": {
    "name": "ipython",
    "version": 3
   },
   "file_extension": ".py",
   "mimetype": "text/x-python",
   "name": "python",
   "nbconvert_exporter": "python",
   "pygments_lexer": "ipython3",
   "version": "3.9.13"
  },
  "toc": {
   "base_numbering": 1,
   "nav_menu": {},
   "number_sections": true,
   "sideBar": true,
   "skip_h1_title": false,
   "title_cell": "Table of Contents",
   "title_sidebar": "Contents",
   "toc_cell": false,
   "toc_position": {
    "height": "calc(100% - 180px)",
    "left": "10px",
    "top": "150px",
    "width": "219px"
   },
   "toc_section_display": true,
   "toc_window_display": true
  },
  "varInspector": {
   "cols": {
    "lenName": 16,
    "lenType": 16,
    "lenVar": 40
   },
   "kernels_config": {
    "python": {
     "delete_cmd_postfix": "",
     "delete_cmd_prefix": "del ",
     "library": "var_list.py",
     "varRefreshCmd": "print(var_dic_list())"
    },
    "r": {
     "delete_cmd_postfix": ") ",
     "delete_cmd_prefix": "rm(",
     "library": "var_list.r",
     "varRefreshCmd": "cat(var_dic_list()) "
    }
   },
   "types_to_exclude": [
    "module",
    "function",
    "builtin_function_or_method",
    "instance",
    "_Feature"
   ],
   "window_display": false
  }
 },
 "nbformat": 4,
 "nbformat_minor": 5
}
