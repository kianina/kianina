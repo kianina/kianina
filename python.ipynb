{
 "cells": [
  {
   "attachments": {},
   "cell_type": "markdown",
   "id": "84dab0e0",
   "metadata": {},
   "source": [
    "# python基础"
   ]
  },
  {
   "attachments": {},
   "cell_type": "markdown",
   "id": "0642318e",
   "metadata": {},
   "source": [
    "## 字符串的操作"
   ]
  },
  {
   "cell_type": "code",
   "execution_count": 10,
   "id": "1d31c64a",
   "metadata": {},
   "outputs": [
    {
     "name": "stdout",
     "output_type": "stream",
     "text": [
      "Hello World\n"
     ]
    }
   ],
   "source": [
    "#以大写字符串的首个字母\n",
    "name=\"hello world\"\n",
    "print(name.title())"
   ]
  },
  {
   "cell_type": "code",
   "execution_count": 11,
   "id": "c1e4fa93",
   "metadata": {},
   "outputs": [
    {
     "name": "stdout",
     "output_type": "stream",
     "text": [
      "HELLO WORLD\n",
      "hello world\n"
     ]
    }
   ],
   "source": [
    "#upper和lower变换大小写\n",
    "print(name.upper())\n",
    "print(name.lower())"
   ]
  },
  {
   "cell_type": "code",
   "execution_count": 12,
   "id": "2d9cdaad",
   "metadata": {},
   "outputs": [],
   "source": [
    "#采用+号可以拼接字符串"
   ]
  },
  {
   "cell_type": "code",
   "execution_count": 13,
   "id": "ed6c37f6",
   "metadata": {},
   "outputs": [],
   "source": [
    "#采用制表符\\t和换行符\\n来添加空白"
   ]
  },
  {
   "cell_type": "code",
   "execution_count": 14,
   "id": "4f2df123",
   "metadata": {},
   "outputs": [
    {
     "name": "stdout",
     "output_type": "stream",
     "text": [
      "python \n",
      "python\n"
     ]
    }
   ],
   "source": [
    "#采用rstrip()来删除末尾空白\n",
    "favorite_language='python '\n",
    "print(favorite_language)\n",
    "#永久删除将值返回给原来的变量\n",
    "favorite_language=favorite_language.rstrip()\n",
    "print(favorite_language)\n",
    "#lstrip()删除开头空白和strip()删除两边的空白"
   ]
  },
  {
   "attachments": {},
   "cell_type": "markdown",
   "id": "f956acb9",
   "metadata": {},
   "source": [
    "## 数字的操作"
   ]
  },
  {
   "cell_type": "code",
   "execution_count": 15,
   "id": "f72148f4",
   "metadata": {},
   "outputs": [
    {
     "name": "stdout",
     "output_type": "stream",
     "text": [
      "1.5\n"
     ]
    }
   ],
   "source": [
    "#整数相除\n",
    "print(3.0/2)\n",
    "#python3无需在加小数点"
   ]
  },
  {
   "attachments": {},
   "cell_type": "markdown",
   "id": "ab855728",
   "metadata": {},
   "source": [
    "## 列表的操作"
   ]
  },
  {
   "cell_type": "code",
   "execution_count": 16,
   "id": "771bdf8b",
   "metadata": {},
   "outputs": [
    {
     "name": "stdout",
     "output_type": "stream",
     "text": [
      "['mull', 'hei', 'kianna', 'thre']\n"
     ]
    }
   ],
   "source": [
    "#insert()插入元素\n",
    "#直接就在该列表修改，不是副本\n",
    "list1=['mull','kianna','thre']\n",
    "list1.insert(1,'hei')\n",
    "print(list1)"
   ]
  },
  {
   "cell_type": "code",
   "execution_count": 17,
   "id": "d9cbd0fc",
   "metadata": {},
   "outputs": [
    {
     "name": "stdout",
     "output_type": "stream",
     "text": [
      "['mull', 'kianna', 'thre']\n"
     ]
    }
   ],
   "source": [
    "#del删除列表元素\n",
    "del list1[1]\n",
    "print(list1)"
   ]
  },
  {
   "cell_type": "code",
   "execution_count": 18,
   "id": "2c9dd659",
   "metadata": {},
   "outputs": [
    {
     "name": "stdout",
     "output_type": "stream",
     "text": [
      "['mull', 'kianna']\n",
      "thre\n"
     ]
    }
   ],
   "source": [
    "#采用pop()删除列表末尾的元素\n",
    "'''\n",
    "pop()每运行一次便弹出一个元素,且在该列表操作\n",
    "'''\n",
    "#将弹出的值付给poped_list\n",
    "poped_list=list1.pop()\n",
    "print(list1)\n",
    "print(poped_list)\n",
    "#在pop()中加入索引可以弹出任何位置的元素"
   ]
  },
  {
   "cell_type": "code",
   "execution_count": 19,
   "id": "d5814ebe",
   "metadata": {},
   "outputs": [
    {
     "data": {
      "text/plain": [
       "['kianna']"
      ]
     },
     "execution_count": 19,
     "metadata": {},
     "output_type": "execute_result"
    }
   ],
   "source": [
    "#remove()依据值来删除列表中的元素\n",
    "#每次只能删除一个，可以依据while\n",
    "list1\n",
    "list1.remove('mull')\n",
    "list1"
   ]
  },
  {
   "cell_type": "code",
   "execution_count": 20,
   "id": "bc088be3",
   "metadata": {},
   "outputs": [
    {
     "name": "stdout",
     "output_type": "stream",
     "text": [
      "['ada', 'daa', 'hua', 'rend']\n",
      "['rend', 'hua', 'daa', 'ada']\n"
     ]
    }
   ],
   "source": [
    "#采用sort()进行永久性的排序\n",
    "t_list=['ada','rend','daa','hua']\n",
    "t_list.sort()\n",
    "print(t_list)\n",
    "#采用倒序reverse=True\n",
    "t_list.sort(reverse=True)\n",
    "print(t_list)"
   ]
  },
  {
   "cell_type": "code",
   "execution_count": 21,
   "id": "5491f714",
   "metadata": {},
   "outputs": [
    {
     "name": "stdout",
     "output_type": "stream",
     "text": [
      "['rend', 'hua', 'daa', 'ada']\n",
      "['ada', 'daa', 'hua', 'rend']\n",
      "['rend', 'hua', 'daa', 'ada']\n"
     ]
    }
   ],
   "source": [
    "#使用sorted()临时排列列表\n",
    "print(t_list)\n",
    "#采用倒序reverse=True\n",
    "print(sorted(t_list))\n",
    "print(t_list)"
   ]
  },
  {
   "cell_type": "code",
   "execution_count": 22,
   "id": "84b00234",
   "metadata": {},
   "outputs": [
    {
     "name": "stdout",
     "output_type": "stream",
     "text": [
      "['ada', 'daa', 'hua', 'rend']\n"
     ]
    }
   ],
   "source": [
    "#永久反转列表元素的顺序\n",
    "t_list.reverse()\n",
    "print(t_list)"
   ]
  },
  {
   "cell_type": "code",
   "execution_count": 23,
   "id": "56cc324a",
   "metadata": {},
   "outputs": [
    {
     "name": "stdout",
     "output_type": "stream",
     "text": [
      "4\n"
     ]
    }
   ],
   "source": [
    "#查看列表长度len\n",
    "print(len(t_list))"
   ]
  },
  {
   "attachments": {},
   "cell_type": "markdown",
   "id": "991aac5b",
   "metadata": {},
   "source": [
    "## 创建数值列表\n"
   ]
  },
  {
   "cell_type": "code",
   "execution_count": 24,
   "id": "0e1cbfa7",
   "metadata": {},
   "outputs": [],
   "source": [
    "#使用range()创建数值列表"
   ]
  },
  {
   "cell_type": "code",
   "execution_count": 25,
   "id": "cfcbeeab",
   "metadata": {},
   "outputs": [
    {
     "name": "stdout",
     "output_type": "stream",
     "text": [
      "[1, 4, 9, 16, 25, 36, 49, 64, 81, 100]\n"
     ]
    }
   ],
   "source": [
    "#列表解析\n",
    "squares=[value**2 for value in range(1,11)]\n",
    "print(squares)"
   ]
  },
  {
   "attachments": {},
   "cell_type": "markdown",
   "id": "138a94cd",
   "metadata": {},
   "source": [
    "## 切片"
   ]
  },
  {
   "cell_type": "code",
   "execution_count": 26,
   "id": "48092ad5",
   "metadata": {},
   "outputs": [
    {
     "name": "stdout",
     "output_type": "stream",
     "text": [
      "[16, 25, 36, 49, 64, 81]\n"
     ]
    }
   ],
   "source": [
    "print(squares[3:9])"
   ]
  },
  {
   "cell_type": "code",
   "execution_count": 27,
   "id": "0b7ad63b",
   "metadata": {},
   "outputs": [
    {
     "name": "stdout",
     "output_type": "stream",
     "text": [
      "[1, 4, 9, 16, 25, 36, 49, 64, 81, 100]\n"
     ]
    }
   ],
   "source": [
    "#利用切片复制列表\n",
    "rue=squares[:]\n",
    "print(rue)\n",
    "#直接赋值名称不可行rue=squares\n",
    "#切片操作的方法是：consequence[start_index: end_index: step]"
   ]
  },
  {
   "cell_type": "code",
   "execution_count": 28,
   "id": "2f8124ac",
   "metadata": {},
   "outputs": [
    {
     "name": "stdout",
     "output_type": "stream",
     "text": [
      "[[0, 1, 2, 3, 4, 5, 6, 7, 8, 9], [1, 2, 3, 4, 5, 6, 7, 8, 9, 10], [2, 3, 4, 5, 6, 7, 8, 9, 10, 11], [3, 4, 5, 6, 7, 8, 9, 10, 11, 12], [4, 5, 6, 7, 8, 9, 10, 11, 12, 13]]\n",
      "[3, 4]\n"
     ]
    }
   ],
   "source": [
    "#二维列表的创建\n",
    "listNum = [[0]*10 for i in range(5)]\n",
    "listNum[3][4]=1\n",
    "for i in range(5):\n",
    "    for j in range(10):\n",
    "        listNum[i][j]=i+j    \n",
    "print(listNum)\n",
    "listNum1 = listNum[1][2:4]\n",
    "print(listNum1)"
   ]
  },
  {
   "cell_type": "code",
   "execution_count": 29,
   "id": "813b1f25",
   "metadata": {},
   "outputs": [
    {
     "data": {
      "text/plain": [
       "[9, 8, 7, 6, 5, 4, 3, 2, 1, 0]"
      ]
     },
     "execution_count": 29,
     "metadata": {},
     "output_type": "execute_result"
    }
   ],
   "source": [
    "#列表的倒数切片\n",
    "listNum2 = [i for i in range(10)]\n",
    "listNum2[::-1]"
   ]
  },
  {
   "attachments": {},
   "cell_type": "markdown",
   "id": "b82d1fad",
   "metadata": {},
   "source": [
    "## 元组"
   ]
  },
  {
   "cell_type": "code",
   "execution_count": 30,
   "id": "414b11bb",
   "metadata": {},
   "outputs": [
    {
     "name": "stdout",
     "output_type": "stream",
     "text": [
      "12\n",
      "(3, 5)\n"
     ]
    }
   ],
   "source": [
    "#元组是不可变的列表（）\n",
    "#给元组变量赋值是合法的\n",
    "a_tuple=(2,12,5)\n",
    "print(a_tuple[1])\n",
    "a_tuple=(3,5)\n",
    "print(a_tuple)"
   ]
  },
  {
   "attachments": {},
   "cell_type": "markdown",
   "id": "9f7e75ff",
   "metadata": {},
   "source": [
    "## if条件语句"
   ]
  },
  {
   "cell_type": "code",
   "execution_count": 31,
   "id": "d2a6d3bf",
   "metadata": {},
   "outputs": [],
   "source": [
    "#and和or进行条件判断\n",
    "#in和not in关键字判断是否在某个数据结构中"
   ]
  },
  {
   "attachments": {},
   "cell_type": "markdown",
   "id": "41c49bc1",
   "metadata": {},
   "source": [
    "## 字典"
   ]
  },
  {
   "cell_type": "code",
   "execution_count": 32,
   "id": "f855c639",
   "metadata": {},
   "outputs": [
    {
     "name": "stdout",
     "output_type": "stream",
     "text": [
      "琪亚娜\n"
     ]
    }
   ],
   "source": [
    "a_dict={\"空之律者\":\"琪亚娜\",'雷之律者':'雷电芽衣'}\n",
    "print(a_dict['空之律者'])"
   ]
  },
  {
   "cell_type": "code",
   "execution_count": 33,
   "id": "3224703f",
   "metadata": {},
   "outputs": [
    {
     "name": "stdout",
     "output_type": "stream",
     "text": [
      "{'空之律者': '琪亚娜', '雷之律者': '雷电芽衣', '理之律者': '布洛妮娅'}\n"
     ]
    }
   ],
   "source": [
    "#添加一对键值\n",
    "a_dict['理之律者']='布洛妮娅'\n",
    "print(a_dict)"
   ]
  },
  {
   "cell_type": "code",
   "execution_count": 34,
   "id": "f512e343",
   "metadata": {},
   "outputs": [
    {
     "name": "stdout",
     "output_type": "stream",
     "text": [
      "{'空之律者': '琪亚娜', '雷之律者': '雷电芽衣'}\n"
     ]
    }
   ],
   "source": [
    "#删除一对键值\n",
    "del a_dict['理之律者']\n",
    "print(a_dict)"
   ]
  },
  {
   "cell_type": "code",
   "execution_count": 35,
   "id": "c84855ff",
   "metadata": {},
   "outputs": [
    {
     "name": "stdout",
     "output_type": "stream",
     "text": [
      "空之律者:琪亚娜\n",
      "雷之律者:雷电芽衣\n"
     ]
    }
   ],
   "source": [
    "#遍历字典\n",
    "#items()返回一个键值对列表\n",
    "for k,v in a_dict.items():\n",
    "    print(k+ \":\"+ v)\n"
   ]
  },
  {
   "cell_type": "code",
   "execution_count": 36,
   "id": "5a9a78f1",
   "metadata": {
    "collapsed": true,
    "jupyter": {
     "outputs_hidden": true
    }
   },
   "outputs": [
    {
     "name": "stdout",
     "output_type": "stream",
     "text": [
      "空之律者\n",
      "雷之律者\n"
     ]
    }
   ],
   "source": [
    "#遍历字典中的所有的键keys()\n",
    "#返回的是一个列表\n",
    "for k in a_dict.keys():\n",
    "    print(k)"
   ]
  },
  {
   "cell_type": "code",
   "execution_count": 37,
   "id": "b77a5c61",
   "metadata": {},
   "outputs": [
    {
     "name": "stdout",
     "output_type": "stream",
     "text": [
      "空之律者\n",
      "雷之律者\n"
     ]
    }
   ],
   "source": [
    "#按顺序遍历所有的键\n",
    "for k in sorted(a_dict.keys()):\n",
    "    print(k)"
   ]
  },
  {
   "cell_type": "code",
   "execution_count": 38,
   "id": "e2361762",
   "metadata": {
    "collapsed": true,
    "jupyter": {
     "outputs_hidden": true
    }
   },
   "outputs": [
    {
     "name": "stdout",
     "output_type": "stream",
     "text": [
      "琪亚娜\n",
      "雷电芽衣\n"
     ]
    }
   ],
   "source": [
    "#遍历列表中所有的值values()\n",
    "#返回的是列表\n",
    "#当有很多冗余项可以采用集合set()\n",
    "for k in a_dict.values():\n",
    "    print(k)"
   ]
  },
  {
   "attachments": {},
   "cell_type": "markdown",
   "id": "0245019b",
   "metadata": {},
   "source": [
    "## 用户输入和while"
   ]
  },
  {
   "cell_type": "code",
   "execution_count": 39,
   "id": "f7ebfb82",
   "metadata": {},
   "outputs": [
    {
     "name": "stdout",
     "output_type": "stream",
     "text": [
      "\n"
     ]
    }
   ],
   "source": [
    "mas=input(\"please input a word:\")\n",
    "print(mas)\n",
    "#输入以字符串表示"
   ]
  },
  {
   "cell_type": "code",
   "execution_count": 40,
   "id": "5a9f4a9b",
   "metadata": {},
   "outputs": [],
   "source": [
    "#采用int()进行数值的输入\n",
    "num=input()"
   ]
  },
  {
   "cell_type": "code",
   "execution_count": 41,
   "id": "37969c7c",
   "metadata": {},
   "outputs": [
    {
     "name": "stdout",
     "output_type": "stream",
     "text": [
      "[1, 3, 5]\n"
     ]
    }
   ],
   "source": [
    "#python过滤器\n",
    "func = lambda x:x%2\n",
    "result = filter(func, [1, 2, 3, 4, 5])\n",
    "print(list(result))"
   ]
  },
  {
   "cell_type": "code",
   "execution_count": 42,
   "id": "77844156",
   "metadata": {},
   "outputs": [
    {
     "name": "stdout",
     "output_type": "stream",
     "text": [
      "[]\n"
     ]
    }
   ],
   "source": [
    "list = ['1', '2', '3', '4', '5']\n",
    "print (list[10:])"
   ]
  },
  {
   "attachments": {},
   "cell_type": "markdown",
   "id": "457a3194",
   "metadata": {},
   "source": [
    "## 函数"
   ]
  },
  {
   "cell_type": "code",
   "execution_count": 43,
   "id": "0c2af74f",
   "metadata": {
    "collapsed": true,
    "jupyter": {
     "outputs_hidden": true
    }
   },
   "outputs": [
    {
     "name": "stdout",
     "output_type": "stream",
     "text": [
      "it is :pee\n",
      "it is :heee\n"
     ]
    }
   ],
   "source": [
    "#1.关键字实参\n",
    "def pet_name(dog,cat):\n",
    "    print(\"it is :\"+dog)\n",
    "    print('it is :'+cat)\n",
    "\n",
    "pet_name(cat='heee',dog='pee')"
   ]
  },
  {
   "cell_type": "code",
   "execution_count": 44,
   "id": "c4ff10c8",
   "metadata": {},
   "outputs": [
    {
     "name": "stdout",
     "output_type": "stream",
     "text": [
      "hel get\n",
      "ge eg he\n"
     ]
    }
   ],
   "source": [
    "#2.可以给形参设置默认值，如果实参无值传递，则采用默认值\n",
    "#3.采用空字符串让实参变成可选\n",
    "def people_name(first,second,thrid=''):\n",
    "    if thrid:\n",
    "        out=first+' '+second+' '+thrid        \n",
    "    else:\n",
    "        out=first+' '+second\n",
    "    return out\n",
    "mu=people_name('hel','get')\n",
    "cou=people_name('ge','eg','he')\n",
    "print(mu)\n",
    "print(cou)"
   ]
  },
  {
   "cell_type": "code",
   "execution_count": 45,
   "id": "bef7adc1",
   "metadata": {},
   "outputs": [],
   "source": [
    "#4.函数可以返回任何类型的值\n",
    "#5.在函数中修改列表是永久性的\n",
    "#6.传递列表的副本防止列表被修改"
   ]
  },
  {
   "cell_type": "code",
   "execution_count": 46,
   "id": "6454ed7c",
   "metadata": {
    "collapsed": true,
    "jupyter": {
     "outputs_hidden": true
    }
   },
   "outputs": [
    {
     "name": "stdout",
     "output_type": "stream",
     "text": [
      "tian\n",
      "dei\n"
     ]
    }
   ],
   "source": [
    "#7.任意数量的实参*name生成一个元组\n",
    "#在多个形参的时候，必须放在最后\n",
    "def dog_name(*name):\n",
    "    for n_name in name:\n",
    "        print(n_name)\n",
    "dog_name('tian','dei')\n",
    "#8.**name生成一个字典"
   ]
  },
  {
   "cell_type": "code",
   "execution_count": 47,
   "id": "ef2169ca",
   "metadata": {
    "collapsed": true,
    "jupyter": {
     "outputs_hidden": true
    }
   },
   "outputs": [
    {
     "data": {
      "text/plain": [
       "'\\nas用于起别名\\nfrom a import*表示导入所有的函数\\n'"
      ]
     },
     "execution_count": 47,
     "metadata": {},
     "output_type": "execute_result"
    }
   ],
   "source": [
    "#9.导入模块\n",
    "'''\n",
    "as用于起别名\n",
    "from a import*表示导入所有的函数\n",
    "'''"
   ]
  },
  {
   "attachments": {},
   "cell_type": "markdown",
   "id": "c46e8b5f",
   "metadata": {
    "heading_collapsed": true
   },
   "source": [
    "## 类"
   ]
  },
  {
   "attachments": {},
   "cell_type": "markdown",
   "id": "ba9769d2",
   "metadata": {
    "heading_collapsed": true
   },
   "source": [
    "## 文件和异常"
   ]
  },
  {
   "attachments": {},
   "cell_type": "markdown",
   "id": "0f8ad2af",
   "metadata": {
    "hidden": true
   },
   "source": [
    "### 文件"
   ]
  },
  {
   "cell_type": "code",
   "execution_count": 48,
   "id": "d544cccc",
   "metadata": {
    "collapsed": true,
    "hidden": true,
    "jupyter": {
     "outputs_hidden": true
    }
   },
   "outputs": [
    {
     "ename": "FileNotFoundError",
     "evalue": "[Errno 2] No such file or directory: './train.csv'",
     "output_type": "error",
     "traceback": [
      "\u001b[1;31m---------------------------------------------------------------------------\u001b[0m",
      "\u001b[1;31mFileNotFoundError\u001b[0m                         Traceback (most recent call last)",
      "\u001b[1;32m~\\AppData\\Local\\Temp\\ipykernel_22256\\1898446899.py\u001b[0m in \u001b[0;36m<module>\u001b[1;34m\u001b[0m\n\u001b[0;32m      1\u001b[0m \u001b[1;31m#打开文件\u001b[0m\u001b[1;33m\u001b[0m\u001b[1;33m\u001b[0m\u001b[0m\n\u001b[1;32m----> 2\u001b[1;33m \u001b[1;32mwith\u001b[0m \u001b[0mopen\u001b[0m\u001b[1;33m(\u001b[0m\u001b[1;34m'./train.csv'\u001b[0m\u001b[1;33m)\u001b[0m \u001b[1;32mas\u001b[0m \u001b[0mf\u001b[0m\u001b[1;33m:\u001b[0m\u001b[1;33m\u001b[0m\u001b[1;33m\u001b[0m\u001b[0m\n\u001b[0m\u001b[0;32m      3\u001b[0m     \u001b[0mcontent\u001b[0m\u001b[1;33m=\u001b[0m\u001b[0mf\u001b[0m\u001b[1;33m.\u001b[0m\u001b[0mread\u001b[0m\u001b[1;33m(\u001b[0m\u001b[1;33m)\u001b[0m\u001b[1;33m\u001b[0m\u001b[1;33m\u001b[0m\u001b[0m\n\u001b[0;32m      4\u001b[0m     \u001b[0mprint\u001b[0m\u001b[1;33m(\u001b[0m\u001b[0mcontent\u001b[0m\u001b[1;33m)\u001b[0m\u001b[1;33m\u001b[0m\u001b[1;33m\u001b[0m\u001b[0m\n",
      "\u001b[1;31mFileNotFoundError\u001b[0m: [Errno 2] No such file or directory: './train.csv'"
     ]
    }
   ],
   "source": [
    "#打开文件\n",
    "with open('./train.csv') as f:\n",
    "    content=f.read()\n",
    "    print(content)"
   ]
  },
  {
   "cell_type": "code",
   "execution_count": null,
   "id": "ed9a5051",
   "metadata": {
    "collapsed": true,
    "hidden": true,
    "jupyter": {
     "outputs_hidden": true
    }
   },
   "outputs": [
    {
     "name": "stdout",
     "output_type": "stream",
     "text": [
      "PassengerId,Survived,Pclass,Name,Sex,Age,SibSp,Parch,Ticket,Fare,Cabin,Embarked\n",
      "\n",
      "1,0,3,\"Braund, Mr. Owen Harris\",male,22,1,0,A/5 21171,7.25,,S\n",
      "\n",
      "2,1,1,\"Cumings, Mrs. John Bradley (Florence Briggs Thayer)\",female,38,1,0,PC 17599,71.2833,C85,C\n",
      "\n",
      "3,1,3,\"Heikkinen, Miss. Laina\",female,26,0,0,STON/O2. 3101282,7.925,,S\n",
      "\n",
      "4,1,1,\"Futrelle, Mrs. Jacques Heath (Lily May Peel)\",female,35,1,0,113803,53.1,C123,S\n",
      "\n",
      "5,0,3,\"Allen, Mr. William Henry\",male,35,0,0,373450,8.05,,S\n",
      "\n",
      "6,0,3,\"Moran, Mr. James\",male,,0,0,330877,8.4583,,Q\n",
      "\n",
      "7,0,1,\"McCarthy, Mr. Timothy J\",male,54,0,0,17463,51.8625,E46,S\n",
      "\n",
      "8,0,3,\"Palsson, Master. Gosta Leonard\",male,2,3,1,349909,21.075,,S\n",
      "\n",
      "9,1,3,\"Johnson, Mrs. Oscar W (Elisabeth Vilhelmina Berg)\",female,27,0,2,347742,11.1333,,S\n",
      "\n",
      "10,1,2,\"Nasser, Mrs. Nicholas (Adele Achem)\",female,14,1,0,237736,30.0708,,C\n",
      "\n",
      "11,1,3,\"Sandstrom, Miss. Marguerite Rut\",female,4,1,1,PP 9549,16.7,G6,S\n",
      "\n",
      "12,1,1,\"Bonnell, Miss. Elizabeth\",female,58,0,0,113783,26.55,C103,S\n",
      "\n",
      "13,0,3,\"Saundercock, Mr. William Henry\",male,20,0,0,A/5. 2151,8.05,,S\n",
      "\n",
      "14,0,3,\"Andersson, Mr. Anders Johan\",male,39,1,5,347082,31.275,,S\n",
      "\n",
      "15,0,3,\"Vestrom, Miss. Hulda Amanda Adolfina\",female,14,0,0,350406,7.8542,,S\n",
      "\n",
      "16,1,2,\"Hewlett, Mrs. (Mary D Kingcome) \",female,55,0,0,248706,16,,S\n",
      "\n",
      "17,0,3,\"Rice, Master. Eugene\",male,2,4,1,382652,29.125,,Q\n",
      "\n",
      "18,1,2,\"Williams, Mr. Charles Eugene\",male,,0,0,244373,13,,S\n",
      "\n",
      "19,0,3,\"Vander Planke, Mrs. Julius (Emelia Maria Vandemoortele)\",female,31,1,0,345763,18,,S\n",
      "\n",
      "20,1,3,\"Masselmani, Mrs. Fatima\",female,,0,0,2649,7.225,,C\n",
      "\n",
      "21,0,2,\"Fynney, Mr. Joseph J\",male,35,0,0,239865,26,,S\n",
      "\n",
      "22,1,2,\"Beesley, Mr. Lawrence\",male,34,0,0,248698,13,D56,S\n",
      "\n",
      "23,1,3,\"McGowan, Miss. Anna \"\"Annie\"\"\",female,15,0,0,330923,8.0292,,Q\n",
      "\n",
      "24,1,1,\"Sloper, Mr. William Thompson\",male,28,0,0,113788,35.5,A6,S\n",
      "\n",
      "25,0,3,\"Palsson, Miss. Torborg Danira\",female,8,3,1,349909,21.075,,S\n",
      "\n",
      "26,1,3,\"Asplund, Mrs. Carl Oscar (Selma Augusta Emilia Johansson)\",female,38,1,5,347077,31.3875,,S\n",
      "\n",
      "27,0,3,\"Emir, Mr. Farred Chehab\",male,,0,0,2631,7.225,,C\n",
      "\n",
      "28,0,1,\"Fortune, Mr. Charles Alexander\",male,19,3,2,19950,263,C23 C25 C27,S\n",
      "\n",
      "29,1,3,\"O'Dwyer, Miss. Ellen \"\"Nellie\"\"\",female,,0,0,330959,7.8792,,Q\n",
      "\n",
      "30,0,3,\"Todoroff, Mr. Lalio\",male,,0,0,349216,7.8958,,S\n",
      "\n",
      "31,0,1,\"Uruchurtu, Don. Manuel E\",male,40,0,0,PC 17601,27.7208,,C\n",
      "\n",
      "32,1,1,\"Spencer, Mrs. William Augustus (Marie Eugenie)\",female,,1,0,PC 17569,146.5208,B78,C\n",
      "\n",
      "33,1,3,\"Glynn, Miss. Mary Agatha\",female,,0,0,335677,7.75,,Q\n",
      "\n",
      "34,0,2,\"Wheadon, Mr. Edward H\",male,66,0,0,C.A. 24579,10.5,,S\n",
      "\n",
      "35,0,1,\"Meyer, Mr. Edgar Joseph\",male,28,1,0,PC 17604,82.1708,,C\n",
      "\n",
      "36,0,1,\"Holverson, Mr. Alexander Oskar\",male,42,1,0,113789,52,,S\n",
      "\n",
      "37,1,3,\"Mamee, Mr. Hanna\",male,,0,0,2677,7.2292,,C\n",
      "\n",
      "38,0,3,\"Cann, Mr. Ernest Charles\",male,21,0,0,A./5. 2152,8.05,,S\n",
      "\n",
      "39,0,3,\"Vander Planke, Miss. Augusta Maria\",female,18,2,0,345764,18,,S\n",
      "\n",
      "40,1,3,\"Nicola-Yarred, Miss. Jamila\",female,14,1,0,2651,11.2417,,C\n",
      "\n",
      "41,0,3,\"Ahlin, Mrs. Johan (Johanna Persdotter Larsson)\",female,40,1,0,7546,9.475,,S\n",
      "\n",
      "42,0,2,\"Turpin, Mrs. William John Robert (Dorothy Ann Wonnacott)\",female,27,1,0,11668,21,,S\n",
      "\n",
      "43,0,3,\"Kraeff, Mr. Theodor\",male,,0,0,349253,7.8958,,C\n",
      "\n",
      "44,1,2,\"Laroche, Miss. Simonne Marie Anne Andree\",female,3,1,2,SC/Paris 2123,41.5792,,C\n",
      "\n",
      "45,1,3,\"Devaney, Miss. Margaret Delia\",female,19,0,0,330958,7.8792,,Q\n",
      "\n",
      "46,0,3,\"Rogers, Mr. William John\",male,,0,0,S.C./A.4. 23567,8.05,,S\n",
      "\n",
      "47,0,3,\"Lennon, Mr. Denis\",male,,1,0,370371,15.5,,Q\n",
      "\n",
      "48,1,3,\"O'Driscoll, Miss. Bridget\",female,,0,0,14311,7.75,,Q\n",
      "\n",
      "49,0,3,\"Samaan, Mr. Youssef\",male,,2,0,2662,21.6792,,C\n",
      "\n",
      "50,0,3,\"Arnold-Franchi, Mrs. Josef (Josefine Franchi)\",female,18,1,0,349237,17.8,,S\n",
      "\n",
      "51,0,3,\"Panula, Master. Juha Niilo\",male,7,4,1,3101295,39.6875,,S\n",
      "\n",
      "52,0,3,\"Nosworthy, Mr. Richard Cater\",male,21,0,0,A/4. 39886,7.8,,S\n",
      "\n",
      "53,1,1,\"Harper, Mrs. Henry Sleeper (Myna Haxtun)\",female,49,1,0,PC 17572,76.7292,D33,C\n",
      "\n",
      "54,1,2,\"Faunthorpe, Mrs. Lizzie (Elizabeth Anne Wilkinson)\",female,29,1,0,2926,26,,S\n",
      "\n",
      "55,0,1,\"Ostby, Mr. Engelhart Cornelius\",male,65,0,1,113509,61.9792,B30,C\n",
      "\n",
      "56,1,1,\"Woolner, Mr. Hugh\",male,,0,0,19947,35.5,C52,S\n",
      "\n",
      "57,1,2,\"Rugg, Miss. Emily\",female,21,0,0,C.A. 31026,10.5,,S\n",
      "\n",
      "58,0,3,\"Novel, Mr. Mansouer\",male,28.5,0,0,2697,7.2292,,C\n",
      "\n",
      "59,1,2,\"West, Miss. Constance Mirium\",female,5,1,2,C.A. 34651,27.75,,S\n",
      "\n",
      "60,0,3,\"Goodwin, Master. William Frederick\",male,11,5,2,CA 2144,46.9,,S\n",
      "\n",
      "61,0,3,\"Sirayanian, Mr. Orsen\",male,22,0,0,2669,7.2292,,C\n",
      "\n",
      "62,1,1,\"Icard, Miss. Amelie\",female,38,0,0,113572,80,B28,\n",
      "\n",
      "63,0,1,\"Harris, Mr. Henry Birkhardt\",male,45,1,0,36973,83.475,C83,S\n",
      "\n",
      "64,0,3,\"Skoog, Master. Harald\",male,4,3,2,347088,27.9,,S\n",
      "\n",
      "65,0,1,\"Stewart, Mr. Albert A\",male,,0,0,PC 17605,27.7208,,C\n",
      "\n",
      "66,1,3,\"Moubarek, Master. Gerios\",male,,1,1,2661,15.2458,,C\n",
      "\n",
      "67,1,2,\"Nye, Mrs. (Elizabeth Ramell)\",female,29,0,0,C.A. 29395,10.5,F33,S\n",
      "\n",
      "68,0,3,\"Crease, Mr. Ernest James\",male,19,0,0,S.P. 3464,8.1583,,S\n",
      "\n",
      "69,1,3,\"Andersson, Miss. Erna Alexandra\",female,17,4,2,3101281,7.925,,S\n",
      "\n",
      "70,0,3,\"Kink, Mr. Vincenz\",male,26,2,0,315151,8.6625,,S\n",
      "\n",
      "71,0,2,\"Jenkin, Mr. Stephen Curnow\",male,32,0,0,C.A. 33111,10.5,,S\n",
      "\n",
      "72,0,3,\"Goodwin, Miss. Lillian Amy\",female,16,5,2,CA 2144,46.9,,S\n",
      "\n",
      "73,0,2,\"Hood, Mr. Ambrose Jr\",male,21,0,0,S.O.C. 14879,73.5,,S\n",
      "\n",
      "74,0,3,\"Chronopoulos, Mr. Apostolos\",male,26,1,0,2680,14.4542,,C\n",
      "\n",
      "75,1,3,\"Bing, Mr. Lee\",male,32,0,0,1601,56.4958,,S\n",
      "\n",
      "76,0,3,\"Moen, Mr. Sigurd Hansen\",male,25,0,0,348123,7.65,F G73,S\n",
      "\n",
      "77,0,3,\"Staneff, Mr. Ivan\",male,,0,0,349208,7.8958,,S\n",
      "\n",
      "78,0,3,\"Moutal, Mr. Rahamin Haim\",male,,0,0,374746,8.05,,S\n",
      "\n",
      "79,1,2,\"Caldwell, Master. Alden Gates\",male,0.83,0,2,248738,29,,S\n",
      "\n",
      "80,1,3,\"Dowdell, Miss. Elizabeth\",female,30,0,0,364516,12.475,,S\n",
      "\n",
      "81,0,3,\"Waelens, Mr. Achille\",male,22,0,0,345767,9,,S\n",
      "\n",
      "82,1,3,\"Sheerlinck, Mr. Jan Baptist\",male,29,0,0,345779,9.5,,S\n",
      "\n",
      "83,1,3,\"McDermott, Miss. Brigdet Delia\",female,,0,0,330932,7.7875,,Q\n",
      "\n",
      "84,0,1,\"Carrau, Mr. Francisco M\",male,28,0,0,113059,47.1,,S\n",
      "\n",
      "85,1,2,\"Ilett, Miss. Bertha\",female,17,0,0,SO/C 14885,10.5,,S\n",
      "\n",
      "86,1,3,\"Backstrom, Mrs. Karl Alfred (Maria Mathilda Gustafsson)\",female,33,3,0,3101278,15.85,,S\n",
      "\n",
      "87,0,3,\"Ford, Mr. William Neal\",male,16,1,3,W./C. 6608,34.375,,S\n",
      "\n",
      "88,0,3,\"Slocovski, Mr. Selman Francis\",male,,0,0,SOTON/OQ 392086,8.05,,S\n",
      "\n",
      "89,1,1,\"Fortune, Miss. Mabel Helen\",female,23,3,2,19950,263,C23 C25 C27,S\n",
      "\n",
      "90,0,3,\"Celotti, Mr. Francesco\",male,24,0,0,343275,8.05,,S\n",
      "\n",
      "91,0,3,\"Christmann, Mr. Emil\",male,29,0,0,343276,8.05,,S\n",
      "\n",
      "92,0,3,\"Andreasson, Mr. Paul Edvin\",male,20,0,0,347466,7.8542,,S\n",
      "\n",
      "93,0,1,\"Chaffee, Mr. Herbert Fuller\",male,46,1,0,W.E.P. 5734,61.175,E31,S\n",
      "\n",
      "94,0,3,\"Dean, Mr. Bertram Frank\",male,26,1,2,C.A. 2315,20.575,,S\n",
      "\n",
      "95,0,3,\"Coxon, Mr. Daniel\",male,59,0,0,364500,7.25,,S\n",
      "\n",
      "96,0,3,\"Shorney, Mr. Charles Joseph\",male,,0,0,374910,8.05,,S\n",
      "\n",
      "97,0,1,\"Goldschmidt, Mr. George B\",male,71,0,0,PC 17754,34.6542,A5,C\n",
      "\n",
      "98,1,1,\"Greenfield, Mr. William Bertram\",male,23,0,1,PC 17759,63.3583,D10 D12,C\n",
      "\n",
      "99,1,2,\"Doling, Mrs. John T (Ada Julia Bone)\",female,34,0,1,231919,23,,S\n",
      "\n",
      "100,0,2,\"Kantor, Mr. Sinai\",male,34,1,0,244367,26,,S\n",
      "\n",
      "101,0,3,\"Petranec, Miss. Matilda\",female,28,0,0,349245,7.8958,,S\n",
      "\n",
      "102,0,3,\"Petroff, Mr. Pastcho (\"\"Pentcho\"\")\",male,,0,0,349215,7.8958,,S\n",
      "\n",
      "103,0,1,\"White, Mr. Richard Frasar\",male,21,0,1,35281,77.2875,D26,S\n",
      "\n",
      "104,0,3,\"Johansson, Mr. Gustaf Joel\",male,33,0,0,7540,8.6542,,S\n",
      "\n",
      "105,0,3,\"Gustafsson, Mr. Anders Vilhelm\",male,37,2,0,3101276,7.925,,S\n",
      "\n",
      "106,0,3,\"Mionoff, Mr. Stoytcho\",male,28,0,0,349207,7.8958,,S\n",
      "\n",
      "107,1,3,\"Salkjelsvik, Miss. Anna Kristine\",female,21,0,0,343120,7.65,,S\n",
      "\n",
      "108,1,3,\"Moss, Mr. Albert Johan\",male,,0,0,312991,7.775,,S\n",
      "\n",
      "109,0,3,\"Rekic, Mr. Tido\",male,38,0,0,349249,7.8958,,S\n",
      "\n",
      "110,1,3,\"Moran, Miss. Bertha\",female,,1,0,371110,24.15,,Q\n",
      "\n",
      "111,0,1,\"Porter, Mr. Walter Chamberlain\",male,47,0,0,110465,52,C110,S\n",
      "\n",
      "112,0,3,\"Zabour, Miss. Hileni\",female,14.5,1,0,2665,14.4542,,C\n",
      "\n",
      "113,0,3,\"Barton, Mr. David John\",male,22,0,0,324669,8.05,,S\n",
      "\n",
      "114,0,3,\"Jussila, Miss. Katriina\",female,20,1,0,4136,9.825,,S\n",
      "\n",
      "115,0,3,\"Attalah, Miss. Malake\",female,17,0,0,2627,14.4583,,C\n",
      "\n",
      "116,0,3,\"Pekoniemi, Mr. Edvard\",male,21,0,0,STON/O 2. 3101294,7.925,,S\n",
      "\n",
      "117,0,3,\"Connors, Mr. Patrick\",male,70.5,0,0,370369,7.75,,Q\n",
      "\n",
      "118,0,2,\"Turpin, Mr. William John Robert\",male,29,1,0,11668,21,,S\n",
      "\n",
      "119,0,1,\"Baxter, Mr. Quigg Edmond\",male,24,0,1,PC 17558,247.5208,B58 B60,C\n",
      "\n",
      "120,0,3,\"Andersson, Miss. Ellis Anna Maria\",female,2,4,2,347082,31.275,,S\n",
      "\n",
      "121,0,2,\"Hickman, Mr. Stanley George\",male,21,2,0,S.O.C. 14879,73.5,,S\n",
      "\n",
      "122,0,3,\"Moore, Mr. Leonard Charles\",male,,0,0,A4. 54510,8.05,,S\n",
      "\n",
      "123,0,2,\"Nasser, Mr. Nicholas\",male,32.5,1,0,237736,30.0708,,C\n",
      "\n",
      "124,1,2,\"Webber, Miss. Susan\",female,32.5,0,0,27267,13,E101,S\n",
      "\n",
      "125,0,1,\"White, Mr. Percival Wayland\",male,54,0,1,35281,77.2875,D26,S\n",
      "\n",
      "126,1,3,\"Nicola-Yarred, Master. Elias\",male,12,1,0,2651,11.2417,,C\n",
      "\n",
      "127,0,3,\"McMahon, Mr. Martin\",male,,0,0,370372,7.75,,Q\n",
      "\n",
      "128,1,3,\"Madsen, Mr. Fridtjof Arne\",male,24,0,0,C 17369,7.1417,,S\n",
      "\n",
      "129,1,3,\"Peter, Miss. Anna\",female,,1,1,2668,22.3583,F E69,C\n",
      "\n",
      "130,0,3,\"Ekstrom, Mr. Johan\",male,45,0,0,347061,6.975,,S\n",
      "\n",
      "131,0,3,\"Drazenoic, Mr. Jozef\",male,33,0,0,349241,7.8958,,C\n",
      "\n",
      "132,0,3,\"Coelho, Mr. Domingos Fernandeo\",male,20,0,0,SOTON/O.Q. 3101307,7.05,,S\n",
      "\n",
      "133,0,3,\"Robins, Mrs. Alexander A (Grace Charity Laury)\",female,47,1,0,A/5. 3337,14.5,,S\n",
      "\n",
      "134,1,2,\"Weisz, Mrs. Leopold (Mathilde Francoise Pede)\",female,29,1,0,228414,26,,S\n",
      "\n",
      "135,0,2,\"Sobey, Mr. Samuel James Hayden\",male,25,0,0,C.A. 29178,13,,S\n",
      "\n",
      "136,0,2,\"Richard, Mr. Emile\",male,23,0,0,SC/PARIS 2133,15.0458,,C\n",
      "\n",
      "137,1,1,\"Newsom, Miss. Helen Monypeny\",female,19,0,2,11752,26.2833,D47,S\n",
      "\n",
      "138,0,1,\"Futrelle, Mr. Jacques Heath\",male,37,1,0,113803,53.1,C123,S\n",
      "\n",
      "139,0,3,\"Osen, Mr. Olaf Elon\",male,16,0,0,7534,9.2167,,S\n",
      "\n",
      "140,0,1,\"Giglio, Mr. Victor\",male,24,0,0,PC 17593,79.2,B86,C\n",
      "\n",
      "141,0,3,\"Boulos, Mrs. Joseph (Sultana)\",female,,0,2,2678,15.2458,,C\n",
      "\n",
      "142,1,3,\"Nysten, Miss. Anna Sofia\",female,22,0,0,347081,7.75,,S\n",
      "\n",
      "143,1,3,\"Hakkarainen, Mrs. Pekka Pietari (Elin Matilda Dolck)\",female,24,1,0,STON/O2. 3101279,15.85,,S\n",
      "\n",
      "144,0,3,\"Burke, Mr. Jeremiah\",male,19,0,0,365222,6.75,,Q\n",
      "\n",
      "145,0,2,\"Andrew, Mr. Edgardo Samuel\",male,18,0,0,231945,11.5,,S\n",
      "\n",
      "146,0,2,\"Nicholls, Mr. Joseph Charles\",male,19,1,1,C.A. 33112,36.75,,S\n",
      "\n",
      "147,1,3,\"Andersson, Mr. August Edvard (\"\"Wennerstrom\"\")\",male,27,0,0,350043,7.7958,,S\n",
      "\n",
      "148,0,3,\"Ford, Miss. Robina Maggie \"\"Ruby\"\"\",female,9,2,2,W./C. 6608,34.375,,S\n",
      "\n",
      "149,0,2,\"Navratil, Mr. Michel (\"\"Louis M Hoffman\"\")\",male,36.5,0,2,230080,26,F2,S\n",
      "\n",
      "150,0,2,\"Byles, Rev. Thomas Roussel Davids\",male,42,0,0,244310,13,,S\n",
      "\n",
      "151,0,2,\"Bateman, Rev. Robert James\",male,51,0,0,S.O.P. 1166,12.525,,S\n",
      "\n",
      "152,1,1,\"Pears, Mrs. Thomas (Edith Wearne)\",female,22,1,0,113776,66.6,C2,S\n",
      "\n",
      "153,0,3,\"Meo, Mr. Alfonzo\",male,55.5,0,0,A.5. 11206,8.05,,S\n",
      "\n",
      "154,0,3,\"van Billiard, Mr. Austin Blyler\",male,40.5,0,2,A/5. 851,14.5,,S\n",
      "\n",
      "155,0,3,\"Olsen, Mr. Ole Martin\",male,,0,0,Fa 265302,7.3125,,S\n",
      "\n",
      "156,0,1,\"Williams, Mr. Charles Duane\",male,51,0,1,PC 17597,61.3792,,C\n",
      "\n",
      "157,1,3,\"Gilnagh, Miss. Katherine \"\"Katie\"\"\",female,16,0,0,35851,7.7333,,Q\n",
      "\n",
      "158,0,3,\"Corn, Mr. Harry\",male,30,0,0,SOTON/OQ 392090,8.05,,S\n",
      "\n",
      "159,0,3,\"Smiljanic, Mr. Mile\",male,,0,0,315037,8.6625,,S\n",
      "\n",
      "160,0,3,\"Sage, Master. Thomas Henry\",male,,8,2,CA. 2343,69.55,,S\n",
      "\n",
      "161,0,3,\"Cribb, Mr. John Hatfield\",male,44,0,1,371362,16.1,,S\n",
      "\n",
      "162,1,2,\"Watt, Mrs. James (Elizabeth \"\"Bessie\"\" Inglis Milne)\",female,40,0,0,C.A. 33595,15.75,,S\n",
      "\n",
      "163,0,3,\"Bengtsson, Mr. John Viktor\",male,26,0,0,347068,7.775,,S\n",
      "\n",
      "164,0,3,\"Calic, Mr. Jovo\",male,17,0,0,315093,8.6625,,S\n",
      "\n",
      "165,0,3,\"Panula, Master. Eino Viljami\",male,1,4,1,3101295,39.6875,,S\n",
      "\n",
      "166,1,3,\"Goldsmith, Master. Frank John William \"\"Frankie\"\"\",male,9,0,2,363291,20.525,,S\n",
      "\n",
      "167,1,1,\"Chibnall, Mrs. (Edith Martha Bowerman)\",female,,0,1,113505,55,E33,S\n",
      "\n",
      "168,0,3,\"Skoog, Mrs. William (Anna Bernhardina Karlsson)\",female,45,1,4,347088,27.9,,S\n",
      "\n",
      "169,0,1,\"Baumann, Mr. John D\",male,,0,0,PC 17318,25.925,,S\n",
      "\n",
      "170,0,3,\"Ling, Mr. Lee\",male,28,0,0,1601,56.4958,,S\n",
      "\n",
      "171,0,1,\"Van der hoef, Mr. Wyckoff\",male,61,0,0,111240,33.5,B19,S\n",
      "\n",
      "172,0,3,\"Rice, Master. Arthur\",male,4,4,1,382652,29.125,,Q\n",
      "\n",
      "173,1,3,\"Johnson, Miss. Eleanor Ileen\",female,1,1,1,347742,11.1333,,S\n",
      "\n",
      "174,0,3,\"Sivola, Mr. Antti Wilhelm\",male,21,0,0,STON/O 2. 3101280,7.925,,S\n",
      "\n",
      "175,0,1,\"Smith, Mr. James Clinch\",male,56,0,0,17764,30.6958,A7,C\n",
      "\n",
      "176,0,3,\"Klasen, Mr. Klas Albin\",male,18,1,1,350404,7.8542,,S\n",
      "\n",
      "177,0,3,\"Lefebre, Master. Henry Forbes\",male,,3,1,4133,25.4667,,S\n",
      "\n",
      "178,0,1,\"Isham, Miss. Ann Elizabeth\",female,50,0,0,PC 17595,28.7125,C49,C\n",
      "\n",
      "179,0,2,\"Hale, Mr. Reginald\",male,30,0,0,250653,13,,S\n",
      "\n",
      "180,0,3,\"Leonard, Mr. Lionel\",male,36,0,0,LINE,0,,S\n",
      "\n",
      "181,0,3,\"Sage, Miss. Constance Gladys\",female,,8,2,CA. 2343,69.55,,S\n",
      "\n",
      "182,0,2,\"Pernot, Mr. Rene\",male,,0,0,SC/PARIS 2131,15.05,,C\n",
      "\n",
      "183,0,3,\"Asplund, Master. Clarence Gustaf Hugo\",male,9,4,2,347077,31.3875,,S\n",
      "\n",
      "184,1,2,\"Becker, Master. Richard F\",male,1,2,1,230136,39,F4,S\n",
      "\n",
      "185,1,3,\"Kink-Heilmann, Miss. Luise Gretchen\",female,4,0,2,315153,22.025,,S\n",
      "\n",
      "186,0,1,\"Rood, Mr. Hugh Roscoe\",male,,0,0,113767,50,A32,S\n",
      "\n",
      "187,1,3,\"O'Brien, Mrs. Thomas (Johanna \"\"Hannah\"\" Godfrey)\",female,,1,0,370365,15.5,,Q\n",
      "\n",
      "188,1,1,\"Romaine, Mr. Charles Hallace (\"\"Mr C Rolmane\"\")\",male,45,0,0,111428,26.55,,S\n",
      "\n",
      "189,0,3,\"Bourke, Mr. John\",male,40,1,1,364849,15.5,,Q\n",
      "\n",
      "190,0,3,\"Turcin, Mr. Stjepan\",male,36,0,0,349247,7.8958,,S\n",
      "\n",
      "191,1,2,\"Pinsky, Mrs. (Rosa)\",female,32,0,0,234604,13,,S\n",
      "\n",
      "192,0,2,\"Carbines, Mr. William\",male,19,0,0,28424,13,,S\n",
      "\n",
      "193,1,3,\"Andersen-Jensen, Miss. Carla Christine Nielsine\",female,19,1,0,350046,7.8542,,S\n",
      "\n",
      "194,1,2,\"Navratil, Master. Michel M\",male,3,1,1,230080,26,F2,S\n",
      "\n",
      "195,1,1,\"Brown, Mrs. James Joseph (Margaret Tobin)\",female,44,0,0,PC 17610,27.7208,B4,C\n",
      "\n",
      "196,1,1,\"Lurette, Miss. Elise\",female,58,0,0,PC 17569,146.5208,B80,C\n",
      "\n",
      "197,0,3,\"Mernagh, Mr. Robert\",male,,0,0,368703,7.75,,Q\n",
      "\n",
      "198,0,3,\"Olsen, Mr. Karl Siegwart Andreas\",male,42,0,1,4579,8.4042,,S\n",
      "\n",
      "199,1,3,\"Madigan, Miss. Margaret \"\"Maggie\"\"\",female,,0,0,370370,7.75,,Q\n",
      "\n",
      "200,0,2,\"Yrois, Miss. Henriette (\"\"Mrs Harbeck\"\")\",female,24,0,0,248747,13,,S\n",
      "\n",
      "201,0,3,\"Vande Walle, Mr. Nestor Cyriel\",male,28,0,0,345770,9.5,,S\n",
      "\n",
      "202,0,3,\"Sage, Mr. Frederick\",male,,8,2,CA. 2343,69.55,,S\n",
      "\n",
      "203,0,3,\"Johanson, Mr. Jakob Alfred\",male,34,0,0,3101264,6.4958,,S\n",
      "\n",
      "204,0,3,\"Youseff, Mr. Gerious\",male,45.5,0,0,2628,7.225,,C\n",
      "\n",
      "205,1,3,\"Cohen, Mr. Gurshon \"\"Gus\"\"\",male,18,0,0,A/5 3540,8.05,,S\n",
      "\n",
      "206,0,3,\"Strom, Miss. Telma Matilda\",female,2,0,1,347054,10.4625,G6,S\n",
      "\n",
      "207,0,3,\"Backstrom, Mr. Karl Alfred\",male,32,1,0,3101278,15.85,,S\n",
      "\n",
      "208,1,3,\"Albimona, Mr. Nassef Cassem\",male,26,0,0,2699,18.7875,,C\n",
      "\n",
      "209,1,3,\"Carr, Miss. Helen \"\"Ellen\"\"\",female,16,0,0,367231,7.75,,Q\n",
      "\n",
      "210,1,1,\"Blank, Mr. Henry\",male,40,0,0,112277,31,A31,C\n",
      "\n",
      "211,0,3,\"Ali, Mr. Ahmed\",male,24,0,0,SOTON/O.Q. 3101311,7.05,,S\n",
      "\n",
      "212,1,2,\"Cameron, Miss. Clear Annie\",female,35,0,0,F.C.C. 13528,21,,S\n",
      "\n",
      "213,0,3,\"Perkin, Mr. John Henry\",male,22,0,0,A/5 21174,7.25,,S\n",
      "\n",
      "214,0,2,\"Givard, Mr. Hans Kristensen\",male,30,0,0,250646,13,,S\n",
      "\n",
      "215,0,3,\"Kiernan, Mr. Philip\",male,,1,0,367229,7.75,,Q\n",
      "\n",
      "216,1,1,\"Newell, Miss. Madeleine\",female,31,1,0,35273,113.275,D36,C\n",
      "\n",
      "217,1,3,\"Honkanen, Miss. Eliina\",female,27,0,0,STON/O2. 3101283,7.925,,S\n",
      "\n",
      "218,0,2,\"Jacobsohn, Mr. Sidney Samuel\",male,42,1,0,243847,27,,S\n",
      "\n",
      "219,1,1,\"Bazzani, Miss. Albina\",female,32,0,0,11813,76.2917,D15,C\n",
      "\n",
      "220,0,2,\"Harris, Mr. Walter\",male,30,0,0,W/C 14208,10.5,,S\n",
      "\n",
      "221,1,3,\"Sunderland, Mr. Victor Francis\",male,16,0,0,SOTON/OQ 392089,8.05,,S\n",
      "\n",
      "222,0,2,\"Bracken, Mr. James H\",male,27,0,0,220367,13,,S\n",
      "\n",
      "223,0,3,\"Green, Mr. George Henry\",male,51,0,0,21440,8.05,,S\n",
      "\n",
      "224,0,3,\"Nenkoff, Mr. Christo\",male,,0,0,349234,7.8958,,S\n",
      "\n",
      "225,1,1,\"Hoyt, Mr. Frederick Maxfield\",male,38,1,0,19943,90,C93,S\n",
      "\n",
      "226,0,3,\"Berglund, Mr. Karl Ivar Sven\",male,22,0,0,PP 4348,9.35,,S\n",
      "\n",
      "227,1,2,\"Mellors, Mr. William John\",male,19,0,0,SW/PP 751,10.5,,S\n",
      "\n",
      "228,0,3,\"Lovell, Mr. John Hall (\"\"Henry\"\")\",male,20.5,0,0,A/5 21173,7.25,,S\n",
      "\n",
      "229,0,2,\"Fahlstrom, Mr. Arne Jonas\",male,18,0,0,236171,13,,S\n",
      "\n",
      "230,0,3,\"Lefebre, Miss. Mathilde\",female,,3,1,4133,25.4667,,S\n",
      "\n",
      "231,1,1,\"Harris, Mrs. Henry Birkhardt (Irene Wallach)\",female,35,1,0,36973,83.475,C83,S\n",
      "\n",
      "232,0,3,\"Larsson, Mr. Bengt Edvin\",male,29,0,0,347067,7.775,,S\n",
      "\n",
      "233,0,2,\"Sjostedt, Mr. Ernst Adolf\",male,59,0,0,237442,13.5,,S\n",
      "\n",
      "234,1,3,\"Asplund, Miss. Lillian Gertrud\",female,5,4,2,347077,31.3875,,S\n",
      "\n",
      "235,0,2,\"Leyson, Mr. Robert William Norman\",male,24,0,0,C.A. 29566,10.5,,S\n",
      "\n",
      "236,0,3,\"Harknett, Miss. Alice Phoebe\",female,,0,0,W./C. 6609,7.55,,S\n",
      "\n",
      "237,0,2,\"Hold, Mr. Stephen\",male,44,1,0,26707,26,,S\n",
      "\n",
      "238,1,2,\"Collyer, Miss. Marjorie \"\"Lottie\"\"\",female,8,0,2,C.A. 31921,26.25,,S\n",
      "\n",
      "239,0,2,\"Pengelly, Mr. Frederick William\",male,19,0,0,28665,10.5,,S\n",
      "\n",
      "240,0,2,\"Hunt, Mr. George Henry\",male,33,0,0,SCO/W 1585,12.275,,S\n",
      "\n",
      "241,0,3,\"Zabour, Miss. Thamine\",female,,1,0,2665,14.4542,,C\n",
      "\n",
      "242,1,3,\"Murphy, Miss. Katherine \"\"Kate\"\"\",female,,1,0,367230,15.5,,Q\n",
      "\n",
      "243,0,2,\"Coleridge, Mr. Reginald Charles\",male,29,0,0,W./C. 14263,10.5,,S\n",
      "\n",
      "244,0,3,\"Maenpaa, Mr. Matti Alexanteri\",male,22,0,0,STON/O 2. 3101275,7.125,,S\n",
      "\n",
      "245,0,3,\"Attalah, Mr. Sleiman\",male,30,0,0,2694,7.225,,C\n",
      "\n",
      "246,0,1,\"Minahan, Dr. William Edward\",male,44,2,0,19928,90,C78,Q\n",
      "\n",
      "247,0,3,\"Lindahl, Miss. Agda Thorilda Viktoria\",female,25,0,0,347071,7.775,,S\n",
      "\n",
      "248,1,2,\"Hamalainen, Mrs. William (Anna)\",female,24,0,2,250649,14.5,,S\n",
      "\n",
      "249,1,1,\"Beckwith, Mr. Richard Leonard\",male,37,1,1,11751,52.5542,D35,S\n",
      "\n",
      "250,0,2,\"Carter, Rev. Ernest Courtenay\",male,54,1,0,244252,26,,S\n",
      "\n",
      "251,0,3,\"Reed, Mr. James George\",male,,0,0,362316,7.25,,S\n",
      "\n",
      "252,0,3,\"Strom, Mrs. Wilhelm (Elna Matilda Persson)\",female,29,1,1,347054,10.4625,G6,S\n",
      "\n",
      "253,0,1,\"Stead, Mr. William Thomas\",male,62,0,0,113514,26.55,C87,S\n",
      "\n",
      "254,0,3,\"Lobb, Mr. William Arthur\",male,30,1,0,A/5. 3336,16.1,,S\n",
      "\n",
      "255,0,3,\"Rosblom, Mrs. Viktor (Helena Wilhelmina)\",female,41,0,2,370129,20.2125,,S\n",
      "\n",
      "256,1,3,\"Touma, Mrs. Darwis (Hanne Youssef Razi)\",female,29,0,2,2650,15.2458,,C\n",
      "\n",
      "257,1,1,\"Thorne, Mrs. Gertrude Maybelle\",female,,0,0,PC 17585,79.2,,C\n",
      "\n",
      "258,1,1,\"Cherry, Miss. Gladys\",female,30,0,0,110152,86.5,B77,S\n",
      "\n",
      "259,1,1,\"Ward, Miss. Anna\",female,35,0,0,PC 17755,512.3292,,C\n",
      "\n",
      "260,1,2,\"Parrish, Mrs. (Lutie Davis)\",female,50,0,1,230433,26,,S\n",
      "\n",
      "261,0,3,\"Smith, Mr. Thomas\",male,,0,0,384461,7.75,,Q\n",
      "\n",
      "262,1,3,\"Asplund, Master. Edvin Rojj Felix\",male,3,4,2,347077,31.3875,,S\n",
      "\n",
      "263,0,1,\"Taussig, Mr. Emil\",male,52,1,1,110413,79.65,E67,S\n",
      "\n",
      "264,0,1,\"Harrison, Mr. William\",male,40,0,0,112059,0,B94,S\n",
      "\n",
      "265,0,3,\"Henry, Miss. Delia\",female,,0,0,382649,7.75,,Q\n",
      "\n",
      "266,0,2,\"Reeves, Mr. David\",male,36,0,0,C.A. 17248,10.5,,S\n",
      "\n",
      "267,0,3,\"Panula, Mr. Ernesti Arvid\",male,16,4,1,3101295,39.6875,,S\n",
      "\n",
      "268,1,3,\"Persson, Mr. Ernst Ulrik\",male,25,1,0,347083,7.775,,S\n",
      "\n",
      "269,1,1,\"Graham, Mrs. William Thompson (Edith Junkins)\",female,58,0,1,PC 17582,153.4625,C125,S\n",
      "\n",
      "270,1,1,\"Bissette, Miss. Amelia\",female,35,0,0,PC 17760,135.6333,C99,S\n",
      "\n",
      "271,0,1,\"Cairns, Mr. Alexander\",male,,0,0,113798,31,,S\n",
      "\n",
      "272,1,3,\"Tornquist, Mr. William Henry\",male,25,0,0,LINE,0,,S\n",
      "\n",
      "273,1,2,\"Mellinger, Mrs. (Elizabeth Anne Maidment)\",female,41,0,1,250644,19.5,,S\n",
      "\n",
      "274,0,1,\"Natsch, Mr. Charles H\",male,37,0,1,PC 17596,29.7,C118,C\n",
      "\n",
      "275,1,3,\"Healy, Miss. Hanora \"\"Nora\"\"\",female,,0,0,370375,7.75,,Q\n",
      "\n",
      "276,1,1,\"Andrews, Miss. Kornelia Theodosia\",female,63,1,0,13502,77.9583,D7,S\n",
      "\n",
      "277,0,3,\"Lindblom, Miss. Augusta Charlotta\",female,45,0,0,347073,7.75,,S\n",
      "\n",
      "278,0,2,\"Parkes, Mr. Francis \"\"Frank\"\"\",male,,0,0,239853,0,,S\n",
      "\n",
      "279,0,3,\"Rice, Master. Eric\",male,7,4,1,382652,29.125,,Q\n",
      "\n",
      "280,1,3,\"Abbott, Mrs. Stanton (Rosa Hunt)\",female,35,1,1,C.A. 2673,20.25,,S\n",
      "\n",
      "281,0,3,\"Duane, Mr. Frank\",male,65,0,0,336439,7.75,,Q\n",
      "\n",
      "282,0,3,\"Olsson, Mr. Nils Johan Goransson\",male,28,0,0,347464,7.8542,,S\n",
      "\n",
      "283,0,3,\"de Pelsmaeker, Mr. Alfons\",male,16,0,0,345778,9.5,,S\n",
      "\n",
      "284,1,3,\"Dorking, Mr. Edward Arthur\",male,19,0,0,A/5. 10482,8.05,,S\n",
      "\n",
      "285,0,1,\"Smith, Mr. Richard William\",male,,0,0,113056,26,A19,S\n",
      "\n",
      "286,0,3,\"Stankovic, Mr. Ivan\",male,33,0,0,349239,8.6625,,C\n",
      "\n",
      "287,1,3,\"de Mulder, Mr. Theodore\",male,30,0,0,345774,9.5,,S\n",
      "\n",
      "288,0,3,\"Naidenoff, Mr. Penko\",male,22,0,0,349206,7.8958,,S\n",
      "\n",
      "289,1,2,\"Hosono, Mr. Masabumi\",male,42,0,0,237798,13,,S\n",
      "\n",
      "290,1,3,\"Connolly, Miss. Kate\",female,22,0,0,370373,7.75,,Q\n",
      "\n",
      "291,1,1,\"Barber, Miss. Ellen \"\"Nellie\"\"\",female,26,0,0,19877,78.85,,S\n",
      "\n",
      "292,1,1,\"Bishop, Mrs. Dickinson H (Helen Walton)\",female,19,1,0,11967,91.0792,B49,C\n",
      "\n",
      "293,0,2,\"Levy, Mr. Rene Jacques\",male,36,0,0,SC/Paris 2163,12.875,D,C\n",
      "\n",
      "294,0,3,\"Haas, Miss. Aloisia\",female,24,0,0,349236,8.85,,S\n",
      "\n",
      "295,0,3,\"Mineff, Mr. Ivan\",male,24,0,0,349233,7.8958,,S\n",
      "\n",
      "296,0,1,\"Lewy, Mr. Ervin G\",male,,0,0,PC 17612,27.7208,,C\n",
      "\n",
      "297,0,3,\"Hanna, Mr. Mansour\",male,23.5,0,0,2693,7.2292,,C\n",
      "\n",
      "298,0,1,\"Allison, Miss. Helen Loraine\",female,2,1,2,113781,151.55,C22 C26,S\n",
      "\n",
      "299,1,1,\"Saalfeld, Mr. Adolphe\",male,,0,0,19988,30.5,C106,S\n",
      "\n",
      "300,1,1,\"Baxter, Mrs. James (Helene DeLaudeniere Chaput)\",female,50,0,1,PC 17558,247.5208,B58 B60,C\n",
      "\n",
      "301,1,3,\"Kelly, Miss. Anna Katherine \"\"Annie Kate\"\"\",female,,0,0,9234,7.75,,Q\n",
      "\n",
      "302,1,3,\"McCoy, Mr. Bernard\",male,,2,0,367226,23.25,,Q\n",
      "\n",
      "303,0,3,\"Johnson, Mr. William Cahoone Jr\",male,19,0,0,LINE,0,,S\n",
      "\n",
      "304,1,2,\"Keane, Miss. Nora A\",female,,0,0,226593,12.35,E101,Q\n",
      "\n",
      "305,0,3,\"Williams, Mr. Howard Hugh \"\"Harry\"\"\",male,,0,0,A/5 2466,8.05,,S\n",
      "\n",
      "306,1,1,\"Allison, Master. Hudson Trevor\",male,0.92,1,2,113781,151.55,C22 C26,S\n",
      "\n",
      "307,1,1,\"Fleming, Miss. Margaret\",female,,0,0,17421,110.8833,,C\n",
      "\n",
      "308,1,1,\"Penasco y Castellana, Mrs. Victor de Satode (Maria Josefa Perez de Soto y Vallejo)\",female,17,1,0,PC 17758,108.9,C65,C\n",
      "\n",
      "309,0,2,\"Abelson, Mr. Samuel\",male,30,1,0,P/PP 3381,24,,C\n",
      "\n",
      "310,1,1,\"Francatelli, Miss. Laura Mabel\",female,30,0,0,PC 17485,56.9292,E36,C\n",
      "\n",
      "311,1,1,\"Hays, Miss. Margaret Bechstein\",female,24,0,0,11767,83.1583,C54,C\n",
      "\n",
      "312,1,1,\"Ryerson, Miss. Emily Borie\",female,18,2,2,PC 17608,262.375,B57 B59 B63 B66,C\n",
      "\n",
      "313,0,2,\"Lahtinen, Mrs. William (Anna Sylfven)\",female,26,1,1,250651,26,,S\n",
      "\n",
      "314,0,3,\"Hendekovic, Mr. Ignjac\",male,28,0,0,349243,7.8958,,S\n",
      "\n",
      "315,0,2,\"Hart, Mr. Benjamin\",male,43,1,1,F.C.C. 13529,26.25,,S\n",
      "\n",
      "316,1,3,\"Nilsson, Miss. Helmina Josefina\",female,26,0,0,347470,7.8542,,S\n",
      "\n",
      "317,1,2,\"Kantor, Mrs. Sinai (Miriam Sternin)\",female,24,1,0,244367,26,,S\n",
      "\n",
      "318,0,2,\"Moraweck, Dr. Ernest\",male,54,0,0,29011,14,,S\n",
      "\n",
      "319,1,1,\"Wick, Miss. Mary Natalie\",female,31,0,2,36928,164.8667,C7,S\n",
      "\n",
      "320,1,1,\"Spedden, Mrs. Frederic Oakley (Margaretta Corning Stone)\",female,40,1,1,16966,134.5,E34,C\n",
      "\n",
      "321,0,3,\"Dennis, Mr. Samuel\",male,22,0,0,A/5 21172,7.25,,S\n",
      "\n",
      "322,0,3,\"Danoff, Mr. Yoto\",male,27,0,0,349219,7.8958,,S\n",
      "\n",
      "323,1,2,\"Slayter, Miss. Hilda Mary\",female,30,0,0,234818,12.35,,Q\n",
      "\n",
      "324,1,2,\"Caldwell, Mrs. Albert Francis (Sylvia Mae Harbaugh)\",female,22,1,1,248738,29,,S\n",
      "\n",
      "325,0,3,\"Sage, Mr. George John Jr\",male,,8,2,CA. 2343,69.55,,S\n",
      "\n",
      "326,1,1,\"Young, Miss. Marie Grice\",female,36,0,0,PC 17760,135.6333,C32,C\n",
      "\n",
      "327,0,3,\"Nysveen, Mr. Johan Hansen\",male,61,0,0,345364,6.2375,,S\n",
      "\n",
      "328,1,2,\"Ball, Mrs. (Ada E Hall)\",female,36,0,0,28551,13,D,S\n",
      "\n",
      "329,1,3,\"Goldsmith, Mrs. Frank John (Emily Alice Brown)\",female,31,1,1,363291,20.525,,S\n",
      "\n",
      "330,1,1,\"Hippach, Miss. Jean Gertrude\",female,16,0,1,111361,57.9792,B18,C\n",
      "\n",
      "331,1,3,\"McCoy, Miss. Agnes\",female,,2,0,367226,23.25,,Q\n",
      "\n",
      "332,0,1,\"Partner, Mr. Austen\",male,45.5,0,0,113043,28.5,C124,S\n",
      "\n",
      "333,0,1,\"Graham, Mr. George Edward\",male,38,0,1,PC 17582,153.4625,C91,S\n",
      "\n",
      "334,0,3,\"Vander Planke, Mr. Leo Edmondus\",male,16,2,0,345764,18,,S\n",
      "\n",
      "335,1,1,\"Frauenthal, Mrs. Henry William (Clara Heinsheimer)\",female,,1,0,PC 17611,133.65,,S\n",
      "\n",
      "336,0,3,\"Denkoff, Mr. Mitto\",male,,0,0,349225,7.8958,,S\n",
      "\n",
      "337,0,1,\"Pears, Mr. Thomas Clinton\",male,29,1,0,113776,66.6,C2,S\n",
      "\n",
      "338,1,1,\"Burns, Miss. Elizabeth Margaret\",female,41,0,0,16966,134.5,E40,C\n",
      "\n",
      "339,1,3,\"Dahl, Mr. Karl Edwart\",male,45,0,0,7598,8.05,,S\n",
      "\n",
      "340,0,1,\"Blackwell, Mr. Stephen Weart\",male,45,0,0,113784,35.5,T,S\n",
      "\n",
      "341,1,2,\"Navratil, Master. Edmond Roger\",male,2,1,1,230080,26,F2,S\n",
      "\n",
      "342,1,1,\"Fortune, Miss. Alice Elizabeth\",female,24,3,2,19950,263,C23 C25 C27,S\n",
      "\n",
      "343,0,2,\"Collander, Mr. Erik Gustaf\",male,28,0,0,248740,13,,S\n",
      "\n",
      "344,0,2,\"Sedgwick, Mr. Charles Frederick Waddington\",male,25,0,0,244361,13,,S\n",
      "\n",
      "345,0,2,\"Fox, Mr. Stanley Hubert\",male,36,0,0,229236,13,,S\n",
      "\n",
      "346,1,2,\"Brown, Miss. Amelia \"\"Mildred\"\"\",female,24,0,0,248733,13,F33,S\n",
      "\n",
      "347,1,2,\"Smith, Miss. Marion Elsie\",female,40,0,0,31418,13,,S\n",
      "\n",
      "348,1,3,\"Davison, Mrs. Thomas Henry (Mary E Finck)\",female,,1,0,386525,16.1,,S\n",
      "\n",
      "349,1,3,\"Coutts, Master. William Loch \"\"William\"\"\",male,3,1,1,C.A. 37671,15.9,,S\n",
      "\n",
      "350,0,3,\"Dimic, Mr. Jovan\",male,42,0,0,315088,8.6625,,S\n",
      "\n",
      "351,0,3,\"Odahl, Mr. Nils Martin\",male,23,0,0,7267,9.225,,S\n",
      "\n",
      "352,0,1,\"Williams-Lambert, Mr. Fletcher Fellows\",male,,0,0,113510,35,C128,S\n",
      "\n",
      "353,0,3,\"Elias, Mr. Tannous\",male,15,1,1,2695,7.2292,,C\n",
      "\n",
      "354,0,3,\"Arnold-Franchi, Mr. Josef\",male,25,1,0,349237,17.8,,S\n",
      "\n",
      "355,0,3,\"Yousif, Mr. Wazli\",male,,0,0,2647,7.225,,C\n",
      "\n",
      "356,0,3,\"Vanden Steen, Mr. Leo Peter\",male,28,0,0,345783,9.5,,S\n",
      "\n",
      "357,1,1,\"Bowerman, Miss. Elsie Edith\",female,22,0,1,113505,55,E33,S\n",
      "\n",
      "358,0,2,\"Funk, Miss. Annie Clemmer\",female,38,0,0,237671,13,,S\n",
      "\n",
      "359,1,3,\"McGovern, Miss. Mary\",female,,0,0,330931,7.8792,,Q\n",
      "\n",
      "360,1,3,\"Mockler, Miss. Helen Mary \"\"Ellie\"\"\",female,,0,0,330980,7.8792,,Q\n",
      "\n",
      "361,0,3,\"Skoog, Mr. Wilhelm\",male,40,1,4,347088,27.9,,S\n",
      "\n",
      "362,0,2,\"del Carlo, Mr. Sebastiano\",male,29,1,0,SC/PARIS 2167,27.7208,,C\n",
      "\n",
      "363,0,3,\"Barbara, Mrs. (Catherine David)\",female,45,0,1,2691,14.4542,,C\n",
      "\n",
      "364,0,3,\"Asim, Mr. Adola\",male,35,0,0,SOTON/O.Q. 3101310,7.05,,S\n",
      "\n",
      "365,0,3,\"O'Brien, Mr. Thomas\",male,,1,0,370365,15.5,,Q\n",
      "\n",
      "366,0,3,\"Adahl, Mr. Mauritz Nils Martin\",male,30,0,0,C 7076,7.25,,S\n",
      "\n",
      "367,1,1,\"Warren, Mrs. Frank Manley (Anna Sophia Atkinson)\",female,60,1,0,110813,75.25,D37,C\n",
      "\n",
      "368,1,3,\"Moussa, Mrs. (Mantoura Boulos)\",female,,0,0,2626,7.2292,,C\n",
      "\n",
      "369,1,3,\"Jermyn, Miss. Annie\",female,,0,0,14313,7.75,,Q\n",
      "\n",
      "370,1,1,\"Aubart, Mme. Leontine Pauline\",female,24,0,0,PC 17477,69.3,B35,C\n",
      "\n",
      "371,1,1,\"Harder, Mr. George Achilles\",male,25,1,0,11765,55.4417,E50,C\n",
      "\n",
      "372,0,3,\"Wiklund, Mr. Jakob Alfred\",male,18,1,0,3101267,6.4958,,S\n",
      "\n",
      "373,0,3,\"Beavan, Mr. William Thomas\",male,19,0,0,323951,8.05,,S\n",
      "\n",
      "374,0,1,\"Ringhini, Mr. Sante\",male,22,0,0,PC 17760,135.6333,,C\n",
      "\n",
      "375,0,3,\"Palsson, Miss. Stina Viola\",female,3,3,1,349909,21.075,,S\n",
      "\n",
      "376,1,1,\"Meyer, Mrs. Edgar Joseph (Leila Saks)\",female,,1,0,PC 17604,82.1708,,C\n",
      "\n",
      "377,1,3,\"Landergren, Miss. Aurora Adelia\",female,22,0,0,C 7077,7.25,,S\n",
      "\n",
      "378,0,1,\"Widener, Mr. Harry Elkins\",male,27,0,2,113503,211.5,C82,C\n",
      "\n",
      "379,0,3,\"Betros, Mr. Tannous\",male,20,0,0,2648,4.0125,,C\n",
      "\n",
      "380,0,3,\"Gustafsson, Mr. Karl Gideon\",male,19,0,0,347069,7.775,,S\n",
      "\n",
      "381,1,1,\"Bidois, Miss. Rosalie\",female,42,0,0,PC 17757,227.525,,C\n",
      "\n",
      "382,1,3,\"Nakid, Miss. Maria (\"\"Mary\"\")\",female,1,0,2,2653,15.7417,,C\n",
      "\n",
      "383,0,3,\"Tikkanen, Mr. Juho\",male,32,0,0,STON/O 2. 3101293,7.925,,S\n",
      "\n",
      "384,1,1,\"Holverson, Mrs. Alexander Oskar (Mary Aline Towner)\",female,35,1,0,113789,52,,S\n",
      "\n",
      "385,0,3,\"Plotcharsky, Mr. Vasil\",male,,0,0,349227,7.8958,,S\n",
      "\n",
      "386,0,2,\"Davies, Mr. Charles Henry\",male,18,0,0,S.O.C. 14879,73.5,,S\n",
      "\n",
      "387,0,3,\"Goodwin, Master. Sidney Leonard\",male,1,5,2,CA 2144,46.9,,S\n",
      "\n",
      "388,1,2,\"Buss, Miss. Kate\",female,36,0,0,27849,13,,S\n",
      "\n",
      "389,0,3,\"Sadlier, Mr. Matthew\",male,,0,0,367655,7.7292,,Q\n",
      "\n",
      "390,1,2,\"Lehmann, Miss. Bertha\",female,17,0,0,SC 1748,12,,C\n",
      "\n",
      "391,1,1,\"Carter, Mr. William Ernest\",male,36,1,2,113760,120,B96 B98,S\n",
      "\n",
      "392,1,3,\"Jansson, Mr. Carl Olof\",male,21,0,0,350034,7.7958,,S\n",
      "\n",
      "393,0,3,\"Gustafsson, Mr. Johan Birger\",male,28,2,0,3101277,7.925,,S\n",
      "\n",
      "394,1,1,\"Newell, Miss. Marjorie\",female,23,1,0,35273,113.275,D36,C\n",
      "\n",
      "395,1,3,\"Sandstrom, Mrs. Hjalmar (Agnes Charlotta Bengtsson)\",female,24,0,2,PP 9549,16.7,G6,S\n",
      "\n",
      "396,0,3,\"Johansson, Mr. Erik\",male,22,0,0,350052,7.7958,,S\n",
      "\n",
      "397,0,3,\"Olsson, Miss. Elina\",female,31,0,0,350407,7.8542,,S\n",
      "\n",
      "398,0,2,\"McKane, Mr. Peter David\",male,46,0,0,28403,26,,S\n",
      "\n",
      "399,0,2,\"Pain, Dr. Alfred\",male,23,0,0,244278,10.5,,S\n",
      "\n",
      "400,1,2,\"Trout, Mrs. William H (Jessie L)\",female,28,0,0,240929,12.65,,S\n",
      "\n",
      "401,1,3,\"Niskanen, Mr. Juha\",male,39,0,0,STON/O 2. 3101289,7.925,,S\n",
      "\n",
      "402,0,3,\"Adams, Mr. John\",male,26,0,0,341826,8.05,,S\n",
      "\n",
      "403,0,3,\"Jussila, Miss. Mari Aina\",female,21,1,0,4137,9.825,,S\n",
      "\n",
      "404,0,3,\"Hakkarainen, Mr. Pekka Pietari\",male,28,1,0,STON/O2. 3101279,15.85,,S\n",
      "\n",
      "405,0,3,\"Oreskovic, Miss. Marija\",female,20,0,0,315096,8.6625,,S\n",
      "\n",
      "406,0,2,\"Gale, Mr. Shadrach\",male,34,1,0,28664,21,,S\n",
      "\n",
      "407,0,3,\"Widegren, Mr. Carl/Charles Peter\",male,51,0,0,347064,7.75,,S\n",
      "\n",
      "408,1,2,\"Richards, Master. William Rowe\",male,3,1,1,29106,18.75,,S\n",
      "\n",
      "409,0,3,\"Birkeland, Mr. Hans Martin Monsen\",male,21,0,0,312992,7.775,,S\n",
      "\n",
      "410,0,3,\"Lefebre, Miss. Ida\",female,,3,1,4133,25.4667,,S\n",
      "\n",
      "411,0,3,\"Sdycoff, Mr. Todor\",male,,0,0,349222,7.8958,,S\n",
      "\n",
      "412,0,3,\"Hart, Mr. Henry\",male,,0,0,394140,6.8583,,Q\n",
      "\n",
      "413,1,1,\"Minahan, Miss. Daisy E\",female,33,1,0,19928,90,C78,Q\n",
      "\n",
      "414,0,2,\"Cunningham, Mr. Alfred Fleming\",male,,0,0,239853,0,,S\n",
      "\n",
      "415,1,3,\"Sundman, Mr. Johan Julian\",male,44,0,0,STON/O 2. 3101269,7.925,,S\n",
      "\n",
      "416,0,3,\"Meek, Mrs. Thomas (Annie Louise Rowley)\",female,,0,0,343095,8.05,,S\n",
      "\n",
      "417,1,2,\"Drew, Mrs. James Vivian (Lulu Thorne Christian)\",female,34,1,1,28220,32.5,,S\n",
      "\n",
      "418,1,2,\"Silven, Miss. Lyyli Karoliina\",female,18,0,2,250652,13,,S\n",
      "\n",
      "419,0,2,\"Matthews, Mr. William John\",male,30,0,0,28228,13,,S\n",
      "\n",
      "420,0,3,\"Van Impe, Miss. Catharina\",female,10,0,2,345773,24.15,,S\n",
      "\n",
      "421,0,3,\"Gheorgheff, Mr. Stanio\",male,,0,0,349254,7.8958,,C\n",
      "\n",
      "422,0,3,\"Charters, Mr. David\",male,21,0,0,A/5. 13032,7.7333,,Q\n",
      "\n",
      "423,0,3,\"Zimmerman, Mr. Leo\",male,29,0,0,315082,7.875,,S\n",
      "\n",
      "424,0,3,\"Danbom, Mrs. Ernst Gilbert (Anna Sigrid Maria Brogren)\",female,28,1,1,347080,14.4,,S\n",
      "\n",
      "425,0,3,\"Rosblom, Mr. Viktor Richard\",male,18,1,1,370129,20.2125,,S\n",
      "\n",
      "426,0,3,\"Wiseman, Mr. Phillippe\",male,,0,0,A/4. 34244,7.25,,S\n",
      "\n",
      "427,1,2,\"Clarke, Mrs. Charles V (Ada Maria Winfield)\",female,28,1,0,2003,26,,S\n",
      "\n",
      "428,1,2,\"Phillips, Miss. Kate Florence (\"\"Mrs Kate Louise Phillips Marshall\"\")\",female,19,0,0,250655,26,,S\n",
      "\n",
      "429,0,3,\"Flynn, Mr. James\",male,,0,0,364851,7.75,,Q\n",
      "\n",
      "430,1,3,\"Pickard, Mr. Berk (Berk Trembisky)\",male,32,0,0,SOTON/O.Q. 392078,8.05,E10,S\n",
      "\n",
      "431,1,1,\"Bjornstrom-Steffansson, Mr. Mauritz Hakan\",male,28,0,0,110564,26.55,C52,S\n",
      "\n",
      "432,1,3,\"Thorneycroft, Mrs. Percival (Florence Kate White)\",female,,1,0,376564,16.1,,S\n",
      "\n",
      "433,1,2,\"Louch, Mrs. Charles Alexander (Alice Adelaide Slow)\",female,42,1,0,SC/AH 3085,26,,S\n",
      "\n",
      "434,0,3,\"Kallio, Mr. Nikolai Erland\",male,17,0,0,STON/O 2. 3101274,7.125,,S\n",
      "\n",
      "435,0,1,\"Silvey, Mr. William Baird\",male,50,1,0,13507,55.9,E44,S\n",
      "\n",
      "436,1,1,\"Carter, Miss. Lucile Polk\",female,14,1,2,113760,120,B96 B98,S\n",
      "\n",
      "437,0,3,\"Ford, Miss. Doolina Margaret \"\"Daisy\"\"\",female,21,2,2,W./C. 6608,34.375,,S\n",
      "\n",
      "438,1,2,\"Richards, Mrs. Sidney (Emily Hocking)\",female,24,2,3,29106,18.75,,S\n",
      "\n",
      "439,0,1,\"Fortune, Mr. Mark\",male,64,1,4,19950,263,C23 C25 C27,S\n",
      "\n",
      "440,0,2,\"Kvillner, Mr. Johan Henrik Johannesson\",male,31,0,0,C.A. 18723,10.5,,S\n",
      "\n",
      "441,1,2,\"Hart, Mrs. Benjamin (Esther Ada Bloomfield)\",female,45,1,1,F.C.C. 13529,26.25,,S\n",
      "\n",
      "442,0,3,\"Hampe, Mr. Leon\",male,20,0,0,345769,9.5,,S\n",
      "\n",
      "443,0,3,\"Petterson, Mr. Johan Emil\",male,25,1,0,347076,7.775,,S\n",
      "\n",
      "444,1,2,\"Reynaldo, Ms. Encarnacion\",female,28,0,0,230434,13,,S\n",
      "\n",
      "445,1,3,\"Johannesen-Bratthammer, Mr. Bernt\",male,,0,0,65306,8.1125,,S\n",
      "\n",
      "446,1,1,\"Dodge, Master. Washington\",male,4,0,2,33638,81.8583,A34,S\n",
      "\n",
      "447,1,2,\"Mellinger, Miss. Madeleine Violet\",female,13,0,1,250644,19.5,,S\n",
      "\n",
      "448,1,1,\"Seward, Mr. Frederic Kimber\",male,34,0,0,113794,26.55,,S\n",
      "\n",
      "449,1,3,\"Baclini, Miss. Marie Catherine\",female,5,2,1,2666,19.2583,,C\n",
      "\n",
      "450,1,1,\"Peuchen, Major. Arthur Godfrey\",male,52,0,0,113786,30.5,C104,S\n",
      "\n",
      "451,0,2,\"West, Mr. Edwy Arthur\",male,36,1,2,C.A. 34651,27.75,,S\n",
      "\n",
      "452,0,3,\"Hagland, Mr. Ingvald Olai Olsen\",male,,1,0,65303,19.9667,,S\n",
      "\n",
      "453,0,1,\"Foreman, Mr. Benjamin Laventall\",male,30,0,0,113051,27.75,C111,C\n",
      "\n",
      "454,1,1,\"Goldenberg, Mr. Samuel L\",male,49,1,0,17453,89.1042,C92,C\n",
      "\n",
      "455,0,3,\"Peduzzi, Mr. Joseph\",male,,0,0,A/5 2817,8.05,,S\n",
      "\n",
      "456,1,3,\"Jalsevac, Mr. Ivan\",male,29,0,0,349240,7.8958,,C\n",
      "\n",
      "457,0,1,\"Millet, Mr. Francis Davis\",male,65,0,0,13509,26.55,E38,S\n",
      "\n",
      "458,1,1,\"Kenyon, Mrs. Frederick R (Marion)\",female,,1,0,17464,51.8625,D21,S\n",
      "\n",
      "459,1,2,\"Toomey, Miss. Ellen\",female,50,0,0,F.C.C. 13531,10.5,,S\n",
      "\n",
      "460,0,3,\"O'Connor, Mr. Maurice\",male,,0,0,371060,7.75,,Q\n",
      "\n",
      "461,1,1,\"Anderson, Mr. Harry\",male,48,0,0,19952,26.55,E12,S\n",
      "\n",
      "462,0,3,\"Morley, Mr. William\",male,34,0,0,364506,8.05,,S\n",
      "\n",
      "463,0,1,\"Gee, Mr. Arthur H\",male,47,0,0,111320,38.5,E63,S\n",
      "\n",
      "464,0,2,\"Milling, Mr. Jacob Christian\",male,48,0,0,234360,13,,S\n",
      "\n",
      "465,0,3,\"Maisner, Mr. Simon\",male,,0,0,A/S 2816,8.05,,S\n",
      "\n",
      "466,0,3,\"Goncalves, Mr. Manuel Estanslas\",male,38,0,0,SOTON/O.Q. 3101306,7.05,,S\n",
      "\n",
      "467,0,2,\"Campbell, Mr. William\",male,,0,0,239853,0,,S\n",
      "\n",
      "468,0,1,\"Smart, Mr. John Montgomery\",male,56,0,0,113792,26.55,,S\n",
      "\n",
      "469,0,3,\"Scanlan, Mr. James\",male,,0,0,36209,7.725,,Q\n",
      "\n",
      "470,1,3,\"Baclini, Miss. Helene Barbara\",female,0.75,2,1,2666,19.2583,,C\n",
      "\n",
      "471,0,3,\"Keefe, Mr. Arthur\",male,,0,0,323592,7.25,,S\n",
      "\n",
      "472,0,3,\"Cacic, Mr. Luka\",male,38,0,0,315089,8.6625,,S\n",
      "\n",
      "473,1,2,\"West, Mrs. Edwy Arthur (Ada Mary Worth)\",female,33,1,2,C.A. 34651,27.75,,S\n",
      "\n",
      "474,1,2,\"Jerwan, Mrs. Amin S (Marie Marthe Thuillard)\",female,23,0,0,SC/AH Basle 541,13.7917,D,C\n",
      "\n",
      "475,0,3,\"Strandberg, Miss. Ida Sofia\",female,22,0,0,7553,9.8375,,S\n",
      "\n",
      "476,0,1,\"Clifford, Mr. George Quincy\",male,,0,0,110465,52,A14,S\n",
      "\n",
      "477,0,2,\"Renouf, Mr. Peter Henry\",male,34,1,0,31027,21,,S\n",
      "\n",
      "478,0,3,\"Braund, Mr. Lewis Richard\",male,29,1,0,3460,7.0458,,S\n",
      "\n",
      "479,0,3,\"Karlsson, Mr. Nils August\",male,22,0,0,350060,7.5208,,S\n",
      "\n",
      "480,1,3,\"Hirvonen, Miss. Hildur E\",female,2,0,1,3101298,12.2875,,S\n",
      "\n",
      "481,0,3,\"Goodwin, Master. Harold Victor\",male,9,5,2,CA 2144,46.9,,S\n",
      "\n",
      "482,0,2,\"Frost, Mr. Anthony Wood \"\"Archie\"\"\",male,,0,0,239854,0,,S\n",
      "\n",
      "483,0,3,\"Rouse, Mr. Richard Henry\",male,50,0,0,A/5 3594,8.05,,S\n",
      "\n",
      "484,1,3,\"Turkula, Mrs. (Hedwig)\",female,63,0,0,4134,9.5875,,S\n",
      "\n",
      "485,1,1,\"Bishop, Mr. Dickinson H\",male,25,1,0,11967,91.0792,B49,C\n",
      "\n",
      "486,0,3,\"Lefebre, Miss. Jeannie\",female,,3,1,4133,25.4667,,S\n",
      "\n",
      "487,1,1,\"Hoyt, Mrs. Frederick Maxfield (Jane Anne Forby)\",female,35,1,0,19943,90,C93,S\n",
      "\n",
      "488,0,1,\"Kent, Mr. Edward Austin\",male,58,0,0,11771,29.7,B37,C\n",
      "\n",
      "489,0,3,\"Somerton, Mr. Francis William\",male,30,0,0,A.5. 18509,8.05,,S\n",
      "\n",
      "490,1,3,\"Coutts, Master. Eden Leslie \"\"Neville\"\"\",male,9,1,1,C.A. 37671,15.9,,S\n",
      "\n",
      "491,0,3,\"Hagland, Mr. Konrad Mathias Reiersen\",male,,1,0,65304,19.9667,,S\n",
      "\n",
      "492,0,3,\"Windelov, Mr. Einar\",male,21,0,0,SOTON/OQ 3101317,7.25,,S\n",
      "\n",
      "493,0,1,\"Molson, Mr. Harry Markland\",male,55,0,0,113787,30.5,C30,S\n",
      "\n",
      "494,0,1,\"Artagaveytia, Mr. Ramon\",male,71,0,0,PC 17609,49.5042,,C\n",
      "\n",
      "495,0,3,\"Stanley, Mr. Edward Roland\",male,21,0,0,A/4 45380,8.05,,S\n",
      "\n",
      "496,0,3,\"Yousseff, Mr. Gerious\",male,,0,0,2627,14.4583,,C\n",
      "\n",
      "497,1,1,\"Eustis, Miss. Elizabeth Mussey\",female,54,1,0,36947,78.2667,D20,C\n",
      "\n",
      "498,0,3,\"Shellard, Mr. Frederick William\",male,,0,0,C.A. 6212,15.1,,S\n",
      "\n",
      "499,0,1,\"Allison, Mrs. Hudson J C (Bessie Waldo Daniels)\",female,25,1,2,113781,151.55,C22 C26,S\n",
      "\n",
      "500,0,3,\"Svensson, Mr. Olof\",male,24,0,0,350035,7.7958,,S\n",
      "\n",
      "501,0,3,\"Calic, Mr. Petar\",male,17,0,0,315086,8.6625,,S\n",
      "\n",
      "502,0,3,\"Canavan, Miss. Mary\",female,21,0,0,364846,7.75,,Q\n",
      "\n",
      "503,0,3,\"O'Sullivan, Miss. Bridget Mary\",female,,0,0,330909,7.6292,,Q\n",
      "\n",
      "504,0,3,\"Laitinen, Miss. Kristina Sofia\",female,37,0,0,4135,9.5875,,S\n",
      "\n",
      "505,1,1,\"Maioni, Miss. Roberta\",female,16,0,0,110152,86.5,B79,S\n",
      "\n",
      "506,0,1,\"Penasco y Castellana, Mr. Victor de Satode\",male,18,1,0,PC 17758,108.9,C65,C\n",
      "\n",
      "507,1,2,\"Quick, Mrs. Frederick Charles (Jane Richards)\",female,33,0,2,26360,26,,S\n",
      "\n",
      "508,1,1,\"Bradley, Mr. George (\"\"George Arthur Brayton\"\")\",male,,0,0,111427,26.55,,S\n",
      "\n",
      "509,0,3,\"Olsen, Mr. Henry Margido\",male,28,0,0,C 4001,22.525,,S\n",
      "\n",
      "510,1,3,\"Lang, Mr. Fang\",male,26,0,0,1601,56.4958,,S\n",
      "\n",
      "511,1,3,\"Daly, Mr. Eugene Patrick\",male,29,0,0,382651,7.75,,Q\n",
      "\n",
      "512,0,3,\"Webber, Mr. James\",male,,0,0,SOTON/OQ 3101316,8.05,,S\n",
      "\n",
      "513,1,1,\"McGough, Mr. James Robert\",male,36,0,0,PC 17473,26.2875,E25,S\n",
      "\n",
      "514,1,1,\"Rothschild, Mrs. Martin (Elizabeth L. Barrett)\",female,54,1,0,PC 17603,59.4,,C\n",
      "\n",
      "515,0,3,\"Coleff, Mr. Satio\",male,24,0,0,349209,7.4958,,S\n",
      "\n",
      "516,0,1,\"Walker, Mr. William Anderson\",male,47,0,0,36967,34.0208,D46,S\n",
      "\n",
      "517,1,2,\"Lemore, Mrs. (Amelia Milley)\",female,34,0,0,C.A. 34260,10.5,F33,S\n",
      "\n",
      "518,0,3,\"Ryan, Mr. Patrick\",male,,0,0,371110,24.15,,Q\n",
      "\n",
      "519,1,2,\"Angle, Mrs. William A (Florence \"\"Mary\"\" Agnes Hughes)\",female,36,1,0,226875,26,,S\n",
      "\n",
      "520,0,3,\"Pavlovic, Mr. Stefo\",male,32,0,0,349242,7.8958,,S\n",
      "\n",
      "521,1,1,\"Perreault, Miss. Anne\",female,30,0,0,12749,93.5,B73,S\n",
      "\n",
      "522,0,3,\"Vovk, Mr. Janko\",male,22,0,0,349252,7.8958,,S\n",
      "\n",
      "523,0,3,\"Lahoud, Mr. Sarkis\",male,,0,0,2624,7.225,,C\n",
      "\n",
      "524,1,1,\"Hippach, Mrs. Louis Albert (Ida Sophia Fischer)\",female,44,0,1,111361,57.9792,B18,C\n",
      "\n",
      "525,0,3,\"Kassem, Mr. Fared\",male,,0,0,2700,7.2292,,C\n",
      "\n",
      "526,0,3,\"Farrell, Mr. James\",male,40.5,0,0,367232,7.75,,Q\n",
      "\n",
      "527,1,2,\"Ridsdale, Miss. Lucy\",female,50,0,0,W./C. 14258,10.5,,S\n",
      "\n",
      "528,0,1,\"Farthing, Mr. John\",male,,0,0,PC 17483,221.7792,C95,S\n",
      "\n",
      "529,0,3,\"Salonen, Mr. Johan Werner\",male,39,0,0,3101296,7.925,,S\n",
      "\n",
      "530,0,2,\"Hocking, Mr. Richard George\",male,23,2,1,29104,11.5,,S\n",
      "\n",
      "531,1,2,\"Quick, Miss. Phyllis May\",female,2,1,1,26360,26,,S\n",
      "\n",
      "532,0,3,\"Toufik, Mr. Nakli\",male,,0,0,2641,7.2292,,C\n",
      "\n",
      "533,0,3,\"Elias, Mr. Joseph Jr\",male,17,1,1,2690,7.2292,,C\n",
      "\n",
      "534,1,3,\"Peter, Mrs. Catherine (Catherine Rizk)\",female,,0,2,2668,22.3583,,C\n",
      "\n",
      "535,0,3,\"Cacic, Miss. Marija\",female,30,0,0,315084,8.6625,,S\n",
      "\n",
      "536,1,2,\"Hart, Miss. Eva Miriam\",female,7,0,2,F.C.C. 13529,26.25,,S\n",
      "\n",
      "537,0,1,\"Butt, Major. Archibald Willingham\",male,45,0,0,113050,26.55,B38,S\n",
      "\n",
      "538,1,1,\"LeRoy, Miss. Bertha\",female,30,0,0,PC 17761,106.425,,C\n",
      "\n",
      "539,0,3,\"Risien, Mr. Samuel Beard\",male,,0,0,364498,14.5,,S\n",
      "\n",
      "540,1,1,\"Frolicher, Miss. Hedwig Margaritha\",female,22,0,2,13568,49.5,B39,C\n",
      "\n",
      "541,1,1,\"Crosby, Miss. Harriet R\",female,36,0,2,WE/P 5735,71,B22,S\n",
      "\n",
      "542,0,3,\"Andersson, Miss. Ingeborg Constanzia\",female,9,4,2,347082,31.275,,S\n",
      "\n",
      "543,0,3,\"Andersson, Miss. Sigrid Elisabeth\",female,11,4,2,347082,31.275,,S\n",
      "\n",
      "544,1,2,\"Beane, Mr. Edward\",male,32,1,0,2908,26,,S\n",
      "\n",
      "545,0,1,\"Douglas, Mr. Walter Donald\",male,50,1,0,PC 17761,106.425,C86,C\n",
      "\n",
      "546,0,1,\"Nicholson, Mr. Arthur Ernest\",male,64,0,0,693,26,,S\n",
      "\n",
      "547,1,2,\"Beane, Mrs. Edward (Ethel Clarke)\",female,19,1,0,2908,26,,S\n",
      "\n",
      "548,1,2,\"Padro y Manent, Mr. Julian\",male,,0,0,SC/PARIS 2146,13.8625,,C\n",
      "\n",
      "549,0,3,\"Goldsmith, Mr. Frank John\",male,33,1,1,363291,20.525,,S\n",
      "\n",
      "550,1,2,\"Davies, Master. John Morgan Jr\",male,8,1,1,C.A. 33112,36.75,,S\n",
      "\n",
      "551,1,1,\"Thayer, Mr. John Borland Jr\",male,17,0,2,17421,110.8833,C70,C\n",
      "\n",
      "552,0,2,\"Sharp, Mr. Percival James R\",male,27,0,0,244358,26,,S\n",
      "\n",
      "553,0,3,\"O'Brien, Mr. Timothy\",male,,0,0,330979,7.8292,,Q\n",
      "\n",
      "554,1,3,\"Leeni, Mr. Fahim (\"\"Philip Zenni\"\")\",male,22,0,0,2620,7.225,,C\n",
      "\n",
      "555,1,3,\"Ohman, Miss. Velin\",female,22,0,0,347085,7.775,,S\n",
      "\n",
      "556,0,1,\"Wright, Mr. George\",male,62,0,0,113807,26.55,,S\n",
      "\n",
      "557,1,1,\"Duff Gordon, Lady. (Lucille Christiana Sutherland) (\"\"Mrs Morgan\"\")\",female,48,1,0,11755,39.6,A16,C\n",
      "\n",
      "558,0,1,\"Robbins, Mr. Victor\",male,,0,0,PC 17757,227.525,,C\n",
      "\n",
      "559,1,1,\"Taussig, Mrs. Emil (Tillie Mandelbaum)\",female,39,1,1,110413,79.65,E67,S\n",
      "\n",
      "560,1,3,\"de Messemaeker, Mrs. Guillaume Joseph (Emma)\",female,36,1,0,345572,17.4,,S\n",
      "\n",
      "561,0,3,\"Morrow, Mr. Thomas Rowan\",male,,0,0,372622,7.75,,Q\n",
      "\n",
      "562,0,3,\"Sivic, Mr. Husein\",male,40,0,0,349251,7.8958,,S\n",
      "\n",
      "563,0,2,\"Norman, Mr. Robert Douglas\",male,28,0,0,218629,13.5,,S\n",
      "\n",
      "564,0,3,\"Simmons, Mr. John\",male,,0,0,SOTON/OQ 392082,8.05,,S\n",
      "\n",
      "565,0,3,\"Meanwell, Miss. (Marion Ogden)\",female,,0,0,SOTON/O.Q. 392087,8.05,,S\n",
      "\n",
      "566,0,3,\"Davies, Mr. Alfred J\",male,24,2,0,A/4 48871,24.15,,S\n",
      "\n",
      "567,0,3,\"Stoytcheff, Mr. Ilia\",male,19,0,0,349205,7.8958,,S\n",
      "\n",
      "568,0,3,\"Palsson, Mrs. Nils (Alma Cornelia Berglund)\",female,29,0,4,349909,21.075,,S\n",
      "\n",
      "569,0,3,\"Doharr, Mr. Tannous\",male,,0,0,2686,7.2292,,C\n",
      "\n",
      "570,1,3,\"Jonsson, Mr. Carl\",male,32,0,0,350417,7.8542,,S\n",
      "\n",
      "571,1,2,\"Harris, Mr. George\",male,62,0,0,S.W./PP 752,10.5,,S\n",
      "\n",
      "572,1,1,\"Appleton, Mrs. Edward Dale (Charlotte Lamson)\",female,53,2,0,11769,51.4792,C101,S\n",
      "\n",
      "573,1,1,\"Flynn, Mr. John Irwin (\"\"Irving\"\")\",male,36,0,0,PC 17474,26.3875,E25,S\n",
      "\n",
      "574,1,3,\"Kelly, Miss. Mary\",female,,0,0,14312,7.75,,Q\n",
      "\n",
      "575,0,3,\"Rush, Mr. Alfred George John\",male,16,0,0,A/4. 20589,8.05,,S\n",
      "\n",
      "576,0,3,\"Patchett, Mr. George\",male,19,0,0,358585,14.5,,S\n",
      "\n",
      "577,1,2,\"Garside, Miss. Ethel\",female,34,0,0,243880,13,,S\n",
      "\n",
      "578,1,1,\"Silvey, Mrs. William Baird (Alice Munger)\",female,39,1,0,13507,55.9,E44,S\n",
      "\n",
      "579,0,3,\"Caram, Mrs. Joseph (Maria Elias)\",female,,1,0,2689,14.4583,,C\n",
      "\n",
      "580,1,3,\"Jussila, Mr. Eiriik\",male,32,0,0,STON/O 2. 3101286,7.925,,S\n",
      "\n",
      "581,1,2,\"Christy, Miss. Julie Rachel\",female,25,1,1,237789,30,,S\n",
      "\n",
      "582,1,1,\"Thayer, Mrs. John Borland (Marian Longstreth Morris)\",female,39,1,1,17421,110.8833,C68,C\n",
      "\n",
      "583,0,2,\"Downton, Mr. William James\",male,54,0,0,28403,26,,S\n",
      "\n",
      "584,0,1,\"Ross, Mr. John Hugo\",male,36,0,0,13049,40.125,A10,C\n",
      "\n",
      "585,0,3,\"Paulner, Mr. Uscher\",male,,0,0,3411,8.7125,,C\n",
      "\n",
      "586,1,1,\"Taussig, Miss. Ruth\",female,18,0,2,110413,79.65,E68,S\n",
      "\n",
      "587,0,2,\"Jarvis, Mr. John Denzil\",male,47,0,0,237565,15,,S\n",
      "\n",
      "588,1,1,\"Frolicher-Stehli, Mr. Maxmillian\",male,60,1,1,13567,79.2,B41,C\n",
      "\n",
      "589,0,3,\"Gilinski, Mr. Eliezer\",male,22,0,0,14973,8.05,,S\n",
      "\n",
      "590,0,3,\"Murdlin, Mr. Joseph\",male,,0,0,A./5. 3235,8.05,,S\n",
      "\n",
      "591,0,3,\"Rintamaki, Mr. Matti\",male,35,0,0,STON/O 2. 3101273,7.125,,S\n",
      "\n",
      "592,1,1,\"Stephenson, Mrs. Walter Bertram (Martha Eustis)\",female,52,1,0,36947,78.2667,D20,C\n",
      "\n",
      "593,0,3,\"Elsbury, Mr. William James\",male,47,0,0,A/5 3902,7.25,,S\n",
      "\n",
      "594,0,3,\"Bourke, Miss. Mary\",female,,0,2,364848,7.75,,Q\n",
      "\n",
      "595,0,2,\"Chapman, Mr. John Henry\",male,37,1,0,SC/AH 29037,26,,S\n",
      "\n",
      "596,0,3,\"Van Impe, Mr. Jean Baptiste\",male,36,1,1,345773,24.15,,S\n",
      "\n",
      "597,1,2,\"Leitch, Miss. Jessie Wills\",female,,0,0,248727,33,,S\n",
      "\n",
      "598,0,3,\"Johnson, Mr. Alfred\",male,49,0,0,LINE,0,,S\n",
      "\n",
      "599,0,3,\"Boulos, Mr. Hanna\",male,,0,0,2664,7.225,,C\n",
      "\n",
      "600,1,1,\"Duff Gordon, Sir. Cosmo Edmund (\"\"Mr Morgan\"\")\",male,49,1,0,PC 17485,56.9292,A20,C\n",
      "\n",
      "601,1,2,\"Jacobsohn, Mrs. Sidney Samuel (Amy Frances Christy)\",female,24,2,1,243847,27,,S\n",
      "\n",
      "602,0,3,\"Slabenoff, Mr. Petco\",male,,0,0,349214,7.8958,,S\n",
      "\n",
      "603,0,1,\"Harrington, Mr. Charles H\",male,,0,0,113796,42.4,,S\n",
      "\n",
      "604,0,3,\"Torber, Mr. Ernst William\",male,44,0,0,364511,8.05,,S\n",
      "\n",
      "605,1,1,\"Homer, Mr. Harry (\"\"Mr E Haven\"\")\",male,35,0,0,111426,26.55,,C\n",
      "\n",
      "606,0,3,\"Lindell, Mr. Edvard Bengtsson\",male,36,1,0,349910,15.55,,S\n",
      "\n",
      "607,0,3,\"Karaic, Mr. Milan\",male,30,0,0,349246,7.8958,,S\n",
      "\n",
      "608,1,1,\"Daniel, Mr. Robert Williams\",male,27,0,0,113804,30.5,,S\n",
      "\n",
      "609,1,2,\"Laroche, Mrs. Joseph (Juliette Marie Louise Lafargue)\",female,22,1,2,SC/Paris 2123,41.5792,,C\n",
      "\n",
      "610,1,1,\"Shutes, Miss. Elizabeth W\",female,40,0,0,PC 17582,153.4625,C125,S\n",
      "\n",
      "611,0,3,\"Andersson, Mrs. Anders Johan (Alfrida Konstantia Brogren)\",female,39,1,5,347082,31.275,,S\n",
      "\n",
      "612,0,3,\"Jardin, Mr. Jose Neto\",male,,0,0,SOTON/O.Q. 3101305,7.05,,S\n",
      "\n",
      "613,1,3,\"Murphy, Miss. Margaret Jane\",female,,1,0,367230,15.5,,Q\n",
      "\n",
      "614,0,3,\"Horgan, Mr. John\",male,,0,0,370377,7.75,,Q\n",
      "\n",
      "615,0,3,\"Brocklebank, Mr. William Alfred\",male,35,0,0,364512,8.05,,S\n",
      "\n",
      "616,1,2,\"Herman, Miss. Alice\",female,24,1,2,220845,65,,S\n",
      "\n",
      "617,0,3,\"Danbom, Mr. Ernst Gilbert\",male,34,1,1,347080,14.4,,S\n",
      "\n",
      "618,0,3,\"Lobb, Mrs. William Arthur (Cordelia K Stanlick)\",female,26,1,0,A/5. 3336,16.1,,S\n",
      "\n",
      "619,1,2,\"Becker, Miss. Marion Louise\",female,4,2,1,230136,39,F4,S\n",
      "\n",
      "620,0,2,\"Gavey, Mr. Lawrence\",male,26,0,0,31028,10.5,,S\n",
      "\n",
      "621,0,3,\"Yasbeck, Mr. Antoni\",male,27,1,0,2659,14.4542,,C\n",
      "\n",
      "622,1,1,\"Kimball, Mr. Edwin Nelson Jr\",male,42,1,0,11753,52.5542,D19,S\n",
      "\n",
      "623,1,3,\"Nakid, Mr. Sahid\",male,20,1,1,2653,15.7417,,C\n",
      "\n",
      "624,0,3,\"Hansen, Mr. Henry Damsgaard\",male,21,0,0,350029,7.8542,,S\n",
      "\n",
      "625,0,3,\"Bowen, Mr. David John \"\"Dai\"\"\",male,21,0,0,54636,16.1,,S\n",
      "\n",
      "626,0,1,\"Sutton, Mr. Frederick\",male,61,0,0,36963,32.3208,D50,S\n",
      "\n",
      "627,0,2,\"Kirkland, Rev. Charles Leonard\",male,57,0,0,219533,12.35,,Q\n",
      "\n",
      "628,1,1,\"Longley, Miss. Gretchen Fiske\",female,21,0,0,13502,77.9583,D9,S\n",
      "\n",
      "629,0,3,\"Bostandyeff, Mr. Guentcho\",male,26,0,0,349224,7.8958,,S\n",
      "\n",
      "630,0,3,\"O'Connell, Mr. Patrick D\",male,,0,0,334912,7.7333,,Q\n",
      "\n",
      "631,1,1,\"Barkworth, Mr. Algernon Henry Wilson\",male,80,0,0,27042,30,A23,S\n",
      "\n",
      "632,0,3,\"Lundahl, Mr. Johan Svensson\",male,51,0,0,347743,7.0542,,S\n",
      "\n",
      "633,1,1,\"Stahelin-Maeglin, Dr. Max\",male,32,0,0,13214,30.5,B50,C\n",
      "\n",
      "634,0,1,\"Parr, Mr. William Henry Marsh\",male,,0,0,112052,0,,S\n",
      "\n",
      "635,0,3,\"Skoog, Miss. Mabel\",female,9,3,2,347088,27.9,,S\n",
      "\n",
      "636,1,2,\"Davis, Miss. Mary\",female,28,0,0,237668,13,,S\n",
      "\n",
      "637,0,3,\"Leinonen, Mr. Antti Gustaf\",male,32,0,0,STON/O 2. 3101292,7.925,,S\n",
      "\n",
      "638,0,2,\"Collyer, Mr. Harvey\",male,31,1,1,C.A. 31921,26.25,,S\n",
      "\n",
      "639,0,3,\"Panula, Mrs. Juha (Maria Emilia Ojala)\",female,41,0,5,3101295,39.6875,,S\n",
      "\n",
      "640,0,3,\"Thorneycroft, Mr. Percival\",male,,1,0,376564,16.1,,S\n",
      "\n",
      "641,0,3,\"Jensen, Mr. Hans Peder\",male,20,0,0,350050,7.8542,,S\n",
      "\n",
      "642,1,1,\"Sagesser, Mlle. Emma\",female,24,0,0,PC 17477,69.3,B35,C\n",
      "\n",
      "643,0,3,\"Skoog, Miss. Margit Elizabeth\",female,2,3,2,347088,27.9,,S\n",
      "\n",
      "644,1,3,\"Foo, Mr. Choong\",male,,0,0,1601,56.4958,,S\n",
      "\n",
      "645,1,3,\"Baclini, Miss. Eugenie\",female,0.75,2,1,2666,19.2583,,C\n",
      "\n",
      "646,1,1,\"Harper, Mr. Henry Sleeper\",male,48,1,0,PC 17572,76.7292,D33,C\n",
      "\n",
      "647,0,3,\"Cor, Mr. Liudevit\",male,19,0,0,349231,7.8958,,S\n",
      "\n",
      "648,1,1,\"Simonius-Blumer, Col. Oberst Alfons\",male,56,0,0,13213,35.5,A26,C\n",
      "\n",
      "649,0,3,\"Willey, Mr. Edward\",male,,0,0,S.O./P.P. 751,7.55,,S\n",
      "\n",
      "650,1,3,\"Stanley, Miss. Amy Zillah Elsie\",female,23,0,0,CA. 2314,7.55,,S\n",
      "\n",
      "651,0,3,\"Mitkoff, Mr. Mito\",male,,0,0,349221,7.8958,,S\n",
      "\n",
      "652,1,2,\"Doling, Miss. Elsie\",female,18,0,1,231919,23,,S\n",
      "\n",
      "653,0,3,\"Kalvik, Mr. Johannes Halvorsen\",male,21,0,0,8475,8.4333,,S\n",
      "\n",
      "654,1,3,\"O'Leary, Miss. Hanora \"\"Norah\"\"\",female,,0,0,330919,7.8292,,Q\n",
      "\n",
      "655,0,3,\"Hegarty, Miss. Hanora \"\"Nora\"\"\",female,18,0,0,365226,6.75,,Q\n",
      "\n",
      "656,0,2,\"Hickman, Mr. Leonard Mark\",male,24,2,0,S.O.C. 14879,73.5,,S\n",
      "\n",
      "657,0,3,\"Radeff, Mr. Alexander\",male,,0,0,349223,7.8958,,S\n",
      "\n",
      "658,0,3,\"Bourke, Mrs. John (Catherine)\",female,32,1,1,364849,15.5,,Q\n",
      "\n",
      "659,0,2,\"Eitemiller, Mr. George Floyd\",male,23,0,0,29751,13,,S\n",
      "\n",
      "660,0,1,\"Newell, Mr. Arthur Webster\",male,58,0,2,35273,113.275,D48,C\n",
      "\n",
      "661,1,1,\"Frauenthal, Dr. Henry William\",male,50,2,0,PC 17611,133.65,,S\n",
      "\n",
      "662,0,3,\"Badt, Mr. Mohamed\",male,40,0,0,2623,7.225,,C\n",
      "\n",
      "663,0,1,\"Colley, Mr. Edward Pomeroy\",male,47,0,0,5727,25.5875,E58,S\n",
      "\n",
      "664,0,3,\"Coleff, Mr. Peju\",male,36,0,0,349210,7.4958,,S\n",
      "\n",
      "665,1,3,\"Lindqvist, Mr. Eino William\",male,20,1,0,STON/O 2. 3101285,7.925,,S\n",
      "\n",
      "666,0,2,\"Hickman, Mr. Lewis\",male,32,2,0,S.O.C. 14879,73.5,,S\n",
      "\n",
      "667,0,2,\"Butler, Mr. Reginald Fenton\",male,25,0,0,234686,13,,S\n",
      "\n",
      "668,0,3,\"Rommetvedt, Mr. Knud Paust\",male,,0,0,312993,7.775,,S\n",
      "\n",
      "669,0,3,\"Cook, Mr. Jacob\",male,43,0,0,A/5 3536,8.05,,S\n",
      "\n",
      "670,1,1,\"Taylor, Mrs. Elmer Zebley (Juliet Cummins Wright)\",female,,1,0,19996,52,C126,S\n",
      "\n",
      "671,1,2,\"Brown, Mrs. Thomas William Solomon (Elizabeth Catherine Ford)\",female,40,1,1,29750,39,,S\n",
      "\n",
      "672,0,1,\"Davidson, Mr. Thornton\",male,31,1,0,F.C. 12750,52,B71,S\n",
      "\n",
      "673,0,2,\"Mitchell, Mr. Henry Michael\",male,70,0,0,C.A. 24580,10.5,,S\n",
      "\n",
      "674,1,2,\"Wilhelms, Mr. Charles\",male,31,0,0,244270,13,,S\n",
      "\n",
      "675,0,2,\"Watson, Mr. Ennis Hastings\",male,,0,0,239856,0,,S\n",
      "\n",
      "676,0,3,\"Edvardsson, Mr. Gustaf Hjalmar\",male,18,0,0,349912,7.775,,S\n",
      "\n",
      "677,0,3,\"Sawyer, Mr. Frederick Charles\",male,24.5,0,0,342826,8.05,,S\n",
      "\n",
      "678,1,3,\"Turja, Miss. Anna Sofia\",female,18,0,0,4138,9.8417,,S\n",
      "\n",
      "679,0,3,\"Goodwin, Mrs. Frederick (Augusta Tyler)\",female,43,1,6,CA 2144,46.9,,S\n",
      "\n",
      "680,1,1,\"Cardeza, Mr. Thomas Drake Martinez\",male,36,0,1,PC 17755,512.3292,B51 B53 B55,C\n",
      "\n",
      "681,0,3,\"Peters, Miss. Katie\",female,,0,0,330935,8.1375,,Q\n",
      "\n",
      "682,1,1,\"Hassab, Mr. Hammad\",male,27,0,0,PC 17572,76.7292,D49,C\n",
      "\n",
      "683,0,3,\"Olsvigen, Mr. Thor Anderson\",male,20,0,0,6563,9.225,,S\n",
      "\n",
      "684,0,3,\"Goodwin, Mr. Charles Edward\",male,14,5,2,CA 2144,46.9,,S\n",
      "\n",
      "685,0,2,\"Brown, Mr. Thomas William Solomon\",male,60,1,1,29750,39,,S\n",
      "\n",
      "686,0,2,\"Laroche, Mr. Joseph Philippe Lemercier\",male,25,1,2,SC/Paris 2123,41.5792,,C\n",
      "\n",
      "687,0,3,\"Panula, Mr. Jaako Arnold\",male,14,4,1,3101295,39.6875,,S\n",
      "\n",
      "688,0,3,\"Dakic, Mr. Branko\",male,19,0,0,349228,10.1708,,S\n",
      "\n",
      "689,0,3,\"Fischer, Mr. Eberhard Thelander\",male,18,0,0,350036,7.7958,,S\n",
      "\n",
      "690,1,1,\"Madill, Miss. Georgette Alexandra\",female,15,0,1,24160,211.3375,B5,S\n",
      "\n",
      "691,1,1,\"Dick, Mr. Albert Adrian\",male,31,1,0,17474,57,B20,S\n",
      "\n",
      "692,1,3,\"Karun, Miss. Manca\",female,4,0,1,349256,13.4167,,C\n",
      "\n",
      "693,1,3,\"Lam, Mr. Ali\",male,,0,0,1601,56.4958,,S\n",
      "\n",
      "694,0,3,\"Saad, Mr. Khalil\",male,25,0,0,2672,7.225,,C\n",
      "\n",
      "695,0,1,\"Weir, Col. John\",male,60,0,0,113800,26.55,,S\n",
      "\n",
      "696,0,2,\"Chapman, Mr. Charles Henry\",male,52,0,0,248731,13.5,,S\n",
      "\n",
      "697,0,3,\"Kelly, Mr. James\",male,44,0,0,363592,8.05,,S\n",
      "\n",
      "698,1,3,\"Mullens, Miss. Katherine \"\"Katie\"\"\",female,,0,0,35852,7.7333,,Q\n",
      "\n",
      "699,0,1,\"Thayer, Mr. John Borland\",male,49,1,1,17421,110.8833,C68,C\n",
      "\n",
      "700,0,3,\"Humblen, Mr. Adolf Mathias Nicolai Olsen\",male,42,0,0,348121,7.65,F G63,S\n",
      "\n",
      "701,1,1,\"Astor, Mrs. John Jacob (Madeleine Talmadge Force)\",female,18,1,0,PC 17757,227.525,C62 C64,C\n",
      "\n",
      "702,1,1,\"Silverthorne, Mr. Spencer Victor\",male,35,0,0,PC 17475,26.2875,E24,S\n",
      "\n",
      "703,0,3,\"Barbara, Miss. Saiide\",female,18,0,1,2691,14.4542,,C\n",
      "\n",
      "704,0,3,\"Gallagher, Mr. Martin\",male,25,0,0,36864,7.7417,,Q\n",
      "\n",
      "705,0,3,\"Hansen, Mr. Henrik Juul\",male,26,1,0,350025,7.8542,,S\n",
      "\n",
      "706,0,2,\"Morley, Mr. Henry Samuel (\"\"Mr Henry Marshall\"\")\",male,39,0,0,250655,26,,S\n",
      "\n",
      "707,1,2,\"Kelly, Mrs. Florence \"\"Fannie\"\"\",female,45,0,0,223596,13.5,,S\n",
      "\n",
      "708,1,1,\"Calderhead, Mr. Edward Pennington\",male,42,0,0,PC 17476,26.2875,E24,S\n",
      "\n",
      "709,1,1,\"Cleaver, Miss. Alice\",female,22,0,0,113781,151.55,,S\n",
      "\n",
      "710,1,3,\"Moubarek, Master. Halim Gonios (\"\"William George\"\")\",male,,1,1,2661,15.2458,,C\n",
      "\n",
      "711,1,1,\"Mayne, Mlle. Berthe Antonine (\"\"Mrs de Villiers\"\")\",female,24,0,0,PC 17482,49.5042,C90,C\n",
      "\n",
      "712,0,1,\"Klaber, Mr. Herman\",male,,0,0,113028,26.55,C124,S\n",
      "\n",
      "713,1,1,\"Taylor, Mr. Elmer Zebley\",male,48,1,0,19996,52,C126,S\n",
      "\n",
      "714,0,3,\"Larsson, Mr. August Viktor\",male,29,0,0,7545,9.4833,,S\n",
      "\n",
      "715,0,2,\"Greenberg, Mr. Samuel\",male,52,0,0,250647,13,,S\n",
      "\n",
      "716,0,3,\"Soholt, Mr. Peter Andreas Lauritz Andersen\",male,19,0,0,348124,7.65,F G73,S\n",
      "\n",
      "717,1,1,\"Endres, Miss. Caroline Louise\",female,38,0,0,PC 17757,227.525,C45,C\n",
      "\n",
      "718,1,2,\"Troutt, Miss. Edwina Celia \"\"Winnie\"\"\",female,27,0,0,34218,10.5,E101,S\n",
      "\n",
      "719,0,3,\"McEvoy, Mr. Michael\",male,,0,0,36568,15.5,,Q\n",
      "\n",
      "720,0,3,\"Johnson, Mr. Malkolm Joackim\",male,33,0,0,347062,7.775,,S\n",
      "\n",
      "721,1,2,\"Harper, Miss. Annie Jessie \"\"Nina\"\"\",female,6,0,1,248727,33,,S\n",
      "\n",
      "722,0,3,\"Jensen, Mr. Svend Lauritz\",male,17,1,0,350048,7.0542,,S\n",
      "\n",
      "723,0,2,\"Gillespie, Mr. William Henry\",male,34,0,0,12233,13,,S\n",
      "\n",
      "724,0,2,\"Hodges, Mr. Henry Price\",male,50,0,0,250643,13,,S\n",
      "\n",
      "725,1,1,\"Chambers, Mr. Norman Campbell\",male,27,1,0,113806,53.1,E8,S\n",
      "\n",
      "726,0,3,\"Oreskovic, Mr. Luka\",male,20,0,0,315094,8.6625,,S\n",
      "\n",
      "727,1,2,\"Renouf, Mrs. Peter Henry (Lillian Jefferys)\",female,30,3,0,31027,21,,S\n",
      "\n",
      "728,1,3,\"Mannion, Miss. Margareth\",female,,0,0,36866,7.7375,,Q\n",
      "\n",
      "729,0,2,\"Bryhl, Mr. Kurt Arnold Gottfrid\",male,25,1,0,236853,26,,S\n",
      "\n",
      "730,0,3,\"Ilmakangas, Miss. Pieta Sofia\",female,25,1,0,STON/O2. 3101271,7.925,,S\n",
      "\n",
      "731,1,1,\"Allen, Miss. Elisabeth Walton\",female,29,0,0,24160,211.3375,B5,S\n",
      "\n",
      "732,0,3,\"Hassan, Mr. Houssein G N\",male,11,0,0,2699,18.7875,,C\n",
      "\n",
      "733,0,2,\"Knight, Mr. Robert J\",male,,0,0,239855,0,,S\n",
      "\n",
      "734,0,2,\"Berriman, Mr. William John\",male,23,0,0,28425,13,,S\n",
      "\n",
      "735,0,2,\"Troupiansky, Mr. Moses Aaron\",male,23,0,0,233639,13,,S\n",
      "\n",
      "736,0,3,\"Williams, Mr. Leslie\",male,28.5,0,0,54636,16.1,,S\n",
      "\n",
      "737,0,3,\"Ford, Mrs. Edward (Margaret Ann Watson)\",female,48,1,3,W./C. 6608,34.375,,S\n",
      "\n",
      "738,1,1,\"Lesurer, Mr. Gustave J\",male,35,0,0,PC 17755,512.3292,B101,C\n",
      "\n",
      "739,0,3,\"Ivanoff, Mr. Kanio\",male,,0,0,349201,7.8958,,S\n",
      "\n",
      "740,0,3,\"Nankoff, Mr. Minko\",male,,0,0,349218,7.8958,,S\n",
      "\n",
      "741,1,1,\"Hawksford, Mr. Walter James\",male,,0,0,16988,30,D45,S\n",
      "\n",
      "742,0,1,\"Cavendish, Mr. Tyrell William\",male,36,1,0,19877,78.85,C46,S\n",
      "\n",
      "743,1,1,\"Ryerson, Miss. Susan Parker \"\"Suzette\"\"\",female,21,2,2,PC 17608,262.375,B57 B59 B63 B66,C\n",
      "\n",
      "744,0,3,\"McNamee, Mr. Neal\",male,24,1,0,376566,16.1,,S\n",
      "\n",
      "745,1,3,\"Stranden, Mr. Juho\",male,31,0,0,STON/O 2. 3101288,7.925,,S\n",
      "\n",
      "746,0,1,\"Crosby, Capt. Edward Gifford\",male,70,1,1,WE/P 5735,71,B22,S\n",
      "\n",
      "747,0,3,\"Abbott, Mr. Rossmore Edward\",male,16,1,1,C.A. 2673,20.25,,S\n",
      "\n",
      "748,1,2,\"Sinkkonen, Miss. Anna\",female,30,0,0,250648,13,,S\n",
      "\n",
      "749,0,1,\"Marvin, Mr. Daniel Warner\",male,19,1,0,113773,53.1,D30,S\n",
      "\n",
      "750,0,3,\"Connaghton, Mr. Michael\",male,31,0,0,335097,7.75,,Q\n",
      "\n",
      "751,1,2,\"Wells, Miss. Joan\",female,4,1,1,29103,23,,S\n",
      "\n",
      "752,1,3,\"Moor, Master. Meier\",male,6,0,1,392096,12.475,E121,S\n",
      "\n",
      "753,0,3,\"Vande Velde, Mr. Johannes Joseph\",male,33,0,0,345780,9.5,,S\n",
      "\n",
      "754,0,3,\"Jonkoff, Mr. Lalio\",male,23,0,0,349204,7.8958,,S\n",
      "\n",
      "755,1,2,\"Herman, Mrs. Samuel (Jane Laver)\",female,48,1,2,220845,65,,S\n",
      "\n",
      "756,1,2,\"Hamalainen, Master. Viljo\",male,0.67,1,1,250649,14.5,,S\n",
      "\n",
      "757,0,3,\"Carlsson, Mr. August Sigfrid\",male,28,0,0,350042,7.7958,,S\n",
      "\n",
      "758,0,2,\"Bailey, Mr. Percy Andrew\",male,18,0,0,29108,11.5,,S\n",
      "\n",
      "759,0,3,\"Theobald, Mr. Thomas Leonard\",male,34,0,0,363294,8.05,,S\n",
      "\n",
      "760,1,1,\"Rothes, the Countess. of (Lucy Noel Martha Dyer-Edwards)\",female,33,0,0,110152,86.5,B77,S\n",
      "\n",
      "761,0,3,\"Garfirth, Mr. John\",male,,0,0,358585,14.5,,S\n",
      "\n",
      "762,0,3,\"Nirva, Mr. Iisakki Antino Aijo\",male,41,0,0,SOTON/O2 3101272,7.125,,S\n",
      "\n",
      "763,1,3,\"Barah, Mr. Hanna Assi\",male,20,0,0,2663,7.2292,,C\n",
      "\n",
      "764,1,1,\"Carter, Mrs. William Ernest (Lucile Polk)\",female,36,1,2,113760,120,B96 B98,S\n",
      "\n",
      "765,0,3,\"Eklund, Mr. Hans Linus\",male,16,0,0,347074,7.775,,S\n",
      "\n",
      "766,1,1,\"Hogeboom, Mrs. John C (Anna Andrews)\",female,51,1,0,13502,77.9583,D11,S\n",
      "\n",
      "767,0,1,\"Brewe, Dr. Arthur Jackson\",male,,0,0,112379,39.6,,C\n",
      "\n",
      "768,0,3,\"Mangan, Miss. Mary\",female,30.5,0,0,364850,7.75,,Q\n",
      "\n",
      "769,0,3,\"Moran, Mr. Daniel J\",male,,1,0,371110,24.15,,Q\n",
      "\n",
      "770,0,3,\"Gronnestad, Mr. Daniel Danielsen\",male,32,0,0,8471,8.3625,,S\n",
      "\n",
      "771,0,3,\"Lievens, Mr. Rene Aime\",male,24,0,0,345781,9.5,,S\n",
      "\n",
      "772,0,3,\"Jensen, Mr. Niels Peder\",male,48,0,0,350047,7.8542,,S\n",
      "\n",
      "773,0,2,\"Mack, Mrs. (Mary)\",female,57,0,0,S.O./P.P. 3,10.5,E77,S\n",
      "\n",
      "774,0,3,\"Elias, Mr. Dibo\",male,,0,0,2674,7.225,,C\n",
      "\n",
      "775,1,2,\"Hocking, Mrs. Elizabeth (Eliza Needs)\",female,54,1,3,29105,23,,S\n",
      "\n",
      "776,0,3,\"Myhrman, Mr. Pehr Fabian Oliver Malkolm\",male,18,0,0,347078,7.75,,S\n",
      "\n",
      "777,0,3,\"Tobin, Mr. Roger\",male,,0,0,383121,7.75,F38,Q\n",
      "\n",
      "778,1,3,\"Emanuel, Miss. Virginia Ethel\",female,5,0,0,364516,12.475,,S\n",
      "\n",
      "779,0,3,\"Kilgannon, Mr. Thomas J\",male,,0,0,36865,7.7375,,Q\n",
      "\n",
      "780,1,1,\"Robert, Mrs. Edward Scott (Elisabeth Walton McMillan)\",female,43,0,1,24160,211.3375,B3,S\n",
      "\n",
      "781,1,3,\"Ayoub, Miss. Banoura\",female,13,0,0,2687,7.2292,,C\n",
      "\n",
      "782,1,1,\"Dick, Mrs. Albert Adrian (Vera Gillespie)\",female,17,1,0,17474,57,B20,S\n",
      "\n",
      "783,0,1,\"Long, Mr. Milton Clyde\",male,29,0,0,113501,30,D6,S\n",
      "\n",
      "784,0,3,\"Johnston, Mr. Andrew G\",male,,1,2,W./C. 6607,23.45,,S\n",
      "\n",
      "785,0,3,\"Ali, Mr. William\",male,25,0,0,SOTON/O.Q. 3101312,7.05,,S\n",
      "\n",
      "786,0,3,\"Harmer, Mr. Abraham (David Lishin)\",male,25,0,0,374887,7.25,,S\n",
      "\n",
      "787,1,3,\"Sjoblom, Miss. Anna Sofia\",female,18,0,0,3101265,7.4958,,S\n",
      "\n",
      "788,0,3,\"Rice, Master. George Hugh\",male,8,4,1,382652,29.125,,Q\n",
      "\n",
      "789,1,3,\"Dean, Master. Bertram Vere\",male,1,1,2,C.A. 2315,20.575,,S\n",
      "\n",
      "790,0,1,\"Guggenheim, Mr. Benjamin\",male,46,0,0,PC 17593,79.2,B82 B84,C\n",
      "\n",
      "791,0,3,\"Keane, Mr. Andrew \"\"Andy\"\"\",male,,0,0,12460,7.75,,Q\n",
      "\n",
      "792,0,2,\"Gaskell, Mr. Alfred\",male,16,0,0,239865,26,,S\n",
      "\n",
      "793,0,3,\"Sage, Miss. Stella Anna\",female,,8,2,CA. 2343,69.55,,S\n",
      "\n",
      "794,0,1,\"Hoyt, Mr. William Fisher\",male,,0,0,PC 17600,30.6958,,C\n",
      "\n",
      "795,0,3,\"Dantcheff, Mr. Ristiu\",male,25,0,0,349203,7.8958,,S\n",
      "\n",
      "796,0,2,\"Otter, Mr. Richard\",male,39,0,0,28213,13,,S\n",
      "\n",
      "797,1,1,\"Leader, Dr. Alice (Farnham)\",female,49,0,0,17465,25.9292,D17,S\n",
      "\n",
      "798,1,3,\"Osman, Mrs. Mara\",female,31,0,0,349244,8.6833,,S\n",
      "\n",
      "799,0,3,\"Ibrahim Shawah, Mr. Yousseff\",male,30,0,0,2685,7.2292,,C\n",
      "\n",
      "800,0,3,\"Van Impe, Mrs. Jean Baptiste (Rosalie Paula Govaert)\",female,30,1,1,345773,24.15,,S\n",
      "\n",
      "801,0,2,\"Ponesell, Mr. Martin\",male,34,0,0,250647,13,,S\n",
      "\n",
      "802,1,2,\"Collyer, Mrs. Harvey (Charlotte Annie Tate)\",female,31,1,1,C.A. 31921,26.25,,S\n",
      "\n",
      "803,1,1,\"Carter, Master. William Thornton II\",male,11,1,2,113760,120,B96 B98,S\n",
      "\n",
      "804,1,3,\"Thomas, Master. Assad Alexander\",male,0.42,0,1,2625,8.5167,,C\n",
      "\n",
      "805,1,3,\"Hedman, Mr. Oskar Arvid\",male,27,0,0,347089,6.975,,S\n",
      "\n",
      "806,0,3,\"Johansson, Mr. Karl Johan\",male,31,0,0,347063,7.775,,S\n",
      "\n",
      "807,0,1,\"Andrews, Mr. Thomas Jr\",male,39,0,0,112050,0,A36,S\n",
      "\n",
      "808,0,3,\"Pettersson, Miss. Ellen Natalia\",female,18,0,0,347087,7.775,,S\n",
      "\n",
      "809,0,2,\"Meyer, Mr. August\",male,39,0,0,248723,13,,S\n",
      "\n",
      "810,1,1,\"Chambers, Mrs. Norman Campbell (Bertha Griggs)\",female,33,1,0,113806,53.1,E8,S\n",
      "\n",
      "811,0,3,\"Alexander, Mr. William\",male,26,0,0,3474,7.8875,,S\n",
      "\n",
      "812,0,3,\"Lester, Mr. James\",male,39,0,0,A/4 48871,24.15,,S\n",
      "\n",
      "813,0,2,\"Slemen, Mr. Richard James\",male,35,0,0,28206,10.5,,S\n",
      "\n",
      "814,0,3,\"Andersson, Miss. Ebba Iris Alfrida\",female,6,4,2,347082,31.275,,S\n",
      "\n",
      "815,0,3,\"Tomlin, Mr. Ernest Portage\",male,30.5,0,0,364499,8.05,,S\n",
      "\n",
      "816,0,1,\"Fry, Mr. Richard\",male,,0,0,112058,0,B102,S\n",
      "\n",
      "817,0,3,\"Heininen, Miss. Wendla Maria\",female,23,0,0,STON/O2. 3101290,7.925,,S\n",
      "\n",
      "818,0,2,\"Mallet, Mr. Albert\",male,31,1,1,S.C./PARIS 2079,37.0042,,C\n",
      "\n",
      "819,0,3,\"Holm, Mr. John Fredrik Alexander\",male,43,0,0,C 7075,6.45,,S\n",
      "\n",
      "820,0,3,\"Skoog, Master. Karl Thorsten\",male,10,3,2,347088,27.9,,S\n",
      "\n",
      "821,1,1,\"Hays, Mrs. Charles Melville (Clara Jennings Gregg)\",female,52,1,1,12749,93.5,B69,S\n",
      "\n",
      "822,1,3,\"Lulic, Mr. Nikola\",male,27,0,0,315098,8.6625,,S\n",
      "\n",
      "823,0,1,\"Reuchlin, Jonkheer. John George\",male,38,0,0,19972,0,,S\n",
      "\n",
      "824,1,3,\"Moor, Mrs. (Beila)\",female,27,0,1,392096,12.475,E121,S\n",
      "\n",
      "825,0,3,\"Panula, Master. Urho Abraham\",male,2,4,1,3101295,39.6875,,S\n",
      "\n",
      "826,0,3,\"Flynn, Mr. John\",male,,0,0,368323,6.95,,Q\n",
      "\n",
      "827,0,3,\"Lam, Mr. Len\",male,,0,0,1601,56.4958,,S\n",
      "\n",
      "828,1,2,\"Mallet, Master. Andre\",male,1,0,2,S.C./PARIS 2079,37.0042,,C\n",
      "\n",
      "829,1,3,\"McCormack, Mr. Thomas Joseph\",male,,0,0,367228,7.75,,Q\n",
      "\n",
      "830,1,1,\"Stone, Mrs. George Nelson (Martha Evelyn)\",female,62,0,0,113572,80,B28,\n",
      "\n",
      "831,1,3,\"Yasbeck, Mrs. Antoni (Selini Alexander)\",female,15,1,0,2659,14.4542,,C\n",
      "\n",
      "832,1,2,\"Richards, Master. George Sibley\",male,0.83,1,1,29106,18.75,,S\n",
      "\n",
      "833,0,3,\"Saad, Mr. Amin\",male,,0,0,2671,7.2292,,C\n",
      "\n",
      "834,0,3,\"Augustsson, Mr. Albert\",male,23,0,0,347468,7.8542,,S\n",
      "\n",
      "835,0,3,\"Allum, Mr. Owen George\",male,18,0,0,2223,8.3,,S\n",
      "\n",
      "836,1,1,\"Compton, Miss. Sara Rebecca\",female,39,1,1,PC 17756,83.1583,E49,C\n",
      "\n",
      "837,0,3,\"Pasic, Mr. Jakob\",male,21,0,0,315097,8.6625,,S\n",
      "\n",
      "838,0,3,\"Sirota, Mr. Maurice\",male,,0,0,392092,8.05,,S\n",
      "\n",
      "839,1,3,\"Chip, Mr. Chang\",male,32,0,0,1601,56.4958,,S\n",
      "\n",
      "840,1,1,\"Marechal, Mr. Pierre\",male,,0,0,11774,29.7,C47,C\n",
      "\n",
      "841,0,3,\"Alhomaki, Mr. Ilmari Rudolf\",male,20,0,0,SOTON/O2 3101287,7.925,,S\n",
      "\n",
      "842,0,2,\"Mudd, Mr. Thomas Charles\",male,16,0,0,S.O./P.P. 3,10.5,,S\n",
      "\n",
      "843,1,1,\"Serepeca, Miss. Augusta\",female,30,0,0,113798,31,,C\n",
      "\n",
      "844,0,3,\"Lemberopolous, Mr. Peter L\",male,34.5,0,0,2683,6.4375,,C\n",
      "\n",
      "845,0,3,\"Culumovic, Mr. Jeso\",male,17,0,0,315090,8.6625,,S\n",
      "\n",
      "846,0,3,\"Abbing, Mr. Anthony\",male,42,0,0,C.A. 5547,7.55,,S\n",
      "\n",
      "847,0,3,\"Sage, Mr. Douglas Bullen\",male,,8,2,CA. 2343,69.55,,S\n",
      "\n",
      "848,0,3,\"Markoff, Mr. Marin\",male,35,0,0,349213,7.8958,,C\n",
      "\n",
      "849,0,2,\"Harper, Rev. John\",male,28,0,1,248727,33,,S\n",
      "\n",
      "850,1,1,\"Goldenberg, Mrs. Samuel L (Edwiga Grabowska)\",female,,1,0,17453,89.1042,C92,C\n",
      "\n",
      "851,0,3,\"Andersson, Master. Sigvard Harald Elias\",male,4,4,2,347082,31.275,,S\n",
      "\n",
      "852,0,3,\"Svensson, Mr. Johan\",male,74,0,0,347060,7.775,,S\n",
      "\n",
      "853,0,3,\"Boulos, Miss. Nourelain\",female,9,1,1,2678,15.2458,,C\n",
      "\n",
      "854,1,1,\"Lines, Miss. Mary Conover\",female,16,0,1,PC 17592,39.4,D28,S\n",
      "\n",
      "855,0,2,\"Carter, Mrs. Ernest Courtenay (Lilian Hughes)\",female,44,1,0,244252,26,,S\n",
      "\n",
      "856,1,3,\"Aks, Mrs. Sam (Leah Rosen)\",female,18,0,1,392091,9.35,,S\n",
      "\n",
      "857,1,1,\"Wick, Mrs. George Dennick (Mary Hitchcock)\",female,45,1,1,36928,164.8667,,S\n",
      "\n",
      "858,1,1,\"Daly, Mr. Peter Denis \",male,51,0,0,113055,26.55,E17,S\n",
      "\n",
      "859,1,3,\"Baclini, Mrs. Solomon (Latifa Qurban)\",female,24,0,3,2666,19.2583,,C\n",
      "\n",
      "860,0,3,\"Razi, Mr. Raihed\",male,,0,0,2629,7.2292,,C\n",
      "\n",
      "861,0,3,\"Hansen, Mr. Claus Peter\",male,41,2,0,350026,14.1083,,S\n",
      "\n",
      "862,0,2,\"Giles, Mr. Frederick Edward\",male,21,1,0,28134,11.5,,S\n",
      "\n",
      "863,1,1,\"Swift, Mrs. Frederick Joel (Margaret Welles Barron)\",female,48,0,0,17466,25.9292,D17,S\n",
      "\n",
      "864,0,3,\"Sage, Miss. Dorothy Edith \"\"Dolly\"\"\",female,,8,2,CA. 2343,69.55,,S\n",
      "\n",
      "865,0,2,\"Gill, Mr. John William\",male,24,0,0,233866,13,,S\n",
      "\n",
      "866,1,2,\"Bystrom, Mrs. (Karolina)\",female,42,0,0,236852,13,,S\n",
      "\n",
      "867,1,2,\"Duran y More, Miss. Asuncion\",female,27,1,0,SC/PARIS 2149,13.8583,,C\n",
      "\n",
      "868,0,1,\"Roebling, Mr. Washington Augustus II\",male,31,0,0,PC 17590,50.4958,A24,S\n",
      "\n",
      "869,0,3,\"van Melkebeke, Mr. Philemon\",male,,0,0,345777,9.5,,S\n",
      "\n",
      "870,1,3,\"Johnson, Master. Harold Theodor\",male,4,1,1,347742,11.1333,,S\n",
      "\n",
      "871,0,3,\"Balkic, Mr. Cerin\",male,26,0,0,349248,7.8958,,S\n",
      "\n",
      "872,1,1,\"Beckwith, Mrs. Richard Leonard (Sallie Monypeny)\",female,47,1,1,11751,52.5542,D35,S\n",
      "\n",
      "873,0,1,\"Carlsson, Mr. Frans Olof\",male,33,0,0,695,5,B51 B53 B55,S\n",
      "\n",
      "874,0,3,\"Vander Cruyssen, Mr. Victor\",male,47,0,0,345765,9,,S\n",
      "\n",
      "875,1,2,\"Abelson, Mrs. Samuel (Hannah Wizosky)\",female,28,1,0,P/PP 3381,24,,C\n",
      "\n",
      "876,1,3,\"Najib, Miss. Adele Kiamie \"\"Jane\"\"\",female,15,0,0,2667,7.225,,C\n",
      "\n",
      "877,0,3,\"Gustafsson, Mr. Alfred Ossian\",male,20,0,0,7534,9.8458,,S\n",
      "\n",
      "878,0,3,\"Petroff, Mr. Nedelio\",male,19,0,0,349212,7.8958,,S\n",
      "\n",
      "879,0,3,\"Laleff, Mr. Kristo\",male,,0,0,349217,7.8958,,S\n",
      "\n",
      "880,1,1,\"Potter, Mrs. Thomas Jr (Lily Alexenia Wilson)\",female,56,0,1,11767,83.1583,C50,C\n",
      "\n",
      "881,1,2,\"Shelley, Mrs. William (Imanita Parrish Hall)\",female,25,0,1,230433,26,,S\n",
      "\n",
      "882,0,3,\"Markun, Mr. Johann\",male,33,0,0,349257,7.8958,,S\n",
      "\n",
      "883,0,3,\"Dahlberg, Miss. Gerda Ulrika\",female,22,0,0,7552,10.5167,,S\n",
      "\n",
      "884,0,2,\"Banfield, Mr. Frederick James\",male,28,0,0,C.A./SOTON 34068,10.5,,S\n",
      "\n",
      "885,0,3,\"Sutehall, Mr. Henry Jr\",male,25,0,0,SOTON/OQ 392076,7.05,,S\n",
      "\n",
      "886,0,3,\"Rice, Mrs. William (Margaret Norton)\",female,39,0,5,382652,29.125,,Q\n",
      "\n",
      "887,0,2,\"Montvila, Rev. Juozas\",male,27,0,0,211536,13,,S\n",
      "\n",
      "888,1,1,\"Graham, Miss. Margaret Edith\",female,19,0,0,112053,30,B42,S\n",
      "\n",
      "889,0,3,\"Johnston, Miss. Catherine Helen \"\"Carrie\"\"\",female,,1,2,W./C. 6607,23.45,,S\n",
      "\n",
      "890,1,1,\"Behr, Mr. Karl Howell\",male,26,0,0,111369,30,C148,C\n",
      "\n",
      "891,0,3,\"Dooley, Mr. Patrick\",male,32,0,0,370376,7.75,,Q\n",
      "\n"
     ]
    }
   ],
   "source": [
    "#1.逐行读取\n",
    "with open('./train.csv') as f:\n",
    "    for line in f:\n",
    "        print(line.rstrip())"
   ]
  },
  {
   "cell_type": "code",
   "execution_count": null,
   "id": "dc92c5f8",
   "metadata": {
    "collapsed": true,
    "hidden": true,
    "jupyter": {
     "outputs_hidden": true
    }
   },
   "outputs": [
    {
     "name": "stdout",
     "output_type": "stream",
     "text": [
      "8,0,3,\"Palsson, Master. Gosta Leonard\",male,2,3,1,349909,21.075,,S\n",
      "\n",
      "['5,0,3,\"Allen, Mr. William Henry\",male,35,0,0,373450,8.05,,S\\n', '6,0,3,\"Moran, Mr. James\",male,,0,0,330877,8.4583,,Q\\n', '7,0,1,\"McCarthy, Mr. Timothy J\",male,54,0,0,17463,51.8625,E46,S\\n', '8,0,3,\"Palsson, Master. Gosta Leonard\",male,2,3,1,349909,21.075,,S\\n', '9,1,3,\"Johnson, Mrs. Oscar W (Elisabeth Vilhelmina Berg)\",female,27,0,2,347742,11.1333,,S\\n', '10,1,2,\"Nasser, Mrs. Nicholas (Adele Achem)\",female,14,1,0,237736,30.0708,,C\\n', '11,1,3,\"Sandstrom, Miss. Marguerite Rut\",female,4,1,1,PP 9549,16.7,G6,S\\n', '12,1,1,\"Bonnell, Miss. Elizabeth\",female,58,0,0,113783,26.55,C103,S\\n', '13,0,3,\"Saundercock, Mr. William Henry\",male,20,0,0,A/5. 2151,8.05,,S\\n', '14,0,3,\"Andersson, Mr. Anders Johan\",male,39,1,5,347082,31.275,,S\\n', '15,0,3,\"Vestrom, Miss. Hulda Amanda Adolfina\",female,14,0,0,350406,7.8542,,S\\n', '16,1,2,\"Hewlett, Mrs. (Mary D Kingcome) \",female,55,0,0,248706,16,,S\\n', '17,0,3,\"Rice, Master. Eugene\",male,2,4,1,382652,29.125,,Q\\n', '18,1,2,\"Williams, Mr. Charles Eugene\",male,,0,0,244373,13,,S\\n', '19,0,3,\"Vander Planke, Mrs. Julius (Emelia Maria Vandemoortele)\",female,31,1,0,345763,18,,S\\n']\n"
     ]
    }
   ],
   "source": [
    "#2.创建一个包含文件各行的列表readlines()\n",
    "with open('./train.csv') as f:\n",
    "    cont=f.readlines()   \n",
    "print(cont[8])\n",
    "print(cont[5:20])"
   ]
  },
  {
   "cell_type": "code",
   "execution_count": null,
   "id": "57284b74",
   "metadata": {
    "hidden": true
   },
   "outputs": [],
   "source": [
    "#读取文本时，python将文本以字符串的方式读出"
   ]
  },
  {
   "cell_type": "code",
   "execution_count": null,
   "id": "67c2cc47",
   "metadata": {
    "collapsed": true,
    "hidden": true,
    "jupyter": {
     "outputs_hidden": true
    }
   },
   "outputs": [
    {
     "name": "stdout",
     "output_type": "stream",
     "text": [
      "hello world\n"
     ]
    }
   ],
   "source": [
    "#3.写入文件\n",
    "with open('./test.txt','w') as f:\n",
    "    f.write('hello world')\n",
    "with open('./test.txt') as f:\n",
    "    cont=f.read()\n",
    "print(cont)"
   ]
  },
  {
   "cell_type": "code",
   "execution_count": null,
   "id": "7ece7e35",
   "metadata": {
    "collapsed": true,
    "hidden": true,
    "jupyter": {
     "outputs_hidden": true
    }
   },
   "outputs": [
    {
     "name": "stdout",
     "output_type": "stream",
     "text": [
      "hello world\n",
      "plus to me\n",
      "\n"
     ]
    }
   ],
   "source": [
    "#4.写入多行\n",
    "with open('./test.txt','w') as f:\n",
    "    f.write('hello world\\n')\n",
    "    f.write('plus to me\\n')\n",
    "with open('./test.txt') as f:\n",
    "    cont=f.read()\n",
    "print(cont)"
   ]
  },
  {
   "cell_type": "code",
   "execution_count": null,
   "id": "e85baf0d",
   "metadata": {
    "collapsed": true,
    "hidden": true,
    "jupyter": {
     "outputs_hidden": true
    }
   },
   "outputs": [
    {
     "name": "stdout",
     "output_type": "stream",
     "text": [
      "hello world\n",
      "plus to me\n",
      "please help me\n",
      "please help meplease help meplease help me\n",
      "please help me\n",
      "please help me\n",
      "\n"
     ]
    }
   ],
   "source": [
    "#5.以附加模式‘a’添加内容\n",
    "with open('./test.txt','a') as f:\n",
    "    f.write('please help me\\n')\n",
    "with open('./test.txt') as f:\n",
    "    cont=f.read()\n",
    "print(cont)"
   ]
  },
  {
   "attachments": {},
   "cell_type": "markdown",
   "id": "58108a23",
   "metadata": {
    "hidden": true
   },
   "source": [
    "### 异常"
   ]
  },
  {
   "cell_type": "code",
   "execution_count": null,
   "id": "d3189072",
   "metadata": {
    "collapsed": true,
    "hidden": true,
    "jupyter": {
     "outputs_hidden": true
    }
   },
   "outputs": [
    {
     "name": "stdout",
     "output_type": "stream",
     "text": [
      "not input zero\n"
     ]
    }
   ],
   "source": [
    "#1.使用try-except处理异常\n",
    "try:\n",
    "    print(5/0)\n",
    "except ZeroDivisionError:\n",
    "    print(\"not input zero\")"
   ]
  },
  {
   "cell_type": "code",
   "execution_count": null,
   "id": "11803e7b",
   "metadata": {
    "collapsed": true,
    "hidden": true,
    "jupyter": {
     "outputs_hidden": true
    }
   },
   "outputs": [
    {
     "name": "stdout",
     "output_type": "stream",
     "text": [
      "['hello', 'world', 'and', 'python']\n"
     ]
    }
   ],
   "source": [
    "#2.使用split分割字符串，以空格区分并生成一个列表\n",
    "a_string='hello world and python'\n",
    "b_string=a_string.split()\n",
    "print(b_string)"
   ]
  },
  {
   "cell_type": "code",
   "execution_count": null,
   "id": "d1716ae0",
   "metadata": {
    "hidden": true
   },
   "outputs": [],
   "source": [
    "#pass语句可以什么都不做"
   ]
  },
  {
   "attachments": {},
   "cell_type": "markdown",
   "id": "ad6fa622",
   "metadata": {
    "hidden": true
   },
   "source": [
    "### 存取数据"
   ]
  },
  {
   "cell_type": "code",
   "execution_count": null,
   "id": "0c0ac8c4",
   "metadata": {
    "hidden": true
   },
   "outputs": [],
   "source": [
    "#1.利用json.dump()存储json格式的数据\n",
    "import json\n",
    "a=[1,5,6,1,6,53,7]\n",
    "file_index='./test.josn'\n",
    "with open(file_index,'w') as f:\n",
    "    json.dump(a,f)"
   ]
  },
  {
   "cell_type": "code",
   "execution_count": null,
   "id": "bd04c46a",
   "metadata": {
    "hidden": true
   },
   "outputs": [
    {
     "name": "stdout",
     "output_type": "stream",
     "text": [
      "[1, 5, 6, 1, 6, 53, 7]\n"
     ]
    }
   ],
   "source": [
    "#2.利用json.load()读取数据\n",
    "with open(file_index) as f:\n",
    "    num=json.load(f)\n",
    "print(num)"
   ]
  },
  {
   "attachments": {},
   "cell_type": "markdown",
   "id": "84aa8345",
   "metadata": {
    "heading_collapsed": true
   },
   "source": [
    "# 函数编程"
   ]
  },
  {
   "attachments": {},
   "cell_type": "markdown",
   "id": "99b62177",
   "metadata": {
    "hidden": true
   },
   "source": [
    "## 函数对象和闭包"
   ]
  },
  {
   "cell_type": "code",
   "execution_count": null,
   "id": "3c96c2bb",
   "metadata": {
    "hidden": true
   },
   "outputs": [],
   "source": [
    "#将组成函数和该函数的环境放在一块是闭包\n",
    "def countdown(n):\n",
    "    def next():\n",
    "        nonlocal n\n",
    "        r=n\n",
    "        n-=1\n",
    "    return next"
   ]
  },
  {
   "cell_type": "code",
   "execution_count": null,
   "id": "5fbf1728",
   "metadata": {
    "hidden": true
   },
   "outputs": [
    {
     "name": "stdout",
     "output_type": "stream",
     "text": [
      "None\n"
     ]
    }
   ],
   "source": [
    "next1=countdown(10)\n",
    "# print(next)\n",
    "while True:\n",
    "    v=next()\n",
    "    print(v)\n",
    "    if not v:\n",
    "        break"
   ]
  },
  {
   "attachments": {},
   "cell_type": "markdown",
   "id": "3188830f",
   "metadata": {
    "heading_collapsed": true,
    "hidden": true
   },
   "source": [
    "## 装饰器"
   ]
  },
  {
   "cell_type": "code",
   "execution_count": null,
   "id": "71d08e71",
   "metadata": {
    "hidden": true
   },
   "outputs": [
    {
     "name": "stdout",
     "output_type": "stream",
     "text": [
      "hello\n",
      "world\n"
     ]
    }
   ],
   "source": [
    "\n",
    "def urges(func):\n",
    "    def wapper():\n",
    "        print('hello')\n",
    "        func()\n",
    "#         return func()\n",
    "    return wapper\n",
    "@urges\n",
    "def puts():\n",
    "    print('world')\n",
    "# puts=urges(puts)\n",
    "puts()"
   ]
  },
  {
   "cell_type": "code",
   "execution_count": null,
   "id": "a58e4e68",
   "metadata": {
    "collapsed": true,
    "hidden": true,
    "jupyter": {
     "outputs_hidden": true
    }
   },
   "outputs": [
    {
     "name": "stdout",
     "output_type": "stream",
     "text": [
      "hello\n"
     ]
    },
    {
     "ename": "TypeError",
     "evalue": "alas() missing 2 required positional arguments: 'a' and 'b'",
     "output_type": "error",
     "traceback": [
      "\u001b[1;31m---------------------------------------------------------------------------\u001b[0m",
      "\u001b[1;31mTypeError\u001b[0m                                 Traceback (most recent call last)",
      "Input \u001b[1;32mIn [25]\u001b[0m, in \u001b[0;36m<cell line: 10>\u001b[1;34m()\u001b[0m\n\u001b[0;32m      7\u001b[0m \u001b[38;5;129m@cooker\u001b[39m\n\u001b[0;32m      8\u001b[0m \u001b[38;5;28;01mdef\u001b[39;00m \u001b[38;5;21malas\u001b[39m(a,b):\n\u001b[0;32m      9\u001b[0m     \u001b[38;5;28;01mreturn\u001b[39;00m a\u001b[38;5;241m*\u001b[39mb\n\u001b[1;32m---> 10\u001b[0m \u001b[43malas\u001b[49m\u001b[43m(\u001b[49m\u001b[38;5;241;43m2\u001b[39;49m\u001b[43m,\u001b[49m\u001b[38;5;241;43m3\u001b[39;49m\u001b[43m)\u001b[49m\n",
      "Input \u001b[1;32mIn [25]\u001b[0m, in \u001b[0;36mcooker.<locals>.nius\u001b[1;34m(c, d)\u001b[0m\n\u001b[0;32m      3\u001b[0m \u001b[38;5;28;01mdef\u001b[39;00m \u001b[38;5;21mnius\u001b[39m(c,d):\n\u001b[1;32m----> 4\u001b[0m     a\u001b[38;5;241m=\u001b[39m\u001b[43mfunc\u001b[49m\u001b[43m(\u001b[49m\u001b[43m)\u001b[49m\n\u001b[0;32m      5\u001b[0m     \u001b[38;5;28mprint\u001b[39m(a)\n",
      "\u001b[1;31mTypeError\u001b[0m: alas() missing 2 required positional arguments: 'a' and 'b'"
     ]
    }
   ],
   "source": [
    "def cooker(func):\n",
    "    print(\"hello\")\n",
    "    def nius():\n",
    "        a=func()\n",
    "        print(a)\n",
    "    return nius\n",
    "@cooker\n",
    "def alas(a,b):\n",
    "    return a*b\n",
    "alas(2,3)"
   ]
  },
  {
   "attachments": {},
   "cell_type": "markdown",
   "id": "dc33e65d",
   "metadata": {
    "heading_collapsed": true
   },
   "source": [
    "# python常用操作"
   ]
  },
  {
   "attachments": {},
   "cell_type": "markdown",
   "id": "ebf25912",
   "metadata": {
    "hidden": true
   },
   "source": [
    "## python查看数据格式和类型"
   ]
  },
  {
   "cell_type": "code",
   "execution_count": null,
   "id": "a73dad15",
   "metadata": {
    "hidden": true
   },
   "outputs": [],
   "source": [
    "import numpy as np"
   ]
  },
  {
   "cell_type": "code",
   "execution_count": null,
   "id": "8ca37dd6",
   "metadata": {
    "hidden": true
   },
   "outputs": [
    {
     "name": "stdout",
     "output_type": "stream",
     "text": [
      "查看a的数据结构 <class 'numpy.ndarray'>\n",
      "查看a的数据类型 float64\n"
     ]
    }
   ],
   "source": [
    "a=np.arange(1,10,0.5)\n",
    "print(\"查看a的数据结构\",type(a))\n",
    "print(\"查看a的数据类型\",a.dtype)"
   ]
  },
  {
   "attachments": {},
   "cell_type": "markdown",
   "id": "88079bb3",
   "metadata": {},
   "source": [
    "# python中的os模块"
   ]
  },
  {
   "cell_type": "code",
   "execution_count": null,
   "id": "399afc4f",
   "metadata": {},
   "outputs": [],
   "source": [
    "import os"
   ]
  },
  {
   "cell_type": "code",
   "execution_count": null,
   "id": "213e6db3",
   "metadata": {
    "collapsed": true,
    "jupyter": {
     "outputs_hidden": true
    },
    "tags": []
   },
   "outputs": [
    {
     "name": "stdout",
     "output_type": "stream",
     "text": [
      "['DirEntry', 'F_OK', 'GenericAlias', 'Mapping', 'MutableMapping', 'O_APPEND', 'O_BINARY', 'O_CREAT', 'O_EXCL', 'O_NOINHERIT', 'O_RANDOM', 'O_RDONLY', 'O_RDWR', 'O_SEQUENTIAL', 'O_SHORT_LIVED', 'O_TEMPORARY', 'O_TEXT', 'O_TRUNC', 'O_WRONLY', 'P_DETACH', 'P_NOWAIT', 'P_NOWAITO', 'P_OVERLAY', 'P_WAIT', 'PathLike', 'R_OK', 'SEEK_CUR', 'SEEK_END', 'SEEK_SET', 'TMP_MAX', 'W_OK', 'X_OK', '_AddedDllDirectory', '_Environ', '__all__', '__builtins__', '__cached__', '__doc__', '__file__', '__loader__', '__name__', '__package__', '__spec__', '_check_methods', '_execvpe', '_exists', '_exit', '_fspath', '_get_exports_list', '_walk', '_wrap_close', 'abc', 'abort', 'access', 'add_dll_directory', 'altsep', 'chdir', 'chmod', 'close', 'closerange', 'cpu_count', 'curdir', 'defpath', 'device_encoding', 'devnull', 'dup', 'dup2', 'environ', 'error', 'execl', 'execle', 'execlp', 'execlpe', 'execv', 'execve', 'execvp', 'execvpe', 'extsep', 'fdopen', 'fsdecode', 'fsencode', 'fspath', 'fstat', 'fsync', 'ftruncate', 'get_exec_path', 'get_handle_inheritable', 'get_inheritable', 'get_terminal_size', 'getcwd', 'getcwdb', 'getenv', 'getlogin', 'getpid', 'getppid', 'isatty', 'kill', 'linesep', 'link', 'listdir', 'lseek', 'lstat', 'makedirs', 'mkdir', 'name', 'open', 'pardir', 'path', 'pathsep', 'pipe', 'popen', 'putenv', 'read', 'readlink', 'remove', 'removedirs', 'rename', 'renames', 'replace', 'rmdir', 'scandir', 'sep', 'set_handle_inheritable', 'set_inheritable', 'spawnl', 'spawnle', 'spawnv', 'spawnve', 'st', 'startfile', 'stat', 'stat_result', 'statvfs_result', 'strerror', 'supports_bytes_environ', 'supports_dir_fd', 'supports_effective_ids', 'supports_fd', 'supports_follow_symlinks', 'symlink', 'sys', 'system', 'terminal_size', 'times', 'times_result', 'truncate', 'umask', 'uname_result', 'unlink', 'unsetenv', 'urandom', 'utime', 'waitpid', 'waitstatus_to_exitcode', 'walk', 'write']\n",
      "['__all__', '__builtins__', '__cached__', '__doc__', '__file__', '__loader__', '__name__', '__package__', '__spec__', '_abspath_fallback', '_get_bothseps', '_getfinalpathname', '_getfinalpathname_nonstrict', '_getfullpathname', '_getvolumepathname', '_nt_readlink', '_readlink_deep', 'abspath', 'altsep', 'basename', 'commonpath', 'commonprefix', 'curdir', 'defpath', 'devnull', 'dirname', 'exists', 'expanduser', 'expandvars', 'extsep', 'genericpath', 'getatime', 'getctime', 'getmtime', 'getsize', 'isabs', 'isdir', 'isfile', 'islink', 'ismount', 'join', 'lexists', 'normcase', 'normpath', 'os', 'pardir', 'pathsep', 'realpath', 'relpath', 'samefile', 'sameopenfile', 'samestat', 'sep', 'split', 'splitdrive', 'splitext', 'stat', 'supports_unicode_filenames', 'sys']\n"
     ]
    }
   ],
   "source": [
    "#1.打印模块中的函数\n",
    "print(dir(os))\n",
    "print(dir(os.path))"
   ]
  },
  {
   "attachments": {},
   "cell_type": "markdown",
   "id": "b80e27f7",
   "metadata": {},
   "source": [
    "## 系统操作"
   ]
  },
  {
   "cell_type": "code",
   "execution_count": null,
   "id": "2ad73a52",
   "metadata": {},
   "outputs": [
    {
     "name": "stdout",
     "output_type": "stream",
     "text": [
      "\\\n"
     ]
    }
   ],
   "source": [
    "#os.sep()：路径分隔\n",
    "print(os.sep)"
   ]
  },
  {
   "cell_type": "code",
   "execution_count": null,
   "id": "d8fdcd6d",
   "metadata": {},
   "outputs": [
    {
     "name": "stdout",
     "output_type": "stream",
     "text": [
      "nt\n"
     ]
    }
   ],
   "source": [
    "#os.name:指示你的工作平台\n",
    "print(os.name)"
   ]
  },
  {
   "cell_type": "code",
   "execution_count": null,
   "id": "ca0ee2c3",
   "metadata": {
    "collapsed": true,
    "jupyter": {
     "outputs_hidden": true
    }
   },
   "outputs": [
    {
     "name": "stdout",
     "output_type": "stream",
     "text": [
      "D:\\IDE_sources\\Ancona;D:\\IDE_sources\\Ancona\\Library\\mingw-w64\\bin;D:\\IDE_sources\\Ancona\\Library\\usr\\bin;D:\\IDE_sources\\Ancona\\Library\\bin;D:\\IDE_sources\\Ancona\\Scripts;D:\\big_software\\VMware\\bin\\;C:\\Windows\\system32;C:\\Windows;C:\\Windows\\System32\\Wbem;C:\\Windows\\System32\\WindowsPowerShell\\v1.0\\;C:\\Windows\\System32\\OpenSSH\\;C:\\Program Files (x86)\\NVIDIA Corporation\\PhysX\\Common;C:\\Program Files\\NVIDIA Corporation\\NVIDIA NvDLISR;C:\\Windows\\system32;C:\\Windows;C:\\Windows\\System32\\Wbem;C:\\Windows\\System32\\WindowsPowerShell\\v1.0\\;C:\\Windows\\System32\\OpenSSH\\;D:\\IDE_sources\\QT4\\Tools\\mingw730_32\\bin;D:\\IDE_sources\\python_ide\\python\\;D:\\IDE_sources\\python_ide\\Scripts\\;D:\\software\\software_a\\git\\Git\\cmd;D:\\software\\xshell\\;D:\\software\\xflt\\;D:\\IDE_sources\\node_js\\;D:\\IDE_sources\\Ancona;D:\\IDE_sources\\Ancona\\Library\\mingw-w64\\bin;D:\\IDE_sources\\Ancona\\Library\\usr\\bin;D:\\IDE_sources\\Ancona\\Library\\bin;D:\\IDE_sources\\Ancona\\Scripts;C:\\Users\\17677\\AppData\\Local\\Microsoft\\WindowsApps;C:\\Users\\17677\\AppData\\Local\\Programs\\Microsoft VS Code\\bin;C:\\Users\\17677\\AppData\\Roaming\\npm\n"
     ]
    }
   ],
   "source": [
    "#os.getenv:读取环境变量\n",
    "print(os.getenv('path'))"
   ]
  },
  {
   "cell_type": "code",
   "execution_count": null,
   "id": "dd00e5ce",
   "metadata": {},
   "outputs": [
    {
     "name": "stdout",
     "output_type": "stream",
     "text": [
      "D:\\code\\jupyter_code\n"
     ]
    }
   ],
   "source": [
    "#获取当前路径\n",
    "print(os.getcwd())"
   ]
  },
  {
   "attachments": {},
   "cell_type": "markdown",
   "id": "f847dbb1",
   "metadata": {},
   "source": [
    "## 目录和文件操作"
   ]
  },
  {
   "cell_type": "code",
   "execution_count": null,
   "id": "e780f974",
   "metadata": {
    "collapsed": true,
    "jupyter": {
     "outputs_hidden": true
    }
   },
   "outputs": [
    {
     "data": {
      "text/plain": [
       "['.DS_Store',\n",
       " '.ipynb_checkpoints',\n",
       " 'python basic data structure.ipynb',\n",
       " 'Python Code Structure.ipynb',\n",
       " 'Python Function and Error.ipynb',\n",
       " 'Quiz Code Structure.ipynb',\n",
       " 'Quiz function,数据结构.ipynb',\n",
       " 'Solution Code Structure.ipynb',\n",
       " 'Solution function,数据结构.ipynb',\n",
       " 'Solution Unit Converter.ipynb',\n",
       " 'Solution Why Function.ipynb',\n",
       " 'solution 基本语法 及 变量.ipynb',\n",
       " 'solution 字符串.ipynb',\n",
       " 'tu.zip',\n",
       " 'Unit Converter.ipynb',\n",
       " '例子.docx']"
      ]
     },
     "execution_count": 13,
     "metadata": {},
     "output_type": "execute_result"
    }
   ],
   "source": [
    "#返回指定目录下的所有文件和目录名\n",
    "os.listdir('./code 2/')"
   ]
  },
  {
   "cell_type": "code",
   "execution_count": null,
   "id": "58aff606",
   "metadata": {},
   "outputs": [],
   "source": [
    "#创建一个目录文件并删除这个空目录\n",
    "os.mkdir('./data1')"
   ]
  },
  {
   "cell_type": "code",
   "execution_count": null,
   "id": "cb4af386",
   "metadata": {},
   "outputs": [],
   "source": [
    "os.rmdir('./data1/')"
   ]
  },
  {
   "cell_type": "code",
   "execution_count": null,
   "id": "a2df5119",
   "metadata": {},
   "outputs": [],
   "source": [
    "#递归生成目录并删除多层空目录\n",
    "os.makedirs('./data1/data2/data3')"
   ]
  },
  {
   "cell_type": "code",
   "execution_count": null,
   "id": "920bde55",
   "metadata": {},
   "outputs": [],
   "source": [
    "os.removedirs('./data1/data2/data3/')"
   ]
  },
  {
   "cell_type": "code",
   "execution_count": null,
   "id": "d26ff78b",
   "metadata": {
    "collapsed": true,
    "jupyter": {
     "outputs_hidden": true
    }
   },
   "outputs": [
    {
     "name": "stdout",
     "output_type": "stream",
     "text": [
      "D:\\code\\jupyter_code\n",
      "D:\\code\\jupyter_code\n"
     ]
    }
   ],
   "source": [
    "#修改当前工作目录\n",
    "print(os.getcwd())\n",
    "os.chdir('D:\\code\\jupyter_code')\n",
    "print(os.getcwd())"
   ]
  },
  {
   "cell_type": "code",
   "execution_count": null,
   "id": "7075e5d0",
   "metadata": {
    "collapsed": true,
    "jupyter": {
     "outputs_hidden": true
    }
   },
   "outputs": [
    {
     "ename": "FileNotFoundError",
     "evalue": "[WinError 2] 系统找不到指定的文件。: './data' -> './data1'",
     "output_type": "error",
     "traceback": [
      "\u001b[1;31m---------------------------------------------------------------------------\u001b[0m",
      "\u001b[1;31mFileNotFoundError\u001b[0m                         Traceback (most recent call last)",
      "\u001b[1;32m~\\AppData\\Local\\Temp\\ipykernel_11224\\1353464238.py\u001b[0m in \u001b[0;36m<module>\u001b[1;34m\u001b[0m\n\u001b[0;32m      1\u001b[0m \u001b[1;31m#重命名目录或文件名\u001b[0m\u001b[1;33m\u001b[0m\u001b[1;33m\u001b[0m\u001b[0m\n\u001b[1;32m----> 2\u001b[1;33m \u001b[0mos\u001b[0m\u001b[1;33m.\u001b[0m\u001b[0mrename\u001b[0m\u001b[1;33m(\u001b[0m\u001b[1;34m'./data'\u001b[0m\u001b[1;33m,\u001b[0m\u001b[1;34m'./data1'\u001b[0m\u001b[1;33m)\u001b[0m\u001b[1;33m\u001b[0m\u001b[1;33m\u001b[0m\u001b[0m\n\u001b[0m",
      "\u001b[1;31mFileNotFoundError\u001b[0m: [WinError 2] 系统找不到指定的文件。: './data' -> './data1'"
     ]
    }
   ],
   "source": [
    "#重命名目录或文件名\n",
    "os.rename('./data','./data1')"
   ]
  },
  {
   "cell_type": "code",
   "execution_count": null,
   "id": "3d0e969f",
   "metadata": {},
   "outputs": [],
   "source": [
    "#打开文件,返回文件描述符\n",
    "f=os.open('./python练习题.ipynb',os.O_RDONLY)"
   ]
  },
  {
   "cell_type": "code",
   "execution_count": null,
   "id": "c72e6a8b",
   "metadata": {},
   "outputs": [
    {
     "data": {
      "text/plain": [
       "b'{\\n \"cells\"'"
      ]
     },
     "execution_count": 9,
     "metadata": {},
     "output_type": "execute_result"
    }
   ],
   "source": [
    "#读文件文件描述符和读取字符数\n",
    "os.read(f,10)"
   ]
  },
  {
   "cell_type": "code",
   "execution_count": null,
   "id": "a498b35e",
   "metadata": {},
   "outputs": [
    {
     "ename": "TypeError",
     "evalue": "a bytes-like object is required, not 'str'",
     "output_type": "error",
     "traceback": [
      "\u001b[1;31m---------------------------------------------------------------------------\u001b[0m",
      "\u001b[1;31mTypeError\u001b[0m                                 Traceback (most recent call last)",
      "\u001b[1;32m~\\AppData\\Local\\Temp\\ipykernel_11224\\154888413.py\u001b[0m in \u001b[0;36m<module>\u001b[1;34m\u001b[0m\n\u001b[0;32m      2\u001b[0m \u001b[0mf\u001b[0m\u001b[1;33m=\u001b[0m\u001b[0mos\u001b[0m\u001b[1;33m.\u001b[0m\u001b[0mopen\u001b[0m\u001b[1;33m(\u001b[0m\u001b[1;34m'./code 2/例子.docx'\u001b[0m\u001b[1;33m,\u001b[0m\u001b[0mos\u001b[0m\u001b[1;33m.\u001b[0m\u001b[0mO_WRONLY\u001b[0m\u001b[1;33m)\u001b[0m\u001b[1;33m\u001b[0m\u001b[1;33m\u001b[0m\u001b[0m\n\u001b[0;32m      3\u001b[0m \u001b[0mli\u001b[0m\u001b[1;33m=\u001b[0m\u001b[1;34m\"hello world\"\u001b[0m\u001b[1;33m\u001b[0m\u001b[1;33m\u001b[0m\u001b[0m\n\u001b[1;32m----> 4\u001b[1;33m \u001b[0mos\u001b[0m\u001b[1;33m.\u001b[0m\u001b[0mwrite\u001b[0m\u001b[1;33m(\u001b[0m\u001b[0mf\u001b[0m\u001b[1;33m,\u001b[0m\u001b[0mli\u001b[0m\u001b[1;33m)\u001b[0m\u001b[1;33m\u001b[0m\u001b[1;33m\u001b[0m\u001b[0m\n\u001b[0m",
      "\u001b[1;31mTypeError\u001b[0m: a bytes-like object is required, not 'str'"
     ]
    }
   ],
   "source": [
    "#写文件文件描述符和写入内容\n",
    "f=os.open('./code 2/例子.docx',os.O_WRONLY)\n",
    "li=\"hello world\"\n",
    "os.write(f,li)"
   ]
  },
  {
   "attachments": {},
   "cell_type": "markdown",
   "id": "d342eb9a",
   "metadata": {},
   "source": [
    "## path模块"
   ]
  },
  {
   "cell_type": "code",
   "execution_count": null,
   "id": "35f2bba2",
   "metadata": {
    "collapsed": true,
    "jupyter": {
     "outputs_hidden": true
    }
   },
   "outputs": [
    {
     "data": {
      "text/plain": [
       "True"
      ]
     },
     "execution_count": 27,
     "metadata": {},
     "output_type": "execute_result"
    }
   ],
   "source": [
    "#判断文件或者目录是否存在\n",
    "os.path.exists('./data1/')"
   ]
  },
  {
   "cell_type": "code",
   "execution_count": null,
   "id": "19c7adba",
   "metadata": {
    "collapsed": true,
    "jupyter": {
     "outputs_hidden": true
    }
   },
   "outputs": [
    {
     "data": {
      "text/plain": [
       "False"
      ]
     },
     "execution_count": 28,
     "metadata": {},
     "output_type": "execute_result"
    }
   ],
   "source": [
    "#判断是否为文件\n",
    "os.path.isfile('./data1/')"
   ]
  },
  {
   "cell_type": "code",
   "execution_count": null,
   "id": "d03a929e",
   "metadata": {
    "collapsed": true,
    "jupyter": {
     "outputs_hidden": true
    }
   },
   "outputs": [
    {
     "data": {
      "text/plain": [
       "True"
      ]
     },
     "execution_count": 29,
     "metadata": {},
     "output_type": "execute_result"
    }
   ],
   "source": [
    "#判断是否是目录\n",
    "os.path.isdir('./data1/')"
   ]
  },
  {
   "cell_type": "code",
   "execution_count": null,
   "id": "5fb35687",
   "metadata": {
    "collapsed": true,
    "jupyter": {
     "outputs_hidden": true
    }
   },
   "outputs": [
    {
     "data": {
      "text/plain": [
       "'house_tiny.csv'"
      ]
     },
     "execution_count": 31,
     "metadata": {},
     "output_type": "execute_result"
    }
   ],
   "source": [
    "#返回文件名\n",
    "os.path.basename('./data1/house_tiny.csv')"
   ]
  },
  {
   "cell_type": "code",
   "execution_count": null,
   "id": "7a7a38cd",
   "metadata": {},
   "outputs": [
    {
     "data": {
      "text/plain": [
       "'./data1'"
      ]
     },
     "execution_count": 32,
     "metadata": {},
     "output_type": "execute_result"
    }
   ],
   "source": [
    "#返回文件路径\n",
    "os.path.dirname('./data1/house_tiny.csv')"
   ]
  },
  {
   "cell_type": "code",
   "execution_count": null,
   "id": "eb41ebf3",
   "metadata": {
    "collapsed": true,
    "jupyter": {
     "outputs_hidden": true
    }
   },
   "outputs": [
    {
     "data": {
      "text/plain": [
       "4096"
      ]
     },
     "execution_count": 33,
     "metadata": {},
     "output_type": "execute_result"
    }
   ],
   "source": [
    "#获得文件大小\n",
    "os.path.getsize('.ipynb_checkpoints/')"
   ]
  },
  {
   "cell_type": "code",
   "execution_count": null,
   "id": "8cbeeaec",
   "metadata": {
    "collapsed": true,
    "jupyter": {
     "outputs_hidden": true
    }
   },
   "outputs": [
    {
     "data": {
      "text/plain": [
       "'D:\\\\code\\\\jupyter_code\\\\data1\\\\house_tiny.csv'"
      ]
     },
     "execution_count": 34,
     "metadata": {},
     "output_type": "execute_result"
    }
   ],
   "source": [
    "#获得绝对路径\n",
    "os.path.abspath('./data1/house_tiny.csv')"
   ]
  },
  {
   "cell_type": "code",
   "execution_count": null,
   "id": "6ae5f96f",
   "metadata": {},
   "outputs": [],
   "source": [
    "#连接目录和文件名或目录\n",
    "os.mkdir('./python')"
   ]
  },
  {
   "cell_type": "code",
   "execution_count": null,
   "id": "93097af3",
   "metadata": {
    "collapsed": true,
    "jupyter": {
     "outputs_hidden": true
    }
   },
   "outputs": [
    {
     "data": {
      "text/plain": [
       "'./python\\\\python练习题.ipynb'"
      ]
     },
     "execution_count": 5,
     "metadata": {},
     "output_type": "execute_result"
    }
   ],
   "source": [
    "os.path.join('./python','python练习题.ipynb')"
   ]
  },
  {
   "cell_type": "code",
   "execution_count": null,
   "id": "364c3607",
   "metadata": {
    "collapsed": true,
    "jupyter": {
     "outputs_hidden": true
    }
   },
   "outputs": [
    {
     "data": {
      "text/plain": [
       "['.ipynb_checkpoints',\n",
       " '1_BoW_text_classification.ipynb',\n",
       " 'assignment1',\n",
       " 'code 2',\n",
       " 'code 6',\n",
       " 'd2l-zh',\n",
       " 'data1',\n",
       " 'dataset',\n",
       " 'NLP_learning',\n",
       " 'numpy.ipynb',\n",
       " 'pandas.ipynb',\n",
       " 'python',\n",
       " 'python入门.ipynb',\n",
       " 'python练习题.ipynb',\n",
       " 'pytorch.ipynb',\n",
       " 'sin_x.gif',\n",
       " 'tacotron2-japanese',\n",
       " '机器学习',\n",
       " '机器学习训练',\n",
       " '深度学习',\n",
       " '绘图.ipynb']"
      ]
     },
     "execution_count": 8,
     "metadata": {},
     "output_type": "execute_result"
    }
   ],
   "source": [
    "os.listdir('./')"
   ]
  },
  {
   "attachments": {},
   "cell_type": "markdown",
   "id": "3cbe617c",
   "metadata": {},
   "source": [
    "# python中的json模块"
   ]
  },
  {
   "cell_type": "code",
   "execution_count": null,
   "id": "4bfed8db",
   "metadata": {},
   "outputs": [],
   "source": [
    "import json"
   ]
  },
  {
   "attachments": {},
   "cell_type": "markdown",
   "id": "c7e330f5",
   "metadata": {},
   "source": [
    "## 序列化操作"
   ]
  },
  {
   "cell_type": "code",
   "execution_count": null,
   "id": "38392203",
   "metadata": {},
   "outputs": [],
   "source": [
    "book_dict = {\n",
    "  \"store\": {\n",
    "    \"book\": [\n",
    "      { \"category\": \"reference\",\n",
    "        \"author\": \"Nigel Rees\",\n",
    "        \"title\": \"Sayings of the Century\",\n",
    "        \"price\": 8.95\n",
    "      },\n",
    "      { \"category\": \"fiction\",\n",
    "        \"author\": \"Evelyn Waugh\",\n",
    "        \"title\": \"Sword of Honour\",\n",
    "        \"price\": 12.99\n",
    "      },\n",
    "      { \"category\": \"fiction\",\n",
    "        \"author\": \"Herman Melville\",\n",
    "        \"title\": \"Moby Dick\",\n",
    "        \"isbn\": \"0-553-21311-3\",\n",
    "        \"price\": 8.99\n",
    "      },\n",
    "      { \"category\": \"fiction\",\n",
    "        \"author\": \"J. R. R. Tolkien\",\n",
    "        \"title\": \"The Lord of the Rings\",\n",
    "        \"isbn\": \"0-395-19395-8\",\n",
    "        \"price\": 22.99\n",
    "      }\n",
    "    ],\n",
    "    \"bicycle\": {\n",
    "      \"color\": \"red\",\n",
    "      \"price\": 19.95\n",
    "    }\n",
    "  }\n",
    "}"
   ]
  },
  {
   "cell_type": "code",
   "execution_count": null,
   "id": "612cdcfc",
   "metadata": {
    "collapsed": true,
    "jupyter": {
     "outputs_hidden": true
    }
   },
   "outputs": [
    {
     "data": {
      "text/plain": [
       "'{\"store\": {\"book\": [{\"category\": \"reference\", \"author\": \"Nigel Rees\", \"title\": \"Sayings of the Century\", \"price\": 8.95}, {\"category\": \"fiction\", \"author\": \"Evelyn Waugh\", \"title\": \"Sword of Honour\", \"price\": 12.99}, {\"category\": \"fiction\", \"author\": \"Herman Melville\", \"title\": \"Moby Dick\", \"isbn\": \"0-553-21311-3\", \"price\": 8.99}, {\"category\": \"fiction\", \"author\": \"J. R. R. Tolkien\", \"title\": \"The Lord of the Rings\", \"isbn\": \"0-395-19395-8\", \"price\": 22.99}], \"bicycle\": {\"color\": \"red\", \"price\": 19.95}}}'"
      ]
     },
     "execution_count": 3,
     "metadata": {},
     "output_type": "execute_result"
    }
   ],
   "source": [
    "#将python中其他的数据类型（obj）转化为字符串类型\n",
    "json.dumps(book_dict)"
   ]
  },
  {
   "cell_type": "code",
   "execution_count": null,
   "id": "e0384640",
   "metadata": {
    "collapsed": true,
    "jupyter": {
     "outputs_hidden": true
    }
   },
   "outputs": [
    {
     "name": "stdout",
     "output_type": "stream",
     "text": [
      "<class 'str'>\n"
     ]
    }
   ],
   "source": [
    "print(type(json.dumps(book_dict)))"
   ]
  },
  {
   "cell_type": "code",
   "execution_count": null,
   "id": "89430578",
   "metadata": {},
   "outputs": [],
   "source": [
    "#json.dump（）方法需要写入到文件中其他和json.dumps()一样\n",
    "with open('./info.txt','w') as f:\n",
    "    json.dump(book_dict,f)"
   ]
  },
  {
   "attachments": {},
   "cell_type": "markdown",
   "id": "6e98dc0f",
   "metadata": {},
   "source": [
    "## 反序列化操作"
   ]
  },
  {
   "cell_type": "code",
   "execution_count": null,
   "id": "3ab703a5",
   "metadata": {
    "collapsed": true,
    "jupyter": {
     "outputs_hidden": true
    }
   },
   "outputs": [
    {
     "data": {
      "text/plain": [
       "{'store': {'book': [{'category': 'reference',\n",
       "    'author': 'Nigel Rees',\n",
       "    'title': 'Sayings of the Century',\n",
       "    'price': 8.95},\n",
       "   {'category': 'fiction',\n",
       "    'author': 'Evelyn Waugh',\n",
       "    'title': 'Sword of Honour',\n",
       "    'price': 12.99},\n",
       "   {'category': 'fiction',\n",
       "    'author': 'Herman Melville',\n",
       "    'title': 'Moby Dick',\n",
       "    'isbn': '0-553-21311-3',\n",
       "    'price': 8.99},\n",
       "   {'category': 'fiction',\n",
       "    'author': 'J. R. R. Tolkien',\n",
       "    'title': 'The Lord of the Rings',\n",
       "    'isbn': '0-395-19395-8',\n",
       "    'price': 22.99}],\n",
       "  'bicycle': {'color': 'red', 'price': 19.95}}}"
      ]
     },
     "execution_count": 7,
     "metadata": {},
     "output_type": "execute_result"
    }
   ],
   "source": [
    "#该方法是将序列化的把字符串转换成数据类型,json.loads()\n",
    "data=json.dumps(book_dict)\n",
    "json.loads(data)"
   ]
  },
  {
   "cell_type": "code",
   "execution_count": null,
   "id": "5f49e7a1",
   "metadata": {
    "collapsed": true,
    "jupyter": {
     "outputs_hidden": true
    }
   },
   "outputs": [
    {
     "name": "stdout",
     "output_type": "stream",
     "text": [
      "<class 'dict'>\n",
      "store {'book': [{'category': 'reference', 'author': 'Nigel Rees', 'title': 'Sayings of the Century', 'price': 8.95}, {'category': 'fiction', 'author': 'Evelyn Waugh', 'title': 'Sword of Honour', 'price': 12.99}, {'category': 'fiction', 'author': 'Herman Melville', 'title': 'Moby Dick', 'isbn': '0-553-21311-3', 'price': 8.99}, {'category': 'fiction', 'author': 'J. R. R. Tolkien', 'title': 'The Lord of the Rings', 'isbn': '0-395-19395-8', 'price': 22.99}], 'bicycle': {'color': 'red', 'price': 19.95}}\n"
     ]
    }
   ],
   "source": [
    "with open('./info.txt','r') as f:\n",
    "    dic=json.load(f)\n",
    "    print(type(dic))\n",
    "    for v,m in dic.items():\n",
    "        print(v,m)"
   ]
  },
  {
   "attachments": {},
   "cell_type": "markdown",
   "id": "9c606a15",
   "metadata": {},
   "source": [
    "# python中的jsonpath模块"
   ]
  },
  {
   "cell_type": "code",
   "execution_count": null,
   "id": "b56b2dd7",
   "metadata": {},
   "outputs": [],
   "source": [
    "from jsonpath import jsonpath"
   ]
  },
  {
   "cell_type": "code",
   "execution_count": null,
   "id": "45c00a5e",
   "metadata": {
    "collapsed": true,
    "jupyter": {
     "outputs_hidden": true
    }
   },
   "outputs": [
    {
     "data": {
      "text/plain": [
       "['Sayings of the Century',\n",
       " 'Sword of Honour',\n",
       " 'Moby Dick',\n",
       " 'The Lord of the Rings']"
      ]
     },
     "execution_count": 32,
     "metadata": {},
     "output_type": "execute_result"
    }
   ],
   "source": [
    "#JsonPath 提供的 JSON解析功能非常强大，它提供了类似正则表达式的语法\n",
    "jsonpath(book_dict,\"$.store.book..title\")"
   ]
  },
  {
   "cell_type": "code",
   "execution_count": null,
   "id": "13b494dc",
   "metadata": {
    "collapsed": true,
    "jupyter": {
     "outputs_hidden": true
    }
   },
   "outputs": [
    {
     "data": {
      "text/plain": [
       "[{'category': 'fiction',\n",
       "  'author': 'J. R. R. Tolkien',\n",
       "  'title': 'The Lord of the Rings',\n",
       "  'isbn': '0-395-19395-8',\n",
       "  'price': 22.99}]"
      ]
     },
     "execution_count": 46,
     "metadata": {},
     "output_type": "execute_result"
    }
   ],
   "source": [
    "jsonpath(book_dict,\"$..[(@.length-1])\")"
   ]
  },
  {
   "cell_type": "code",
   "execution_count": null,
   "id": "4735a9c3",
   "metadata": {},
   "outputs": [],
   "source": [
    "#案例\n",
    "import requests\n",
    "url='https://www.lagou.com/lbs/getAllCitySearchLabels.json'\n",
    "headers={\"User-Agent\" :\t\"Mozilla/5.0 (Windows NT 10.0; Win64; x64; rv:101.0) Gecko/20100101 Firefox/101.0\"}"
   ]
  },
  {
   "cell_type": "code",
   "execution_count": null,
   "id": "44c0ca73",
   "metadata": {},
   "outputs": [],
   "source": [
    "response=requests.get(url,headers=headers)\n",
    "relx=response.content.decode()"
   ]
  },
  {
   "cell_type": "code",
   "execution_count": null,
   "id": "76d9a956",
   "metadata": {
    "collapsed": true,
    "jupyter": {
     "outputs_hidden": true
    }
   },
   "outputs": [
    {
     "name": "stdout",
     "output_type": "stream",
     "text": [
      "{'state': 1, 'message': 'success', 'content': {'data': {'allCitySearchLabels': {'A': [{'id': 671, 'name': '安庆', 'parentId': 541, 'code': '131800000', 'isSelected': False}, {'id': 723, 'name': '安阳', 'parentId': 545, 'code': '171500000', 'isSelected': False}, {'id': 601, 'name': '鞍山', 'parentId': 535, 'code': '081600000', 'isSelected': False}, {'id': 105795, 'name': '澳门', 'parentId': 562, 'code': '330100000', 'isSelected': False}, {'id': 825, 'name': '安顺', 'parentId': 553, 'code': '240400000', 'isSelected': False}, {'id': 598, 'name': '阿拉善盟', 'parentId': 534, 'code': '070300000', 'isSelected': False}, {'id': 819, 'name': '阿坝藏族羌族自治州', 'parentId': 552, 'code': '230700000', 'isSelected': False}], 'B': [{'id': 5, 'name': '北京', 'parentId': 1, 'code': '010100000', 'isSelected': False}, {'id': 570, 'name': '保定', 'parentId': 532, 'code': '051100000', 'isSelected': False}, {'id': 588, 'name': '包头', 'parentId': 534, 'code': '071300000', 'isSelected': False}, {'id': 666, 'name': '蚌埠', 'parentId': 541, 'code': '131300000', 'isSelected': False}, {'id': 794, 'name': '百色', 'parentId': 549, 'code': '210500000', 'isSelected': False}, {'id': 789, 'name': '北海', 'parentId': 549, 'code': '211000000', 'isSelected': False}, {'id': 856, 'name': '宝鸡', 'parentId': 556, 'code': '271000000', 'isSelected': False}, {'id': 717, 'name': '滨州', 'parentId': 544, 'code': '161400000', 'isSelected': False}, {'id': 828, 'name': '毕节', 'parentId': 553, 'code': '240700000', 'isSelected': False}, {'id': 834, 'name': '保山', 'parentId': 554, 'code': '251400000', 'isSelected': False}, {'id': 817, 'name': '巴中', 'parentId': 552, 'code': '230500000', 'isSelected': False}, {'id': 867, 'name': '白银', 'parentId': 557, 'code': '281100000', 'isSelected': False}, {'id': 678, 'name': '亳州', 'parentId': 541, 'code': '130500000', 'isSelected': False}, {'id': 603, 'name': '本溪', 'parentId': 535, 'code': '081400000', 'isSelected': False}, {'id': 597, 'name': '巴彦淖尔', 'parentId': 534, 'code': '070400000', 'isSelected': False}], 'C': [{'id': 801, 'name': '成都', 'parentId': 552, 'code': '230100000', 'isSelected': False}, {'id': 749, 'name': '长沙', 'parentId': 547, 'code': '190100000', 'isSelected': False}, {'id': 8, 'name': '重庆', 'parentId': 4, 'code': '040100000', 'isSelected': False}, {'id': 613, 'name': '长春', 'parentId': 536, 'code': '090100000', 'isSelected': False}, {'id': 638, 'name': '常州', 'parentId': 539, 'code': '112000000', 'isSelected': False}, {'id': 573, 'name': '沧州', 'parentId': 532, 'code': '050800000', 'isSelected': False}, {'id': 758, 'name': '郴州', 'parentId': 547, 'code': '190500000', 'isSelected': False}, {'id': 108405, 'name': '澄迈', 'parentId': 550, 'code': '223400000', 'isSelected': False}, {'id': 755, 'name': '常德', 'parentId': 547, 'code': '190800000', 'isSelected': False}, {'id': 572, 'name': '承德', 'parentId': 532, 'code': '050900000', 'isSelected': False}, {'id': 673, 'name': '滁州', 'parentId': 541, 'code': '131100000', 'isSelected': False}, {'id': 781, 'name': '潮州', 'parentId': 548, 'code': '200500000', 'isSelected': False}, {'id': 590, 'name': '赤峰', 'parentId': 534, 'code': '071100000', 'isSelected': False}, {'id': 679, 'name': '池州', 'parentId': 541, 'code': '130600000', 'isSelected': False}, {'id': 894, 'name': '昌吉', 'parentId': 560, 'code': '311500000', 'isSelected': False}, {'id': 905, 'name': '崇左', 'parentId': 549, 'code': '211400000', 'isSelected': False}, {'id': 848, 'name': '昌都', 'parentId': 555, 'code': '260200000', 'isSelected': False}, {'id': 836, 'name': '楚雄', 'parentId': 554, 'code': '251200000', 'isSelected': False}], 'D': [{'id': 779, 'name': '东莞', 'parentId': 548, 'code': '200300000', 'isSelected': False}, {'id': 600, 'name': '大连', 'parentId': 535, 'code': '081700000', 'isSelected': False}, {'id': 715, 'name': '德州', 'parentId': 544, 'code': '161600000', 'isSelected': False}, {'id': 805, 'name': '德阳', 'parentId': 552, 'code': '231700000', 'isSelected': False}, {'id': 841, 'name': '大理', 'parentId': 554, 'code': '250700000', 'isSelected': False}, {'id': 815, 'name': '达州', 'parentId': 552, 'code': '230300000', 'isSelected': False}, {'id': 706, 'name': '东营', 'parentId': 544, 'code': '162000000', 'isSelected': False}, {'id': 627, 'name': '大庆', 'parentId': 537, 'code': '101300000', 'isSelected': False}, {'id': 577, 'name': '大同', 'parentId': 533, 'code': '061200000', 'isSelected': False}, {'id': 604, 'name': '丹东', 'parentId': 535, 'code': '081300000', 'isSelected': False}, {'id': 842, 'name': '德宏', 'parentId': 554, 'code': '250600000', 'isSelected': False}, {'id': 634, 'name': '大兴安岭', 'parentId': 537, 'code': '100600000', 'isSelected': False}], 'E': [{'id': 592, 'name': '鄂尔多斯', 'parentId': 534, 'code': '070900000', 'isSelected': False}, {'id': 741, 'name': '鄂州', 'parentId': 546, 'code': '181600000', 'isSelected': False}], 'F': [{'id': 768, 'name': '佛山', 'parentId': 548, 'code': '202000000', 'isSelected': False}, {'id': 681, 'name': '福州', 'parentId': 542, 'code': '140100000', 'isSelected': False}, {'id': 674, 'name': '阜阳', 'parentId': 541, 'code': '131000000', 'isSelected': False}, {'id': 602, 'name': '抚顺', 'parentId': 535, 'code': '081500000', 'isSelected': False}, {'id': 607, 'name': '阜新', 'parentId': 535, 'code': '081000000', 'isSelected': False}, {'id': 700, 'name': '抚州', 'parentId': 543, 'code': '150200000', 'isSelected': False}], 'G': [{'id': 763, 'name': '广州', 'parentId': 548, 'code': '200100000', 'isSelected': False}, {'id': 822, 'name': '贵阳', 'parentId': 553, 'code': '240100000', 'isSelected': False}, {'id': 697, 'name': '赣州', 'parentId': 543, 'code': '150500000', 'isSelected': False}, {'id': 787, 'name': '桂林', 'parentId': 549, 'code': '211200000', 'isSelected': False}, {'id': 792, 'name': '贵港', 'parentId': 549, 'code': '210700000', 'isSelected': False}, {'id': 820, 'name': '甘孜藏族自治州', 'parentId': 552, 'code': '230800000', 'isSelected': False}, {'id': 814, 'name': '广安', 'parentId': 552, 'code': '230200000', 'isSelected': False}, {'id': 877, 'name': '甘南', 'parentId': 557, 'code': '281400000', 'isSelected': False}, {'id': 807, 'name': '广元', 'parentId': 552, 'code': '231900000', 'isSelected': False}], 'H': [{'id': 653, 'name': '杭州', 'parentId': 540, 'code': '120100000', 'isSelected': False}, {'id': 664, 'name': '合肥', 'parentId': 541, 'code': '130100000', 'isSelected': False}, {'id': 773, 'name': '惠州', 'parentId': 548, 'code': '202500000', 'isSelected': False}, {'id': 622, 'name': '哈尔滨', 'parentId': 537, 'code': '100100000', 'isSelected': False}, {'id': 657, 'name': '湖州', 'parentId': 540, 'code': '122200000', 'isSelected': False}, {'id': 799, 'name': '海口', 'parentId': 550, 'code': '220100000', 'isSelected': False}, {'id': 587, 'name': '呼和浩特', 'parentId': 534, 'code': '070100000', 'isSelected': False}, {'id': 568, 'name': '邯郸', 'parentId': 532, 'code': '051300000', 'isSelected': False}, {'id': 643, 'name': '淮安', 'parentId': 539, 'code': '112500000', 'isSelected': False}, {'id': 718, 'name': '菏泽', 'parentId': 544, 'code': '160200000', 'isSelected': False}, {'id': 108353, 'name': '海外', 'parentId': 108352, 'code': '350100000', 'isSelected': False}, {'id': 752, 'name': '衡阳', 'parentId': 547, 'code': '191100000', 'isSelected': False}, {'id': 737, 'name': '黄石', 'parentId': 546, 'code': '181200000', 'isSelected': False}, {'id': 669, 'name': '淮北', 'parentId': 541, 'code': '131600000', 'isSelected': False}, {'id': 575, 'name': '衡水', 'parentId': 532, 'code': '050600000', 'isSelected': False}, {'id': 776, 'name': '河源', 'parentId': 548, 'code': '201400000', 'isSelected': False}, {'id': 745, 'name': '黄冈', 'parentId': 546, 'code': '181100000', 'isSelected': False}, {'id': 667, 'name': '淮南', 'parentId': 541, 'code': '131400000', 'isSelected': False}, {'id': 860, 'name': '汉中', 'parentId': 556, 'code': '270600000', 'isSelected': False}, {'id': 724, 'name': '鹤壁', 'parentId': 545, 'code': '171600000', 'isSelected': False}, {'id': 760, 'name': '怀化', 'parentId': 547, 'code': '190300000', 'isSelected': False}, {'id': 612, 'name': '葫芦岛', 'parentId': 535, 'code': '080500000', 'isSelected': False}, {'id': 837, 'name': '红河', 'parentId': 554, 'code': '251100000', 'isSelected': False}, {'id': 796, 'name': '河池', 'parentId': 549, 'code': '210300000', 'isSelected': False}, {'id': 672, 'name': '黄山', 'parentId': 541, 'code': '131900000', 'isSelected': False}, {'id': 593, 'name': '呼伦贝尔', 'parentId': 534, 'code': '070800000', 'isSelected': False}, {'id': 893, 'name': '哈密', 'parentId': 560, 'code': '311400000', 'isSelected': False}, {'id': 795, 'name': '贺州', 'parentId': 549, 'code': '210400000', 'isSelected': False}, {'id': 632, 'name': '黑河', 'parentId': 537, 'code': '100800000', 'isSelected': False}], 'J': [{'id': 702, 'name': '济南', 'parentId': 544, 'code': '160100000', 'isSelected': False}, {'id': 656, 'name': '嘉兴', 'parentId': 540, 'code': '122100000', 'isSelected': False}, {'id': 659, 'name': '金华', 'parentId': 540, 'code': '122400000', 'isSelected': False}, {'id': 769, 'name': '江门', 'parentId': 548, 'code': '202100000', 'isSelected': False}, {'id': 694, 'name': '九江', 'parentId': 543, 'code': '150800000', 'isSelected': False}, {'id': 782, 'name': '揭阳', 'parentId': 548, 'code': '200600000', 'isSelected': False}, {'id': 582, 'name': '晋中', 'parentId': 533, 'code': '060700000', 'isSelected': False}, {'id': 709, 'name': '济宁', 'parentId': 544, 'code': '162300000', 'isSelected': False}, {'id': 726, 'name': '焦作', 'parentId': 545, 'code': '171800000', 'isSelected': False}, {'id': 614, 'name': '吉林', 'parentId': 536, 'code': '091000000', 'isSelected': False}, {'id': 692, 'name': '景德镇', 'parentId': 543, 'code': '151000000', 'isSelected': False}, {'id': 742, 'name': '荆门', 'parentId': 546, 'code': '181700000', 'isSelected': False}, {'id': 744, 'name': '荆州', 'parentId': 546, 'code': '181900000', 'isSelected': False}, {'id': 698, 'name': '吉安', 'parentId': 543, 'code': '150400000', 'isSelected': False}, {'id': 580, 'name': '晋城', 'parentId': 533, 'code': '060900000', 'isSelected': False}, {'id': 629, 'name': '佳木斯', 'parentId': 537, 'code': '101100000', 'isSelected': False}, {'id': 605, 'name': '锦州', 'parentId': 535, 'code': '081200000', 'isSelected': False}, {'id': 872, 'name': '酒泉', 'parentId': 557, 'code': '280600000', 'isSelected': False}, {'id': 865, 'name': '嘉峪关', 'parentId': 557, 'code': '281300000', 'isSelected': False}], 'K': [{'id': 831, 'name': '昆明', 'parentId': 554, 'code': '250100000', 'isSelected': False}, {'id': 720, 'name': '开封', 'parentId': 545, 'code': '171200000', 'isSelected': False}, {'id': 891, 'name': '克拉玛依', 'parentId': 560, 'code': '311200000', 'isSelected': False}], 'L': [{'id': 574, 'name': '廊坊', 'parentId': 532, 'code': '050700000', 'isSelected': False}, {'id': 714, 'name': '临沂', 'parentId': 544, 'code': '162800000', 'isSelected': False}, {'id': 721, 'name': '洛阳', 'parentId': 545, 'code': '171300000', 'isSelected': False}, {'id': 864, 'name': '兰州', 'parentId': 557, 'code': '280100000', 'isSelected': False}, {'id': 716, 'name': '聊城', 'parentId': 544, 'code': '161500000', 'isSelected': False}, {'id': 642, 'name': '连云港', 'parentId': 539, 'code': '112400000', 'isSelected': False}, {'id': 810, 'name': '乐山', 'parentId': 552, 'code': '232200000', 'isSelected': False}, {'id': 585, 'name': '临汾', 'parentId': 533, 'code': '060400000', 'isSelected': False}, {'id': 786, 'name': '柳州', 'parentId': 549, 'code': '211300000', 'isSelected': False}, {'id': 663, 'name': '丽水', 'parentId': 540, 'code': '122800000', 'isSelected': False}, {'id': 804, 'name': '泸州', 'parentId': 552, 'code': '231600000', 'isSelected': False}, {'id': 847, 'name': '拉萨', 'parentId': 555, 'code': '260100000', 'isSelected': False}, {'id': 689, 'name': '龙岩', 'parentId': 542, 'code': '140400000', 'isSelected': False}, {'id': 677, 'name': '六安', 'parentId': 541, 'code': '130400000', 'isSelected': False}, {'id': 843, 'name': '丽江', 'parentId': 554, 'code': '250500000', 'isSelected': False}, {'id': 821, 'name': '凉山彝族自治州', 'parentId': 552, 'code': '230900000', 'isSelected': False}, {'id': 586, 'name': '吕梁', 'parentId': 533, 'code': '060300000', 'isSelected': False}, {'id': 846, 'name': '临沧', 'parentId': 554, 'code': '250200000', 'isSelected': False}, {'id': 729, 'name': '漯河', 'parentId': 545, 'code': '171000000', 'isSelected': False}, {'id': 823, 'name': '六盘水', 'parentId': 553, 'code': '240200000', 'isSelected': False}, {'id': 904, 'name': '来宾', 'parentId': 549, 'code': '210200000', 'isSelected': False}, {'id': 761, 'name': '娄底', 'parentId': 547, 'code': '190200000', 'isSelected': False}, {'id': 108424, 'name': '陵水黎族自治县', 'parentId': 550, 'code': '222700000', 'isSelected': False}, {'id': 608, 'name': '辽阳', 'parentId': 535, 'code': '080900000', 'isSelected': False}], 'M': [{'id': 806, 'name': '绵阳', 'parentId': 552, 'code': '231800000', 'isSelected': False}, {'id': 771, 'name': '茂名', 'parentId': 548, 'code': '202300000', 'isSelected': False}, {'id': 774, 'name': '梅州', 'parentId': 548, 'code': '202600000', 'isSelected': False}, {'id': 812, 'name': '眉山', 'parentId': 552, 'code': '231300000', 'isSelected': False}, {'id': 668, 'name': '马鞍山', 'parentId': 541, 'code': '131500000', 'isSelected': False}, {'id': 631, 'name': '牡丹江', 'parentId': 537, 'code': '100900000', 'isSelected': False}], 'N': [{'id': 635, 'name': '南京', 'parentId': 539, 'code': '110100000', 'isSelected': False}, {'id': 654, 'name': '宁波', 'parentId': 540, 'code': '121900000', 'isSelected': False}, {'id': 691, 'name': '南昌', 'parentId': 543, 'code': '150100000', 'isSelected': False}, {'id': 785, 'name': '南宁', 'parentId': 549, 'code': '210100000', 'isSelected': False}, {'id': 641, 'name': '南通', 'parentId': 539, 'code': '112300000', 'isSelected': False}, {'id': 690, 'name': '宁德', 'parentId': 542, 'code': '140300000', 'isSelected': False}, {'id': 731, 'name': '南阳', 'parentId': 545, 'code': '170300000', 'isSelected': False}, {'id': 811, 'name': '南充', 'parentId': 552, 'code': '232300000', 'isSelected': False}, {'id': 688, 'name': '南平', 'parentId': 542, 'code': '140500000', 'isSelected': False}, {'id': 809, 'name': '内江', 'parentId': 552, 'code': '232100000', 'isSelected': False}], 'P': [{'id': 683, 'name': '莆田', 'parentId': 542, 'code': '141000000', 'isSelected': False}, {'id': 722, 'name': '平顶山', 'parentId': 545, 'code': '171400000', 'isSelected': False}, {'id': 693, 'name': '萍乡', 'parentId': 543, 'code': '150900000', 'isSelected': False}, {'id': 727, 'name': '濮阳', 'parentId': 545, 'code': '171900000', 'isSelected': False}, {'id': 609, 'name': '盘锦', 'parentId': 535, 'code': '080800000', 'isSelected': False}, {'id': 10163, 'name': '普洱', 'parentId': 554, 'code': '251700000', 'isSelected': False}, {'id': 803, 'name': '攀枝花', 'parentId': 552, 'code': '231500000', 'isSelected': False}], 'Q': [{'id': 703, 'name': '青岛', 'parentId': 544, 'code': '161700000', 'isSelected': False}, {'id': 685, 'name': '泉州', 'parentId': 542, 'code': '140800000', 'isSelected': False}, {'id': 778, 'name': '清远', 'parentId': 548, 'code': '200200000', 'isSelected': False}, {'id': 567, 'name': '秦皇岛', 'parentId': 532, 'code': '051400000', 'isSelected': False}, {'id': 832, 'name': '曲靖', 'parentId': 554, 'code': '251600000', 'isSelected': False}, {'id': 660, 'name': '衢州', 'parentId': 540, 'code': '122500000', 'isSelected': False}, {'id': 873, 'name': '庆阳', 'parentId': 557, 'code': '280500000', 'isSelected': False}, {'id': 108419, 'name': '琼海', 'parentId': 550, 'code': '222200000', 'isSelected': False}, {'id': 830, 'name': '黔南', 'parentId': 553, 'code': '240900000', 'isSelected': False}, {'id': 827, 'name': '黔西南', 'parentId': 553, 'code': '240600000', 'isSelected': False}, {'id': 108402, 'name': '潜江', 'parentId': 546, 'code': '180400000', 'isSelected': False}, {'id': 623, 'name': '齐齐哈尔', 'parentId': 537, 'code': '101700000', 'isSelected': False}, {'id': 630, 'name': '七台河', 'parentId': 537, 'code': '101000000', 'isSelected': False}], 'R': [{'id': 712, 'name': '日照', 'parentId': 544, 'code': '162600000', 'isSelected': False}], 'S': [{'id': 6, 'name': '上海', 'parentId': 2, 'code': '020100000', 'isSelected': False}, {'id': 765, 'name': '深圳', 'parentId': 548, 'code': '201700000', 'isSelected': False}, {'id': 639, 'name': '苏州', 'parentId': 539, 'code': '112100000', 'isSelected': False}, {'id': 599, 'name': '沈阳', 'parentId': 535, 'code': '080100000', 'isSelected': False}, {'id': 565, 'name': '石家庄', 'parentId': 532, 'code': '050100000', 'isSelected': False}, {'id': 658, 'name': '绍兴', 'parentId': 540, 'code': '122300000', 'isSelected': False}, {'id': 767, 'name': '汕头', 'parentId': 548, 'code': '201900000', 'isSelected': False}, {'id': 800, 'name': '三亚', 'parentId': 550, 'code': '221800000', 'isSelected': False}, {'id': 648, 'name': '宿迁', 'parentId': 539, 'code': '113000000', 'isSelected': False}, {'id': 701, 'name': '上饶', 'parentId': 543, 'code': '151100000', 'isSelected': False}, {'id': 732, 'name': '商丘', 'parentId': 545, 'code': '170400000', 'isSelected': False}, {'id': 764, 'name': '韶关', 'parentId': 548, 'code': '201600000', 'isSelected': False}, {'id': 775, 'name': '汕尾', 'parentId': 548, 'code': '201500000', 'isSelected': False}, {'id': 738, 'name': '十堰', 'parentId': 546, 'code': '181300000', 'isSelected': False}, {'id': 675, 'name': '宿州', 'parentId': 541, 'code': '130200000', 'isSelected': False}, {'id': 753, 'name': '邵阳', 'parentId': 547, 'code': '191000000', 'isSelected': False}, {'id': 747, 'name': '随州', 'parentId': 546, 'code': '180200000', 'isSelected': False}, {'id': 730, 'name': '三门峡', 'parentId': 545, 'code': '170200000', 'isSelected': False}, {'id': 808, 'name': '遂宁', 'parentId': 552, 'code': '232000000', 'isSelected': False}, {'id': 863, 'name': '商洛', 'parentId': 556, 'code': '270300000', 'isSelected': False}, {'id': 684, 'name': '三明', 'parentId': 542, 'code': '140900000', 'isSelected': False}, {'id': 633, 'name': '绥化', 'parentId': 537, 'code': '100700000', 'isSelected': False}, {'id': 581, 'name': '朔州', 'parentId': 533, 'code': '060800000', 'isSelected': False}, {'id': 849, 'name': '山南', 'parentId': 555, 'code': '260300000', 'isSelected': False}, {'id': 907, 'name': '三沙', 'parentId': 550, 'code': '220200000', 'isSelected': False}, {'id': 619, 'name': '松原', 'parentId': 536, 'code': '090500000', 'isSelected': False}, {'id': 615, 'name': '四平', 'parentId': 536, 'code': '090900000', 'isSelected': False}], 'T': [{'id': 7, 'name': '天津', 'parentId': 3, 'code': '030100000', 'isSelected': False}, {'id': 576, 'name': '太原', 'parentId': 533, 'code': '060100000', 'isSelected': False}, {'id': 662, 'name': '台州', 'parentId': 540, 'code': '122700000', 'isSelected': False}, {'id': 566, 'name': '唐山', 'parentId': 532, 'code': '051500000', 'isSelected': False}, {'id': 647, 'name': '泰州', 'parentId': 539, 'code': '112900000', 'isSelected': False}, {'id': 710, 'name': '泰安', 'parentId': 544, 'code': '162400000', 'isSelected': False}, {'id': 617, 'name': '通化', 'parentId': 536, 'code': '090700000', 'isSelected': False}, {'id': 670, 'name': '铜陵', 'parentId': 541, 'code': '131700000', 'isSelected': False}, {'id': 868, 'name': '天水', 'parentId': 557, 'code': '281000000', 'isSelected': False}, {'id': 610, 'name': '铁岭', 'parentId': 535, 'code': '080700000', 'isSelected': False}, {'id': 591, 'name': '通辽', 'parentId': 534, 'code': '071000000', 'isSelected': False}, {'id': 826, 'name': '铜仁', 'parentId': 553, 'code': '240500000', 'isSelected': False}, {'id': 108355, 'name': '台湾', 'parentId': 563, 'code': '340100000', 'isSelected': False}, {'id': 855, 'name': '铜川', 'parentId': 556, 'code': '271100000', 'isSelected': False}, {'id': 107384, 'name': '天门', 'parentId': 546, 'code': '182100000', 'isSelected': False}], 'W': [{'id': 736, 'name': '武汉', 'parentId': 546, 'code': '180100000', 'isSelected': False}, {'id': 636, 'name': '无锡', 'parentId': 539, 'code': '111800000', 'isSelected': False}, {'id': 655, 'name': '温州', 'parentId': 540, 'code': '122000000', 'isSelected': False}, {'id': 665, 'name': '芜湖', 'parentId': 541, 'code': '131200000', 'isSelected': False}, {'id': 708, 'name': '潍坊', 'parentId': 544, 'code': '162200000', 'isSelected': False}, {'id': 711, 'name': '威海', 'parentId': 544, 'code': '162500000', 'isSelected': False}, {'id': 890, 'name': '乌鲁木齐', 'parentId': 560, 'code': '310100000', 'isSelected': False}, {'id': 858, 'name': '渭南', 'parentId': 556, 'code': '270800000', 'isSelected': False}, {'id': 108425, 'name': '文昌', 'parentId': 550, 'code': '222800000', 'isSelected': False}, {'id': 788, 'name': '梧州', 'parentId': 549, 'code': '211100000', 'isSelected': False}, {'id': 838, 'name': '文山', 'parentId': 554, 'code': '251000000', 'isSelected': False}, {'id': 596, 'name': '乌兰察布', 'parentId': 534, 'code': '070500000', 'isSelected': False}], 'X': [{'id': 854, 'name': '西安', 'parentId': 556, 'code': '270100000', 'isSelected': False}, {'id': 682, 'name': '厦门', 'parentId': 542, 'code': '141100000', 'isSelected': False}, {'id': 637, 'name': '徐州', 'parentId': 539, 'code': '111900000', 'isSelected': False}, {'id': 725, 'name': '新乡', 'parentId': 545, 'code': '171700000', 'isSelected': False}, {'id': 740, 'name': '襄阳', 'parentId': 546, 'code': '181500000', 'isSelected': False}, {'id': 857, 'name': '咸阳', 'parentId': 556, 'code': '270900000', 'isSelected': False}, {'id': 569, 'name': '邢台', 'parentId': 532, 'code': '051200000', 'isSelected': False}, {'id': 743, 'name': '孝感', 'parentId': 546, 'code': '181800000', 'isSelected': False}, {'id': 105794, 'name': '香港', 'parentId': 561, 'code': '320100000', 'isSelected': False}, {'id': 878, 'name': '西宁', 'parentId': 558, 'code': '290100000', 'isSelected': False}, {'id': 728, 'name': '许昌', 'parentId': 545, 'code': '171100000', 'isSelected': False}, {'id': 733, 'name': '信阳', 'parentId': 545, 'code': '170500000', 'isSelected': False}, {'id': 108403, 'name': '仙桃', 'parentId': 546, 'code': '180500000', 'isSelected': False}, {'id': 746, 'name': '咸宁', 'parentId': 546, 'code': '181000000', 'isSelected': False}, {'id': 695, 'name': '新余', 'parentId': 543, 'code': '150700000', 'isSelected': False}, {'id': 751, 'name': '湘潭', 'parentId': 547, 'code': '191200000', 'isSelected': False}, {'id': 594, 'name': '兴安盟', 'parentId': 534, 'code': '070700000', 'isSelected': False}, {'id': 840, 'name': '西双版纳', 'parentId': 554, 'code': '250800000', 'isSelected': False}, {'id': 762, 'name': '湘西土家族苗族自治州', 'parentId': 547, 'code': '191400000', 'isSelected': False}, {'id': 680, 'name': '宣城', 'parentId': 541, 'code': '130700000', 'isSelected': False}, {'id': 595, 'name': '锡林郭勒盟', 'parentId': 534, 'code': '070600000', 'isSelected': False}], 'Y': [{'id': 707, 'name': '烟台', 'parentId': 544, 'code': '162100000', 'isSelected': False}, {'id': 645, 'name': '扬州', 'parentId': 539, 'code': '112700000', 'isSelected': False}, {'id': 886, 'name': '银川', 'parentId': 559, 'code': '300100000', 'isSelected': False}, {'id': 644, 'name': '盐城', 'parentId': 539, 'code': '112600000', 'isSelected': False}, {'id': 813, 'name': '宜宾', 'parentId': 552, 'code': '231200000', 'isSelected': False}, {'id': 739, 'name': '宜昌', 'parentId': 546, 'code': '181400000', 'isSelected': False}, {'id': 754, 'name': '岳阳', 'parentId': 547, 'code': '190900000', 'isSelected': False}, {'id': 699, 'name': '宜春', 'parentId': 543, 'code': '150300000', 'isSelected': False}, {'id': 583, 'name': '运城', 'parentId': 533, 'code': '060600000', 'isSelected': False}, {'id': 777, 'name': '阳江', 'parentId': 548, 'code': '201300000', 'isSelected': False}, {'id': 861, 'name': '榆林', 'parentId': 556, 'code': '270500000', 'isSelected': False}, {'id': 793, 'name': '玉林', 'parentId': 549, 'code': '210600000', 'isSelected': False}, {'id': 757, 'name': '益阳', 'parentId': 547, 'code': '190600000', 'isSelected': False}, {'id': 606, 'name': '营口', 'parentId': 535, 'code': '081100000', 'isSelected': False}, {'id': 833, 'name': '玉溪', 'parentId': 554, 'code': '251500000', 'isSelected': False}, {'id': 816, 'name': '雅安', 'parentId': 552, 'code': '230400000', 'isSelected': False}, {'id': 759, 'name': '永州', 'parentId': 547, 'code': '190400000', 'isSelected': False}, {'id': 621, 'name': '延边', 'parentId': 536, 'code': '090300000', 'isSelected': False}, {'id': 884, 'name': '玉树', 'parentId': 558, 'code': '290700000', 'isSelected': False}, {'id': 578, 'name': '阳泉', 'parentId': 533, 'code': '061100000', 'isSelected': False}, {'id': 859, 'name': '延安', 'parentId': 556, 'code': '270700000', 'isSelected': False}, {'id': 696, 'name': '鹰潭', 'parentId': 543, 'code': '150600000', 'isSelected': False}, {'id': 628, 'name': '伊春', 'parentId': 537, 'code': '101200000', 'isSelected': False}], 'Z': [{'id': 719, 'name': '郑州', 'parentId': 545, 'code': '170100000', 'isSelected': False}, {'id': 766, 'name': '珠海', 'parentId': 548, 'code': '201800000', 'isSelected': False}, {'id': 780, 'name': '中山', 'parentId': 548, 'code': '200400000', 'isSelected': False}, {'id': 704, 'name': '淄博', 'parentId': 544, 'code': '161800000', 'isSelected': False}, {'id': 687, 'name': '漳州', 'parentId': 542, 'code': '140600000', 'isSelected': False}, {'id': 646, 'name': '镇江', 'parentId': 539, 'code': '112800000', 'isSelected': False}, {'id': 772, 'name': '肇庆', 'parentId': 548, 'code': '202400000', 'isSelected': False}, {'id': 770, 'name': '湛江', 'parentId': 548, 'code': '202200000', 'isSelected': False}, {'id': 824, 'name': '遵义', 'parentId': 553, 'code': '240300000', 'isSelected': False}, {'id': 735, 'name': '驻马店', 'parentId': 545, 'code': '170700000', 'isSelected': False}, {'id': 750, 'name': '株洲', 'parentId': 547, 'code': '191300000', 'isSelected': False}, {'id': 734, 'name': '周口', 'parentId': 545, 'code': '170600000', 'isSelected': False}, {'id': 571, 'name': '张家口', 'parentId': 532, 'code': '051000000', 'isSelected': False}, {'id': 705, 'name': '枣庄', 'parentId': 544, 'code': '161900000', 'isSelected': False}, {'id': 579, 'name': '长治', 'parentId': 533, 'code': '061000000', 'isSelected': False}, {'id': 835, 'name': '昭通', 'parentId': 554, 'code': '251300000', 'isSelected': False}, {'id': 818, 'name': '资阳', 'parentId': 552, 'code': '230600000', 'isSelected': False}, {'id': 661, 'name': '舟山', 'parentId': 540, 'code': '122600000', 'isSelected': False}, {'id': 802, 'name': '自贡', 'parentId': 552, 'code': '231400000', 'isSelected': False}, {'id': 906, 'name': '中卫', 'parentId': 559, 'code': '300500000', 'isSelected': False}, {'id': 756, 'name': '张家界', 'parentId': 547, 'code': '190700000', 'isSelected': False}]}}, 'rows': []}}\n"
     ]
    }
   ],
   "source": [
    "# 把json格式字符串转换成python对象\n",
    "josnbj=json.loads(relx)"
   ]
  },
  {
   "cell_type": "code",
   "execution_count": null,
   "id": "c6a8981b",
   "metadata": {
    "collapsed": true,
    "jupyter": {
     "outputs_hidden": true
    }
   },
   "outputs": [
    {
     "name": "stdout",
     "output_type": "stream",
     "text": [
      "['安庆', '安阳', '鞍山', '澳门', '安顺', '阿拉善盟', '阿坝藏族羌族自治州', '北京', '保定', '包头', '蚌埠', '百色', '北海', '宝鸡', '滨州', '毕节', '保山', '巴中', '白银', '亳州', '本溪', '巴彦淖尔', '成都', '长沙', '重庆', '长春', '常州', '沧州', '郴州', '澄迈', '常德', '承德', '滁州', '潮州', '赤峰', '池州', '昌吉', '崇左', '昌都', '楚雄', '东莞', '大连', '德州', '德阳', '大理', '达州', '东营', '大庆', '大同', '丹东', '德宏', '大兴安岭', '鄂尔多斯', '鄂州', '佛山', '福州', '阜阳', '抚顺', '阜新', '抚州', '广州', '贵阳', '赣州', '桂林', '贵港', '甘孜藏族自治州', '广安', '甘南', '广元', '杭州', '合肥', '惠州', '哈尔滨', '湖州', '海口', '呼和浩特', '邯郸', '淮安', '菏泽', '海外', '衡阳', '黄石', '淮北', '衡水', '河源', '黄冈', '淮南', '汉中', '鹤壁', '怀化', '葫芦岛', '红河', '河池', '黄山', '呼伦贝尔', '哈密', '贺州', '黑河', '济南', '嘉兴', '金华', '江门', '九江', '揭阳', '晋中', '济宁', '焦作', '吉林', '景德镇', '荆门', '荆州', '吉安', '晋城', '佳木斯', '锦州', '酒泉', '嘉峪关', '昆明', '开封', '克拉玛依', '廊坊', '临沂', '洛阳', '兰州', '聊城', '连云港', '乐山', '临汾', '柳州', '丽水', '泸州', '拉萨', '龙岩', '六安', '丽江', '凉山彝族自治州', '吕梁', '临沧', '漯河', '六盘水', '来宾', '娄底', '陵水黎族自治县', '辽阳', '绵阳', '茂名', '梅州', '眉山', '马鞍山', '牡丹江', '南京', '宁波', '南昌', '南宁', '南通', '宁德', '南阳', '南充', '南平', '内江', '莆田', '平顶山', '萍乡', '濮阳', '盘锦', '普洱', '攀枝花', '青岛', '泉州', '清远', '秦皇岛', '曲靖', '衢州', '庆阳', '琼海', '黔南', '黔西南', '潜江', '齐齐哈尔', '七台河', '日照', '上海', '深圳', '苏州', '沈阳', '石家庄', '绍兴', '汕头', '三亚', '宿迁', '上饶', '商丘', '韶关', '汕尾', '十堰', '宿州', '邵阳', '随州', '三门峡', '遂宁', '商洛', '三明', '绥化', '朔州', '山南', '三沙', '松原', '四平', '天津', '太原', '台州', '唐山', '泰州', '泰安', '通化', '铜陵', '天水', '铁岭', '通辽', '铜仁', '台湾', '铜川', '天门', '武汉', '无锡', '温州', '芜湖', '潍坊', '威海', '乌鲁木齐', '渭南', '文昌', '梧州', '文山', '乌兰察布', '西安', '厦门', '徐州', '新乡', '襄阳', '咸阳', '邢台', '孝感', '香港', '西宁', '许昌', '信阳', '仙桃', '咸宁', '新余', '湘潭', '兴安盟', '西双版纳', '湘西土家族苗族自治州', '宣城', '锡林郭勒盟', '烟台', '扬州', '银川', '盐城', '宜宾', '宜昌', '岳阳', '宜春', '运城', '阳江', '榆林', '玉林', '益阳', '营口', '玉溪', '雅安', '永州', '延边', '玉树', '阳泉', '延安', '鹰潭', '伊春', '郑州', '珠海', '中山', '淄博', '漳州', '镇江', '肇庆', '湛江', '遵义', '驻马店', '株洲', '周口', '张家口', '枣庄', '长治', '昭通', '资阳', '舟山', '自贡', '中卫', '张家界']\n"
     ]
    }
   ],
   "source": [
    "# 从根节点开始，获取所有key为name的值\n",
    "citylist=jsonpath(josnbj,'$..name')\n",
    "with open(\"./hust.txt\",'w') as f:\n",
    "    content = json.dumps(citylist, ensure_ascii=False)\n",
    "    f.write(content)"
   ]
  },
  {
   "cell_type": "code",
   "execution_count": null,
   "id": "842bb1a4",
   "metadata": {
    "collapsed": true,
    "jupyter": {
     "outputs_hidden": true
    }
   },
   "outputs": [
    {
     "name": "stdout",
     "output_type": "stream",
     "text": [
      "[\"安庆\", \"安阳\", \"鞍山\", \"澳门\", \"安顺\", \"阿拉善盟\", \"阿坝藏族羌族自治州\", \"北京\", \"保定\", \"包头\", \"蚌埠\", \"百色\", \"北海\", \"宝鸡\", \"滨州\", \"毕节\", \"保山\", \"巴中\", \"白银\", \"亳州\", \"本溪\", \"巴彦淖尔\", \"成都\", \"长沙\", \"重庆\", \"长春\", \"常州\", \"沧州\", \"郴州\", \"澄迈\", \"常德\", \"承德\", \"滁州\", \"潮州\", \"赤峰\", \"池州\", \"昌吉\", \"崇左\", \"昌都\", \"楚雄\", \"东莞\", \"大连\", \"德州\", \"德阳\", \"大理\", \"达州\", \"东营\", \"大庆\", \"大同\", \"丹东\", \"德宏\", \"大兴安岭\", \"鄂尔多斯\", \"鄂州\", \"佛山\", \"福州\", \"阜阳\", \"抚顺\", \"阜新\", \"抚州\", \"广州\", \"贵阳\", \"赣州\", \"桂林\", \"贵港\", \"甘孜藏族自治州\", \"广安\", \"甘南\", \"广元\", \"杭州\", \"合肥\", \"惠州\", \"哈尔滨\", \"湖州\", \"海口\", \"呼和浩特\", \"邯郸\", \"淮安\", \"菏泽\", \"海外\", \"衡阳\", \"黄石\", \"淮北\", \"衡水\", \"河源\", \"黄冈\", \"淮南\", \"汉中\", \"鹤壁\", \"怀化\", \"葫芦岛\", \"红河\", \"河池\", \"黄山\", \"呼伦贝尔\", \"哈密\", \"贺州\", \"黑河\", \"济南\", \"嘉兴\", \"金华\", \"江门\", \"九江\", \"揭阳\", \"晋中\", \"济宁\", \"焦作\", \"吉林\", \"景德镇\", \"荆门\", \"荆州\", \"吉安\", \"晋城\", \"佳木斯\", \"锦州\", \"酒泉\", \"嘉峪关\", \"昆明\", \"开封\", \"克拉玛依\", \"廊坊\", \"临沂\", \"洛阳\", \"兰州\", \"聊城\", \"连云港\", \"乐山\", \"临汾\", \"柳州\", \"丽水\", \"泸州\", \"拉萨\", \"龙岩\", \"六安\", \"丽江\", \"凉山彝族自治州\", \"吕梁\", \"临沧\", \"漯河\", \"六盘水\", \"来宾\", \"娄底\", \"陵水黎族自治县\", \"辽阳\", \"绵阳\", \"茂名\", \"梅州\", \"眉山\", \"马鞍山\", \"牡丹江\", \"南京\", \"宁波\", \"南昌\", \"南宁\", \"南通\", \"宁德\", \"南阳\", \"南充\", \"南平\", \"内江\", \"莆田\", \"平顶山\", \"萍乡\", \"濮阳\", \"盘锦\", \"普洱\", \"攀枝花\", \"青岛\", \"泉州\", \"清远\", \"秦皇岛\", \"曲靖\", \"衢州\", \"庆阳\", \"琼海\", \"黔南\", \"黔西南\", \"潜江\", \"齐齐哈尔\", \"七台河\", \"日照\", \"上海\", \"深圳\", \"苏州\", \"沈阳\", \"石家庄\", \"绍兴\", \"汕头\", \"三亚\", \"宿迁\", \"上饶\", \"商丘\", \"韶关\", \"汕尾\", \"十堰\", \"宿州\", \"邵阳\", \"随州\", \"三门峡\", \"遂宁\", \"商洛\", \"三明\", \"绥化\", \"朔州\", \"山南\", \"三沙\", \"松原\", \"四平\", \"天津\", \"太原\", \"台州\", \"唐山\", \"泰州\", \"泰安\", \"通化\", \"铜陵\", \"天水\", \"铁岭\", \"通辽\", \"铜仁\", \"台湾\", \"铜川\", \"天门\", \"武汉\", \"无锡\", \"温州\", \"芜湖\", \"潍坊\", \"威海\", \"乌鲁木齐\", \"渭南\", \"文昌\", \"梧州\", \"文山\", \"乌兰察布\", \"西安\", \"厦门\", \"徐州\", \"新乡\", \"襄阳\", \"咸阳\", \"邢台\", \"孝感\", \"香港\", \"西宁\", \"许昌\", \"信阳\", \"仙桃\", \"咸宁\", \"新余\", \"湘潭\", \"兴安盟\", \"西双版纳\", \"湘西土家族苗族自治州\", \"宣城\", \"锡林郭勒盟\", \"烟台\", \"扬州\", \"银川\", \"盐城\", \"宜宾\", \"宜昌\", \"岳阳\", \"宜春\", \"运城\", \"阳江\", \"榆林\", \"玉林\", \"益阳\", \"营口\", \"玉溪\", \"雅安\", \"永州\", \"延边\", \"玉树\", \"阳泉\", \"延安\", \"鹰潭\", \"伊春\", \"郑州\", \"珠海\", \"中山\", \"淄博\", \"漳州\", \"镇江\", \"肇庆\", \"湛江\", \"遵义\", \"驻马店\", \"株洲\", \"周口\", \"张家口\", \"枣庄\", \"长治\", \"昭通\", \"资阳\", \"舟山\", \"自贡\", \"中卫\", \"张家界\"]\n"
     ]
    }
   ],
   "source": [
    "with open('./hust.txt','r') as f:\n",
    "    data=f.read()\n",
    "    print(data)"
   ]
  },
  {
   "attachments": {},
   "cell_type": "markdown",
   "id": "e238a6c8",
   "metadata": {},
   "source": [
    "# python中的lxml模块"
   ]
  },
  {
   "cell_type": "code",
   "execution_count": null,
   "id": "9cecb8c6",
   "metadata": {},
   "outputs": [],
   "source": [
    "from lxml import etree"
   ]
  },
  {
   "cell_type": "code",
   "execution_count": null,
   "id": "1316392b",
   "metadata": {},
   "outputs": [],
   "source": [
    "text = '''\n",
    "<div>\n",
    "<ul>\n",
    "  <li class=\"item-1\">\n",
    "    <a href=\"link1.html\">first item</a>\n",
    "  </li>\n",
    "  <li class=\"item-1\">\n",
    "    <a href=\"link2.html\">second item</a>\n",
    "  </li>\n",
    "  <li class=\"item-inactive\">\n",
    "    <a href=\"link3.html\">third item</a>\n",
    "  </li>\n",
    "  <li class=\"item-1\">\n",
    "    <a href=\"link4.html\">fourth item</a>\n",
    "  </li>\n",
    "  <li class=\"item-0\">\n",
    "    a href=\"link5.html\">fifth item</a>\n",
    "</ul>\n",
    "</div>'''"
   ]
  },
  {
   "cell_type": "code",
   "execution_count": null,
   "id": "22cb0277",
   "metadata": {},
   "outputs": [],
   "source": [
    "#利用etree.HTML，将字符串转化为Element对象,Element对象具有xpath的方法,返回结果的列表\n",
    "html_l=etree.HTML(text)"
   ]
  },
  {
   "cell_type": "code",
   "execution_count": null,
   "id": "b8eb55a6",
   "metadata": {
    "collapsed": true,
    "jupyter": {
     "outputs_hidden": true
    }
   },
   "outputs": [
    {
     "name": "stdout",
     "output_type": "stream",
     "text": [
      "['link1.html', 'link2.html', 'link4.html'] ['first item', 'second item', 'fourth item']\n"
     ]
    }
   ],
   "source": [
    "#使用xpath提取\n",
    "href_list=html_l.xpath(\"//li[@class='item-1']/a/@href\")\n",
    "title_list=html_l.xpath(\"//li[@class='item-1']/a/text()\")\n",
    "print(href_list,title_list)"
   ]
  },
  {
   "cell_type": "code",
   "execution_count": null,
   "id": "732d06d2",
   "metadata": {},
   "outputs": [
    {
     "name": "stdout",
     "output_type": "stream",
     "text": [
      "{'href': 'link4.html', 'title': 'first item'}\n"
     ]
    }
   ],
   "source": [
    "for href in href_list:\n",
    "    item={}\n",
    "    item[\"href\"]=href\n",
    "    item[\"title\"]=title_list[href.index(href)]\n",
    "print(item)"
   ]
  },
  {
   "cell_type": "code",
   "execution_count": null,
   "id": "2bc4865c",
   "metadata": {},
   "outputs": [
    {
     "name": "stdout",
     "output_type": "stream",
     "text": [
      "[<Element li at 0x1bfd2e7cdc0>, <Element li at 0x1bfd2e79d40>, <Element li at 0x1bfd2e79fc0>]\n"
     ]
    }
   ],
   "source": [
    "li_list=html_l.xpath(\"//li[@class='item-1']\")"
   ]
  },
  {
   "cell_type": "code",
   "execution_count": null,
   "id": "1b7e7672",
   "metadata": {},
   "outputs": [
    {
     "name": "stdout",
     "output_type": "stream",
     "text": [
      "{'href': 'link1.html', 'title': 'first item'}\n",
      "{'href': 'link2.html', 'title': 'second item'}\n",
      "{'href': 'link4.html', 'title': 'fourth item'}\n"
     ]
    }
   ],
   "source": [
    "for li in li_list:\n",
    "    item={}\n",
    "    item[\"href\"]=li.xpath(\"./a/@href\")[0] if len(li.xpath(\"./a/@href\"))>0 else None\n",
    "    item[\"title\"]=li.xpath(\"./a/text()\")[0] if len(li.xpath(\"./a/text()\"))>0 else None\n",
    "    print(item)"
   ]
  },
  {
   "attachments": {},
   "cell_type": "markdown",
   "id": "6649379f",
   "metadata": {},
   "source": [
    "# python中的requests模块"
   ]
  },
  {
   "cell_type": "code",
   "execution_count": null,
   "id": "ee6d053d",
   "metadata": {},
   "outputs": [],
   "source": [
    "import requests"
   ]
  },
  {
   "cell_type": "code",
   "execution_count": null,
   "id": "efdec01e",
   "metadata": {},
   "outputs": [],
   "source": [
    "# 发送请求\n",
    "data=requests.get('http://image.baidu.com/search/index?tn=baiduimage&word=皮卡丘')"
   ]
  },
  {
   "cell_type": "code",
   "execution_count": null,
   "id": "414d3610",
   "metadata": {
    "collapsed": true,
    "jupyter": {
     "outputs_hidden": true
    }
   },
   "outputs": [
    {
     "name": "stdout",
     "output_type": "stream",
     "text": [
      "<!DOCTYPE html>\n",
      "<html lang=\"zh-CN\">\n",
      "<head>\n",
      "    <meta charset=\"utf-8\">\n",
      "    <title>ç¾åº¦å®å\n",
      "¨éªè¯</title>\n",
      "    <meta http-equiv=\"Content-Type\" content=\"text/html; charset=utf-8\">\n",
      "    <meta name=\"apple-mobile-web-app-capable\" content=\"yes\">\n",
      "    <meta name=\"apple-mobile-web-app-status-bar-style\" content=\"black\">\n",
      "    <meta name=\"viewport\" content=\"width=device-width, user-scalable=no, initial-scale=1.0, minimum-scale=1.0, maximum-scale=1.0\">\n",
      "    <meta name=\"format-detection\" content=\"telephone=no, email=no\">\n",
      "    <link rel=\"shortcut icon\" href=\"https://www.baidu.com/favicon.ico\" type=\"image/x-icon\">\n",
      "    <link rel=\"icon\" sizes=\"any\" mask href=\"https://www.baidu.com/img/baidu.svg\">\n",
      "    <meta http-equiv=\"X-UA-Compatible\" content=\"IE=Edge\">\n",
      "    <meta http-equiv=\"Content-Security-Policy\" content=\"upgrade-insecure-requests\">\n",
      "    <link rel=\"stylesheet\" href=\"https://ppui-static-wap.cdn.bcebos.com/static/touch/css/api/mkdjump_aac6df1.css\" />\n",
      "</head>\n",
      "<body>\n",
      "    <div class=\"timeout hide\">\n",
      "        <div class=\"timeout-img\"></div>\n",
      "        <div class=\"timeout-title\">ç½ç»ä¸ç»åï¼è¯·ç¨åéè¯</div>\n",
      "        <button type=\"button\" class=\"timeout-button\">è¿åé¦é¡µ</button>\n",
      "    </div>\n",
      "    <div class=\"timeout-feedback hide\">\n",
      "        <div class=\"timeout-feedback-icon\"></div>\n",
      "        <p class=\"timeout-feedback-title\">é®é¢åé¦</p>\n",
      "    </div>\n",
      "\n",
      "<script src=\"https://wappass.baidu.com/static/machine/js/api/mkd.js\"></script>\n",
      "<script src=\"https://ppui-static-wap.cdn.bcebos.com/static/touch/js/mkdjump_db105ab.js\"></script>\n",
      "</body>\n",
      "</html>\n"
     ]
    }
   ],
   "source": [
    "#返回数据\n",
    "print(data.text)"
   ]
  },
  {
   "attachments": {},
   "cell_type": "markdown",
   "id": "e17c6638",
   "metadata": {},
   "source": [
    "# python中的re模块"
   ]
  },
  {
   "cell_type": "code",
   "execution_count": null,
   "id": "9e2acc41",
   "metadata": {},
   "outputs": [],
   "source": [
    "import re"
   ]
  },
  {
   "attachments": {},
   "cell_type": "markdown",
   "id": "92e9e124",
   "metadata": {},
   "source": [
    "## re.match函数"
   ]
  },
  {
   "cell_type": "code",
   "execution_count": null,
   "id": "8e23f35e",
   "metadata": {},
   "outputs": [
    {
     "name": "stdout",
     "output_type": "stream",
     "text": [
      "匹配失败\n"
     ]
    }
   ],
   "source": [
    "#匹配第一个字符必须对（必须是h）\n",
    "res='hellow world'\n",
    "str=re.match('e',res) #以xx为开头\n",
    "if str:\n",
    "    print(str)\n",
    "    print(str.group())\n",
    "else:\n",
    "    print('匹配失败')"
   ]
  },
  {
   "cell_type": "code",
   "execution_count": null,
   "id": "a0dab739",
   "metadata": {},
   "outputs": [
    {
     "name": "stdout",
     "output_type": "stream",
     "text": [
      "h\n"
     ]
    }
   ],
   "source": [
    "# 常用匹配规则\n",
    "# .匹配任意一个字符，除了/n\n",
    "ress=re.match('[ho]',res)\n",
    "print(ress.group(0))"
   ]
  },
  {
   "cell_type": "code",
   "execution_count": null,
   "id": "d6bace71",
   "metadata": {},
   "outputs": [
    {
     "name": "stdout",
     "output_type": "stream",
     "text": [
      "<re.Match object; span=(2, 5), match='r12'>\n",
      "None\n",
      "<re.Match object; span=(2, 3), match=' '>\n"
     ]
    }
   ],
   "source": [
    "#匹配数字\n",
    "res=re.search('r\\d\\d','usr12d')\n",
    "res2=re.search('\\s','17 di')\n",
    "res1=re.match('213','7105213859')\n",
    "print(res)\n",
    "print(res1)\n",
    "print(res2)"
   ]
  },
  {
   "cell_type": "code",
   "execution_count": null,
   "id": "9484255a",
   "metadata": {},
   "outputs": [
    {
     "name": "stdout",
     "output_type": "stream",
     "text": [
      "dDD\n"
     ]
    }
   ],
   "source": [
    "#*匹配前一个字符出现的次数\n",
    "res3=re.match('[a-z][A-N]*','dDD')\n",
    "print(res3.group())"
   ]
  },
  {
   "cell_type": "code",
   "execution_count": null,
   "id": "4a6c23bf",
   "metadata": {},
   "outputs": [
    {
     "name": "stdout",
     "output_type": "stream",
     "text": [
      "fgAE\n"
     ]
    }
   ],
   "source": [
    "#+\n",
    "res4=re.match('fg[A-Z]+','fgAEdi')\n",
    "print(res4.group())"
   ]
  },
  {
   "cell_type": "code",
   "execution_count": null,
   "id": "558d1b6e",
   "metadata": {},
   "outputs": [
    {
     "name": "stdout",
     "output_type": "stream",
     "text": [
      "1343\n"
     ]
    }
   ],
   "source": [
    "# #{}\n",
    "res5=re.match('\\d{3,}','1343')\n",
    "print(res5.group())"
   ]
  },
  {
   "cell_type": "code",
   "execution_count": null,
   "id": "c8f8ff0f",
   "metadata": {},
   "outputs": [
    {
     "name": "stdout",
     "output_type": "stream",
     "text": [
      "\\n\n",
      "\\n\n",
      "hellow\n"
     ]
    }
   ],
   "source": [
    "#在正则前面加r，就不会转义\n",
    "print('\\\\n')\n",
    "print(r'\\n')\n",
    "rel=re.match('hellow',\"hellow world\")\n",
    "print(rel.group())"
   ]
  },
  {
   "cell_type": "code",
   "execution_count": null,
   "id": "e387155b",
   "metadata": {
    "collapsed": true,
    "jupyter": {
     "outputs_hidden": true
    }
   },
   "outputs": [
    {
     "name": "stdout",
     "output_type": "stream",
     "text": [
      "rwe\n",
      "rbw\n",
      "3bb\n",
      "3bb\n"
     ]
    }
   ],
   "source": [
    "#匹配单个字符\n",
    "ret=re.match('r.e','rwe')\n",
    "print(ret.group())\n",
    "ret1=re.match('r[a-c]w','rbwe')\n",
    "print(ret1.group())\n",
    "ret2=re.match('[2-47-9]bb','3bbc')\n",
    "ret3=re.match('\\dbb','3bbc')\n",
    "print(ret2.group())\n",
    "print(ret3.group())"
   ]
  },
  {
   "cell_type": "code",
   "execution_count": null,
   "id": "b3bbcce4",
   "metadata": {},
   "outputs": [
    {
     "name": "stdout",
     "output_type": "stream",
     "text": [
      "abvvvv\n",
      "abbv\n",
      "av\n",
      "bvvvvv\n",
      "veee\n"
     ]
    }
   ],
   "source": [
    "#匹配多个字符\n",
    "rel=re.match('abv*','abvvvv')\n",
    "print(rel.group())\n",
    "rel1=re.match('ab+v','abbvv')\n",
    "print(rel1.group())\n",
    "rel2=re.match('ab?v','avv')\n",
    "print(rel2.group())\n",
    "rel3=re.match('bv{5}','bvvvvvdd')\n",
    "print(rel3.group())\n",
    "rel4=re.match('ve{2,4}','veee')\n",
    "print(rel4.group())"
   ]
  },
  {
   "cell_type": "code",
   "execution_count": null,
   "id": "a088f5b0",
   "metadata": {},
   "outputs": [
    {
     "name": "stdout",
     "output_type": "stream",
     "text": [
      "xiaoWang@163.com是符合规定的地址，匹配后的地址是xiaoWang@163.com\n",
      "xiaoWang@163.comheihei不是符合规定的地址\n",
      ".com.xiaowang@qq.com不是符合规定的地址\n"
     ]
    }
   ],
   "source": [
    "#匹配开头和结尾\n",
    "email_list = [\"xiaoWang@163.com\", \"xiaoWang@163.comheihei\", \".com.xiaowang@qq.com\"]\n",
    "for emil in email_list:\n",
    "    reg=re.match('[\\w]{4,20}@163\\.com$',emil)\n",
    "    if reg:\n",
    "        print('%s是符合规定的地址，匹配后的地址是%s'%(emil,reg.group()))\n",
    "    else:\n",
    "        print('%s不是符合规定的地址'%(emil))"
   ]
  },
  {
   "cell_type": "code",
   "execution_count": null,
   "id": "9222c9e0",
   "metadata": {},
   "outputs": [
    {
     "name": "stdout",
     "output_type": "stream",
     "text": [
      "18\n",
      "yingtel@136.com\n",
      "<html>www<html>\n"
     ]
    }
   ],
   "source": [
    "#匹配分组\n",
    "#|\n",
    "reh=re.match('[1-9]?\\d$|100','18')\n",
    "print(reh.group())\n",
    "#()\n",
    "reh1=re.match('\\w{4,20}@(126|136|qq)\\.com','yingtel@136.com')\n",
    "print(reh1.group())\n",
    "#\\number\n",
    "reh2=re.match(r'<([a-zA-Z]*)>\\w*<\\1>','<html>www<html>')\n",
    "print(reh2.group())"
   ]
  },
  {
   "attachments": {},
   "cell_type": "markdown",
   "id": "7e100264",
   "metadata": {},
   "source": [
    "## re.compile 函数"
   ]
  },
  {
   "cell_type": "code",
   "execution_count": null,
   "id": "98ea079b",
   "metadata": {
    "collapsed": true,
    "jupyter": {
     "outputs_hidden": true
    }
   },
   "outputs": [
    {
     "name": "stdout",
     "output_type": "stream",
     "text": [
      "12\n",
      "5\n",
      "3\n",
      "(3, 5)\n"
     ]
    }
   ],
   "source": [
    "#compile 函数用于编译正则表达式，生成一个正则表达式（ Pattern ）对象，供 match() 和 search() 这两个函数使用\n",
    "pattern = re.compile(r'\\d+')\n",
    "m = pattern.match('one12twothree34four', 3, 10)\n",
    "#group()用来提出分组截获的字符串\n",
    "print(m.group())\n",
    "print(m.end()) #末尾+1\n",
    "print(m.start())\n",
    "print(m.span())"
   ]
  },
  {
   "attachments": {},
   "cell_type": "markdown",
   "id": "e2a5c1b7",
   "metadata": {},
   "source": [
    "## re.search()函数"
   ]
  },
  {
   "cell_type": "code",
   "execution_count": null,
   "id": "c19ea91a",
   "metadata": {},
   "outputs": [
    {
     "name": "stdout",
     "output_type": "stream",
     "text": [
      "9999\n",
      "None\n"
     ]
    }
   ],
   "source": [
    "ret = re.search(r\"\\d+\", \"阅读次数为9999\")\n",
    "ret1 = re.match(r\"\\d+\",'阅读次数为9999')\n",
    "print(ret.group())\n",
    "print(ret1)"
   ]
  },
  {
   "attachments": {},
   "cell_type": "markdown",
   "id": "781f4f2c",
   "metadata": {},
   "source": [
    "## re.findall()函数"
   ]
  },
  {
   "cell_type": "code",
   "execution_count": null,
   "id": "722c2763",
   "metadata": {},
   "outputs": [
    {
     "name": "stdout",
     "output_type": "stream",
     "text": [
      "['9999', '7890', '12345']\n"
     ]
    }
   ],
   "source": [
    "ret = re.findall(r\"\\d+\", \"python = 9999, c = 7890, c++ = 12345\")\n",
    "print(ret)"
   ]
  },
  {
   "attachments": {},
   "cell_type": "markdown",
   "id": "82796460",
   "metadata": {},
   "source": [
    "## re.finditer函数"
   ]
  },
  {
   "cell_type": "code",
   "execution_count": null,
   "id": "0d9c993b",
   "metadata": {},
   "outputs": [
    {
     "name": "stdout",
     "output_type": "stream",
     "text": [
      "12\n",
      "32\n",
      "43\n",
      "3\n"
     ]
    }
   ],
   "source": [
    "it = re.finditer(r\"\\d+\", \"12a32bc43jf3\")\n",
    "for match in it:\n",
    "    print(match.group())"
   ]
  },
  {
   "attachments": {},
   "cell_type": "markdown",
   "id": "58250bcb",
   "metadata": {},
   "source": [
    "## re.sub函数"
   ]
  },
  {
   "cell_type": "code",
   "execution_count": null,
   "id": "df19f474",
   "metadata": {},
   "outputs": [
    {
     "name": "stdout",
     "output_type": "stream",
     "text": [
      "python = 998\n"
     ]
    }
   ],
   "source": [
    "ret = re.sub(r\"\\d+\", '998', \"python = 997\")\n",
    "print(ret)"
   ]
  },
  {
   "attachments": {},
   "cell_type": "markdown",
   "id": "3be3f17d",
   "metadata": {},
   "source": [
    "## re.split函数"
   ]
  },
  {
   "cell_type": "code",
   "execution_count": null,
   "id": "b118fd9b",
   "metadata": {},
   "outputs": [
    {
     "name": "stdout",
     "output_type": "stream",
     "text": [
      "['info', 'xiaoZhang', '33', 'shandong']\n"
     ]
    }
   ],
   "source": [
    "ret = re.split(r\":| \",\"info:xiaoZhang 33 shandong\")\n",
    "print(ret)"
   ]
  },
  {
   "attachments": {},
   "cell_type": "markdown",
   "id": "c62d03c9",
   "metadata": {},
   "source": [
    "## 贪婪和非贪婪"
   ]
  },
  {
   "cell_type": "code",
   "execution_count": null,
   "id": "c2acd64e",
   "metadata": {},
   "outputs": [
    {
     "data": {
      "text/plain": [
       "'2343'"
      ]
     },
     "execution_count": 108,
     "metadata": {},
     "output_type": "execute_result"
    }
   ],
   "source": [
    "re.match(r\"aa(\\d+)\",\"aa2343ddd\").group(1)"
   ]
  },
  {
   "cell_type": "code",
   "execution_count": null,
   "id": "6e83c5c1",
   "metadata": {},
   "outputs": [
    {
     "data": {
      "text/plain": [
       "'2'"
      ]
     },
     "execution_count": 109,
     "metadata": {},
     "output_type": "execute_result"
    }
   ],
   "source": [
    "re.match(r\"aa(\\d+?)\",\"aa2343ddd\").group(1)"
   ]
  },
  {
   "cell_type": "code",
   "execution_count": null,
   "id": "53c133c4",
   "metadata": {},
   "outputs": [
    {
     "data": {
      "text/plain": [
       "'2343'"
      ]
     },
     "execution_count": 110,
     "metadata": {},
     "output_type": "execute_result"
    }
   ],
   "source": [
    "re.match(r\"aa(\\d+)ddd\",\"aa2343ddd\").group(1)"
   ]
  },
  {
   "cell_type": "code",
   "execution_count": null,
   "id": "b798fc31",
   "metadata": {},
   "outputs": [
    {
     "data": {
      "text/plain": [
       "'2343'"
      ]
     },
     "execution_count": 111,
     "metadata": {},
     "output_type": "execute_result"
    }
   ],
   "source": [
    "re.match(r\"aa(\\d+?)ddd\",\"aa2343ddd\").group(1)"
   ]
  },
  {
   "cell_type": "code",
   "execution_count": null,
   "id": "d29da7ae",
   "metadata": {},
   "outputs": [],
   "source": []
  }
 ],
 "metadata": {
  "kernelspec": {
   "display_name": "Python 3 (ipykernel)",
   "language": "python",
   "name": "python3"
  },
  "language_info": {
   "codemirror_mode": {
    "name": "ipython",
    "version": 3
   },
   "file_extension": ".py",
   "mimetype": "text/x-python",
   "name": "python",
   "nbconvert_exporter": "python",
   "pygments_lexer": "ipython3",
   "version": "3.9.13"
  },
  "toc": {
   "base_numbering": 1,
   "nav_menu": {},
   "number_sections": true,
   "sideBar": true,
   "skip_h1_title": false,
   "title_cell": "Table of Contents",
   "title_sidebar": "Contents",
   "toc_cell": false,
   "toc_position": {
    "height": "calc(100% - 180px)",
    "left": "10px",
    "top": "150px",
    "width": "219px"
   },
   "toc_section_display": true,
   "toc_window_display": true
  },
  "varInspector": {
   "cols": {
    "lenName": 16,
    "lenType": 16,
    "lenVar": 40
   },
   "kernels_config": {
    "python": {
     "delete_cmd_postfix": "",
     "delete_cmd_prefix": "del ",
     "library": "var_list.py",
     "varRefreshCmd": "print(var_dic_list())"
    },
    "r": {
     "delete_cmd_postfix": ") ",
     "delete_cmd_prefix": "rm(",
     "library": "var_list.r",
     "varRefreshCmd": "cat(var_dic_list()) "
    }
   },
   "types_to_exclude": [
    "module",
    "function",
    "builtin_function_or_method",
    "instance",
    "_Feature"
   ],
   "window_display": false
  }
 },
 "nbformat": 4,
 "nbformat_minor": 5
}
